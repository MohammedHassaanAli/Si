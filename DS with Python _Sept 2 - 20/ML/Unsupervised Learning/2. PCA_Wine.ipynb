{
 "cells": [
  {
   "cell_type": "markdown",
   "metadata": {},
   "source": [
    "## PCA on Wine Data"
   ]
  },
  {
   "cell_type": "markdown",
   "metadata": {},
   "source": [
    "### Eign Vector Decomposition\n",
    "If we multiply matrix A with its eigen vector, then all that can be altered is the scale of this eigen vector. This means that eigen vector when multiplied by the matrix, it leads to a scalar multiple of itself. If there are n feature columns, ie nXn correlation / covariance matrix, then the matrix can be decomposed into n eigen vectors and corresponding n eighen values. Each principal component refers to the eigen vectors and lambda or the corresponding eigen value refers to the variance explained by that pc ."
   ]
  },
  {
   "cell_type": "code",
   "execution_count": 2,
   "metadata": {},
   "outputs": [],
   "source": [
    "import pandas as pd\n",
    "import numpy as np\n",
    "import matplotlib.pyplot as plt\n",
    "from sklearn.preprocessing import scale\n",
    "from sklearn.decomposition import PCA\n",
    "from sklearn.preprocessing import StandardScaler"
   ]
  },
  {
   "cell_type": "code",
   "execution_count": 3,
   "metadata": {},
   "outputs": [
    {
     "name": "stdout",
     "output_type": "stream",
     "text": [
      "<class 'pandas.core.frame.DataFrame'>\n",
      "Int64Index: 25 entries, 1952 to 1978\n",
      "Data columns (total 6 columns):\n",
      "Price          25 non-null float64\n",
      "WinterRain     25 non-null int64\n",
      "AGST           25 non-null float64\n",
      "HarvestRain    25 non-null int64\n",
      "Age            25 non-null int64\n",
      "FrancePop      25 non-null float64\n",
      "dtypes: float64(3), int64(3)\n",
      "memory usage: 1.4 KB\n"
     ]
    }
   ],
   "source": [
    "wine = pd.read_csv('C:\\\\Users\\\\Vaibhav\\\\Desktop\\\\BA\\\\Datasets\\\\wine.csv', index_col=0)\n",
    "wine.info()"
   ]
  },
  {
   "cell_type": "code",
   "execution_count": 4,
   "metadata": {},
   "outputs": [
    {
     "data": {
      "text/html": [
       "<div>\n",
       "<style scoped>\n",
       "    .dataframe tbody tr th:only-of-type {\n",
       "        vertical-align: middle;\n",
       "    }\n",
       "\n",
       "    .dataframe tbody tr th {\n",
       "        vertical-align: top;\n",
       "    }\n",
       "\n",
       "    .dataframe thead th {\n",
       "        text-align: right;\n",
       "    }\n",
       "</style>\n",
       "<table border=\"1\" class=\"dataframe\">\n",
       "  <thead>\n",
       "    <tr style=\"text-align: right;\">\n",
       "      <th></th>\n",
       "      <th>Price</th>\n",
       "      <th>WinterRain</th>\n",
       "      <th>AGST</th>\n",
       "      <th>HarvestRain</th>\n",
       "      <th>Age</th>\n",
       "      <th>FrancePop</th>\n",
       "    </tr>\n",
       "    <tr>\n",
       "      <th>Year</th>\n",
       "      <th></th>\n",
       "      <th></th>\n",
       "      <th></th>\n",
       "      <th></th>\n",
       "      <th></th>\n",
       "      <th></th>\n",
       "    </tr>\n",
       "  </thead>\n",
       "  <tbody>\n",
       "    <tr>\n",
       "      <th>1952</th>\n",
       "      <td>7.4950</td>\n",
       "      <td>600</td>\n",
       "      <td>17.1167</td>\n",
       "      <td>160</td>\n",
       "      <td>31</td>\n",
       "      <td>43183.569</td>\n",
       "    </tr>\n",
       "    <tr>\n",
       "      <th>1953</th>\n",
       "      <td>8.0393</td>\n",
       "      <td>690</td>\n",
       "      <td>16.7333</td>\n",
       "      <td>80</td>\n",
       "      <td>30</td>\n",
       "      <td>43495.030</td>\n",
       "    </tr>\n",
       "    <tr>\n",
       "      <th>1955</th>\n",
       "      <td>7.6858</td>\n",
       "      <td>502</td>\n",
       "      <td>17.1500</td>\n",
       "      <td>130</td>\n",
       "      <td>28</td>\n",
       "      <td>44217.857</td>\n",
       "    </tr>\n",
       "  </tbody>\n",
       "</table>\n",
       "</div>"
      ],
      "text/plain": [
       "       Price  WinterRain     AGST  HarvestRain  Age  FrancePop\n",
       "Year                                                          \n",
       "1952  7.4950         600  17.1167          160   31  43183.569\n",
       "1953  8.0393         690  16.7333           80   30  43495.030\n",
       "1955  7.6858         502  17.1500          130   28  44217.857"
      ]
     },
     "execution_count": 4,
     "metadata": {},
     "output_type": "execute_result"
    }
   ],
   "source": [
    "wine.head(3)"
   ]
  },
  {
   "cell_type": "code",
   "execution_count": 5,
   "metadata": {},
   "outputs": [
    {
     "data": {
      "text/plain": [
       "Index(['WinterRain', 'AGST', 'HarvestRain', 'Age', 'FrancePop'], dtype='object')"
      ]
     },
     "execution_count": 5,
     "metadata": {},
     "output_type": "execute_result"
    }
   ],
   "source": [
    "wine.columns[1:7]"
   ]
  },
  {
   "cell_type": "markdown",
   "metadata": {},
   "source": [
    "### Applying PCA on relevant predictors"
   ]
  },
  {
   "cell_type": "code",
   "execution_count": 6,
   "metadata": {},
   "outputs": [
    {
     "data": {
      "text/html": [
       "<div>\n",
       "<style scoped>\n",
       "    .dataframe tbody tr th:only-of-type {\n",
       "        vertical-align: middle;\n",
       "    }\n",
       "\n",
       "    .dataframe tbody tr th {\n",
       "        vertical-align: top;\n",
       "    }\n",
       "\n",
       "    .dataframe thead th {\n",
       "        text-align: right;\n",
       "    }\n",
       "</style>\n",
       "<table border=\"1\" class=\"dataframe\">\n",
       "  <thead>\n",
       "    <tr style=\"text-align: right;\">\n",
       "      <th></th>\n",
       "      <th>WinterRain</th>\n",
       "      <th>AGST</th>\n",
       "      <th>HarvestRain</th>\n",
       "      <th>Age</th>\n",
       "      <th>FrancePop</th>\n",
       "    </tr>\n",
       "    <tr>\n",
       "      <th>Year</th>\n",
       "      <th></th>\n",
       "      <th></th>\n",
       "      <th></th>\n",
       "      <th></th>\n",
       "      <th></th>\n",
       "    </tr>\n",
       "  </thead>\n",
       "  <tbody>\n",
       "    <tr>\n",
       "      <th>1952</th>\n",
       "      <td>600</td>\n",
       "      <td>17.1167</td>\n",
       "      <td>160</td>\n",
       "      <td>31</td>\n",
       "      <td>43183.569</td>\n",
       "    </tr>\n",
       "    <tr>\n",
       "      <th>1953</th>\n",
       "      <td>690</td>\n",
       "      <td>16.7333</td>\n",
       "      <td>80</td>\n",
       "      <td>30</td>\n",
       "      <td>43495.030</td>\n",
       "    </tr>\n",
       "    <tr>\n",
       "      <th>1955</th>\n",
       "      <td>502</td>\n",
       "      <td>17.1500</td>\n",
       "      <td>130</td>\n",
       "      <td>28</td>\n",
       "      <td>44217.857</td>\n",
       "    </tr>\n",
       "  </tbody>\n",
       "</table>\n",
       "</div>"
      ],
      "text/plain": [
       "      WinterRain     AGST  HarvestRain  Age  FrancePop\n",
       "Year                                                  \n",
       "1952         600  17.1167          160   31  43183.569\n",
       "1953         690  16.7333           80   30  43495.030\n",
       "1955         502  17.1500          130   28  44217.857"
      ]
     },
     "execution_count": 6,
     "metadata": {},
     "output_type": "execute_result"
    }
   ],
   "source": [
    "wine.iloc[:3,1:7]"
   ]
  },
  {
   "cell_type": "code",
   "execution_count": 7,
   "metadata": {},
   "outputs": [],
   "source": [
    "scalar = StandardScaler()"
   ]
  },
  {
   "cell_type": "code",
   "execution_count": 8,
   "metadata": {},
   "outputs": [
    {
     "data": {
      "text/plain": [
       "StandardScaler(copy=True, with_mean=True, with_std=True)"
      ]
     },
     "execution_count": 8,
     "metadata": {},
     "output_type": "execute_result"
    }
   ],
   "source": [
    "scalar.fit(wine.iloc[:,1:7])"
   ]
  },
  {
   "cell_type": "code",
   "execution_count": 9,
   "metadata": {},
   "outputs": [
    {
     "data": {
      "text/plain": [
       "array([[-0.04073904,  0.91781344,  0.15689311,  1.83106988, -1.81299772],\n",
       "       [ 0.65367643,  0.33844148, -0.9402615 ,  1.69838366, -1.72626917],\n",
       "       [-0.79688033,  0.96813448, -0.25453987,  1.43301121, -1.52499282],\n",
       "       [-1.42956998, -0.56824391, -0.52882852,  1.16763876, -1.26480385],\n",
       "       [-0.17962214, -0.13998618,  0.52718279,  1.03495254, -1.12514283],\n",
       "       [-0.9280477 ,  1.47179821,  0.52718279,  0.90226632, -0.99292218],\n",
       "       [ 1.21692453, -0.13998618,  1.93976934,  0.76958009, -0.86612477],\n",
       "       [ 1.73387827,  1.24512687, -1.51626767,  0.63689387, -0.71464129],\n",
       "       [ 0.70768652, -0.31633649, -1.32426561,  0.50420765, -0.44713641],\n",
       "       [ 0.02098678, -1.1977858 ,  0.08832095,  0.37152142, -0.24934356],\n",
       "       [-1.56845308,  1.14448479, -0.72083058,  0.2388352 , -0.09397755],\n",
       "       [-0.02530759, -1.72668561,  1.6243374 ,  0.10614898,  0.02990191],\n",
       "       [ 1.64900527,  0.03621301, -0.8579749 , -0.02653724,  0.15608338],\n",
       "       [ 0.83885389, -0.41712968, -0.41911306, -0.15922347,  0.26619648],\n",
       "       [ 0.03641823, -0.46745072,  1.96719821, -0.29190969,  0.37312597],\n",
       "       [-0.23363223,  0.06144909,  1.30890545, -0.42459591,  0.49449514],\n",
       "       [ 0.12900696,  0.2377994 , -0.8168316 , -0.55728214,  0.61927541],\n",
       "       [-0.41880969,  0.38891363, -0.50139966, -0.68996836,  0.76219578],\n",
       "       [-0.5345456 , -2.30605757,  0.12946424, -0.82265458,  0.89099224],\n",
       "       [-1.76906199,  0.84225633, -0.3505409 , -0.95534081,  1.01312967],\n",
       "       [-0.24134795, -0.31633649,  0.48603949, -1.08802703,  1.11248458],\n",
       "       [-0.25677941,  0.66590602,  0.30775187, -1.22071325,  1.18639602],\n",
       "       [-1.44500144,  1.72370564,  1.35004874, -1.35339948,  1.24320323],\n",
       "       [ 1.66443673, -1.39937219, -0.84426047, -1.4860857 ,  1.3042725 ],\n",
       "       [ 1.21692453, -1.04667157, -1.33798004, -1.61877192,  1.36659984]])"
      ]
     },
     "execution_count": 9,
     "metadata": {},
     "output_type": "execute_result"
    }
   ],
   "source": [
    "scalar.transform(wine.iloc[:,1:7])"
   ]
  },
  {
   "cell_type": "code",
   "execution_count": 10,
   "metadata": {},
   "outputs": [
    {
     "data": {
      "text/html": [
       "<div>\n",
       "<style scoped>\n",
       "    .dataframe tbody tr th:only-of-type {\n",
       "        vertical-align: middle;\n",
       "    }\n",
       "\n",
       "    .dataframe tbody tr th {\n",
       "        vertical-align: top;\n",
       "    }\n",
       "\n",
       "    .dataframe thead th {\n",
       "        text-align: right;\n",
       "    }\n",
       "</style>\n",
       "<table border=\"1\" class=\"dataframe\">\n",
       "  <thead>\n",
       "    <tr style=\"text-align: right;\">\n",
       "      <th></th>\n",
       "      <th>WinterRain</th>\n",
       "      <th>AGST</th>\n",
       "      <th>HarvestRain</th>\n",
       "      <th>Age</th>\n",
       "      <th>FrancePop</th>\n",
       "    </tr>\n",
       "  </thead>\n",
       "  <tbody>\n",
       "    <tr>\n",
       "      <th>0</th>\n",
       "      <td>-0.040739</td>\n",
       "      <td>0.917813</td>\n",
       "      <td>0.156893</td>\n",
       "      <td>1.831070</td>\n",
       "      <td>-1.812998</td>\n",
       "    </tr>\n",
       "    <tr>\n",
       "      <th>1</th>\n",
       "      <td>0.653676</td>\n",
       "      <td>0.338441</td>\n",
       "      <td>-0.940261</td>\n",
       "      <td>1.698384</td>\n",
       "      <td>-1.726269</td>\n",
       "    </tr>\n",
       "    <tr>\n",
       "      <th>2</th>\n",
       "      <td>-0.796880</td>\n",
       "      <td>0.968134</td>\n",
       "      <td>-0.254540</td>\n",
       "      <td>1.433011</td>\n",
       "      <td>-1.524993</td>\n",
       "    </tr>\n",
       "  </tbody>\n",
       "</table>\n",
       "</div>"
      ],
      "text/plain": [
       "   WinterRain      AGST  HarvestRain       Age  FrancePop\n",
       "0   -0.040739  0.917813     0.156893  1.831070  -1.812998\n",
       "1    0.653676  0.338441    -0.940261  1.698384  -1.726269\n",
       "2   -0.796880  0.968134    -0.254540  1.433011  -1.524993"
      ]
     },
     "execution_count": 10,
     "metadata": {},
     "output_type": "execute_result"
    }
   ],
   "source": [
    "X = pd.DataFrame(scalar.transform(wine.iloc[:,1:7]),columns=wine.columns[1:7])\n",
    "X.head(3)"
   ]
  },
  {
   "cell_type": "code",
   "execution_count": 11,
   "metadata": {},
   "outputs": [
    {
     "data": {
      "text/plain": [
       "(WinterRain     1.865175e-16\n",
       " AGST          -1.962874e-15\n",
       " HarvestRain   -1.776357e-17\n",
       " Age            1.865175e-16\n",
       " FrancePop      8.437695e-16\n",
       " dtype: float64, WinterRain     1.020621\n",
       " AGST           1.020621\n",
       " HarvestRain    1.020621\n",
       " Age            1.020621\n",
       " FrancePop      1.020621\n",
       " dtype: float64)"
      ]
     },
     "execution_count": 11,
     "metadata": {},
     "output_type": "execute_result"
    }
   ],
   "source": [
    "X.mean(),X.std()"
   ]
  },
  {
   "cell_type": "code",
   "execution_count": 12,
   "metadata": {},
   "outputs": [],
   "source": [
    "#total variance of the data = 5 units since standardization reduces my std dev to 1"
   ]
  },
  {
   "cell_type": "code",
   "execution_count": 13,
   "metadata": {},
   "outputs": [],
   "source": [
    "pca_wine = PCA()"
   ]
  },
  {
   "cell_type": "code",
   "execution_count": 15,
   "metadata": {},
   "outputs": [
    {
     "data": {
      "text/plain": [
       "PCA(copy=True, iterated_power='auto', n_components=None, random_state=None,\n",
       "    svd_solver='auto', tol=0.0, whiten=False)"
      ]
     },
     "execution_count": 15,
     "metadata": {},
     "output_type": "execute_result"
    }
   ],
   "source": [
    "pca_wine.fit(X)"
   ]
  },
  {
   "cell_type": "code",
   "execution_count": 16,
   "metadata": {},
   "outputs": [
    {
     "data": {
      "text/html": [
       "<div>\n",
       "<style scoped>\n",
       "    .dataframe tbody tr th:only-of-type {\n",
       "        vertical-align: middle;\n",
       "    }\n",
       "\n",
       "    .dataframe tbody tr th {\n",
       "        vertical-align: top;\n",
       "    }\n",
       "\n",
       "    .dataframe thead th {\n",
       "        text-align: right;\n",
       "    }\n",
       "</style>\n",
       "<table border=\"1\" class=\"dataframe\">\n",
       "  <thead>\n",
       "    <tr style=\"text-align: right;\">\n",
       "      <th></th>\n",
       "      <th>WinterRain</th>\n",
       "      <th>AGST</th>\n",
       "      <th>HarvestRain</th>\n",
       "      <th>Age</th>\n",
       "      <th>FrancePop</th>\n",
       "    </tr>\n",
       "  </thead>\n",
       "  <tbody>\n",
       "    <tr>\n",
       "      <th>0</th>\n",
       "      <td>-0.040739</td>\n",
       "      <td>0.917813</td>\n",
       "      <td>0.156893</td>\n",
       "      <td>1.831070</td>\n",
       "      <td>-1.812998</td>\n",
       "    </tr>\n",
       "    <tr>\n",
       "      <th>1</th>\n",
       "      <td>0.653676</td>\n",
       "      <td>0.338441</td>\n",
       "      <td>-0.940261</td>\n",
       "      <td>1.698384</td>\n",
       "      <td>-1.726269</td>\n",
       "    </tr>\n",
       "    <tr>\n",
       "      <th>2</th>\n",
       "      <td>-0.796880</td>\n",
       "      <td>0.968134</td>\n",
       "      <td>-0.254540</td>\n",
       "      <td>1.433011</td>\n",
       "      <td>-1.524993</td>\n",
       "    </tr>\n",
       "    <tr>\n",
       "      <th>3</th>\n",
       "      <td>-1.429570</td>\n",
       "      <td>-0.568244</td>\n",
       "      <td>-0.528829</td>\n",
       "      <td>1.167639</td>\n",
       "      <td>-1.264804</td>\n",
       "    </tr>\n",
       "    <tr>\n",
       "      <th>4</th>\n",
       "      <td>-0.179622</td>\n",
       "      <td>-0.139986</td>\n",
       "      <td>0.527183</td>\n",
       "      <td>1.034953</td>\n",
       "      <td>-1.125143</td>\n",
       "    </tr>\n",
       "    <tr>\n",
       "      <th>5</th>\n",
       "      <td>-0.928048</td>\n",
       "      <td>1.471798</td>\n",
       "      <td>0.527183</td>\n",
       "      <td>0.902266</td>\n",
       "      <td>-0.992922</td>\n",
       "    </tr>\n",
       "    <tr>\n",
       "      <th>6</th>\n",
       "      <td>1.216925</td>\n",
       "      <td>-0.139986</td>\n",
       "      <td>1.939769</td>\n",
       "      <td>0.769580</td>\n",
       "      <td>-0.866125</td>\n",
       "    </tr>\n",
       "    <tr>\n",
       "      <th>7</th>\n",
       "      <td>1.733878</td>\n",
       "      <td>1.245127</td>\n",
       "      <td>-1.516268</td>\n",
       "      <td>0.636894</td>\n",
       "      <td>-0.714641</td>\n",
       "    </tr>\n",
       "    <tr>\n",
       "      <th>8</th>\n",
       "      <td>0.707687</td>\n",
       "      <td>-0.316336</td>\n",
       "      <td>-1.324266</td>\n",
       "      <td>0.504208</td>\n",
       "      <td>-0.447136</td>\n",
       "    </tr>\n",
       "    <tr>\n",
       "      <th>9</th>\n",
       "      <td>0.020987</td>\n",
       "      <td>-1.197786</td>\n",
       "      <td>0.088321</td>\n",
       "      <td>0.371521</td>\n",
       "      <td>-0.249344</td>\n",
       "    </tr>\n",
       "    <tr>\n",
       "      <th>10</th>\n",
       "      <td>-1.568453</td>\n",
       "      <td>1.144485</td>\n",
       "      <td>-0.720831</td>\n",
       "      <td>0.238835</td>\n",
       "      <td>-0.093978</td>\n",
       "    </tr>\n",
       "    <tr>\n",
       "      <th>11</th>\n",
       "      <td>-0.025308</td>\n",
       "      <td>-1.726686</td>\n",
       "      <td>1.624337</td>\n",
       "      <td>0.106149</td>\n",
       "      <td>0.029902</td>\n",
       "    </tr>\n",
       "    <tr>\n",
       "      <th>12</th>\n",
       "      <td>1.649005</td>\n",
       "      <td>0.036213</td>\n",
       "      <td>-0.857975</td>\n",
       "      <td>-0.026537</td>\n",
       "      <td>0.156083</td>\n",
       "    </tr>\n",
       "    <tr>\n",
       "      <th>13</th>\n",
       "      <td>0.838854</td>\n",
       "      <td>-0.417130</td>\n",
       "      <td>-0.419113</td>\n",
       "      <td>-0.159223</td>\n",
       "      <td>0.266196</td>\n",
       "    </tr>\n",
       "    <tr>\n",
       "      <th>14</th>\n",
       "      <td>0.036418</td>\n",
       "      <td>-0.467451</td>\n",
       "      <td>1.967198</td>\n",
       "      <td>-0.291910</td>\n",
       "      <td>0.373126</td>\n",
       "    </tr>\n",
       "    <tr>\n",
       "      <th>15</th>\n",
       "      <td>-0.233632</td>\n",
       "      <td>0.061449</td>\n",
       "      <td>1.308905</td>\n",
       "      <td>-0.424596</td>\n",
       "      <td>0.494495</td>\n",
       "    </tr>\n",
       "    <tr>\n",
       "      <th>16</th>\n",
       "      <td>0.129007</td>\n",
       "      <td>0.237799</td>\n",
       "      <td>-0.816832</td>\n",
       "      <td>-0.557282</td>\n",
       "      <td>0.619275</td>\n",
       "    </tr>\n",
       "    <tr>\n",
       "      <th>17</th>\n",
       "      <td>-0.418810</td>\n",
       "      <td>0.388914</td>\n",
       "      <td>-0.501400</td>\n",
       "      <td>-0.689968</td>\n",
       "      <td>0.762196</td>\n",
       "    </tr>\n",
       "    <tr>\n",
       "      <th>18</th>\n",
       "      <td>-0.534546</td>\n",
       "      <td>-2.306058</td>\n",
       "      <td>0.129464</td>\n",
       "      <td>-0.822655</td>\n",
       "      <td>0.890992</td>\n",
       "    </tr>\n",
       "    <tr>\n",
       "      <th>19</th>\n",
       "      <td>-1.769062</td>\n",
       "      <td>0.842256</td>\n",
       "      <td>-0.350541</td>\n",
       "      <td>-0.955341</td>\n",
       "      <td>1.013130</td>\n",
       "    </tr>\n",
       "    <tr>\n",
       "      <th>20</th>\n",
       "      <td>-0.241348</td>\n",
       "      <td>-0.316336</td>\n",
       "      <td>0.486039</td>\n",
       "      <td>-1.088027</td>\n",
       "      <td>1.112485</td>\n",
       "    </tr>\n",
       "    <tr>\n",
       "      <th>21</th>\n",
       "      <td>-0.256779</td>\n",
       "      <td>0.665906</td>\n",
       "      <td>0.307752</td>\n",
       "      <td>-1.220713</td>\n",
       "      <td>1.186396</td>\n",
       "    </tr>\n",
       "    <tr>\n",
       "      <th>22</th>\n",
       "      <td>-1.445001</td>\n",
       "      <td>1.723706</td>\n",
       "      <td>1.350049</td>\n",
       "      <td>-1.353399</td>\n",
       "      <td>1.243203</td>\n",
       "    </tr>\n",
       "    <tr>\n",
       "      <th>23</th>\n",
       "      <td>1.664437</td>\n",
       "      <td>-1.399372</td>\n",
       "      <td>-0.844260</td>\n",
       "      <td>-1.486086</td>\n",
       "      <td>1.304272</td>\n",
       "    </tr>\n",
       "    <tr>\n",
       "      <th>24</th>\n",
       "      <td>1.216925</td>\n",
       "      <td>-1.046672</td>\n",
       "      <td>-1.337980</td>\n",
       "      <td>-1.618772</td>\n",
       "      <td>1.366600</td>\n",
       "    </tr>\n",
       "  </tbody>\n",
       "</table>\n",
       "</div>"
      ],
      "text/plain": [
       "    WinterRain      AGST  HarvestRain       Age  FrancePop\n",
       "0    -0.040739  0.917813     0.156893  1.831070  -1.812998\n",
       "1     0.653676  0.338441    -0.940261  1.698384  -1.726269\n",
       "2    -0.796880  0.968134    -0.254540  1.433011  -1.524993\n",
       "3    -1.429570 -0.568244    -0.528829  1.167639  -1.264804\n",
       "4    -0.179622 -0.139986     0.527183  1.034953  -1.125143\n",
       "5    -0.928048  1.471798     0.527183  0.902266  -0.992922\n",
       "6     1.216925 -0.139986     1.939769  0.769580  -0.866125\n",
       "7     1.733878  1.245127    -1.516268  0.636894  -0.714641\n",
       "8     0.707687 -0.316336    -1.324266  0.504208  -0.447136\n",
       "9     0.020987 -1.197786     0.088321  0.371521  -0.249344\n",
       "10   -1.568453  1.144485    -0.720831  0.238835  -0.093978\n",
       "11   -0.025308 -1.726686     1.624337  0.106149   0.029902\n",
       "12    1.649005  0.036213    -0.857975 -0.026537   0.156083\n",
       "13    0.838854 -0.417130    -0.419113 -0.159223   0.266196\n",
       "14    0.036418 -0.467451     1.967198 -0.291910   0.373126\n",
       "15   -0.233632  0.061449     1.308905 -0.424596   0.494495\n",
       "16    0.129007  0.237799    -0.816832 -0.557282   0.619275\n",
       "17   -0.418810  0.388914    -0.501400 -0.689968   0.762196\n",
       "18   -0.534546 -2.306058     0.129464 -0.822655   0.890992\n",
       "19   -1.769062  0.842256    -0.350541 -0.955341   1.013130\n",
       "20   -0.241348 -0.316336     0.486039 -1.088027   1.112485\n",
       "21   -0.256779  0.665906     0.307752 -1.220713   1.186396\n",
       "22   -1.445001  1.723706     1.350049 -1.353399   1.243203\n",
       "23    1.664437 -1.399372    -0.844260 -1.486086   1.304272\n",
       "24    1.216925 -1.046672    -1.337980 -1.618772   1.366600"
      ]
     },
     "execution_count": 16,
     "metadata": {},
     "output_type": "execute_result"
    }
   ],
   "source": [
    "X"
   ]
  },
  {
   "cell_type": "code",
   "execution_count": 15,
   "metadata": {},
   "outputs": [
    {
     "data": {
      "text/plain": [
       "array([[-0.09395915,  0.32836427, -0.0367977 ,  0.66342357, -0.66472828],\n",
       "       [-0.73840464,  0.38065779,  0.52444119, -0.12589423,  0.13773276],\n",
       "       [ 0.12564301, -0.62649747,  0.72388065,  0.19142246, -0.17626401],\n",
       "       [-0.65563602, -0.59544647, -0.44675373,  0.10156506, -0.07536942],\n",
       "       [-0.01689675, -0.01486508,  0.00390888, -0.70502609, -0.70881341]])"
      ]
     },
     "execution_count": 15,
     "metadata": {},
     "output_type": "execute_result"
    }
   ],
   "source": [
    "pca_wine.components_#5 PC Loading vector"
   ]
  },
  {
   "cell_type": "code",
   "execution_count": 16,
   "metadata": {},
   "outputs": [
    {
     "data": {
      "text/plain": [
       "(5, 5)"
      ]
     },
     "execution_count": 16,
     "metadata": {},
     "output_type": "execute_result"
    }
   ],
   "source": [
    "pca_wine.components_.shape"
   ]
  },
  {
   "cell_type": "code",
   "execution_count": null,
   "metadata": {},
   "outputs": [],
   "source": []
  },
  {
   "cell_type": "code",
   "execution_count": 44,
   "metadata": {},
   "outputs": [
    {
     "data": {
      "text/html": [
       "<div>\n",
       "<style scoped>\n",
       "    .dataframe tbody tr th:only-of-type {\n",
       "        vertical-align: middle;\n",
       "    }\n",
       "\n",
       "    .dataframe tbody tr th {\n",
       "        vertical-align: top;\n",
       "    }\n",
       "\n",
       "    .dataframe thead th {\n",
       "        text-align: right;\n",
       "    }\n",
       "</style>\n",
       "<table border=\"1\" class=\"dataframe\">\n",
       "  <thead>\n",
       "    <tr style=\"text-align: right;\">\n",
       "      <th></th>\n",
       "      <th>WinterRain</th>\n",
       "      <th>AGST</th>\n",
       "      <th>HarvestRain</th>\n",
       "      <th>Age</th>\n",
       "      <th>FrancePop</th>\n",
       "    </tr>\n",
       "  </thead>\n",
       "  <tbody>\n",
       "    <tr>\n",
       "      <th>PC1</th>\n",
       "      <td>-0.093959</td>\n",
       "      <td>0.328364</td>\n",
       "      <td>-0.036798</td>\n",
       "      <td>0.663424</td>\n",
       "      <td>-0.664728</td>\n",
       "    </tr>\n",
       "    <tr>\n",
       "      <th>PC2</th>\n",
       "      <td>-0.738405</td>\n",
       "      <td>0.380658</td>\n",
       "      <td>0.524441</td>\n",
       "      <td>-0.125894</td>\n",
       "      <td>0.137733</td>\n",
       "    </tr>\n",
       "    <tr>\n",
       "      <th>PC3</th>\n",
       "      <td>0.125643</td>\n",
       "      <td>-0.626497</td>\n",
       "      <td>0.723881</td>\n",
       "      <td>0.191422</td>\n",
       "      <td>-0.176264</td>\n",
       "    </tr>\n",
       "    <tr>\n",
       "      <th>PC4</th>\n",
       "      <td>-0.655636</td>\n",
       "      <td>-0.595446</td>\n",
       "      <td>-0.446754</td>\n",
       "      <td>0.101565</td>\n",
       "      <td>-0.075369</td>\n",
       "    </tr>\n",
       "    <tr>\n",
       "      <th>PC5</th>\n",
       "      <td>-0.016897</td>\n",
       "      <td>-0.014865</td>\n",
       "      <td>0.003909</td>\n",
       "      <td>-0.705026</td>\n",
       "      <td>-0.708813</td>\n",
       "    </tr>\n",
       "  </tbody>\n",
       "</table>\n",
       "</div>"
      ],
      "text/plain": [
       "     WinterRain      AGST  HarvestRain       Age  FrancePop\n",
       "PC1   -0.093959  0.328364    -0.036798  0.663424  -0.664728\n",
       "PC2   -0.738405  0.380658     0.524441 -0.125894   0.137733\n",
       "PC3    0.125643 -0.626497     0.723881  0.191422  -0.176264\n",
       "PC4   -0.655636 -0.595446    -0.446754  0.101565  -0.075369\n",
       "PC5   -0.016897 -0.014865     0.003909 -0.705026  -0.708813"
      ]
     },
     "execution_count": 44,
     "metadata": {},
     "output_type": "execute_result"
    }
   ],
   "source": [
    "pca_loadings = pd.DataFrame(pca_wine.components_,index = ['PC1','PC2','PC3','PC4', 'PC5'],columns=wine.columns[1:7])\n",
    "pca_loadings\n",
    "pca_loadings\n",
    "#PC1 = -.09 * WinterRain + .328 * AGST -.03 * HarvestRain + .663 * Age -.6647*FrancePop"
   ]
  },
  {
   "cell_type": "code",
   "execution_count": 43,
   "metadata": {},
   "outputs": [],
   "source": [
    "import numpy as np"
   ]
  },
  {
   "cell_type": "code",
   "execution_count": 47,
   "metadata": {},
   "outputs": [
    {
     "data": {
      "text/plain": [
       "array([-0.09395915,  0.32836427, -0.0367977 ,  0.66342357, -0.66472828])"
      ]
     },
     "execution_count": 47,
     "metadata": {},
     "output_type": "execute_result"
    }
   ],
   "source": [
    "np.array(pca_loadings.iloc[0,:])"
   ]
  },
  {
   "cell_type": "code",
   "execution_count": 49,
   "metadata": {},
   "outputs": [
    {
     "data": {
      "text/plain": [
       "2.7193574039618804"
      ]
     },
     "execution_count": 49,
     "metadata": {},
     "output_type": "execute_result"
    }
   ],
   "source": [
    "np.dot(np.array(X.iloc[0,:]), np.array(pca_loadings.iloc[0,:]))"
   ]
  },
  {
   "cell_type": "code",
   "execution_count": 17,
   "metadata": {},
   "outputs": [
    {
     "data": {
      "text/plain": [
       "5.208333333333332"
      ]
     },
     "execution_count": 17,
     "metadata": {},
     "output_type": "execute_result"
    }
   ],
   "source": [
    "sum(pca_wine.explained_variance_) #total variance described by the principal components = total variance by the original features"
   ]
  },
  {
   "cell_type": "code",
   "execution_count": 19,
   "metadata": {},
   "outputs": [
    {
     "data": {
      "text/plain": [
       "array([0.42452198, 0.27171274, 0.19811138, 0.10462844, 0.00102546])"
      ]
     },
     "execution_count": 19,
     "metadata": {},
     "output_type": "execute_result"
    }
   ],
   "source": [
    "pca_wine.explained_variance_ratio_"
   ]
  },
  {
   "cell_type": "code",
   "execution_count": 50,
   "metadata": {},
   "outputs": [
    {
     "data": {
      "text/html": [
       "<div>\n",
       "<style scoped>\n",
       "    .dataframe tbody tr th:only-of-type {\n",
       "        vertical-align: middle;\n",
       "    }\n",
       "\n",
       "    .dataframe tbody tr th {\n",
       "        vertical-align: top;\n",
       "    }\n",
       "\n",
       "    .dataframe thead th {\n",
       "        text-align: right;\n",
       "    }\n",
       "</style>\n",
       "<table border=\"1\" class=\"dataframe\">\n",
       "  <thead>\n",
       "    <tr style=\"text-align: right;\">\n",
       "      <th></th>\n",
       "      <th>PC1</th>\n",
       "      <th>PC2</th>\n",
       "      <th>PC3</th>\n",
       "      <th>PC4</th>\n",
       "      <th>PC5</th>\n",
       "    </tr>\n",
       "  </thead>\n",
       "  <tbody>\n",
       "    <tr>\n",
       "      <th>0</th>\n",
       "      <td>2.719357</td>\n",
       "      <td>-0.018494</td>\n",
       "      <td>0.203520</td>\n",
       "      <td>-0.267274</td>\n",
       "      <td>-0.018217</td>\n",
       "    </tr>\n",
       "    <tr>\n",
       "      <th>1</th>\n",
       "      <td>2.358560</td>\n",
       "      <td>-1.298540</td>\n",
       "      <td>-0.181152</td>\n",
       "      <td>0.092572</td>\n",
       "      <td>0.006447</td>\n",
       "    </tr>\n",
       "    <tr>\n",
       "      <th>2</th>\n",
       "      <td>2.366541</td>\n",
       "      <td>0.433008</td>\n",
       "      <td>-0.347801</td>\n",
       "      <td>0.320190</td>\n",
       "      <td>0.068703</td>\n",
       "    </tr>\n",
       "    <tr>\n",
       "      <th>3</th>\n",
       "      <td>1.582580</td>\n",
       "      <td>0.240751</td>\n",
       "      <td>0.240031</td>\n",
       "      <td>1.725811</td>\n",
       "      <td>0.103829</td>\n",
       "    </tr>\n",
       "    <tr>\n",
       "      <th>4</th>\n",
       "      <td>1.386038</td>\n",
       "      <td>0.070560</td>\n",
       "      <td>0.843185</td>\n",
       "      <td>0.155517</td>\n",
       "      <td>0.075024</td>\n",
       "    </tr>\n",
       "    <tr>\n",
       "      <th>5</th>\n",
       "      <td>1.809694</td>\n",
       "      <td>1.271655</td>\n",
       "      <td>-0.309333</td>\n",
       "      <td>-0.336962</td>\n",
       "      <td>0.063539</td>\n",
       "    </tr>\n",
       "    <tr>\n",
       "      <th>6</th>\n",
       "      <td>0.854608</td>\n",
       "      <td>-0.150754</td>\n",
       "      <td>1.944742</td>\n",
       "      <td>-1.437663</td>\n",
       "      <td>0.060448</td>\n",
       "    </tr>\n",
       "    <tr>\n",
       "      <th>7</th>\n",
       "      <td>1.199309</td>\n",
       "      <td>-1.780141</td>\n",
       "      <td>-1.411935</td>\n",
       "      <td>-1.082253</td>\n",
       "      <td>0.003788</td>\n",
       "    </tr>\n",
       "    <tr>\n",
       "      <th>8</th>\n",
       "      <td>0.510090</td>\n",
       "      <td>-1.462537</td>\n",
       "      <td>-0.496180</td>\n",
       "      <td>0.400908</td>\n",
       "      <td>-0.050975</td>\n",
       "    </tr>\n",
       "    <tr>\n",
       "      <th>9</th>\n",
       "      <td>0.013690</td>\n",
       "      <td>-0.506239</td>\n",
       "      <td>0.932048</td>\n",
       "      <td>0.716526</td>\n",
       "      <td>-0.067398</td>\n",
       "    </tr>\n",
       "    <tr>\n",
       "      <th>10</th>\n",
       "      <td>0.770622</td>\n",
       "      <td>1.172765</td>\n",
       "      <td>-1.373594</td>\n",
       "      <td>0.700229</td>\n",
       "      <td>-0.095101</td>\n",
       "    </tr>\n",
       "    <tr>\n",
       "      <th>11</th>\n",
       "      <td>-0.573831</td>\n",
       "      <td>0.204035</td>\n",
       "      <td>2.269460</td>\n",
       "      <td>0.327590</td>\n",
       "      <td>-0.063588</td>\n",
       "    </tr>\n",
       "    <tr>\n",
       "      <th>12</th>\n",
       "      <td>-0.232835</td>\n",
       "      <td>-1.628967</td>\n",
       "      <td>-0.469165</td>\n",
       "      <td>-0.733866</td>\n",
       "      <td>-0.123679</td>\n",
       "    </tr>\n",
       "    <tr>\n",
       "      <th>13</th>\n",
       "      <td>-0.482947</td>\n",
       "      <td>-0.941288</td>\n",
       "      <td>-0.014061</td>\n",
       "      <td>-0.150599</td>\n",
       "      <td>-0.086038</td>\n",
       "    </tr>\n",
       "    <tr>\n",
       "      <th>14</th>\n",
       "      <td>-0.670991</td>\n",
       "      <td>0.914991</td>\n",
       "      <td>1.599802</td>\n",
       "      <td>-0.682158</td>\n",
       "      <td>-0.044650</td>\n",
       "    </tr>\n",
       "    <tr>\n",
       "      <th>15</th>\n",
       "      <td>-0.616427</td>\n",
       "      <td>1.003912</td>\n",
       "      <td>0.711200</td>\n",
       "      <td>-0.548564</td>\n",
       "      <td>-0.043003</td>\n",
       "    </tr>\n",
       "    <tr>\n",
       "      <th>16</th>\n",
       "      <td>-0.685343</td>\n",
       "      <td>-0.277666</td>\n",
       "      <td>-0.939893</td>\n",
       "      <td>0.035469</td>\n",
       "      <td>-0.054960</td>\n",
       "    </tr>\n",
       "    <tr>\n",
       "      <th>17</th>\n",
       "      <td>-0.778888</td>\n",
       "      <td>0.386182</td>\n",
       "      <td>-0.925651</td>\n",
       "      <td>0.139489</td>\n",
       "      <td>-0.054474</td>\n",
       "    </tr>\n",
       "    <tr>\n",
       "      <th>18</th>\n",
       "      <td>-1.849802</td>\n",
       "      <td>-0.188925</td>\n",
       "      <td>1.156770</td>\n",
       "      <td>1.515056</td>\n",
       "      <td>-0.007736</td>\n",
       "    </tr>\n",
       "    <tr>\n",
       "      <th>19</th>\n",
       "      <td>-0.851566</td>\n",
       "      <td>1.702870</td>\n",
       "      <td>-1.365143</td>\n",
       "      <td>0.641559</td>\n",
       "      <td>-0.028579</td>\n",
       "    </tr>\n",
       "    <tr>\n",
       "      <th>20</th>\n",
       "      <td>-1.560405</td>\n",
       "      <td>0.602898</td>\n",
       "      <td>0.115331</td>\n",
       "      <td>-0.064895</td>\n",
       "      <td>-0.010776</td>\n",
       "    </tr>\n",
       "    <tr>\n",
       "      <th>21</th>\n",
       "      <td>-1.367019</td>\n",
       "      <td>0.921574</td>\n",
       "      <td>-0.669466</td>\n",
       "      <td>-0.579047</td>\n",
       "      <td>0.015344</td>\n",
       "    </tr>\n",
       "    <tr>\n",
       "      <th>22</th>\n",
       "      <td>-1.072174</td>\n",
       "      <td>2.772774</td>\n",
       "      <td>-0.762380</td>\n",
       "      <td>-0.913276</td>\n",
       "      <td>0.077053</td>\n",
       "    </tr>\n",
       "    <tr>\n",
       "      <th>23</th>\n",
       "      <td>-2.437717</td>\n",
       "      <td>-1.837744</td>\n",
       "      <td>-0.039682</td>\n",
       "      <td>-0.130074</td>\n",
       "      <td>0.112621</td>\n",
       "    </tr>\n",
       "    <tr>\n",
       "      <th>24</th>\n",
       "      <td>-2.391145</td>\n",
       "      <td>-1.606679</td>\n",
       "      <td>-0.710654</td>\n",
       "      <td>0.155714</td>\n",
       "      <td>0.162379</td>\n",
       "    </tr>\n",
       "  </tbody>\n",
       "</table>\n",
       "</div>"
      ],
      "text/plain": [
       "         PC1       PC2       PC3       PC4       PC5\n",
       "0   2.719357 -0.018494  0.203520 -0.267274 -0.018217\n",
       "1   2.358560 -1.298540 -0.181152  0.092572  0.006447\n",
       "2   2.366541  0.433008 -0.347801  0.320190  0.068703\n",
       "3   1.582580  0.240751  0.240031  1.725811  0.103829\n",
       "4   1.386038  0.070560  0.843185  0.155517  0.075024\n",
       "5   1.809694  1.271655 -0.309333 -0.336962  0.063539\n",
       "6   0.854608 -0.150754  1.944742 -1.437663  0.060448\n",
       "7   1.199309 -1.780141 -1.411935 -1.082253  0.003788\n",
       "8   0.510090 -1.462537 -0.496180  0.400908 -0.050975\n",
       "9   0.013690 -0.506239  0.932048  0.716526 -0.067398\n",
       "10  0.770622  1.172765 -1.373594  0.700229 -0.095101\n",
       "11 -0.573831  0.204035  2.269460  0.327590 -0.063588\n",
       "12 -0.232835 -1.628967 -0.469165 -0.733866 -0.123679\n",
       "13 -0.482947 -0.941288 -0.014061 -0.150599 -0.086038\n",
       "14 -0.670991  0.914991  1.599802 -0.682158 -0.044650\n",
       "15 -0.616427  1.003912  0.711200 -0.548564 -0.043003\n",
       "16 -0.685343 -0.277666 -0.939893  0.035469 -0.054960\n",
       "17 -0.778888  0.386182 -0.925651  0.139489 -0.054474\n",
       "18 -1.849802 -0.188925  1.156770  1.515056 -0.007736\n",
       "19 -0.851566  1.702870 -1.365143  0.641559 -0.028579\n",
       "20 -1.560405  0.602898  0.115331 -0.064895 -0.010776\n",
       "21 -1.367019  0.921574 -0.669466 -0.579047  0.015344\n",
       "22 -1.072174  2.772774 -0.762380 -0.913276  0.077053\n",
       "23 -2.437717 -1.837744 -0.039682 -0.130074  0.112621\n",
       "24 -2.391145 -1.606679 -0.710654  0.155714  0.162379"
      ]
     },
     "execution_count": 50,
     "metadata": {},
     "output_type": "execute_result"
    }
   ],
   "source": [
    "PCscore = pd.DataFrame(pca_wine.fit_transform(X),columns=pca_loadings.T.columns)\n",
    "PCscore"
   ]
  },
  {
   "cell_type": "markdown",
   "metadata": {},
   "source": [
    "### Create Bi-plot"
   ]
  },
  {
   "cell_type": "code",
   "execution_count": 21,
   "metadata": {},
   "outputs": [
    {
     "name": "stdout",
     "output_type": "stream",
     "text": [
      "                  PC1       PC2       PC3       PC4       PC5\n",
      "WinterRain  -0.093959 -0.738405  0.125643 -0.655636 -0.016897\n",
      "AGST         0.328364  0.380658 -0.626497 -0.595446 -0.014865\n",
      "HarvestRain -0.036798  0.524441  0.723881 -0.446754  0.003909\n",
      "Age          0.663424 -0.125894  0.191422  0.101565 -0.705026\n",
      "FrancePop   -0.664728  0.137733 -0.176264 -0.075369 -0.708813\n"
     ]
    },
    {
     "data": {
      "text/plain": [
       "<matplotlib.patches.FancyArrow at 0x22883769940>"
      ]
     },
     "execution_count": 21,
     "metadata": {},
     "output_type": "execute_result"
    },
    {
     "data": {
      "image/png": "[encoded data removed]",
      "text/plain": [
       "<Figure size 1080x864 with 3 Axes>"
      ]
     },
     "metadata": {},
     "output_type": "display_data"
    }
   ],
   "source": [
    "fig,ax1 =plt.subplots(figsize=(15,12))\n",
    "ax1.set_xlim(-3.5,3.5)\n",
    "ax1.set_ylim(-3.5,3.5)\n",
    "# Plot Principal Components 1 and 2\n",
    "for i in PCscore.index:\n",
    "    ax1.annotate(i, (PCscore.PC1.loc[i], PCscore.PC2.loc[i]), ha='center')\n",
    "# Plot reference lines\n",
    "ax1.hlines(0,-3.5,3.5, linestyles='dotted', colors='grey')\n",
    "ax1.vlines(0,-3.5,3.5, linestyles='dotted', colors='grey')\n",
    "\n",
    "ax1.set_xlabel('First Principal Component')\n",
    "ax1.set_ylabel('Second Principal Component')\n",
    "\n",
    "# Plot Principal Component loading vectors, using a second y-axis.\n",
    "ax2 = ax1.twinx().twiny() \n",
    "ax2.set_ylim(-1,1)\n",
    "ax2.set_xlim(-1,1)\n",
    "ax2.tick_params(axis='y', colors='orange')\n",
    "ax2.set_xlabel('Principal Component loading vectors', color='orange')\n",
    "\n",
    "# Plot labels for vectors. Variable 'a' is a small offset parameter to separate arrow tip and text.\n",
    "print(pca_loadings.T)\n",
    "for i in pca_loadings.T[['PC1', 'PC2']].index:\n",
    "    ax2.annotate(i, (pca_loadings.T.PC1.loc[i], pca_loadings.T.PC2.loc[i]), color='orange')\n",
    "    \n",
    "# Plot vectors\n",
    "ax2.arrow(0,0,pca_loadings.T.PC1[0], pca_loadings.T.PC2[0])\n",
    "ax2.arrow(0,0,pca_loadings.T.PC1[1], pca_loadings.T.PC2[1])\n",
    "ax2.arrow(0,0,pca_loadings.T.PC1[2], pca_loadings.T.PC2[2])\n",
    "ax2.arrow(0,0,pca_loadings.T.PC1[3], pca_loadings.T.PC2[3])\n",
    "ax2.arrow(0,0,pca_loadings.T.PC1[4], pca_loadings.T.PC2[4])"
   ]
  },
  {
   "cell_type": "markdown",
   "metadata": {},
   "source": [
    "### Creating Scree and Cumulative Plots"
   ]
  },
  {
   "cell_type": "code",
   "execution_count": 22,
   "metadata": {},
   "outputs": [
    {
     "data": {
      "image/png": "[encoded data removed]",
      "text/plain": [
       "<Figure size 504x360 with 1 Axes>"
      ]
     },
     "metadata": {
      "needs_background": "light"
     },
     "output_type": "display_data"
    }
   ],
   "source": [
    "plt.figure(figsize=(7,5))\n",
    "plt.plot([1,2,3,4,5],pca_wine.explained_variance_ratio_, '-o', label='Individual component')\n",
    "plt.ylabel('Proportion of Variance Explained')\n",
    "plt.xlabel('Principal Component')\n",
    "plt.xlim(0.75,4.25)\n",
    "plt.ylim(-0.02,0.6)\n",
    "plt.xticks([1,2,3,4,5,6])\n",
    "plt.legend(loc=2);"
   ]
  },
  {
   "cell_type": "code",
   "execution_count": 23,
   "metadata": {},
   "outputs": [
    {
     "data": {
      "image/png": "[encoded data removed]",
      "text/plain": [
       "<Figure size 432x288 with 1 Axes>"
      ]
     },
     "metadata": {
      "needs_background": "light"
     },
     "output_type": "display_data"
    }
   ],
   "source": [
    "plt.plot([1,2,3,4,5], np.cumsum(pca_wine.explained_variance_ratio_), '-s', label='Cumulative')\n",
    "plt.ylabel('Proportion of Variance Explained')\n",
    "plt.xlabel('Principal Component')\n",
    "#plt.xlim(0.75,4.25)\n",
    "#plt.ylim(0.3,1.05)\n",
    "plt.xticks([1,2,3,4,5])\n",
    "plt.legend(loc=2);"
   ]
  },
  {
   "cell_type": "code",
   "execution_count": 24,
   "metadata": {},
   "outputs": [],
   "source": [
    "#Select upto PC4"
   ]
  },
  {
   "cell_type": "markdown",
   "metadata": {},
   "source": [
    "### Building linear regression model using Principle components"
   ]
  },
  {
   "cell_type": "code",
   "execution_count": 25,
   "metadata": {},
   "outputs": [],
   "source": [
    "from sklearn.linear_model import LinearRegression"
   ]
  },
  {
   "cell_type": "code",
   "execution_count": 26,
   "metadata": {},
   "outputs": [],
   "source": [
    "lm=LinearRegression()"
   ]
  },
  {
   "cell_type": "code",
   "execution_count": 27,
   "metadata": {},
   "outputs": [
    {
     "data": {
      "text/plain": [
       "LinearRegression(copy_X=True, fit_intercept=True, n_jobs=1, normalize=False)"
      ]
     },
     "execution_count": 27,
     "metadata": {},
     "output_type": "execute_result"
    }
   ],
   "source": [
    "lm.fit(PCscore.iloc[:,:4],wine.Price)"
   ]
  },
  {
   "cell_type": "code",
   "execution_count": 28,
   "metadata": {},
   "outputs": [
    {
     "data": {
      "text/plain": [
       "array([ 0.24972259, -0.12473195, -0.40900723, -0.18269989])"
      ]
     },
     "execution_count": 28,
     "metadata": {},
     "output_type": "execute_result"
    }
   ],
   "source": [
    "lm.coef_"
   ]
  },
  {
   "cell_type": "code",
   "execution_count": 29,
   "metadata": {},
   "outputs": [
    {
     "data": {
      "text/plain": [
       "0.8291961446571084"
      ]
     },
     "execution_count": 29,
     "metadata": {},
     "output_type": "execute_result"
    }
   ],
   "source": [
    "#Accuracy on training data\n",
    "lm.score(PCscore.iloc[:,:4],wine.Price)"
   ]
  },
  {
   "cell_type": "markdown",
   "metadata": {},
   "source": [
    "### Making Predictions"
   ]
  },
  {
   "cell_type": "markdown",
   "metadata": {},
   "source": [
    "We cannot convert test data into principal components, by applying pca. Instead we have to apply same transformations on test data as we did for train data"
   ]
  },
  {
   "cell_type": "code",
   "execution_count": 30,
   "metadata": {},
   "outputs": [
    {
     "data": {
      "text/html": [
       "<div>\n",
       "<style scoped>\n",
       "    .dataframe tbody tr th:only-of-type {\n",
       "        vertical-align: middle;\n",
       "    }\n",
       "\n",
       "    .dataframe tbody tr th {\n",
       "        vertical-align: top;\n",
       "    }\n",
       "\n",
       "    .dataframe thead th {\n",
       "        text-align: right;\n",
       "    }\n",
       "</style>\n",
       "<table border=\"1\" class=\"dataframe\">\n",
       "  <thead>\n",
       "    <tr style=\"text-align: right;\">\n",
       "      <th></th>\n",
       "      <th>Year</th>\n",
       "      <th>Price</th>\n",
       "      <th>WinterRain</th>\n",
       "      <th>AGST</th>\n",
       "      <th>HarvestRain</th>\n",
       "      <th>Age</th>\n",
       "      <th>FrancePop</th>\n",
       "    </tr>\n",
       "  </thead>\n",
       "  <tbody>\n",
       "    <tr>\n",
       "      <th>0</th>\n",
       "      <td>1979</td>\n",
       "      <td>6.9541</td>\n",
       "      <td>717</td>\n",
       "      <td>16.1667</td>\n",
       "      <td>122</td>\n",
       "      <td>4</td>\n",
       "      <td>54835.832</td>\n",
       "    </tr>\n",
       "    <tr>\n",
       "      <th>1</th>\n",
       "      <td>1980</td>\n",
       "      <td>6.4979</td>\n",
       "      <td>578</td>\n",
       "      <td>16.0000</td>\n",
       "      <td>74</td>\n",
       "      <td>3</td>\n",
       "      <td>55110.236</td>\n",
       "    </tr>\n",
       "  </tbody>\n",
       "</table>\n",
       "</div>"
      ],
      "text/plain": [
       "   Year   Price  WinterRain     AGST  HarvestRain  Age  FrancePop\n",
       "0  1979  6.9541         717  16.1667          122    4  54835.832\n",
       "1  1980  6.4979         578  16.0000           74    3  55110.236"
      ]
     },
     "execution_count": 30,
     "metadata": {},
     "output_type": "execute_result"
    }
   ],
   "source": [
    "wineTest = pd.read_csv('C:\\\\Users\\\\Vaibhav\\\\Desktop\\\\BA\\\\Datasets\\\\wine_test.csv')\n",
    "wineTest"
   ]
  },
  {
   "cell_type": "code",
   "execution_count": 31,
   "metadata": {},
   "outputs": [
    {
     "data": {
      "text/plain": [
       "array([[ 0.86200107, -0.51777176, -0.36425533, -1.75145815,  1.43165829],\n",
       "       [-0.21048505, -0.76967918, -1.02254809, -1.88414437,  1.50806805]])"
      ]
     },
     "execution_count": 31,
     "metadata": {},
     "output_type": "execute_result"
    }
   ],
   "source": [
    "test_scaled = scalar.transform(wineTest.iloc[:,2:7])\n",
    "test_scaled"
   ]
  },
  {
   "cell_type": "code",
   "execution_count": 32,
   "metadata": {},
   "outputs": [
    {
     "data": {
      "text/plain": [
       "array([[-2.35122924, -0.60694522, -0.41860853, -0.37991137,  0.21175297],\n",
       "       [-2.44777199, -0.2289143 , -0.91093235,  0.74810605,  0.27043292]])"
      ]
     },
     "execution_count": 32,
     "metadata": {},
     "output_type": "execute_result"
    }
   ],
   "source": [
    "pca_test = pca_wine.transform(test_scaled)\n",
    "pca_test"
   ]
  },
  {
   "cell_type": "code",
   "execution_count": 33,
   "metadata": {},
   "outputs": [
    {
     "data": {
      "text/plain": [
       "(2, 5)"
      ]
     },
     "execution_count": 33,
     "metadata": {},
     "output_type": "execute_result"
    }
   ],
   "source": [
    "pca_test.shape"
   ]
  },
  {
   "cell_type": "code",
   "execution_count": 34,
   "metadata": {},
   "outputs": [
    {
     "data": {
      "text/plain": [
       "array([6.79639808, 6.72041199])"
      ]
     },
     "execution_count": 34,
     "metadata": {},
     "output_type": "execute_result"
    }
   ],
   "source": [
    "y_pred = lm.predict(pca_test[:,0:4])\n",
    "y_pred"
   ]
  },
  {
   "cell_type": "code",
   "execution_count": 35,
   "metadata": {},
   "outputs": [
    {
     "data": {
      "text/plain": [
       "0    6.9541\n",
       "1    6.4979\n",
       "Name: Price, dtype: float64"
      ]
     },
     "execution_count": 35,
     "metadata": {},
     "output_type": "execute_result"
    }
   ],
   "source": [
    "wineTest.Price"
   ]
  },
  {
   "cell_type": "code",
   "execution_count": 36,
   "metadata": {},
   "outputs": [],
   "source": [
    "from sklearn.metrics import r2_score, mean_squared_error"
   ]
  },
  {
   "cell_type": "code",
   "execution_count": 37,
   "metadata": {},
   "outputs": [
    {
     "data": {
      "text/plain": [
       "0.037190741030925754"
      ]
     },
     "execution_count": 37,
     "metadata": {},
     "output_type": "execute_result"
    }
   ],
   "source": [
    "MSE = mean_squared_error(wineTest.Price,y_pred)\n",
    "MSE"
   ]
  },
  {
   "cell_type": "code",
   "execution_count": 38,
   "metadata": {},
   "outputs": [
    {
     "data": {
      "text/plain": [
       "0.07438148206185151"
      ]
     },
     "execution_count": 38,
     "metadata": {},
     "output_type": "execute_result"
    }
   ],
   "source": [
    "SSE = MSE*wineTest.shape[0]\n",
    "SSE"
   ]
  },
  {
   "cell_type": "code",
   "execution_count": 39,
   "metadata": {},
   "outputs": [
    {
     "data": {
      "text/plain": [
       "0.3369268563519997"
      ]
     },
     "execution_count": 39,
     "metadata": {},
     "output_type": "execute_result"
    }
   ],
   "source": [
    "SST = np.sum((wineTest.Price-np.mean(wine.Price))**2)\n",
    "SST"
   ]
  },
  {
   "cell_type": "code",
   "execution_count": 40,
   "metadata": {},
   "outputs": [
    {
     "data": {
      "text/plain": [
       "0.7792355205304784"
      ]
     },
     "execution_count": 40,
     "metadata": {},
     "output_type": "execute_result"
    }
   ],
   "source": [
    "1-SSE/SST"
   ]
  }
 ],
 "metadata": {
  "kernelspec": {
   "display_name": "Python 3",
   "language": "python",
   "name": "python3"
  },
  "language_info": {
   "codemirror_mode": {
    "name": "ipython",
    "version": 3
   },
   "file_extension": ".py",
   "mimetype": "text/x-python",
   "name": "python",
   "nbconvert_exporter": "python",
   "pygments_lexer": "ipython3",
   "version": "3.6.8"
  }
 },
 "nbformat": 4,
 "nbformat_minor": 2
}
