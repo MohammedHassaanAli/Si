{
 "cells": [
  {
   "cell_type": "code",
   "execution_count": 1,
   "metadata": {},
   "outputs": [
    {
     "name": "stdout",
     "output_type": "stream",
     "text": [
      "Requirement already satisfied: datetime in c:\\users\\vaibhav\\anaconda3\\lib\\site-packages (4.3)\n",
      "Requirement already satisfied: pytz in c:\\users\\vaibhav\\anaconda3\\lib\\site-packages (from datetime) (2018.9)\n",
      "Requirement already satisfied: zope.interface in c:\\users\\vaibhav\\anaconda3\\lib\\site-packages (from datetime) (4.6.0)\n",
      "Requirement already satisfied: setuptools in c:\\users\\vaibhav\\anaconda3\\lib\\site-packages (from zope.interface->datetime) (40.8.0)\n"
     ]
    }
   ],
   "source": [
    "#! pip install datetime"
   ]
  },
  {
   "cell_type": "code",
   "execution_count": 1,
   "metadata": {},
   "outputs": [],
   "source": [
    "import pandas as pd\n",
    "import numpy as np\n",
    "import datetime"
   ]
  },
  {
   "cell_type": "code",
   "execution_count": null,
   "metadata": {},
   "outputs": [],
   "source": [
    "dt = datetime.datetime.today()\n",
    "dt"
   ]
  },
  {
   "cell_type": "code",
   "execution_count": null,
   "metadata": {},
   "outputs": [],
   "source": [
    "print(dt)"
   ]
  },
  {
   "cell_type": "code",
   "execution_count": null,
   "metadata": {},
   "outputs": [],
   "source": [
    "dt.date()"
   ]
  },
  {
   "cell_type": "code",
   "execution_count": null,
   "metadata": {},
   "outputs": [],
   "source": [
    "dt.day"
   ]
  },
  {
   "cell_type": "code",
   "execution_count": null,
   "metadata": {},
   "outputs": [],
   "source": [
    "dt.ctime()"
   ]
  },
  {
   "cell_type": "code",
   "execution_count": null,
   "metadata": {},
   "outputs": [],
   "source": [
    "dt.hour"
   ]
  },
  {
   "cell_type": "code",
   "execution_count": null,
   "metadata": {},
   "outputs": [],
   "source": [
    "dt.minute"
   ]
  },
  {
   "cell_type": "code",
   "execution_count": null,
   "metadata": {},
   "outputs": [],
   "source": [
    "dt.second, dt.microsecond"
   ]
  },
  {
   "cell_type": "code",
   "execution_count": null,
   "metadata": {},
   "outputs": [],
   "source": [
    "print(\"Date: {}/{}/{}\".format(dt.day, dt.month, dt.year))"
   ]
  },
  {
   "cell_type": "code",
   "execution_count": null,
   "metadata": {},
   "outputs": [],
   "source": [
    "x = \"{}:{}:{}:{}\".format(dt.hour, dt.minute, dt.second, dt.microsecond)\n",
    "x"
   ]
  },
  {
   "cell_type": "code",
   "execution_count": null,
   "metadata": {},
   "outputs": [],
   "source": [
    "#to date fn from datetime module to create the date object\n",
    "date = datetime.date(1999, 9, 10)\n",
    "print(date)"
   ]
  },
  {
   "cell_type": "code",
   "execution_count": null,
   "metadata": {},
   "outputs": [],
   "source": [
    "# time fn from datetime module to create the time object\n",
    "time= datetime.time(4, 20, 34,90)\n",
    "print(time)"
   ]
  },
  {
   "cell_type": "code",
   "execution_count": null,
   "metadata": {},
   "outputs": [],
   "source": [
    "#datetime class from datetime module has a combine method to combine the date and the time objects\n",
    "dt = datetime.datetime.combine(date, time)\n",
    "print(dt)"
   ]
  },
  {
   "cell_type": "markdown",
   "metadata": {},
   "source": [
    "----"
   ]
  },
  {
   "cell_type": "markdown",
   "metadata": {},
   "source": [
    "### Explaining timedelta class in datetime module"
   ]
  },
  {
   "cell_type": "code",
   "execution_count": null,
   "metadata": {},
   "outputs": [],
   "source": [
    "print(dt)"
   ]
  },
  {
   "cell_type": "code",
   "execution_count": null,
   "metadata": {},
   "outputs": [],
   "source": [
    "dt2 = datetime.datetime.today()\n",
    "print(dt2)"
   ]
  },
  {
   "cell_type": "code",
   "execution_count": null,
   "metadata": {},
   "outputs": [],
   "source": [
    "p = dt2 - dt\n",
    "print(p)"
   ]
  },
  {
   "cell_type": "code",
   "execution_count": null,
   "metadata": {},
   "outputs": [],
   "source": [
    "type(p)"
   ]
  },
  {
   "cell_type": "code",
   "execution_count": null,
   "metadata": {},
   "outputs": [],
   "source": [
    "#from p i can access the methods and attributes of timedelta class?"
   ]
  },
  {
   "cell_type": "code",
   "execution_count": null,
   "metadata": {},
   "outputs": [],
   "source": [
    "p.microseconds"
   ]
  },
  {
   "cell_type": "code",
   "execution_count": null,
   "metadata": {},
   "outputs": [],
   "source": [
    "p.total_seconds()"
   ]
  },
  {
   "cell_type": "code",
   "execution_count": null,
   "metadata": {},
   "outputs": [],
   "source": [
    "print(dt)"
   ]
  },
  {
   "cell_type": "code",
   "execution_count": null,
   "metadata": {},
   "outputs": [],
   "source": [
    "dt+datetime.timedelta(days = 40)"
   ]
  },
  {
   "cell_type": "code",
   "execution_count": null,
   "metadata": {},
   "outputs": [],
   "source": [
    "dt+datetime.timedelta(weeks = 10)"
   ]
  },
  {
   "cell_type": "markdown",
   "metadata": {},
   "source": [
    "----"
   ]
  },
  {
   "cell_type": "markdown",
   "metadata": {},
   "source": [
    "### Pandas implementation of datetime class"
   ]
  },
  {
   "cell_type": "code",
   "execution_count": null,
   "metadata": {},
   "outputs": [],
   "source": [
    "ap = pd.read_csv(r\"C:\\Users\\Vaibhav\\Desktop\\BA\\Datasets\\data_sets\\AirPassengers.csv\")"
   ]
  },
  {
   "cell_type": "code",
   "execution_count": null,
   "metadata": {},
   "outputs": [],
   "source": [
    "ap.Month.dtype"
   ]
  },
  {
   "cell_type": "code",
   "execution_count": null,
   "metadata": {},
   "outputs": [],
   "source": [
    "### Datetime formatting\n",
    "\n",
    "%a\tWeekday as locale’s abbreviated name.\tSun, Mon, …, Sat (en_US);\n",
    "\n",
    "\t\tSo, Mo, …, Sa (de_DE)\n",
    "        \n",
    "%A\tWeekday as locale’s full name.\tSunday, Monday, …, Saturday (en_US);\n",
    "\n",
    "\t\tSonntag, Montag, …, Samstag (de_DE)\n",
    "        \n",
    "%w\tWeekday as a decimal number, where 0 is Sunday and 6 is Saturday.\t0, 1, …, 6\n",
    "\n",
    "%d\tDay of the month as a zero-padded decimal number.\t01, 02, …, 31\n",
    "\n",
    "%b\tMonth as locale’s abbreviated name.\tJan, Feb, …, Dec (en_US);\n",
    "\n",
    "%B\tMonth as locale’s full name.\tJanuary, February, …, December (en_US);\n",
    "\n",
    "%m\tMonth as a zero-padded decimal number.\t01, 02, …, 12\n",
    "\n",
    "%y\tYear without century as a zero-padded decimal number.\t00, 01, …, 99\n",
    "\n",
    "%Y\tYear with century as a decimal number.\t0001, 0002, …, 2013, 2014, …, 9998, 9999\n",
    "\n",
    "%H\tHour (24-hour clock) as a zero-padded decimal number.\t00, 01, …, 23\n",
    "\n",
    "%I\tHour (12-hour clock) as a zero-padded decimal number.\t01, 02, …, 12\n",
    "\n",
    "%p\tLocale’s equivalent of either AM or PM.\tAM, PM (en_US);\n",
    "\n",
    "%M\tMinute as a zero-padded decimal number.\t00, 01, …, 59\n",
    "\n",
    "%S\tSecond as a zero-padded decimal number.\t00, 01, …, 59\n",
    "\n",
    "%f\tMicrosecond as a decimal number, zero-padded on the left.\t000000, 000001, …, 999999\n",
    "\n",
    "%z\tUTC offset in the form +HHMM or -HHMM (empty string if the object is naive).\t(empty), +0000, -0400, +1030\n",
    "\n",
    "%Z\tTime zone name (empty string if the object is naive).\t(empty), UTC, EST, CST\n",
    "\n",
    "%j\tDay of the year as a zero-padded decimal number.\t001, 002, …, 366\n",
    "\n",
    "%U\tWeek number of the year (Sunday as the first day of the week) as a zero padded decimal number. \n",
    "All days in a new year preceding the first Sunday are considered to be in week 0.\t00, 01, …, 53\n",
    "\n",
    "%W\tWeek number of the year (Monday as the first day of the week) as a decimal number. All days in a new year preceding the first Monday are considered to be in week 0.\t00, 01, …, 53\n"
   ]
  },
  {
   "cell_type": "code",
   "execution_count": null,
   "metadata": {},
   "outputs": [],
   "source": [
    "ap.head(2) #year and the month"
   ]
  },
  {
   "cell_type": "code",
   "execution_count": null,
   "metadata": {},
   "outputs": [],
   "source": [
    "ap[\"Month\"]=pd.to_datetime(ap.Month, format = \"%Y-%m\")"
   ]
  },
  {
   "cell_type": "code",
   "execution_count": null,
   "metadata": {},
   "outputs": [],
   "source": [
    "ap.Month.dtype"
   ]
  },
  {
   "cell_type": "markdown",
   "metadata": {},
   "source": [
    "ap.Month[0]"
   ]
  },
  {
   "cell_type": "code",
   "execution_count": null,
   "metadata": {},
   "outputs": [],
   "source": [
    "#2nd way strptime function"
   ]
  },
  {
   "cell_type": "code",
   "execution_count": null,
   "metadata": {},
   "outputs": [],
   "source": [
    "x = \"8-1990\""
   ]
  },
  {
   "cell_type": "code",
   "execution_count": null,
   "metadata": {},
   "outputs": [],
   "source": [
    "print(pd.datetime.strptime(x, \"%m-%Y\"))"
   ]
  },
  {
   "cell_type": "code",
   "execution_count": null,
   "metadata": {},
   "outputs": [],
   "source": [
    "x = \"Aug/90 5:20 PM\"\n",
    "print(pd.datetime.strptime(x, \"%b/%y %H:%M %p\"))"
   ]
  },
  {
   "cell_type": "code",
   "execution_count": null,
   "metadata": {},
   "outputs": [],
   "source": [
    "ap = pd.read_csv(r\"C:\\Users\\Vaibhav\\Desktop\\BA\\Datasets\\data_sets\\AirPassengers.csv\")"
   ]
  },
  {
   "cell_type": "code",
   "execution_count": null,
   "metadata": {},
   "outputs": [],
   "source": [
    "ap.head()"
   ]
  },
  {
   "cell_type": "code",
   "execution_count": null,
   "metadata": {},
   "outputs": [],
   "source": [
    "dateparser = lambda dates: pd.datetime.strptime(dates, \"%Y-%m\")"
   ]
  },
  {
   "cell_type": "code",
   "execution_count": null,
   "metadata": {},
   "outputs": [],
   "source": [
    "dateparser(ap.Month[0])"
   ]
  },
  {
   "cell_type": "code",
   "execution_count": null,
   "metadata": {},
   "outputs": [],
   "source": [
    "airp = pd.read_csv(r\"C:\\Users\\Vaibhav\\Desktop\\BA\\Datasets\\data_sets\\AirPassengers.csv\", parse_dates = [\"Month\"], date_parser = dateparser)"
   ]
  },
  {
   "cell_type": "code",
   "execution_count": null,
   "metadata": {},
   "outputs": [],
   "source": [
    "airp.head()"
   ]
  },
  {
   "cell_type": "code",
   "execution_count": null,
   "metadata": {},
   "outputs": [],
   "source": [
    "nyc = pd.read_csv(r\"C:\\Users\\Vaibhav\\Desktop\\03June\\DataSciencePy\\Projects(1)\\Projects for Submission\\Project3_NYC311\\311_Service_Requests_from_2010_to_Present.csv\")"
   ]
  },
  {
   "cell_type": "code",
   "execution_count": null,
   "metadata": {},
   "outputs": [],
   "source": [
    "nyc.head()"
   ]
  },
  {
   "cell_type": "code",
   "execution_count": null,
   "metadata": {},
   "outputs": [],
   "source": [
    "print(nyc[\"Created Date\"][0])"
   ]
  },
  {
   "cell_type": "code",
   "execution_count": null,
   "metadata": {},
   "outputs": [],
   "source": [
    "print(nyc[\"Created Date\"])"
   ]
  },
  {
   "cell_type": "code",
   "execution_count": null,
   "metadata": {},
   "outputs": [],
   "source": [
    "id_format1 = nyc.loc[nyc[\"Created Date\"].apply(len)==22, \"Created Date\"].index"
   ]
  },
  {
   "cell_type": "code",
   "execution_count": null,
   "metadata": {},
   "outputs": [],
   "source": [
    "id_format2 = nyc[~nyc.index.isin(id_format1)].index"
   ]
  },
  {
   "cell_type": "code",
   "execution_count": null,
   "metadata": {},
   "outputs": [],
   "source": [
    "nyc1 = nyc.loc[id_format1,:]"
   ]
  },
  {
   "cell_type": "code",
   "execution_count": null,
   "metadata": {},
   "outputs": [],
   "source": [
    "nyc2 = nyc.loc[id_format2, :]"
   ]
  },
  {
   "cell_type": "code",
   "execution_count": null,
   "metadata": {},
   "outputs": [],
   "source": [
    "nyc1[\"Created Date\"] = pd.to_datetime(nyc1.loc[id_format1, \"Created Date\"] , format = \"%m/%d/%Y %I:%M:%S %p\")"
   ]
  },
  {
   "cell_type": "code",
   "execution_count": null,
   "metadata": {},
   "outputs": [],
   "source": [
    "nyc1[\"Created Date\"].head()"
   ]
  },
  {
   "cell_type": "code",
   "execution_count": null,
   "metadata": {},
   "outputs": [],
   "source": [
    "nyc2[\"Created Date\"] = pd.to_datetime(nyc2[\"Created Date\"] , format = \"%m-%d-%y %H:%M\")"
   ]
  },
  {
   "cell_type": "code",
   "execution_count": null,
   "metadata": {},
   "outputs": [],
   "source": [
    "nyc = nyc1.append(nyc2)"
   ]
  },
  {
   "cell_type": "code",
   "execution_count": null,
   "metadata": {},
   "outputs": [],
   "source": [
    "nyc[\"Created Date\"].dtype"
   ]
  },
  {
   "cell_type": "markdown",
   "metadata": {},
   "source": [
    "----"
   ]
  },
  {
   "cell_type": "code",
   "execution_count": 2,
   "metadata": {},
   "outputs": [
    {
     "name": "stderr",
     "output_type": "stream",
     "text": [
      "C:\\Users\\Vaibhav\\Anaconda3\\lib\\site-packages\\IPython\\core\\interactiveshell.py:3044: DtypeWarning: Columns (48,49) have mixed types. Specify dtype option on import or set low_memory=False.\n",
      "  interactivity=interactivity, compiler=compiler, result=result)\n"
     ]
    }
   ],
   "source": [
    "import pandas as pd\n",
    "nyc = pd.read_csv(r\"C:\\Users\\Vaibhav\\Desktop\\03June\\DataSciencePy\\Projects(1)\\Projects for Submission\\Project3_NYC311\\311_Service_Requests_from_2010_to_Present.csv\")"
   ]
  },
  {
   "cell_type": "code",
   "execution_count": 7,
   "metadata": {},
   "outputs": [],
   "source": [
    "nyc[\"Closed_Date\"] = pd.to_datetime(nyc[\"Closed Date\"], format = \"%m-%d-%y %H:%M\", errors = \"coerce\" )"
   ]
  },
  {
   "cell_type": "code",
   "execution_count": 15,
   "metadata": {},
   "outputs": [],
   "source": [
    "nyc.loc[nyc[\"Closed_Date\"].isnull(), \"Closed_Date\"]=pd.to_datetime(nyc.loc[nyc[\"Closed_Date\"].isnull(), \"Closed Date\"], format = \"%m/%d/%Y %I:%M:%S %p\")"
   ]
  },
  {
   "cell_type": "code",
   "execution_count": 17,
   "metadata": {},
   "outputs": [
    {
     "data": {
      "text/plain": [
       "dtype('<M8[ns]')"
      ]
     },
     "execution_count": 17,
     "metadata": {},
     "output_type": "execute_result"
    }
   ],
   "source": [
    "nyc.Closed_Date.dtype"
   ]
  },
  {
   "cell_type": "markdown",
   "metadata": {},
   "source": [
    "### to create the parser function, handle the 2 different syntaxes"
   ]
  },
  {
   "cell_type": "code",
   "execution_count": 19,
   "metadata": {},
   "outputs": [
    {
     "data": {
      "text/plain": [
       "'12/31/2015 11:59:45 PM'"
      ]
     },
     "execution_count": 19,
     "metadata": {},
     "output_type": "execute_result"
    }
   ],
   "source": [
    "nyc[\"Created Date\"][0]"
   ]
  },
  {
   "cell_type": "code",
   "execution_count": 26,
   "metadata": {},
   "outputs": [
    {
     "data": {
      "text/plain": [
       "22"
      ]
     },
     "execution_count": 26,
     "metadata": {},
     "output_type": "execute_result"
    }
   ],
   "source": [
    "len(nyc[\"Created Date\"][0])"
   ]
  },
  {
   "cell_type": "code",
   "execution_count": 34,
   "metadata": {},
   "outputs": [],
   "source": [
    "def dateparser(dates):\n",
    "    if len(dates)==22:\n",
    "        return pd.datetime.strptime(str(dates), \"%m/%d/%Y %I:%M:%S %p\")\n",
    "    else:\n",
    "        return pd.datetime.strptime(str(dates), \"%m-%d-%y %H:%M\")"
   ]
  },
  {
   "cell_type": "code",
   "execution_count": 35,
   "metadata": {},
   "outputs": [],
   "source": [
    "import pandas as pd\n",
    "ny = pd.read_csv(r\"C:\\Users\\Vaibhav\\Desktop\\03June\\DataSciencePy\\Projects(1)\\Projects for Submission\\Project3_NYC311\\311_Service_Requests_from_2010_to_Present.csv\", parse_dates=[\"Created Date\", \"Closed Date\"], date_parser=dateparser, na_filter=False )"
   ]
  },
  {
   "cell_type": "code",
   "execution_count": 36,
   "metadata": {},
   "outputs": [
    {
     "data": {
      "text/html": [
       "<div>\n",
       "<style scoped>\n",
       "    .dataframe tbody tr th:only-of-type {\n",
       "        vertical-align: middle;\n",
       "    }\n",
       "\n",
       "    .dataframe tbody tr th {\n",
       "        vertical-align: top;\n",
       "    }\n",
       "\n",
       "    .dataframe thead th {\n",
       "        text-align: right;\n",
       "    }\n",
       "</style>\n",
       "<table border=\"1\" class=\"dataframe\">\n",
       "  <thead>\n",
       "    <tr style=\"text-align: right;\">\n",
       "      <th></th>\n",
       "      <th>Unique Key</th>\n",
       "      <th>Created Date</th>\n",
       "      <th>Closed Date</th>\n",
       "      <th>Agency</th>\n",
       "      <th>Agency Name</th>\n",
       "      <th>Complaint Type</th>\n",
       "      <th>Descriptor</th>\n",
       "      <th>Location Type</th>\n",
       "      <th>Incident Zip</th>\n",
       "      <th>Incident Address</th>\n",
       "      <th>...</th>\n",
       "      <th>Bridge Highway Name</th>\n",
       "      <th>Bridge Highway Direction</th>\n",
       "      <th>Road Ramp</th>\n",
       "      <th>Bridge Highway Segment</th>\n",
       "      <th>Garage Lot Name</th>\n",
       "      <th>Ferry Direction</th>\n",
       "      <th>Ferry Terminal Name</th>\n",
       "      <th>Latitude</th>\n",
       "      <th>Longitude</th>\n",
       "      <th>Location</th>\n",
       "    </tr>\n",
       "  </thead>\n",
       "  <tbody>\n",
       "    <tr>\n",
       "      <th>0</th>\n",
       "      <td>32310363</td>\n",
       "      <td>2015-12-31 23:59:45</td>\n",
       "      <td>2016-01-01 00:55:00</td>\n",
       "      <td>NYPD</td>\n",
       "      <td>New York City Police Department</td>\n",
       "      <td>Noise - Street/Sidewalk</td>\n",
       "      <td>Loud Music/Party</td>\n",
       "      <td>Street/Sidewalk</td>\n",
       "      <td>10034</td>\n",
       "      <td>71 VERMILYEA AVENUE</td>\n",
       "      <td>...</td>\n",
       "      <td></td>\n",
       "      <td></td>\n",
       "      <td></td>\n",
       "      <td></td>\n",
       "      <td></td>\n",
       "      <td></td>\n",
       "      <td></td>\n",
       "      <td>40.86568154</td>\n",
       "      <td>-73.92350096</td>\n",
       "      <td>(40.86568153633767, -73.92350095571744)</td>\n",
       "    </tr>\n",
       "    <tr>\n",
       "      <th>1</th>\n",
       "      <td>32309934</td>\n",
       "      <td>2015-12-31 23:59:44</td>\n",
       "      <td>2016-01-01 01:26:00</td>\n",
       "      <td>NYPD</td>\n",
       "      <td>New York City Police Department</td>\n",
       "      <td>Blocked Driveway</td>\n",
       "      <td>No Access</td>\n",
       "      <td>Street/Sidewalk</td>\n",
       "      <td>11105</td>\n",
       "      <td>27-07 23 AVENUE</td>\n",
       "      <td>...</td>\n",
       "      <td></td>\n",
       "      <td></td>\n",
       "      <td></td>\n",
       "      <td></td>\n",
       "      <td></td>\n",
       "      <td></td>\n",
       "      <td></td>\n",
       "      <td>40.77594531</td>\n",
       "      <td>-73.91509394</td>\n",
       "      <td>(40.775945312321085, -73.91509393898605)</td>\n",
       "    </tr>\n",
       "    <tr>\n",
       "      <th>2</th>\n",
       "      <td>32309159</td>\n",
       "      <td>2015-12-31 23:59:29</td>\n",
       "      <td>2016-01-01 04:51:00</td>\n",
       "      <td>NYPD</td>\n",
       "      <td>New York City Police Department</td>\n",
       "      <td>Blocked Driveway</td>\n",
       "      <td>No Access</td>\n",
       "      <td>Street/Sidewalk</td>\n",
       "      <td>10458</td>\n",
       "      <td>2897 VALENTINE AVENUE</td>\n",
       "      <td>...</td>\n",
       "      <td></td>\n",
       "      <td></td>\n",
       "      <td></td>\n",
       "      <td></td>\n",
       "      <td></td>\n",
       "      <td></td>\n",
       "      <td></td>\n",
       "      <td>40.87032452</td>\n",
       "      <td>-73.88852464</td>\n",
       "      <td>(40.870324522111424, -73.88852464418646)</td>\n",
       "    </tr>\n",
       "    <tr>\n",
       "      <th>3</th>\n",
       "      <td>32305098</td>\n",
       "      <td>2015-12-31 23:57:46</td>\n",
       "      <td>2016-01-01 07:43:00</td>\n",
       "      <td>NYPD</td>\n",
       "      <td>New York City Police Department</td>\n",
       "      <td>Illegal Parking</td>\n",
       "      <td>Commercial Overnight Parking</td>\n",
       "      <td>Street/Sidewalk</td>\n",
       "      <td>10461</td>\n",
       "      <td>2940 BAISLEY AVENUE</td>\n",
       "      <td>...</td>\n",
       "      <td></td>\n",
       "      <td></td>\n",
       "      <td></td>\n",
       "      <td></td>\n",
       "      <td></td>\n",
       "      <td></td>\n",
       "      <td></td>\n",
       "      <td>40.83599405</td>\n",
       "      <td>-73.8283794</td>\n",
       "      <td>(40.83599404683083, -73.82837939584206)</td>\n",
       "    </tr>\n",
       "    <tr>\n",
       "      <th>4</th>\n",
       "      <td>32306529</td>\n",
       "      <td>2015-12-31 23:56:58</td>\n",
       "      <td>2016-01-01 03:24:00</td>\n",
       "      <td>NYPD</td>\n",
       "      <td>New York City Police Department</td>\n",
       "      <td>Illegal Parking</td>\n",
       "      <td>Blocked Sidewalk</td>\n",
       "      <td>Street/Sidewalk</td>\n",
       "      <td>11373</td>\n",
       "      <td>87-14 57 ROAD</td>\n",
       "      <td>...</td>\n",
       "      <td></td>\n",
       "      <td></td>\n",
       "      <td></td>\n",
       "      <td></td>\n",
       "      <td></td>\n",
       "      <td></td>\n",
       "      <td></td>\n",
       "      <td>40.73305962</td>\n",
       "      <td>-73.87416976</td>\n",
       "      <td>(40.733059618956815, -73.87416975810375)</td>\n",
       "    </tr>\n",
       "  </tbody>\n",
       "</table>\n",
       "<p>5 rows × 53 columns</p>\n",
       "</div>"
      ],
      "text/plain": [
       "   Unique Key        Created Date         Closed Date Agency  \\\n",
       "0    32310363 2015-12-31 23:59:45 2016-01-01 00:55:00   NYPD   \n",
       "1    32309934 2015-12-31 23:59:44 2016-01-01 01:26:00   NYPD   \n",
       "2    32309159 2015-12-31 23:59:29 2016-01-01 04:51:00   NYPD   \n",
       "3    32305098 2015-12-31 23:57:46 2016-01-01 07:43:00   NYPD   \n",
       "4    32306529 2015-12-31 23:56:58 2016-01-01 03:24:00   NYPD   \n",
       "\n",
       "                       Agency Name           Complaint Type  \\\n",
       "0  New York City Police Department  Noise - Street/Sidewalk   \n",
       "1  New York City Police Department         Blocked Driveway   \n",
       "2  New York City Police Department         Blocked Driveway   \n",
       "3  New York City Police Department          Illegal Parking   \n",
       "4  New York City Police Department          Illegal Parking   \n",
       "\n",
       "                     Descriptor    Location Type Incident Zip  \\\n",
       "0              Loud Music/Party  Street/Sidewalk        10034   \n",
       "1                     No Access  Street/Sidewalk        11105   \n",
       "2                     No Access  Street/Sidewalk        10458   \n",
       "3  Commercial Overnight Parking  Street/Sidewalk        10461   \n",
       "4              Blocked Sidewalk  Street/Sidewalk        11373   \n",
       "\n",
       "        Incident Address  ... Bridge Highway Name Bridge Highway Direction  \\\n",
       "0    71 VERMILYEA AVENUE  ...                                                \n",
       "1        27-07 23 AVENUE  ...                                                \n",
       "2  2897 VALENTINE AVENUE  ...                                                \n",
       "3    2940 BAISLEY AVENUE  ...                                                \n",
       "4          87-14 57 ROAD  ...                                                \n",
       "\n",
       "  Road Ramp Bridge Highway Segment Garage Lot Name Ferry Direction  \\\n",
       "0                                                                    \n",
       "1                                                                    \n",
       "2                                                                    \n",
       "3                                                                    \n",
       "4                                                                    \n",
       "\n",
       "  Ferry Terminal Name     Latitude     Longitude  \\\n",
       "0                      40.86568154  -73.92350096   \n",
       "1                      40.77594531  -73.91509394   \n",
       "2                      40.87032452  -73.88852464   \n",
       "3                      40.83599405   -73.8283794   \n",
       "4                      40.73305962  -73.87416976   \n",
       "\n",
       "                                   Location  \n",
       "0   (40.86568153633767, -73.92350095571744)  \n",
       "1  (40.775945312321085, -73.91509393898605)  \n",
       "2  (40.870324522111424, -73.88852464418646)  \n",
       "3   (40.83599404683083, -73.82837939584206)  \n",
       "4  (40.733059618956815, -73.87416975810375)  \n",
       "\n",
       "[5 rows x 53 columns]"
      ]
     },
     "execution_count": 36,
     "metadata": {},
     "output_type": "execute_result"
    }
   ],
   "source": [
    "ny.head()"
   ]
  },
  {
   "cell_type": "code",
   "execution_count": 37,
   "metadata": {},
   "outputs": [
    {
     "name": "stdout",
     "output_type": "stream",
     "text": [
      "<class 'pandas.core.frame.DataFrame'>\n",
      "RangeIndex: 300698 entries, 0 to 300697\n",
      "Data columns (total 53 columns):\n",
      "Unique Key                        300698 non-null int64\n",
      "Created Date                      300698 non-null datetime64[ns]\n",
      "Closed Date                       298534 non-null datetime64[ns]\n",
      "Agency                            300698 non-null object\n",
      "Agency Name                       300698 non-null object\n",
      "Complaint Type                    300698 non-null object\n",
      "Descriptor                        300698 non-null object\n",
      "Location Type                     300698 non-null object\n",
      "Incident Zip                      300698 non-null object\n",
      "Incident Address                  300698 non-null object\n",
      "Street Name                       300698 non-null object\n",
      "Cross Street 1                    300698 non-null object\n",
      "Cross Street 2                    300698 non-null object\n",
      "Intersection Street 1             300698 non-null object\n",
      "Intersection Street 2             300698 non-null object\n",
      "Address Type                      300698 non-null object\n",
      "City                              300698 non-null object\n",
      "Landmark                          300698 non-null object\n",
      "Facility Type                     300698 non-null object\n",
      "Status                            300698 non-null object\n",
      "Due Date                          300698 non-null object\n",
      "Resolution Description            300698 non-null object\n",
      "Resolution Action Updated Date    300698 non-null object\n",
      "Community Board                   300698 non-null object\n",
      "Borough                           300698 non-null object\n",
      "X Coordinate (State Plane)        300698 non-null object\n",
      "Y Coordinate (State Plane)        300698 non-null object\n",
      "Park Facility Name                300698 non-null object\n",
      "Park Borough                      300698 non-null object\n",
      "School Name                       300698 non-null object\n",
      "School Number                     300698 non-null object\n",
      "School Region                     300698 non-null object\n",
      "School Code                       300698 non-null object\n",
      "School Phone Number               300698 non-null object\n",
      "School Address                    300698 non-null object\n",
      "School City                       300698 non-null object\n",
      "School State                      300698 non-null object\n",
      "School Zip                        300698 non-null object\n",
      "School Not Found                  300698 non-null object\n",
      "School or Citywide Complaint      300698 non-null object\n",
      "Vehicle Type                      300698 non-null object\n",
      "Taxi Company Borough              300698 non-null object\n",
      "Taxi Pick Up Location             300698 non-null object\n",
      "Bridge Highway Name               300698 non-null object\n",
      "Bridge Highway Direction          300698 non-null object\n",
      "Road Ramp                         300698 non-null object\n",
      "Bridge Highway Segment            300698 non-null object\n",
      "Garage Lot Name                   300698 non-null object\n",
      "Ferry Direction                   300698 non-null object\n",
      "Ferry Terminal Name               300698 non-null object\n",
      "Latitude                          300698 non-null object\n",
      "Longitude                         300698 non-null object\n",
      "Location                          300698 non-null object\n",
      "dtypes: datetime64[ns](2), int64(1), object(50)\n",
      "memory usage: 121.6+ MB\n"
     ]
    }
   ],
   "source": [
    "ny.info()"
   ]
  },
  {
   "cell_type": "code",
   "execution_count": 39,
   "metadata": {},
   "outputs": [
    {
     "data": {
      "text/plain": [
       "416      NaT\n",
       "611      NaT\n",
       "1648     NaT\n",
       "1816     NaT\n",
       "1965     NaT\n",
       "1987     NaT\n",
       "2149     NaT\n",
       "2415     NaT\n",
       "2541     NaT\n",
       "2556     NaT\n",
       "2667     NaT\n",
       "2924     NaT\n",
       "3693     NaT\n",
       "3748     NaT\n",
       "3810     NaT\n",
       "3833     NaT\n",
       "4277     NaT\n",
       "4282     NaT\n",
       "4297     NaT\n",
       "4715     NaT\n",
       "4867     NaT\n",
       "5170     NaT\n",
       "5292     NaT\n",
       "5396     NaT\n",
       "5503     NaT\n",
       "5572     NaT\n",
       "5646     NaT\n",
       "5694     NaT\n",
       "5816     NaT\n",
       "5880     NaT\n",
       "          ..\n",
       "295003   NaT\n",
       "295549   NaT\n",
       "295636   NaT\n",
       "295639   NaT\n",
       "295840   NaT\n",
       "296033   NaT\n",
       "296570   NaT\n",
       "296848   NaT\n",
       "297038   NaT\n",
       "297358   NaT\n",
       "297372   NaT\n",
       "297464   NaT\n",
       "297497   NaT\n",
       "297738   NaT\n",
       "297743   NaT\n",
       "297851   NaT\n",
       "298344   NaT\n",
       "298375   NaT\n",
       "298388   NaT\n",
       "298640   NaT\n",
       "298792   NaT\n",
       "298794   NaT\n",
       "299201   NaT\n",
       "299333   NaT\n",
       "300002   NaT\n",
       "300273   NaT\n",
       "300492   NaT\n",
       "300496   NaT\n",
       "300620   NaT\n",
       "300693   NaT\n",
       "Name: Closed Date, Length: 2164, dtype: datetime64[ns]"
      ]
     },
     "execution_count": 39,
     "metadata": {},
     "output_type": "execute_result"
    }
   ],
   "source": [
    "ny.loc[ny[\"Closed Date\"].isnull(),\"Closed Date\"]"
   ]
  },
  {
   "cell_type": "code",
   "execution_count": 52,
   "metadata": {},
   "outputs": [
    {
     "data": {
      "text/plain": [
       "0   00:55:15\n",
       "1   01:26:16\n",
       "2   04:51:31\n",
       "3   07:45:14\n",
       "4   03:27:02\n",
       "dtype: timedelta64[ns]"
      ]
     },
     "execution_count": 52,
     "metadata": {},
     "output_type": "execute_result"
    }
   ],
   "source": [
    "td = ny[\"Closed Date\"] - ny[\"Created Date\"]\n",
    "td.head()"
   ]
  },
  {
   "cell_type": "code",
   "execution_count": 47,
   "metadata": {},
   "outputs": [],
   "source": [
    "import datetime"
   ]
  },
  {
   "cell_type": "code",
   "execution_count": 50,
   "metadata": {},
   "outputs": [
    {
     "ename": "TypeError",
     "evalue": "descriptor 'total_seconds' of 'datetime.timedelta' object needs an argument",
     "output_type": "error",
     "traceback": [
      "\u001b[1;31m---------------------------------------------------------------------------\u001b[0m",
      "\u001b[1;31mTypeError\u001b[0m                                 Traceback (most recent call last)",
      "\u001b[1;32m<ipython-input-50-22fef0938c66>\u001b[0m in \u001b[0;36m<module>\u001b[1;34m\u001b[0m\n\u001b[1;32m----> 1\u001b[1;33m \u001b[0mdatetime\u001b[0m\u001b[1;33m.\u001b[0m\u001b[0mtimedelta\u001b[0m\u001b[1;33m.\u001b[0m\u001b[0mtotal_seconds\u001b[0m\u001b[1;33m(\u001b[0m\u001b[1;33m)\u001b[0m\u001b[1;33m\u001b[0m\u001b[1;33m\u001b[0m\u001b[0m\n\u001b[0m",
      "\u001b[1;31mTypeError\u001b[0m: descriptor 'total_seconds' of 'datetime.timedelta' object needs an argument"
     ]
    }
   ],
   "source": [
    "#datetime.timedelta.total_seconds()"
   ]
  },
  {
   "cell_type": "code",
   "execution_count": 49,
   "metadata": {},
   "outputs": [
    {
     "data": {
      "text/plain": [
       "pandas._libs.tslibs.timedeltas.Timedelta"
      ]
     },
     "execution_count": 49,
     "metadata": {},
     "output_type": "execute_result"
    }
   ],
   "source": [
    "type(td[0])"
   ]
  },
  {
   "cell_type": "code",
   "execution_count": 53,
   "metadata": {},
   "outputs": [
    {
     "data": {
      "text/plain": [
       "3315.0"
      ]
     },
     "execution_count": 53,
     "metadata": {},
     "output_type": "execute_result"
    }
   ],
   "source": [
    "td[0].total_seconds()"
   ]
  },
  {
   "cell_type": "code",
   "execution_count": null,
   "metadata": {},
   "outputs": [],
   "source": []
  }
 ],
 "metadata": {
  "kernelspec": {
   "display_name": "Python 3",
   "language": "python",
   "name": "python3"
  },
  "language_info": {
   "codemirror_mode": {
    "name": "ipython",
    "version": 3
   },
   "file_extension": ".py",
   "mimetype": "text/x-python",
   "name": "python",
   "nbconvert_exporter": "python",
   "pygments_lexer": "ipython3",
   "version": "3.6.8"
  }
 },
 "nbformat": 4,
 "nbformat_minor": 2
}
