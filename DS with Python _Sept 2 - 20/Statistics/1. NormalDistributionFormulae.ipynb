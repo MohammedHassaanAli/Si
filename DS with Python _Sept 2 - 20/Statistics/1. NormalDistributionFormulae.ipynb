{
 "cells": [
  {
   "cell_type": "markdown",
   "metadata": {},
   "source": [
    "# STATISTICS - NORMAL DISTRIBUTION"
   ]
  },
  {
   "cell_type": "code",
   "execution_count": 1,
   "metadata": {},
   "outputs": [],
   "source": [
    "import scipy.stats as stats"
   ]
  },
  {
   "cell_type": "code",
   "execution_count": 2,
   "metadata": {},
   "outputs": [
    {
     "data": {
      "text/plain": [
       "0.8413447460685429"
      ]
     },
     "execution_count": 2,
     "metadata": {},
     "output_type": "execute_result"
    }
   ],
   "source": [
    "#normdist\n",
    "stats.norm.cdf(110,loc = 100, scale = 10) #default mean = 0 and default scale = 1\n",
    "#cdf cumulative distribution function\n",
    "#loc means mean and scale means standard deviation\n",
    "#default values of loc and scale are 0 and 1 respectively"
   ]
  },
  {
   "cell_type": "code",
   "execution_count": null,
   "metadata": {},
   "outputs": [],
   "source": [
    "#normdist: stats.norm.cdf(110,loc = 100, scale = 10) #this returns the lower tail prob given the x value\n",
    "#normsdist: stats.norm.cdf(z) # this returns the lower tail prob value given the z value\n",
    "#norminv: stats.norm.ppf(p, loc = 100, scale = 10) #this returns the x value given the lower tail prob\n",
    "#normsinv: stats.norm.ppf(p) - returns the z score, given the lower tail prob"
   ]
  },
  {
   "cell_type": "code",
   "execution_count": 4,
   "metadata": {},
   "outputs": [
    {
     "name": "stdout",
     "output_type": "stream",
     "text": [
      "0.025920939357843\n",
      "0.025920939357843\n"
     ]
    }
   ],
   "source": [
    "print(stats.norm.cdf(120, loc = 190, scale = 36))\n",
    "z = (120-190)/36\n",
    "print(stats.norm.cdf(z)) #same as normsdist"
   ]
  },
  {
   "cell_type": "code",
   "execution_count": 9,
   "metadata": {},
   "outputs": [
    {
     "data": {
      "text/plain": [
       "(0.84, 1.0)"
      ]
     },
     "execution_count": 9,
     "metadata": {},
     "output_type": "execute_result"
    }
   ],
   "source": [
    "z= (110-100)/10\n",
    "p = stats.norm.cdf(z)\n",
    "round(p,2),z"
   ]
  },
  {
   "cell_type": "code",
   "execution_count": 2,
   "metadata": {},
   "outputs": [
    {
     "data": {
      "text/plain": [
       "(0.994457883209753, 109.94457883209753)"
      ]
     },
     "execution_count": 2,
     "metadata": {},
     "output_type": "execute_result"
    }
   ],
   "source": [
    "#normsinv\n",
    "#mean = 100, sd = 10 and right extreme prob = 16%\n",
    "p = 1-.16\n",
    "z = stats.norm.ppf(p) #key in left tail p; ppf percent point function\n",
    "#the default values of loc and scale are 0 and 1 respectively (to indicate standard normal dist)\n",
    "#z = (x - mu)/SE\n",
    "#x = mean + z*sigma\n",
    "x = z*10+100\n",
    "z,x"
   ]
  },
  {
   "cell_type": "code",
   "execution_count": 12,
   "metadata": {},
   "outputs": [
    {
     "data": {
      "text/plain": [
       "110.0"
      ]
     },
     "execution_count": 12,
     "metadata": {},
     "output_type": "execute_result"
    }
   ],
   "source": [
    "#norminv\n",
    "stats.norm.ppf(p, loc = 100, scale = 10)"
   ]
  },
  {
   "cell_type": "code",
   "execution_count": 3,
   "metadata": {},
   "outputs": [
    {
     "data": {
      "text/plain": [
       "57.02535780154817"
      ]
     },
     "execution_count": 3,
     "metadata": {},
     "output_type": "execute_result"
    }
   ],
   "source": [
    "#mean = 50, right prob = 8%, sd = 5\n",
    "#find out the x value\n",
    "stats.norm.ppf(.92, loc = 50, scale = 5)"
   ]
  },
  {
   "cell_type": "code",
   "execution_count": 5,
   "metadata": {},
   "outputs": [
    {
     "data": {
      "text/plain": [
       "57.02535780154817"
      ]
     },
     "execution_count": 5,
     "metadata": {},
     "output_type": "execute_result"
    }
   ],
   "source": [
    "z = stats.norm.ppf(.92)\n",
    "x = z*5 + 50\n",
    "x"
   ]
  },
  {
   "cell_type": "code",
   "execution_count": 7,
   "metadata": {},
   "outputs": [
    {
     "data": {
      "text/plain": [
       "(93.55146373048527, 126.44853626951472)"
      ]
     },
     "execution_count": 7,
     "metadata": {},
     "output_type": "execute_result"
    }
   ],
   "source": [
    "#90% confidence interval\n",
    "x1 = stats.norm.ppf(.05, 110, 10)\n",
    "x2 = stats.norm.ppf(.95, 110,10)\n",
    "x1,x2"
   ]
  },
  {
   "cell_type": "code",
   "execution_count": 9,
   "metadata": {},
   "outputs": [
    {
     "data": {
      "text/plain": [
       "(93.55146373048527, 126.44853626951472)"
      ]
     },
     "execution_count": 9,
     "metadata": {},
     "output_type": "execute_result"
    }
   ],
   "source": [
    "z1 = stats.norm.ppf(.05)\n",
    "z2 = stats.norm.ppf(.95)\n",
    "x1 = z1*10+110\n",
    "x2 = z2*10 + 110\n",
    "x1, x2"
   ]
  },
  {
   "cell_type": "code",
   "execution_count": 10,
   "metadata": {},
   "outputs": [
    {
     "data": {
      "text/plain": [
       "(93.55146373048527, 126.44853626951472)"
      ]
     },
     "execution_count": 10,
     "metadata": {},
     "output_type": "execute_result"
    }
   ],
   "source": [
    "stats.norm.interval(.9, loc=110, scale = 10)"
   ]
  }
 ],
 "metadata": {
  "kernelspec": {
   "display_name": "Python 3",
   "language": "python",
   "name": "python3"
  },
  "language_info": {
   "codemirror_mode": {
    "name": "ipython",
    "version": 3
   },
   "file_extension": ".py",
   "mimetype": "text/x-python",
   "name": "python",
   "nbconvert_exporter": "python",
   "pygments_lexer": "ipython3",
   "version": "3.6.8"
  }
 },
 "nbformat": 4,
 "nbformat_minor": 2
}
