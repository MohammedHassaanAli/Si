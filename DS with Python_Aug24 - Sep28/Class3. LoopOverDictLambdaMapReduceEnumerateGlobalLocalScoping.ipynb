{
 "cells": [
  {
   "cell_type": "code",
   "execution_count": 63,
   "metadata": {},
   "outputs": [],
   "source": [
    "fhand = open(r'C:\\Users\\Vaibhav\\Desktop\\BA\\Datasets\\romeo.txt', 'r')"
   ]
  },
  {
   "cell_type": "code",
   "execution_count": 64,
   "metadata": {},
   "outputs": [
    {
     "data": {
      "text/plain": [
       "_io.TextIOWrapper"
      ]
     },
     "execution_count": 64,
     "metadata": {},
     "output_type": "execute_result"
    }
   ],
   "source": [
    "type(fhand)"
   ]
  },
  {
   "cell_type": "code",
   "execution_count": 65,
   "metadata": {},
   "outputs": [],
   "source": [
    "a = fhand.read()"
   ]
  },
  {
   "cell_type": "code",
   "execution_count": 66,
   "metadata": {
    "scrolled": true
   },
   "outputs": [],
   "source": [
    "splittedText = a.split()"
   ]
  },
  {
   "cell_type": "code",
   "execution_count": 67,
   "metadata": {},
   "outputs": [],
   "source": [
    "counts = {}\n",
    "counts = dict()"
   ]
  },
  {
   "cell_type": "code",
   "execution_count": 68,
   "metadata": {},
   "outputs": [
    {
     "data": {
      "text/plain": [
       "['But',\n",
       " 'soft',\n",
       " 'what',\n",
       " 'light',\n",
       " 'through',\n",
       " 'yonder',\n",
       " 'window',\n",
       " 'breaks',\n",
       " 'It',\n",
       " 'is',\n",
       " 'the',\n",
       " 'east',\n",
       " 'and',\n",
       " 'Juliet',\n",
       " 'is',\n",
       " 'the',\n",
       " 'sun',\n",
       " 'Arise',\n",
       " 'fair',\n",
       " 'sun',\n",
       " 'and',\n",
       " 'kill',\n",
       " 'the',\n",
       " 'envious',\n",
       " 'moon',\n",
       " 'Who',\n",
       " 'is',\n",
       " 'already',\n",
       " 'sick',\n",
       " 'and',\n",
       " 'pale',\n",
       " 'with',\n",
       " 'grief']"
      ]
     },
     "execution_count": 68,
     "metadata": {},
     "output_type": "execute_result"
    }
   ],
   "source": [
    "splittedText"
   ]
  },
  {
   "cell_type": "code",
   "execution_count": 69,
   "metadata": {},
   "outputs": [
    {
     "name": "stdout",
     "output_type": "stream",
     "text": [
      "{'But': 1, 'soft': 1, 'what': 1, 'light': 1, 'through': 1, 'yonder': 1, 'window': 1, 'breaks': 1, 'It': 1, 'is': 3, 'the': 3, 'east': 1, 'and': 3, 'Juliet': 1, 'sun': 2, 'Arise': 1, 'fair': 1, 'kill': 1, 'envious': 1, 'moon': 1, 'Who': 1, 'already': 1, 'sick': 1, 'pale': 1, 'with': 1, 'grief': 1}\n"
     ]
    }
   ],
   "source": [
    "for txt in splittedText:\n",
    "    counts[txt] = counts.get(txt, 0)+1\n",
    "print(counts)"
   ]
  },
  {
   "cell_type": "code",
   "execution_count": 70,
   "metadata": {},
   "outputs": [],
   "source": [
    "#another way"
   ]
  },
  {
   "cell_type": "code",
   "execution_count": 10,
   "metadata": {},
   "outputs": [],
   "source": [
    "fhand = open(r'C:\\Users\\Vaibhav\\Desktop\\BA\\Datasets\\romeo.txt', 'r')"
   ]
  },
  {
   "cell_type": "code",
   "execution_count": null,
   "metadata": {},
   "outputs": [],
   "source": [
    "for line in fhand:"
   ]
  },
  {
   "cell_type": "code",
   "execution_count": 9,
   "metadata": {},
   "outputs": [
    {
     "name": "stdout",
     "output_type": "stream",
     "text": [
      "{'But': 1, 'soft': 1, 'what': 1, 'light': 1, 'through': 1, 'yonder': 1, 'window': 1, 'breaks': 1, 'It': 1, 'is': 3, 'the': 3, 'east': 1, 'and': 3, 'Juliet': 1, 'sun': 2, 'Arise': 1, 'fair': 1, 'kill': 1, 'envious': 1, 'moon': 1, 'Who': 1, 'already': 1, 'sick': 1, 'pale': 1, 'with': 1, 'grief\\n': 1}\n"
     ]
    }
   ],
   "source": [
    "import re\n",
    "count = {}\n",
    "for line in fhand:\n",
    "    words = re.split('[. ]', line)\n",
    "    for word in words:\n",
    "        count[word] = count.get(word, 0)+1\n",
    "    count.pop(\"\")\n",
    "print(count)"
   ]
  },
  {
   "cell_type": "code",
   "execution_count": 73,
   "metadata": {},
   "outputs": [],
   "source": [
    "#how to iterate over the dictionaries"
   ]
  },
  {
   "cell_type": "code",
   "execution_count": 74,
   "metadata": {},
   "outputs": [
    {
     "data": {
      "text/plain": [
       "{'But': 1,\n",
       " 'soft': 1,\n",
       " 'what': 1,\n",
       " 'light': 1,\n",
       " 'through': 1,\n",
       " 'yonder': 1,\n",
       " 'window': 1,\n",
       " 'breaks': 1,\n",
       " 'It': 1,\n",
       " 'is': 3,\n",
       " 'the': 3,\n",
       " 'east': 1,\n",
       " 'and': 3,\n",
       " 'Juliet': 1,\n",
       " 'sun': 2,\n",
       " 'Arise': 1,\n",
       " 'fair': 1,\n",
       " 'kill': 1,\n",
       " 'envious': 1,\n",
       " 'moon': 1,\n",
       " 'Who': 1,\n",
       " 'already': 1,\n",
       " 'sick': 1,\n",
       " 'pale': 1,\n",
       " 'with': 1,\n",
       " 'grief': 1}"
      ]
     },
     "execution_count": 74,
     "metadata": {},
     "output_type": "execute_result"
    }
   ],
   "source": [
    "count"
   ]
  },
  {
   "cell_type": "code",
   "execution_count": 75,
   "metadata": {},
   "outputs": [
    {
     "name": "stdout",
     "output_type": "stream",
     "text": [
      "But 1\n",
      "soft 1\n",
      "what 1\n",
      "light 1\n",
      "through 1\n",
      "yonder 1\n",
      "window 1\n",
      "breaks 1\n",
      "It 1\n",
      "is 3\n",
      "the 3\n",
      "east 1\n",
      "and 3\n",
      "Juliet 1\n",
      "sun 2\n",
      "Arise 1\n",
      "fair 1\n",
      "kill 1\n",
      "envious 1\n",
      "moon 1\n",
      "Who 1\n",
      "already 1\n",
      "sick 1\n",
      "pale 1\n",
      "with 1\n",
      "grief 1\n"
     ]
    }
   ],
   "source": [
    "for k in count: #by default k will take the keys\n",
    "    print(k, count[k])"
   ]
  },
  {
   "cell_type": "code",
   "execution_count": 76,
   "metadata": {},
   "outputs": [
    {
     "data": {
      "text/plain": [
       "dict_items([('But', 1), ('soft', 1), ('what', 1), ('light', 1), ('through', 1), ('yonder', 1), ('window', 1), ('breaks', 1), ('It', 1), ('is', 3), ('the', 3), ('east', 1), ('and', 3), ('Juliet', 1), ('sun', 2), ('Arise', 1), ('fair', 1), ('kill', 1), ('envious', 1), ('moon', 1), ('Who', 1), ('already', 1), ('sick', 1), ('pale', 1), ('with', 1), ('grief', 1)])"
      ]
     },
     "execution_count": 76,
     "metadata": {},
     "output_type": "execute_result"
    }
   ],
   "source": [
    "count.items()"
   ]
  },
  {
   "cell_type": "code",
   "execution_count": 77,
   "metadata": {
    "scrolled": true
   },
   "outputs": [
    {
     "name": "stdout",
     "output_type": "stream",
     "text": [
      "But 1\n",
      "soft 1\n",
      "what 1\n",
      "light 1\n",
      "through 1\n",
      "yonder 1\n",
      "window 1\n",
      "breaks 1\n",
      "It 1\n",
      "is 3\n",
      "the 3\n",
      "east 1\n",
      "and 3\n",
      "Juliet 1\n",
      "sun 2\n",
      "Arise 1\n",
      "fair 1\n",
      "kill 1\n",
      "envious 1\n",
      "moon 1\n",
      "Who 1\n",
      "already 1\n",
      "sick 1\n",
      "pale 1\n",
      "with 1\n",
      "grief 1\n"
     ]
    }
   ],
   "source": [
    "for k,v in count.items():\n",
    "    print(k,v)"
   ]
  },
  {
   "cell_type": "code",
   "execution_count": 78,
   "metadata": {},
   "outputs": [
    {
     "data": {
      "text/plain": [
       "dict_values([1, 1, 1, 1, 1, 1, 1, 1, 1, 3, 3, 1, 3, 1, 2, 1, 1, 1, 1, 1, 1, 1, 1, 1, 1, 1])"
      ]
     },
     "execution_count": 78,
     "metadata": {},
     "output_type": "execute_result"
    }
   ],
   "source": [
    "count.values()"
   ]
  },
  {
   "cell_type": "code",
   "execution_count": 79,
   "metadata": {},
   "outputs": [
    {
     "name": "stdout",
     "output_type": "stream",
     "text": [
      "1,1,1,1,1,1,1,1,1,3,3,1,3,1,2,1,1,1,1,1,1,1,1,1,1,1,"
     ]
    }
   ],
   "source": [
    "for i in count.values():\n",
    "    print(i, end = \",\")"
   ]
  },
  {
   "cell_type": "code",
   "execution_count": 80,
   "metadata": {},
   "outputs": [
    {
     "name": "stdout",
     "output_type": "stream",
     "text": [
      "0 1\n",
      "1 1\n",
      "2 1\n",
      "3 1\n",
      "4 1\n",
      "5 1\n",
      "6 1\n",
      "7 1\n",
      "8 1\n",
      "9 3\n",
      "10 3\n",
      "11 1\n",
      "12 3\n",
      "13 1\n",
      "14 2\n",
      "15 1\n",
      "16 1\n",
      "17 1\n",
      "18 1\n",
      "19 1\n",
      "20 1\n",
      "21 1\n",
      "22 1\n",
      "23 1\n",
      "24 1\n",
      "25 1\n"
     ]
    }
   ],
   "source": [
    "for index, value in enumerate(count.values()):\n",
    "    print(index, value)"
   ]
  },
  {
   "cell_type": "code",
   "execution_count": 81,
   "metadata": {},
   "outputs": [
    {
     "data": {
      "text/plain": [
       "[(0, 1), (1, 3), (2, 4), (3, 7)]"
      ]
     },
     "execution_count": 81,
     "metadata": {},
     "output_type": "execute_result"
    }
   ],
   "source": [
    "list(enumerate([1,3,4,7]))"
   ]
  },
  {
   "cell_type": "code",
   "execution_count": 82,
   "metadata": {},
   "outputs": [
    {
     "name": "stdout",
     "output_type": "stream",
     "text": [
      "0 1\n",
      "1 3\n",
      "2 4\n",
      "3 7\n"
     ]
    }
   ],
   "source": [
    "for ind, com in enumerate([1,3,4,7]):\n",
    "    print(ind, com)"
   ]
  },
  {
   "cell_type": "code",
   "execution_count": 83,
   "metadata": {},
   "outputs": [
    {
     "name": "stdout",
     "output_type": "stream",
     "text": [
      "0 ('But', 1)\n",
      "1 ('soft', 1)\n",
      "2 ('what', 1)\n",
      "3 ('light', 1)\n",
      "4 ('through', 1)\n",
      "5 ('yonder', 1)\n",
      "6 ('window', 1)\n",
      "7 ('breaks', 1)\n",
      "8 ('It', 1)\n",
      "9 ('is', 3)\n",
      "10 ('the', 3)\n",
      "11 ('east', 1)\n",
      "12 ('and', 3)\n",
      "13 ('Juliet', 1)\n",
      "14 ('sun', 2)\n",
      "15 ('Arise', 1)\n",
      "16 ('fair', 1)\n",
      "17 ('kill', 1)\n",
      "18 ('envious', 1)\n",
      "19 ('moon', 1)\n",
      "20 ('Who', 1)\n",
      "21 ('already', 1)\n",
      "22 ('sick', 1)\n",
      "23 ('pale', 1)\n",
      "24 ('with', 1)\n",
      "25 ('grief', 1)\n"
     ]
    }
   ],
   "source": [
    "for index, com in enumerate(count.items()):\n",
    "    print(index, com)\n",
    "    "
   ]
  },
  {
   "cell_type": "code",
   "execution_count": 84,
   "metadata": {
    "scrolled": true
   },
   "outputs": [
    {
     "name": "stdout",
     "output_type": "stream",
     "text": [
      "0 But 1\n",
      "1 soft 1\n",
      "2 what 1\n",
      "3 light 1\n",
      "4 through 1\n",
      "5 yonder 1\n",
      "6 window 1\n",
      "7 breaks 1\n",
      "8 It 1\n",
      "9 is 3\n",
      "10 the 3\n",
      "11 east 1\n",
      "12 and 3\n",
      "13 Juliet 1\n",
      "14 sun 2\n",
      "15 Arise 1\n",
      "16 fair 1\n",
      "17 kill 1\n",
      "18 envious 1\n",
      "19 moon 1\n",
      "20 Who 1\n",
      "21 already 1\n",
      "22 sick 1\n",
      "23 pale 1\n",
      "24 with 1\n",
      "25 grief 1\n"
     ]
    }
   ],
   "source": [
    "for ind, key in enumerate(count):\n",
    "    print(ind, key, count[key])"
   ]
  },
  {
   "cell_type": "code",
   "execution_count": 85,
   "metadata": {},
   "outputs": [
    {
     "data": {
      "text/plain": [
       "dict_keys(['But', 'soft', 'what', 'light', 'through', 'yonder', 'window', 'breaks', 'It', 'is', 'the', 'east', 'and', 'Juliet', 'sun', 'Arise', 'fair', 'kill', 'envious', 'moon', 'Who', 'already', 'sick', 'pale', 'with', 'grief'])"
      ]
     },
     "execution_count": 85,
     "metadata": {},
     "output_type": "execute_result"
    }
   ],
   "source": [
    "count.keys()"
   ]
  },
  {
   "cell_type": "code",
   "execution_count": 86,
   "metadata": {},
   "outputs": [
    {
     "data": {
      "text/plain": [
       "0"
      ]
     },
     "execution_count": 86,
     "metadata": {},
     "output_type": "execute_result"
    }
   ],
   "source": [
    "count.get(0, 0 )"
   ]
  },
  {
   "cell_type": "code",
   "execution_count": 87,
   "metadata": {
    "scrolled": true
   },
   "outputs": [
    {
     "data": {
      "text/plain": [
       "[('But', 1),\n",
       " ('soft', 1),\n",
       " ('what', 1),\n",
       " ('light', 1),\n",
       " ('through', 1),\n",
       " ('yonder', 1),\n",
       " ('window', 1),\n",
       " ('breaks', 1),\n",
       " ('It', 1),\n",
       " ('is', 3),\n",
       " ('the', 3),\n",
       " ('east', 1),\n",
       " ('and', 3),\n",
       " ('Juliet', 1),\n",
       " ('sun', 2),\n",
       " ('Arise', 1),\n",
       " ('fair', 1),\n",
       " ('kill', 1),\n",
       " ('envious', 1),\n",
       " ('moon', 1),\n",
       " ('Who', 1),\n",
       " ('already', 1),\n",
       " ('sick', 1),\n",
       " ('pale', 1),\n",
       " ('with', 1),\n",
       " ('grief', 1)]"
      ]
     },
     "execution_count": 87,
     "metadata": {},
     "output_type": "execute_result"
    }
   ],
   "source": [
    "list(count.items())"
   ]
  },
  {
   "cell_type": "code",
   "execution_count": 88,
   "metadata": {},
   "outputs": [
    {
     "data": {
      "text/plain": [
       "{'watermelon': 'green',\n",
       " 'pomegranate': 'red',\n",
       " 'peach': 'orange',\n",
       " 'cherry': 'red',\n",
       " 'pear': 'green',\n",
       " 'banana': 'yellow',\n",
       " 'plum': 'purple',\n",
       " 'orange': 'orange'}"
      ]
     },
     "execution_count": 88,
     "metadata": {},
     "output_type": "execute_result"
    }
   ],
   "source": [
    "fruit_to_colour = {'watermelon': 'green', 'pomegranate': 'red',\n",
    "'peach': 'orange', 'cherry': 'red', 'pear': 'green',\n",
    "'banana': 'yellow', 'plum': 'purple', 'orange': 'orange'}\n",
    "fruit_to_colour"
   ]
  },
  {
   "cell_type": "code",
   "execution_count": 89,
   "metadata": {},
   "outputs": [
    {
     "data": {
      "text/plain": [
       "{'green': 'pear',\n",
       " 'red': 'cherry',\n",
       " 'orange': 'orange',\n",
       " 'yellow': 'banana',\n",
       " 'purple': 'plum'}"
      ]
     },
     "execution_count": 89,
     "metadata": {},
     "output_type": "execute_result"
    }
   ],
   "source": [
    "color_to_fruit = {}\n",
    "for fruit in fruit_to_colour:\n",
    "    color = fruit_to_colour[fruit]\n",
    "    color_to_fruit[color] = fruit\n",
    "color_to_fruit"
   ]
  },
  {
   "cell_type": "code",
   "execution_count": 90,
   "metadata": {},
   "outputs": [
    {
     "data": {
      "text/plain": [
       "{'green': ['watermelon', 'pear'],\n",
       " 'red': ['pomegranate', 'cherry'],\n",
       " 'orange': ['peach', 'orange'],\n",
       " 'yellow': ['banana'],\n",
       " 'purple': ['plum']}"
      ]
     },
     "execution_count": 90,
     "metadata": {},
     "output_type": "execute_result"
    }
   ],
   "source": [
    "color_to_fruit = {}\n",
    "for fruit in fruit_to_colour:\n",
    "    fruit_color = fruit_to_colour[fruit]\n",
    "    if fruit_color not in color_to_fruit:\n",
    "        color_to_fruit[fruit_color] = [fruit]\n",
    "    else:\n",
    "        color_to_fruit[fruit_color].append(fruit)\n",
    "color_to_fruit"
   ]
  },
  {
   "cell_type": "code",
   "execution_count": 91,
   "metadata": {},
   "outputs": [],
   "source": [
    "#If I want to again invert the dictionary to fruits to colors - Try as assignment"
   ]
  },
  {
   "cell_type": "code",
   "execution_count": 92,
   "metadata": {},
   "outputs": [],
   "source": [
    "### Lambda - fn without a name"
   ]
  },
  {
   "cell_type": "code",
   "execution_count": 93,
   "metadata": {},
   "outputs": [],
   "source": [
    "def addtwo(x, y):\n",
    "    return(x+y)"
   ]
  },
  {
   "cell_type": "code",
   "execution_count": 94,
   "metadata": {},
   "outputs": [],
   "source": [
    "f = lambda x, y: x+y #lambda arguments : return value"
   ]
  },
  {
   "cell_type": "code",
   "execution_count": 95,
   "metadata": {},
   "outputs": [
    {
     "data": {
      "text/plain": [
       "3"
      ]
     },
     "execution_count": 95,
     "metadata": {},
     "output_type": "execute_result"
    }
   ],
   "source": [
    "f(1,2)"
   ]
  },
  {
   "cell_type": "code",
   "execution_count": 96,
   "metadata": {},
   "outputs": [],
   "source": [
    "#map fn: r  = map(func, seq)"
   ]
  },
  {
   "cell_type": "code",
   "execution_count": 97,
   "metadata": {},
   "outputs": [],
   "source": [
    "lst = [1,2,3,4,5]"
   ]
  },
  {
   "cell_type": "code",
   "execution_count": 98,
   "metadata": {},
   "outputs": [],
   "source": [
    "def sq_num(x):\n",
    "    return(x**2)"
   ]
  },
  {
   "cell_type": "code",
   "execution_count": 99,
   "metadata": {},
   "outputs": [
    {
     "data": {
      "text/plain": [
       "[1, 4, 9, 16, 25]"
      ]
     },
     "execution_count": 99,
     "metadata": {},
     "output_type": "execute_result"
    }
   ],
   "source": [
    "list(map(sq_num, lst))"
   ]
  },
  {
   "cell_type": "code",
   "execution_count": 100,
   "metadata": {},
   "outputs": [
    {
     "name": "stdout",
     "output_type": "stream",
     "text": [
      "1,4,9,16,25,"
     ]
    }
   ],
   "source": [
    "for i in map(sq_num, lst):\n",
    "    print(i, end = \",\")"
   ]
  },
  {
   "cell_type": "code",
   "execution_count": 101,
   "metadata": {},
   "outputs": [
    {
     "data": {
      "text/plain": [
       "[0, 1, 4, 9, 16, 25, 36, 49, 64, 81]"
      ]
     },
     "execution_count": 101,
     "metadata": {},
     "output_type": "execute_result"
    }
   ],
   "source": [
    "list(map(lambda x: x**2, range(10)))"
   ]
  },
  {
   "cell_type": "markdown",
   "metadata": {},
   "source": [
    "### reduce\n",
    "The function reduce(func, seq) continually applies the function func() to the sequence seq. It returns a single value. \n",
    "\n",
    "If seq = [ s1, s2, s3, ... , sn ], calling `reduce(func, seq)` works like this:  \n",
    "+ At first the first two elements of seq will be applied to func, i.e. func(s1,s2).The list on which reduce() works looks now like this: [ func(s1, s2), s3, ... , sn ]\n",
    "+ In the next step func will be applied on the previous result and the third element of the list, i.e. func(func(s1, s2),s3)\n",
    "The list looks like this now: [ func(func(s1, s2),s3), ... , sn ]  \n",
    "+ Continue like this until just one element is left and return this element as the result of `reduce()`"
   ]
  },
  {
   "cell_type": "code",
   "execution_count": 102,
   "metadata": {},
   "outputs": [
    {
     "data": {
      "text/plain": [
       "180"
      ]
     },
     "execution_count": 102,
     "metadata": {},
     "output_type": "execute_result"
    }
   ],
   "source": [
    "from functools import reduce\n",
    "reduce(lambda x,y: x+y, [12, 23, 56, 89])"
   ]
  },
  {
   "cell_type": "code",
   "execution_count": 103,
   "metadata": {},
   "outputs": [
    {
     "data": {
      "text/plain": [
       "1375584"
      ]
     },
     "execution_count": 103,
     "metadata": {},
     "output_type": "execute_result"
    }
   ],
   "source": [
    "reduce(lambda x,y: x*y, [12, 23, 56, 89])"
   ]
  },
  {
   "cell_type": "markdown",
   "metadata": {},
   "source": [
    "Exercise : A store maintains a list of all customers with the customer number and the price of each item purchased by the customer. Find the total amount for each customer. "
   ]
  },
  {
   "cell_type": "code",
   "execution_count": 1,
   "metadata": {},
   "outputs": [
    {
     "name": "stdout",
     "output_type": "stream",
     "text": [
      "[[1, (100, 500.5, 450)], [2, (200, 300.75, 450.5)], [3, (400, 300.5, 650.5)]]\n"
     ]
    }
   ],
   "source": [
    "orders = [[1,(100,500.50,450)],[2,(200,300.75,450.50)],[3,(400,300.50,650.50)]]\n",
    "print(orders)"
   ]
  },
  {
   "cell_type": "code",
   "execution_count": 105,
   "metadata": {},
   "outputs": [
    {
     "data": {
      "text/plain": [
       "1"
      ]
     },
     "execution_count": 105,
     "metadata": {},
     "output_type": "execute_result"
    }
   ],
   "source": [
    "orders[0][0]"
   ]
  },
  {
   "cell_type": "code",
   "execution_count": 106,
   "metadata": {},
   "outputs": [
    {
     "data": {
      "text/plain": [
       "[[1], [2], [3]]"
      ]
     },
     "execution_count": 106,
     "metadata": {},
     "output_type": "execute_result"
    }
   ],
   "source": [
    "list(map(lambda x: [x[0]], orders))"
   ]
  },
  {
   "cell_type": "code",
   "execution_count": 107,
   "metadata": {},
   "outputs": [
    {
     "data": {
      "text/plain": [
       "[1050.5]"
      ]
     },
     "execution_count": 107,
     "metadata": {},
     "output_type": "execute_result"
    }
   ],
   "source": [
    "[reduce(lambda a,b: a+b, orders[0][1])]"
   ]
  },
  {
   "cell_type": "code",
   "execution_count": 108,
   "metadata": {},
   "outputs": [
    {
     "data": {
      "text/plain": [
       "[[1, (100, 500.5, 450)], [2, (200, 300.75, 450.5)], [3, (400, 300.5, 650.5)]]"
      ]
     },
     "execution_count": 108,
     "metadata": {},
     "output_type": "execute_result"
    }
   ],
   "source": [
    "orders"
   ]
  },
  {
   "cell_type": "code",
   "execution_count": 109,
   "metadata": {
    "scrolled": true
   },
   "outputs": [
    {
     "data": {
      "text/plain": [
       "[[1, 1050.5], [2, 951.25], [3, 1351.0]]"
      ]
     },
     "execution_count": 109,
     "metadata": {},
     "output_type": "execute_result"
    }
   ],
   "source": [
    "list(map(lambda x: ([x[0]]+[reduce(lambda a,b: a+b), x[1]]), orders))"
   ]
  },
  {
   "cell_type": "code",
   "execution_count": 110,
   "metadata": {},
   "outputs": [],
   "source": [
    "l1 = (1,2,3)\n",
    "l2 = ['a', 'b', 'c']\n",
    "l3 = [1.1, 1.2,1.3]"
   ]
  },
  {
   "cell_type": "code",
   "execution_count": 111,
   "metadata": {},
   "outputs": [
    {
     "data": {
      "text/plain": [
       "[(1, 'a', 1.1), (2, 'b', 1.2), (3, 'c', 1.3)]"
      ]
     },
     "execution_count": 111,
     "metadata": {},
     "output_type": "execute_result"
    }
   ],
   "source": [
    "list(zip(l1, l2, l3))"
   ]
  },
  {
   "cell_type": "code",
   "execution_count": 112,
   "metadata": {},
   "outputs": [
    {
     "data": {
      "text/plain": [
       "[[1, (100, 500.5, 450)], [2, (200, 300.75, 450.5)], [3, (400, 300.5, 650.5)]]"
      ]
     },
     "execution_count": 112,
     "metadata": {},
     "output_type": "execute_result"
    }
   ],
   "source": [
    "list(map(lambda x: x,orders))"
   ]
  },
  {
   "cell_type": "code",
   "execution_count": null,
   "metadata": {},
   "outputs": [],
   "source": []
  },
  {
   "cell_type": "code",
   "execution_count": null,
   "metadata": {},
   "outputs": [],
   "source": []
  },
  {
   "cell_type": "code",
   "execution_count": null,
   "metadata": {},
   "outputs": [],
   "source": []
  },
  {
   "cell_type": "code",
   "execution_count": null,
   "metadata": {},
   "outputs": [],
   "source": []
  },
  {
   "cell_type": "code",
   "execution_count": null,
   "metadata": {},
   "outputs": [],
   "source": []
  }
 ],
 "metadata": {
  "kernelspec": {
   "display_name": "Python 3",
   "language": "python",
   "name": "python3"
  },
  "language_info": {
   "codemirror_mode": {
    "name": "ipython",
    "version": 3
   },
   "file_extension": ".py",
   "mimetype": "text/x-python",
   "name": "python",
   "nbconvert_exporter": "python",
   "pygments_lexer": "ipython3",
   "version": "3.6.8"
  }
 },
 "nbformat": 4,
 "nbformat_minor": 2
}
