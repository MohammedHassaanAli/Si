{
 "cells": [
  {
   "cell_type": "markdown",
   "metadata": {},
   "source": [
    "# WEB SCRAPING"
   ]
  },
  {
   "cell_type": "code",
   "execution_count": 133,
   "metadata": {},
   "outputs": [],
   "source": [
    "html=['<html><heading style=\"font-size:20px\"><i>This is the title<br><br></i></heading>',\n",
    "     '<body><b>This is the body</b><p id=\"para1\">This is para1<a href=\"www.google.com\">Google</a></p>',\n",
    "     '<p id=\"para2\">This is para 2</p></body></html>']"
   ]
  },
  {
   "cell_type": "code",
   "execution_count": 134,
   "metadata": {},
   "outputs": [],
   "source": [
    "html = \"\".join(html)"
   ]
  },
  {
   "cell_type": "code",
   "execution_count": 135,
   "metadata": {},
   "outputs": [
    {
     "data": {
      "text/plain": [
       "'<html><heading style=\"font-size:20px\"><i>This is the title<br><br></i></heading><body><b>This is the body</b><p id=\"para1\">This is para1<a href=\"www.google.com\">Google</a></p><p id=\"para2\">This is para 2</p></body></html>'"
      ]
     },
     "execution_count": 135,
     "metadata": {},
     "output_type": "execute_result"
    }
   ],
   "source": [
    "html"
   ]
  },
  {
   "cell_type": "code",
   "execution_count": 136,
   "metadata": {},
   "outputs": [],
   "source": [
    "from bs4 import BeautifulSoup"
   ]
  },
  {
   "cell_type": "code",
   "execution_count": 137,
   "metadata": {},
   "outputs": [],
   "source": [
    "soup = BeautifulSoup(html)"
   ]
  },
  {
   "cell_type": "code",
   "execution_count": 138,
   "metadata": {},
   "outputs": [
    {
     "name": "stdout",
     "output_type": "stream",
     "text": [
      "<html><body><heading style=\"font-size:20px\"><i>This is the title<br/><br/></i></heading><b>This is the body</b><p id=\"para1\">This is para1<a href=\"www.google.com\">Google</a></p><p id=\"para2\">This is para 2</p></body></html>\n"
     ]
    }
   ],
   "source": [
    "print(soup)"
   ]
  },
  {
   "cell_type": "code",
   "execution_count": 139,
   "metadata": {},
   "outputs": [
    {
     "name": "stdout",
     "output_type": "stream",
     "text": [
      "<html>\n",
      " <body>\n",
      "  <heading style=\"font-size:20px\">\n",
      "   <i>\n",
      "    This is the title\n",
      "    <br/>\n",
      "    <br/>\n",
      "   </i>\n",
      "  </heading>\n",
      "  <b>\n",
      "   This is the body\n",
      "  </b>\n",
      "  <p id=\"para1\">\n",
      "   This is para1\n",
      "   <a href=\"www.google.com\">\n",
      "    Google\n",
      "   </a>\n",
      "  </p>\n",
      "  <p id=\"para2\">\n",
      "   This is para 2\n",
      "  </p>\n",
      " </body>\n",
      "</html>\n"
     ]
    }
   ],
   "source": [
    "print(soup.prettify())"
   ]
  },
  {
   "cell_type": "code",
   "execution_count": 140,
   "metadata": {},
   "outputs": [
    {
     "data": {
      "text/plain": [
       "<html><body><heading style=\"font-size:20px\"><i>This is the title<br/><br/></i></heading><b>This is the body</b><p id=\"para1\">This is para1<a href=\"www.google.com\">Google</a></p><p id=\"para2\">This is para 2</p></body></html>"
      ]
     },
     "execution_count": 140,
     "metadata": {},
     "output_type": "execute_result"
    }
   ],
   "source": [
    "soup.html"
   ]
  },
  {
   "cell_type": "code",
   "execution_count": 141,
   "metadata": {},
   "outputs": [
    {
     "data": {
      "text/plain": [
       "<body><heading style=\"font-size:20px\"><i>This is the title<br/><br/></i></heading><b>This is the body</b><p id=\"para1\">This is para1<a href=\"www.google.com\">Google</a></p><p id=\"para2\">This is para 2</p></body>"
      ]
     },
     "execution_count": 141,
     "metadata": {},
     "output_type": "execute_result"
    }
   ],
   "source": [
    "soup.body"
   ]
  },
  {
   "cell_type": "code",
   "execution_count": 142,
   "metadata": {},
   "outputs": [
    {
     "data": {
      "text/plain": [
       "<heading style=\"font-size:20px\"><i>This is the title<br/><br/></i></heading>"
      ]
     },
     "execution_count": 142,
     "metadata": {},
     "output_type": "execute_result"
    }
   ],
   "source": [
    "soup.heading"
   ]
  },
  {
   "cell_type": "code",
   "execution_count": 143,
   "metadata": {},
   "outputs": [
    {
     "data": {
      "text/plain": [
       "<p id=\"para1\">This is para1<a href=\"www.google.com\">Google</a></p>"
      ]
     },
     "execution_count": 143,
     "metadata": {},
     "output_type": "execute_result"
    }
   ],
   "source": [
    "soup.p"
   ]
  },
  {
   "cell_type": "code",
   "execution_count": 144,
   "metadata": {},
   "outputs": [
    {
     "data": {
      "text/plain": [
       "'This is para1Google'"
      ]
     },
     "execution_count": 144,
     "metadata": {},
     "output_type": "execute_result"
    }
   ],
   "source": [
    "soup.p.text"
   ]
  },
  {
   "cell_type": "code",
   "execution_count": 145,
   "metadata": {},
   "outputs": [
    {
     "data": {
      "text/plain": [
       "['This is para1', <a href=\"www.google.com\">Google</a>]"
      ]
     },
     "execution_count": 145,
     "metadata": {},
     "output_type": "execute_result"
    }
   ],
   "source": [
    "soup.p.contents"
   ]
  },
  {
   "cell_type": "code",
   "execution_count": 146,
   "metadata": {},
   "outputs": [
    {
     "data": {
      "text/plain": [
       "<p id=\"para2\">This is para 2</p>"
      ]
     },
     "execution_count": 146,
     "metadata": {},
     "output_type": "execute_result"
    }
   ],
   "source": [
    "soup.p.next_sibling"
   ]
  },
  {
   "cell_type": "code",
   "execution_count": 147,
   "metadata": {},
   "outputs": [
    {
     "data": {
      "text/plain": [
       "<body><heading style=\"font-size:20px\"><i>This is the title<br/><br/></i></heading><b>This is the body</b><p id=\"para1\">This is para1<a href=\"www.google.com\">Google</a></p><p id=\"para2\">This is para 2</p></body>"
      ]
     },
     "execution_count": 147,
     "metadata": {},
     "output_type": "execute_result"
    }
   ],
   "source": [
    "soup.p.parent"
   ]
  },
  {
   "cell_type": "code",
   "execution_count": 148,
   "metadata": {},
   "outputs": [
    {
     "data": {
      "text/plain": [
       "<p id=\"para1\">This is para1<a href=\"www.google.com\">Google</a></p>"
      ]
     },
     "execution_count": 148,
     "metadata": {},
     "output_type": "execute_result"
    }
   ],
   "source": [
    "soup.find('p') #finds the first p tag"
   ]
  },
  {
   "cell_type": "code",
   "execution_count": 149,
   "metadata": {},
   "outputs": [
    {
     "data": {
      "text/plain": [
       "<a href=\"www.google.com\">Google</a>"
      ]
     },
     "execution_count": 149,
     "metadata": {},
     "output_type": "execute_result"
    }
   ],
   "source": [
    "a = soup.find('p')\n",
    "x = a.find('a')\n",
    "x"
   ]
  },
  {
   "cell_type": "code",
   "execution_count": 150,
   "metadata": {},
   "outputs": [
    {
     "data": {
      "text/plain": [
       "'www.google.com'"
      ]
     },
     "execution_count": 150,
     "metadata": {},
     "output_type": "execute_result"
    }
   ],
   "source": [
    "x['href']"
   ]
  },
  {
   "cell_type": "code",
   "execution_count": 151,
   "metadata": {},
   "outputs": [
    {
     "name": "stdout",
     "output_type": "stream",
     "text": [
      "<html>\n",
      " <body>\n",
      "  <heading style=\"font-size:20px\">\n",
      "   <i>\n",
      "    This is the title\n",
      "    <br/>\n",
      "    <br/>\n",
      "   </i>\n",
      "  </heading>\n",
      "  <b>\n",
      "   This is the body\n",
      "  </b>\n",
      "  <p id=\"para1\">\n",
      "   This is para1\n",
      "   <a href=\"www.google.com\">\n",
      "    Google\n",
      "   </a>\n",
      "  </p>\n",
      "  <p id=\"para2\">\n",
      "   This is para 2\n",
      "  </p>\n",
      " </body>\n",
      "</html>\n"
     ]
    }
   ],
   "source": [
    "print(soup.prettify())"
   ]
  },
  {
   "cell_type": "code",
   "execution_count": 152,
   "metadata": {},
   "outputs": [
    {
     "data": {
      "text/plain": [
       "<p id=\"para1\">This is para1<a href=\"www.google.com\">Google</a></p>"
      ]
     },
     "execution_count": 152,
     "metadata": {},
     "output_type": "execute_result"
    }
   ],
   "source": [
    "x = soup.find('p')\n",
    "x"
   ]
  },
  {
   "cell_type": "code",
   "execution_count": 153,
   "metadata": {},
   "outputs": [
    {
     "data": {
      "text/plain": [
       "bs4.element.Tag"
      ]
     },
     "execution_count": 153,
     "metadata": {},
     "output_type": "execute_result"
    }
   ],
   "source": [
    "type(x)"
   ]
  },
  {
   "cell_type": "code",
   "execution_count": 154,
   "metadata": {},
   "outputs": [
    {
     "data": {
      "text/plain": [
       "bs4.BeautifulSoup"
      ]
     },
     "execution_count": 154,
     "metadata": {},
     "output_type": "execute_result"
    }
   ],
   "source": [
    "type(soup)"
   ]
  },
  {
   "cell_type": "code",
   "execution_count": 155,
   "metadata": {},
   "outputs": [
    {
     "data": {
      "text/plain": [
       "<a href=\"www.google.com\">Google</a>"
      ]
     },
     "execution_count": 155,
     "metadata": {},
     "output_type": "execute_result"
    }
   ],
   "source": [
    "y = x.find('a')\n",
    "y"
   ]
  },
  {
   "cell_type": "code",
   "execution_count": 156,
   "metadata": {},
   "outputs": [
    {
     "data": {
      "text/plain": [
       "bs4.element.Tag"
      ]
     },
     "execution_count": 156,
     "metadata": {},
     "output_type": "execute_result"
    }
   ],
   "source": [
    "type(y)"
   ]
  },
  {
   "cell_type": "code",
   "execution_count": 157,
   "metadata": {},
   "outputs": [
    {
     "data": {
      "text/plain": [
       "'www.google.com'"
      ]
     },
     "execution_count": 157,
     "metadata": {},
     "output_type": "execute_result"
    }
   ],
   "source": [
    "y['href']"
   ]
  },
  {
   "cell_type": "code",
   "execution_count": 158,
   "metadata": {},
   "outputs": [
    {
     "data": {
      "text/plain": [
       "'Google'"
      ]
     },
     "execution_count": 158,
     "metadata": {},
     "output_type": "execute_result"
    }
   ],
   "source": [
    "y.text"
   ]
  },
  {
   "cell_type": "code",
   "execution_count": 159,
   "metadata": {},
   "outputs": [
    {
     "data": {
      "text/plain": [
       "'www.google.com'"
      ]
     },
     "execution_count": 159,
     "metadata": {},
     "output_type": "execute_result"
    }
   ],
   "source": [
    "y.get('href')"
   ]
  },
  {
   "cell_type": "markdown",
   "metadata": {},
   "source": [
    "---"
   ]
  },
  {
   "cell_type": "code",
   "execution_count": 160,
   "metadata": {
    "collapsed": true
   },
   "outputs": [],
   "source": [
    "html_doc = \"\"\"\n",
    "<html><head><title>The Dormouse's story</title></head>\n",
    "<body>\n",
    "<p class=\"title\"><b>The Dormouse's story</b></p>\n",
    "\n",
    "<p class=\"story\">Once upon a time there were three little sisters; and their names were\n",
    "<a href=\"http://example.com/elsie\" class=\"sister\" id=\"link1\">Elsie</a>,\n",
    "<a href=\"http://example.com/lacie\" class=\"sister\" id=\"link2\">Lacie</a> and\n",
    "<a href=\"http://example.com/tillie\" class=\"sister\" id=\"link3\">Tillie</a>;\n",
    "and they lived at the bottom of a well.</p>\n",
    "\n",
    "<p class=\"story\">...</p>\n",
    "\"\"\"\n",
    "\n",
    "from bs4 import BeautifulSoup\n",
    "soup = BeautifulSoup(html_doc, 'html.parser')"
   ]
  },
  {
   "cell_type": "code",
   "execution_count": 161,
   "metadata": {},
   "outputs": [
    {
     "name": "stdout",
     "output_type": "stream",
     "text": [
      "<html>\n",
      " <head>\n",
      "  <title>\n",
      "   The Dormouse's story\n",
      "  </title>\n",
      " </head>\n",
      " <body>\n",
      "  <p class=\"title\">\n",
      "   <b>\n",
      "    The Dormouse's story\n",
      "   </b>\n",
      "  </p>\n",
      "  <p class=\"story\">\n",
      "   Once upon a time there were three little sisters; and their names were\n",
      "   <a class=\"sister\" href=\"http://example.com/elsie\" id=\"link1\">\n",
      "    Elsie\n",
      "   </a>\n",
      "   ,\n",
      "   <a class=\"sister\" href=\"http://example.com/lacie\" id=\"link2\">\n",
      "    Lacie\n",
      "   </a>\n",
      "   and\n",
      "   <a class=\"sister\" href=\"http://example.com/tillie\" id=\"link3\">\n",
      "    Tillie\n",
      "   </a>\n",
      "   ;\n",
      "and they lived at the bottom of a well.\n",
      "  </p>\n",
      "  <p class=\"story\">\n",
      "   ...\n",
      "  </p>\n",
      " </body>\n",
      "</html>\n"
     ]
    }
   ],
   "source": [
    "print(soup.prettify())"
   ]
  },
  {
   "cell_type": "code",
   "execution_count": 162,
   "metadata": {},
   "outputs": [
    {
     "data": {
      "text/plain": [
       "<title>The Dormouse's story</title>"
      ]
     },
     "execution_count": 162,
     "metadata": {},
     "output_type": "execute_result"
    }
   ],
   "source": [
    "soup.find(\"title\")"
   ]
  },
  {
   "cell_type": "code",
   "execution_count": 163,
   "metadata": {},
   "outputs": [
    {
     "data": {
      "text/plain": [
       "[<p class=\"title\"><b>The Dormouse's story</b></p>]"
      ]
     },
     "execution_count": 163,
     "metadata": {},
     "output_type": "execute_result"
    }
   ],
   "source": [
    "soup.find_all(\"p\", \"title\")"
   ]
  },
  {
   "cell_type": "code",
   "execution_count": 164,
   "metadata": {},
   "outputs": [
    {
     "data": {
      "text/plain": [
       "[<a class=\"sister\" href=\"http://example.com/elsie\" id=\"link1\">Elsie</a>,\n",
       " <a class=\"sister\" href=\"http://example.com/lacie\" id=\"link2\">Lacie</a>,\n",
       " <a class=\"sister\" href=\"http://example.com/tillie\" id=\"link3\">Tillie</a>]"
      ]
     },
     "execution_count": 164,
     "metadata": {},
     "output_type": "execute_result"
    }
   ],
   "source": [
    "soup.find_all(\"a\")"
   ]
  },
  {
   "cell_type": "code",
   "execution_count": 165,
   "metadata": {},
   "outputs": [
    {
     "data": {
      "text/plain": [
       "[<a class=\"sister\" href=\"http://example.com/elsie\" id=\"link1\">Elsie</a>]"
      ]
     },
     "execution_count": 165,
     "metadata": {},
     "output_type": "execute_result"
    }
   ],
   "source": [
    "soup.find_all(id = \"link1\")"
   ]
  },
  {
   "cell_type": "code",
   "execution_count": 179,
   "metadata": {},
   "outputs": [
    {
     "data": {
      "text/plain": [
       "[<a class=\"sister\" href=\"http://example.com/elsie\" id=\"link1\">Elsie</a>]"
      ]
     },
     "execution_count": 179,
     "metadata": {},
     "output_type": "execute_result"
    }
   ],
   "source": [
    "#or\n",
    "soup.find_all('a', id = \"link1\")"
   ]
  },
  {
   "cell_type": "code",
   "execution_count": 181,
   "metadata": {},
   "outputs": [
    {
     "data": {
      "text/plain": [
       "[<a class=\"sister\" href=\"http://example.com/elsie\" id=\"link1\">Elsie</a>]"
      ]
     },
     "execution_count": 181,
     "metadata": {},
     "output_type": "execute_result"
    }
   ],
   "source": [
    "#or\n",
    "soup.find_all('a', {\"id\":\"link1\"})"
   ]
  },
  {
   "cell_type": "code",
   "execution_count": 166,
   "metadata": {},
   "outputs": [
    {
     "data": {
      "text/plain": [
       "[<a class=\"sister\" href=\"http://example.com/tillie\" id=\"link3\">Tillie</a>]"
      ]
     },
     "execution_count": 166,
     "metadata": {},
     "output_type": "execute_result"
    }
   ],
   "source": [
    "soup.find_all(href = \"http://example.com/tillie\")"
   ]
  },
  {
   "cell_type": "code",
   "execution_count": 167,
   "metadata": {},
   "outputs": [
    {
     "ename": "SyntaxError",
     "evalue": "invalid syntax (<ipython-input-167-6971a6b23862>, line 1)",
     "output_type": "error",
     "traceback": [
      "\u001b[1;36m  File \u001b[1;32m\"<ipython-input-167-6971a6b23862>\"\u001b[1;36m, line \u001b[1;32m1\u001b[0m\n\u001b[1;33m    soup.find_all(class = \"sister\")\u001b[0m\n\u001b[1;37m                      ^\u001b[0m\n\u001b[1;31mSyntaxError\u001b[0m\u001b[1;31m:\u001b[0m invalid syntax\n"
     ]
    }
   ],
   "source": [
    "soup.find_all(class = \"sister\")"
   ]
  },
  {
   "cell_type": "code",
   "execution_count": 176,
   "metadata": {},
   "outputs": [
    {
     "data": {
      "text/plain": [
       "[<a class=\"sister\" href=\"http://example.com/elsie\" id=\"link1\">Elsie</a>,\n",
       " <a class=\"sister\" href=\"http://example.com/lacie\" id=\"link2\">Lacie</a>,\n",
       " <a class=\"sister\" href=\"http://example.com/tillie\" id=\"link3\">Tillie</a>]"
      ]
     },
     "execution_count": 176,
     "metadata": {},
     "output_type": "execute_result"
    }
   ],
   "source": [
    "soup.find_all('a', {'class': 'sister'})"
   ]
  },
  {
   "cell_type": "code",
   "execution_count": 168,
   "metadata": {},
   "outputs": [
    {
     "data": {
      "text/plain": [
       "[<a class=\"sister\" href=\"http://example.com/elsie\" id=\"link1\">Elsie</a>,\n",
       " <a class=\"sister\" href=\"http://example.com/lacie\" id=\"link2\">Lacie</a>,\n",
       " <a class=\"sister\" href=\"http://example.com/tillie\" id=\"link3\">Tillie</a>]"
      ]
     },
     "execution_count": 168,
     "metadata": {},
     "output_type": "execute_result"
    }
   ],
   "source": [
    "import re\n",
    "soup.find_all(href = re.compile(\"http://\"))"
   ]
  },
  {
   "cell_type": "code",
   "execution_count": 182,
   "metadata": {},
   "outputs": [
    {
     "data": {
      "text/plain": [
       "[]"
      ]
     },
     "execution_count": 182,
     "metadata": {},
     "output_type": "execute_result"
    }
   ],
   "source": [
    "soup.find_all({'href':re.compile(\"http://\")}) #doesn't give results"
   ]
  },
  {
   "cell_type": "code",
   "execution_count": 183,
   "metadata": {},
   "outputs": [
    {
     "data": {
      "text/plain": [
       "[<a class=\"sister\" href=\"http://example.com/elsie\" id=\"link1\">Elsie</a>,\n",
       " <a class=\"sister\" href=\"http://example.com/lacie\" id=\"link2\">Lacie</a>,\n",
       " <a class=\"sister\" href=\"http://example.com/tillie\" id=\"link3\">Tillie</a>]"
      ]
     },
     "execution_count": 183,
     "metadata": {},
     "output_type": "execute_result"
    }
   ],
   "source": [
    "soup.find_all('a', {'href':re.compile(\"http://\")}) #doesn't give results"
   ]
  },
  {
   "cell_type": "code",
   "execution_count": 171,
   "metadata": {},
   "outputs": [
    {
     "data": {
      "text/plain": [
       "[<a class=\"sister\" href=\"http://example.com/elsie\" id=\"link1\">Elsie</a>]"
      ]
     },
     "execution_count": 171,
     "metadata": {},
     "output_type": "execute_result"
    }
   ],
   "source": [
    "soup.find_all(href = re.compile(\"com\"), id = \"link1\" )"
   ]
  },
  {
   "cell_type": "code",
   "execution_count": 178,
   "metadata": {},
   "outputs": [
    {
     "data": {
      "text/plain": [
       "[<a class=\"sister\" href=\"http://example.com/elsie\" id=\"link1\">Elsie</a>]"
      ]
     },
     "execution_count": 178,
     "metadata": {},
     "output_type": "execute_result"
    }
   ],
   "source": [
    "soup.find_all('a', {'href':re.compile(\"com\"), 'id': 'link1'})"
   ]
  },
  {
   "cell_type": "markdown",
   "metadata": {},
   "source": [
    "----"
   ]
  },
  {
   "cell_type": "code",
   "execution_count": 39,
   "metadata": {},
   "outputs": [],
   "source": [
    "url = \"https://en.wikipedia.org/wiki/United_States\""
   ]
  },
  {
   "cell_type": "code",
   "execution_count": 40,
   "metadata": {},
   "outputs": [],
   "source": [
    "import requests"
   ]
  },
  {
   "cell_type": "code",
   "execution_count": 41,
   "metadata": {},
   "outputs": [],
   "source": [
    "r = requests.get(url)"
   ]
  },
  {
   "cell_type": "code",
   "execution_count": 43,
   "metadata": {},
   "outputs": [],
   "source": [
    "#r.text"
   ]
  },
  {
   "cell_type": "code",
   "execution_count": 4,
   "metadata": {},
   "outputs": [],
   "source": [
    "from bs4 import BeautifulSoup"
   ]
  },
  {
   "cell_type": "code",
   "execution_count": 44,
   "metadata": {},
   "outputs": [],
   "source": [
    "soup = BeautifulSoup(r.text)"
   ]
  },
  {
   "cell_type": "code",
   "execution_count": 46,
   "metadata": {},
   "outputs": [],
   "source": [
    "#print(soup.prettify())"
   ]
  },
  {
   "cell_type": "code",
   "execution_count": 48,
   "metadata": {},
   "outputs": [
    {
     "data": {
      "text/plain": [
       "'United States - Wikipedia'"
      ]
     },
     "execution_count": 48,
     "metadata": {},
     "output_type": "execute_result"
    }
   ],
   "source": [
    "soup.title.text"
   ]
  },
  {
   "cell_type": "code",
   "execution_count": 49,
   "metadata": {},
   "outputs": [
    {
     "data": {
      "text/plain": [
       "<a id=\"top\"></a>"
      ]
     },
     "execution_count": 49,
     "metadata": {},
     "output_type": "execute_result"
    }
   ],
   "source": [
    "soup.find(\"a\") #finds the first a tag"
   ]
  },
  {
   "cell_type": "code",
   "execution_count": 52,
   "metadata": {},
   "outputs": [],
   "source": [
    "a_tag = soup.find_all(\"a\") #gives a list of a tags"
   ]
  },
  {
   "cell_type": "code",
   "execution_count": 55,
   "metadata": {},
   "outputs": [],
   "source": [
    "lst = []\n",
    "for element in a_tag:\n",
    "    lst.append(element.get(\"href\"))"
   ]
  },
  {
   "cell_type": "code",
   "execution_count": 56,
   "metadata": {},
   "outputs": [
    {
     "data": {
      "text/plain": [
       "[None,\n",
       " '/wiki/Wikipedia:Good_articles',\n",
       " '/wiki/Wikipedia:Protection_policy#extended',\n",
       " '#mw-head',\n",
       " '#p-search',\n",
       " '/wiki/Americas',\n",
       " '/wiki/America_(disambiguation)',\n",
       " '/wiki/US_(disambiguation)',\n",
       " '/wiki/USA_(disambiguation)',\n",
       " '/wiki/United_States_(disambiguation)',\n",
       " '/wiki/Wikipedia:Article_size',\n",
       " '/wiki/Wikipedia:SIZERULE',\n",
       " '/wiki/Wikipedia:Splitting',\n",
       " '/wiki/Wikipedia:Summary_style',\n",
       " '/wiki/Help:Section#Subsections',\n",
       " '/wiki/Geographic_coordinate_system',\n",
       " '//tools.wmflabs.org/geohack/geohack.php?pagename=United_States&params=40_N_100_W_',\n",
       " '/wiki/File:Flag_of_the_United_States.svg',\n",
       " '/wiki/Flag_of_the_United_States',\n",
       " '/wiki/File:Greater_coat_of_arms_of_the_United_States.svg',\n",
       " '/wiki/Great_Seal_of_the_United_States#Design',\n",
       " '/wiki/In_God_We_Trust',\n",
       " '#cite_note-FOOTNOTEMcKenna2007280-1',\n",
       " '#cite_note-2',\n",
       " '/wiki/E_pluribus_unum',\n",
       " '/wiki/Latin_language',\n",
       " '/wiki/Annuit_c%C5%93ptis',\n",
       " '/wiki/Latin_language',\n",
       " '/wiki/God',\n",
       " '/wiki/Novus_ordo_seclorum',\n",
       " '/wiki/Latin_language',\n",
       " '/wiki/The_Star-Spangled_Banner',\n",
       " '/wiki/The_Stars_and_Stripes_Forever',\n",
       " '#cite_note-FOOTNOTEKidderOppenheim200791-3',\n",
       " '#cite_note-urluscode.house.gov-4',\n",
       " '/wiki/Great_Seal_of_the_United_States',\n",
       " '/wiki/File:Great_Seal_of_the_United_States_(obverse).svg',\n",
       " '/wiki/File:Great_Seal_of_the_United_States_(reverse).svg',\n",
       " '/wiki/File:USA_orthographic.svg',\n",
       " '/wiki/File:US_insular_areas.svg',\n",
       " '/wiki/Territories_of_the_United_States',\n",
       " '/wiki/Washington,_D.C.',\n",
       " '//tools.wmflabs.org/geohack/geohack.php?pagename=United_States&params=38_53_N_77_01_W_',\n",
       " '/wiki/New_York_City',\n",
       " '//tools.wmflabs.org/geohack/geohack.php?pagename=United_States&params=40_43_N_74_00_W_',\n",
       " '/wiki/Federal_government_of_the_United_States',\n",
       " '#cite_note-7',\n",
       " '/wiki/National_language',\n",
       " '/wiki/English_language',\n",
       " '#cite_note-language-8',\n",
       " '/wiki/Ethnic_group',\n",
       " '#cite_note-U.S._Census_Bureau_QuickFacts_selected:_UNITED_STATES-9',\n",
       " '/wiki/White_Americans',\n",
       " '/wiki/African_Americans',\n",
       " '/wiki/Asian_Americans',\n",
       " '/wiki/Multiracial_Americans',\n",
       " '/wiki/Native_Americans_in_the_United_States',\n",
       " '/wiki/Pacific_Islands_Americans',\n",
       " '/wiki/Hispanic_and_Latino_Americans',\n",
       " '#cite_note-10',\n",
       " '/wiki/Christianity_in_the_United_States',\n",
       " '/wiki/Irreligion_in_the_United_States',\n",
       " '/wiki/American_Jews#Religion',\n",
       " '/wiki/Islam_in_the_United_States',\n",
       " '/wiki/Demonym',\n",
       " '/wiki/Americans',\n",
       " '/wiki/Politics_of_the_United_States',\n",
       " '/wiki/Federalism_in_the_United_States',\n",
       " '/wiki/Presidential_system',\n",
       " '/wiki/Republic',\n",
       " '/wiki/President_of_the_United_States',\n",
       " '/wiki/Donald_Trump',\n",
       " '/wiki/Republican_Party_(United_States)',\n",
       " '/wiki/Vice_President_of_the_United_States',\n",
       " '/wiki/Mike_Pence',\n",
       " '/wiki/Republican_Party_(United_States)',\n",
       " '/wiki/Speaker_of_the_United_States_House_of_Representatives',\n",
       " '/wiki/Nancy_Pelosi',\n",
       " '/wiki/Democratic_Party_(United_States)',\n",
       " '/wiki/Chief_Justice_of_the_United_States',\n",
       " '/wiki/John_Roberts',\n",
       " '/wiki/United_States_Congress',\n",
       " '/wiki/Upper_house',\n",
       " '/wiki/United_States_Senate',\n",
       " '/wiki/Lower_house',\n",
       " '/wiki/United_States_House_of_Representatives',\n",
       " '/wiki/American_Revolution',\n",
       " '/wiki/Kingdom_of_Great_Britain',\n",
       " '/wiki/United_States_Declaration_of_Independence',\n",
       " '/wiki/Articles_of_Confederation',\n",
       " '/wiki/Treaty_of_Paris_(1783)',\n",
       " '/wiki/United_States_Constitution',\n",
       " '/wiki/Northern_Mariana_Islands',\n",
       " '/wiki/Geography_of_the_United_States',\n",
       " '#cite_note-largestcountry-11',\n",
       " '#cite_note-12',\n",
       " '/wiki/List_of_countries_and_dependencies_by_area',\n",
       " '/wiki/Demographics_of_the_United_States',\n",
       " '#cite_note-pop-13',\n",
       " '#cite_note-census2-14',\n",
       " '/wiki/List_of_countries_and_dependencies_by_population',\n",
       " '#cite_note-pop-13',\n",
       " '#cite_note-PEPANNRES2016-15',\n",
       " '/wiki/List_of_countries_and_dependencies_by_population',\n",
       " '/wiki/List_of_countries_and_dependencies_by_population_density',\n",
       " '/wiki/Gross_domestic_product',\n",
       " '/wiki/Purchasing_power_parity',\n",
       " '#cite_note-imf2-16',\n",
       " '/wiki/List_of_countries_by_GDP_(PPP)',\n",
       " '#cite_note-imf2-16',\n",
       " '/wiki/List_of_countries_by_GDP_(PPP)_per_capita',\n",
       " '/wiki/Gross_domestic_product',\n",
       " '#cite_note-imf2-16',\n",
       " '/wiki/List_of_countries_by_GDP_(nominal)',\n",
       " '#cite_note-imf2-16',\n",
       " '/wiki/List_of_countries_by_GDP_(nominal)_per_capita',\n",
       " '/wiki/Gini_coefficient',\n",
       " '#cite_note-17',\n",
       " '/wiki/List_of_countries_by_income_equality',\n",
       " '/wiki/Human_Development_Index',\n",
       " '#cite_note-HDI-18',\n",
       " '/wiki/List_of_countries_by_Human_Development_Index',\n",
       " '/wiki/United_States_dollar',\n",
       " '/wiki/ISO_4217',\n",
       " '/wiki/Coordinated_Universal_Time',\n",
       " '/wiki/Daylight_saving_time',\n",
       " '/wiki/Coordinated_Universal_Time',\n",
       " '#cite_note-time-19',\n",
       " '#cite_note-20',\n",
       " '/wiki/Mains_electricity',\n",
       " '/wiki/Left-_and_right-hand_traffic',\n",
       " '#cite_note-drive-21',\n",
       " '/wiki/Telephone_numbers_in_the_United_States',\n",
       " '/wiki/North_American_Numbering_Plan',\n",
       " '/wiki/ISO_3166',\n",
       " '/wiki/ISO_3166-2:US',\n",
       " '/wiki/Country_code_top-level_domain',\n",
       " '/wiki/.us',\n",
       " '#cite_note-22',\n",
       " '/wiki/Country',\n",
       " '/wiki/U.S._state',\n",
       " '/wiki/Washington,_D.C.',\n",
       " '/wiki/Territories_of_the_United_States',\n",
       " '/wiki/United_States_Minor_Outlying_Islands',\n",
       " '#cite_note-24',\n",
       " '/wiki/List_of_countries_and_dependencies_by_area',\n",
       " '#cite_note-largestcountry-11',\n",
       " '/wiki/Europe',\n",
       " '/wiki/List_of_countries_and_dependencies_by_population',\n",
       " '/wiki/Washington,_D.C.',\n",
       " '/wiki/List_of_United_States_cities_by_population',\n",
       " '/wiki/New_York_City',\n",
       " '/wiki/Contiguous_United_States',\n",
       " '/wiki/North_America',\n",
       " '/wiki/Canada',\n",
       " '/wiki/Mexico',\n",
       " '/wiki/Paleo-Indians',\n",
       " '/wiki/Settlement_of_the_Americas',\n",
       " '#cite_note-FOOTNOTEErlandsonRickVellanoweth200819-29',\n",
       " '/wiki/European_colonization_of_the_Americas',\n",
       " '/wiki/Thirteen_Colonies',\n",
       " '/wiki/East_Coast_of_the_United_States',\n",
       " '/wiki/Kingdom_of_Great_Britain',\n",
       " '/wiki/American_Revolution',\n",
       " '/wiki/American_Revolutionary_War',\n",
       " '/wiki/United_States_Declaration_of_Independence',\n",
       " '/wiki/Treaty_of_Paris_(1783)',\n",
       " '/wiki/Colonial_empire',\n",
       " '#cite_note-30',\n",
       " '/wiki/United_States_Constitution',\n",
       " '/wiki/United_States_Bill_of_Rights',\n",
       " '/wiki/Natural_and_legal_rights',\n",
       " '/wiki/United_States_territorial_acquisitions',\n",
       " '#cite_note-MD2007-31',\n",
       " '/wiki/American_Indian_Wars',\n",
       " '/wiki/List_of_U.S._states_by_date_of_admission_to_the_Union',\n",
       " '#cite_note-MD2007-31',\n",
       " '/wiki/American_Civil_War',\n",
       " '/wiki/Slavery_in_the_United_States',\n",
       " '#cite_note-32',\n",
       " '#cite_note-33',\n",
       " '#cite_note-AmCentNYT-34',\n",
       " '/wiki/Industrial_Revolution',\n",
       " '#cite_note-35',\n",
       " '/wiki/Spanish%E2%80%93American_War',\n",
       " '/wiki/World_War_I',\n",
       " '/wiki/World_War_II',\n",
       " '/wiki/Superpower',\n",
       " '/wiki/Nuclear_weapons_and_the_United_States',\n",
       " '/wiki/Atomic_bombings_of_Hiroshima_and_Nagasaki',\n",
       " '/wiki/Permanent_members_of_the_United_Nations_Security_Council',\n",
       " '/wiki/United_Nations_Security_Council',\n",
       " '/wiki/Lyndon_B._Johnson',\n",
       " '/wiki/Civil_Rights_Act_of_1964',\n",
       " '/wiki/Voting_Rights_Act_of_1965',\n",
       " '/wiki/Fair_Housing_Act_of_1968',\n",
       " '/wiki/Liberal_democracy',\n",
       " '#cite_note-36',\n",
       " '/wiki/Cold_War',\n",
       " '/wiki/Soviet_Union',\n",
       " '/wiki/Space_Race',\n",
       " '/wiki/Apollo_11',\n",
       " '/wiki/Dissolution_of_the_Soviet_Union',\n",
       " '#cite_note-37',\n",
       " '/wiki/Federal_republic',\n",
       " '/wiki/Representative_democracy',\n",
       " '/wiki/United_Nations',\n",
       " '/wiki/World_Bank',\n",
       " '/wiki/International_Monetary_Fund',\n",
       " '/wiki/Organization_of_American_States',\n",
       " '/wiki/Developed_country',\n",
       " '/wiki/List_of_countries_by_GDP_(nominal)',\n",
       " '/wiki/List_of_countries_by_GDP_(PPP)',\n",
       " '#cite_note-38',\n",
       " '/wiki/Economy_of_the_United_States',\n",
       " '/wiki/Post-industrial_society',\n",
       " '/wiki/Service_(economics)',\n",
       " '/wiki/Knowledge_economy',\n",
       " '#cite_note-39',\n",
       " '/wiki/List_of_countries_by_imports',\n",
       " '/wiki/List_of_countries_by_exports',\n",
       " '#cite_note-40',\n",
       " '#cite_note-41',\n",
       " '#cite_note-urlPopulation_Clock-42',\n",
       " '/wiki/National_wealth',\n",
       " '#cite_note-43',\n",
       " '/wiki/Income_inequality_in_the_United_States',\n",
       " '/wiki/Wealth_inequality_in_the_United_States',\n",
       " '/wiki/International_rankings_of_the_United_States',\n",
       " '/wiki/List_of_countries_by_average_wage',\n",
       " '/wiki/Disposable_household_and_per_capita_income#Median',\n",
       " '/wiki/Human_Development_Index',\n",
       " '/wiki/List_of_countries_by_GDP_(nominal)_per_capita',\n",
       " '#cite_note-44',\n",
       " '#cite_note-45',\n",
       " '/wiki/United_States_Armed_Forces',\n",
       " '/wiki/List_of_countries_by_military_expenditures',\n",
       " '#cite_note-46',\n",
       " '/wiki/Politics',\n",
       " '/wiki/Culture_of_the_United_States',\n",
       " '/wiki/Science_and_technology_in_the_United_States',\n",
       " '#cite_note-47',\n",
       " '#Etymology',\n",
       " '#History',\n",
       " '#Indigenous_peoples_and_pre-Columbian_history',\n",
       " '#Effects_on_and_interaction_with_native_populations',\n",
       " '#European_settlements',\n",
       " '#Independence_and_expansion_(1776–1865)',\n",
       " '#Civil_War_and_Reconstruction_era',\n",
       " '#Further_immigration,_expansion,_and_industrialization',\n",
       " '#World_War_I,_Great_Depression,_and_World_War_II',\n",
       " '#Cold_War_and_civil_rights_era',\n",
       " '#Contemporary_history',\n",
       " '#Geography,_climate,_and_environment',\n",
       " '#Wildlife',\n",
       " '#Demographics',\n",
       " '#Population',\n",
       " '#Major_population_areas',\n",
       " '#Language',\n",
       " '#Religion',\n",
       " '#Family_structure',\n",
       " '#Health',\n",
       " '#Education',\n",
       " '#Higher_education',\n",
       " '#Government_and_politics',\n",
       " '#Political_divisions',\n",
       " '#Parties_and_elections',\n",
       " '#Foreign_relations',\n",
       " '#Government_finance',\n",
       " '#Military',\n",
       " '#Law_enforcement_and_crime',\n",
       " '#Economy',\n",
       " '#Science_and_technology',\n",
       " '#Income,_poverty_and_wealth',\n",
       " '#Infrastructure',\n",
       " '#Transportation',\n",
       " '#Energy',\n",
       " '#Water_supply_and_sanitation',\n",
       " '#Culture',\n",
       " '#Food',\n",
       " '#Literature,_philosophy,_and_visual_art',\n",
       " '#Music',\n",
       " '#Cinema',\n",
       " '#Sports',\n",
       " '#Mass_media',\n",
       " '#See_also',\n",
       " '#Notes',\n",
       " '#References',\n",
       " '#Further_reading',\n",
       " '#External_links',\n",
       " '/wiki/Naming_of_the_Americas',\n",
       " '/wiki/Names_for_United_States_citizens',\n",
       " '/wiki/American_(word)',\n",
       " '/wiki/File:Amerigo_Vespucci_-_Project_Gutenberg_etext_19997.jpg',\n",
       " '/wiki/File:Amerigo_Vespucci_-_Project_Gutenberg_etext_19997.jpg',\n",
       " '/wiki/Amerigo_Vespucci',\n",
       " '#cite_note-FOOTNOTEMartone2016504-48',\n",
       " '/wiki/Martin_Waldseem%C3%BCller',\n",
       " '/wiki/Americas',\n",
       " '/wiki/Amerigo_Vespucci',\n",
       " '/wiki/Latin_language',\n",
       " '#cite_note-FOOTNOTESider2007226-49',\n",
       " '/wiki/Stephen_Moylan',\n",
       " '/wiki/George_Washington',\n",
       " '/wiki/Aide-de-camp',\n",
       " '/wiki/Continental_Army',\n",
       " '/wiki/Joseph_Reed_(politician)',\n",
       " '#cite_note-50',\n",
       " '#cite_note-51',\n",
       " '#cite_note-52',\n",
       " '/wiki/The_Virginia_Gazette',\n",
       " '#cite_note-53',\n",
       " '/wiki/Articles_of_Confederation',\n",
       " '/wiki/John_Dickinson',\n",
       " '#cite_note-FOOTNOTESafire2003199-54',\n",
       " '#cite_note-FOOTNOTEMostert200518-55',\n",
       " '/wiki/Thomas_Jefferson',\n",
       " '/wiki/United_States_Declaration_of_Independence',\n",
       " '#cite_note-FOOTNOTESafire2003199-54',\n",
       " '#cite_note-FOOTNOTESafire2003199-54',\n",
       " '/wiki/Columbia_(name)',\n",
       " '/wiki/Christopher_Columbus',\n",
       " '/wiki/Washington,_D.C.',\n",
       " '/wiki/Colombia',\n",
       " '#cite_note-FOOTNOTEBrokenshire199349-56',\n",
       " '/wiki/Thirteenth_Amendment_to_the_United_States_Constitution',\n",
       " '#cite_note-FOOTNOTEGreg1892276-57',\n",
       " '#cite_note-58',\n",
       " '/wiki/Citizenship_of_the_United_States',\n",
       " '/wiki/Americans',\n",
       " '/wiki/American_(word)',\n",
       " '#cite_note-59',\n",
       " '/wiki/History_of_the_United_States',\n",
       " '/wiki/Timeline_of_United_States_history',\n",
       " '/wiki/American_business_history',\n",
       " '/wiki/Economic_history_of_the_United_States',\n",
       " '/wiki/Labor_history_of_the_United_States',\n",
       " '/wiki/Native_Americans_in_the_United_States',\n",
       " '/wiki/File:Monks_Mound_in_July.JPG',\n",
       " '/wiki/Monks_Mound',\n",
       " '/wiki/Cahokia',\n",
       " '/wiki/UNESCO',\n",
       " '/wiki/World_Heritage_Site',\n",
       " '/wiki/File:Cliff_Palace.JPG',\n",
       " '/wiki/Cliff_Palace',\n",
       " '/wiki/Ancestral_Puebloans',\n",
       " '/wiki/Prehistoric_migration_and_settlement_of_the_Americas_from_Asia',\n",
       " '/wiki/Siberia',\n",
       " '/wiki/Beringia',\n",
       " '#cite_note-FOOTNOTEErlandsonRickVellanoweth200819-29',\n",
       " '#cite_note-FOOTNOTESavage201155-60',\n",
       " '#cite_note-FOOTNOTEHavilandWalrathPrins2013219-61',\n",
       " '#cite_note-FOOTNOTEFladmark201755–69-62',\n",
       " '/wiki/Cordilleran_Ice_Sheet',\n",
       " '/wiki/Laurentide_Ice_Sheet',\n",
       " '#cite_note-FOOTNOTEMeltzer2009129-63',\n",
       " '/wiki/Clovis_culture',\n",
       " '#cite_note-FOOTNOTEWatersStafford20071122–1126-64',\n",
       " '#cite_note-FOOTNOTEFlannery2015173–185-65',\n",
       " '#cite_note-FOOTNOTEGelo2018-66',\n",
       " '/wiki/Pre-Columbian_era',\n",
       " '/wiki/Mississippian_culture',\n",
       " '#cite_note-FOOTNOTELockard2010315-67',\n",
       " '#cite_note-FOOTNOTEInghilleri2016117-68',\n",
       " '/wiki/Cahokia',\n",
       " '/wiki/Archaeology',\n",
       " '#cite_note-FOOTNOTEMartinezSageOno20164-69',\n",
       " '/wiki/Four_Corners',\n",
       " '/wiki/Ancestral_Puebloans',\n",
       " '#cite_note-FOOTNOTEFagan2016390-70',\n",
       " '/wiki/UNESCO_World_Heritage_Sites',\n",
       " '/wiki/Mesa_Verde_National_Park',\n",
       " '/wiki/Chaco_Culture_National_Historical_Park',\n",
       " '/wiki/Taos_Pueblo',\n",
       " '#cite_note-FOOTNOTEMartinezBordeaux2016602-71',\n",
       " '#cite_note-FOOTNOTEWeissJacobson2000180-72',\n",
       " '/wiki/Poverty_Point',\n",
       " '/wiki/Louisiana',\n",
       " '/wiki/World_Heritage_Site',\n",
       " '/wiki/Great_Lakes',\n",
       " '/wiki/Iroquois_Confederacy',\n",
       " '#cite_note-Dean_Snow-73',\n",
       " '/wiki/Hawaiian_Islands',\n",
       " '#cite_note-PearcePearce2010-74',\n",
       " '/wiki/Archaeology',\n",
       " '#cite_note-Whittaker1986-75',\n",
       " '/wiki/American_Indian_Wars',\n",
       " '/wiki/Population_history_of_indigenous_peoples_of_the_Americas',\n",
       " '/wiki/Native_American_disease_and_epidemics',\n",
       " '/wiki/Native_Americans_in_the_United_States',\n",
       " '/wiki/American_Indian_Wars',\n",
       " '#cite_note-76',\n",
       " '/wiki/Population_history_of_indigenous_peoples_of_the_Americas',\n",
       " '/wiki/Smallpox',\n",
       " '/wiki/Measles',\n",
       " '#cite_note-77',\n",
       " '#cite_note-78',\n",
       " '/wiki/James_Mooney',\n",
       " '/wiki/Mexico',\n",
       " '#cite_note-FOOTNOTEPerdueGreen200540-79',\n",
       " '#cite_note-FOOTNOTEHainesHainesSteckel200012-80',\n",
       " '/wiki/Douglas_H._Ubelaker',\n",
       " '/wiki/Smithsonian_Institution',\n",
       " '#cite_note-FOOTNOTEThornton199834-81',\n",
       " '#cite_note-FOOTNOTEPerdueGreen200540-79',\n",
       " '/wiki/Anthropologist',\n",
       " '/wiki/Henry_F._Dobyns',\n",
       " '/wiki/Florida',\n",
       " '/wiki/Massachusetts',\n",
       " '/wiki/Mississippi_Valley',\n",
       " '/wiki/Florida_peninsula',\n",
       " '#cite_note-FOOTNOTEPerdueGreen200540-79',\n",
       " '#cite_note-FOOTNOTEHainesHainesSteckel200012-80',\n",
       " '/wiki/Norsemen',\n",
       " '/wiki/Saga',\n",
       " '/wiki/The_Maritimes',\n",
       " '#cite_note-FOOTNOTEVoloVolo200711-82',\n",
       " '#cite_note-FOOTNOTECowper201167-83',\n",
       " '#cite_note-FOOTNOTEWilsonThompson199714-84',\n",
       " '/wiki/Colonial_war',\n",
       " '#cite_note-85',\n",
       " '#cite_note-86',\n",
       " '#cite_note-87',\n",
       " '/wiki/Colonial_history_of_the_United_States',\n",
       " '/wiki/European_colonization_of_the_Americas',\n",
       " '/wiki/Thirteen_Colonies',\n",
       " '/wiki/File:View_of_St._Augustine_FL_at_intersection_of_Cathedral_Pl_and_Charlotte_St_20160707_1.jpg',\n",
       " '/wiki/File:View_of_St._Augustine_FL_at_intersection_of_Cathedral_Pl_and_Charlotte_St_20160707_1.jpg',\n",
       " '/wiki/St._Augustine,_Florida',\n",
       " '#cite_note-Saint_Augustine-88',\n",
       " '/wiki/File:The_Mayflower_Compact_1620_cph.3g07155.jpg',\n",
       " '/wiki/File:The_Mayflower_Compact_1620_cph.3g07155.jpg',\n",
       " '/wiki/Mayflower_Compact',\n",
       " '/wiki/Jean_Leon_Gerome_Ferris',\n",
       " '/wiki/Native_Americans_in_the_United_States',\n",
       " '/wiki/American_Indian_Wars',\n",
       " '#cite_note-FOOTNOTEJoseph2016590-89',\n",
       " '/wiki/Conquistador',\n",
       " '/wiki/Juan_Ponce_de_Le%C3%B3n',\n",
       " '/wiki/Unincorporated_territories_of_the_United_States',\n",
       " '/wiki/Christopher_Columbus',\n",
       " '/wiki/Puerto_Rico',\n",
       " '/wiki/Columbus%27s_second_voyage',\n",
       " '/wiki/St._Augustine,_Florida',\n",
       " '#cite_note-Saint_Augustine-88',\n",
       " '/wiki/Santa_Fe,_New_Mexico',\n",
       " '/wiki/Mississippi_River',\n",
       " '/wiki/English_overseas_possessions',\n",
       " '/wiki/Colony_of_Virginia',\n",
       " '/wiki/Jamestown,_Virginia',\n",
       " '/wiki/Pilgrims_(Plymouth_Colony)',\n",
       " '/wiki/Plymouth_Colony',\n",
       " '/wiki/English_Dissenters',\n",
       " '/wiki/Freedom_of_religion',\n",
       " '/wiki/House_of_Burgesses',\n",
       " '/wiki/Mayflower_Compact',\n",
       " '/wiki/Fundamental_Orders_of_Connecticut',\n",
       " '#cite_note-Remini2–3-90',\n",
       " '#cite_note-Johnson26–30-91',\n",
       " '/wiki/Cash_crops',\n",
       " '#cite_note-92',\n",
       " '/wiki/Scotch-Irish_American',\n",
       " '/wiki/Indentured_servitude',\n",
       " '#cite_note-93',\n",
       " '#cite_note-94',\n",
       " '#cite_note-95',\n",
       " '#cite_note-96',\n",
       " '#cite_note-Lien522-97',\n",
       " '#cite_note-Davis7-98',\n",
       " '#cite_note-Quirk2011-99',\n",
       " '/wiki/Province_of_Georgia',\n",
       " '/wiki/Thirteen_Colonies',\n",
       " '#cite_note-BilhartzElliott2007-100',\n",
       " '/wiki/Rights_of_Englishmen',\n",
       " '#cite_note-Wood1998-101',\n",
       " '#cite_note-102',\n",
       " '/wiki/Christian_revival',\n",
       " '/wiki/First_Great_Awakening',\n",
       " '#cite_note-103',\n",
       " '/wiki/File:North_America_1748.PNG',\n",
       " '/wiki/File:North_America_1748.PNG',\n",
       " '/wiki/Thirteen_Colonies',\n",
       " '/wiki/Seven_Years%27_War',\n",
       " '/wiki/French_and_Indian_War',\n",
       " '/wiki/French_language',\n",
       " '/wiki/Native_Americans_in_the_United_States',\n",
       " '#cite_note-104',\n",
       " '/wiki/Monarchy',\n",
       " '#cite_note-105',\n",
       " '/wiki/Spanish_Navy',\n",
       " '/wiki/Juan_Jos%C3%A9_P%C3%A9rez_Hern%C3%A1ndez',\n",
       " '/wiki/Nootka_Sound',\n",
       " '/wiki/Fur',\n",
       " '/wiki/Abalone',\n",
       " '/wiki/California',\n",
       " '#cite_note-106',\n",
       " '/wiki/Asia',\n",
       " '/wiki/Portugal',\n",
       " '/wiki/Russians',\n",
       " '/wiki/Fur_trading',\n",
       " '/wiki/Alaska',\n",
       " '/wiki/Pacific_Northwest',\n",
       " '#cite_note-107',\n",
       " '#cite_note-109',\n",
       " '/wiki/James_Cook#Third_voyage_(1776–79)',\n",
       " '/wiki/Captain_James_Cook',\n",
       " '#cite_note-110',\n",
       " '/wiki/Northwest_Passage',\n",
       " '#cite_note-111',\n",
       " '/wiki/American_Revolutionary_War',\n",
       " '/wiki/United_States_Declaration_of_Independence',\n",
       " '/wiki/American_Revolution',\n",
       " '/wiki/Territorial_evolution_of_the_United_States',\n",
       " '/wiki/File:Declaration_of_Independence_(1819),_by_John_Trumbull.jpg',\n",
       " '/wiki/File:Declaration_of_Independence_(1819),_by_John_Trumbull.jpg',\n",
       " '/wiki/Declaration_of_Independence_(Trumbull)',\n",
       " '/wiki/John_Trumbull',\n",
       " '/wiki/American_Revolutionary_War',\n",
       " '/wiki/Republicanism_in_the_United_States',\n",
       " '/wiki/Rights_of_Englishmen',\n",
       " '/wiki/American_Revolution',\n",
       " '#cite_note-Humphrey2003-112',\n",
       " '/wiki/Second_Continental_Congress',\n",
       " '/wiki/United_States_Declaration_of_Independence',\n",
       " '/wiki/Thirteen_Colonies',\n",
       " '/wiki/Independence_Day_(United_States)',\n",
       " '#cite_note-YoungNash2011-113',\n",
       " '#cite_note-FOOTNOTESamuel1920323-324-114',\n",
       " '/wiki/Articles_of_Confederation',\n",
       " '#cite_note-YoungNash2011-113',\n",
       " '/wiki/File:U.S._Territorial_Acquisitions.png',\n",
       " '/wiki/File:U.S._Territorial_Acquisitions.png',\n",
       " '/wiki/United_States_territorial_acquisitions',\n",
       " '/wiki/Siege_of_Yorktown',\n",
       " '#cite_note-115',\n",
       " '/wiki/Treaty_of_Paris_(1783)',\n",
       " '/wiki/Mississippi_River',\n",
       " '/wiki/Constitutional_Convention_(United_States)',\n",
       " '/wiki/United_States_Constitution',\n",
       " '/wiki/Ratification_of_the_United_States_Constitution',\n",
       " '/wiki/George_Washington',\n",
       " '/wiki/President_of_the_United_States',\n",
       " '/wiki/United_States_Bill_of_Rights',\n",
       " '/wiki/Natural_and_legal_rights',\n",
       " '#cite_note-BoyerJr.2007-116',\n",
       " '/wiki/Deep_South',\n",
       " '#cite_note-Cogliano2008-117',\n",
       " '#cite_note-118',\n",
       " '#cite_note-119',\n",
       " '/wiki/Second_Great_Awakening',\n",
       " '/wiki/Evangelicalism',\n",
       " '/wiki/Abolitionism_in_the_United_States',\n",
       " '#cite_note-Clark2012iu-120',\n",
       " '#cite_note-121',\n",
       " '/wiki/United_States_territorial_acquisitions',\n",
       " '/wiki/American_Indian_Wars',\n",
       " '#cite_note-BillingtonRidge2001j-122',\n",
       " '/wiki/Louisiana_Purchase',\n",
       " '#cite_note-123',\n",
       " '/wiki/War_of_1812',\n",
       " '#cite_note-Wait1999-124',\n",
       " '/wiki/Adams%E2%80%93On%C3%ADs_Treaty',\n",
       " '#cite_note-KloseJones1994-125',\n",
       " '/wiki/Steam_engine',\n",
       " '/wiki/Steamboats',\n",
       " '/wiki/Canal',\n",
       " '/wiki/Erie_Canal',\n",
       " '/wiki/Illinois_and_Michigan_Canal',\n",
       " '#cite_note-126',\n",
       " '/wiki/Jacksonian_democracy',\n",
       " '/wiki/Second_Party_System',\n",
       " '/wiki/Trail_of_Tears',\n",
       " '/wiki/Indian_Removal_Act',\n",
       " '/wiki/Indian_reservations',\n",
       " '/wiki/Republic_of_Texas',\n",
       " '/wiki/Manifest_destiny',\n",
       " '#cite_note-Morrison1999-127',\n",
       " '/wiki/Oregon_Treaty',\n",
       " '/wiki/Northwestern_United_States',\n",
       " '#cite_note-Kemp2010-128',\n",
       " '/wiki/Mexican%E2%80%93American_War',\n",
       " '/wiki/Mexican_Cession',\n",
       " '/wiki/Southwestern_United_States',\n",
       " '#cite_note-McIlwraithMuller2001-129',\n",
       " '/wiki/File:American_bison_in_Yellowstone_National_Park.jpg',\n",
       " '/wiki/File:American_bison_in_Yellowstone_National_Park.jpg',\n",
       " '/wiki/American_bison',\n",
       " '/wiki/National_symbols_of_the_United_States',\n",
       " '/wiki/Yellowstone_National_Park',\n",
       " '/wiki/California_Gold_Rush',\n",
       " '/wiki/California_Genocide',\n",
       " '#cite_note-130',\n",
       " '#cite_note-131',\n",
       " '#cite_note-132',\n",
       " '#cite_note-133',\n",
       " '#cite_note-Rawls1999-134',\n",
       " '/wiki/American_Civil_War',\n",
       " '/wiki/Rail_transportation_in_the_United_States#History',\n",
       " '#cite_note-Black2011kj-135',\n",
       " '/wiki/American_bison',\n",
       " '/wiki/Plains_Indians',\n",
       " '#cite_note-Wishart2004-136',\n",
       " '/wiki/Presidency_of_Ulysses_S._Grant#Indian_affairs_and_Peace_Policy',\n",
       " '/wiki/American_Civil_War',\n",
       " '/wiki/Reconstruction_era',\n",
       " '/wiki/File:Thure_de_Thulstrup_-_L._Prang_and_Co._-_Battle_of_Gettysburg_-_Restoration_by_Adam_Cuerden_(cropped).jpg',\n",
       " '/wiki/File:Thure_de_Thulstrup_-_L._Prang_and_Co._-_Battle_of_Gettysburg_-_Restoration_by_Adam_Cuerden_(cropped).jpg',\n",
       " '/wiki/Battle_of_Gettysburg',\n",
       " '/wiki/Thure_de_Thulstrup',\n",
       " '/wiki/Slavery_in_the_United_States',\n",
       " '/wiki/Africans',\n",
       " '/wiki/African_Americans',\n",
       " '/wiki/Origins_of_the_American_Civil_War',\n",
       " '#cite_note-137',\n",
       " '/wiki/Slave_states_and_free_states',\n",
       " \"#cite_note-O'Brien2002qs-138\",\n",
       " '/wiki/1860_United_States_presidential_election',\n",
       " '/wiki/Abraham_Lincoln',\n",
       " '/wiki/Republican_Party_(United_States)',\n",
       " '/wiki/Confederate_States_of_America',\n",
       " '/wiki/Union_(American_Civil_War)',\n",
       " \"#cite_note-O'Brien2002qs-138\",\n",
       " '#cite_note-139',\n",
       " '/wiki/Emancipation_Proclamation',\n",
       " '/wiki/Thirteenth_Amendment_to_the_United_States_Constitution',\n",
       " '/wiki/Reconstruction_Amendments',\n",
       " '/wiki/Fourteenth_Amendment_to_the_United_States_Constitution',\n",
       " '/wiki/African_American',\n",
       " '#cite_note-140',\n",
       " '/wiki/Fifteenth_Amendment_to_the_United_States_Constitution',\n",
       " '/wiki/Federalism_in_the_United_States',\n",
       " '#cite_note-141',\n",
       " '/wiki/Reconstruction_(United_States)',\n",
       " '/wiki/Assassination_of_Abraham_Lincoln',\n",
       " '/wiki/Compromise_of_1877',\n",
       " '/wiki/1876_United_States_presidential_election',\n",
       " '/wiki/Redeemers',\n",
       " '/wiki/Jim_Crow_laws',\n",
       " '/wiki/Disenfranchisement_after_the_Reconstruction_Era',\n",
       " '/wiki/Racial_segregation_in_the_United_States',\n",
       " '#cite_note-142',\n",
       " '/wiki/Lynching_in_the_United_States',\n",
       " '#cite_note-143',\n",
       " '/wiki/File:Ellis_island_1902.jpg',\n",
       " '/wiki/File:Ellis_island_1902.jpg',\n",
       " '/wiki/Ellis_Island',\n",
       " '/wiki/Immigration_to_the_United_States',\n",
       " '#cite_note-PriceBenton-Short2008-144',\n",
       " '/wiki/File:Liberty-statue-from-below.jpg',\n",
       " '/wiki/File:Liberty-statue-from-below.jpg',\n",
       " '/wiki/Statue_of_Liberty',\n",
       " '#cite_note-145',\n",
       " '/wiki/Economic_history_of_the_United_States',\n",
       " '/wiki/Technological_and_industrial_history_of_the_United_States',\n",
       " '/wiki/History_of_immigration_to_the_United_States',\n",
       " '/wiki/Southern_Europe',\n",
       " '/wiki/Eastern_Europe',\n",
       " '#cite_note-Powell2009qwet-146',\n",
       " '/wiki/First_Transcontinental_Telegraph',\n",
       " '/wiki/First_Transcontinental_Railroad',\n",
       " '/wiki/American_frontier',\n",
       " '/wiki/Incandescent_light_bulb',\n",
       " '/wiki/Telephone',\n",
       " '#cite_note-147',\n",
       " '/wiki/American_Indian_Wars',\n",
       " '#cite_note-148',\n",
       " '/wiki/Indian_reservation',\n",
       " '#cite_note-149',\n",
       " '/wiki/Alaska_Purchase',\n",
       " '/wiki/Russian_Empire',\n",
       " '#cite_note-150',\n",
       " '/wiki/Overthrow_of_the_Kingdom_of_Hawaii',\n",
       " '/wiki/Kingdom_of_Hawaii',\n",
       " '/wiki/Republic_of_Hawaii',\n",
       " '/wiki/Territory_of_Hawaii',\n",
       " '/wiki/Puerto_Rico',\n",
       " '/wiki/Guam',\n",
       " '/wiki/Philippines',\n",
       " '/wiki/Spanish%E2%80%93American_War',\n",
       " '#cite_note-151',\n",
       " '/wiki/American_Samoa',\n",
       " '/wiki/Second_Samoan_Civil_War',\n",
       " '#cite_note-152',\n",
       " '/wiki/United_States_Virgin_Islands',\n",
       " '#cite_note-153',\n",
       " '/wiki/Gilded_Age',\n",
       " '/wiki/Business_magnate',\n",
       " '/wiki/Cornelius_Vanderbilt',\n",
       " '/wiki/John_D._Rockefeller',\n",
       " '/wiki/Andrew_Carnegie',\n",
       " '/wiki/Railways',\n",
       " '/wiki/Petroleum_industry',\n",
       " '/wiki/History_of_the_steel_industry_(1850%E2%80%931970)',\n",
       " '/wiki/J._P._Morgan',\n",
       " '/wiki/Thomas_Edison',\n",
       " '/wiki/Nikola_Tesla',\n",
       " '/wiki/Henry_Ford',\n",
       " '/wiki/Automotive_industry',\n",
       " '/wiki/Great_power',\n",
       " '#cite_note-154',\n",
       " '/wiki/People%27s_Party_(United_States)',\n",
       " '/wiki/History_of_the_socialist_movement_in_the_United_States',\n",
       " '/wiki/Anarchism_in_the_United_States',\n",
       " '#cite_note-155',\n",
       " '/wiki/Progressive_Era',\n",
       " '/wiki/Women%27s_suffrage',\n",
       " '/wiki/Prohibition_in_the_United_States',\n",
       " '/wiki/United_States_antitrust_law',\n",
       " '#cite_note-156',\n",
       " '#cite_note-157',\n",
       " '#cite_note-158',\n",
       " '/wiki/World_War_I',\n",
       " '/wiki/Great_Depression',\n",
       " '/wiki/World_War_II',\n",
       " '/wiki/File:Empire_State_Building_(aerial_view).jpg',\n",
       " '/wiki/File:Empire_State_Building_(aerial_view).jpg',\n",
       " '/wiki/Empire_State_Building',\n",
       " '/wiki/Great_Depression',\n",
       " '/wiki/World_War_I',\n",
       " '/wiki/Allies_of_World_War_I',\n",
       " '/wiki/Central_Powers',\n",
       " '/wiki/Woodrow_Wilson',\n",
       " '/wiki/Paris_Peace_Conference,_1919',\n",
       " '/wiki/League_of_Nations',\n",
       " '/wiki/Treaty_of_Versailles',\n",
       " '#cite_note-autogenerated418-159',\n",
       " '/wiki/Nineteenth_Amendment_to_the_United_States_Constitution',\n",
       " '/wiki/Women%27s_suffrage_in_the_United_States',\n",
       " '#cite_note-voris-160',\n",
       " '/wiki/Radio',\n",
       " '/wiki/Mass_communication',\n",
       " '/wiki/Television',\n",
       " '#cite_note-161',\n",
       " '/wiki/Roaring_Twenties',\n",
       " '/wiki/Wall_Street_Crash_of_1929',\n",
       " '/wiki/Great_Depression_in_the_United_States',\n",
       " '/wiki/Franklin_D._Roosevelt',\n",
       " '/wiki/New_Deal',\n",
       " '/wiki/Social_Security_(United_States)',\n",
       " '#cite_note-162',\n",
       " '/wiki/Great_Migration_(African_American)',\n",
       " '#cite_note-163',\n",
       " '/wiki/Dust_Bowl',\n",
       " '#cite_note-164',\n",
       " '/wiki/File:Normandyx.jpg',\n",
       " '/wiki/File:Normandyx.jpg',\n",
       " '/wiki/Omaha_Beach',\n",
       " '/wiki/Invasion_of_Normandy',\n",
       " '/wiki/Military_history_of_the_United_States_during_World_War_II',\n",
       " '/wiki/Germany',\n",
       " '/wiki/Allies_of_World_War_II',\n",
       " '/wiki/Lend-Lease',\n",
       " '/wiki/Empire_of_Japan',\n",
       " '/wiki/Attack_on_Pearl_Harbor',\n",
       " '/wiki/Axis_powers',\n",
       " '#cite_note-Pearl_Harbor-165',\n",
       " '/wiki/Europe_first',\n",
       " '#cite_note-166',\n",
       " '/wiki/Philippines',\n",
       " '/wiki/Japanese_occupation_of_the_Philippines',\n",
       " '/wiki/European_Theater_of_Operations,_United_States_Army',\n",
       " '/wiki/Four_Policemen',\n",
       " '#cite_note-167',\n",
       " '#cite_note-FOOTNOTEHoopesBrinkley1997100-168',\n",
       " '#cite_note-FOOTNOTEGaddis197225-169',\n",
       " '#cite_note-170',\n",
       " '/wiki/World_War_II_casualties#Human_losses_by_country',\n",
       " '#cite_note-171',\n",
       " '/wiki/File:Trinity_Detonation_T%26B.jpg',\n",
       " '/wiki/File:Trinity_Detonation_T%26B.jpg',\n",
       " '/wiki/Trinity_(nuclear_test)',\n",
       " '/wiki/Manhattan_Project',\n",
       " '/wiki/Nuclear_weapon',\n",
       " '/wiki/Bretton_Woods_Conference',\n",
       " '/wiki/Yalta_Conference',\n",
       " '/wiki/Victory_in_Europe_Day',\n",
       " '/wiki/United_Nations_Conference_on_International_Organization',\n",
       " '/wiki/San_Francisco',\n",
       " '/wiki/United_Nations_Charter',\n",
       " '#cite_note-172',\n",
       " '/wiki/Battle_of_Leyte_Gulf',\n",
       " '#cite_note-Woodward1947-173',\n",
       " '#cite_note-174',\n",
       " '/wiki/Manhattan_Project',\n",
       " '/wiki/Atomic_bombings_of_Hiroshima_and_Nagasaki',\n",
       " '/wiki/Surrender_of_Japan',\n",
       " '#cite_note-175',\n",
       " '#cite_note-176',\n",
       " '/wiki/Victory_Day_(United_States)',\n",
       " '#cite_note-177',\n",
       " '/wiki/History_of_the_United_States_(1945%E2%80%931964)',\n",
       " '/wiki/History_of_the_United_States_(1964%E2%80%931980)',\n",
       " '/wiki/History_of_the_United_States_(1980%E2%80%931991)',\n",
       " '/wiki/Cold_War',\n",
       " '/wiki/Civil_Rights_Movement',\n",
       " '/wiki/War_on_Poverty',\n",
       " '/wiki/Space_Race',\n",
       " '/wiki/Reaganomics',\n",
       " '/wiki/File:Martin_Luther_King_-_March_on_Washington.jpg',\n",
       " '/wiki/File:Martin_Luther_King_-_March_on_Washington.jpg',\n",
       " '/wiki/Martin_Luther_King,_Jr.',\n",
       " '/wiki/I_Have_a_Dream',\n",
       " '/wiki/Lincoln_Memorial',\n",
       " '/wiki/March_on_Washington_for_Jobs_and_Freedom',\n",
       " '/wiki/File:Reagan_and_Gorbachev_hold_discussions.jpg',\n",
       " '/wiki/File:Reagan_and_Gorbachev_hold_discussions.jpg',\n",
       " '/wiki/Ronald_Reagan',\n",
       " '/wiki/General_Secretary_of_the_Communist_Party_of_the_Soviet_Union',\n",
       " '/wiki/Mikhail_Gorbachev',\n",
       " '/wiki/Geneva_Summit_(1985)',\n",
       " '/wiki/Soviet_Union',\n",
       " '/wiki/Cold_War',\n",
       " '/wiki/Capitalism',\n",
       " '/wiki/Communism',\n",
       " '#cite_note-WaggAndrews2012-178',\n",
       " '/wiki/Geopolitics',\n",
       " '/wiki/Europe',\n",
       " '/wiki/NATO',\n",
       " '/wiki/Warsaw_Pact',\n",
       " '/wiki/Containment',\n",
       " '/wiki/Proxy_war',\n",
       " '/wiki/Third_World',\n",
       " '/wiki/United_States_involvement_in_regime_change',\n",
       " '#cite_note-179',\n",
       " '/wiki/People%27s_Liberation_Army',\n",
       " '/wiki/North_Korea',\n",
       " '/wiki/Korean_War',\n",
       " '#cite_note-Proxy-180',\n",
       " '/wiki/Sputnik_1',\n",
       " '/wiki/Vostok_1',\n",
       " '/wiki/Space_Race',\n",
       " '/wiki/Apollo_11',\n",
       " '#cite_note-Proxy-180',\n",
       " '/wiki/Vietnam_War',\n",
       " '/wiki/Post%E2%80%93World_War_II_economic_expansion',\n",
       " '/wiki/Post%E2%80%93World_War_II_baby_boom',\n",
       " '/wiki/American_middle_class',\n",
       " '/wiki/Interstate_Highway_System',\n",
       " '/wiki/Inner_city',\n",
       " '/wiki/Suburb',\n",
       " '#cite_note-181',\n",
       " '#cite_note-IntHighways-182',\n",
       " '/wiki/Hawaii',\n",
       " '#cite_note-Lightner2004-183',\n",
       " '/wiki/Civil_Rights_Movement',\n",
       " '/wiki/Nonviolence',\n",
       " '/wiki/Martin_Luther_King_Jr.',\n",
       " '/wiki/Civil_Rights_Act_of_1968',\n",
       " '#cite_note-184',\n",
       " '#cite_note-185',\n",
       " '#cite_note-186',\n",
       " '/wiki/Counterculture_of_the_1960s',\n",
       " '/wiki/Opposition_to_United_States_involvement_in_the_Vietnam_War',\n",
       " '/wiki/Black_nationalism',\n",
       " '/wiki/Sexual_revolution',\n",
       " '/wiki/War_on_Poverty',\n",
       " '/wiki/Medicare_(United_States)',\n",
       " '/wiki/Medicaid',\n",
       " '/wiki/Means-tested',\n",
       " '/wiki/Food_Stamp_Program',\n",
       " '/wiki/Aid_to_Families_with_Dependent_Children',\n",
       " '#cite_note-187',\n",
       " '/wiki/Stagflation',\n",
       " '/wiki/Ronald_Reagan',\n",
       " '/wiki/Reaganomics',\n",
       " '/wiki/D%C3%A9tente',\n",
       " '/wiki/Rollback',\n",
       " '#cite_note-188',\n",
       " '#cite_note-189',\n",
       " '#cite_note-190',\n",
       " '#cite_note-191',\n",
       " '#cite_note-192',\n",
       " '#cite_note-193',\n",
       " '/wiki/Cold_War_(1985%E2%80%9391)',\n",
       " '/wiki/Dissolution_of_the_Soviet_Union',\n",
       " '#cite_note-194',\n",
       " '#cite_note-195',\n",
       " '#cite_note-196',\n",
       " '#cite_note-197',\n",
       " '/wiki/Unipolarity',\n",
       " '#cite_note-198',\n",
       " '/wiki/Pax_Americana',\n",
       " '/wiki/New_world_order_(politics)',\n",
       " '/wiki/History_of_the_United_States_(1991%E2%80%932008)',\n",
       " '/wiki/History_of_the_United_States_(2008%E2%80%93present)',\n",
       " '/wiki/Gulf_War',\n",
       " '/wiki/September_11_attacks',\n",
       " '/wiki/War_on_Terror',\n",
       " '/wiki/2008_financial_crisis',\n",
       " '/wiki/Affordable_Care_Act',\n",
       " '/wiki/File:WTC_smoking_on_9-11.jpeg',\n",
       " '/wiki/World_Trade_Center_(1973%E2%80%932001)',\n",
       " '/wiki/Lower_Manhattan',\n",
       " '/wiki/September_11_attack',\n",
       " '/wiki/Terrorism',\n",
       " '/wiki/Islamic_terrorism',\n",
       " '/wiki/Al-Qaeda',\n",
       " '/wiki/File:OneWorldTradeCenter.jpg',\n",
       " '/wiki/One_World_Trade_Center',\n",
       " '/wiki/Cold_War',\n",
       " '/wiki/Ba%27athist_Iraq',\n",
       " '/wiki/Saddam_Hussein',\n",
       " '/wiki/Invasion_of_Kuwait',\n",
       " '/wiki/George_H._W._Bush',\n",
       " '/wiki/Gulf_War',\n",
       " '/wiki/Gulf_War',\n",
       " '/wiki/Coalition_of_the_Gulf_War',\n",
       " '#cite_note-199',\n",
       " '/wiki/ARPANET',\n",
       " '/wiki/Internet',\n",
       " '#cite_note-200',\n",
       " '/wiki/Dot-com_bubble',\n",
       " '/wiki/Alan_Greenspan',\n",
       " '/wiki/Personal_Responsibility_and_Work_Opportunity_Act',\n",
       " '/wiki/1990s_United_States_boom',\n",
       " '#cite_note-201',\n",
       " '/wiki/North_American_Free_Trade_Agreement',\n",
       " '#cite_note-202',\n",
       " '/wiki/September_11_attacks',\n",
       " '/wiki/Al-Qaeda',\n",
       " '/wiki/World_Trade_Center_(1973%E2%80%932001)',\n",
       " '/wiki/The_Pentagon',\n",
       " '#cite_note-203',\n",
       " '/wiki/War_on_Terror',\n",
       " '/wiki/War_in_Afghanistan_(2001%E2%80%93present)',\n",
       " '/wiki/Iraq_War',\n",
       " '#cite_note-204',\n",
       " '#cite_note-205',\n",
       " '/wiki/Iraq_War_troop_surge_of_2007',\n",
       " '#cite_note-fact-206',\n",
       " '#cite_note-Feaver-207',\n",
       " '#cite_note-208',\n",
       " '#cite_note-209',\n",
       " '#cite_note-210',\n",
       " '#cite_note-211',\n",
       " '/wiki/United_States_housing_bubble',\n",
       " '/wiki/2008_financial_crisis',\n",
       " '#cite_note-212',\n",
       " '/wiki/Barack_Obama',\n",
       " '/wiki/African-American',\n",
       " '#cite_note-213',\n",
       " '/wiki/Multiracial_American',\n",
       " '#cite_note-214',\n",
       " '/wiki/2008_United_States_presidential_election',\n",
       " '#cite_note-215',\n",
       " '/wiki/American_Recovery_and_Reinvestment_Act_of_2009',\n",
       " '/wiki/Dodd-Frank_Wall_Street_Reform_and_Consumer_Protection_Act',\n",
       " '#cite_note-216',\n",
       " '#cite_note-217',\n",
       " '#cite_note-218',\n",
       " '#cite_note-219',\n",
       " '/wiki/File:US_President_Barack_Obama_taking_his_Oath_of_Office_-_2009Jan20.jpg',\n",
       " '/wiki/File:US_President_Barack_Obama_taking_his_Oath_of_Office_-_2009Jan20.jpg',\n",
       " '/wiki/Barack_Obama',\n",
       " '/wiki/Oath_of_office_of_the_President_of_the_United_States',\n",
       " '/wiki/Chief_Justice_of_the_United_States',\n",
       " '/wiki/John_Roberts',\n",
       " '/wiki/United_States_Capitol',\n",
       " '/wiki/Patient_Protection_and_Affordable_Care_Act',\n",
       " '/wiki/Health_care_in_the_United_States',\n",
       " '/wiki/Patient_Protection_and_Affordable_Care_Act#Mandates',\n",
       " '/wiki/Premium_tax_credit',\n",
       " '/wiki/Health_insurance_marketplace',\n",
       " '#cite_note-CBO_Subsidy2016-220',\n",
       " '#cite_note-221',\n",
       " '/wiki/United_States_House_of_Representatives_elections,_2010',\n",
       " '/wiki/United_States_Senate_elections,_2014',\n",
       " '#cite_note-222',\n",
       " '/wiki/Withdrawal_of_U.S._troops_from_Iraq',\n",
       " '#cite_note-223',\n",
       " '/wiki/Iraqi_insurgency_(2011%E2%80%932013)',\n",
       " '#cite_note-224',\n",
       " '/wiki/Islamic_State_of_Iraq_and_the_Levant',\n",
       " '#cite_note-225',\n",
       " '/wiki/United_States%E2%80%93Cuban_Thaw',\n",
       " '/wiki/Cuba%E2%80%93United_States_relations',\n",
       " '#cite_note-226',\n",
       " '/wiki/Presidency_of_Donald_Trump',\n",
       " '#cite_note-227',\n",
       " '/wiki/P5%2B1',\n",
       " '/wiki/Joint_Comprehensive_Plan_of_Action',\n",
       " '/wiki/Nuclear_program_of_Iran',\n",
       " '#cite_note-228',\n",
       " '#cite_note-229',\n",
       " '/wiki/2016_United_States_presidential_election',\n",
       " '/wiki/Donald_Trump',\n",
       " '/wiki/List_of_Presidents_of_the_United_States',\n",
       " '/wiki/List_of_presidents_of_the_United_States_by_age',\n",
       " '/wiki/List_of_Presidents_of_the_United_States_by_net_worth',\n",
       " '#cite_note-230',\n",
       " '/wiki/Geography_of_the_United_States',\n",
       " '/wiki/Climate_of_the_United_States',\n",
       " '/wiki/Environment_of_the_United_States',\n",
       " '/wiki/File:USA-satellite.jpg',\n",
       " '/wiki/File:USA-satellite.jpg',\n",
       " '/wiki/File:US_50_states_K%C3%B6ppen.svg',\n",
       " '/wiki/File:US_50_states_K%C3%B6ppen.svg',\n",
       " '/wiki/K%C3%B6ppen_climate_classification',\n",
       " '#cite_note-urlState_Area_Measurements_and_Internal_Point_Coordinates_–_Geography_–_U.S._Census_Bureau-231',\n",
       " '/wiki/Contiguous_United_States',\n",
       " ...]"
      ]
     },
     "execution_count": 56,
     "metadata": {},
     "output_type": "execute_result"
    }
   ],
   "source": [
    "lst #list of links"
   ]
  },
  {
   "cell_type": "markdown",
   "metadata": {},
   "source": [
    "---"
   ]
  },
  {
   "cell_type": "markdown",
   "metadata": {},
   "source": [
    "### Amazon product reviews"
   ]
  },
  {
   "cell_type": "code",
   "execution_count": 71,
   "metadata": {},
   "outputs": [],
   "source": [
    "url = \"https://www.amazon.in/Amazon-Echo-Smart-speaker-Powered/product-reviews/B0725W7Q38/ref=cm_cr_arp_d_viewpnt_lft?ie=UTF8&reviewerType=all_reviews&filterByStar=positive&pageNumber=1\""
   ]
  },
  {
   "cell_type": "code",
   "execution_count": 72,
   "metadata": {},
   "outputs": [],
   "source": [
    "r = requests.get(url)"
   ]
  },
  {
   "cell_type": "code",
   "execution_count": 74,
   "metadata": {},
   "outputs": [],
   "source": [
    "soup = BeautifulSoup(r.text)"
   ]
  },
  {
   "cell_type": "code",
   "execution_count": 77,
   "metadata": {},
   "outputs": [
    {
     "name": "stdout",
     "output_type": "stream",
     "text": [
      "[<span class=\"a-icon-alt\">4.2 out of 5 stars</span>, <span class=\"a-icon-alt\">4.0 out of 5 stars</span>, <span class=\"a-icon-alt\">2.0 out of 5 stars</span>, <span class=\"a-icon-alt\">4.0 out of 5 stars</span>, <span class=\"a-icon-alt\">5.0 out of 5 stars</span>, <span class=\"a-icon-alt\">4.0 out of 5 stars</span>, <span class=\"a-icon-alt\">5.0 out of 5 stars</span>, <span class=\"a-icon-alt\">5.0 out of 5 stars</span>, <span class=\"a-icon-alt\">4.0 out of 5 stars</span>, <span class=\"a-icon-alt\">4.0 out of 5 stars</span>, <span class=\"a-icon-alt\">4.0 out of 5 stars</span>, <span class=\"a-icon-alt\">5.0 out of 5 stars</span>, <span class=\"a-icon-alt\">5.0 out of 5 stars</span>, <span class=\"a-icon-alt\">4.3 out of 5 stars</span>, <span class=\"a-icon-alt\">4.3 out of 5 stars</span>, <span class=\"a-icon-alt\">4.1 out of 5 stars</span>]\n"
     ]
    }
   ],
   "source": [
    "stars = soup.find_all(\"span\", {\"class\": \"a-icon-alt\"})\n",
    "print(stars)"
   ]
  },
  {
   "cell_type": "code",
   "execution_count": 78,
   "metadata": {},
   "outputs": [
    {
     "data": {
      "text/plain": [
       "16"
      ]
     },
     "execution_count": 78,
     "metadata": {},
     "output_type": "execute_result"
    }
   ],
   "source": [
    "len(stars)"
   ]
  },
  {
   "cell_type": "code",
   "execution_count": 81,
   "metadata": {},
   "outputs": [],
   "source": [
    "top10 = soup.find(\"div\", {\"id\":\"cm_cr-review_list\", \"class\":\"a-section a-spacing-none review-views celwidget\"})"
   ]
  },
  {
   "cell_type": "code",
   "execution_count": 83,
   "metadata": {},
   "outputs": [],
   "source": [
    "lst = top10.find_all(\"span\", {\"class\": \"a-icon-alt\"})"
   ]
  },
  {
   "cell_type": "code",
   "execution_count": 84,
   "metadata": {},
   "outputs": [],
   "source": [
    "stars = []\n",
    "for el in lst:\n",
    "    stars.append(el.text)"
   ]
  },
  {
   "cell_type": "code",
   "execution_count": 85,
   "metadata": {},
   "outputs": [
    {
     "data": {
      "text/plain": [
       "['4.0 out of 5 stars',\n",
       " '5.0 out of 5 stars',\n",
       " '4.0 out of 5 stars',\n",
       " '5.0 out of 5 stars',\n",
       " '5.0 out of 5 stars',\n",
       " '4.0 out of 5 stars',\n",
       " '4.0 out of 5 stars',\n",
       " '4.0 out of 5 stars',\n",
       " '5.0 out of 5 stars',\n",
       " '5.0 out of 5 stars']"
      ]
     },
     "execution_count": 85,
     "metadata": {},
     "output_type": "execute_result"
    }
   ],
   "source": [
    "stars"
   ]
  },
  {
   "cell_type": "code",
   "execution_count": 87,
   "metadata": {},
   "outputs": [],
   "source": [
    "reviews = [tag.text for tag in top10.find_all(\"span\", {\"data-hook\":\"review-body\", \"class\":\"a-size-base review-text review-text-content\"})]"
   ]
  },
  {
   "cell_type": "code",
   "execution_count": 89,
   "metadata": {},
   "outputs": [
    {
     "data": {
      "text/plain": [
       "10"
      ]
     },
     "execution_count": 89,
     "metadata": {},
     "output_type": "execute_result"
    }
   ],
   "source": [
    "len(reviews)"
   ]
  },
  {
   "cell_type": "markdown",
   "metadata": {},
   "source": [
    "### To retrieve the top positive review\n",
    "First find the parent"
   ]
  },
  {
   "cell_type": "code",
   "execution_count": 91,
   "metadata": {},
   "outputs": [],
   "source": [
    "par = soup.find(\"div\", {\"aria-expanded\":\"false\", \"class\":\"a-expander-content a-expander-partial-collapse-content\"})"
   ]
  },
  {
   "cell_type": "code",
   "execution_count": 95,
   "metadata": {},
   "outputs": [
    {
     "data": {
      "text/plain": [
       "\"Nice device. Like the sound quality. Like the way it understand our language. However sometimes, don't like the responses it gives when asked to play some songs. When there are multiple songs with similar lyrics it does play the one I want. It does not give options which one I actually intended to listen, just plays the search output it found. When I say 'Alexa Play Tera ghat by gajendra Verma' it plays someother songs from gajendra Verma playlist  but not the song I wanted. Sometimes it plays a different song with lyric Tera ghata( old Hindi songs). Aurracry in song results is not that great (most of the times it gets it right). I really want Alexa to integrate with gaana, however it has only tie ups with saavan and Amazon music.Like the religious skills integration. You can ask it to play from Bible, bhagwat geetha, Quran for as long as u want.Like the news integrations with flash briefings options.Booking cabs with ola Uber finding latest movies being played around u etc are also great. quiet often i use Alexa to tell me word meanings. Also like to play medication and healing music  at times. Nice welcome addition to family for sure .\""
      ]
     },
     "execution_count": 95,
     "metadata": {},
     "output_type": "execute_result"
    }
   ],
   "source": [
    "par.find(\"div\", {\"class\":\"a-row a-spacing-top-mini\"}).text"
   ]
  },
  {
   "cell_type": "code",
   "execution_count": null,
   "metadata": {},
   "outputs": [],
   "source": [
    "### Right panel"
   ]
  },
  {
   "cell_type": "code",
   "execution_count": 97,
   "metadata": {},
   "outputs": [],
   "source": [
    "par = soup.find(\"div\", {\"class\":\"a-fixed-right-grid-col right-column a-col-right\"})"
   ]
  },
  {
   "cell_type": "markdown",
   "metadata": {},
   "source": [
    "---"
   ]
  },
  {
   "cell_type": "code",
   "execution_count": 108,
   "metadata": {},
   "outputs": [],
   "source": [
    "url = \"https://www.amazon.in/All-new-Echo-Dot-3rd-Gen/dp/B0792KTHKK/ref=sr_1_7?keywords=google+home&qid=1563364972&s=electronics&sr=1-7#customerReviews\""
   ]
  },
  {
   "cell_type": "code",
   "execution_count": 109,
   "metadata": {},
   "outputs": [],
   "source": [
    "r = requests.get(url)"
   ]
  },
  {
   "cell_type": "code",
   "execution_count": 110,
   "metadata": {},
   "outputs": [],
   "source": [
    "soup = BeautifulSoup(r.text)"
   ]
  },
  {
   "cell_type": "code",
   "execution_count": 80,
   "metadata": {},
   "outputs": [],
   "source": [
    "#print(soup.prettify())"
   ]
  },
  {
   "cell_type": "code",
   "execution_count": 111,
   "metadata": {},
   "outputs": [],
   "source": [
    "l = soup.find(\"div\", {\"id\":\"tech-specs-desktop\"})"
   ]
  },
  {
   "cell_type": "code",
   "execution_count": 115,
   "metadata": {},
   "outputs": [
    {
     "data": {
      "text/plain": [
       "[<td class=\"a-text-bold\"><p>Size</p>\n",
       " </td>, <td class=\"a-text-bold\"><p>Weight</p>\n",
       " </td>, <td class=\"a-text-bold\"><p>Wi-Fi Connectivity</p>\n",
       " </td>, <td class=\"a-text-bold\"><p>Bluetooth Connectivity</p>\n",
       " </td>, <td class=\"a-text-bold\"><p>Audio</p>\n",
       " </td>, <td class=\"a-text-bold\"><p>System Requirements</p>\n",
       " </td>, <td class=\"a-text-bold\"><p>Warranty and Service</p>\n",
       " </td>, <td class=\"a-text-bold\"><p>Included in the Box</p>\n",
       " </td>]"
      ]
     },
     "execution_count": 115,
     "metadata": {},
     "output_type": "execute_result"
    }
   ],
   "source": [
    "y = l.find_all(\"td\", {\"class\": \"a-text-bold\"})\n",
    "y"
   ]
  },
  {
   "cell_type": "code",
   "execution_count": 120,
   "metadata": {},
   "outputs": [
    {
     "data": {
      "text/plain": [
       "['Size',\n",
       " 'Weight',\n",
       " 'Wi-Fi Connectivity',\n",
       " 'Bluetooth Connectivity',\n",
       " 'Audio',\n",
       " 'System Requirements',\n",
       " 'Warranty and Service',\n",
       " 'Included in the Box']"
      ]
     },
     "execution_count": 120,
     "metadata": {},
     "output_type": "execute_result"
    }
   ],
   "source": [
    "cols = []\n",
    "for i in y:\n",
    "    s = i.text\n",
    "    s = s[:-1] #\\n considered as 1 character\n",
    "    cols.append(s)\n",
    "cols"
   ]
  },
  {
   "cell_type": "code",
   "execution_count": 122,
   "metadata": {},
   "outputs": [],
   "source": [
    "s = l.findAll(\"td\")"
   ]
  },
  {
   "cell_type": "code",
   "execution_count": 125,
   "metadata": {},
   "outputs": [
    {
     "name": "stdout",
     "output_type": "stream",
     "text": [
      "['99x 99 x 43 mm', '300 g\\nActual size and weight may vary by configuration and manufacturing process', 'Dual-band Wi-Fi supports 802.11 a/b/g/n (2.4 and 5 GHz) networks. Does not support connecting to ad-hoc (or peer-to-peer) Wi-Fi networks.', 'Advanced Audio Distribution Profile (A2DP) support for audio streaming from your mobile device to Echo Dot or from Echo Dot to your Bluetooth speaker. Audio/Video Remote Control Profile (AVRCP) for voice control of connected mobile devices. Hands-free voice control is not supported for Mac OS X devices. Bluetooth speakers requiring PIN codes are not supported.', 'Built-in speaker for voice feedback when not connected to external speakers. 3.5 mm stereo audio output for use with external speakers (audio cable not included).', 'Echo Dot comes ready to connect to your Wi-Fi. The Alexa App is compatible with Fire OS, Android, and iOS devices and also accessible via your web browser. Certain skills and services may require subscription or other fees.', 'All-new Echo dot is sold with a limited warranty of one year. Use of All-new Echo dot  is subject to the terms found here.', 'All-new Echo Dot, power adaptor (15W), and Quick Start Guide.']\n"
     ]
    }
   ],
   "source": [
    "desc = []\n",
    "for i in s:\n",
    "    try:\n",
    "        i[\"class\"]\n",
    "    except:\n",
    "        desc.append(i.text[:-1])\n",
    "        \n",
    "print(desc)"
   ]
  },
  {
   "cell_type": "code",
   "execution_count": 127,
   "metadata": {},
   "outputs": [],
   "source": [
    "import pandas as pd\n",
    "df = pd.DataFrame({\"Value\": desc}, index = cols)"
   ]
  },
  {
   "cell_type": "code",
   "execution_count": 128,
   "metadata": {},
   "outputs": [
    {
     "data": {
      "text/html": [
       "<div>\n",
       "<style scoped>\n",
       "    .dataframe tbody tr th:only-of-type {\n",
       "        vertical-align: middle;\n",
       "    }\n",
       "\n",
       "    .dataframe tbody tr th {\n",
       "        vertical-align: top;\n",
       "    }\n",
       "\n",
       "    .dataframe thead th {\n",
       "        text-align: right;\n",
       "    }\n",
       "</style>\n",
       "<table border=\"1\" class=\"dataframe\">\n",
       "  <thead>\n",
       "    <tr style=\"text-align: right;\">\n",
       "      <th></th>\n",
       "      <th>Value</th>\n",
       "    </tr>\n",
       "  </thead>\n",
       "  <tbody>\n",
       "    <tr>\n",
       "      <th>Size</th>\n",
       "      <td>99x 99 x 43 mm</td>\n",
       "    </tr>\n",
       "    <tr>\n",
       "      <th>Weight</th>\n",
       "      <td>300 g\\nActual size and weight may vary by conf...</td>\n",
       "    </tr>\n",
       "    <tr>\n",
       "      <th>Wi-Fi Connectivity</th>\n",
       "      <td>Dual-band Wi-Fi supports 802.11 a/b/g/n (2.4 a...</td>\n",
       "    </tr>\n",
       "    <tr>\n",
       "      <th>Bluetooth Connectivity</th>\n",
       "      <td>Advanced Audio Distribution Profile (A2DP) sup...</td>\n",
       "    </tr>\n",
       "    <tr>\n",
       "      <th>Audio</th>\n",
       "      <td>Built-in speaker for voice feedback when not c...</td>\n",
       "    </tr>\n",
       "    <tr>\n",
       "      <th>System Requirements</th>\n",
       "      <td>Echo Dot comes ready to connect to your Wi-Fi....</td>\n",
       "    </tr>\n",
       "    <tr>\n",
       "      <th>Warranty and Service</th>\n",
       "      <td>All-new Echo dot is sold with a limited warran...</td>\n",
       "    </tr>\n",
       "    <tr>\n",
       "      <th>Included in the Box</th>\n",
       "      <td>All-new Echo Dot, power adaptor (15W), and Qui...</td>\n",
       "    </tr>\n",
       "  </tbody>\n",
       "</table>\n",
       "</div>"
      ],
      "text/plain": [
       "                                                                    Value\n",
       "Size                                                       99x 99 x 43 mm\n",
       "Weight                  300 g\\nActual size and weight may vary by conf...\n",
       "Wi-Fi Connectivity      Dual-band Wi-Fi supports 802.11 a/b/g/n (2.4 a...\n",
       "Bluetooth Connectivity  Advanced Audio Distribution Profile (A2DP) sup...\n",
       "Audio                   Built-in speaker for voice feedback when not c...\n",
       "System Requirements     Echo Dot comes ready to connect to your Wi-Fi....\n",
       "Warranty and Service    All-new Echo dot is sold with a limited warran...\n",
       "Included in the Box     All-new Echo Dot, power adaptor (15W), and Qui..."
      ]
     },
     "execution_count": 128,
     "metadata": {},
     "output_type": "execute_result"
    }
   ],
   "source": [
    "df"
   ]
  },
  {
   "cell_type": "code",
   "execution_count": null,
   "metadata": {},
   "outputs": [],
   "source": []
  },
  {
   "cell_type": "code",
   "execution_count": null,
   "metadata": {},
   "outputs": [],
   "source": []
  },
  {
   "cell_type": "code",
   "execution_count": null,
   "metadata": {},
   "outputs": [],
   "source": []
  },
  {
   "cell_type": "code",
   "execution_count": null,
   "metadata": {},
   "outputs": [],
   "source": []
  }
 ],
 "metadata": {
  "kernelspec": {
   "display_name": "Python 3",
   "language": "python",
   "name": "python3"
  },
  "language_info": {
   "codemirror_mode": {
    "name": "ipython",
    "version": 3
   },
   "file_extension": ".py",
   "mimetype": "text/x-python",
   "name": "python",
   "nbconvert_exporter": "python",
   "pygments_lexer": "ipython3",
   "version": "3.6.8"
  }
 },
 "nbformat": 4,
 "nbformat_minor": 2
}
