{
 "cells": [
  {
   "cell_type": "code",
   "execution_count": 3,
   "metadata": {},
   "outputs": [],
   "source": [
    "import scipy.stats as stats\n",
    "from math import sqrt"
   ]
  },
  {
   "cell_type": "code",
   "execution_count": null,
   "metadata": {},
   "outputs": [],
   "source": [
    "Q.\tI have a population distribution of scores of all the students in the Maths Olympiad.\n",
    "Histogram: Mean score = 37.72; Std Dev = 16.04; N = population size = 10000. \n",
    "The distribution is a right skewed distribution. \n",
    "35 of these children have taken tuitions from very famous Mr. Ramesh and he claims\n",
    "that his students have an average score of 40. How do we determine whether we\n",
    "should send our child for this tuition? And how good is an average of 40?\n",
    "What if we increase the sample size to 500. Why does our decision change?\n"
   ]
  },
  {
   "cell_type": "code",
   "execution_count": 2,
   "metadata": {},
   "outputs": [],
   "source": [
    "import numpy as np\n",
    "mean = 37.72\n",
    "sample_average = 40\n",
    "sd = 16.04\n",
    "n = 35\n",
    "se = sd/np.sqrt(n)"
   ]
  },
  {
   "cell_type": "code",
   "execution_count": 5,
   "metadata": {},
   "outputs": [
    {
     "data": {
      "text/plain": [
       "0.20019104821791323"
      ]
     },
     "execution_count": 5,
     "metadata": {},
     "output_type": "execute_result"
    }
   ],
   "source": [
    "1-stats.norm.cdf(sample_average, loc = mean, scale = se )\n",
    "#Hence retain the null hypothesis"
   ]
  },
  {
   "cell_type": "code",
   "execution_count": 6,
   "metadata": {},
   "outputs": [
    {
     "data": {
      "text/plain": [
       "0.0007403218731059091"
      ]
     },
     "execution_count": 6,
     "metadata": {},
     "output_type": "execute_result"
    }
   ],
   "source": [
    "#if we increase n = 500\n",
    "n=500\n",
    "se = sd/np.sqrt(n)\n",
    "1-stats.norm.cdf(sample_average, loc = mean, scale = se )"
   ]
  },
  {
   "cell_type": "markdown",
   "metadata": {},
   "source": [
    "---"
   ]
  },
  {
   "cell_type": "raw",
   "metadata": {},
   "source": [
    "Q. A study report claimed that the average number of weeks an individual is unemployed is 17.5 weeks. Assume that for the population of all unemployed individuals the population mean length of unemployment is 17.5 weeks and that the population standard deviation is 4 weeks.\n",
    "Suppose you would like to select a sample of 50 unemployed individuals for a follow up study:\n",
    "1.What is the probability that a simple random sample of 50 unemployed individuals will provide a sample mean within a week of the population mean?\n",
    "#i.e we'll take a sampling distribution of size 50, which will be normal shaped. We want AUC between 16.5 and 18.5\n",
    "2.What is the probability that a simple random sample of 50 unemployed individuals will provide a sample mean within  half a week of the population mean?"
   ]
  },
  {
   "cell_type": "raw",
   "metadata": {},
   "source": [
    "cdf - cumulative distribution function\n",
    "stats.norm.cdf ( x = , loc = , scale = ) - stats.norm.cdf ( x = loc = , scale =)"
   ]
  },
  {
   "cell_type": "raw",
   "metadata": {},
   "source": [
    "# scipy.stats.norm.cdf/.ppf/.pdf #pdf is not used as it is used to find the point probabilities"
   ]
  },
  {
   "cell_type": "raw",
   "metadata": {},
   "source": [
    "within one week of pop mean --> move one week on th right and one week on the left"
   ]
  },
  {
   "cell_type": "raw",
   "metadata": {},
   "source": [
    "the distribution of random variable X\n",
    "X ~ N( mean = mu, std = sigma)"
   ]
  },
  {
   "cell_type": "raw",
   "metadata": {},
   "source": [
    "the distribution of sample means of X\n",
    "Xbar ~ N( mean= mu, std = sigma/sqrt(n))"
   ]
  },
  {
   "cell_type": "code",
   "execution_count": 13,
   "metadata": {},
   "outputs": [],
   "source": [
    "# to find the auc bw 16.5 and 1.5 in a normal distribution\n",
    "mu = 17.5\n",
    "sigma = 4\n",
    "n = 50\n",
    "xbar1 = 18.5\n",
    "xbar2 = 16.5\n",
    "std_sample_means = sigma/sqrt(n)"
   ]
  },
  {
   "cell_type": "code",
   "execution_count": 14,
   "metadata": {},
   "outputs": [
    {
     "data": {
      "text/plain": [
       "1.131370849898476"
      ]
     },
     "execution_count": 14,
     "metadata": {},
     "output_type": "execute_result"
    }
   ],
   "source": [
    "std_sample_means *2"
   ]
  },
  {
   "cell_type": "code",
   "execution_count": 12,
   "metadata": {},
   "outputs": [
    {
     "data": {
      "text/plain": [
       "0.9229001282564584"
      ]
     },
     "execution_count": 12,
     "metadata": {},
     "output_type": "execute_result"
    }
   ],
   "source": [
    "stats.norm.cdf(xbar1, mu,std_sample_means ) - stats.norm.cdf(xbar2, mu,std_sample_means )"
   ]
  },
  {
   "cell_type": "code",
   "execution_count": 9,
   "metadata": {},
   "outputs": [
    {
     "data": {
      "text/plain": [
       "0.9614500641282292"
      ]
     },
     "execution_count": 9,
     "metadata": {},
     "output_type": "execute_result"
    }
   ],
   "source": [
    "#area on the left of 18.5\n",
    "stats.norm.cdf(mu+1, loc = mu, scale = std_sample_means) \n",
    "#### area on the left of 18.5 weeks \n",
    "#### prob of unemployment length  to be less than 18.5 weeks"
   ]
  },
  {
   "cell_type": "code",
   "execution_count": 9,
   "metadata": {},
   "outputs": [
    {
     "data": {
      "text/plain": [
       "0.03854993587177085"
      ]
     },
     "execution_count": 9,
     "metadata": {},
     "output_type": "execute_result"
    }
   ],
   "source": [
    "#### area on the left of 16.5 weeks \n",
    "#### prob of unemployment length  to be less than 16.5 weeks\n",
    "stats.norm.cdf(mu-1, loc = mu, scale = std_sample_means) "
   ]
  },
  {
   "cell_type": "code",
   "execution_count": 10,
   "metadata": {},
   "outputs": [
    {
     "data": {
      "text/plain": [
       "0.9229001282564584"
      ]
     },
     "execution_count": 10,
     "metadata": {},
     "output_type": "execute_result"
    }
   ],
   "source": [
    "# prob that 16.5<lou<18.5 \n",
    "stats.norm.cdf(mu+1, loc = mu, scale = std_sample_means)  - \\\n",
    "stats.norm.cdf(mu-1, loc = mu, scale = std_sample_means) "
   ]
  },
  {
   "cell_type": "markdown",
   "metadata": {},
   "source": [
    "---"
   ]
  },
  {
   "cell_type": "raw",
   "metadata": {},
   "source": [
    "Question.\n",
    "The College Board reported the following mean scores for the three parts of the Scholastic Aptitude Test (SAT) :\n",
    "Critical Reading: 502\n",
    "Mathematics: 515\n",
    "Writing: 494\n",
    "Assume that the population standard deviation on each part of the test is σ =  100.\n",
    "a.\tWhat is the probability a random sample of 90 test takers will provide a sample mean test score within 10 points of the population mean of 502 on the Critical Reading part of the test?\n",
    "b.\tWhat is the probability a random sample of 90 test takers will provide a sample mean test score within 10 points of the population mean of 515 on the Mathematics part of the test? \n",
    "c.\tWhat is the probability a random sample of 100 test takers will provide a sample mean test score within 10 of the population mean of 494 on the writing part of the test? \n",
    "\n",
    "Comment on the results.\n"
   ]
  },
  {
   "cell_type": "markdown",
   "metadata": {},
   "source": [
    "### Critical Reading"
   ]
  },
  {
   "cell_type": "code",
   "execution_count": 16,
   "metadata": {},
   "outputs": [
    {
     "data": {
      "text/plain": [
       "0.6572182888520886"
      ]
     },
     "execution_count": 16,
     "metadata": {},
     "output_type": "execute_result"
    }
   ],
   "source": [
    "mu_cr = 502\n",
    "sigma = 100\n",
    "n_cr = 90\n",
    "stats.norm.cdf(mu_cr+10, loc = mu_cr, scale = sigma/sqrt(n_cr))- stats.norm.cdf(mu_cr-10, loc = mu_cr, scale = sigma/sqrt(n_cr))"
   ]
  },
  {
   "cell_type": "markdown",
   "metadata": {},
   "source": [
    "### Mathematics"
   ]
  },
  {
   "cell_type": "code",
   "execution_count": 11,
   "metadata": {},
   "outputs": [
    {
     "name": "stdout",
     "output_type": "stream",
     "text": [
      "0.6572182888520886\n"
     ]
    }
   ],
   "source": [
    "mu_ma = 515\n",
    "sigma = 100\n",
    "n_cr = 90\n",
    "print(stats.norm.cdf(mu_ma+10, loc = mu_ma, scale = sigma/sqrt(n_cr))  \n",
    "      - stats.norm.cdf(mu_ma-10, loc = mu_ma, scale = sigma/sqrt(n_cr)))"
   ]
  },
  {
   "cell_type": "markdown",
   "metadata": {},
   "source": [
    "### Writing"
   ]
  },
  {
   "cell_type": "code",
   "execution_count": 13,
   "metadata": {},
   "outputs": [
    {
     "name": "stdout",
     "output_type": "stream",
     "text": [
      "0.6572182888520886\n"
     ]
    }
   ],
   "source": [
    "mu_wr = 494\n",
    "sigma = 100\n",
    "n_cr = 90\n",
    "print(stats.norm.cdf(mu_wr+10, loc = mu_wr, scale = sigma/sqrt(n_cr))  \n",
    "      - stats.norm.cdf(mu_wr-10, loc = mu_wr, scale = sigma/sqrt(n_cr)))"
   ]
  },
  {
   "cell_type": "code",
   "execution_count": 14,
   "metadata": {},
   "outputs": [
    {
     "data": {
      "text/plain": [
       "10.540925533894598"
      ]
     },
     "execution_count": 14,
     "metadata": {},
     "output_type": "execute_result"
    }
   ],
   "source": [
    "sigma/sqrt(n_cr)"
   ]
  },
  {
   "cell_type": "code",
   "execution_count": 17,
   "metadata": {},
   "outputs": [],
   "source": [
    "import scipy.stats as stats\n",
    "from math import sqrt"
   ]
  },
  {
   "cell_type": "markdown",
   "metadata": {},
   "source": [
    "## Confidence Interval"
   ]
  },
  {
   "cell_type": "raw",
   "metadata": {},
   "source": [
    "A magazine reported that the mean annual household income of its readers is $119,155. Assume this estimate of the mean annual household income is based on a sample of 80 households, and based on past studies, the population standard deviation is known to be σ = $30,000.\n",
    "1. construct a 90% CI\n",
    "2. construct a 95% CI\n",
    "3. construct a 98% CI"
   ]
  },
  {
   "cell_type": "code",
   "execution_count": 28,
   "metadata": {},
   "outputs": [],
   "source": [
    "### Ans1"
   ]
  },
  {
   "cell_type": "code",
   "execution_count": 22,
   "metadata": {},
   "outputs": [],
   "source": [
    "xbar = 119155\n",
    "sigma = 30000\n",
    "n = 80"
   ]
  },
  {
   "cell_type": "code",
   "execution_count": 20,
   "metadata": {},
   "outputs": [
    {
     "data": {
      "text/plain": [
       "-1.6448536269514729"
      ]
     },
     "execution_count": 20,
     "metadata": {},
     "output_type": "execute_result"
    }
   ],
   "source": [
    "#Method 2\n",
    "#mu = xbar +/- z(alpha/2) (sigma/sqrt(n))\n",
    "#z = stats.norm.ppf(0.05, loc = 0, scale = 1) \n",
    "#or\n",
    "z = stats.norm.ppf(0.05) #normsinv\n",
    "#percent point fn - given the prob. gives x value; left side prob. value to be given\n",
    "#primarily used to calculate z value\n",
    "z"
   ]
  },
  {
   "cell_type": "code",
   "execution_count": 27,
   "metadata": {},
   "outputs": [
    {
     "name": "stdout",
     "output_type": "stream",
     "text": [
      "(113637.99, 124672.01)\n"
     ]
    }
   ],
   "source": [
    "mu1 = xbar - (z * sigma/sqrt(n))\n",
    "mu2 = xbar + (z * sigma/sqrt(n))\n",
    "\n",
    "print((round(mu2,2), round(mu1,2)))"
   ]
  },
  {
   "cell_type": "code",
   "execution_count": 27,
   "metadata": {},
   "outputs": [
    {
     "name": "stdout",
     "output_type": "stream",
     "text": [
      "(113637.99, 124672.01)\n"
     ]
    }
   ],
   "source": [
    "#Method 1\n",
    "#or 90% confidence interval can also be found directly:\n",
    "mu1 = stats.norm.ppf(.05, loc = xbar, scale = sigma/sqrt(n) ) #norminv\n",
    "mu2 = stats.norm.ppf(.95, loc = xbar, scale = sigma/sqrt(n) )\n",
    "print((round(mu1,2), round(mu2,2)))"
   ]
  },
  {
   "cell_type": "code",
   "execution_count": 26,
   "metadata": {},
   "outputs": [
    {
     "data": {
      "text/plain": [
       "(113637.99321564914, 124672.00678435086)"
      ]
     },
     "execution_count": 26,
     "metadata": {},
     "output_type": "execute_result"
    }
   ],
   "source": [
    "#Method 3\n",
    "stats.norm.interval(alpha = 0.90, loc = xbar, scale = sigma/sqrt(n))"
   ]
  },
  {
   "cell_type": "code",
   "execution_count": 29,
   "metadata": {},
   "outputs": [],
   "source": [
    "### Ans.2"
   ]
  },
  {
   "cell_type": "code",
   "execution_count": 25,
   "metadata": {},
   "outputs": [
    {
     "name": "stdout",
     "output_type": "stream",
     "text": [
      "(112581.08, 125728.92)\n"
     ]
    }
   ],
   "source": [
    "z = stats.norm.ppf(0.025)\n",
    "\n",
    "mu1 = xbar - (z * sigma/sqrt(n))\n",
    "mu2 = xbar + (z * sigma/sqrt(n))\n",
    "\n",
    "print((round(mu2,2), round(mu1,2)))"
   ]
  },
  {
   "cell_type": "code",
   "execution_count": 30,
   "metadata": {},
   "outputs": [
    {
     "name": "stdout",
     "output_type": "stream",
     "text": [
      "(111352.19, 126957.81)\n"
     ]
    }
   ],
   "source": [
    "#Ans3\n",
    "z = stats.norm.ppf(0.01)\n",
    "\n",
    "mu1 = xbar - (z * sigma/sqrt(n))\n",
    "mu2 = xbar + (z * sigma/sqrt(n))\n",
    "\n",
    "print((round(mu2,2), round(mu1,2)))"
   ]
  },
  {
   "cell_type": "code",
   "execution_count": null,
   "metadata": {},
   "outputs": [],
   "source": [
    "90%----> (113637.99, 124672.01)\n",
    "95%----> (112581.08, 125728.92)\n",
    "98%----> (111352.19, 126957.81)\n"
   ]
  },
  {
   "cell_type": "code",
   "execution_count": 28,
   "metadata": {},
   "outputs": [
    {
     "data": {
      "text/plain": [
       "-15605.619999999995"
      ]
     },
     "execution_count": 28,
     "metadata": {},
     "output_type": "execute_result"
    }
   ],
   "source": [
    "111352.19 - 126957.81"
   ]
  },
  {
   "cell_type": "raw",
   "metadata": {},
   "source": [
    "Question. \n",
    "In a study entitled How Undergraduate Students Use Credit Cards, it was reported that undergraduate students have a mean credit card balance of $3173 (Sallie Mae, April 2009).\n",
    "This figure was an all-time high and had increased 44% over the previous five years. Assume that a current study is being conducted to determine if it can be concluded that the mean credit card balance for undergraduate students has continued to increase compared to the April 2009 report. Based on previous studies, use a population standard deviation σ = $1000.\n",
    "a. State the null and alternative hypotheses.\n",
    "b. What is the p-value for a sample of 180 undergraduate students with a sample mean credit card balance of $3325?\n",
    "c. Using a .05 level of significance, what is your conclusion?"
   ]
  },
  {
   "cell_type": "raw",
   "metadata": {},
   "source": [
    "H0: new mean <=3173\n",
    "Ha: new mean > 3173"
   ]
  },
  {
   "cell_type": "code",
   "execution_count": 2,
   "metadata": {},
   "outputs": [],
   "source": [
    "xbar = 3325\n",
    "sigma = 1000\n",
    "n = 180\n",
    "mu0 = 3173\n",
    "z = (xbar - mu0) / ( sigma/sqrt(n))"
   ]
  },
  {
   "cell_type": "code",
   "execution_count": 6,
   "metadata": {},
   "outputs": [
    {
     "data": {
      "text/plain": [
       "0.9792896527187236"
      ]
     },
     "execution_count": 6,
     "metadata": {},
     "output_type": "execute_result"
    }
   ],
   "source": [
    "stats.norm.cdf(z) # area on the left always"
   ]
  },
  {
   "cell_type": "code",
   "execution_count": 7,
   "metadata": {},
   "outputs": [
    {
     "data": {
      "text/plain": [
       "0.02071034728127641"
      ]
     },
     "execution_count": 7,
     "metadata": {},
     "output_type": "execute_result"
    }
   ],
   "source": [
    "#for right tail test area on the right ---> 1-stats.norm.cdf(z)\n",
    "1-stats.norm.cdf(z)"
   ]
  },
  {
   "cell_type": "raw",
   "metadata": {},
   "source": [
    "Q. An automatic bottling machine fills cola into 2 lt (2000 cm3) bottles. A consumer advocate wants to test the null hypothesis that the average amount filed by the machine into the bottle is at least 2,000 cm3. A random sample of 40 bottles coming out of the machine was selected and the exact content of the selected bottles are recorded. The sample mean was 1,999.6 cm3. The population standard deviation is known from the past experience to be 1.30 cm3.\n",
    "1. Test the null hypothesis at an alpha of 5%\n",
    "2. Assume that the population is normally distributed with the same sd of 1.30 cm3. Assume that the sample size is only 20 but the sample mean is the same 1,999.6 cm3. Conduct the test once again at an alpha of 5%.\n",
    "3. If there is a difference in the two test results, explain the reason for the difference."
   ]
  },
  {
   "cell_type": "raw",
   "metadata": {},
   "source": [
    "Hypothesis\n",
    "H0 : mu >= 2000\n",
    "Ha : mu < 2000"
   ]
  },
  {
   "cell_type": "raw",
   "metadata": {},
   "source": [
    "Lower tail test"
   ]
  },
  {
   "cell_type": "code",
   "execution_count": 1,
   "metadata": {},
   "outputs": [],
   "source": [
    "### Ans1."
   ]
  },
  {
   "cell_type": "code",
   "execution_count": 2,
   "metadata": {},
   "outputs": [],
   "source": [
    "#Given Data\n",
    "\n",
    "#sample_mean\n",
    "xbar = 1999.6\n",
    "\n",
    "#pop_std\n",
    "sigma  = 1.30 \n",
    "\n",
    "#sample_size\n",
    "n = 40 \n"
   ]
  },
  {
   "cell_type": "code",
   "execution_count": 3,
   "metadata": {},
   "outputs": [],
   "source": [
    "## Assuming Null hypothesis is True, pop_mean >= 2000.\n",
    "## Hence lets check for pop_mean = 2000\n",
    "\n",
    "#Assumed pop_mean\n",
    "mu0 = 2000 "
   ]
  },
  {
   "cell_type": "code",
   "execution_count": 4,
   "metadata": {},
   "outputs": [],
   "source": [
    "from math import sqrt\n",
    "import scipy.stats as st"
   ]
  },
  {
   "cell_type": "code",
   "execution_count": 5,
   "metadata": {},
   "outputs": [
    {
     "data": {
      "text/plain": [
       "-1.9460170216425219"
      ]
     },
     "execution_count": 5,
     "metadata": {},
     "output_type": "execute_result"
    }
   ],
   "source": [
    "## Calculate z stats for mu = 2000 --- \n",
    "# z corresponding to pvalue\n",
    "z = (xbar - mu0)/(sigma/sqrt(n))\n",
    "z"
   ]
  },
  {
   "cell_type": "code",
   "execution_count": 6,
   "metadata": {},
   "outputs": [
    {
     "data": {
      "text/plain": [
       "-1.6448536269514729"
      ]
     },
     "execution_count": 6,
     "metadata": {},
     "output_type": "execute_result"
    }
   ],
   "source": [
    "#z at alpha =0.05\n",
    "z_critical = st.norm.ppf(0.05)\n",
    "z_critical"
   ]
  },
  {
   "cell_type": "code",
   "execution_count": 7,
   "metadata": {},
   "outputs": [],
   "source": [
    "#Hence we reject the null"
   ]
  },
  {
   "cell_type": "code",
   "execution_count": 8,
   "metadata": {},
   "outputs": [
    {
     "data": {
      "text/plain": [
       "0.025826347487875892"
      ]
     },
     "execution_count": 8,
     "metadata": {},
     "output_type": "execute_result"
    }
   ],
   "source": [
    "# Method 2: Calculate p_value\n",
    "p_value = st.norm.cdf(z)\n",
    "p_value"
   ]
  }
 ],
 "metadata": {
  "kernelspec": {
   "display_name": "Python 3",
   "language": "python",
   "name": "python3"
  },
  "language_info": {
   "codemirror_mode": {
    "name": "ipython",
    "version": 3
   },
   "file_extension": ".py",
   "mimetype": "text/x-python",
   "name": "python",
   "nbconvert_exporter": "python",
   "pygments_lexer": "ipython3",
   "version": "3.6.8"
  }
 },
 "nbformat": 4,
 "nbformat_minor": 2
}
