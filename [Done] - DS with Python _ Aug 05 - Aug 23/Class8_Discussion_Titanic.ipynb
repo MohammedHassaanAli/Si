{
 "cells": [
  {
   "cell_type": "code",
   "execution_count": null,
   "metadata": {},
   "outputs": [],
   "source": []
  },
  {
   "cell_type": "code",
   "execution_count": 126,
   "metadata": {},
   "outputs": [],
   "source": [
    "import pandas as pd\n",
    "train_df = pd.read_csv(r'C:\\Users\\Vaibhav\\Desktop\\BA\\Datasets\\titanic_train.csv')\n",
    "unknown_df = pd.read_csv('C:/Users/Vaibhav/Desktop/BA/Datasets/titanic_test.csv')"
   ]
  },
  {
   "cell_type": "code",
   "execution_count": 127,
   "metadata": {},
   "outputs": [],
   "source": [
    "unknown_df['Survived'] = -888"
   ]
  },
  {
   "cell_type": "code",
   "execution_count": 128,
   "metadata": {},
   "outputs": [
    {
     "data": {
      "text/html": [
       "<div>\n",
       "<style scoped>\n",
       "    .dataframe tbody tr th:only-of-type {\n",
       "        vertical-align: middle;\n",
       "    }\n",
       "\n",
       "    .dataframe tbody tr th {\n",
       "        vertical-align: top;\n",
       "    }\n",
       "\n",
       "    .dataframe thead th {\n",
       "        text-align: right;\n",
       "    }\n",
       "</style>\n",
       "<table border=\"1\" class=\"dataframe\">\n",
       "  <thead>\n",
       "    <tr style=\"text-align: right;\">\n",
       "      <th></th>\n",
       "      <th>PassengerId</th>\n",
       "      <th>Survived</th>\n",
       "      <th>Pclass</th>\n",
       "      <th>Name</th>\n",
       "      <th>Sex</th>\n",
       "      <th>Age</th>\n",
       "      <th>SibSp</th>\n",
       "      <th>Parch</th>\n",
       "      <th>Ticket</th>\n",
       "      <th>Fare</th>\n",
       "      <th>Cabin</th>\n",
       "      <th>Embarked</th>\n",
       "    </tr>\n",
       "  </thead>\n",
       "  <tbody>\n",
       "    <tr>\n",
       "      <th>0</th>\n",
       "      <td>1</td>\n",
       "      <td>0</td>\n",
       "      <td>3</td>\n",
       "      <td>Braund, Mr. Owen Harris</td>\n",
       "      <td>male</td>\n",
       "      <td>22.0</td>\n",
       "      <td>1</td>\n",
       "      <td>0</td>\n",
       "      <td>A/5 21171</td>\n",
       "      <td>7.2500</td>\n",
       "      <td>NaN</td>\n",
       "      <td>S</td>\n",
       "    </tr>\n",
       "    <tr>\n",
       "      <th>1</th>\n",
       "      <td>2</td>\n",
       "      <td>1</td>\n",
       "      <td>1</td>\n",
       "      <td>Cumings, Mrs. John Bradley (Florence Briggs Th...</td>\n",
       "      <td>female</td>\n",
       "      <td>38.0</td>\n",
       "      <td>1</td>\n",
       "      <td>0</td>\n",
       "      <td>PC 17599</td>\n",
       "      <td>71.2833</td>\n",
       "      <td>C85</td>\n",
       "      <td>C</td>\n",
       "    </tr>\n",
       "  </tbody>\n",
       "</table>\n",
       "</div>"
      ],
      "text/plain": [
       "   PassengerId  Survived  Pclass  \\\n",
       "0            1         0       3   \n",
       "1            2         1       1   \n",
       "\n",
       "                                                Name     Sex   Age  SibSp  \\\n",
       "0                            Braund, Mr. Owen Harris    male  22.0      1   \n",
       "1  Cumings, Mrs. John Bradley (Florence Briggs Th...  female  38.0      1   \n",
       "\n",
       "   Parch     Ticket     Fare Cabin Embarked  \n",
       "0      0  A/5 21171   7.2500   NaN        S  \n",
       "1      0   PC 17599  71.2833   C85        C  "
      ]
     },
     "execution_count": 128,
     "metadata": {},
     "output_type": "execute_result"
    }
   ],
   "source": [
    "train_df.head(2)"
   ]
  },
  {
   "cell_type": "code",
   "execution_count": 129,
   "metadata": {
    "scrolled": true
   },
   "outputs": [
    {
     "name": "stderr",
     "output_type": "stream",
     "text": [
      "C:\\Users\\Vaibhav\\Anaconda3\\lib\\site-packages\\ipykernel_launcher.py:1: FutureWarning: Sorting because non-concatenation axis is not aligned. A future version\n",
      "of pandas will change to not sort by default.\n",
      "\n",
      "To accept the future behavior, pass 'sort=False'.\n",
      "\n",
      "To retain the current behavior and silence the warning, pass 'sort=True'.\n",
      "\n",
      "  \"\"\"Entry point for launching an IPython kernel.\n"
     ]
    }
   ],
   "source": [
    "df = pd.concat((train_df, unknown_df), axis = 0)"
   ]
  },
  {
   "cell_type": "code",
   "execution_count": 130,
   "metadata": {},
   "outputs": [],
   "source": [
    "from sklearn.preprocessing import Imputer"
   ]
  },
  {
   "cell_type": "code",
   "execution_count": 131,
   "metadata": {},
   "outputs": [],
   "source": [
    "imp = Imputer(strategy = \"median\")"
   ]
  },
  {
   "cell_type": "code",
   "execution_count": 132,
   "metadata": {},
   "outputs": [
    {
     "data": {
      "text/plain": [
       "Imputer(axis=0, copy=True, missing_values='NaN', strategy='median', verbose=0)"
      ]
     },
     "execution_count": 132,
     "metadata": {},
     "output_type": "execute_result"
    }
   ],
   "source": [
    "imp.fit(df[[\"Fare\", \"Age\"]])"
   ]
  },
  {
   "cell_type": "code",
   "execution_count": 133,
   "metadata": {},
   "outputs": [],
   "source": [
    "df[[\"Fare\", \"Age\"]]=imp.transform(df[[\"Fare\", \"Age\"]])"
   ]
  },
  {
   "cell_type": "code",
   "execution_count": 134,
   "metadata": {},
   "outputs": [
    {
     "name": "stdout",
     "output_type": "stream",
     "text": [
      "<class 'pandas.core.frame.DataFrame'>\n",
      "Int64Index: 1311 entries, 0 to 419\n",
      "Data columns (total 12 columns):\n",
      "Age            1311 non-null float64\n",
      "Cabin          295 non-null object\n",
      "Embarked       1309 non-null object\n",
      "Fare           1311 non-null float64\n",
      "Name           1311 non-null object\n",
      "Parch          1311 non-null int64\n",
      "PassengerId    1311 non-null int64\n",
      "Pclass         1311 non-null int64\n",
      "Sex            1311 non-null object\n",
      "SibSp          1311 non-null int64\n",
      "Survived       1311 non-null int64\n",
      "Ticket         1311 non-null object\n",
      "dtypes: float64(2), int64(5), object(5)\n",
      "memory usage: 133.1+ KB\n"
     ]
    }
   ],
   "source": [
    "df.info()"
   ]
  },
  {
   "cell_type": "code",
   "execution_count": 135,
   "metadata": {},
   "outputs": [
    {
     "data": {
      "text/plain": [
       "(array([ 61, 829], dtype=int64),)"
      ]
     },
     "execution_count": 135,
     "metadata": {},
     "output_type": "execute_result"
    }
   ],
   "source": [
    "import numpy as np\n",
    "np.where(df.Embarked.isnull())"
   ]
  },
  {
   "cell_type": "code",
   "execution_count": 136,
   "metadata": {},
   "outputs": [
    {
     "data": {
      "text/html": [
       "<div>\n",
       "<style scoped>\n",
       "    .dataframe tbody tr th:only-of-type {\n",
       "        vertical-align: middle;\n",
       "    }\n",
       "\n",
       "    .dataframe tbody tr th {\n",
       "        vertical-align: top;\n",
       "    }\n",
       "\n",
       "    .dataframe thead th {\n",
       "        text-align: right;\n",
       "    }\n",
       "</style>\n",
       "<table border=\"1\" class=\"dataframe\">\n",
       "  <thead>\n",
       "    <tr style=\"text-align: right;\">\n",
       "      <th></th>\n",
       "      <th>Age</th>\n",
       "      <th>Cabin</th>\n",
       "      <th>Embarked</th>\n",
       "      <th>Fare</th>\n",
       "      <th>Name</th>\n",
       "      <th>Parch</th>\n",
       "      <th>PassengerId</th>\n",
       "      <th>Pclass</th>\n",
       "      <th>Sex</th>\n",
       "      <th>SibSp</th>\n",
       "      <th>Survived</th>\n",
       "      <th>Ticket</th>\n",
       "    </tr>\n",
       "  </thead>\n",
       "  <tbody>\n",
       "    <tr>\n",
       "      <th>61</th>\n",
       "      <td>38.0</td>\n",
       "      <td>B28</td>\n",
       "      <td>NaN</td>\n",
       "      <td>80.0</td>\n",
       "      <td>Icard, Miss. Amelie</td>\n",
       "      <td>0</td>\n",
       "      <td>62</td>\n",
       "      <td>1</td>\n",
       "      <td>female</td>\n",
       "      <td>0</td>\n",
       "      <td>1</td>\n",
       "      <td>113572</td>\n",
       "    </tr>\n",
       "    <tr>\n",
       "      <th>829</th>\n",
       "      <td>62.0</td>\n",
       "      <td>B28</td>\n",
       "      <td>NaN</td>\n",
       "      <td>80.0</td>\n",
       "      <td>Stone, Mrs. George Nelson (Martha Evelyn)</td>\n",
       "      <td>0</td>\n",
       "      <td>830</td>\n",
       "      <td>1</td>\n",
       "      <td>female</td>\n",
       "      <td>0</td>\n",
       "      <td>1</td>\n",
       "      <td>113572</td>\n",
       "    </tr>\n",
       "  </tbody>\n",
       "</table>\n",
       "</div>"
      ],
      "text/plain": [
       "      Age Cabin Embarked  Fare                                       Name  \\\n",
       "61   38.0   B28      NaN  80.0                        Icard, Miss. Amelie   \n",
       "829  62.0   B28      NaN  80.0  Stone, Mrs. George Nelson (Martha Evelyn)   \n",
       "\n",
       "     Parch  PassengerId  Pclass     Sex  SibSp  Survived  Ticket  \n",
       "61       0           62       1  female      0         1  113572  \n",
       "829      0          830       1  female      0         1  113572  "
      ]
     },
     "execution_count": 136,
     "metadata": {},
     "output_type": "execute_result"
    }
   ],
   "source": [
    "df.iloc[[61,829]]"
   ]
  },
  {
   "cell_type": "code",
   "execution_count": 137,
   "metadata": {},
   "outputs": [
    {
     "data": {
      "text/plain": [
       "S      915\n",
       "C      270\n",
       "Q      124\n",
       "NaN      2\n",
       "Name: Embarked, dtype: int64"
      ]
     },
     "execution_count": 137,
     "metadata": {},
     "output_type": "execute_result"
    }
   ],
   "source": [
    "df.Embarked.value_counts(dropna = False)"
   ]
  },
  {
   "cell_type": "code",
   "execution_count": 138,
   "metadata": {},
   "outputs": [],
   "source": [
    "df.Embarked = df.Embarked.astype(\"category\")"
   ]
  },
  {
   "cell_type": "code",
   "execution_count": 139,
   "metadata": {},
   "outputs": [],
   "source": [
    "df.Embarked = df.Embarked.cat.codes"
   ]
  },
  {
   "cell_type": "code",
   "execution_count": 140,
   "metadata": {},
   "outputs": [
    {
     "data": {
      "text/plain": [
       " 2    915\n",
       " 0    270\n",
       " 1    124\n",
       "-1      2\n",
       "Name: Embarked, dtype: int64"
      ]
     },
     "execution_count": 140,
     "metadata": {},
     "output_type": "execute_result"
    }
   ],
   "source": [
    "df.Embarked.value_counts(dropna = False)"
   ]
  },
  {
   "cell_type": "code",
   "execution_count": 142,
   "metadata": {},
   "outputs": [],
   "source": [
    "df.loc[df.Embarked == -1, \"Embarked\"] = np.NaN"
   ]
  },
  {
   "cell_type": "code",
   "execution_count": 143,
   "metadata": {},
   "outputs": [],
   "source": [
    "df.Embarked = df.Embarked.astype(np.float64)"
   ]
  },
  {
   "cell_type": "code",
   "execution_count": 120,
   "metadata": {},
   "outputs": [
    {
     "data": {
      "text/plain": [
       "dtype('float64')"
      ]
     },
     "execution_count": 120,
     "metadata": {},
     "output_type": "execute_result"
    }
   ],
   "source": [
    "df.Embarked.dtype"
   ]
  },
  {
   "cell_type": "code",
   "execution_count": 144,
   "metadata": {},
   "outputs": [],
   "source": [
    "impute = Imputer(strategy=\"most_frequent\")"
   ]
  },
  {
   "cell_type": "code",
   "execution_count": 145,
   "metadata": {},
   "outputs": [],
   "source": [
    "df[[\"Embarked\"]]=impute.fit_transform(df[[\"Embarked\"]])"
   ]
  },
  {
   "cell_type": "code",
   "execution_count": 146,
   "metadata": {},
   "outputs": [
    {
     "name": "stdout",
     "output_type": "stream",
     "text": [
      "<class 'pandas.core.frame.DataFrame'>\n",
      "Int64Index: 1311 entries, 0 to 419\n",
      "Data columns (total 1 columns):\n",
      "Embarked    1311 non-null float64\n",
      "dtypes: float64(1)\n",
      "memory usage: 20.5 KB\n"
     ]
    }
   ],
   "source": [
    "df[[\"Embarked\"]].info()"
   ]
  },
  {
   "cell_type": "code",
   "execution_count": 147,
   "metadata": {},
   "outputs": [
    {
     "data": {
      "text/plain": [
       "2.0    917\n",
       "0.0    270\n",
       "1.0    124\n",
       "Name: Embarked, dtype: int64"
      ]
     },
     "execution_count": 147,
     "metadata": {},
     "output_type": "execute_result"
    }
   ],
   "source": [
    "df.Embarked.value_counts()"
   ]
  },
  {
   "cell_type": "code",
   "execution_count": 148,
   "metadata": {},
   "outputs": [
    {
     "data": {
      "text/html": [
       "<div>\n",
       "<style scoped>\n",
       "    .dataframe tbody tr th:only-of-type {\n",
       "        vertical-align: middle;\n",
       "    }\n",
       "\n",
       "    .dataframe tbody tr th {\n",
       "        vertical-align: top;\n",
       "    }\n",
       "\n",
       "    .dataframe thead th {\n",
       "        text-align: right;\n",
       "    }\n",
       "</style>\n",
       "<table border=\"1\" class=\"dataframe\">\n",
       "  <thead>\n",
       "    <tr style=\"text-align: right;\">\n",
       "      <th></th>\n",
       "      <th>Age</th>\n",
       "      <th>Cabin</th>\n",
       "      <th>Embarked</th>\n",
       "      <th>Fare</th>\n",
       "      <th>Name</th>\n",
       "      <th>Parch</th>\n",
       "      <th>PassengerId</th>\n",
       "      <th>Pclass</th>\n",
       "      <th>Sex</th>\n",
       "      <th>SibSp</th>\n",
       "      <th>Survived</th>\n",
       "      <th>Ticket</th>\n",
       "    </tr>\n",
       "  </thead>\n",
       "  <tbody>\n",
       "    <tr>\n",
       "      <th>61</th>\n",
       "      <td>38.0</td>\n",
       "      <td>B28</td>\n",
       "      <td>2.0</td>\n",
       "      <td>80.0</td>\n",
       "      <td>Icard, Miss. Amelie</td>\n",
       "      <td>0</td>\n",
       "      <td>62</td>\n",
       "      <td>1</td>\n",
       "      <td>female</td>\n",
       "      <td>0</td>\n",
       "      <td>1</td>\n",
       "      <td>113572</td>\n",
       "    </tr>\n",
       "    <tr>\n",
       "      <th>829</th>\n",
       "      <td>62.0</td>\n",
       "      <td>B28</td>\n",
       "      <td>2.0</td>\n",
       "      <td>80.0</td>\n",
       "      <td>Stone, Mrs. George Nelson (Martha Evelyn)</td>\n",
       "      <td>0</td>\n",
       "      <td>830</td>\n",
       "      <td>1</td>\n",
       "      <td>female</td>\n",
       "      <td>0</td>\n",
       "      <td>1</td>\n",
       "      <td>113572</td>\n",
       "    </tr>\n",
       "  </tbody>\n",
       "</table>\n",
       "</div>"
      ],
      "text/plain": [
       "      Age Cabin  Embarked  Fare                                       Name  \\\n",
       "61   38.0   B28       2.0  80.0                        Icard, Miss. Amelie   \n",
       "829  62.0   B28       2.0  80.0  Stone, Mrs. George Nelson (Martha Evelyn)   \n",
       "\n",
       "     Parch  PassengerId  Pclass     Sex  SibSp  Survived  Ticket  \n",
       "61       0           62       1  female      0         1  113572  \n",
       "829      0          830       1  female      0         1  113572  "
      ]
     },
     "execution_count": 148,
     "metadata": {},
     "output_type": "execute_result"
    }
   ],
   "source": [
    "df.iloc[[61,829],:]"
   ]
  },
  {
   "cell_type": "code",
   "execution_count": 152,
   "metadata": {},
   "outputs": [],
   "source": [
    "df.Embarked = df.Embarked.replace({0:\"C\", 1:\"Q\", 2: \"S\"} )"
   ]
  },
  {
   "cell_type": "markdown",
   "metadata": {},
   "source": [
    "---"
   ]
  },
  {
   "cell_type": "code",
   "execution_count": 149,
   "metadata": {
    "scrolled": true
   },
   "outputs": [
    {
     "name": "stderr",
     "output_type": "stream",
     "text": [
      "C:\\Users\\Vaibhav\\Anaconda3\\lib\\site-packages\\ipykernel_launcher.py:1: FutureWarning: Sorting because non-concatenation axis is not aligned. A future version\n",
      "of pandas will change to not sort by default.\n",
      "\n",
      "To accept the future behavior, pass 'sort=False'.\n",
      "\n",
      "To retain the current behavior and silence the warning, pass 'sort=True'.\n",
      "\n",
      "  \"\"\"Entry point for launching an IPython kernel.\n"
     ]
    }
   ],
   "source": [
    "df = pd.concat((train_df, unknown_df), axis = 0)"
   ]
  },
  {
   "cell_type": "code",
   "execution_count": 156,
   "metadata": {},
   "outputs": [
    {
     "data": {
      "text/plain": [
       "<matplotlib.axes._subplots.AxesSubplot at 0x18521b69b00>"
      ]
     },
     "execution_count": 156,
     "metadata": {},
     "output_type": "execute_result"
    },
    {
     "data": {
      "image/png": "[encoded data removed]",
      "text/plain": [
       "<Figure size 432x288 with 1 Axes>"
      ]
     },
     "metadata": {
      "needs_background": "light"
     },
     "output_type": "display_data"
    }
   ],
   "source": [
    "import matplotlib.pyplot as plt\n",
    "%matplotlib inline\n",
    "df.groupby(\"Sex\").Age.mean().plot.bar()"
   ]
  },
  {
   "cell_type": "code",
   "execution_count": 161,
   "metadata": {},
   "outputs": [
    {
     "data": {
      "text/plain": [
       "0      24.0\n",
       "1      39.0\n",
       "2      24.0\n",
       "3      39.0\n",
       "4      24.0\n",
       "5      24.0\n",
       "6      39.0\n",
       "7      24.0\n",
       "8      24.0\n",
       "9      29.0\n",
       "10     24.0\n",
       "11     39.0\n",
       "12     24.0\n",
       "13     24.0\n",
       "14     24.0\n",
       "15     29.0\n",
       "16     24.0\n",
       "17     29.0\n",
       "18     24.0\n",
       "19     24.0\n",
       "20     29.0\n",
       "21     29.0\n",
       "22     24.0\n",
       "23     39.0\n",
       "24     24.0\n",
       "25     24.0\n",
       "26     24.0\n",
       "27     39.0\n",
       "28     24.0\n",
       "29     24.0\n",
       "       ... \n",
       "390    39.0\n",
       "391    39.0\n",
       "392    24.0\n",
       "393    29.0\n",
       "394    24.0\n",
       "395    39.0\n",
       "396    24.0\n",
       "397    39.0\n",
       "398    24.0\n",
       "399    24.0\n",
       "400    39.0\n",
       "401    29.0\n",
       "402    39.0\n",
       "403    39.0\n",
       "404    39.0\n",
       "405    29.0\n",
       "406    29.0\n",
       "407    39.0\n",
       "408    24.0\n",
       "409    24.0\n",
       "410    24.0\n",
       "411    39.0\n",
       "412    24.0\n",
       "413    24.0\n",
       "414    39.0\n",
       "415    24.0\n",
       "416    24.0\n",
       "417    24.0\n",
       "418    24.0\n",
       "419    24.0\n",
       "Name: Age, Length: 1311, dtype: float64"
      ]
     },
     "execution_count": 161,
     "metadata": {},
     "output_type": "execute_result"
    }
   ],
   "source": [
    "df.groupby(\"Pclass\", \"Sex\").Age.transform(\"median\")\n",
    "#will impute the missing values with the mean /median age of each passenger class. \n",
    "#to be used when we feel if the categorical variable is responsible for high variance in the continuous variable"
   ]
  },
  {
   "cell_type": "code",
   "execution_count": 162,
   "metadata": {},
   "outputs": [
    {
     "data": {
      "text/html": [
       "<div>\n",
       "<style scoped>\n",
       "    .dataframe tbody tr th:only-of-type {\n",
       "        vertical-align: middle;\n",
       "    }\n",
       "\n",
       "    .dataframe tbody tr th {\n",
       "        vertical-align: top;\n",
       "    }\n",
       "\n",
       "    .dataframe thead th {\n",
       "        text-align: right;\n",
       "    }\n",
       "</style>\n",
       "<table border=\"1\" class=\"dataframe\">\n",
       "  <thead>\n",
       "    <tr style=\"text-align: right;\">\n",
       "      <th></th>\n",
       "      <th>Age</th>\n",
       "      <th>Cabin</th>\n",
       "      <th>Embarked</th>\n",
       "      <th>Fare</th>\n",
       "      <th>Name</th>\n",
       "      <th>Parch</th>\n",
       "      <th>PassengerId</th>\n",
       "      <th>Pclass</th>\n",
       "      <th>Sex</th>\n",
       "      <th>SibSp</th>\n",
       "      <th>Survived</th>\n",
       "      <th>Ticket</th>\n",
       "    </tr>\n",
       "  </thead>\n",
       "  <tbody>\n",
       "    <tr>\n",
       "      <th>0</th>\n",
       "      <td>22.0</td>\n",
       "      <td>NaN</td>\n",
       "      <td>S</td>\n",
       "      <td>7.2500</td>\n",
       "      <td>Braund, Mr. Owen Harris</td>\n",
       "      <td>0</td>\n",
       "      <td>1</td>\n",
       "      <td>3</td>\n",
       "      <td>male</td>\n",
       "      <td>1</td>\n",
       "      <td>0</td>\n",
       "      <td>A/5 21171</td>\n",
       "    </tr>\n",
       "    <tr>\n",
       "      <th>1</th>\n",
       "      <td>38.0</td>\n",
       "      <td>C85</td>\n",
       "      <td>C</td>\n",
       "      <td>71.2833</td>\n",
       "      <td>Cumings, Mrs. John Bradley (Florence Briggs Th...</td>\n",
       "      <td>0</td>\n",
       "      <td>2</td>\n",
       "      <td>1</td>\n",
       "      <td>female</td>\n",
       "      <td>1</td>\n",
       "      <td>1</td>\n",
       "      <td>PC 17599</td>\n",
       "    </tr>\n",
       "    <tr>\n",
       "      <th>2</th>\n",
       "      <td>26.0</td>\n",
       "      <td>NaN</td>\n",
       "      <td>S</td>\n",
       "      <td>7.9250</td>\n",
       "      <td>Heikkinen, Miss. Laina</td>\n",
       "      <td>0</td>\n",
       "      <td>3</td>\n",
       "      <td>3</td>\n",
       "      <td>female</td>\n",
       "      <td>0</td>\n",
       "      <td>1</td>\n",
       "      <td>STON/O2. 3101282</td>\n",
       "    </tr>\n",
       "  </tbody>\n",
       "</table>\n",
       "</div>"
      ],
      "text/plain": [
       "    Age Cabin Embarked     Fare  \\\n",
       "0  22.0   NaN        S   7.2500   \n",
       "1  38.0   C85        C  71.2833   \n",
       "2  26.0   NaN        S   7.9250   \n",
       "\n",
       "                                                Name  Parch  PassengerId  \\\n",
       "0                            Braund, Mr. Owen Harris      0            1   \n",
       "1  Cumings, Mrs. John Bradley (Florence Briggs Th...      0            2   \n",
       "2                             Heikkinen, Miss. Laina      0            3   \n",
       "\n",
       "   Pclass     Sex  SibSp  Survived            Ticket  \n",
       "0       3    male      1         0         A/5 21171  \n",
       "1       1  female      1         1          PC 17599  \n",
       "2       3  female      0         1  STON/O2. 3101282  "
      ]
     },
     "execution_count": 162,
     "metadata": {},
     "output_type": "execute_result"
    }
   ],
   "source": [
    "df.head(3)"
   ]
  },
  {
   "cell_type": "code",
   "execution_count": 166,
   "metadata": {},
   "outputs": [
    {
     "data": {
      "text/plain": [
       "'Braund, Mr. Owen Harris'"
      ]
     },
     "execution_count": 166,
     "metadata": {},
     "output_type": "execute_result"
    }
   ],
   "source": [
    "name = df.iloc[0, 4]\n",
    "name"
   ]
  },
  {
   "cell_type": "code",
   "execution_count": 186,
   "metadata": {},
   "outputs": [
    {
     "data": {
      "text/plain": [
       "'mr'"
      ]
     },
     "execution_count": 186,
     "metadata": {},
     "output_type": "execute_result"
    }
   ],
   "source": [
    "name.split(\",\")[1].split(\" \")[1].split(\".\")[0].lower()"
   ]
  },
  {
   "cell_type": "code",
   "execution_count": 174,
   "metadata": {},
   "outputs": [],
   "source": [
    "def GetTitle(name):\n",
    "    t = name.split(\",\")[1].split(\" \")[1].split(\".\")[0].lower()\n",
    "    return t"
   ]
  },
  {
   "cell_type": "code",
   "execution_count": 175,
   "metadata": {},
   "outputs": [],
   "source": [
    "df[\"Title\"] = df.Name.apply(GetTitle)"
   ]
  },
  {
   "cell_type": "code",
   "execution_count": 177,
   "metadata": {},
   "outputs": [],
   "source": [
    "df[\"Title_map\"] = df.Name.map(GetTitle)"
   ]
  },
  {
   "cell_type": "code",
   "execution_count": 199,
   "metadata": {},
   "outputs": [],
   "source": [
    "#Mr, Mrs, Miss, Master, Sir, Officer, Lady \n",
    "title_group = { 'mr' : 'Mr',\n",
    "               'mrs' : 'Mrs',\n",
    "               'miss':'Miss',\n",
    "               'master': 'Master',\n",
    "               'don': 'Sir',\n",
    "               'rev': 'Sir',\n",
    "               'dr': 'Officer',\n",
    "               'mme': 'Mrs',\n",
    "               'ms': 'Mrs',\n",
    "               'major': 'Officer',\n",
    "               'lady': 'Mrs',\n",
    "               'sir': 'Sir',\n",
    "               'mlle': 'Miss',\n",
    "               'col': 'Officer',\n",
    "               'capt': 'Officer',\n",
    "               'the countess': 'Mrs',\n",
    "               'jonkheer': 'Sir',\n",
    "               'dona': \"Mrs\"}\n"
   ]
  },
  {
   "cell_type": "code",
   "execution_count": 200,
   "metadata": {},
   "outputs": [],
   "source": [
    "df.Title = df.Title_map.map(title_group)"
   ]
  },
  {
   "cell_type": "code",
   "execution_count": 201,
   "metadata": {},
   "outputs": [
    {
     "data": {
      "text/plain": [
       "Mr         758\n",
       "Miss       262\n",
       "Mrs        203\n",
       "Master      61\n",
       "Officer     15\n",
       "Sir         11\n",
       "Name: Title, dtype: int64"
      ]
     },
     "execution_count": 201,
     "metadata": {},
     "output_type": "execute_result"
    }
   ],
   "source": [
    "df.Title.value_counts()"
   ]
  },
  {
   "cell_type": "code",
   "execution_count": 209,
   "metadata": {},
   "outputs": [
    {
     "data": {
      "text/plain": [
       "<matplotlib.axes._subplots.AxesSubplot at 0x18522ba7e10>"
      ]
     },
     "execution_count": 209,
     "metadata": {},
     "output_type": "execute_result"
    },
    {
     "data": {
      "image/png": "[encoded data removed]",
      "text/plain": [
       "<Figure size 432x288 with 1 Axes>"
      ]
     },
     "metadata": {
      "needs_background": "light"
     },
     "output_type": "display_data"
    }
   ],
   "source": [
    "df[df.Survived !=-888].groupby(\"Title\").Survived.mean().plot.bar()"
   ]
  },
  {
   "cell_type": "code",
   "execution_count": 215,
   "metadata": {},
   "outputs": [
    {
     "data": {
      "text/plain": [
       "0      31.622560\n",
       "1      37.660000\n",
       "2      20.440775\n",
       "3      36.545455\n",
       "4      31.622560\n",
       "5      36.150000\n",
       "6      31.622560\n",
       "7       5.223415\n",
       "8      36.545455\n",
       "9      37.660000\n",
       "10     20.440775\n",
       "11     20.440775\n",
       "12     31.622560\n",
       "13     31.622560\n",
       "14     20.440775\n",
       "15     36.545455\n",
       "16      6.200000\n",
       "17     31.622560\n",
       "18     36.545455\n",
       "19     37.660000\n",
       "20     31.622560\n",
       "21     31.622560\n",
       "22     23.952381\n",
       "23     31.622560\n",
       "24     20.440775\n",
       "25     36.545455\n",
       "26     34.376238\n",
       "27     31.622560\n",
       "28     23.952381\n",
       "29     31.622560\n",
       "         ...    \n",
       "390    31.622560\n",
       "391    36.545455\n",
       "392     5.223415\n",
       "393    31.622560\n",
       "394    31.622560\n",
       "395    36.545455\n",
       "396    36.150000\n",
       "397    37.660000\n",
       "398    31.622560\n",
       "399    36.150000\n",
       "400    20.440775\n",
       "401    31.622560\n",
       "402    24.520833\n",
       "403    31.622560\n",
       "404    34.376238\n",
       "405    34.376238\n",
       "406    31.622560\n",
       "407    34.376238\n",
       "408    23.952381\n",
       "409    20.440775\n",
       "410    23.952381\n",
       "411    36.000000\n",
       "412    20.440775\n",
       "413    31.622560\n",
       "414    37.660000\n",
       "415    31.622560\n",
       "416    31.622560\n",
       "417     6.488571\n",
       "418    36.150000\n",
       "419    36.545455\n",
       "Name: Age, Length: 1311, dtype: float64"
      ]
     },
     "execution_count": 215,
     "metadata": {},
     "output_type": "execute_result"
    }
   ],
   "source": [
    "df.groupby([\"Title\", \"Embarked\"]).Age.transform(\"mean\")"
   ]
  },
  {
   "cell_type": "code",
   "execution_count": 217,
   "metadata": {},
   "outputs": [
    {
     "name": "stdout",
     "output_type": "stream",
     "text": [
      "[nan, 'C85', nan, 'C123', nan, nan, 'E46', nan, nan, nan, 'G6', 'C103', nan, nan, nan, nan, nan, nan, nan, nan, nan, 'D56', nan, 'A6', nan, nan, nan, 'C23 C25 C27', nan, nan, nan, 'B78', nan, nan, nan, nan, nan, nan, nan, nan, nan, nan, nan, nan, nan, nan, nan, nan, nan, nan, nan, nan, 'D33', nan, 'B30', 'C52', nan, nan, nan, nan, nan, 'B28', 'C83', nan, nan, nan, 'F33', nan, nan, nan, nan, nan, nan, nan, nan, 'F G73', nan, nan, nan, nan, nan, nan, nan, nan, nan, nan, nan, nan, 'C23 C25 C27', nan, nan, nan, 'E31', nan, nan, nan, 'A5', 'D10 D12', nan, nan, nan, nan, 'D26', nan, nan, nan, nan, nan, nan, nan, 'C110', nan, nan, nan, nan, nan, nan, nan, 'B58 B60', nan, nan, nan, nan, 'E101', 'D26', nan, nan, nan, 'F E69', nan, nan, nan, nan, nan, nan, nan, 'D47', 'C123', nan, 'B86', nan, nan, nan, nan, nan, nan, nan, nan, 'F2', nan, nan, 'C2', nan, nan, nan, nan, nan, nan, nan, nan, nan, nan, nan, nan, nan, nan, 'E33', nan, nan, nan, 'B19', nan, nan, nan, 'A7', nan, nan, 'C49', nan, nan, nan, nan, nan, 'F4', nan, 'A32', nan, nan, nan, nan, nan, nan, nan, 'F2', 'B4', 'B80', nan, nan, nan, nan, nan, nan, nan, nan, nan, 'G6', nan, nan, nan, 'A31', nan, nan, nan, nan, nan, 'D36', nan, nan, 'D15', nan, nan, nan, nan, nan, 'C93', nan, nan, nan, nan, nan, 'C83', nan, nan, nan, nan, nan, nan, nan, nan, nan, nan, nan, nan, nan, nan, 'C78', nan, nan, 'D35', nan, nan, 'G6', 'C87', nan, nan, nan, nan, 'B77', nan, nan, nan, nan, 'E67', 'B94', nan, nan, nan, nan, 'C125', 'C99', nan, nan, nan, 'C118', nan, 'D7', nan, nan, nan, nan, nan, nan, nan, nan, 'A19', nan, nan, nan, nan, nan, nan, 'B49', 'D', nan, nan, nan, nan, 'C22 C26', 'C106', 'B58 B60', nan, nan, nan, 'E101', nan, 'C22 C26', nan, 'C65', nan, 'E36', 'C54', 'B57 B59 B63 B66', nan, nan, nan, nan, nan, nan, 'C7', 'E34', nan, nan, nan, nan, nan, 'C32', nan, 'D', nan, 'B18', nan, 'C124', 'C91', nan, nan, nan, 'C2', 'E40', nan, 'T', 'F2', 'C23 C25 C27', nan, nan, nan, 'F33', nan, nan, nan, nan, nan, 'C128', nan, nan, nan, nan, 'E33', nan, nan, nan, nan, nan, nan, nan, nan, nan, 'D37', nan, nan, 'B35', 'E50', nan, nan, nan, nan, nan, nan, 'C82', nan, nan, nan, nan, nan, nan, nan, nan, nan, nan, nan, nan, 'B96 B98', nan, nan, 'D36', 'G6', nan, nan, nan, nan, nan, nan, nan, nan, nan, nan, nan, nan, nan, nan, nan, nan, nan, 'C78', nan, nan, nan, nan, nan, nan, nan, nan, nan, nan, nan, nan, nan, nan, nan, nan, 'E10', 'C52', nan, nan, nan, 'E44', 'B96 B98', nan, nan, 'C23 C25 C27', nan, nan, nan, nan, nan, nan, 'A34', nan, nan, nan, 'C104', nan, nan, 'C111', 'C92', nan, nan, 'E38', 'D21', nan, nan, 'E12', nan, 'E63', nan, nan, nan, nan, nan, nan, nan, nan, nan, nan, 'D', nan, 'A14', nan, nan, nan, nan, nan, nan, nan, nan, 'B49', nan, 'C93', 'B37', nan, nan, nan, nan, 'C30', nan, nan, nan, 'D20', nan, 'C22 C26', nan, nan, nan, nan, nan, 'B79', 'C65', nan, nan, nan, nan, nan, nan, 'E25', nan, nan, 'D46', 'F33', nan, nan, nan, 'B73', nan, nan, 'B18', nan, nan, nan, 'C95', nan, nan, nan, nan, nan, nan, nan, nan, 'B38', nan, nan, 'B39', 'B22', nan, nan, nan, 'C86', nan, nan, nan, nan, nan, 'C70', nan, nan, nan, nan, nan, 'A16', nan, 'E67', nan, nan, nan, nan, nan, nan, nan, nan, nan, nan, nan, nan, 'C101', 'E25', nan, nan, nan, nan, 'E44', nan, nan, nan, 'C68', nan, 'A10', nan, 'E68', nan, 'B41', nan, nan, nan, 'D20', nan, nan, nan, nan, nan, nan, nan, 'A20', nan, nan, nan, nan, nan, nan, nan, nan, nan, 'C125', nan, nan, nan, nan, nan, nan, nan, nan, 'F4', nan, nan, 'D19', nan, nan, nan, 'D50', nan, 'D9', nan, nan, 'A23', nan, 'B50', nan, nan, nan, nan, nan, nan, nan, nan, 'B35', nan, nan, nan, 'D33', nan, 'A26', nan, nan, nan, nan, nan, nan, nan, nan, nan, nan, nan, 'D48', nan, nan, 'E58', nan, nan, nan, nan, nan, nan, 'C126', nan, 'B71', nan, nan, nan, nan, nan, nan, nan, 'B51 B53 B55', nan, 'D49', nan, nan, nan, nan, nan, nan, nan, 'B5', 'B20', nan, nan, nan, nan, nan, nan, nan, 'C68', 'F G63', 'C62 C64', 'E24', nan, nan, nan, nan, nan, 'E24', nan, nan, 'C90', 'C124', 'C126', nan, nan, 'F G73', 'C45', 'E101', nan, nan, nan, nan, nan, nan, 'E8', nan, nan, nan, nan, nan, 'B5', nan, nan, nan, nan, nan, nan, 'B101', nan, nan, 'D45', 'C46', 'B57 B59 B63 B66', nan, nan, 'B22', nan, nan, 'D30', nan, nan, 'E121', nan, nan, nan, nan, nan, nan, nan, 'B77', nan, nan, nan, 'B96 B98', nan, 'D11', nan, nan, nan, nan, nan, nan, 'E77', nan, nan, nan, 'F38', nan, nan, 'B3', nan, 'B20', 'D6', nan, nan, nan, nan, nan, nan, 'B82 B84', nan, nan, nan, nan, nan, nan, 'D17', nan, nan, nan, nan, nan, 'B96 B98', nan, nan, nan, 'A36', nan, nan, 'E8', nan, nan, nan, nan, nan, 'B102', nan, nan, nan, nan, 'B69', nan, nan, 'E121', nan, nan, nan, nan, nan, 'B28', nan, nan, nan, nan, nan, 'E49', nan, nan, nan, 'C47', nan, nan, nan, nan, nan, nan, nan, nan, nan, 'C92', nan, nan, nan, 'D28', nan, nan, nan, 'E17', nan, nan, nan, nan, 'D17', nan, nan, nan, nan, 'A24', nan, nan, nan, 'D35', 'B51 B53 B55', nan, nan, nan, nan, nan, nan, 'C50', nan, nan, nan, nan, nan, nan, nan, 'B42', nan, 'C148', nan, nan, nan, nan, nan, nan, nan, nan, nan, nan, nan, nan, nan, 'B45', nan, 'E31', nan, nan, nan, nan, nan, nan, nan, nan, nan, 'B57 B59 B63 B66', nan, 'B36', nan, 'A21', nan, nan, nan, nan, nan, 'C78', nan, nan, nan, nan, nan, nan, 'D34', nan, nan, 'D19', nan, 'A9', nan, 'D15', nan, 'C31', nan, nan, 'C23 C25 C27', nan, nan, nan, 'F G63', nan, 'B61', nan, nan, nan, nan, 'B57 B59 B63 B66', nan, nan, nan, 'C53', 'C23 C25 C27', nan, nan, nan, 'D43', 'C130', 'C132', nan, 'C101', nan, nan, nan, 'C55 C57', nan, nan, nan, nan, nan, nan, nan, nan, nan, nan, 'B71', nan, nan, nan, 'C46', nan, nan, nan, 'C116', nan, nan, nan, nan, nan, nan, nan, nan, 'F', nan, nan, 'A29', nan, 'C55 C57', nan, nan, 'G6', 'C6', nan, nan, nan, 'C28', nan, nan, nan, nan, nan, nan, nan, nan, 'C51', nan, nan, nan, nan, nan, nan, nan, nan, nan, nan, 'B57 B59 B63 B66', nan, nan, nan, 'E46', nan, nan, nan, 'C54', nan, nan, nan, nan, nan, 'C97', nan, 'D22', nan, nan, nan, nan, nan, nan, nan, 'B10', nan, nan, nan, nan, nan, nan, nan, nan, nan, nan, 'C116', 'F4', 'E45', nan, 'E52', 'D30', nan, 'B58 B60', nan, nan, nan, nan, nan, nan, nan, nan, nan, nan, nan, 'E34', nan, nan, nan, nan, nan, 'C62 C64', nan, nan, nan, nan, nan, 'A11', nan, nan, nan, nan, nan, nan, 'B11', nan, nan, 'C80', nan, nan, nan, 'F33', nan, nan, nan, nan, nan, nan, nan, nan, nan, nan, nan, 'C85', nan, 'D37', nan, nan, 'C86', nan, nan, 'E34', nan, nan, 'D21', nan, nan, nan, nan, nan, nan, 'C89', nan, nan, nan, nan, nan, nan, nan, nan, nan, nan, nan, nan, nan, nan, nan, nan, nan, 'C6', nan, 'C89', nan, nan, nan, nan, nan, nan, nan, nan, nan, nan, nan, nan, nan, nan, 'B45', 'F E46', nan, nan, nan, nan, 'A34', nan, nan, nan, nan, nan, nan, nan, 'D', nan, nan, nan, 'B26', 'C22 C26', nan, 'B69', nan, nan, nan, nan, nan, 'C32', nan, 'B78', nan, nan, nan, nan, 'F E57', 'F2', nan, nan, nan, 'F4', nan, nan, nan, nan, 'A18', nan, nan, nan, 'C106', nan, nan, nan, nan, nan, nan, nan, 'B51 B53 B55', nan, nan, nan, nan, nan, nan, 'D10 D12', nan, nan, nan, nan, 'E60', 'C101', nan, nan, nan, nan, nan, nan, nan, 'E50', nan, nan, nan, nan, nan, nan, 'E39 E41', 'B52 B54 B56', nan, 'A34', nan, nan, nan, 'C39', nan, nan, nan, nan, nan, nan, nan, nan, nan, nan, nan, 'B24', 'D28', nan, nan, nan, 'C31', nan, 'B41', nan, nan, 'C7', nan, nan, nan, 'D40', 'D38', nan, 'C80', nan, nan, nan, 'C78', nan, nan, 'C105', nan, nan, nan, nan, nan]\n"
     ]
    }
   ],
   "source": [
    "print(list(df.Cabin))"
   ]
  },
  {
   "cell_type": "code",
   "execution_count": 221,
   "metadata": {},
   "outputs": [],
   "source": [
    "df.loc[df.Cabin ==\"T\", \"Cabin\"] = np.NaN"
   ]
  },
  {
   "cell_type": "code",
   "execution_count": 226,
   "metadata": {},
   "outputs": [
    {
     "data": {
      "text/plain": [
       "'C'"
      ]
     },
     "execution_count": 226,
     "metadata": {},
     "output_type": "execute_result"
    }
   ],
   "source": [
    "df.iloc[1][\"Cabin\"][0]"
   ]
  },
  {
   "cell_type": "code",
   "execution_count": 277,
   "metadata": {},
   "outputs": [
    {
     "data": {
      "text/plain": [
       "'C85'"
      ]
     },
     "execution_count": 277,
     "metadata": {},
     "output_type": "execute_result"
    }
   ],
   "source": [
    "deck = df.iloc[1].Cabin\n",
    "deck"
   ]
  },
  {
   "cell_type": "code",
   "execution_count": 280,
   "metadata": {},
   "outputs": [
    {
     "data": {
      "text/plain": [
       "str"
      ]
     },
     "execution_count": 280,
     "metadata": {},
     "output_type": "execute_result"
    }
   ],
   "source": [
    "type(deck)"
   ]
  },
  {
   "cell_type": "code",
   "execution_count": 244,
   "metadata": {},
   "outputs": [
    {
     "data": {
      "text/plain": [
       "dtype('O')"
      ]
     },
     "execution_count": 244,
     "metadata": {},
     "output_type": "execute_result"
    }
   ],
   "source": [
    "df.Cabin.dtype"
   ]
  },
  {
   "cell_type": "code",
   "execution_count": null,
   "metadata": {},
   "outputs": [],
   "source": [
    "np.where(pd.notnull(deck), str(deck)[0], \"P\")"
   ]
  },
  {
   "cell_type": "code",
   "execution_count": 260,
   "metadata": {},
   "outputs": [],
   "source": [
    "def getdeck(deck):\n",
    "    val = np.where(pd.notnull(deck), str(deck)[0].upper(), \"P\")\n",
    "    return val "
   ]
  },
  {
   "cell_type": "code",
   "execution_count": 261,
   "metadata": {},
   "outputs": [
    {
     "data": {
      "text/plain": [
       "array('C', dtype='<U1')"
      ]
     },
     "execution_count": 261,
     "metadata": {},
     "output_type": "execute_result"
    }
   ],
   "source": [
    "getdeck(deck)"
   ]
  },
  {
   "cell_type": "code",
   "execution_count": 268,
   "metadata": {},
   "outputs": [],
   "source": [
    "df[\"deck\"]= df.Cabin.apply(getdeck)"
   ]
  },
  {
   "cell_type": "code",
   "execution_count": 269,
   "metadata": {},
   "outputs": [
    {
     "data": {
      "text/plain": [
       "P    1017\n",
       "C      94\n",
       "B      65\n",
       "D      46\n",
       "E      41\n",
       "A      22\n",
       "F      21\n",
       "G       5\n",
       "Name: Cabin, dtype: int64"
      ]
     },
     "execution_count": 269,
     "metadata": {},
     "output_type": "execute_result"
    }
   ],
   "source": [
    "df.deck.value_counts()"
   ]
  },
  {
   "cell_type": "code",
   "execution_count": 273,
   "metadata": {},
   "outputs": [
    {
     "data": {
      "text/plain": [
       "<matplotlib.axes._subplots.AxesSubplot at 0x185279aeac8>"
      ]
     },
     "execution_count": 273,
     "metadata": {},
     "output_type": "execute_result"
    },
    {
     "data": {
      "image/png": "[encoded data removed]",
      "text/plain": [
       "<Figure size 432x288 with 1 Axes>"
      ]
     },
     "metadata": {
      "needs_background": "light"
     },
     "output_type": "display_data"
    }
   ],
   "source": [
    "df[df.Survived!= -888].groupby(\"deck\").Survived.mean().plot.bar()"
   ]
  },
  {
   "cell_type": "code",
   "execution_count": 276,
   "metadata": {},
   "outputs": [],
   "source": [
    "df.Fare = df.groupby(\"deck\").Fare.transform(\"mean\")"
   ]
  },
  {
   "cell_type": "code",
   "execution_count": null,
   "metadata": {},
   "outputs": [],
   "source": []
  },
  {
   "cell_type": "code",
   "execution_count": null,
   "metadata": {},
   "outputs": [],
   "source": []
  },
  {
   "cell_type": "code",
   "execution_count": null,
   "metadata": {},
   "outputs": [],
   "source": []
  }
 ],
 "metadata": {
  "kernelspec": {
   "display_name": "Python 3",
   "language": "python",
   "name": "python3"
  },
  "language_info": {
   "codemirror_mode": {
    "name": "ipython",
    "version": 3
   },
   "file_extension": ".py",
   "mimetype": "text/x-python",
   "name": "python",
   "nbconvert_exporter": "python",
   "pygments_lexer": "ipython3",
   "version": "3.6.8"
  }
 },
 "nbformat": 4,
 "nbformat_minor": 2
}
