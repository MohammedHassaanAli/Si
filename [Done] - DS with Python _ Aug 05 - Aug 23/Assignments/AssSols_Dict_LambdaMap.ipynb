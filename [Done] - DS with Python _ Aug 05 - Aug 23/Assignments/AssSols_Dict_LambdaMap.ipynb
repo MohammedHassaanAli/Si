{
 "cells": [
  {
   "cell_type": "code",
   "execution_count": null,
   "metadata": {},
   "outputs": [],
   "source": []
  },
  {
   "cell_type": "markdown",
   "metadata": {},
   "source": [
    "#### Find the words with the maximum count in `romeo.txt`"
   ]
  },
  {
   "cell_type": "code",
   "execution_count": 84,
   "metadata": {},
   "outputs": [
    {
     "name": "stdout",
     "output_type": "stream",
     "text": [
      "[('is', 3), ('the', 3), ('and', 3)]\n"
     ]
    }
   ],
   "source": [
    "#first create the counts dictionary, then find the key corresponding to the max value. \n",
    "#In this file there are multiple words with highest frequency\n",
    "counts=dict()\n",
    "fhand=open(\"C:\\\\Users\\\\Vaibhav\\\\Desktop\\\\BA\\\\Datasets\\\\romeo.txt\")\n",
    "for line in fhand:\n",
    "    words=line.split()\n",
    "    for word in words:\n",
    "        counts[word]=counts.get(word,0)+1\n",
    "bigword = []\n",
    "\n",
    "for word,count in counts.items():\n",
    "    if count==max(counts.values()):\n",
    "        bigword.append((word,count))\n",
    "        \n",
    "print(bigword)\n"
   ]
  },
  {
   "cell_type": "markdown",
   "metadata": {},
   "source": [
    "### Arrange in decreasing order of word counts"
   ]
  },
  {
   "cell_type": "code",
   "execution_count": 85,
   "metadata": {},
   "outputs": [
    {
     "name": "stdout",
     "output_type": "stream",
     "text": [
      "[(4, 'is'), (4, 'and'), (3, 'the'), (2, 'with'), (2, 'sun'), (2, 'sick'), (2, 'pale'), (2, 'grief'), (2, 'already'), (2, 'Who'), (1, 'yonder'), (1, 'window'), (1, 'what'), (1, 'through'), (1, 'soft'), (1, 'moon'), (1, 'light'), (1, 'kill'), (1, 'fair'), (1, 'envious'), (1, 'east'), (1, 'breaks'), (1, 'Juliet'), (1, 'It'), (1, 'But'), (1, 'Arise')]\n",
      "-----\n",
      "[('yonder', 1), ('with', 2), ('window', 1), ('what', 1), ('through', 1), ('the', 3)]\n"
     ]
    }
   ],
   "source": [
    "\n",
    "while line!='':\n",
    "    line = line.rstrip() #taking off the white spaces from right side of the line\n",
    "    for i in line.split(' '):\n",
    "        counts[i] = counts.get(i,0)+1\n",
    "    line = fhand.readline()\n",
    "\n",
    "temp = []\n",
    "temp1 = []\n",
    "for k,v in counts.items():\n",
    "    temp.append((v,k))\n",
    "    temp1.append((k,v)) #if we try to sort this, this will get sorted according to keys i.e words\n",
    "    #so temp is the correct dictionary for this problem.\n",
    "    \n",
    "temp = sorted(temp,reverse=True)\n",
    "temp1 = sorted(temp1,reverse=True)\n",
    "#temp\n",
    "print(temp)\n",
    "print('-----')\n",
    "print(temp1[0:6]) #sorted according the words"
   ]
  },
  {
   "cell_type": "code",
   "execution_count": 99,
   "metadata": {},
   "outputs": [
    {
     "data": {
      "text/plain": [
       "{'watermelon': 'green',\n",
       " 'pear': 'green',\n",
       " 'pomegranate': 'red',\n",
       " 'cherry': 'red',\n",
       " 'peach': 'orange',\n",
       " 'orange': 'orange',\n",
       " 'banana': 'yellow',\n",
       " 'plum': 'purple'}"
      ]
     },
     "execution_count": 99,
     "metadata": {},
     "output_type": "execute_result"
    }
   ],
   "source": [
    "#Let's say we want to again invert it\n",
    "f2c = {}\n",
    "c2f = colour_to_fruit\n",
    "for color in c2f:\n",
    "    for fruit in c2f[color]:\n",
    "        f2c[fruit] = color\n",
    "        \n",
    "f2c"
   ]
  },
  {
   "cell_type": "markdown",
   "metadata": {},
   "source": [
    "#### Exercise:\n",
    "Invert this dictionary:<br>"
   ]
  },
  {
   "cell_type": "code",
   "execution_count": 1,
   "metadata": {},
   "outputs": [],
   "source": [
    "c2f = {'green': ['watermelon', 'pear'],\n",
    " 'red': ['pomegranate', 'cherry'],\n",
    " 'orange': ['peach', 'orange'],\n",
    " 'yellow': ['banana'],\n",
    " 'purple': ['plum']}"
   ]
  },
  {
   "cell_type": "code",
   "execution_count": 2,
   "metadata": {},
   "outputs": [],
   "source": [
    "#Exercise:\n",
    "#Convert the following temp in degree celsius to fahrenheit using lambda and map fns.\n",
    "temp = [36.5, 37, 37.5,39]\n",
    "#fahrenheit = (9/5)*temp + 32"
   ]
  },
  {
   "cell_type": "code",
   "execution_count": 18,
   "metadata": {},
   "outputs": [
    {
     "name": "stdout",
     "output_type": "stream",
     "text": [
      "[36.5, 37.00000000000001, 37.5, 39.0]\n",
      "[97.7, 98.60000000000001, 99.5, 102.2]\n"
     ]
    }
   ],
   "source": [
    "temp = (36.5, 37, 37.5,39)\n",
    "Fahrenheit = list(map(lambda T : (9/5)*T + 32,temp))\n",
    "Celcius = list(map(lambda T:(5/9)*(T -32),temp))\n",
    "print(Celcius)\n",
    "print(Fahrenheit)"
   ]
  },
  {
   "cell_type": "code",
   "execution_count": null,
   "metadata": {},
   "outputs": [],
   "source": []
  }
 ],
 "metadata": {
  "kernelspec": {
   "display_name": "Python 3",
   "language": "python",
   "name": "python3"
  },
  "language_info": {
   "codemirror_mode": {
    "name": "ipython",
    "version": 3
   },
   "file_extension": ".py",
   "mimetype": "text/x-python",
   "name": "python",
   "nbconvert_exporter": "python",
   "pygments_lexer": "ipython3",
   "version": "3.6.8"
  }
 },
 "nbformat": 4,
 "nbformat_minor": 2
}
