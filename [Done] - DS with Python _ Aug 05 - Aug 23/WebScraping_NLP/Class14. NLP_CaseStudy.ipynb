{
 "cells": [
  {
   "cell_type": "code",
   "execution_count": 1,
   "metadata": {},
   "outputs": [],
   "source": [
    "import pandas as pd"
   ]
  },
  {
   "cell_type": "code",
   "execution_count": 3,
   "metadata": {},
   "outputs": [],
   "source": [
    "spamCollection = pd.read_csv(r\"C:\\Users\\Vaibhav\\Desktop\\BA\\Datasets\\MessageSpamCollection_dataset\\SpamCollection\\SpamCollection\", sep = \"\\t\", names = [\"response\", \"message\"])"
   ]
  },
  {
   "cell_type": "code",
   "execution_count": 9,
   "metadata": {},
   "outputs": [
    {
     "data": {
      "text/html": [
       "<div>\n",
       "<style scoped>\n",
       "    .dataframe tbody tr th:only-of-type {\n",
       "        vertical-align: middle;\n",
       "    }\n",
       "\n",
       "    .dataframe tbody tr th {\n",
       "        vertical-align: top;\n",
       "    }\n",
       "\n",
       "    .dataframe thead th {\n",
       "        text-align: right;\n",
       "    }\n",
       "</style>\n",
       "<table border=\"1\" class=\"dataframe\">\n",
       "  <thead>\n",
       "    <tr style=\"text-align: right;\">\n",
       "      <th></th>\n",
       "      <th>response</th>\n",
       "      <th>message</th>\n",
       "    </tr>\n",
       "  </thead>\n",
       "  <tbody>\n",
       "    <tr>\n",
       "      <th>0</th>\n",
       "      <td>ham</td>\n",
       "      <td>Go until jurong point, crazy.. Available only ...</td>\n",
       "    </tr>\n",
       "    <tr>\n",
       "      <th>1</th>\n",
       "      <td>ham</td>\n",
       "      <td>Ok lar... Joking wif u oni...</td>\n",
       "    </tr>\n",
       "    <tr>\n",
       "      <th>2</th>\n",
       "      <td>spam</td>\n",
       "      <td>Free entry in 2 a wkly comp to win FA Cup fina...</td>\n",
       "    </tr>\n",
       "    <tr>\n",
       "      <th>3</th>\n",
       "      <td>ham</td>\n",
       "      <td>U dun say so early hor... U c already then say...</td>\n",
       "    </tr>\n",
       "    <tr>\n",
       "      <th>4</th>\n",
       "      <td>ham</td>\n",
       "      <td>Nah I don't think he goes to usf, he lives aro...</td>\n",
       "    </tr>\n",
       "    <tr>\n",
       "      <th>5</th>\n",
       "      <td>spam</td>\n",
       "      <td>FreeMsg Hey there darling it's been 3 week's n...</td>\n",
       "    </tr>\n",
       "    <tr>\n",
       "      <th>6</th>\n",
       "      <td>ham</td>\n",
       "      <td>Even my brother is not like to speak with me. ...</td>\n",
       "    </tr>\n",
       "  </tbody>\n",
       "</table>\n",
       "</div>"
      ],
      "text/plain": [
       "  response                                            message\n",
       "0      ham  Go until jurong point, crazy.. Available only ...\n",
       "1      ham                      Ok lar... Joking wif u oni...\n",
       "2     spam  Free entry in 2 a wkly comp to win FA Cup fina...\n",
       "3      ham  U dun say so early hor... U c already then say...\n",
       "4      ham  Nah I don't think he goes to usf, he lives aro...\n",
       "5     spam  FreeMsg Hey there darling it's been 3 week's n...\n",
       "6      ham  Even my brother is not like to speak with me. ..."
      ]
     },
     "execution_count": 9,
     "metadata": {},
     "output_type": "execute_result"
    }
   ],
   "source": [
    "spamCollection.head(7)"
   ]
  },
  {
   "cell_type": "code",
   "execution_count": 5,
   "metadata": {},
   "outputs": [
    {
     "data": {
      "text/html": [
       "<div>\n",
       "<style scoped>\n",
       "    .dataframe tbody tr th:only-of-type {\n",
       "        vertical-align: middle;\n",
       "    }\n",
       "\n",
       "    .dataframe tbody tr th {\n",
       "        vertical-align: top;\n",
       "    }\n",
       "\n",
       "    .dataframe thead tr th {\n",
       "        text-align: left;\n",
       "    }\n",
       "\n",
       "    .dataframe thead tr:last-of-type th {\n",
       "        text-align: right;\n",
       "    }\n",
       "</style>\n",
       "<table border=\"1\" class=\"dataframe\">\n",
       "  <thead>\n",
       "    <tr>\n",
       "      <th></th>\n",
       "      <th colspan=\"4\" halign=\"left\">message</th>\n",
       "    </tr>\n",
       "    <tr>\n",
       "      <th></th>\n",
       "      <th>count</th>\n",
       "      <th>unique</th>\n",
       "      <th>top</th>\n",
       "      <th>freq</th>\n",
       "    </tr>\n",
       "    <tr>\n",
       "      <th>response</th>\n",
       "      <th></th>\n",
       "      <th></th>\n",
       "      <th></th>\n",
       "      <th></th>\n",
       "    </tr>\n",
       "  </thead>\n",
       "  <tbody>\n",
       "    <tr>\n",
       "      <th>ham</th>\n",
       "      <td>4825</td>\n",
       "      <td>4516</td>\n",
       "      <td>Sorry, I'll call later</td>\n",
       "      <td>30</td>\n",
       "    </tr>\n",
       "    <tr>\n",
       "      <th>spam</th>\n",
       "      <td>747</td>\n",
       "      <td>653</td>\n",
       "      <td>Please call our customer service representativ...</td>\n",
       "      <td>4</td>\n",
       "    </tr>\n",
       "  </tbody>\n",
       "</table>\n",
       "</div>"
      ],
      "text/plain": [
       "         message                                                            \\\n",
       "           count unique                                                top   \n",
       "response                                                                     \n",
       "ham         4825   4516                             Sorry, I'll call later   \n",
       "spam         747    653  Please call our customer service representativ...   \n",
       "\n",
       "               \n",
       "         freq  \n",
       "response       \n",
       "ham        30  \n",
       "spam        4  "
      ]
     },
     "execution_count": 5,
     "metadata": {},
     "output_type": "execute_result"
    }
   ],
   "source": [
    "spamCollection.groupby(\"response\").describe()"
   ]
  },
  {
   "cell_type": "code",
   "execution_count": 6,
   "metadata": {},
   "outputs": [],
   "source": [
    "X = spamCollection[[\"message\"]]\n",
    "y = spamCollection[\"response\"]"
   ]
  },
  {
   "cell_type": "code",
   "execution_count": 7,
   "metadata": {},
   "outputs": [],
   "source": [
    "from sklearn.model_selection import train_test_split"
   ]
  },
  {
   "cell_type": "code",
   "execution_count": 10,
   "metadata": {},
   "outputs": [],
   "source": [
    "X_train, X_test,y_train, y_test = train_test_split(X,y, test_size = .25, random_state = 1)"
   ]
  },
  {
   "cell_type": "code",
   "execution_count": 11,
   "metadata": {},
   "outputs": [
    {
     "data": {
      "text/html": [
       "<div>\n",
       "<style scoped>\n",
       "    .dataframe tbody tr th:only-of-type {\n",
       "        vertical-align: middle;\n",
       "    }\n",
       "\n",
       "    .dataframe tbody tr th {\n",
       "        vertical-align: top;\n",
       "    }\n",
       "\n",
       "    .dataframe thead th {\n",
       "        text-align: right;\n",
       "    }\n",
       "</style>\n",
       "<table border=\"1\" class=\"dataframe\">\n",
       "  <thead>\n",
       "    <tr style=\"text-align: right;\">\n",
       "      <th></th>\n",
       "      <th>message</th>\n",
       "    </tr>\n",
       "  </thead>\n",
       "  <tbody>\n",
       "    <tr>\n",
       "      <th>710</th>\n",
       "      <td>4mths half price Orange line rental &amp; latest c...</td>\n",
       "    </tr>\n",
       "  </tbody>\n",
       "</table>\n",
       "</div>"
      ],
      "text/plain": [
       "                                               message\n",
       "710  4mths half price Orange line rental & latest c..."
      ]
     },
     "execution_count": 11,
     "metadata": {},
     "output_type": "execute_result"
    }
   ],
   "source": [
    "X_train.head(1)"
   ]
  },
  {
   "cell_type": "code",
   "execution_count": 12,
   "metadata": {},
   "outputs": [
    {
     "data": {
      "text/plain": [
       "710     spam\n",
       "3740     ham\n",
       "Name: response, dtype: object"
      ]
     },
     "execution_count": 12,
     "metadata": {},
     "output_type": "execute_result"
    }
   ],
   "source": [
    "y_train[:2]"
   ]
  },
  {
   "cell_type": "markdown",
   "metadata": {},
   "source": [
    "### Clean up 1 message"
   ]
  },
  {
   "cell_type": "code",
   "execution_count": 14,
   "metadata": {},
   "outputs": [
    {
     "data": {
      "text/plain": [
       "'4mths half price Orange line rental & latest camera phones 4 FREE. Had your phone 11mths+? Call MobilesDirect free on 08000938767 to update now! or2stoptxt T&Cs'"
      ]
     },
     "execution_count": 14,
     "metadata": {},
     "output_type": "execute_result"
    }
   ],
   "source": [
    "sentence = X_train.iloc[0,0]\n",
    "sentence"
   ]
  },
  {
   "cell_type": "code",
   "execution_count": 15,
   "metadata": {},
   "outputs": [],
   "source": [
    "from nltk import word_tokenize"
   ]
  },
  {
   "cell_type": "code",
   "execution_count": 18,
   "metadata": {},
   "outputs": [
    {
     "name": "stdout",
     "output_type": "stream",
     "text": [
      "['4mths', 'half', 'price', 'Orange', 'line', 'rental', '&', 'latest', 'camera', 'phones', '4', 'FREE', '.', 'Had', 'your', 'phone', '11mths+', '?', 'Call', 'MobilesDirect', 'free', 'on', '08000938767', 'to', 'update', 'now', '!', 'or2stoptxt', 'T', '&', 'Cs']\n"
     ]
    }
   ],
   "source": [
    "tokens = word_tokenize(sentence)\n",
    "print(tokens)"
   ]
  },
  {
   "cell_type": "code",
   "execution_count": 19,
   "metadata": {},
   "outputs": [],
   "source": [
    "import string"
   ]
  },
  {
   "cell_type": "code",
   "execution_count": 20,
   "metadata": {},
   "outputs": [
    {
     "data": {
      "text/plain": [
       "'!\"#$%&\\'()*+,-./:;<=>?@[\\\\]^_`{|}~'"
      ]
     },
     "execution_count": 20,
     "metadata": {},
     "output_type": "execute_result"
    }
   ],
   "source": [
    "string.punctuation"
   ]
  },
  {
   "cell_type": "code",
   "execution_count": 21,
   "metadata": {},
   "outputs": [],
   "source": [
    "no_punctuation = [ word for word in tokens if word not in string.punctuation]"
   ]
  },
  {
   "cell_type": "code",
   "execution_count": 22,
   "metadata": {},
   "outputs": [
    {
     "data": {
      "text/plain": [
       "['4mths',\n",
       " 'half',\n",
       " 'price',\n",
       " 'Orange',\n",
       " 'line',\n",
       " 'rental',\n",
       " 'latest',\n",
       " 'camera',\n",
       " 'phones',\n",
       " '4',\n",
       " 'FREE',\n",
       " 'Had',\n",
       " 'your',\n",
       " 'phone',\n",
       " '11mths+',\n",
       " 'Call',\n",
       " 'MobilesDirect',\n",
       " 'free',\n",
       " 'on',\n",
       " '08000938767',\n",
       " 'to',\n",
       " 'update',\n",
       " 'now',\n",
       " 'or2stoptxt',\n",
       " 'T',\n",
       " 'Cs']"
      ]
     },
     "execution_count": 22,
     "metadata": {},
     "output_type": "execute_result"
    }
   ],
   "source": [
    "no_punctuation"
   ]
  },
  {
   "cell_type": "code",
   "execution_count": 24,
   "metadata": {},
   "outputs": [
    {
     "name": "stdout",
     "output_type": "stream",
     "text": [
      "['4', 'm', 't', 'h', 's', ' ', 'h', 'a', 'l', 'f', ' ', 'p', 'r', 'i', 'c', 'e', ' ', 'O', 'r', 'a', 'n', 'g', 'e', ' ', 'l', 'i', 'n', 'e', ' ', 'r', 'e', 'n', 't', 'a', 'l', ' ', '&', ' ', 'l', 'a', 't', 'e', 's', 't', ' ', 'c', 'a', 'm', 'e', 'r', 'a', ' ', 'p', 'h', 'o', 'n', 'e', 's', ' ', '4', ' ', 'F', 'R', 'E', 'E', '.', ' ', 'H', 'a', 'd', ' ', 'y', 'o', 'u', 'r', ' ', 'p', 'h', 'o', 'n', 'e', ' ', '1', '1', 'm', 't', 'h', 's', '+', '?', ' ', 'C', 'a', 'l', 'l', ' ', 'M', 'o', 'b', 'i', 'l', 'e', 's', 'D', 'i', 'r', 'e', 'c', 't', ' ', 'f', 'r', 'e', 'e', ' ', 'o', 'n', ' ', '0', '8', '0', '0', '0', '9', '3', '8', '7', '6', '7', ' ', 't', 'o', ' ', 'u', 'p', 'd', 'a', 't', 'e', ' ', 'n', 'o', 'w', '!', ' ', 'o', 'r', '2', 's', 't', 'o', 'p', 't', 'x', 't', ' ', 'T', '&', 'C', 's']\n"
     ]
    }
   ],
   "source": [
    "print([char for char in sentence]) #taking the entire string"
   ]
  },
  {
   "cell_type": "code",
   "execution_count": 37,
   "metadata": {},
   "outputs": [],
   "source": [
    "a = string.punctuation"
   ]
  },
  {
   "cell_type": "code",
   "execution_count": 38,
   "metadata": {},
   "outputs": [
    {
     "data": {
      "text/plain": [
       "'!\"#$%&\\'()*+,-./:;<=>?@[\\\\]^_`{|}~0123456789'"
      ]
     },
     "execution_count": 38,
     "metadata": {},
     "output_type": "execute_result"
    }
   ],
   "source": [
    "a = a + \"0123456789\"\n",
    "a"
   ]
  },
  {
   "cell_type": "code",
   "execution_count": 40,
   "metadata": {},
   "outputs": [
    {
     "data": {
      "text/plain": [
       "['m',\n",
       " 't',\n",
       " 'h',\n",
       " 's',\n",
       " ' ',\n",
       " 'h',\n",
       " 'a',\n",
       " 'l',\n",
       " 'f',\n",
       " ' ',\n",
       " 'p',\n",
       " 'r',\n",
       " 'i',\n",
       " 'c',\n",
       " 'e',\n",
       " ' ',\n",
       " 'O',\n",
       " 'r',\n",
       " 'a',\n",
       " 'n',\n",
       " 'g',\n",
       " 'e',\n",
       " ' ',\n",
       " 'l',\n",
       " 'i',\n",
       " 'n',\n",
       " 'e',\n",
       " ' ',\n",
       " 'r',\n",
       " 'e',\n",
       " 'n',\n",
       " 't',\n",
       " 'a',\n",
       " 'l',\n",
       " ' ',\n",
       " ' ',\n",
       " 'l',\n",
       " 'a',\n",
       " 't',\n",
       " 'e',\n",
       " 's',\n",
       " 't',\n",
       " ' ',\n",
       " 'c',\n",
       " 'a',\n",
       " 'm',\n",
       " 'e',\n",
       " 'r',\n",
       " 'a',\n",
       " ' ',\n",
       " 'p',\n",
       " 'h',\n",
       " 'o',\n",
       " 'n',\n",
       " 'e',\n",
       " 's',\n",
       " ' ',\n",
       " ' ',\n",
       " 'F',\n",
       " 'R',\n",
       " 'E',\n",
       " 'E',\n",
       " ' ',\n",
       " 'H',\n",
       " 'a',\n",
       " 'd',\n",
       " ' ',\n",
       " 'y',\n",
       " 'o',\n",
       " 'u',\n",
       " 'r',\n",
       " ' ',\n",
       " 'p',\n",
       " 'h',\n",
       " 'o',\n",
       " 'n',\n",
       " 'e',\n",
       " ' ',\n",
       " 'm',\n",
       " 't',\n",
       " 'h',\n",
       " 's',\n",
       " ' ',\n",
       " 'C',\n",
       " 'a',\n",
       " 'l',\n",
       " 'l',\n",
       " ' ',\n",
       " 'M',\n",
       " 'o',\n",
       " 'b',\n",
       " 'i',\n",
       " 'l',\n",
       " 'e',\n",
       " 's',\n",
       " 'D',\n",
       " 'i',\n",
       " 'r',\n",
       " 'e',\n",
       " 'c',\n",
       " 't',\n",
       " ' ',\n",
       " 'f',\n",
       " 'r',\n",
       " 'e',\n",
       " 'e',\n",
       " ' ',\n",
       " 'o',\n",
       " 'n',\n",
       " ' ',\n",
       " ' ',\n",
       " 't',\n",
       " 'o',\n",
       " ' ',\n",
       " 'u',\n",
       " 'p',\n",
       " 'd',\n",
       " 'a',\n",
       " 't',\n",
       " 'e',\n",
       " ' ',\n",
       " 'n',\n",
       " 'o',\n",
       " 'w',\n",
       " ' ',\n",
       " 'o',\n",
       " 'r',\n",
       " 's',\n",
       " 't',\n",
       " 'o',\n",
       " 'p',\n",
       " 't',\n",
       " 'x',\n",
       " 't',\n",
       " ' ',\n",
       " 'T',\n",
       " 'C',\n",
       " 's']"
      ]
     },
     "execution_count": 40,
     "metadata": {},
     "output_type": "execute_result"
    }
   ],
   "source": [
    "p = [char for char in sentence if char not in a]\n",
    "p"
   ]
  },
  {
   "cell_type": "code",
   "execution_count": 45,
   "metadata": {},
   "outputs": [],
   "source": [
    "p = \"\".join(p)"
   ]
  },
  {
   "cell_type": "code",
   "execution_count": 42,
   "metadata": {},
   "outputs": [],
   "source": [
    "from nltk.corpus import stopwords"
   ]
  },
  {
   "cell_type": "code",
   "execution_count": 48,
   "metadata": {},
   "outputs": [],
   "source": [
    "p = p.split()"
   ]
  },
  {
   "cell_type": "code",
   "execution_count": 50,
   "metadata": {},
   "outputs": [
    {
     "name": "stdout",
     "output_type": "stream",
     "text": [
      "['mths', 'half', 'price', 'Orange', 'line', 'rental', 'latest', 'camera', 'phones', 'FREE', 'Had', 'your', 'phone', 'mths', 'Call', 'MobilesDirect', 'free', 'on', 'to', 'update', 'now', 'orstoptxt', 'TCs']\n"
     ]
    }
   ],
   "source": [
    "print(p)"
   ]
  },
  {
   "cell_type": "code",
   "execution_count": 51,
   "metadata": {},
   "outputs": [
    {
     "data": {
      "text/plain": [
       "['mths',\n",
       " 'half',\n",
       " 'price',\n",
       " 'orange',\n",
       " 'line',\n",
       " 'rental',\n",
       " 'latest',\n",
       " 'camera',\n",
       " 'phones',\n",
       " 'free',\n",
       " 'phone',\n",
       " 'mths',\n",
       " 'call',\n",
       " 'mobilesdirect',\n",
       " 'free',\n",
       " 'update',\n",
       " 'orstoptxt',\n",
       " 'tcs']"
      ]
     },
     "execution_count": 51,
     "metadata": {},
     "output_type": "execute_result"
    }
   ],
   "source": [
    "[word.lower() for word in p if word.lower() not in stopwords.words(\"english\")]"
   ]
  },
  {
   "cell_type": "markdown",
   "metadata": {},
   "source": [
    "---"
   ]
  },
  {
   "cell_type": "markdown",
   "metadata": {},
   "source": [
    "### To clean up all the messages"
   ]
  },
  {
   "cell_type": "code",
   "execution_count": 53,
   "metadata": {},
   "outputs": [],
   "source": [
    "a = string.punctuation + \"0123456789\""
   ]
  },
  {
   "cell_type": "code",
   "execution_count": 54,
   "metadata": {},
   "outputs": [],
   "source": [
    "def cleanup_text(sentence):\n",
    "    p = [char for char in sentence if char not in a]\n",
    "    p = \"\".join(p)\n",
    "    q = [word.lower() for word in p.split() if word.lower() not in stopwords.words(\"english\")]\n",
    "    return(q)"
   ]
  },
  {
   "cell_type": "code",
   "execution_count": 55,
   "metadata": {},
   "outputs": [],
   "source": [
    "from sklearn.feature_extraction.text import CountVectorizer"
   ]
  },
  {
   "cell_type": "code",
   "execution_count": 56,
   "metadata": {},
   "outputs": [],
   "source": [
    "bow = CountVectorizer(analyzer = cleanup_text)"
   ]
  },
  {
   "cell_type": "code",
   "execution_count": 57,
   "metadata": {},
   "outputs": [
    {
     "data": {
      "text/plain": [
       "CountVectorizer(analyzer=<function cleanup_text at 0x000002C4CEF64158>,\n",
       "                binary=False, decode_error='strict',\n",
       "                dtype=<class 'numpy.int64'>, encoding='utf-8', input='content',\n",
       "                lowercase=True, max_df=1.0, max_features=None, min_df=1,\n",
       "                ngram_range=(1, 1), preprocessor=None, stop_words=None,\n",
       "                strip_accents=None, token_pattern='(?u)\\\\b\\\\w\\\\w+\\\\b',\n",
       "                tokenizer=None, vocabulary=None)"
      ]
     },
     "execution_count": 57,
     "metadata": {},
     "output_type": "execute_result"
    }
   ],
   "source": [
    "bow.fit(X_train[\"message\"])"
   ]
  },
  {
   "cell_type": "code",
   "execution_count": 59,
   "metadata": {},
   "outputs": [],
   "source": [
    "#bow.vocabulary_"
   ]
  },
  {
   "cell_type": "code",
   "execution_count": 60,
   "metadata": {},
   "outputs": [],
   "source": [
    "msg_bows=bow.transform(X_train.message)"
   ]
  },
  {
   "cell_type": "code",
   "execution_count": 61,
   "metadata": {},
   "outputs": [
    {
     "data": {
      "text/plain": [
       "<4179x7260 sparse matrix of type '<class 'numpy.int64'>'\n",
       "\twith 35543 stored elements in Compressed Sparse Row format>"
      ]
     },
     "execution_count": 61,
     "metadata": {},
     "output_type": "execute_result"
    }
   ],
   "source": [
    "msg_bows"
   ]
  },
  {
   "cell_type": "code",
   "execution_count": 62,
   "metadata": {},
   "outputs": [
    {
     "data": {
      "text/plain": [
       "array([[0, 0, 0, ..., 0, 0, 0],\n",
       "       [0, 0, 0, ..., 0, 0, 0],\n",
       "       [0, 0, 0, ..., 0, 0, 0],\n",
       "       ...,\n",
       "       [0, 0, 0, ..., 0, 0, 0],\n",
       "       [0, 0, 0, ..., 0, 0, 0],\n",
       "       [0, 0, 0, ..., 0, 0, 0]], dtype=int64)"
      ]
     },
     "execution_count": 62,
     "metadata": {},
     "output_type": "execute_result"
    }
   ],
   "source": [
    "msg_bows.toarray()"
   ]
  },
  {
   "cell_type": "code",
   "execution_count": 63,
   "metadata": {},
   "outputs": [
    {
     "data": {
      "text/plain": [
       "(4179, 7260)"
      ]
     },
     "execution_count": 63,
     "metadata": {},
     "output_type": "execute_result"
    }
   ],
   "source": [
    "msg_bows.shape"
   ]
  },
  {
   "cell_type": "code",
   "execution_count": 70,
   "metadata": {},
   "outputs": [],
   "source": [
    "from sklearn.feature_extraction.text import TfidfTransformer"
   ]
  },
  {
   "cell_type": "code",
   "execution_count": 71,
   "metadata": {},
   "outputs": [],
   "source": [
    "tfidf = TfidfTransformer()"
   ]
  },
  {
   "cell_type": "code",
   "execution_count": 72,
   "metadata": {},
   "outputs": [
    {
     "data": {
      "text/plain": [
       "TfidfTransformer(norm='l2', smooth_idf=True, sublinear_tf=False, use_idf=True)"
      ]
     },
     "execution_count": 72,
     "metadata": {},
     "output_type": "execute_result"
    }
   ],
   "source": [
    "tfidf.fit(msg_bows)"
   ]
  },
  {
   "cell_type": "code",
   "execution_count": 73,
   "metadata": {},
   "outputs": [],
   "source": [
    "tfidf_score = tfidf.transform(msg_bows)"
   ]
  },
  {
   "cell_type": "code",
   "execution_count": 75,
   "metadata": {},
   "outputs": [
    {
     "name": "stdout",
     "output_type": "stream",
     "text": [
      "[0.11729588310099519, 0.21193372905375008, 0.29562281394148004, 0.20489512059335588, 0.21325748682130222, 0.20184316020213242, 0.27891172999906955, 0.4751398273926907, 0.21755781447779268, 0.27891172999906955, 0.16600831596695526, 0.24037744510060097, 0.22074868759586935, 0.2467724498580555, 0.21911697861678137, 0.23255059183463003]\n",
      "[0.7071067811865475, 0.7071067811865475]\n",
      "[0.34352846561648553, 0.36953494372297124, 0.38290411178459316, 0.2365226768230855, 0.22088613110050556, 0.38290411178459316, 0.21902700224602467, 0.20775467211781007, 0.4017468958594694, 0.3081102751276913]\n",
      "[0.18553612435741754, 0.12224729707091418, 0.20743752464355508, 0.2448893629839001, 0.21702852768837436, 0.2653467097072098, 0.2505245040446881, 0.21036357043935205, 0.2423672556311887, 0.27022809092671446, 0.24000798176439547, 0.2825281892365248, 0.2825281892365248, 0.16231718191898212, 0.3012019599303168, 0.17229212307669714, 0.1634250260069487, 0.10608261287229766, 0.20560934085115562, 0.21702852768837436]\n",
      "[0.4197901000153902, 0.29850743040814104, 0.2841406299624367, 0.21990759712474361, 0.4109208724538898, 0.4109208724538898, 0.29333953310362587, 0.312844947194974, 0.2897280924386821]\n",
      "[0.2761179398859359, 0.29436802356008435, 0.29436802356008435, 0.29436802356008435, 0.29436802356008435, 0.29436802356008435, 0.29436802356008435, 0.29436802356008435, 0.29436802356008435, 0.28409010943531726, 0.251354119405556, 0.29436802356008435]\n",
      "[0.4420797496804144, 0.4316509048977376, 0.49449183954272374, 0.4548436241329626, 0.40845818566251263]\n",
      "[0.4484531700542453, 0.32900710664186955, 0.2694858726348609, 0.39146291440760816, 0.3174315870828151, 0.23872083069939282, 0.2858001406028907, 0.15053622225685018, 0.3600197612967588, 0.27031588660172867]\n",
      "[0.2482456556251185, 0.27093443987843085, 0.17773942758719186, 0.2430007791718331, 0.1354701984818234, 0.1680284431961909, 0.27093443987843085, 0.13004381385643682, 0.16499765859504037, 0.25786172858374057, 0.1734682754867398, 0.2257743889893997, 0.16740190467463206, 0.2455294790585723, 0.17274247729452427, 0.20614678291306435, 0.25786172858374057, 0.3019892714489753, 0.31907970634175514, 0.20614678291306435]\n",
      "[0.2875428164805089, 0.2582469824372974, 0.31320360888127197, 0.39764239879666713, 0.34786957272267366, 0.33248622491085744, 0.36560287454711077, 0.32319015326459344, 0.35317698168119]\n",
      "[0.2037253259870035, 0.2839449382895807, 0.2839449382895807, 0.27062731663155015, 0.13235993696534845, 0.16446734267165916, 0.21776485135088802, 0.2839449382895807, 0.2037253259870035, 0.2839449382895807, 0.23841168909288102, 0.2839449382895807, 0.26117831369123085, 0.26117831369123085, 0.09531429632640924, 0.2839449382895807, 0.1662431965801204, 0.1949982267525382]\n",
      "[0.5398995683335397, 0.4230002489773382, 0.5145771300195762, 0.5145771300195762]\n",
      "[0.8040025305827695, 0.5946258746611206]\n",
      "[0.4410661838386148, 0.3485470258917128, 0.4916217206567357, 0.41978453767447194, 0.5158145189154947]\n",
      "[0.38026510580790834, 0.39897802389738357, 0.17058417046518465, 0.22703080936227504, 0.23109711259536922, 0.3669880791292908, 0.21198112002523764, 0.38026510580790834, 0.26071978285026876, 0.25958017594555943, 0.3203009422562756]\n",
      "[0.42200745004818085, 0.22826384880376513, 0.43727498731031383, 0.1883010836147079, 0.30539883477418656, 0.43727498731031383, 0.2556040507368647, 0.37337910566575305, 0.23219682320371737]\n",
      "[0.3630289430592774, 0.3166348421005863, 0.3420580636929041, 0.20238454847138787, 0.22850948679508568, 0.22819748958700065, 0.23375952790160687, 0.3350585011765899, 0.24478560152951193, 0.2341049887438944, 0.47335568708562337]\n",
      "[0.2087014048951695, 0.25544140136866433, 0.19829365479060726, 0.2210616981526052, 0.2876814969284743, 0.3160243502794038, 0.15113630744080056, 0.16477885277816096, 0.2299861069773307, 0.1704128413158759, 0.2518834979867487, 0.19153354169485282, 0.16417603949253512, 0.24275913720381206, 0.234183644983672, 0.29680585771141094, 0.11865962437059137, 0.15894094314185156, 0.2299861069773307, 0.2593386435775448]\n",
      "[0.5778690687483462, 0.37698492934150957, 0.6132970379049507, 0.3844690439168147]\n",
      "[0.40766995294731073, 0.2807619377062125, 0.3533130493036718, 0.24710498178772003, 0.3390791773057336, 0.38239543208480287, 0.24459924201639394, 0.40766995294731073, 0.28611610628223766]\n"
     ]
    }
   ],
   "source": [
    "for row in range(20):\n",
    "    print([tfidf_score[row,i] for i in range(tfidf_score.shape[1]) if tfidf_score[row,i]!=0])"
   ]
  },
  {
   "cell_type": "markdown",
   "metadata": {},
   "source": [
    "### tf means relative term frequency of the term in the entire document\n",
    "total term freq. in this email / total frequency of all the term in entire document; \n",
    "A word 'cat' has a frequency of 3 in email-1, and total number of words in this email (which will be equal to row sum of frequencies in the bag of words model) is 100\n",
    "Term freq = 3/100\n",
    "The importance of the word is high when it's relative frequency in the document is high\n",
    "\n",
    "### IDF - Inverse document frequency\n",
    "10 mn documents and the word cat appears in 1000 of these documents\n",
    "IDF = log(10,000,000/ 1000) = 4\n",
    "A word occurring in all the documents is a less important word for our analysis because perhaps the entire corpus of emails is discussing about the cats\n",
    "A word occurring in less number of emails and having high term frequency is an important word \n",
    "TFIDF = TF*IDF = .03*4 = .12\n",
    "\n",
    "TFIDF Score is directly proportional to the relative frequency of the term and inversely proportional to the document frequency\n",
    "TFIDF score gives us the relative importance of the word"
   ]
  },
  {
   "cell_type": "code",
   "execution_count": 76,
   "metadata": {},
   "outputs": [],
   "source": [
    "from sklearn.naive_bayes import MultinomialNB"
   ]
  },
  {
   "cell_type": "code",
   "execution_count": 77,
   "metadata": {},
   "outputs": [],
   "source": [
    "X_train = tfidf_score\n",
    "nb = MultinomialNB()"
   ]
  },
  {
   "cell_type": "code",
   "execution_count": 78,
   "metadata": {},
   "outputs": [
    {
     "data": {
      "text/plain": [
       "MultinomialNB(alpha=1.0, class_prior=None, fit_prior=True)"
      ]
     },
     "execution_count": 78,
     "metadata": {},
     "output_type": "execute_result"
    }
   ],
   "source": [
    "nb.fit(X_train, y_train)"
   ]
  },
  {
   "cell_type": "code",
   "execution_count": 79,
   "metadata": {},
   "outputs": [
    {
     "data": {
      "text/plain": [
       "0.9775065805216558"
      ]
     },
     "execution_count": 79,
     "metadata": {},
     "output_type": "execute_result"
    }
   ],
   "source": [
    "nb.score(X_train, y_train)"
   ]
  },
  {
   "cell_type": "code",
   "execution_count": 81,
   "metadata": {},
   "outputs": [
    {
     "data": {
      "text/html": [
       "<div>\n",
       "<style scoped>\n",
       "    .dataframe tbody tr th:only-of-type {\n",
       "        vertical-align: middle;\n",
       "    }\n",
       "\n",
       "    .dataframe tbody tr th {\n",
       "        vertical-align: top;\n",
       "    }\n",
       "\n",
       "    .dataframe thead th {\n",
       "        text-align: right;\n",
       "    }\n",
       "</style>\n",
       "<table border=\"1\" class=\"dataframe\">\n",
       "  <thead>\n",
       "    <tr style=\"text-align: right;\">\n",
       "      <th></th>\n",
       "      <th>message</th>\n",
       "    </tr>\n",
       "  </thead>\n",
       "  <tbody>\n",
       "    <tr>\n",
       "      <th>1078</th>\n",
       "      <td>Yep, by the pretty sculpture</td>\n",
       "    </tr>\n",
       "    <tr>\n",
       "      <th>4028</th>\n",
       "      <td>Yes, princess. Are you going to make me moan?</td>\n",
       "    </tr>\n",
       "  </tbody>\n",
       "</table>\n",
       "</div>"
      ],
      "text/plain": [
       "                                            message\n",
       "1078                   Yep, by the pretty sculpture\n",
       "4028  Yes, princess. Are you going to make me moan?"
      ]
     },
     "execution_count": 81,
     "metadata": {},
     "output_type": "execute_result"
    }
   ],
   "source": [
    "X_test[:2]"
   ]
  },
  {
   "cell_type": "code",
   "execution_count": 82,
   "metadata": {},
   "outputs": [],
   "source": [
    "test_bows = bow.transform(X_test.message)"
   ]
  },
  {
   "cell_type": "code",
   "execution_count": 84,
   "metadata": {},
   "outputs": [
    {
     "data": {
      "text/plain": [
       "array([[0, 0, 0, ..., 0, 0, 0],\n",
       "       [0, 0, 0, ..., 0, 0, 0],\n",
       "       [0, 0, 0, ..., 0, 0, 0],\n",
       "       ...,\n",
       "       [0, 0, 0, ..., 0, 0, 0],\n",
       "       [0, 0, 0, ..., 0, 0, 0],\n",
       "       [0, 0, 0, ..., 0, 0, 0]], dtype=int64)"
      ]
     },
     "execution_count": 84,
     "metadata": {},
     "output_type": "execute_result"
    }
   ],
   "source": [
    "test_bows.toarray()"
   ]
  },
  {
   "cell_type": "code",
   "execution_count": 85,
   "metadata": {},
   "outputs": [],
   "source": [
    "X_test_dtm=tfidf.transform(test_bows)"
   ]
  },
  {
   "cell_type": "code",
   "execution_count": 86,
   "metadata": {},
   "outputs": [
    {
     "data": {
      "text/plain": [
       "0.9676956209619526"
      ]
     },
     "execution_count": 86,
     "metadata": {},
     "output_type": "execute_result"
    }
   ],
   "source": [
    "nb.score(X_test_dtm, y_test)"
   ]
  },
  {
   "cell_type": "code",
   "execution_count": 91,
   "metadata": {},
   "outputs": [],
   "source": [
    "ypred = nb.predict(X_test_dtm)"
   ]
  },
  {
   "cell_type": "code",
   "execution_count": 92,
   "metadata": {},
   "outputs": [
    {
     "data": {
      "text/plain": [
       "ham     3617\n",
       "spam     562\n",
       "Name: response, dtype: int64"
      ]
     },
     "execution_count": 92,
     "metadata": {},
     "output_type": "execute_result"
    }
   ],
   "source": [
    "y_train.value_counts()"
   ]
  },
  {
   "cell_type": "code",
   "execution_count": 95,
   "metadata": {},
   "outputs": [
    {
     "data": {
      "text/html": [
       "<div>\n",
       "<style scoped>\n",
       "    .dataframe tbody tr th:only-of-type {\n",
       "        vertical-align: middle;\n",
       "    }\n",
       "\n",
       "    .dataframe tbody tr th {\n",
       "        vertical-align: top;\n",
       "    }\n",
       "\n",
       "    .dataframe thead th {\n",
       "        text-align: right;\n",
       "    }\n",
       "</style>\n",
       "<table border=\"1\" class=\"dataframe\">\n",
       "  <thead>\n",
       "    <tr style=\"text-align: right;\">\n",
       "      <th>col_0</th>\n",
       "      <th>ham</th>\n",
       "      <th>spam</th>\n",
       "    </tr>\n",
       "    <tr>\n",
       "      <th>response</th>\n",
       "      <th></th>\n",
       "      <th></th>\n",
       "    </tr>\n",
       "  </thead>\n",
       "  <tbody>\n",
       "    <tr>\n",
       "      <th>ham</th>\n",
       "      <td>1208</td>\n",
       "      <td>0</td>\n",
       "    </tr>\n",
       "    <tr>\n",
       "      <th>spam</th>\n",
       "      <td>45</td>\n",
       "      <td>140</td>\n",
       "    </tr>\n",
       "  </tbody>\n",
       "</table>\n",
       "</div>"
      ],
      "text/plain": [
       "col_0      ham  spam\n",
       "response            \n",
       "ham       1208     0\n",
       "spam        45   140"
      ]
     },
     "execution_count": 95,
     "metadata": {},
     "output_type": "execute_result"
    }
   ],
   "source": [
    "cm = pd.DataFrame(pd.crosstab(y_test, ypred))\n",
    "cm"
   ]
  },
  {
   "cell_type": "code",
   "execution_count": 98,
   "metadata": {},
   "outputs": [
    {
     "data": {
      "text/plain": [
       "(0.7567567567567568, 0.0)"
      ]
     },
     "execution_count": 98,
     "metadata": {},
     "output_type": "execute_result"
    }
   ],
   "source": [
    "tpr = cm.iloc[1,1]/(cm.iloc[1,0]+cm.iloc[1,1])\n",
    "fpr = cm.iloc[0,1]/(cm.iloc[0,0]+cm.iloc[0,1])\n",
    "tpr,fpr"
   ]
  },
  {
   "cell_type": "code",
   "execution_count": 99,
   "metadata": {},
   "outputs": [
    {
     "data": {
      "text/plain": [
       "<1393x7260 sparse matrix of type '<class 'numpy.float64'>'\n",
       "\twith 10736 stored elements in Compressed Sparse Row format>"
      ]
     },
     "execution_count": 99,
     "metadata": {},
     "output_type": "execute_result"
    }
   ],
   "source": [
    "X_test_dtm"
   ]
  },
  {
   "cell_type": "code",
   "execution_count": 102,
   "metadata": {},
   "outputs": [],
   "source": [
    "y_pred_prob = nb.predict_proba(X_test_dtm)[:,1]"
   ]
  },
  {
   "cell_type": "code",
   "execution_count": 103,
   "metadata": {},
   "outputs": [],
   "source": [
    "y_test = y_test.replace({'spam': 1, \"ham\":0})"
   ]
  },
  {
   "cell_type": "code",
   "execution_count": 104,
   "metadata": {},
   "outputs": [],
   "source": [
    "y_train = y_train.replace({\"spam\": 1, \"ham\":0})"
   ]
  },
  {
   "cell_type": "code",
   "execution_count": 105,
   "metadata": {},
   "outputs": [],
   "source": [
    "import matplotlib.pyplot as plt\n",
    "%matplotlib inline\n",
    "from sklearn.metrics import roc_auc_score, roc_curve"
   ]
  },
  {
   "cell_type": "code",
   "execution_count": 106,
   "metadata": {},
   "outputs": [],
   "source": [
    "fpr, tpr, t = roc_curve(y_test, y_pred_prob)"
   ]
  },
  {
   "cell_type": "code",
   "execution_count": 108,
   "metadata": {},
   "outputs": [
    {
     "name": "stdout",
     "output_type": "stream",
     "text": [
      "[0.00000000e+00 0.00000000e+00 0.00000000e+00 0.00000000e+00\n",
      " 0.00000000e+00 0.00000000e+00 0.00000000e+00 0.00000000e+00\n",
      " 0.00000000e+00 0.00000000e+00 0.00000000e+00 0.00000000e+00\n",
      " 0.00000000e+00 0.00000000e+00 0.00000000e+00 8.27814570e-04\n",
      " 8.27814570e-04 4.13907285e-03 4.13907285e-03 1.15894040e-02\n",
      " 1.15894040e-02 1.24172185e-02 1.24172185e-02 1.49006623e-02\n",
      " 1.65562914e-02 2.40066225e-02 2.40066225e-02 2.64900662e-02\n",
      " 2.64900662e-02 2.73178808e-02 2.73178808e-02 2.98013245e-02\n",
      " 3.55960265e-02 5.54635762e-02 5.54635762e-02 6.20860927e-02\n",
      " 6.20860927e-02 6.29139073e-02 6.45695364e-02 1.00165563e-01\n",
      " 1.01821192e-01 1.16721854e-01 1.16721854e-01 1.32450331e-01\n",
      " 1.32450331e-01 1.49006623e-01 1.50662252e-01 1.69701987e-01\n",
      " 1.71357616e-01 2.14403974e-01 2.14403974e-01 2.61589404e-01\n",
      " 2.61589404e-01 2.67384106e-01 2.69867550e-01 2.72350993e-01\n",
      " 2.72350993e-01 3.07119205e-01 3.09602649e-01 3.23675497e-01\n",
      " 3.25331126e-01 3.78311258e-01 3.78311258e-01 3.90728477e-01\n",
      " 3.92384106e-01 3.99006623e-01 4.00662252e-01 4.16390728e-01\n",
      " 4.18046358e-01 4.38741722e-01 4.38741722e-01 4.72682119e-01\n",
      " 4.74337748e-01 4.78476821e-01 4.80132450e-01 5.91887417e-01\n",
      " 5.93543046e-01 6.24172185e-01 6.25827815e-01 6.59768212e-01\n",
      " 6.61423841e-01 6.91225166e-01 6.93708609e-01 7.10264901e-01\n",
      " 7.11920530e-01 7.33443709e-01 7.35099338e-01 7.54966887e-01\n",
      " 7.59933775e-01 7.64900662e-01 7.66556291e-01 9.31291391e-01\n",
      " 9.39569536e-01 9.47847682e-01 9.49503311e-01 9.56125828e-01\n",
      " 9.57781457e-01 1.00000000e+00]\n",
      "\n",
      "[0.         0.00540541 0.03783784 0.04864865 0.0972973  0.10810811\n",
      " 0.41621622 0.42702703 0.65945946 0.67027027 0.6972973  0.71891892\n",
      " 0.78918919 0.8        0.88648649 0.88648649 0.89189189 0.89189189\n",
      " 0.9027027  0.9027027  0.91891892 0.91891892 0.92972973 0.92972973\n",
      " 0.92972973 0.92972973 0.94054054 0.94054054 0.94594595 0.94594595\n",
      " 0.95135135 0.95135135 0.95135135 0.95135135 0.95675676 0.95675676\n",
      " 0.96216216 0.96216216 0.96216216 0.96216216 0.96216216 0.96216216\n",
      " 0.96756757 0.96756757 0.97297297 0.97297297 0.97297297 0.97297297\n",
      " 0.97297297 0.97297297 0.97837838 0.97837838 0.98378378 0.98378378\n",
      " 0.98378378 0.98378378 0.98918919 0.98918919 0.98918919 0.98918919\n",
      " 0.98918919 0.98918919 0.99459459 0.99459459 0.99459459 0.99459459\n",
      " 0.99459459 0.99459459 0.99459459 0.99459459 1.         1.\n",
      " 1.         1.         1.         1.         1.         1.\n",
      " 1.         1.         1.         1.         1.         1.\n",
      " 1.         1.         1.         1.         1.         1.\n",
      " 1.         1.         1.         1.         1.         1.\n",
      " 1.         1.        ]\n",
      "\n",
      "[1.99566254e+00 9.95662539e-01 9.92146914e-01 9.91069132e-01\n",
      " 9.77816271e-01 9.77392473e-01 8.66413641e-01 8.58469470e-01\n",
      " 6.01303409e-01 5.98197634e-01 5.65547181e-01 5.60202126e-01\n",
      " 4.47215801e-01 4.41348322e-01 2.67342367e-01 2.65700895e-01\n",
      " 2.48478097e-01 2.25469306e-01 2.12908439e-01 1.84276562e-01\n",
      " 1.81684513e-01 1.81486531e-01 1.71614860e-01 1.67708469e-01\n",
      " 1.67296482e-01 1.51701017e-01 1.48172296e-01 1.41975945e-01\n",
      " 1.40322867e-01 1.38396214e-01 1.37387989e-01 1.35079812e-01\n",
      " 1.34481933e-01 1.04037595e-01 1.03507503e-01 9.87156857e-02\n",
      " 9.55506973e-02 9.52853880e-02 9.41621355e-02 7.42267379e-02\n",
      " 7.39352991e-02 6.93891099e-02 6.90903103e-02 6.25151590e-02\n",
      " 6.24505146e-02 5.82393479e-02 5.80041785e-02 5.16363164e-02\n",
      " 5.14855617e-02 4.21202278e-02 4.17885764e-02 3.48338593e-02\n",
      " 3.48113415e-02 3.40634458e-02 3.40503129e-02 3.37571653e-02\n",
      " 3.36010397e-02 2.91496341e-02 2.90570020e-02 2.76993915e-02\n",
      " 2.76606287e-02 2.32939848e-02 2.32043290e-02 2.16315340e-02\n",
      " 2.15883274e-02 2.12740728e-02 2.12323623e-02 2.00100133e-02\n",
      " 1.99617503e-02 1.81656195e-02 1.81299317e-02 1.58217092e-02\n",
      " 1.58032743e-02 1.56564779e-02 1.55635896e-02 1.02988296e-02\n",
      " 1.02934464e-02 9.18576153e-03 9.13250665e-03 7.89686842e-03\n",
      " 7.86548711e-03 7.06557084e-03 7.05740841e-03 6.68438973e-03\n",
      " 6.66232349e-03 6.09975130e-03 6.09446281e-03 5.72805715e-03\n",
      " 5.69696779e-03 5.56841735e-03 5.45813093e-03 1.75543120e-03\n",
      " 1.74260671e-03 1.60160736e-03 1.59639294e-03 1.51681596e-03\n",
      " 1.44801874e-03 2.66241956e-04]\n"
     ]
    }
   ],
   "source": [
    "print(fpr)\n",
    "print()\n",
    "print(tpr)\n",
    "print()\n",
    "print(t)"
   ]
  },
  {
   "cell_type": "code",
   "execution_count": 109,
   "metadata": {},
   "outputs": [
    {
     "data": {
      "text/plain": [
       "[<matplotlib.lines.Line2D at 0x2c4e40bfa90>]"
      ]
     },
     "execution_count": 109,
     "metadata": {},
     "output_type": "execute_result"
    },
    {
     "data": {
      "image/png": "[encoded data removed]",
      "text/plain": [
       "<Figure size 432x288 with 1 Axes>"
      ]
     },
     "metadata": {
      "needs_background": "light"
     },
     "output_type": "display_data"
    }
   ],
   "source": [
    "plt.plot(fpr, tpr)"
   ]
  },
  {
   "cell_type": "code",
   "execution_count": 110,
   "metadata": {},
   "outputs": [],
   "source": [
    "auc = roc_auc_score(y_test, y_pred_prob)"
   ]
  },
  {
   "cell_type": "code",
   "execution_count": 111,
   "metadata": {},
   "outputs": [
    {
     "data": {
      "text/plain": [
       "0.9886343296939324"
      ]
     },
     "execution_count": 111,
     "metadata": {},
     "output_type": "execute_result"
    }
   ],
   "source": [
    "auc"
   ]
  }
 ],
 "metadata": {
  "kernelspec": {
   "display_name": "Python 3",
   "language": "python",
   "name": "python3"
  },
  "language_info": {
   "codemirror_mode": {
    "name": "ipython",
    "version": 3
   },
   "file_extension": ".py",
   "mimetype": "text/x-python",
   "name": "python",
   "nbconvert_exporter": "python",
   "pygments_lexer": "ipython3",
   "version": "3.6.8"
  }
 },
 "nbformat": 4,
 "nbformat_minor": 2
}
