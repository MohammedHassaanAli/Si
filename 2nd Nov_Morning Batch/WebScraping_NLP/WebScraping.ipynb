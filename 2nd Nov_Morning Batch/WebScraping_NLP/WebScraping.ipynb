{
 "cells": [
  {
   "cell_type": "code",
   "execution_count": 1,
   "metadata": {},
   "outputs": [],
   "source": [
    "html=['<html><heading style=\"font-size:20px\"><i>This is the title<br><br></i></heading>',\n",
    "     '<body><b>This is the body</b><p id=\"para1\">This is para1<a href=\"www.google.com\">Google</a></p>',\n",
    "     '<p id=\"para2\">This is para 2</p></body></html>']"
   ]
  },
  {
   "cell_type": "code",
   "execution_count": 2,
   "metadata": {},
   "outputs": [],
   "source": [
    "html = \"\".join(html)"
   ]
  },
  {
   "cell_type": "code",
   "execution_count": 3,
   "metadata": {},
   "outputs": [
    {
     "data": {
      "text/plain": [
       "'<html><heading style=\"font-size:20px\"><i>This is the title<br><br></i></heading><body><b>This is the body</b><p id=\"para1\">This is para1<a href=\"www.google.com\">Google</a></p><p id=\"para2\">This is para 2</p></body></html>'"
      ]
     },
     "execution_count": 3,
     "metadata": {},
     "output_type": "execute_result"
    }
   ],
   "source": [
    "html"
   ]
  },
  {
   "cell_type": "code",
   "execution_count": 4,
   "metadata": {},
   "outputs": [],
   "source": [
    "from bs4 import BeautifulSoup"
   ]
  },
  {
   "cell_type": "code",
   "execution_count": 5,
   "metadata": {},
   "outputs": [],
   "source": [
    "soup = BeautifulSoup(html)"
   ]
  },
  {
   "cell_type": "code",
   "execution_count": 6,
   "metadata": {},
   "outputs": [
    {
     "name": "stdout",
     "output_type": "stream",
     "text": [
      "<html><body><heading style=\"font-size:20px\"><i>This is the title<br/><br/></i></heading><b>This is the body</b><p id=\"para1\">This is para1<a href=\"www.google.com\">Google</a></p><p id=\"para2\">This is para 2</p></body></html>\n"
     ]
    }
   ],
   "source": [
    "print(soup)"
   ]
  },
  {
   "cell_type": "code",
   "execution_count": 37,
   "metadata": {},
   "outputs": [],
   "source": [
    "#print(soup.prettify())"
   ]
  },
  {
   "cell_type": "code",
   "execution_count": 8,
   "metadata": {},
   "outputs": [
    {
     "data": {
      "text/plain": [
       "<html><body><heading style=\"font-size:20px\"><i>This is the title<br/><br/></i></heading><b>This is the body</b><p id=\"para1\">This is para1<a href=\"www.google.com\">Google</a></p><p id=\"para2\">This is para 2</p></body></html>"
      ]
     },
     "execution_count": 8,
     "metadata": {},
     "output_type": "execute_result"
    }
   ],
   "source": [
    "soup.html"
   ]
  },
  {
   "cell_type": "code",
   "execution_count": 9,
   "metadata": {},
   "outputs": [
    {
     "data": {
      "text/plain": [
       "<body><heading style=\"font-size:20px\"><i>This is the title<br/><br/></i></heading><b>This is the body</b><p id=\"para1\">This is para1<a href=\"www.google.com\">Google</a></p><p id=\"para2\">This is para 2</p></body>"
      ]
     },
     "execution_count": 9,
     "metadata": {},
     "output_type": "execute_result"
    }
   ],
   "source": [
    "soup.body"
   ]
  },
  {
   "cell_type": "code",
   "execution_count": 10,
   "metadata": {},
   "outputs": [
    {
     "data": {
      "text/plain": [
       "<p id=\"para1\">This is para1<a href=\"www.google.com\">Google</a></p>"
      ]
     },
     "execution_count": 10,
     "metadata": {},
     "output_type": "execute_result"
    }
   ],
   "source": [
    "soup.p"
   ]
  },
  {
   "cell_type": "code",
   "execution_count": 11,
   "metadata": {},
   "outputs": [
    {
     "data": {
      "text/plain": [
       "'This is para1Google'"
      ]
     },
     "execution_count": 11,
     "metadata": {},
     "output_type": "execute_result"
    }
   ],
   "source": [
    "soup.p.text"
   ]
  },
  {
   "cell_type": "code",
   "execution_count": 12,
   "metadata": {},
   "outputs": [
    {
     "data": {
      "text/plain": [
       "<a href=\"www.google.com\">Google</a>"
      ]
     },
     "execution_count": 12,
     "metadata": {},
     "output_type": "execute_result"
    }
   ],
   "source": [
    "soup.a"
   ]
  },
  {
   "cell_type": "code",
   "execution_count": 13,
   "metadata": {},
   "outputs": [
    {
     "data": {
      "text/plain": [
       "['Google']"
      ]
     },
     "execution_count": 13,
     "metadata": {},
     "output_type": "execute_result"
    }
   ],
   "source": [
    "soup.a.contents"
   ]
  },
  {
   "cell_type": "code",
   "execution_count": 14,
   "metadata": {},
   "outputs": [
    {
     "data": {
      "text/plain": [
       "['This is para1', <a href=\"www.google.com\">Google</a>]"
      ]
     },
     "execution_count": 14,
     "metadata": {},
     "output_type": "execute_result"
    }
   ],
   "source": [
    "soup.p.contents"
   ]
  },
  {
   "cell_type": "code",
   "execution_count": 18,
   "metadata": {},
   "outputs": [
    {
     "data": {
      "text/plain": [
       "<p id=\"para2\">This is para 2</p>"
      ]
     },
     "execution_count": 18,
     "metadata": {},
     "output_type": "execute_result"
    }
   ],
   "source": [
    "soup.p.next_sibling"
   ]
  },
  {
   "cell_type": "code",
   "execution_count": 19,
   "metadata": {},
   "outputs": [
    {
     "data": {
      "text/plain": [
       "<body><heading style=\"font-size:20px\"><i>This is the title<br/><br/></i></heading><b>This is the body</b><p id=\"para1\">This is para1<a href=\"www.google.com\">Google</a></p><p id=\"para2\">This is para 2</p></body>"
      ]
     },
     "execution_count": 19,
     "metadata": {},
     "output_type": "execute_result"
    }
   ],
   "source": [
    "soup.p.parent"
   ]
  },
  {
   "cell_type": "code",
   "execution_count": 22,
   "metadata": {},
   "outputs": [],
   "source": [
    "x = soup.find('p') #to find the first p tag"
   ]
  },
  {
   "cell_type": "code",
   "execution_count": 21,
   "metadata": {},
   "outputs": [
    {
     "data": {
      "text/plain": [
       "[<p id=\"para1\">This is para1<a href=\"www.google.com\">Google</a></p>,\n",
       " <p id=\"para2\">This is para 2</p>]"
      ]
     },
     "execution_count": 21,
     "metadata": {},
     "output_type": "execute_result"
    }
   ],
   "source": [
    "soup.find_all(\"p\")"
   ]
  },
  {
   "cell_type": "code",
   "execution_count": 24,
   "metadata": {},
   "outputs": [
    {
     "data": {
      "text/plain": [
       "'www.google.com'"
      ]
     },
     "execution_count": 24,
     "metadata": {},
     "output_type": "execute_result"
    }
   ],
   "source": [
    "x.find(\"a\")[\"href\"]"
   ]
  },
  {
   "cell_type": "code",
   "execution_count": 26,
   "metadata": {},
   "outputs": [
    {
     "data": {
      "text/plain": [
       "'www.google.com'"
      ]
     },
     "execution_count": 26,
     "metadata": {},
     "output_type": "execute_result"
    }
   ],
   "source": [
    "soup.find(\"a\").get(\"href\")"
   ]
  },
  {
   "cell_type": "code",
   "execution_count": 27,
   "metadata": {},
   "outputs": [
    {
     "data": {
      "text/plain": [
       "bs4.element.Tag"
      ]
     },
     "execution_count": 27,
     "metadata": {},
     "output_type": "execute_result"
    }
   ],
   "source": [
    "type(x)"
   ]
  },
  {
   "cell_type": "code",
   "execution_count": 28,
   "metadata": {},
   "outputs": [],
   "source": [
    "url = \"https://en.wikipedia.org/wiki/India\""
   ]
  },
  {
   "cell_type": "code",
   "execution_count": 29,
   "metadata": {},
   "outputs": [],
   "source": [
    "import requests"
   ]
  },
  {
   "cell_type": "code",
   "execution_count": 34,
   "metadata": {},
   "outputs": [],
   "source": [
    "r = requests.get(url)\n",
    "#r.text"
   ]
  },
  {
   "cell_type": "code",
   "execution_count": 31,
   "metadata": {},
   "outputs": [],
   "source": [
    "from bs4 import BeautifulSoup"
   ]
  },
  {
   "cell_type": "code",
   "execution_count": 35,
   "metadata": {},
   "outputs": [],
   "source": [
    "soup = BeautifulSoup(r.text)"
   ]
  },
  {
   "cell_type": "code",
   "execution_count": 38,
   "metadata": {},
   "outputs": [],
   "source": [
    "#print(soup.prettify())"
   ]
  },
  {
   "cell_type": "code",
   "execution_count": 42,
   "metadata": {},
   "outputs": [
    {
     "data": {
      "text/plain": [
       "[<a id=\"top\"></a>,\n",
       " <a href=\"/wiki/Wikipedia:Featured_articles\" title=\"This is a featured article. Click here for more information.\"><img alt=\"This is a featured article. Click here for more information.\" data-file-height=\"438\" data-file-width=\"462\" decoding=\"async\" height=\"19\" src=\"//upload.wikimedia.org/wikipedia/en/thumb/e/e7/Cscr-featured.svg/20px-Cscr-featured.svg.png\" srcset=\"//upload.wikimedia.org/wikipedia/en/thumb/e/e7/Cscr-featured.svg/30px-Cscr-featured.svg.png 1.5x, //upload.wikimedia.org/wikipedia/en/thumb/e/e7/Cscr-featured.svg/40px-Cscr-featured.svg.png 2x\" width=\"20\"/></a>,\n",
       " <a href=\"/wiki/Wikipedia:Protection_policy#extended\" title=\"This article is extended-confirmed protected\"><img alt=\"Extended-protected article\" data-file-height=\"512\" data-file-width=\"512\" decoding=\"async\" height=\"20\" src=\"//upload.wikimedia.org/wikipedia/en/thumb/8/8c/Extended-protection-shackle.svg/20px-Extended-protection-shackle.svg.png\" srcset=\"//upload.wikimedia.org/wikipedia/en/thumb/8/8c/Extended-protection-shackle.svg/30px-Extended-protection-shackle.svg.png 1.5x, //upload.wikimedia.org/wikipedia/en/thumb/8/8c/Extended-protection-shackle.svg/40px-Extended-protection-shackle.svg.png 2x\" width=\"20\"/></a>]"
      ]
     },
     "execution_count": 42,
     "metadata": {},
     "output_type": "execute_result"
    }
   ],
   "source": [
    "x = soup.find_all(\"a\")\n",
    "x[:3]"
   ]
  },
  {
   "cell_type": "code",
   "execution_count": 46,
   "metadata": {},
   "outputs": [],
   "source": [
    "links = []\n",
    "for each in x:\n",
    "    links.append(each.get(\"href\"))"
   ]
  },
  {
   "cell_type": "code",
   "execution_count": 47,
   "metadata": {},
   "outputs": [
    {
     "data": {
      "text/plain": [
       "[None,\n",
       " '/wiki/Wikipedia:Featured_articles',\n",
       " '/wiki/Wikipedia:Protection_policy#extended',\n",
       " '#mw-head']"
      ]
     },
     "execution_count": 47,
     "metadata": {},
     "output_type": "execute_result"
    }
   ],
   "source": [
    "links[:4]"
   ]
  },
  {
   "cell_type": "markdown",
   "metadata": {},
   "source": [
    "-----"
   ]
  },
  {
   "cell_type": "code",
   "execution_count": 48,
   "metadata": {},
   "outputs": [],
   "source": [
    "url = \"https://www.amazon.in/Amazon-Echo-2nd-Gen-Powered/product-reviews/B0725W7Q38/ref=cm_cr_dp_d_show_all_btm?ie=UTF8&reviewerType=all_reviews\""
   ]
  },
  {
   "cell_type": "code",
   "execution_count": 49,
   "metadata": {},
   "outputs": [],
   "source": [
    "r = requests.get(url)"
   ]
  },
  {
   "cell_type": "code",
   "execution_count": 50,
   "metadata": {},
   "outputs": [],
   "source": [
    "soup = BeautifulSoup(r.text)"
   ]
  },
  {
   "cell_type": "code",
   "execution_count": 52,
   "metadata": {},
   "outputs": [],
   "source": [
    "#print(soup.prettify())"
   ]
  },
  {
   "cell_type": "code",
   "execution_count": 55,
   "metadata": {},
   "outputs": [],
   "source": [
    "lst = soup.find_all(\"span\", {\"class\":\"a-icon-alt\"})"
   ]
  },
  {
   "cell_type": "code",
   "execution_count": 61,
   "metadata": {},
   "outputs": [],
   "source": [
    "star = []\n",
    "for each in lst:\n",
    "    star.append(float(each.text[:3]))"
   ]
  },
  {
   "cell_type": "code",
   "execution_count": 63,
   "metadata": {},
   "outputs": [
    {
     "data": {
      "text/plain": [
       "18"
      ]
     },
     "execution_count": 63,
     "metadata": {},
     "output_type": "execute_result"
    }
   ],
   "source": [
    "len(star)"
   ]
  },
  {
   "cell_type": "code",
   "execution_count": 71,
   "metadata": {},
   "outputs": [],
   "source": [
    "ob = soup.find(\"div\", {\"id\":\"cm_cr-review_list\", \"class\":\"a-section a-spacing-none review-views celwidget\"})"
   ]
  },
  {
   "cell_type": "code",
   "execution_count": 72,
   "metadata": {},
   "outputs": [
    {
     "data": {
      "text/plain": [
       "bs4.element.Tag"
      ]
     },
     "execution_count": 72,
     "metadata": {},
     "output_type": "execute_result"
    }
   ],
   "source": [
    "type(ob)"
   ]
  },
  {
   "cell_type": "code",
   "execution_count": 73,
   "metadata": {},
   "outputs": [
    {
     "data": {
      "text/plain": [
       "[<span class=\"a-icon-alt\">4.0 out of 5 stars</span>,\n",
       " <span class=\"a-icon-alt\">1.0 out of 5 stars</span>,\n",
       " <span class=\"a-icon-alt\">5.0 out of 5 stars</span>,\n",
       " <span class=\"a-icon-alt\">1.0 out of 5 stars</span>,\n",
       " <span class=\"a-icon-alt\">5.0 out of 5 stars</span>,\n",
       " <span class=\"a-icon-alt\">5.0 out of 5 stars</span>,\n",
       " <span class=\"a-icon-alt\">1.0 out of 5 stars</span>,\n",
       " <span class=\"a-icon-alt\">4.0 out of 5 stars</span>,\n",
       " <span class=\"a-icon-alt\">5.0 out of 5 stars</span>,\n",
       " <span class=\"a-icon-alt\">3.0 out of 5 stars</span>]"
      ]
     },
     "execution_count": 73,
     "metadata": {},
     "output_type": "execute_result"
    }
   ],
   "source": [
    "ob.find_all(\"span\", {\"class\":\"a-icon-alt\"})"
   ]
  },
  {
   "cell_type": "code",
   "execution_count": 75,
   "metadata": {},
   "outputs": [],
   "source": [
    "lst = ob.find_all(\"span\",{\"data-hook\":\"review-body\"})"
   ]
  },
  {
   "cell_type": "code",
   "execution_count": 78,
   "metadata": {},
   "outputs": [],
   "source": [
    "reviews = []\n",
    "for review in lst:\n",
    "    reviews.append(review.text)"
   ]
  },
  {
   "cell_type": "code",
   "execution_count": 79,
   "metadata": {},
   "outputs": [
    {
     "data": {
      "text/plain": [
       "[\"Nice device. Like the sound quality. Like the way it understand our language. However sometimes, don't like the responses it gives when asked to play some songs. When there are multiple songs with similar lyrics it does play the one I want. It does not give options which one I actually intended to listen, just plays the search output it found. When I say 'Alexa Play Tera ghat by gajendra Verma' it plays someother songs from gajendra Verma playlist  but not the song I wanted. Sometimes it plays a different song with lyric Tera ghata( old Hindi songs). Aurracry in song results is not that great (most of the times it gets it right). I really want Alexa to integrate with gaana, however it has only tie ups with saavan and Amazon music.Like the religious skills integration. You can ask it to play from Bible, bhagwat geetha, Quran for as long as u want.Like the news integrations with flash briefings options.Booking cabs with ola Uber finding latest movies being played around u etc are also great. quiet often i use Alexa to tell me word meanings. Also like to play medication and healing music  at times. Nice welcome addition to family for sure .\\nNice device. Like the sound quality. Like the way it understand our language. However sometimes, don't like the responses it gives when asked to play some songs. When there are multiple songs with similar lyrics it does play the one I want. It does not give options which one I actually intended to listen, just plays the search output it found. When I say 'Alexa Play Tera ghat by gajendra Verma' it plays someother songs from gajendra Verma playlist  but not the song I wanted. Sometimes it plays a different song with lyric Tera ghata( old Hindi songs). Aurracry in song results is not that great (most of the times it gets it right). I really want Alexa to integrate with gaana, however it has only tie ups with saavan and Amazon music.Like the religious skills integration. You can ask it to play from Bible, bhagwat geetha, Quran for as long as u want.Like the news integrations with flash briefings options.Booking cabs with ola Uber finding latest movies being played around u etc are also great. quiet often i use Alexa to tell me word meanings. Also like to play medication and healing music  at times. Nice welcome addition to family for sure .\\n\",\n",
       " 'Not user friendly , you cant play your own songs  you play via amazon prime music. charges of 200RS/- every month. you need to be prime member 900/-RS. To Play song i need to spend 1100/-RS every month. GR8 .. when i called customer service they cancelled the call to connect the device in wifi. No power no use .. no battery backup available for this device.\\nNot user friendly , you cant play your own songs  you play via amazon prime music. charges of 200RS/- every month. you need to be prime member 900/-RS. To Play song i need to spend 1100/-RS every month. GR8 .. when i called customer service they cancelled the call to connect the device in wifi. No power no use .. no battery backup available for this device.\\n',\n",
       " 'In your lonely life if you want a magical touch of a girl, buy it ;) kiddingOverall it is a well voice commanding device to ask any genral knowledge, play song, tell a story, read a kindle book, traffic, weather, place a order on amazon, order food on zomato and whats not!!!\\nIn your lonely life if you want a magical touch of a girl, buy it ;) kiddingOverall it is a well voice commanding device to ask any genral knowledge, play song, tell a story, read a kindle book, traffic, weather, place a order on amazon, order food on zomato and whats not!!!\\n',\n",
       " 'Product stopped working after just 1 day. It was not starting up, even after properly connected for power supply. Ordered for replacement\\nProduct stopped working after just 1 day. It was not starting up, even after properly connected for power supply. Ordered for replacement\\n',\n",
       " 'Xcellent prod i love this, well packed. Xcellent sound clarity but only plays music from Amazon Music rest g8t.Amazon: you guys need to update with huge film library and add few filters so that we can select local language\\nXcellent prod i love this, well packed. Xcellent sound clarity but only plays music from Amazon Music rest g8t.Amazon: you guys need to update with huge film library and add few filters so that we can select local language\\n',\n",
       " 'This device is Awesome... If a person is tech savvy then Alexa is everything. Keep adding skills and it works fantastic.Simple to operate. Sound quality is Amazing\\nThis device is Awesome... If a person is tech savvy then Alexa is everything. Keep adding skills and it works fantastic.Simple to operate. Sound quality is Amazing\\n',\n",
       " 'Sound quality has deteriorated after a week of usage, and also facing speaker volume issue. Would like to get it replaced, if possible.\\nSound quality has deteriorated after a week of usage, and also facing speaker volume issue. Would like to get it replaced, if possible.\\n',\n",
       " 'This is simply awesome. Microphones are really working amazing. I can say \"Alexa\" from next room and she catches it. However, the music library is limited. The skill usage is tedious. Amazon could think of improving on these aspects.\\nThis is simply awesome. Microphones are really working amazing. I can say \"Alexa\" from next room and she catches it. However, the music library is limited. The skill usage is tedious. Amazon could think of improving on these aspects.\\n',\n",
       " 'Have been using it for a year. No issues whatsoever. Very sturdy, Great Quality, highly recommended.Alexa is learning new stuff daily. Everyone at home loves it.\\nHave been using it for a year. No issues whatsoever. Very sturdy, Great Quality, highly recommended.Alexa is learning new stuff daily. Everyone at home loves it.\\n',\n",
       " 'Received the product on time!! Started using it. The main disadvantage I found is that it should be plugged Everytime to use it not has a battery to work in. Sound clarity is not good if we raise the volume. Alexa has many functions and its feels good to have a personal assistant. But the sound features are not good as expected. Feel like returning the product.. I would recommend if people are looking for Bluetooth speakers that can be carried to functions and small parties Bose speakers are the best option ever!\\nReceived the product on time!! Started using it. The main disadvantage I found is that it should be plugged Everytime to use it not has a battery to work in. Sound clarity is not good if we raise the volume. Alexa has many functions and its feels good to have a personal assistant. But the sound features are not good as expected. Feel like returning the product.. I would recommend if people are looking for Bluetooth speakers that can be carried to functions and small parties Bose speakers are the best option ever!\\n']"
      ]
     },
     "execution_count": 79,
     "metadata": {},
     "output_type": "execute_result"
    }
   ],
   "source": [
    "reviews"
   ]
  },
  {
   "cell_type": "code",
   "execution_count": null,
   "metadata": {},
   "outputs": [],
   "source": [
    "#Find the price and star ratings of the products in the right panel \n",
    "#and create a df product, star rating and price"
   ]
  }
 ],
 "metadata": {
  "kernelspec": {
   "display_name": "Python 3",
   "language": "python",
   "name": "python3"
  },
  "language_info": {
   "codemirror_mode": {
    "name": "ipython",
    "version": 3
   },
   "file_extension": ".py",
   "mimetype": "text/x-python",
   "name": "python",
   "nbconvert_exporter": "python",
   "pygments_lexer": "ipython3",
   "version": "3.7.3"
  }
 },
 "nbformat": 4,
 "nbformat_minor": 2
}
