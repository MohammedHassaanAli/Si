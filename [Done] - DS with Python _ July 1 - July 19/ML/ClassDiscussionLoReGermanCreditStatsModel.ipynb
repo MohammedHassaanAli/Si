{
 "cells": [
  {
   "cell_type": "code",
   "execution_count": 1,
   "metadata": {},
   "outputs": [],
   "source": [
    "import pandas as pd\n",
    "import numpy as np\n",
    "import warnings\n",
    "warnings.filterwarnings(action = \"ignore\")\n",
    "gc = pd.read_csv(r\"C:\\Users\\Vaibhav\\Desktop\\BA\\Datasets\\German_credit_classification.csv\")"
   ]
  },
  {
   "cell_type": "code",
   "execution_count": 2,
   "metadata": {},
   "outputs": [
    {
     "data": {
      "text/html": [
       "<div>\n",
       "<style scoped>\n",
       "    .dataframe tbody tr th:only-of-type {\n",
       "        vertical-align: middle;\n",
       "    }\n",
       "\n",
       "    .dataframe tbody tr th {\n",
       "        vertical-align: top;\n",
       "    }\n",
       "\n",
       "    .dataframe thead th {\n",
       "        text-align: right;\n",
       "    }\n",
       "</style>\n",
       "<table border=\"1\" class=\"dataframe\">\n",
       "  <thead>\n",
       "    <tr style=\"text-align: right;\">\n",
       "      <th></th>\n",
       "      <th>Default</th>\n",
       "      <th>checkingstatus1</th>\n",
       "      <th>duration</th>\n",
       "      <th>history</th>\n",
       "      <th>purpose</th>\n",
       "      <th>amount</th>\n",
       "      <th>savings</th>\n",
       "      <th>employ</th>\n",
       "      <th>installment</th>\n",
       "      <th>status</th>\n",
       "      <th>...</th>\n",
       "      <th>residence</th>\n",
       "      <th>property</th>\n",
       "      <th>age</th>\n",
       "      <th>otherplans</th>\n",
       "      <th>housing</th>\n",
       "      <th>cards</th>\n",
       "      <th>job</th>\n",
       "      <th>liable</th>\n",
       "      <th>tele</th>\n",
       "      <th>foreign</th>\n",
       "    </tr>\n",
       "  </thead>\n",
       "  <tbody>\n",
       "    <tr>\n",
       "      <th>0</th>\n",
       "      <td>0</td>\n",
       "      <td>A11</td>\n",
       "      <td>6</td>\n",
       "      <td>A34</td>\n",
       "      <td>A43</td>\n",
       "      <td>1169</td>\n",
       "      <td>A65</td>\n",
       "      <td>A75</td>\n",
       "      <td>4</td>\n",
       "      <td>A93</td>\n",
       "      <td>...</td>\n",
       "      <td>4</td>\n",
       "      <td>A121</td>\n",
       "      <td>67</td>\n",
       "      <td>A143</td>\n",
       "      <td>A152</td>\n",
       "      <td>2</td>\n",
       "      <td>A173</td>\n",
       "      <td>1</td>\n",
       "      <td>A192</td>\n",
       "      <td>A201</td>\n",
       "    </tr>\n",
       "    <tr>\n",
       "      <th>1</th>\n",
       "      <td>1</td>\n",
       "      <td>A12</td>\n",
       "      <td>48</td>\n",
       "      <td>A32</td>\n",
       "      <td>A43</td>\n",
       "      <td>5951</td>\n",
       "      <td>A61</td>\n",
       "      <td>A73</td>\n",
       "      <td>2</td>\n",
       "      <td>A92</td>\n",
       "      <td>...</td>\n",
       "      <td>2</td>\n",
       "      <td>A121</td>\n",
       "      <td>22</td>\n",
       "      <td>A143</td>\n",
       "      <td>A152</td>\n",
       "      <td>1</td>\n",
       "      <td>A173</td>\n",
       "      <td>1</td>\n",
       "      <td>A191</td>\n",
       "      <td>A201</td>\n",
       "    </tr>\n",
       "    <tr>\n",
       "      <th>2</th>\n",
       "      <td>0</td>\n",
       "      <td>A14</td>\n",
       "      <td>12</td>\n",
       "      <td>A34</td>\n",
       "      <td>A46</td>\n",
       "      <td>2096</td>\n",
       "      <td>A61</td>\n",
       "      <td>A74</td>\n",
       "      <td>2</td>\n",
       "      <td>A93</td>\n",
       "      <td>...</td>\n",
       "      <td>3</td>\n",
       "      <td>A121</td>\n",
       "      <td>49</td>\n",
       "      <td>A143</td>\n",
       "      <td>A152</td>\n",
       "      <td>1</td>\n",
       "      <td>A172</td>\n",
       "      <td>2</td>\n",
       "      <td>A191</td>\n",
       "      <td>A201</td>\n",
       "    </tr>\n",
       "  </tbody>\n",
       "</table>\n",
       "<p>3 rows × 21 columns</p>\n",
       "</div>"
      ],
      "text/plain": [
       "   Default checkingstatus1  duration history purpose  amount savings employ  \\\n",
       "0        0             A11         6     A34     A43    1169     A65    A75   \n",
       "1        1             A12        48     A32     A43    5951     A61    A73   \n",
       "2        0             A14        12     A34     A46    2096     A61    A74   \n",
       "\n",
       "   installment status  ... residence  property age  otherplans housing cards  \\\n",
       "0            4    A93  ...         4      A121  67        A143    A152     2   \n",
       "1            2    A92  ...         2      A121  22        A143    A152     1   \n",
       "2            2    A93  ...         3      A121  49        A143    A152     1   \n",
       "\n",
       "    job liable  tele foreign  \n",
       "0  A173      1  A192    A201  \n",
       "1  A173      1  A191    A201  \n",
       "2  A172      2  A191    A201  \n",
       "\n",
       "[3 rows x 21 columns]"
      ]
     },
     "execution_count": 2,
     "metadata": {},
     "output_type": "execute_result"
    }
   ],
   "source": [
    "gc.head(3)"
   ]
  },
  {
   "cell_type": "code",
   "execution_count": 3,
   "metadata": {},
   "outputs": [
    {
     "data": {
      "text/plain": [
       "(2174363484288, 2174363179664)"
      ]
     },
     "execution_count": 3,
     "metadata": {},
     "output_type": "execute_result"
    }
   ],
   "source": [
    "gc1 = pd.DataFrame(gc)\n",
    "id(gc1), id(gc)"
   ]
  },
  {
   "cell_type": "code",
   "execution_count": 4,
   "metadata": {},
   "outputs": [
    {
     "data": {
      "text/plain": [
       "Default            0\n",
       "checkingstatus1    0\n",
       "duration           0\n",
       "history            0\n",
       "purpose            0\n",
       "amount             0\n",
       "savings            0\n",
       "employ             0\n",
       "installment        0\n",
       "status             0\n",
       "others             0\n",
       "residence          0\n",
       "property           0\n",
       "age                0\n",
       "otherplans         0\n",
       "housing            0\n",
       "cards              0\n",
       "job                0\n",
       "liable             0\n",
       "tele               0\n",
       "foreign            0\n",
       "dtype: int64"
      ]
     },
     "execution_count": 4,
     "metadata": {},
     "output_type": "execute_result"
    }
   ],
   "source": [
    "gc.isnull().sum()"
   ]
  },
  {
   "cell_type": "code",
   "execution_count": 5,
   "metadata": {
    "scrolled": true
   },
   "outputs": [
    {
     "data": {
      "text/html": [
       "<div>\n",
       "<style scoped>\n",
       "    .dataframe tbody tr th:only-of-type {\n",
       "        vertical-align: middle;\n",
       "    }\n",
       "\n",
       "    .dataframe tbody tr th {\n",
       "        vertical-align: top;\n",
       "    }\n",
       "\n",
       "    .dataframe thead th {\n",
       "        text-align: right;\n",
       "    }\n",
       "</style>\n",
       "<table border=\"1\" class=\"dataframe\">\n",
       "  <thead>\n",
       "    <tr style=\"text-align: right;\">\n",
       "      <th></th>\n",
       "      <th>Default</th>\n",
       "      <th>checkingstatus1</th>\n",
       "      <th>duration</th>\n",
       "      <th>history</th>\n",
       "      <th>purpose</th>\n",
       "      <th>amount</th>\n",
       "      <th>savings</th>\n",
       "      <th>employ</th>\n",
       "      <th>installment</th>\n",
       "      <th>status</th>\n",
       "      <th>...</th>\n",
       "      <th>residence</th>\n",
       "      <th>property</th>\n",
       "      <th>age</th>\n",
       "      <th>otherplans</th>\n",
       "      <th>housing</th>\n",
       "      <th>cards</th>\n",
       "      <th>job</th>\n",
       "      <th>liable</th>\n",
       "      <th>tele</th>\n",
       "      <th>foreign</th>\n",
       "    </tr>\n",
       "  </thead>\n",
       "  <tbody>\n",
       "    <tr>\n",
       "      <th>0</th>\n",
       "      <td>0</td>\n",
       "      <td>A11</td>\n",
       "      <td>6</td>\n",
       "      <td>A34</td>\n",
       "      <td>A43</td>\n",
       "      <td>1169</td>\n",
       "      <td>A65</td>\n",
       "      <td>A75</td>\n",
       "      <td>4</td>\n",
       "      <td>A93</td>\n",
       "      <td>...</td>\n",
       "      <td>4</td>\n",
       "      <td>A121</td>\n",
       "      <td>67</td>\n",
       "      <td>A143</td>\n",
       "      <td>A152</td>\n",
       "      <td>2</td>\n",
       "      <td>A173</td>\n",
       "      <td>1</td>\n",
       "      <td>A192</td>\n",
       "      <td>A201</td>\n",
       "    </tr>\n",
       "    <tr>\n",
       "      <th>1</th>\n",
       "      <td>1</td>\n",
       "      <td>A12</td>\n",
       "      <td>48</td>\n",
       "      <td>A32</td>\n",
       "      <td>A43</td>\n",
       "      <td>5951</td>\n",
       "      <td>A61</td>\n",
       "      <td>A73</td>\n",
       "      <td>2</td>\n",
       "      <td>A92</td>\n",
       "      <td>...</td>\n",
       "      <td>2</td>\n",
       "      <td>A121</td>\n",
       "      <td>22</td>\n",
       "      <td>A143</td>\n",
       "      <td>A152</td>\n",
       "      <td>1</td>\n",
       "      <td>A173</td>\n",
       "      <td>1</td>\n",
       "      <td>A191</td>\n",
       "      <td>A201</td>\n",
       "    </tr>\n",
       "    <tr>\n",
       "      <th>2</th>\n",
       "      <td>0</td>\n",
       "      <td>A14</td>\n",
       "      <td>12</td>\n",
       "      <td>A34</td>\n",
       "      <td>A46</td>\n",
       "      <td>2096</td>\n",
       "      <td>A61</td>\n",
       "      <td>A74</td>\n",
       "      <td>2</td>\n",
       "      <td>A93</td>\n",
       "      <td>...</td>\n",
       "      <td>3</td>\n",
       "      <td>A121</td>\n",
       "      <td>49</td>\n",
       "      <td>A143</td>\n",
       "      <td>A152</td>\n",
       "      <td>1</td>\n",
       "      <td>A172</td>\n",
       "      <td>2</td>\n",
       "      <td>A191</td>\n",
       "      <td>A201</td>\n",
       "    </tr>\n",
       "  </tbody>\n",
       "</table>\n",
       "<p>3 rows × 21 columns</p>\n",
       "</div>"
      ],
      "text/plain": [
       "   Default checkingstatus1  duration history purpose  amount savings employ  \\\n",
       "0        0             A11         6     A34     A43    1169     A65    A75   \n",
       "1        1             A12        48     A32     A43    5951     A61    A73   \n",
       "2        0             A14        12     A34     A46    2096     A61    A74   \n",
       "\n",
       "   installment status  ... residence  property age  otherplans housing cards  \\\n",
       "0            4    A93  ...         4      A121  67        A143    A152     2   \n",
       "1            2    A92  ...         2      A121  22        A143    A152     1   \n",
       "2            2    A93  ...         3      A121  49        A143    A152     1   \n",
       "\n",
       "    job liable  tele foreign  \n",
       "0  A173      1  A192    A201  \n",
       "1  A173      1  A191    A201  \n",
       "2  A172      2  A191    A201  \n",
       "\n",
       "[3 rows x 21 columns]"
      ]
     },
     "execution_count": 5,
     "metadata": {},
     "output_type": "execute_result"
    }
   ],
   "source": [
    "gc.head(3)"
   ]
  },
  {
   "cell_type": "code",
   "execution_count": 6,
   "metadata": {},
   "outputs": [
    {
     "data": {
      "text/html": [
       "<div>\n",
       "<style scoped>\n",
       "    .dataframe tbody tr th:only-of-type {\n",
       "        vertical-align: middle;\n",
       "    }\n",
       "\n",
       "    .dataframe tbody tr th {\n",
       "        vertical-align: top;\n",
       "    }\n",
       "\n",
       "    .dataframe thead th {\n",
       "        text-align: right;\n",
       "    }\n",
       "</style>\n",
       "<table border=\"1\" class=\"dataframe\">\n",
       "  <thead>\n",
       "    <tr style=\"text-align: right;\">\n",
       "      <th></th>\n",
       "      <th>installment</th>\n",
       "      <th>status</th>\n",
       "      <th>others</th>\n",
       "      <th>residence</th>\n",
       "      <th>property</th>\n",
       "      <th>age</th>\n",
       "      <th>otherplans</th>\n",
       "      <th>housing</th>\n",
       "      <th>cards</th>\n",
       "      <th>job</th>\n",
       "      <th>liable</th>\n",
       "      <th>tele</th>\n",
       "      <th>foreign</th>\n",
       "    </tr>\n",
       "  </thead>\n",
       "  <tbody>\n",
       "    <tr>\n",
       "      <th>0</th>\n",
       "      <td>4</td>\n",
       "      <td>A93</td>\n",
       "      <td>A101</td>\n",
       "      <td>4</td>\n",
       "      <td>A121</td>\n",
       "      <td>67</td>\n",
       "      <td>A143</td>\n",
       "      <td>A152</td>\n",
       "      <td>2</td>\n",
       "      <td>A173</td>\n",
       "      <td>1</td>\n",
       "      <td>A192</td>\n",
       "      <td>A201</td>\n",
       "    </tr>\n",
       "    <tr>\n",
       "      <th>1</th>\n",
       "      <td>2</td>\n",
       "      <td>A92</td>\n",
       "      <td>A101</td>\n",
       "      <td>2</td>\n",
       "      <td>A121</td>\n",
       "      <td>22</td>\n",
       "      <td>A143</td>\n",
       "      <td>A152</td>\n",
       "      <td>1</td>\n",
       "      <td>A173</td>\n",
       "      <td>1</td>\n",
       "      <td>A191</td>\n",
       "      <td>A201</td>\n",
       "    </tr>\n",
       "  </tbody>\n",
       "</table>\n",
       "</div>"
      ],
      "text/plain": [
       "   installment status others  residence property  age otherplans housing  \\\n",
       "0            4    A93   A101          4     A121   67       A143    A152   \n",
       "1            2    A92   A101          2     A121   22       A143    A152   \n",
       "\n",
       "   cards   job  liable  tele foreign  \n",
       "0      2  A173       1  A192    A201  \n",
       "1      1  A173       1  A191    A201  "
      ]
     },
     "execution_count": 6,
     "metadata": {},
     "output_type": "execute_result"
    }
   ],
   "source": [
    "gc.iloc[:, 8:].head(2)"
   ]
  },
  {
   "cell_type": "code",
   "execution_count": 7,
   "metadata": {},
   "outputs": [],
   "source": [
    "cat_vars = [\"checkingstatus1\", \"history\", \"purpose\", \"savings\", \"employ\", \"status\", \"others\", \"property\", \"otherplans\", \"housing\",\"job\",\"tele\", \"foreign\"]"
   ]
  },
  {
   "cell_type": "code",
   "execution_count": 8,
   "metadata": {},
   "outputs": [
    {
     "data": {
      "text/html": [
       "<div>\n",
       "<style scoped>\n",
       "    .dataframe tbody tr th:only-of-type {\n",
       "        vertical-align: middle;\n",
       "    }\n",
       "\n",
       "    .dataframe tbody tr th {\n",
       "        vertical-align: top;\n",
       "    }\n",
       "\n",
       "    .dataframe thead th {\n",
       "        text-align: right;\n",
       "    }\n",
       "</style>\n",
       "<table border=\"1\" class=\"dataframe\">\n",
       "  <thead>\n",
       "    <tr style=\"text-align: right;\">\n",
       "      <th></th>\n",
       "      <th>checkingstatus1_A12</th>\n",
       "      <th>checkingstatus1_A13</th>\n",
       "      <th>checkingstatus1_A14</th>\n",
       "    </tr>\n",
       "  </thead>\n",
       "  <tbody>\n",
       "    <tr>\n",
       "      <th>0</th>\n",
       "      <td>0</td>\n",
       "      <td>0</td>\n",
       "      <td>0</td>\n",
       "    </tr>\n",
       "    <tr>\n",
       "      <th>1</th>\n",
       "      <td>1</td>\n",
       "      <td>0</td>\n",
       "      <td>0</td>\n",
       "    </tr>\n",
       "    <tr>\n",
       "      <th>2</th>\n",
       "      <td>0</td>\n",
       "      <td>0</td>\n",
       "      <td>1</td>\n",
       "    </tr>\n",
       "  </tbody>\n",
       "</table>\n",
       "</div>"
      ],
      "text/plain": [
       "   checkingstatus1_A12  checkingstatus1_A13  checkingstatus1_A14\n",
       "0                    0                    0                    0\n",
       "1                    1                    0                    0\n",
       "2                    0                    0                    1"
      ]
     },
     "execution_count": 8,
     "metadata": {},
     "output_type": "execute_result"
    }
   ],
   "source": [
    "cat = cat_vars[0]\n",
    "dummy = pd.get_dummies(gc[cat], prefix = cat, drop_first=True)\n",
    "dummy.head(3)"
   ]
  },
  {
   "cell_type": "code",
   "execution_count": 9,
   "metadata": {},
   "outputs": [],
   "source": [
    "for cat in cat_vars:\n",
    "    dummy = pd.get_dummies(gc[cat], prefix = cat, drop_first=True,)\n",
    "    gc = pd.concat([gc,dummy], axis = 1)"
   ]
  },
  {
   "cell_type": "code",
   "execution_count": 10,
   "metadata": {},
   "outputs": [
    {
     "data": {
      "text/html": [
       "<div>\n",
       "<style scoped>\n",
       "    .dataframe tbody tr th:only-of-type {\n",
       "        vertical-align: middle;\n",
       "    }\n",
       "\n",
       "    .dataframe tbody tr th {\n",
       "        vertical-align: top;\n",
       "    }\n",
       "\n",
       "    .dataframe thead th {\n",
       "        text-align: right;\n",
       "    }\n",
       "</style>\n",
       "<table border=\"1\" class=\"dataframe\">\n",
       "  <thead>\n",
       "    <tr style=\"text-align: right;\">\n",
       "      <th></th>\n",
       "      <th>Default</th>\n",
       "      <th>checkingstatus1</th>\n",
       "      <th>duration</th>\n",
       "      <th>history</th>\n",
       "      <th>purpose</th>\n",
       "      <th>amount</th>\n",
       "      <th>savings</th>\n",
       "      <th>employ</th>\n",
       "      <th>installment</th>\n",
       "      <th>status</th>\n",
       "      <th>...</th>\n",
       "      <th>property_A124</th>\n",
       "      <th>otherplans_A142</th>\n",
       "      <th>otherplans_A143</th>\n",
       "      <th>housing_A152</th>\n",
       "      <th>housing_A153</th>\n",
       "      <th>job_A172</th>\n",
       "      <th>job_A173</th>\n",
       "      <th>job_A174</th>\n",
       "      <th>tele_A192</th>\n",
       "      <th>foreign_A202</th>\n",
       "    </tr>\n",
       "  </thead>\n",
       "  <tbody>\n",
       "    <tr>\n",
       "      <th>0</th>\n",
       "      <td>0</td>\n",
       "      <td>A11</td>\n",
       "      <td>6</td>\n",
       "      <td>A34</td>\n",
       "      <td>A43</td>\n",
       "      <td>1169</td>\n",
       "      <td>A65</td>\n",
       "      <td>A75</td>\n",
       "      <td>4</td>\n",
       "      <td>A93</td>\n",
       "      <td>...</td>\n",
       "      <td>0</td>\n",
       "      <td>0</td>\n",
       "      <td>1</td>\n",
       "      <td>1</td>\n",
       "      <td>0</td>\n",
       "      <td>0</td>\n",
       "      <td>1</td>\n",
       "      <td>0</td>\n",
       "      <td>1</td>\n",
       "      <td>0</td>\n",
       "    </tr>\n",
       "    <tr>\n",
       "      <th>1</th>\n",
       "      <td>1</td>\n",
       "      <td>A12</td>\n",
       "      <td>48</td>\n",
       "      <td>A32</td>\n",
       "      <td>A43</td>\n",
       "      <td>5951</td>\n",
       "      <td>A61</td>\n",
       "      <td>A73</td>\n",
       "      <td>2</td>\n",
       "      <td>A92</td>\n",
       "      <td>...</td>\n",
       "      <td>0</td>\n",
       "      <td>0</td>\n",
       "      <td>1</td>\n",
       "      <td>1</td>\n",
       "      <td>0</td>\n",
       "      <td>0</td>\n",
       "      <td>1</td>\n",
       "      <td>0</td>\n",
       "      <td>0</td>\n",
       "      <td>0</td>\n",
       "    </tr>\n",
       "    <tr>\n",
       "      <th>2</th>\n",
       "      <td>0</td>\n",
       "      <td>A14</td>\n",
       "      <td>12</td>\n",
       "      <td>A34</td>\n",
       "      <td>A46</td>\n",
       "      <td>2096</td>\n",
       "      <td>A61</td>\n",
       "      <td>A74</td>\n",
       "      <td>2</td>\n",
       "      <td>A93</td>\n",
       "      <td>...</td>\n",
       "      <td>0</td>\n",
       "      <td>0</td>\n",
       "      <td>1</td>\n",
       "      <td>1</td>\n",
       "      <td>0</td>\n",
       "      <td>1</td>\n",
       "      <td>0</td>\n",
       "      <td>0</td>\n",
       "      <td>0</td>\n",
       "      <td>0</td>\n",
       "    </tr>\n",
       "  </tbody>\n",
       "</table>\n",
       "<p>3 rows × 62 columns</p>\n",
       "</div>"
      ],
      "text/plain": [
       "   Default checkingstatus1  duration history purpose  amount savings employ  \\\n",
       "0        0             A11         6     A34     A43    1169     A65    A75   \n",
       "1        1             A12        48     A32     A43    5951     A61    A73   \n",
       "2        0             A14        12     A34     A46    2096     A61    A74   \n",
       "\n",
       "   installment status  ... property_A124  otherplans_A142 otherplans_A143  \\\n",
       "0            4    A93  ...             0                0               1   \n",
       "1            2    A92  ...             0                0               1   \n",
       "2            2    A93  ...             0                0               1   \n",
       "\n",
       "   housing_A152 housing_A153 job_A172  job_A173 job_A174  tele_A192  \\\n",
       "0             1            0        0         1        0          1   \n",
       "1             1            0        0         1        0          0   \n",
       "2             1            0        1         0        0          0   \n",
       "\n",
       "  foreign_A202  \n",
       "0            0  \n",
       "1            0  \n",
       "2            0  \n",
       "\n",
       "[3 rows x 62 columns]"
      ]
     },
     "execution_count": 10,
     "metadata": {},
     "output_type": "execute_result"
    }
   ],
   "source": [
    "gc.head(3)"
   ]
  },
  {
   "cell_type": "code",
   "execution_count": 11,
   "metadata": {},
   "outputs": [],
   "source": [
    "gc = gc.drop(cat_vars, axis = 1)"
   ]
  },
  {
   "cell_type": "code",
   "execution_count": 12,
   "metadata": {},
   "outputs": [
    {
     "data": {
      "text/plain": [
       "(1000, 49)"
      ]
     },
     "execution_count": 12,
     "metadata": {},
     "output_type": "execute_result"
    }
   ],
   "source": [
    "gc.shape"
   ]
  },
  {
   "cell_type": "markdown",
   "metadata": {},
   "source": [
    "----"
   ]
  },
  {
   "cell_type": "code",
   "execution_count": 13,
   "metadata": {},
   "outputs": [],
   "source": [
    "#split into train and test"
   ]
  },
  {
   "cell_type": "code",
   "execution_count": 14,
   "metadata": {},
   "outputs": [],
   "source": [
    "from sklearn.model_selection import train_test_split"
   ]
  },
  {
   "cell_type": "code",
   "execution_count": 15,
   "metadata": {},
   "outputs": [],
   "source": [
    "train,test = train_test_split(gc, test_size = .3, random_state = 2)"
   ]
  },
  {
   "cell_type": "code",
   "execution_count": 16,
   "metadata": {},
   "outputs": [],
   "source": [
    "y = gc.iloc[:,0]\n",
    "X = gc.iloc[:, 1:]"
   ]
  },
  {
   "cell_type": "code",
   "execution_count": 17,
   "metadata": {},
   "outputs": [],
   "source": [
    "X_train, X_test, y_train, y_test = train_test_split(X, y,test_size = 0.3, random_state=2)#random state is the random seed"
   ]
  },
  {
   "cell_type": "code",
   "execution_count": 18,
   "metadata": {},
   "outputs": [
    {
     "data": {
      "text/plain": [
       "(700, 48)"
      ]
     },
     "execution_count": 18,
     "metadata": {},
     "output_type": "execute_result"
    }
   ],
   "source": [
    "X_train.shape"
   ]
  },
  {
   "cell_type": "code",
   "execution_count": 19,
   "metadata": {},
   "outputs": [
    {
     "data": {
      "text/html": [
       "<div>\n",
       "<style scoped>\n",
       "    .dataframe tbody tr th:only-of-type {\n",
       "        vertical-align: middle;\n",
       "    }\n",
       "\n",
       "    .dataframe tbody tr th {\n",
       "        vertical-align: top;\n",
       "    }\n",
       "\n",
       "    .dataframe thead th {\n",
       "        text-align: right;\n",
       "    }\n",
       "</style>\n",
       "<table border=\"1\" class=\"dataframe\">\n",
       "  <thead>\n",
       "    <tr style=\"text-align: right;\">\n",
       "      <th></th>\n",
       "      <th>duration</th>\n",
       "      <th>amount</th>\n",
       "      <th>installment</th>\n",
       "      <th>residence</th>\n",
       "      <th>age</th>\n",
       "      <th>cards</th>\n",
       "      <th>liable</th>\n",
       "      <th>checkingstatus1_A12</th>\n",
       "      <th>checkingstatus1_A13</th>\n",
       "      <th>checkingstatus1_A14</th>\n",
       "      <th>...</th>\n",
       "      <th>property_A124</th>\n",
       "      <th>otherplans_A142</th>\n",
       "      <th>otherplans_A143</th>\n",
       "      <th>housing_A152</th>\n",
       "      <th>housing_A153</th>\n",
       "      <th>job_A172</th>\n",
       "      <th>job_A173</th>\n",
       "      <th>job_A174</th>\n",
       "      <th>tele_A192</th>\n",
       "      <th>foreign_A202</th>\n",
       "    </tr>\n",
       "  </thead>\n",
       "  <tbody>\n",
       "    <tr>\n",
       "      <th>90</th>\n",
       "      <td>12</td>\n",
       "      <td>618</td>\n",
       "      <td>4</td>\n",
       "      <td>4</td>\n",
       "      <td>56</td>\n",
       "      <td>1</td>\n",
       "      <td>1</td>\n",
       "      <td>0</td>\n",
       "      <td>0</td>\n",
       "      <td>1</td>\n",
       "      <td>...</td>\n",
       "      <td>0</td>\n",
       "      <td>0</td>\n",
       "      <td>1</td>\n",
       "      <td>1</td>\n",
       "      <td>0</td>\n",
       "      <td>0</td>\n",
       "      <td>1</td>\n",
       "      <td>0</td>\n",
       "      <td>0</td>\n",
       "      <td>0</td>\n",
       "    </tr>\n",
       "    <tr>\n",
       "      <th>305</th>\n",
       "      <td>6</td>\n",
       "      <td>1543</td>\n",
       "      <td>4</td>\n",
       "      <td>2</td>\n",
       "      <td>33</td>\n",
       "      <td>1</td>\n",
       "      <td>1</td>\n",
       "      <td>0</td>\n",
       "      <td>0</td>\n",
       "      <td>1</td>\n",
       "      <td>...</td>\n",
       "      <td>0</td>\n",
       "      <td>0</td>\n",
       "      <td>1</td>\n",
       "      <td>1</td>\n",
       "      <td>0</td>\n",
       "      <td>0</td>\n",
       "      <td>1</td>\n",
       "      <td>0</td>\n",
       "      <td>0</td>\n",
       "      <td>0</td>\n",
       "    </tr>\n",
       "    <tr>\n",
       "      <th>126</th>\n",
       "      <td>12</td>\n",
       "      <td>701</td>\n",
       "      <td>4</td>\n",
       "      <td>2</td>\n",
       "      <td>40</td>\n",
       "      <td>1</td>\n",
       "      <td>1</td>\n",
       "      <td>0</td>\n",
       "      <td>0</td>\n",
       "      <td>0</td>\n",
       "      <td>...</td>\n",
       "      <td>0</td>\n",
       "      <td>0</td>\n",
       "      <td>1</td>\n",
       "      <td>1</td>\n",
       "      <td>0</td>\n",
       "      <td>1</td>\n",
       "      <td>0</td>\n",
       "      <td>0</td>\n",
       "      <td>0</td>\n",
       "      <td>0</td>\n",
       "    </tr>\n",
       "  </tbody>\n",
       "</table>\n",
       "<p>3 rows × 48 columns</p>\n",
       "</div>"
      ],
      "text/plain": [
       "     duration  amount  installment  residence  age  cards  liable  \\\n",
       "90         12     618            4          4   56      1       1   \n",
       "305         6    1543            4          2   33      1       1   \n",
       "126        12     701            4          2   40      1       1   \n",
       "\n",
       "     checkingstatus1_A12  checkingstatus1_A13  checkingstatus1_A14  ...  \\\n",
       "90                     0                    0                    1  ...   \n",
       "305                    0                    0                    1  ...   \n",
       "126                    0                    0                    0  ...   \n",
       "\n",
       "     property_A124  otherplans_A142  otherplans_A143  housing_A152  \\\n",
       "90               0                0                1             1   \n",
       "305              0                0                1             1   \n",
       "126              0                0                1             1   \n",
       "\n",
       "     housing_A153  job_A172  job_A173  job_A174  tele_A192  foreign_A202  \n",
       "90              0         0         1         0          0             0  \n",
       "305             0         0         1         0          0             0  \n",
       "126             0         1         0         0          0             0  \n",
       "\n",
       "[3 rows x 48 columns]"
      ]
     },
     "execution_count": 19,
     "metadata": {},
     "output_type": "execute_result"
    }
   ],
   "source": [
    "X_train.head(3)"
   ]
  },
  {
   "cell_type": "code",
   "execution_count": 20,
   "metadata": {},
   "outputs": [
    {
     "data": {
      "text/html": [
       "<div>\n",
       "<style scoped>\n",
       "    .dataframe tbody tr th:only-of-type {\n",
       "        vertical-align: middle;\n",
       "    }\n",
       "\n",
       "    .dataframe tbody tr th {\n",
       "        vertical-align: top;\n",
       "    }\n",
       "\n",
       "    .dataframe thead th {\n",
       "        text-align: right;\n",
       "    }\n",
       "</style>\n",
       "<table border=\"1\" class=\"dataframe\">\n",
       "  <thead>\n",
       "    <tr style=\"text-align: right;\">\n",
       "      <th></th>\n",
       "      <th>duration</th>\n",
       "      <th>amount</th>\n",
       "      <th>installment</th>\n",
       "      <th>residence</th>\n",
       "      <th>age</th>\n",
       "      <th>cards</th>\n",
       "      <th>liable</th>\n",
       "      <th>checkingstatus1_A12</th>\n",
       "      <th>checkingstatus1_A13</th>\n",
       "      <th>checkingstatus1_A14</th>\n",
       "      <th>...</th>\n",
       "      <th>property_A124</th>\n",
       "      <th>otherplans_A142</th>\n",
       "      <th>otherplans_A143</th>\n",
       "      <th>housing_A152</th>\n",
       "      <th>housing_A153</th>\n",
       "      <th>job_A172</th>\n",
       "      <th>job_A173</th>\n",
       "      <th>job_A174</th>\n",
       "      <th>tele_A192</th>\n",
       "      <th>foreign_A202</th>\n",
       "    </tr>\n",
       "  </thead>\n",
       "  <tbody>\n",
       "    <tr>\n",
       "      <th>37</th>\n",
       "      <td>18</td>\n",
       "      <td>2100</td>\n",
       "      <td>4</td>\n",
       "      <td>2</td>\n",
       "      <td>37</td>\n",
       "      <td>1</td>\n",
       "      <td>1</td>\n",
       "      <td>0</td>\n",
       "      <td>1</td>\n",
       "      <td>0</td>\n",
       "      <td>...</td>\n",
       "      <td>0</td>\n",
       "      <td>1</td>\n",
       "      <td>0</td>\n",
       "      <td>1</td>\n",
       "      <td>0</td>\n",
       "      <td>0</td>\n",
       "      <td>1</td>\n",
       "      <td>0</td>\n",
       "      <td>0</td>\n",
       "      <td>0</td>\n",
       "    </tr>\n",
       "    <tr>\n",
       "      <th>726</th>\n",
       "      <td>15</td>\n",
       "      <td>1316</td>\n",
       "      <td>2</td>\n",
       "      <td>2</td>\n",
       "      <td>47</td>\n",
       "      <td>2</td>\n",
       "      <td>1</td>\n",
       "      <td>0</td>\n",
       "      <td>0</td>\n",
       "      <td>1</td>\n",
       "      <td>...</td>\n",
       "      <td>0</td>\n",
       "      <td>0</td>\n",
       "      <td>1</td>\n",
       "      <td>1</td>\n",
       "      <td>0</td>\n",
       "      <td>1</td>\n",
       "      <td>0</td>\n",
       "      <td>0</td>\n",
       "      <td>0</td>\n",
       "      <td>0</td>\n",
       "    </tr>\n",
       "    <tr>\n",
       "      <th>846</th>\n",
       "      <td>18</td>\n",
       "      <td>6761</td>\n",
       "      <td>2</td>\n",
       "      <td>4</td>\n",
       "      <td>68</td>\n",
       "      <td>2</td>\n",
       "      <td>1</td>\n",
       "      <td>0</td>\n",
       "      <td>0</td>\n",
       "      <td>1</td>\n",
       "      <td>...</td>\n",
       "      <td>0</td>\n",
       "      <td>0</td>\n",
       "      <td>1</td>\n",
       "      <td>0</td>\n",
       "      <td>0</td>\n",
       "      <td>0</td>\n",
       "      <td>1</td>\n",
       "      <td>0</td>\n",
       "      <td>0</td>\n",
       "      <td>0</td>\n",
       "    </tr>\n",
       "  </tbody>\n",
       "</table>\n",
       "<p>3 rows × 48 columns</p>\n",
       "</div>"
      ],
      "text/plain": [
       "     duration  amount  installment  residence  age  cards  liable  \\\n",
       "37         18    2100            4          2   37      1       1   \n",
       "726        15    1316            2          2   47      2       1   \n",
       "846        18    6761            2          4   68      2       1   \n",
       "\n",
       "     checkingstatus1_A12  checkingstatus1_A13  checkingstatus1_A14  ...  \\\n",
       "37                     0                    1                    0  ...   \n",
       "726                    0                    0                    1  ...   \n",
       "846                    0                    0                    1  ...   \n",
       "\n",
       "     property_A124  otherplans_A142  otherplans_A143  housing_A152  \\\n",
       "37               0                1                0             1   \n",
       "726              0                0                1             1   \n",
       "846              0                0                1             0   \n",
       "\n",
       "     housing_A153  job_A172  job_A173  job_A174  tele_A192  foreign_A202  \n",
       "37              0         0         1         0          0             0  \n",
       "726             0         1         0         0          0             0  \n",
       "846             0         0         1         0          0             0  \n",
       "\n",
       "[3 rows x 48 columns]"
      ]
     },
     "execution_count": 20,
     "metadata": {},
     "output_type": "execute_result"
    }
   ],
   "source": [
    "X_test.head(3)"
   ]
  },
  {
   "cell_type": "code",
   "execution_count": 21,
   "metadata": {},
   "outputs": [
    {
     "data": {
      "text/plain": [
       "90     0\n",
       "305    0\n",
       "126    0\n",
       "Name: Default, dtype: int64"
      ]
     },
     "execution_count": 21,
     "metadata": {},
     "output_type": "execute_result"
    }
   ],
   "source": [
    "y_train.head(3)"
   ]
  },
  {
   "cell_type": "code",
   "execution_count": 22,
   "metadata": {
    "scrolled": true
   },
   "outputs": [
    {
     "data": {
      "text/plain": [
       "37     1\n",
       "726    0\n",
       "846    1\n",
       "Name: Default, dtype: int64"
      ]
     },
     "execution_count": 22,
     "metadata": {},
     "output_type": "execute_result"
    }
   ],
   "source": [
    "y_test.head(3)"
   ]
  },
  {
   "cell_type": "markdown",
   "metadata": {},
   "source": [
    "---"
   ]
  },
  {
   "cell_type": "code",
   "execution_count": 23,
   "metadata": {},
   "outputs": [],
   "source": [
    "from sklearn.preprocessing import MinMaxScaler"
   ]
  },
  {
   "cell_type": "code",
   "execution_count": 24,
   "metadata": {},
   "outputs": [],
   "source": [
    "m = MinMaxScaler()"
   ]
  },
  {
   "cell_type": "code",
   "execution_count": 25,
   "metadata": {},
   "outputs": [
    {
     "data": {
      "text/plain": [
       "MinMaxScaler(copy=True, feature_range=(0, 1))"
      ]
     },
     "execution_count": 25,
     "metadata": {},
     "output_type": "execute_result"
    }
   ],
   "source": [
    "m.fit(X_train)"
   ]
  },
  {
   "cell_type": "code",
   "execution_count": 26,
   "metadata": {},
   "outputs": [],
   "source": [
    "Xtrain = m.transform(X_train)"
   ]
  },
  {
   "cell_type": "code",
   "execution_count": 27,
   "metadata": {},
   "outputs": [
    {
     "data": {
      "text/plain": [
       "array([[0.14285714, 0.02024871, 1.        , 1.        , 0.66071429,\n",
       "        0.        , 0.        , 0.        , 0.        , 1.        ,\n",
       "        0.        , 0.        , 0.        , 1.        , 0.        ,\n",
       "        0.        , 0.        , 1.        , 0.        , 0.        ,\n",
       "        0.        , 0.        , 0.        , 0.        , 0.        ,\n",
       "        0.        , 0.        , 0.        , 0.        , 0.        ,\n",
       "        1.        , 0.        , 1.        , 0.        , 0.        ,\n",
       "        0.        , 0.        , 0.        , 0.        , 0.        ,\n",
       "        1.        , 1.        , 0.        , 0.        , 1.        ,\n",
       "        0.        , 0.        , 0.        ],\n",
       "       [0.03571429, 0.07114559, 1.        , 0.33333333, 0.25      ,\n",
       "        0.        , 0.        , 0.        , 0.        , 1.        ,\n",
       "        0.        , 1.        , 0.        , 0.        , 0.        ,\n",
       "        0.        , 1.        , 0.        , 0.        , 0.        ,\n",
       "        0.        , 0.        , 0.        , 0.        , 0.        ,\n",
       "        1.        , 0.        , 0.        , 1.        , 0.        ,\n",
       "        0.        , 0.        , 0.        , 0.        , 0.        ,\n",
       "        0.        , 0.        , 0.        , 0.        , 0.        ,\n",
       "        1.        , 1.        , 0.        , 0.        , 1.        ,\n",
       "        0.        , 0.        , 0.        ]])"
      ]
     },
     "execution_count": 27,
     "metadata": {},
     "output_type": "execute_result"
    }
   ],
   "source": [
    "Xtrain[:2]"
   ]
  },
  {
   "cell_type": "code",
   "execution_count": 28,
   "metadata": {},
   "outputs": [],
   "source": [
    "Xtest = m.transform(X_test)"
   ]
  },
  {
   "cell_type": "code",
   "execution_count": 29,
   "metadata": {
    "scrolled": true
   },
   "outputs": [
    {
     "data": {
      "text/plain": [
       "array([[0.25      , 0.10179377, 1.        , 0.33333333, 0.32142857,\n",
       "        0.        , 0.        , 0.        , 1.        , 0.        ,\n",
       "        0.        , 1.        , 0.        , 0.        , 0.        ,\n",
       "        0.        , 0.        , 1.        , 0.        , 0.        ,\n",
       "        0.        , 0.        , 0.        , 0.        , 0.        ,\n",
       "        0.        , 0.        , 0.        , 1.        , 0.        ,\n",
       "        0.        , 0.        , 1.        , 0.        , 1.        ,\n",
       "        0.        , 0.        , 0.        , 0.        , 1.        ,\n",
       "        0.        , 1.        , 0.        , 0.        , 1.        ,\n",
       "        0.        , 0.        , 0.        ],\n",
       "       [0.19642857, 0.05865522, 0.33333333, 0.33333333, 0.5       ,\n",
       "        0.33333333, 0.        , 0.        , 0.        , 1.        ,\n",
       "        0.        , 0.        , 0.        , 1.        , 0.        ,\n",
       "        0.        , 0.        , 1.        , 0.        , 0.        ,\n",
       "        0.        , 0.        , 0.        , 0.        , 1.        ,\n",
       "        0.        , 0.        , 0.        , 1.        , 0.        ,\n",
       "        0.        , 0.        , 0.        , 1.        , 0.        ,\n",
       "        0.        , 1.        , 0.        , 0.        , 0.        ,\n",
       "        1.        , 1.        , 0.        , 1.        , 0.        ,\n",
       "        0.        , 0.        , 0.        ],\n",
       "       [0.25      , 0.35825905, 0.33333333, 1.        , 0.875     ,\n",
       "        0.33333333, 0.        , 0.        , 0.        , 1.        ,\n",
       "        0.        , 1.        , 0.        , 0.        , 0.        ,\n",
       "        0.        , 0.        , 0.        , 0.        , 0.        ,\n",
       "        0.        , 0.        , 0.        , 0.        , 0.        ,\n",
       "        0.        , 1.        , 0.        , 1.        , 0.        ,\n",
       "        0.        , 0.        , 1.        , 0.        , 0.        ,\n",
       "        0.        , 0.        , 1.        , 0.        , 0.        ,\n",
       "        1.        , 0.        , 0.        , 0.        , 1.        ,\n",
       "        0.        , 0.        , 0.        ]])"
      ]
     },
     "execution_count": 29,
     "metadata": {},
     "output_type": "execute_result"
    }
   ],
   "source": [
    "Xtest[:3]"
   ]
  },
  {
   "cell_type": "markdown",
   "metadata": {},
   "source": [
    "---"
   ]
  },
  {
   "cell_type": "code",
   "execution_count": 30,
   "metadata": {},
   "outputs": [],
   "source": [
    "#convert Xtrain Xtest y train ytest to dataframe"
   ]
  },
  {
   "cell_type": "code",
   "execution_count": 31,
   "metadata": {},
   "outputs": [
    {
     "data": {
      "text/html": [
       "<div>\n",
       "<style scoped>\n",
       "    .dataframe tbody tr th:only-of-type {\n",
       "        vertical-align: middle;\n",
       "    }\n",
       "\n",
       "    .dataframe tbody tr th {\n",
       "        vertical-align: top;\n",
       "    }\n",
       "\n",
       "    .dataframe thead th {\n",
       "        text-align: right;\n",
       "    }\n",
       "</style>\n",
       "<table border=\"1\" class=\"dataframe\">\n",
       "  <thead>\n",
       "    <tr style=\"text-align: right;\">\n",
       "      <th></th>\n",
       "      <th>duration</th>\n",
       "      <th>amount</th>\n",
       "      <th>installment</th>\n",
       "      <th>residence</th>\n",
       "      <th>age</th>\n",
       "      <th>cards</th>\n",
       "      <th>liable</th>\n",
       "      <th>checkingstatus1_A12</th>\n",
       "      <th>checkingstatus1_A13</th>\n",
       "      <th>checkingstatus1_A14</th>\n",
       "      <th>...</th>\n",
       "      <th>property_A124</th>\n",
       "      <th>otherplans_A142</th>\n",
       "      <th>otherplans_A143</th>\n",
       "      <th>housing_A152</th>\n",
       "      <th>housing_A153</th>\n",
       "      <th>job_A172</th>\n",
       "      <th>job_A173</th>\n",
       "      <th>job_A174</th>\n",
       "      <th>tele_A192</th>\n",
       "      <th>foreign_A202</th>\n",
       "    </tr>\n",
       "  </thead>\n",
       "  <tbody>\n",
       "    <tr>\n",
       "      <th>0</th>\n",
       "      <td>0.142857</td>\n",
       "      <td>0.020249</td>\n",
       "      <td>1.0</td>\n",
       "      <td>1.000000</td>\n",
       "      <td>0.660714</td>\n",
       "      <td>0.0</td>\n",
       "      <td>0.0</td>\n",
       "      <td>0.0</td>\n",
       "      <td>0.0</td>\n",
       "      <td>1.0</td>\n",
       "      <td>...</td>\n",
       "      <td>0.0</td>\n",
       "      <td>0.0</td>\n",
       "      <td>1.0</td>\n",
       "      <td>1.0</td>\n",
       "      <td>0.0</td>\n",
       "      <td>0.0</td>\n",
       "      <td>1.0</td>\n",
       "      <td>0.0</td>\n",
       "      <td>0.0</td>\n",
       "      <td>0.0</td>\n",
       "    </tr>\n",
       "    <tr>\n",
       "      <th>1</th>\n",
       "      <td>0.035714</td>\n",
       "      <td>0.071146</td>\n",
       "      <td>1.0</td>\n",
       "      <td>0.333333</td>\n",
       "      <td>0.250000</td>\n",
       "      <td>0.0</td>\n",
       "      <td>0.0</td>\n",
       "      <td>0.0</td>\n",
       "      <td>0.0</td>\n",
       "      <td>1.0</td>\n",
       "      <td>...</td>\n",
       "      <td>0.0</td>\n",
       "      <td>0.0</td>\n",
       "      <td>1.0</td>\n",
       "      <td>1.0</td>\n",
       "      <td>0.0</td>\n",
       "      <td>0.0</td>\n",
       "      <td>1.0</td>\n",
       "      <td>0.0</td>\n",
       "      <td>0.0</td>\n",
       "      <td>0.0</td>\n",
       "    </tr>\n",
       "  </tbody>\n",
       "</table>\n",
       "<p>2 rows × 48 columns</p>\n",
       "</div>"
      ],
      "text/plain": [
       "   duration    amount  installment  residence       age  cards  liable  \\\n",
       "0  0.142857  0.020249          1.0   1.000000  0.660714    0.0     0.0   \n",
       "1  0.035714  0.071146          1.0   0.333333  0.250000    0.0     0.0   \n",
       "\n",
       "   checkingstatus1_A12  checkingstatus1_A13  checkingstatus1_A14  ...  \\\n",
       "0                  0.0                  0.0                  1.0  ...   \n",
       "1                  0.0                  0.0                  1.0  ...   \n",
       "\n",
       "   property_A124  otherplans_A142  otherplans_A143  housing_A152  \\\n",
       "0            0.0              0.0              1.0           1.0   \n",
       "1            0.0              0.0              1.0           1.0   \n",
       "\n",
       "   housing_A153  job_A172  job_A173  job_A174  tele_A192  foreign_A202  \n",
       "0           0.0       0.0       1.0       0.0        0.0           0.0  \n",
       "1           0.0       0.0       1.0       0.0        0.0           0.0  \n",
       "\n",
       "[2 rows x 48 columns]"
      ]
     },
     "execution_count": 31,
     "metadata": {},
     "output_type": "execute_result"
    }
   ],
   "source": [
    "Xtr = pd.DataFrame(Xtrain, columns=X_train.columns)\n",
    "Xtr.head(2)"
   ]
  },
  {
   "cell_type": "code",
   "execution_count": 32,
   "metadata": {},
   "outputs": [
    {
     "data": {
      "text/html": [
       "<div>\n",
       "<style scoped>\n",
       "    .dataframe tbody tr th:only-of-type {\n",
       "        vertical-align: middle;\n",
       "    }\n",
       "\n",
       "    .dataframe tbody tr th {\n",
       "        vertical-align: top;\n",
       "    }\n",
       "\n",
       "    .dataframe thead th {\n",
       "        text-align: right;\n",
       "    }\n",
       "</style>\n",
       "<table border=\"1\" class=\"dataframe\">\n",
       "  <thead>\n",
       "    <tr style=\"text-align: right;\">\n",
       "      <th></th>\n",
       "      <th>duration</th>\n",
       "      <th>amount</th>\n",
       "      <th>installment</th>\n",
       "      <th>residence</th>\n",
       "      <th>age</th>\n",
       "      <th>cards</th>\n",
       "      <th>liable</th>\n",
       "      <th>checkingstatus1_A12</th>\n",
       "      <th>checkingstatus1_A13</th>\n",
       "      <th>checkingstatus1_A14</th>\n",
       "      <th>...</th>\n",
       "      <th>property_A124</th>\n",
       "      <th>otherplans_A142</th>\n",
       "      <th>otherplans_A143</th>\n",
       "      <th>housing_A152</th>\n",
       "      <th>housing_A153</th>\n",
       "      <th>job_A172</th>\n",
       "      <th>job_A173</th>\n",
       "      <th>job_A174</th>\n",
       "      <th>tele_A192</th>\n",
       "      <th>foreign_A202</th>\n",
       "    </tr>\n",
       "  </thead>\n",
       "  <tbody>\n",
       "    <tr>\n",
       "      <th>0</th>\n",
       "      <td>0.250000</td>\n",
       "      <td>0.101794</td>\n",
       "      <td>1.000000</td>\n",
       "      <td>0.333333</td>\n",
       "      <td>0.321429</td>\n",
       "      <td>0.000000</td>\n",
       "      <td>0.0</td>\n",
       "      <td>0.0</td>\n",
       "      <td>1.0</td>\n",
       "      <td>0.0</td>\n",
       "      <td>...</td>\n",
       "      <td>0.0</td>\n",
       "      <td>1.0</td>\n",
       "      <td>0.0</td>\n",
       "      <td>1.0</td>\n",
       "      <td>0.0</td>\n",
       "      <td>0.0</td>\n",
       "      <td>1.0</td>\n",
       "      <td>0.0</td>\n",
       "      <td>0.0</td>\n",
       "      <td>0.0</td>\n",
       "    </tr>\n",
       "    <tr>\n",
       "      <th>1</th>\n",
       "      <td>0.196429</td>\n",
       "      <td>0.058655</td>\n",
       "      <td>0.333333</td>\n",
       "      <td>0.333333</td>\n",
       "      <td>0.500000</td>\n",
       "      <td>0.333333</td>\n",
       "      <td>0.0</td>\n",
       "      <td>0.0</td>\n",
       "      <td>0.0</td>\n",
       "      <td>1.0</td>\n",
       "      <td>...</td>\n",
       "      <td>0.0</td>\n",
       "      <td>0.0</td>\n",
       "      <td>1.0</td>\n",
       "      <td>1.0</td>\n",
       "      <td>0.0</td>\n",
       "      <td>1.0</td>\n",
       "      <td>0.0</td>\n",
       "      <td>0.0</td>\n",
       "      <td>0.0</td>\n",
       "      <td>0.0</td>\n",
       "    </tr>\n",
       "  </tbody>\n",
       "</table>\n",
       "<p>2 rows × 48 columns</p>\n",
       "</div>"
      ],
      "text/plain": [
       "   duration    amount  installment  residence       age     cards  liable  \\\n",
       "0  0.250000  0.101794     1.000000   0.333333  0.321429  0.000000     0.0   \n",
       "1  0.196429  0.058655     0.333333   0.333333  0.500000  0.333333     0.0   \n",
       "\n",
       "   checkingstatus1_A12  checkingstatus1_A13  checkingstatus1_A14  ...  \\\n",
       "0                  0.0                  1.0                  0.0  ...   \n",
       "1                  0.0                  0.0                  1.0  ...   \n",
       "\n",
       "   property_A124  otherplans_A142  otherplans_A143  housing_A152  \\\n",
       "0            0.0              1.0              0.0           1.0   \n",
       "1            0.0              0.0              1.0           1.0   \n",
       "\n",
       "   housing_A153  job_A172  job_A173  job_A174  tele_A192  foreign_A202  \n",
       "0           0.0       0.0       1.0       0.0        0.0           0.0  \n",
       "1           0.0       1.0       0.0       0.0        0.0           0.0  \n",
       "\n",
       "[2 rows x 48 columns]"
      ]
     },
     "execution_count": 32,
     "metadata": {},
     "output_type": "execute_result"
    }
   ],
   "source": [
    "X_test = pd.DataFrame(Xtest, columns=X_test.columns)\n",
    "X_test.head(2)"
   ]
  },
  {
   "cell_type": "code",
   "execution_count": 33,
   "metadata": {},
   "outputs": [
    {
     "data": {
      "text/plain": [
       "pandas.core.series.Series"
      ]
     },
     "execution_count": 33,
     "metadata": {},
     "output_type": "execute_result"
    }
   ],
   "source": [
    "type(y_train)"
   ]
  },
  {
   "cell_type": "code",
   "execution_count": 34,
   "metadata": {
    "scrolled": true
   },
   "outputs": [
    {
     "data": {
      "text/plain": [
       "(700,)"
      ]
     },
     "execution_count": 34,
     "metadata": {},
     "output_type": "execute_result"
    }
   ],
   "source": [
    "y_train.shape"
   ]
  },
  {
   "cell_type": "code",
   "execution_count": 35,
   "metadata": {},
   "outputs": [
    {
     "data": {
      "text/plain": [
       "(700, 48)"
      ]
     },
     "execution_count": 35,
     "metadata": {},
     "output_type": "execute_result"
    }
   ],
   "source": [
    "Xtr.shape"
   ]
  },
  {
   "cell_type": "code",
   "execution_count": 36,
   "metadata": {},
   "outputs": [
    {
     "data": {
      "text/plain": [
       "RangeIndex(start=0, stop=700, step=1)"
      ]
     },
     "execution_count": 36,
     "metadata": {},
     "output_type": "execute_result"
    }
   ],
   "source": [
    "Xtr.index"
   ]
  },
  {
   "cell_type": "code",
   "execution_count": 37,
   "metadata": {},
   "outputs": [],
   "source": [
    "y_train = y_train.reset_index()"
   ]
  },
  {
   "cell_type": "code",
   "execution_count": 38,
   "metadata": {},
   "outputs": [],
   "source": [
    "y_test = y_test.reset_index()"
   ]
  },
  {
   "cell_type": "code",
   "execution_count": 39,
   "metadata": {},
   "outputs": [],
   "source": [
    "y_train.drop(\"index\", axis =1, inplace=True\n",
    "            )"
   ]
  },
  {
   "cell_type": "code",
   "execution_count": 40,
   "metadata": {},
   "outputs": [],
   "source": [
    "y_test.drop(\"index\", axis = 1, inplace=True)"
   ]
  },
  {
   "cell_type": "code",
   "execution_count": 41,
   "metadata": {},
   "outputs": [
    {
     "data": {
      "text/html": [
       "<div>\n",
       "<style scoped>\n",
       "    .dataframe tbody tr th:only-of-type {\n",
       "        vertical-align: middle;\n",
       "    }\n",
       "\n",
       "    .dataframe tbody tr th {\n",
       "        vertical-align: top;\n",
       "    }\n",
       "\n",
       "    .dataframe thead th {\n",
       "        text-align: right;\n",
       "    }\n",
       "</style>\n",
       "<table border=\"1\" class=\"dataframe\">\n",
       "  <thead>\n",
       "    <tr style=\"text-align: right;\">\n",
       "      <th></th>\n",
       "      <th>Default</th>\n",
       "      <th>duration</th>\n",
       "      <th>amount</th>\n",
       "      <th>installment</th>\n",
       "      <th>residence</th>\n",
       "      <th>age</th>\n",
       "      <th>cards</th>\n",
       "      <th>liable</th>\n",
       "      <th>checkingstatus1_A12</th>\n",
       "      <th>checkingstatus1_A13</th>\n",
       "      <th>...</th>\n",
       "      <th>property_A124</th>\n",
       "      <th>otherplans_A142</th>\n",
       "      <th>otherplans_A143</th>\n",
       "      <th>housing_A152</th>\n",
       "      <th>housing_A153</th>\n",
       "      <th>job_A172</th>\n",
       "      <th>job_A173</th>\n",
       "      <th>job_A174</th>\n",
       "      <th>tele_A192</th>\n",
       "      <th>foreign_A202</th>\n",
       "    </tr>\n",
       "  </thead>\n",
       "  <tbody>\n",
       "    <tr>\n",
       "      <th>0</th>\n",
       "      <td>0</td>\n",
       "      <td>0.142857</td>\n",
       "      <td>0.020249</td>\n",
       "      <td>1.0</td>\n",
       "      <td>1.000000</td>\n",
       "      <td>0.660714</td>\n",
       "      <td>0.0</td>\n",
       "      <td>0.0</td>\n",
       "      <td>0.0</td>\n",
       "      <td>0.0</td>\n",
       "      <td>...</td>\n",
       "      <td>0.0</td>\n",
       "      <td>0.0</td>\n",
       "      <td>1.0</td>\n",
       "      <td>1.0</td>\n",
       "      <td>0.0</td>\n",
       "      <td>0.0</td>\n",
       "      <td>1.0</td>\n",
       "      <td>0.0</td>\n",
       "      <td>0.0</td>\n",
       "      <td>0.0</td>\n",
       "    </tr>\n",
       "    <tr>\n",
       "      <th>1</th>\n",
       "      <td>0</td>\n",
       "      <td>0.035714</td>\n",
       "      <td>0.071146</td>\n",
       "      <td>1.0</td>\n",
       "      <td>0.333333</td>\n",
       "      <td>0.250000</td>\n",
       "      <td>0.0</td>\n",
       "      <td>0.0</td>\n",
       "      <td>0.0</td>\n",
       "      <td>0.0</td>\n",
       "      <td>...</td>\n",
       "      <td>0.0</td>\n",
       "      <td>0.0</td>\n",
       "      <td>1.0</td>\n",
       "      <td>1.0</td>\n",
       "      <td>0.0</td>\n",
       "      <td>0.0</td>\n",
       "      <td>1.0</td>\n",
       "      <td>0.0</td>\n",
       "      <td>0.0</td>\n",
       "      <td>0.0</td>\n",
       "    </tr>\n",
       "  </tbody>\n",
       "</table>\n",
       "<p>2 rows × 49 columns</p>\n",
       "</div>"
      ],
      "text/plain": [
       "   Default  duration    amount  installment  residence       age  cards  \\\n",
       "0        0  0.142857  0.020249          1.0   1.000000  0.660714    0.0   \n",
       "1        0  0.035714  0.071146          1.0   0.333333  0.250000    0.0   \n",
       "\n",
       "   liable  checkingstatus1_A12  checkingstatus1_A13  ...  property_A124  \\\n",
       "0     0.0                  0.0                  0.0  ...            0.0   \n",
       "1     0.0                  0.0                  0.0  ...            0.0   \n",
       "\n",
       "   otherplans_A142  otherplans_A143  housing_A152  housing_A153  job_A172  \\\n",
       "0              0.0              1.0           1.0           0.0       0.0   \n",
       "1              0.0              1.0           1.0           0.0       0.0   \n",
       "\n",
       "   job_A173  job_A174  tele_A192  foreign_A202  \n",
       "0       1.0       0.0        0.0           0.0  \n",
       "1       1.0       0.0        0.0           0.0  \n",
       "\n",
       "[2 rows x 49 columns]"
      ]
     },
     "execution_count": 41,
     "metadata": {},
     "output_type": "execute_result"
    }
   ],
   "source": [
    "train = pd.concat((y_train, Xtr), axis =1)\n",
    "train.head(2)"
   ]
  },
  {
   "cell_type": "code",
   "execution_count": 42,
   "metadata": {},
   "outputs": [
    {
     "data": {
      "text/html": [
       "<div>\n",
       "<style scoped>\n",
       "    .dataframe tbody tr th:only-of-type {\n",
       "        vertical-align: middle;\n",
       "    }\n",
       "\n",
       "    .dataframe tbody tr th {\n",
       "        vertical-align: top;\n",
       "    }\n",
       "\n",
       "    .dataframe thead th {\n",
       "        text-align: right;\n",
       "    }\n",
       "</style>\n",
       "<table border=\"1\" class=\"dataframe\">\n",
       "  <thead>\n",
       "    <tr style=\"text-align: right;\">\n",
       "      <th></th>\n",
       "      <th>Default</th>\n",
       "      <th>duration</th>\n",
       "      <th>amount</th>\n",
       "      <th>installment</th>\n",
       "      <th>residence</th>\n",
       "      <th>age</th>\n",
       "      <th>cards</th>\n",
       "      <th>liable</th>\n",
       "      <th>checkingstatus1_A12</th>\n",
       "      <th>checkingstatus1_A13</th>\n",
       "      <th>...</th>\n",
       "      <th>property_A124</th>\n",
       "      <th>otherplans_A142</th>\n",
       "      <th>otherplans_A143</th>\n",
       "      <th>housing_A152</th>\n",
       "      <th>housing_A153</th>\n",
       "      <th>job_A172</th>\n",
       "      <th>job_A173</th>\n",
       "      <th>job_A174</th>\n",
       "      <th>tele_A192</th>\n",
       "      <th>foreign_A202</th>\n",
       "    </tr>\n",
       "  </thead>\n",
       "  <tbody>\n",
       "    <tr>\n",
       "      <th>0</th>\n",
       "      <td>1</td>\n",
       "      <td>0.250000</td>\n",
       "      <td>0.101794</td>\n",
       "      <td>1.000000</td>\n",
       "      <td>0.333333</td>\n",
       "      <td>0.321429</td>\n",
       "      <td>0.000000</td>\n",
       "      <td>0.0</td>\n",
       "      <td>0.0</td>\n",
       "      <td>1.0</td>\n",
       "      <td>...</td>\n",
       "      <td>0.0</td>\n",
       "      <td>1.0</td>\n",
       "      <td>0.0</td>\n",
       "      <td>1.0</td>\n",
       "      <td>0.0</td>\n",
       "      <td>0.0</td>\n",
       "      <td>1.0</td>\n",
       "      <td>0.0</td>\n",
       "      <td>0.0</td>\n",
       "      <td>0.0</td>\n",
       "    </tr>\n",
       "    <tr>\n",
       "      <th>1</th>\n",
       "      <td>0</td>\n",
       "      <td>0.196429</td>\n",
       "      <td>0.058655</td>\n",
       "      <td>0.333333</td>\n",
       "      <td>0.333333</td>\n",
       "      <td>0.500000</td>\n",
       "      <td>0.333333</td>\n",
       "      <td>0.0</td>\n",
       "      <td>0.0</td>\n",
       "      <td>0.0</td>\n",
       "      <td>...</td>\n",
       "      <td>0.0</td>\n",
       "      <td>0.0</td>\n",
       "      <td>1.0</td>\n",
       "      <td>1.0</td>\n",
       "      <td>0.0</td>\n",
       "      <td>1.0</td>\n",
       "      <td>0.0</td>\n",
       "      <td>0.0</td>\n",
       "      <td>0.0</td>\n",
       "      <td>0.0</td>\n",
       "    </tr>\n",
       "  </tbody>\n",
       "</table>\n",
       "<p>2 rows × 49 columns</p>\n",
       "</div>"
      ],
      "text/plain": [
       "   Default  duration    amount  installment  residence       age     cards  \\\n",
       "0        1  0.250000  0.101794     1.000000   0.333333  0.321429  0.000000   \n",
       "1        0  0.196429  0.058655     0.333333   0.333333  0.500000  0.333333   \n",
       "\n",
       "   liable  checkingstatus1_A12  checkingstatus1_A13  ...  property_A124  \\\n",
       "0     0.0                  0.0                  1.0  ...            0.0   \n",
       "1     0.0                  0.0                  0.0  ...            0.0   \n",
       "\n",
       "   otherplans_A142  otherplans_A143  housing_A152  housing_A153  job_A172  \\\n",
       "0              1.0              0.0           1.0           0.0       0.0   \n",
       "1              0.0              1.0           1.0           0.0       1.0   \n",
       "\n",
       "   job_A173  job_A174  tele_A192  foreign_A202  \n",
       "0       1.0       0.0        0.0           0.0  \n",
       "1       0.0       0.0        0.0           0.0  \n",
       "\n",
       "[2 rows x 49 columns]"
      ]
     },
     "execution_count": 42,
     "metadata": {},
     "output_type": "execute_result"
    }
   ],
   "source": [
    "test = pd.concat((y_test, X_test), axis =1)\n",
    "test.head(2)"
   ]
  },
  {
   "cell_type": "code",
   "execution_count": null,
   "metadata": {},
   "outputs": [],
   "source": []
  },
  {
   "cell_type": "markdown",
   "metadata": {},
   "source": [
    "### Implement logistic regression model"
   ]
  },
  {
   "cell_type": "code",
   "execution_count": 43,
   "metadata": {},
   "outputs": [],
   "source": [
    "from statsmodels.formula.api import glm\n",
    "import statsmodels.api as sm "
   ]
  },
  {
   "cell_type": "code",
   "execution_count": 44,
   "metadata": {},
   "outputs": [],
   "source": [
    "#Default and the duration\n",
    "mod_log = glm(formula = \"Default~duration\", data = train, family = sm.families.Binomial())\n",
    "#family: for the response variable"
   ]
  },
  {
   "cell_type": "code",
   "execution_count": 45,
   "metadata": {},
   "outputs": [],
   "source": [
    "mod_fit = mod_log.fit()"
   ]
  },
  {
   "cell_type": "code",
   "execution_count": 46,
   "metadata": {},
   "outputs": [
    {
     "data": {
      "text/html": [
       "<table class=\"simpletable\">\n",
       "<caption>Generalized Linear Model Regression Results</caption>\n",
       "<tr>\n",
       "  <th>Dep. Variable:</th>       <td>Default</td>     <th>  No. Observations:  </th>  <td>   700</td>  \n",
       "</tr>\n",
       "<tr>\n",
       "  <th>Model:</th>                 <td>GLM</td>       <th>  Df Residuals:      </th>  <td>   698</td>  \n",
       "</tr>\n",
       "<tr>\n",
       "  <th>Model Family:</th>       <td>Binomial</td>     <th>  Df Model:          </th>  <td>     1</td>  \n",
       "</tr>\n",
       "<tr>\n",
       "  <th>Link Function:</th>        <td>logit</td>      <th>  Scale:             </th> <td>  1.0000</td> \n",
       "</tr>\n",
       "<tr>\n",
       "  <th>Method:</th>               <td>IRLS</td>       <th>  Log-Likelihood:    </th> <td> -409.23</td> \n",
       "</tr>\n",
       "<tr>\n",
       "  <th>Date:</th>           <td>Thu, 18 Jul 2019</td> <th>  Deviance:          </th> <td>  818.47</td> \n",
       "</tr>\n",
       "<tr>\n",
       "  <th>Time:</th>               <td>06:30:18</td>     <th>  Pearson chi2:      </th>  <td>  698.</td>  \n",
       "</tr>\n",
       "<tr>\n",
       "  <th>No. Iterations:</th>         <td>4</td>        <th>  Covariance Type:   </th> <td>nonrobust</td>\n",
       "</tr>\n",
       "</table>\n",
       "<table class=\"simpletable\">\n",
       "<tr>\n",
       "      <td></td>         <th>coef</th>     <th>std err</th>      <th>z</th>      <th>P>|z|</th>  <th>[0.025</th>    <th>0.975]</th>  \n",
       "</tr>\n",
       "<tr>\n",
       "  <th>Intercept</th> <td>   -1.4501</td> <td>    0.150</td> <td>   -9.684</td> <td> 0.000</td> <td>   -1.744</td> <td>   -1.157</td>\n",
       "</tr>\n",
       "<tr>\n",
       "  <th>duration</th>  <td>    1.7632</td> <td>    0.386</td> <td>    4.562</td> <td> 0.000</td> <td>    1.006</td> <td>    2.521</td>\n",
       "</tr>\n",
       "</table>"
      ],
      "text/plain": [
       "<class 'statsmodels.iolib.summary.Summary'>\n",
       "\"\"\"\n",
       "                 Generalized Linear Model Regression Results                  \n",
       "==============================================================================\n",
       "Dep. Variable:                Default   No. Observations:                  700\n",
       "Model:                            GLM   Df Residuals:                      698\n",
       "Model Family:                Binomial   Df Model:                            1\n",
       "Link Function:                  logit   Scale:                          1.0000\n",
       "Method:                          IRLS   Log-Likelihood:                -409.23\n",
       "Date:                Thu, 18 Jul 2019   Deviance:                       818.47\n",
       "Time:                        06:30:18   Pearson chi2:                     698.\n",
       "No. Iterations:                     4   Covariance Type:             nonrobust\n",
       "==============================================================================\n",
       "                 coef    std err          z      P>|z|      [0.025      0.975]\n",
       "------------------------------------------------------------------------------\n",
       "Intercept     -1.4501      0.150     -9.684      0.000      -1.744      -1.157\n",
       "duration       1.7632      0.386      4.562      0.000       1.006       2.521\n",
       "==============================================================================\n",
       "\"\"\""
      ]
     },
     "execution_count": 46,
     "metadata": {},
     "output_type": "execute_result"
    }
   ],
   "source": [
    "mod_fit.summary()"
   ]
  },
  {
   "cell_type": "code",
   "execution_count": 47,
   "metadata": {},
   "outputs": [
    {
     "data": {
      "text/plain": [
       "822.4699247051092"
      ]
     },
     "execution_count": 47,
     "metadata": {},
     "output_type": "execute_result"
    }
   ],
   "source": [
    "mod_fit.aic #akaike information criteria\n",
    "#lower the aic value the better the model\n",
    "#Deviance: lower deviance of the model, better it is "
   ]
  },
  {
   "cell_type": "code",
   "execution_count": 48,
   "metadata": {},
   "outputs": [],
   "source": [
    "# Muliple Logistic Regression Model"
   ]
  },
  {
   "cell_type": "code",
   "execution_count": 49,
   "metadata": {},
   "outputs": [
    {
     "data": {
      "text/plain": [
       "'duration+amount+installment+residence+age+cards+liable+checkingstatus1_A12+checkingstatus1_A13+checkingstatus1_A14+history_A31+history_A32+history_A33+history_A34+purpose_A41+purpose_A410+purpose_A42+purpose_A43+purpose_A44+purpose_A45+purpose_A46+purpose_A48+purpose_A49+savings_A62+savings_A63+savings_A64+savings_A65+employ_A72+employ_A73+employ_A74+employ_A75+status_A92+status_A93+status_A94+others_A102+others_A103+property_A122+property_A123+property_A124+otherplans_A142+otherplans_A143+housing_A152+housing_A153+job_A172+job_A173+job_A174+tele_A192+foreign_A202'"
      ]
     },
     "execution_count": 49,
     "metadata": {},
     "output_type": "execute_result"
    }
   ],
   "source": [
    "x= \"+\".join(train.columns[1:])\n",
    "x"
   ]
  },
  {
   "cell_type": "code",
   "execution_count": 50,
   "metadata": {},
   "outputs": [],
   "source": [
    "#Default and the duration\n",
    "mod = glm(formula = \"Default~\" + x, data = train, family = sm.families.Binomial()).fit()\n",
    "#family: for the response variable is binomial"
   ]
  },
  {
   "cell_type": "code",
   "execution_count": 51,
   "metadata": {},
   "outputs": [
    {
     "data": {
      "text/html": [
       "<table class=\"simpletable\">\n",
       "<caption>Generalized Linear Model Regression Results</caption>\n",
       "<tr>\n",
       "  <th>Dep. Variable:</th>       <td>Default</td>     <th>  No. Observations:  </th>  <td>   700</td>  \n",
       "</tr>\n",
       "<tr>\n",
       "  <th>Model:</th>                 <td>GLM</td>       <th>  Df Residuals:      </th>  <td>   651</td>  \n",
       "</tr>\n",
       "<tr>\n",
       "  <th>Model Family:</th>       <td>Binomial</td>     <th>  Df Model:          </th>  <td>    48</td>  \n",
       "</tr>\n",
       "<tr>\n",
       "  <th>Link Function:</th>        <td>logit</td>      <th>  Scale:             </th> <td>  1.0000</td> \n",
       "</tr>\n",
       "<tr>\n",
       "  <th>Method:</th>               <td>IRLS</td>       <th>  Log-Likelihood:    </th> <td> -299.95</td> \n",
       "</tr>\n",
       "<tr>\n",
       "  <th>Date:</th>           <td>Thu, 18 Jul 2019</td> <th>  Deviance:          </th> <td>  599.90</td> \n",
       "</tr>\n",
       "<tr>\n",
       "  <th>Time:</th>               <td>06:30:18</td>     <th>  Pearson chi2:      </th>  <td>  679.</td>  \n",
       "</tr>\n",
       "<tr>\n",
       "  <th>No. Iterations:</th>         <td>6</td>        <th>  Covariance Type:   </th> <td>nonrobust</td>\n",
       "</tr>\n",
       "</table>\n",
       "<table class=\"simpletable\">\n",
       "<tr>\n",
       "           <td></td>              <th>coef</th>     <th>std err</th>      <th>z</th>      <th>P>|z|</th>  <th>[0.025</th>    <th>0.975]</th>  \n",
       "</tr>\n",
       "<tr>\n",
       "  <th>Intercept</th>           <td>   -0.0951</td> <td>    1.331</td> <td>   -0.071</td> <td> 0.943</td> <td>   -2.704</td> <td>    2.513</td>\n",
       "</tr>\n",
       "<tr>\n",
       "  <th>duration</th>            <td>    1.3727</td> <td>    0.661</td> <td>    2.075</td> <td> 0.038</td> <td>    0.076</td> <td>    2.669</td>\n",
       "</tr>\n",
       "<tr>\n",
       "  <th>amount</th>              <td>    2.3507</td> <td>    1.052</td> <td>    2.235</td> <td> 0.025</td> <td>    0.289</td> <td>    4.412</td>\n",
       "</tr>\n",
       "<tr>\n",
       "  <th>installment</th>         <td>    0.9638</td> <td>    0.330</td> <td>    2.923</td> <td> 0.003</td> <td>    0.317</td> <td>    1.610</td>\n",
       "</tr>\n",
       "<tr>\n",
       "  <th>residence</th>           <td>    0.2543</td> <td>    0.323</td> <td>    0.787</td> <td> 0.431</td> <td>   -0.379</td> <td>    0.888</td>\n",
       "</tr>\n",
       "<tr>\n",
       "  <th>age</th>                 <td>   -0.8368</td> <td>    0.641</td> <td>   -1.305</td> <td> 0.192</td> <td>   -2.093</td> <td>    0.420</td>\n",
       "</tr>\n",
       "<tr>\n",
       "  <th>cards</th>               <td>   -0.0503</td> <td>    0.782</td> <td>   -0.064</td> <td> 0.949</td> <td>   -1.583</td> <td>    1.482</td>\n",
       "</tr>\n",
       "<tr>\n",
       "  <th>liable</th>              <td>    0.5392</td> <td>    0.297</td> <td>    1.817</td> <td> 0.069</td> <td>   -0.042</td> <td>    1.121</td>\n",
       "</tr>\n",
       "<tr>\n",
       "  <th>checkingstatus1_A12</th> <td>   -0.2249</td> <td>    0.269</td> <td>   -0.837</td> <td> 0.402</td> <td>   -0.751</td> <td>    0.302</td>\n",
       "</tr>\n",
       "<tr>\n",
       "  <th>checkingstatus1_A13</th> <td>   -1.7169</td> <td>    0.555</td> <td>   -3.095</td> <td> 0.002</td> <td>   -2.804</td> <td>   -0.630</td>\n",
       "</tr>\n",
       "<tr>\n",
       "  <th>checkingstatus1_A14</th> <td>   -1.5508</td> <td>    0.277</td> <td>   -5.594</td> <td> 0.000</td> <td>   -2.094</td> <td>   -1.007</td>\n",
       "</tr>\n",
       "<tr>\n",
       "  <th>history_A31</th>         <td>   -0.0076</td> <td>    0.691</td> <td>   -0.011</td> <td> 0.991</td> <td>   -1.362</td> <td>    1.347</td>\n",
       "</tr>\n",
       "<tr>\n",
       "  <th>history_A32</th>         <td>   -0.4381</td> <td>    0.548</td> <td>   -0.800</td> <td> 0.424</td> <td>   -1.512</td> <td>    0.635</td>\n",
       "</tr>\n",
       "<tr>\n",
       "  <th>history_A33</th>         <td>   -0.6814</td> <td>    0.592</td> <td>   -1.151</td> <td> 0.250</td> <td>   -1.842</td> <td>    0.479</td>\n",
       "</tr>\n",
       "<tr>\n",
       "  <th>history_A34</th>         <td>   -1.1647</td> <td>    0.550</td> <td>   -2.116</td> <td> 0.034</td> <td>   -2.243</td> <td>   -0.086</td>\n",
       "</tr>\n",
       "<tr>\n",
       "  <th>purpose_A41</th>         <td>   -2.2177</td> <td>    0.521</td> <td>   -4.253</td> <td> 0.000</td> <td>   -3.240</td> <td>   -1.196</td>\n",
       "</tr>\n",
       "<tr>\n",
       "  <th>purpose_A410</th>        <td>   -1.2854</td> <td>    0.903</td> <td>   -1.424</td> <td> 0.155</td> <td>   -3.055</td> <td>    0.484</td>\n",
       "</tr>\n",
       "<tr>\n",
       "  <th>purpose_A42</th>         <td>   -0.7687</td> <td>    0.317</td> <td>   -2.428</td> <td> 0.015</td> <td>   -1.389</td> <td>   -0.148</td>\n",
       "</tr>\n",
       "<tr>\n",
       "  <th>purpose_A43</th>         <td>   -0.9039</td> <td>    0.308</td> <td>   -2.939</td> <td> 0.003</td> <td>   -1.507</td> <td>   -0.301</td>\n",
       "</tr>\n",
       "<tr>\n",
       "  <th>purpose_A44</th>         <td>   -0.2707</td> <td>    0.791</td> <td>   -0.342</td> <td> 0.732</td> <td>   -1.822</td> <td>    1.281</td>\n",
       "</tr>\n",
       "<tr>\n",
       "  <th>purpose_A45</th>         <td>    0.3374</td> <td>    0.667</td> <td>    0.506</td> <td> 0.613</td> <td>   -0.969</td> <td>    1.644</td>\n",
       "</tr>\n",
       "<tr>\n",
       "  <th>purpose_A46</th>         <td>   -0.2229</td> <td>    0.478</td> <td>   -0.466</td> <td> 0.641</td> <td>   -1.160</td> <td>    0.714</td>\n",
       "</tr>\n",
       "<tr>\n",
       "  <th>purpose_A48</th>         <td>   -1.1666</td> <td>    1.250</td> <td>   -0.933</td> <td> 0.351</td> <td>   -3.617</td> <td>    1.284</td>\n",
       "</tr>\n",
       "<tr>\n",
       "  <th>purpose_A49</th>         <td>   -0.7676</td> <td>    0.429</td> <td>   -1.789</td> <td> 0.074</td> <td>   -1.609</td> <td>    0.073</td>\n",
       "</tr>\n",
       "<tr>\n",
       "  <th>savings_A62</th>         <td>   -0.3097</td> <td>    0.367</td> <td>   -0.844</td> <td> 0.399</td> <td>   -1.029</td> <td>    0.410</td>\n",
       "</tr>\n",
       "<tr>\n",
       "  <th>savings_A63</th>         <td>   -0.4363</td> <td>    0.497</td> <td>   -0.878</td> <td> 0.380</td> <td>   -1.410</td> <td>    0.538</td>\n",
       "</tr>\n",
       "<tr>\n",
       "  <th>savings_A64</th>         <td>   -1.0452</td> <td>    0.602</td> <td>   -1.736</td> <td> 0.083</td> <td>   -2.225</td> <td>    0.135</td>\n",
       "</tr>\n",
       "<tr>\n",
       "  <th>savings_A65</th>         <td>   -1.0650</td> <td>    0.329</td> <td>   -3.236</td> <td> 0.001</td> <td>   -1.710</td> <td>   -0.420</td>\n",
       "</tr>\n",
       "<tr>\n",
       "  <th>employ_A72</th>          <td>   -0.2766</td> <td>    0.531</td> <td>   -0.521</td> <td> 0.602</td> <td>   -1.317</td> <td>    0.763</td>\n",
       "</tr>\n",
       "<tr>\n",
       "  <th>employ_A73</th>          <td>   -0.1578</td> <td>    0.499</td> <td>   -0.316</td> <td> 0.752</td> <td>   -1.136</td> <td>    0.821</td>\n",
       "</tr>\n",
       "<tr>\n",
       "  <th>employ_A74</th>          <td>   -1.2060</td> <td>    0.553</td> <td>   -2.182</td> <td> 0.029</td> <td>   -2.289</td> <td>   -0.123</td>\n",
       "</tr>\n",
       "<tr>\n",
       "  <th>employ_A75</th>          <td>   -0.3927</td> <td>    0.509</td> <td>   -0.771</td> <td> 0.440</td> <td>   -1.390</td> <td>    0.605</td>\n",
       "</tr>\n",
       "<tr>\n",
       "  <th>status_A92</th>          <td>   -0.2412</td> <td>    0.474</td> <td>   -0.509</td> <td> 0.611</td> <td>   -1.170</td> <td>    0.687</td>\n",
       "</tr>\n",
       "<tr>\n",
       "  <th>status_A93</th>          <td>   -0.9336</td> <td>    0.467</td> <td>   -1.998</td> <td> 0.046</td> <td>   -1.849</td> <td>   -0.018</td>\n",
       "</tr>\n",
       "<tr>\n",
       "  <th>status_A94</th>          <td>   -0.3405</td> <td>    0.560</td> <td>   -0.608</td> <td> 0.543</td> <td>   -1.438</td> <td>    0.757</td>\n",
       "</tr>\n",
       "<tr>\n",
       "  <th>others_A102</th>         <td>    0.6217</td> <td>    0.525</td> <td>    1.185</td> <td> 0.236</td> <td>   -0.407</td> <td>    1.650</td>\n",
       "</tr>\n",
       "<tr>\n",
       "  <th>others_A103</th>         <td>   -0.8153</td> <td>    0.525</td> <td>   -1.552</td> <td> 0.121</td> <td>   -1.845</td> <td>    0.215</td>\n",
       "</tr>\n",
       "<tr>\n",
       "  <th>property_A122</th>       <td>    0.6920</td> <td>    0.311</td> <td>    2.225</td> <td> 0.026</td> <td>    0.082</td> <td>    1.302</td>\n",
       "</tr>\n",
       "<tr>\n",
       "  <th>property_A123</th>       <td>    0.5989</td> <td>    0.298</td> <td>    2.009</td> <td> 0.044</td> <td>    0.015</td> <td>    1.183</td>\n",
       "</tr>\n",
       "<tr>\n",
       "  <th>property_A124</th>       <td>    1.2677</td> <td>    0.530</td> <td>    2.391</td> <td> 0.017</td> <td>    0.229</td> <td>    2.307</td>\n",
       "</tr>\n",
       "<tr>\n",
       "  <th>otherplans_A142</th>     <td>   -0.4158</td> <td>    0.527</td> <td>   -0.790</td> <td> 0.430</td> <td>   -1.448</td> <td>    0.616</td>\n",
       "</tr>\n",
       "<tr>\n",
       "  <th>otherplans_A143</th>     <td>   -0.6754</td> <td>    0.291</td> <td>   -2.322</td> <td> 0.020</td> <td>   -1.245</td> <td>   -0.105</td>\n",
       "</tr>\n",
       "<tr>\n",
       "  <th>housing_A152</th>        <td>   -0.5789</td> <td>    0.289</td> <td>   -2.005</td> <td> 0.045</td> <td>   -1.145</td> <td>   -0.013</td>\n",
       "</tr>\n",
       "<tr>\n",
       "  <th>housing_A153</th>        <td>   -0.7871</td> <td>    0.579</td> <td>   -1.360</td> <td> 0.174</td> <td>   -1.922</td> <td>    0.348</td>\n",
       "</tr>\n",
       "<tr>\n",
       "  <th>job_A172</th>            <td>    1.6509</td> <td>    1.013</td> <td>    1.629</td> <td> 0.103</td> <td>   -0.335</td> <td>    3.637</td>\n",
       "</tr>\n",
       "<tr>\n",
       "  <th>job_A173</th>            <td>    1.4738</td> <td>    0.989</td> <td>    1.491</td> <td> 0.136</td> <td>   -0.464</td> <td>    3.411</td>\n",
       "</tr>\n",
       "<tr>\n",
       "  <th>job_A174</th>            <td>    1.6927</td> <td>    1.006</td> <td>    1.682</td> <td> 0.092</td> <td>   -0.279</td> <td>    3.664</td>\n",
       "</tr>\n",
       "<tr>\n",
       "  <th>tele_A192</th>           <td>   -0.4698</td> <td>    0.251</td> <td>   -1.869</td> <td> 0.062</td> <td>   -0.962</td> <td>    0.023</td>\n",
       "</tr>\n",
       "<tr>\n",
       "  <th>foreign_A202</th>        <td>   -1.2033</td> <td>    0.691</td> <td>   -1.742</td> <td> 0.082</td> <td>   -2.558</td> <td>    0.151</td>\n",
       "</tr>\n",
       "</table>"
      ],
      "text/plain": [
       "<class 'statsmodels.iolib.summary.Summary'>\n",
       "\"\"\"\n",
       "                 Generalized Linear Model Regression Results                  \n",
       "==============================================================================\n",
       "Dep. Variable:                Default   No. Observations:                  700\n",
       "Model:                            GLM   Df Residuals:                      651\n",
       "Model Family:                Binomial   Df Model:                           48\n",
       "Link Function:                  logit   Scale:                          1.0000\n",
       "Method:                          IRLS   Log-Likelihood:                -299.95\n",
       "Date:                Thu, 18 Jul 2019   Deviance:                       599.90\n",
       "Time:                        06:30:18   Pearson chi2:                     679.\n",
       "No. Iterations:                     6   Covariance Type:             nonrobust\n",
       "=======================================================================================\n",
       "                          coef    std err          z      P>|z|      [0.025      0.975]\n",
       "---------------------------------------------------------------------------------------\n",
       "Intercept              -0.0951      1.331     -0.071      0.943      -2.704       2.513\n",
       "duration                1.3727      0.661      2.075      0.038       0.076       2.669\n",
       "amount                  2.3507      1.052      2.235      0.025       0.289       4.412\n",
       "installment             0.9638      0.330      2.923      0.003       0.317       1.610\n",
       "residence               0.2543      0.323      0.787      0.431      -0.379       0.888\n",
       "age                    -0.8368      0.641     -1.305      0.192      -2.093       0.420\n",
       "cards                  -0.0503      0.782     -0.064      0.949      -1.583       1.482\n",
       "liable                  0.5392      0.297      1.817      0.069      -0.042       1.121\n",
       "checkingstatus1_A12    -0.2249      0.269     -0.837      0.402      -0.751       0.302\n",
       "checkingstatus1_A13    -1.7169      0.555     -3.095      0.002      -2.804      -0.630\n",
       "checkingstatus1_A14    -1.5508      0.277     -5.594      0.000      -2.094      -1.007\n",
       "history_A31            -0.0076      0.691     -0.011      0.991      -1.362       1.347\n",
       "history_A32            -0.4381      0.548     -0.800      0.424      -1.512       0.635\n",
       "history_A33            -0.6814      0.592     -1.151      0.250      -1.842       0.479\n",
       "history_A34            -1.1647      0.550     -2.116      0.034      -2.243      -0.086\n",
       "purpose_A41            -2.2177      0.521     -4.253      0.000      -3.240      -1.196\n",
       "purpose_A410           -1.2854      0.903     -1.424      0.155      -3.055       0.484\n",
       "purpose_A42            -0.7687      0.317     -2.428      0.015      -1.389      -0.148\n",
       "purpose_A43            -0.9039      0.308     -2.939      0.003      -1.507      -0.301\n",
       "purpose_A44            -0.2707      0.791     -0.342      0.732      -1.822       1.281\n",
       "purpose_A45             0.3374      0.667      0.506      0.613      -0.969       1.644\n",
       "purpose_A46            -0.2229      0.478     -0.466      0.641      -1.160       0.714\n",
       "purpose_A48            -1.1666      1.250     -0.933      0.351      -3.617       1.284\n",
       "purpose_A49            -0.7676      0.429     -1.789      0.074      -1.609       0.073\n",
       "savings_A62            -0.3097      0.367     -0.844      0.399      -1.029       0.410\n",
       "savings_A63            -0.4363      0.497     -0.878      0.380      -1.410       0.538\n",
       "savings_A64            -1.0452      0.602     -1.736      0.083      -2.225       0.135\n",
       "savings_A65            -1.0650      0.329     -3.236      0.001      -1.710      -0.420\n",
       "employ_A72             -0.2766      0.531     -0.521      0.602      -1.317       0.763\n",
       "employ_A73             -0.1578      0.499     -0.316      0.752      -1.136       0.821\n",
       "employ_A74             -1.2060      0.553     -2.182      0.029      -2.289      -0.123\n",
       "employ_A75             -0.3927      0.509     -0.771      0.440      -1.390       0.605\n",
       "status_A92             -0.2412      0.474     -0.509      0.611      -1.170       0.687\n",
       "status_A93             -0.9336      0.467     -1.998      0.046      -1.849      -0.018\n",
       "status_A94             -0.3405      0.560     -0.608      0.543      -1.438       0.757\n",
       "others_A102             0.6217      0.525      1.185      0.236      -0.407       1.650\n",
       "others_A103            -0.8153      0.525     -1.552      0.121      -1.845       0.215\n",
       "property_A122           0.6920      0.311      2.225      0.026       0.082       1.302\n",
       "property_A123           0.5989      0.298      2.009      0.044       0.015       1.183\n",
       "property_A124           1.2677      0.530      2.391      0.017       0.229       2.307\n",
       "otherplans_A142        -0.4158      0.527     -0.790      0.430      -1.448       0.616\n",
       "otherplans_A143        -0.6754      0.291     -2.322      0.020      -1.245      -0.105\n",
       "housing_A152           -0.5789      0.289     -2.005      0.045      -1.145      -0.013\n",
       "housing_A153           -0.7871      0.579     -1.360      0.174      -1.922       0.348\n",
       "job_A172                1.6509      1.013      1.629      0.103      -0.335       3.637\n",
       "job_A173                1.4738      0.989      1.491      0.136      -0.464       3.411\n",
       "job_A174                1.6927      1.006      1.682      0.092      -0.279       3.664\n",
       "tele_A192              -0.4698      0.251     -1.869      0.062      -0.962       0.023\n",
       "foreign_A202           -1.2033      0.691     -1.742      0.082      -2.558       0.151\n",
       "=======================================================================================\n",
       "\"\"\""
      ]
     },
     "execution_count": 51,
     "metadata": {},
     "output_type": "execute_result"
    }
   ],
   "source": [
    "mod.summary()"
   ]
  },
  {
   "cell_type": "code",
   "execution_count": 52,
   "metadata": {},
   "outputs": [],
   "source": [
    "#reject the variables which are insignificant (i.e have p values > 5%)\n",
    "#find out the correlations between the continuous variables and make sure there is no redundant infomation"
   ]
  },
  {
   "cell_type": "code",
   "execution_count": 53,
   "metadata": {},
   "outputs": [
    {
     "data": {
      "text/plain": [
       "697.9019679119301"
      ]
     },
     "execution_count": 53,
     "metadata": {},
     "output_type": "execute_result"
    }
   ],
   "source": [
    "mod.aic"
   ]
  },
  {
   "cell_type": "code",
   "execution_count": 54,
   "metadata": {},
   "outputs": [
    {
     "data": {
      "text/plain": [
       "duration               3.794337e-02\n",
       "amount                 2.540921e-02\n",
       "installment            3.469611e-03\n",
       "checkingstatus1_A13    1.966438e-03\n",
       "checkingstatus1_A14    2.213222e-08\n",
       "history_A34            3.434632e-02\n",
       "purpose_A41            2.108879e-05\n",
       "purpose_A42            1.518829e-02\n",
       "purpose_A43            3.292617e-03\n",
       "savings_A65            1.211893e-03\n",
       "employ_A74             2.913604e-02\n",
       "status_A93             4.572144e-02\n",
       "property_A122          2.610691e-02\n",
       "property_A123          4.449354e-02\n",
       "property_A124          1.680137e-02\n",
       "otherplans_A143        2.023038e-02\n",
       "housing_A152           4.498791e-02\n",
       "dtype: float64"
      ]
     },
     "execution_count": 54,
     "metadata": {},
     "output_type": "execute_result"
    }
   ],
   "source": [
    "selected_vars = mod.pvalues[mod.pvalues<.05]\n",
    "selected_vars"
   ]
  },
  {
   "cell_type": "code",
   "execution_count": 55,
   "metadata": {},
   "outputs": [
    {
     "data": {
      "text/plain": [
       "'duration+amount+installment+checkingstatus1_A13+checkingstatus1_A14+history_A34+purpose_A41+purpose_A42+purpose_A43+savings_A65+employ_A74+status_A93+property_A122+property_A123+property_A124+otherplans_A143+housing_A152'"
      ]
     },
     "execution_count": 55,
     "metadata": {},
     "output_type": "execute_result"
    }
   ],
   "source": [
    "features = \"+\".join(selected_vars.index)\n",
    "features"
   ]
  },
  {
   "cell_type": "code",
   "execution_count": 56,
   "metadata": {},
   "outputs": [],
   "source": [
    "#Default \n",
    "mod2 = glm(formula = \"Default~\" + features, data = train, family = sm.families.Binomial()).fit()\n",
    "#family: for the response variable is binomial"
   ]
  },
  {
   "cell_type": "code",
   "execution_count": 57,
   "metadata": {},
   "outputs": [
    {
     "data": {
      "text/plain": [
       "675.544550156749"
      ]
     },
     "execution_count": 57,
     "metadata": {},
     "output_type": "execute_result"
    }
   ],
   "source": [
    "mod2.aic"
   ]
  },
  {
   "cell_type": "code",
   "execution_count": 58,
   "metadata": {},
   "outputs": [
    {
     "data": {
      "text/plain": [
       "Intercept          0.696540\n",
       "amount             0.052625\n",
       "purpose_A42        0.138705\n",
       "otherplans_A143    0.056489\n",
       "dtype: float64"
      ]
     },
     "execution_count": 58,
     "metadata": {},
     "output_type": "execute_result"
    }
   ],
   "source": [
    "mod2.pvalues[mod2.pvalues>.05]"
   ]
  },
  {
   "cell_type": "code",
   "execution_count": 59,
   "metadata": {},
   "outputs": [],
   "source": [
    "#we will take out out only purpose_A42"
   ]
  },
  {
   "cell_type": "code",
   "execution_count": 60,
   "metadata": {},
   "outputs": [
    {
     "data": {
      "text/plain": [
       "'duration+amount+installment+checkingstatus1_A13+checkingstatus1_A14+history_A34+purpose_A41+purpose_A43+savings_A65+employ_A74+status_A93+property_A122+property_A123+property_A124+otherplans_A143+housing_A152'"
      ]
     },
     "execution_count": 60,
     "metadata": {},
     "output_type": "execute_result"
    }
   ],
   "source": [
    "newfeatures = features.replace(\"+purpose_A42\",\"\")\n",
    "newfeatures"
   ]
  },
  {
   "cell_type": "code",
   "execution_count": 61,
   "metadata": {},
   "outputs": [],
   "source": [
    "mod3 = glm(formula = \"Default~\" + newfeatures, data = train, family = sm.families.Binomial()).fit()"
   ]
  },
  {
   "cell_type": "code",
   "execution_count": 62,
   "metadata": {},
   "outputs": [
    {
     "data": {
      "text/plain": [
       "675.7657880174029"
      ]
     },
     "execution_count": 62,
     "metadata": {},
     "output_type": "execute_result"
    }
   ],
   "source": [
    "mod3.aic"
   ]
  },
  {
   "cell_type": "code",
   "execution_count": 63,
   "metadata": {},
   "outputs": [],
   "source": [
    "#Check intercorrelations between the continuous X vars"
   ]
  },
  {
   "cell_type": "code",
   "execution_count": 64,
   "metadata": {},
   "outputs": [
    {
     "data": {
      "text/html": [
       "<div>\n",
       "<style scoped>\n",
       "    .dataframe tbody tr th:only-of-type {\n",
       "        vertical-align: middle;\n",
       "    }\n",
       "\n",
       "    .dataframe tbody tr th {\n",
       "        vertical-align: top;\n",
       "    }\n",
       "\n",
       "    .dataframe thead th {\n",
       "        text-align: right;\n",
       "    }\n",
       "</style>\n",
       "<table border=\"1\" class=\"dataframe\">\n",
       "  <thead>\n",
       "    <tr style=\"text-align: right;\">\n",
       "      <th></th>\n",
       "      <th>duration</th>\n",
       "      <th>amount</th>\n",
       "      <th>installment</th>\n",
       "      <th>checkingstatus1_A13</th>\n",
       "      <th>checkingstatus1_A14</th>\n",
       "      <th>history_A34</th>\n",
       "      <th>purpose_A41</th>\n",
       "      <th>purpose_A43</th>\n",
       "      <th>savings_A65</th>\n",
       "      <th>employ_A74</th>\n",
       "      <th>status_A93</th>\n",
       "      <th>property_A122</th>\n",
       "      <th>property_A123</th>\n",
       "      <th>property_A124</th>\n",
       "      <th>otherplans_A143</th>\n",
       "      <th>housing_A152</th>\n",
       "    </tr>\n",
       "  </thead>\n",
       "  <tbody>\n",
       "    <tr>\n",
       "      <th>0</th>\n",
       "      <td>0.142857</td>\n",
       "      <td>0.020249</td>\n",
       "      <td>1.0</td>\n",
       "      <td>0.0</td>\n",
       "      <td>1.0</td>\n",
       "      <td>1.0</td>\n",
       "      <td>0.0</td>\n",
       "      <td>1.0</td>\n",
       "      <td>0.0</td>\n",
       "      <td>0.0</td>\n",
       "      <td>1.0</td>\n",
       "      <td>0.0</td>\n",
       "      <td>0.0</td>\n",
       "      <td>0.0</td>\n",
       "      <td>1.0</td>\n",
       "      <td>1.0</td>\n",
       "    </tr>\n",
       "    <tr>\n",
       "      <th>1</th>\n",
       "      <td>0.035714</td>\n",
       "      <td>0.071146</td>\n",
       "      <td>1.0</td>\n",
       "      <td>0.0</td>\n",
       "      <td>1.0</td>\n",
       "      <td>0.0</td>\n",
       "      <td>0.0</td>\n",
       "      <td>0.0</td>\n",
       "      <td>0.0</td>\n",
       "      <td>0.0</td>\n",
       "      <td>0.0</td>\n",
       "      <td>0.0</td>\n",
       "      <td>0.0</td>\n",
       "      <td>0.0</td>\n",
       "      <td>1.0</td>\n",
       "      <td>1.0</td>\n",
       "    </tr>\n",
       "    <tr>\n",
       "      <th>2</th>\n",
       "      <td>0.142857</td>\n",
       "      <td>0.024816</td>\n",
       "      <td>1.0</td>\n",
       "      <td>0.0</td>\n",
       "      <td>0.0</td>\n",
       "      <td>0.0</td>\n",
       "      <td>0.0</td>\n",
       "      <td>1.0</td>\n",
       "      <td>0.0</td>\n",
       "      <td>0.0</td>\n",
       "      <td>0.0</td>\n",
       "      <td>0.0</td>\n",
       "      <td>0.0</td>\n",
       "      <td>0.0</td>\n",
       "      <td>1.0</td>\n",
       "      <td>1.0</td>\n",
       "    </tr>\n",
       "  </tbody>\n",
       "</table>\n",
       "</div>"
      ],
      "text/plain": [
       "   duration    amount  installment  checkingstatus1_A13  checkingstatus1_A14  \\\n",
       "0  0.142857  0.020249          1.0                  0.0                  1.0   \n",
       "1  0.035714  0.071146          1.0                  0.0                  1.0   \n",
       "2  0.142857  0.024816          1.0                  0.0                  0.0   \n",
       "\n",
       "   history_A34  purpose_A41  purpose_A43  savings_A65  employ_A74  status_A93  \\\n",
       "0          1.0          0.0          1.0          0.0         0.0         1.0   \n",
       "1          0.0          0.0          0.0          0.0         0.0         0.0   \n",
       "2          0.0          0.0          1.0          0.0         0.0         0.0   \n",
       "\n",
       "   property_A122  property_A123  property_A124  otherplans_A143  housing_A152  \n",
       "0            0.0            0.0            0.0              1.0           1.0  \n",
       "1            0.0            0.0            0.0              1.0           1.0  \n",
       "2            0.0            0.0            0.0              1.0           1.0  "
      ]
     },
     "execution_count": 64,
     "metadata": {},
     "output_type": "execute_result"
    }
   ],
   "source": [
    "train[newfeatures.split(\"+\")].head(3)"
   ]
  },
  {
   "cell_type": "code",
   "execution_count": 65,
   "metadata": {},
   "outputs": [
    {
     "data": {
      "text/html": [
       "<div>\n",
       "<style scoped>\n",
       "    .dataframe tbody tr th:only-of-type {\n",
       "        vertical-align: middle;\n",
       "    }\n",
       "\n",
       "    .dataframe tbody tr th {\n",
       "        vertical-align: top;\n",
       "    }\n",
       "\n",
       "    .dataframe thead th {\n",
       "        text-align: right;\n",
       "    }\n",
       "</style>\n",
       "<table border=\"1\" class=\"dataframe\">\n",
       "  <thead>\n",
       "    <tr style=\"text-align: right;\">\n",
       "      <th></th>\n",
       "      <th>duration</th>\n",
       "      <th>amount</th>\n",
       "    </tr>\n",
       "  </thead>\n",
       "  <tbody>\n",
       "    <tr>\n",
       "      <th>duration</th>\n",
       "      <td>1.000000</td>\n",
       "      <td>0.614011</td>\n",
       "    </tr>\n",
       "    <tr>\n",
       "      <th>amount</th>\n",
       "      <td>0.614011</td>\n",
       "      <td>1.000000</td>\n",
       "    </tr>\n",
       "  </tbody>\n",
       "</table>\n",
       "</div>"
      ],
      "text/plain": [
       "          duration    amount\n",
       "duration  1.000000  0.614011\n",
       "amount    0.614011  1.000000"
      ]
     },
     "execution_count": 65,
     "metadata": {},
     "output_type": "execute_result"
    }
   ],
   "source": [
    "train[[\"duration\", \"amount\"]].corr() #medium correlation. We'll keep both the features"
   ]
  },
  {
   "cell_type": "code",
   "execution_count": 66,
   "metadata": {},
   "outputs": [],
   "source": [
    "ypred = mod3.predict(X_test)"
   ]
  },
  {
   "cell_type": "code",
   "execution_count": 67,
   "metadata": {},
   "outputs": [],
   "source": [
    "y_class = []\n",
    "threshold = .5\n",
    "for i in ypred:\n",
    "    if i<threshold:\n",
    "        y_class.append(0)\n",
    "    else:\n",
    "        y_class.append(1)"
   ]
  },
  {
   "cell_type": "code",
   "execution_count": 68,
   "metadata": {
    "scrolled": true
   },
   "outputs": [
    {
     "data": {
      "text/html": [
       "<div>\n",
       "<style scoped>\n",
       "    .dataframe tbody tr th:only-of-type {\n",
       "        vertical-align: middle;\n",
       "    }\n",
       "\n",
       "    .dataframe tbody tr th {\n",
       "        vertical-align: top;\n",
       "    }\n",
       "\n",
       "    .dataframe thead th {\n",
       "        text-align: right;\n",
       "    }\n",
       "</style>\n",
       "<table border=\"1\" class=\"dataframe\">\n",
       "  <thead>\n",
       "    <tr style=\"text-align: right;\">\n",
       "      <th></th>\n",
       "      <th>Default</th>\n",
       "    </tr>\n",
       "  </thead>\n",
       "  <tbody>\n",
       "    <tr>\n",
       "      <th>0</th>\n",
       "      <td>1</td>\n",
       "    </tr>\n",
       "    <tr>\n",
       "      <th>1</th>\n",
       "      <td>0</td>\n",
       "    </tr>\n",
       "    <tr>\n",
       "      <th>2</th>\n",
       "      <td>1</td>\n",
       "    </tr>\n",
       "  </tbody>\n",
       "</table>\n",
       "</div>"
      ],
      "text/plain": [
       "   Default\n",
       "0        1\n",
       "1        0\n",
       "2        1"
      ]
     },
     "execution_count": 68,
     "metadata": {},
     "output_type": "execute_result"
    }
   ],
   "source": [
    "y_test.head(3)"
   ]
  },
  {
   "cell_type": "code",
   "execution_count": 69,
   "metadata": {},
   "outputs": [],
   "source": [
    "y_class = pd.Series(y_class)"
   ]
  },
  {
   "cell_type": "code",
   "execution_count": 70,
   "metadata": {},
   "outputs": [
    {
     "data": {
      "text/html": [
       "<div>\n",
       "<style scoped>\n",
       "    .dataframe tbody tr th:only-of-type {\n",
       "        vertical-align: middle;\n",
       "    }\n",
       "\n",
       "    .dataframe tbody tr th {\n",
       "        vertical-align: top;\n",
       "    }\n",
       "\n",
       "    .dataframe thead th {\n",
       "        text-align: right;\n",
       "    }\n",
       "</style>\n",
       "<table border=\"1\" class=\"dataframe\">\n",
       "  <thead>\n",
       "    <tr style=\"text-align: right;\">\n",
       "      <th></th>\n",
       "      <th>Actual</th>\n",
       "      <th>Predicted</th>\n",
       "    </tr>\n",
       "  </thead>\n",
       "  <tbody>\n",
       "    <tr>\n",
       "      <th>0</th>\n",
       "      <td>1</td>\n",
       "      <td>0</td>\n",
       "    </tr>\n",
       "    <tr>\n",
       "      <th>1</th>\n",
       "      <td>0</td>\n",
       "      <td>0</td>\n",
       "    </tr>\n",
       "    <tr>\n",
       "      <th>2</th>\n",
       "      <td>1</td>\n",
       "      <td>0</td>\n",
       "    </tr>\n",
       "    <tr>\n",
       "      <th>3</th>\n",
       "      <td>1</td>\n",
       "      <td>1</td>\n",
       "    </tr>\n",
       "  </tbody>\n",
       "</table>\n",
       "</div>"
      ],
      "text/plain": [
       "   Actual  Predicted\n",
       "0       1          0\n",
       "1       0          0\n",
       "2       1          0\n",
       "3       1          1"
      ]
     },
     "execution_count": 70,
     "metadata": {},
     "output_type": "execute_result"
    }
   ],
   "source": [
    "df = pd.DataFrame({\"Actual\": y_test.Default, \"Predicted\": y_class})\n",
    "df.head(4)"
   ]
  },
  {
   "cell_type": "code",
   "execution_count": 71,
   "metadata": {
    "scrolled": true
   },
   "outputs": [],
   "source": [
    "#to understand the frequencies of predicted 0, actual 0; predicted 1 actual 1 ; predicted 0 actual 1 and predicted 1 actual 0\n",
    "table = pd.DataFrame(pd.crosstab(df.Actual, df.Predicted))"
   ]
  },
  {
   "cell_type": "code",
   "execution_count": 72,
   "metadata": {},
   "outputs": [
    {
     "data": {
      "text/html": [
       "<div>\n",
       "<style scoped>\n",
       "    .dataframe tbody tr th:only-of-type {\n",
       "        vertical-align: middle;\n",
       "    }\n",
       "\n",
       "    .dataframe tbody tr th {\n",
       "        vertical-align: top;\n",
       "    }\n",
       "\n",
       "    .dataframe thead th {\n",
       "        text-align: right;\n",
       "    }\n",
       "</style>\n",
       "<table border=\"1\" class=\"dataframe\">\n",
       "  <thead>\n",
       "    <tr style=\"text-align: right;\">\n",
       "      <th>Predicted</th>\n",
       "      <th>0</th>\n",
       "      <th>1</th>\n",
       "    </tr>\n",
       "    <tr>\n",
       "      <th>Actual</th>\n",
       "      <th></th>\n",
       "      <th></th>\n",
       "    </tr>\n",
       "  </thead>\n",
       "  <tbody>\n",
       "    <tr>\n",
       "      <th>0</th>\n",
       "      <td>173</td>\n",
       "      <td>28</td>\n",
       "    </tr>\n",
       "    <tr>\n",
       "      <th>1</th>\n",
       "      <td>57</td>\n",
       "      <td>42</td>\n",
       "    </tr>\n",
       "  </tbody>\n",
       "</table>\n",
       "</div>"
      ],
      "text/plain": [
       "Predicted    0   1\n",
       "Actual            \n",
       "0          173  28\n",
       "1           57  42"
      ]
     },
     "execution_count": 72,
     "metadata": {},
     "output_type": "execute_result"
    }
   ],
   "source": [
    "table"
   ]
  },
  {
   "cell_type": "code",
   "execution_count": 73,
   "metadata": {},
   "outputs": [],
   "source": [
    "TP = table.iloc[1,1]\n",
    "TN = table.iloc[0,0]\n",
    "FP = table.iloc[0,1]\n",
    "FN = table.iloc[1,0]"
   ]
  },
  {
   "cell_type": "code",
   "execution_count": 74,
   "metadata": {},
   "outputs": [
    {
     "data": {
      "text/plain": [
       "(0.42424242424242425, 0.8606965174129353, 0.6)"
      ]
     },
     "execution_count": 74,
     "metadata": {},
     "output_type": "execute_result"
    }
   ],
   "source": [
    "Senstitivity = TP/(TP+FN)\n",
    "Specificity = TN/(TN+FP)\n",
    "Precision = TP/(TP+FP)\n",
    "Senstitivity,Specificity,Precision"
   ]
  },
  {
   "cell_type": "markdown",
   "metadata": {},
   "source": [
    "#### 1. Accuracy  = (TP + TN) / (total No)\n",
    "#### 2. Sensitivity --- Recall -- TPR = TP /(TP +FN)\n",
    "#### 3. Specifictity -- TNR = TN /(TN+FP)\n",
    "#### 4. Precision -- PPV  = TP / (TP +FP)\n",
    "#### 5. NPV   = TN / (TN+FN) - Negative prediction value\n"
   ]
  },
  {
   "cell_type": "raw",
   "metadata": {},
   "source": [
    " Sensitivity -- how correctly you are able to identify the positive outcomes out of the total actual positive outcomes\n",
    " Specificity -- how correctly you are able to identify the negative outcomes out of the total actual negative outcomes"
   ]
  },
  {
   "cell_type": "raw",
   "metadata": {},
   "source": [
    " Precision -- how good the model is in predicting the positive outcomes out of the total predicted positive outcomes\n",
    " NPV - Negative prediction value"
   ]
  },
  {
   "cell_type": "code",
   "execution_count": 75,
   "metadata": {},
   "outputs": [],
   "source": [
    "import sklearn.metrics as skm"
   ]
  },
  {
   "cell_type": "code",
   "execution_count": 76,
   "metadata": {},
   "outputs": [
    {
     "data": {
      "text/plain": [
       "0.4970414201183432"
      ]
     },
     "execution_count": 76,
     "metadata": {},
     "output_type": "execute_result"
    }
   ],
   "source": [
    "skm.f1_score(df.Actual, df.Predicted)\n",
    "#by default average = binary i.e for class = 1\n"
   ]
  },
  {
   "cell_type": "code",
   "execution_count": 77,
   "metadata": {},
   "outputs": [
    {
     "data": {
      "text/plain": [
       "0.7166666666666667"
      ]
     },
     "execution_count": 77,
     "metadata": {},
     "output_type": "execute_result"
    }
   ],
   "source": [
    "skm.accuracy_score(df.Actual, df.Predicted)"
   ]
  },
  {
   "cell_type": "code",
   "execution_count": 78,
   "metadata": {},
   "outputs": [
    {
     "data": {
      "text/plain": [
       "0    201\n",
       "1     99\n",
       "Name: Actual, dtype: int64"
      ]
     },
     "execution_count": 78,
     "metadata": {},
     "output_type": "execute_result"
    }
   ],
   "source": [
    "df.Actual.value_counts()"
   ]
  },
  {
   "cell_type": "code",
   "execution_count": 79,
   "metadata": {},
   "outputs": [
    {
     "data": {
      "text/plain": [
       "0.7018890978733919"
      ]
     },
     "execution_count": 79,
     "metadata": {},
     "output_type": "execute_result"
    }
   ],
   "source": [
    "skm.f1_score(df.Actual, df.Predicted, average = \"weighted\")\n",
    "#direct averaging is done after calculating the f1 score for each class\n",
    "# average = weighted is weighted average of 2 classes"
   ]
  },
  {
   "cell_type": "code",
   "execution_count": 80,
   "metadata": {},
   "outputs": [
    {
     "data": {
      "text/plain": [
       "0.7166666666666667"
      ]
     },
     "execution_count": 80,
     "metadata": {},
     "output_type": "execute_result"
    }
   ],
   "source": [
    "skm.accuracy_score(df.Actual,df.Predicted)"
   ]
  },
  {
   "cell_type": "code",
   "execution_count": 81,
   "metadata": {},
   "outputs": [
    {
     "name": "stdout",
     "output_type": "stream",
     "text": [
      "              precision    recall  f1-score   support\n",
      "\n",
      "           0       0.75      0.86      0.80       201\n",
      "           1       0.60      0.42      0.50        99\n",
      "\n",
      "    accuracy                           0.72       300\n",
      "   macro avg       0.68      0.64      0.65       300\n",
      "weighted avg       0.70      0.72      0.70       300\n",
      "\n"
     ]
    }
   ],
   "source": [
    "print(skm.classification_report(df.Actual, df.Predicted))"
   ]
  },
  {
   "cell_type": "raw",
   "metadata": {},
   "source": [
    "#here we'll consider true and false '0' and true and false '1'. So, a tp is when the actual class is same as estimated class.\n",
    "#FP will be when actual class is negative but the estimated class is +ve\n",
    "\n",
    "\n",
    "Consider 0 as the positive class:\n",
    "then \n",
    "    0   1\n",
    "0   TP  Fp \n",
    "1   FN  TN\n",
    "\n",
    "accuracy gives the accuracy score\n",
    "#A macro-average will compute the metric independently for each class and \n",
    "#then take the average (hence treating all classes equally).\n",
    "Eg. precision = (.75+.60)/2; recall = (.86+.42)/2\n",
    "#f1 macro: (.8+.5)/2\n",
    "weighted average: (.75*201 + .6*99)/300\n",
    "'binary':\n",
    "        Only report results for the class specified by pos_label. This is applicable only if \n",
    "        targets (y_{true,pred}) are binary.\n",
    "    \n",
    "'micro':\n",
    "        Calculate metrics globally by counting the total true positives, false negatives and false positives.\n",
    "    \n",
    "'macro':\n",
    "        Calculate metrics for each label, and find their unweighted mean. This does not take label \n",
    "        imbalance into account.\n",
    "\n",
    "'weighted':\n",
    "        Calculate metrics for each label, and find their average weighted by support (the number of \n",
    "        true instances for each label). This alters ‘macro’ to account for label imbalance; \n",
    "        it can result in an F-score that is not between precision and recall.\n",
    "\n",
    "'samples':\n",
    "        Calculate metrics for each instance, and find their average (only meaningful for multilabel classification where this differs from accuracy_score)."
   ]
  },
  {
   "cell_type": "markdown",
   "metadata": {},
   "source": [
    "#### Grid SearchCV\n",
    "Grid search can't be implemented for statsmodel, only for sklearn"
   ]
  },
  {
   "cell_type": "code",
   "execution_count": 84,
   "metadata": {},
   "outputs": [
    {
     "name": "stderr",
     "output_type": "stream",
     "text": [
      "C:\\Users\\Vaibhav\\Anaconda3\\lib\\site-packages\\sklearn\\utils\\validation.py:724: DataConversionWarning: A column-vector y was passed when a 1d array was expected. Please change the shape of y to (n_samples, ), for example using ravel().\n",
      "  y = column_or_1d(y, warn=True)\n"
     ]
    },
    {
     "data": {
      "text/plain": [
       "LogisticRegression(C=1.0, class_weight=None, dual=False, fit_intercept=True,\n",
       "                   intercept_scaling=1, l1_ratio=None, max_iter=100,\n",
       "                   multi_class='warn', n_jobs=None, penalty='l2',\n",
       "                   random_state=None, solver='warn', tol=0.0001, verbose=0,\n",
       "                   warm_start=False)"
      ]
     },
     "execution_count": 84,
     "metadata": {},
     "output_type": "execute_result"
    }
   ],
   "source": [
    "from sklearn.linear_model import LogisticRegression\n",
    "lore = LogisticRegression()\n",
    "lore.fit(X_train, y_train)"
   ]
  },
  {
   "cell_type": "code",
   "execution_count": 85,
   "metadata": {},
   "outputs": [
    {
     "data": {
      "text/plain": [
       "0.67"
      ]
     },
     "execution_count": 85,
     "metadata": {},
     "output_type": "execute_result"
    }
   ],
   "source": [
    "lore.score(X_test,y_test)"
   ]
  },
  {
   "cell_type": "code",
   "execution_count": 86,
   "metadata": {},
   "outputs": [
    {
     "data": {
      "text/plain": [
       "array([[ 2.25524521e-02,  1.27745003e-04,  3.08514775e-01,\n",
       "         9.29938033e-02, -1.56072862e-02, -8.17194424e-02,\n",
       "         3.98479246e-01, -1.84587280e-01, -1.22833639e+00,\n",
       "        -1.39182622e+00,  1.81905960e-01, -1.07010822e-01,\n",
       "        -2.89024659e-01, -7.91728973e-01, -1.53177544e+00,\n",
       "        -2.85909977e-01, -4.57784425e-01, -6.61388868e-01,\n",
       "        -1.22944750e-02,  2.87551968e-01,  1.20228472e-01,\n",
       "        -1.65610596e-01, -4.09027376e-01, -1.89062731e-01,\n",
       "        -3.95864955e-01, -6.58858808e-01, -9.66958172e-01,\n",
       "         8.12413360e-02,  1.51776160e-01, -7.28895044e-01,\n",
       "        -4.66768760e-02, -4.03426317e-02, -6.19270353e-01,\n",
       "        -1.42808214e-01,  4.69064855e-01, -6.77768961e-01,\n",
       "         5.04128305e-01,  4.45123182e-01,  7.31535491e-01,\n",
       "        -3.67548051e-01, -6.03636808e-01, -4.81944858e-01,\n",
       "        -2.80663108e-01,  9.29490702e-02, -5.36400786e-02,\n",
       "         1.73127636e-01, -4.17590919e-01, -6.03208898e-01]])"
      ]
     },
     "execution_count": 86,
     "metadata": {},
     "output_type": "execute_result"
    }
   ],
   "source": [
    "lore.coef_"
   ]
  },
  {
   "cell_type": "code",
   "execution_count": 87,
   "metadata": {},
   "outputs": [
    {
     "data": {
      "text/plain": [
       "{'C': 1.0,\n",
       " 'class_weight': None,\n",
       " 'dual': False,\n",
       " 'fit_intercept': True,\n",
       " 'intercept_scaling': 1,\n",
       " 'l1_ratio': None,\n",
       " 'max_iter': 100,\n",
       " 'multi_class': 'warn',\n",
       " 'n_jobs': None,\n",
       " 'penalty': 'l2',\n",
       " 'random_state': None,\n",
       " 'solver': 'warn',\n",
       " 'tol': 0.0001,\n",
       " 'verbose': 0,\n",
       " 'warm_start': False}"
      ]
     },
     "execution_count": 87,
     "metadata": {},
     "output_type": "execute_result"
    }
   ],
   "source": [
    "lore.get_params()"
   ]
  },
  {
   "cell_type": "code",
   "execution_count": 88,
   "metadata": {},
   "outputs": [
    {
     "data": {
      "text/plain": [
       "array([1.00000000e-05, 8.48342898e-05, 7.19685673e-04, 6.10540230e-03,\n",
       "       5.17947468e-02, 4.39397056e-01, 3.72759372e+00, 3.16227766e+01,\n",
       "       2.68269580e+02, 2.27584593e+03, 1.93069773e+04, 1.63789371e+05,\n",
       "       1.38949549e+06, 1.17876863e+07, 1.00000000e+08])"
      ]
     },
     "execution_count": 88,
     "metadata": {},
     "output_type": "execute_result"
    }
   ],
   "source": [
    "np.logspace(-5, 8, 15)  #starting from 10 pow -5 to 10 pow 8 - 15 values are required"
   ]
  },
  {
   "cell_type": "code",
   "execution_count": 89,
   "metadata": {},
   "outputs": [
    {
     "data": {
      "text/plain": [
       "array([1.00000000e-05, 8.48342898e-05, 7.19685673e-04, 6.10540230e-03,\n",
       "       5.17947468e-02, 4.39397056e-01, 3.72759372e+00, 3.16227766e+01,\n",
       "       2.68269580e+02, 2.27584593e+03, 1.93069773e+04, 1.63789371e+05,\n",
       "       1.38949549e+06, 1.17876863e+07, 1.00000000e+08])"
      ]
     },
     "execution_count": 89,
     "metadata": {},
     "output_type": "execute_result"
    }
   ],
   "source": [
    "c_space = np.logspace(-5, 8, 15) \n",
    "c_space"
   ]
  },
  {
   "cell_type": "code",
   "execution_count": 90,
   "metadata": {},
   "outputs": [],
   "source": [
    "from sklearn.model_selection import GridSearchCV\n",
    "c_space = np.logspace(-5, 8, 15) \n",
    "param_grid = {'C': c_space}\n",
    "grid = GridSearchCV(lore, param_grid=param_grid, cv = 5, scoring = 'accuracy', n_jobs = -1, verbose = 0)\n",
    "#Most common scoring techniques on accuracy, precision, recall, f1, roc_auc"
   ]
  },
  {
   "cell_type": "code",
   "execution_count": 91,
   "metadata": {},
   "outputs": [
    {
     "name": "stderr",
     "output_type": "stream",
     "text": [
      "C:\\Users\\Vaibhav\\Anaconda3\\lib\\site-packages\\sklearn\\utils\\validation.py:724: DataConversionWarning: A column-vector y was passed when a 1d array was expected. Please change the shape of y to (n_samples, ), for example using ravel().\n",
      "  y = column_or_1d(y, warn=True)\n"
     ]
    },
    {
     "data": {
      "text/plain": [
       "GridSearchCV(cv=5, error_score='raise-deprecating',\n",
       "             estimator=LogisticRegression(C=1.0, class_weight=None, dual=False,\n",
       "                                          fit_intercept=True,\n",
       "                                          intercept_scaling=1, l1_ratio=None,\n",
       "                                          max_iter=100, multi_class='warn',\n",
       "                                          n_jobs=None, penalty='l2',\n",
       "                                          random_state=None, solver='warn',\n",
       "                                          tol=0.0001, verbose=0,\n",
       "                                          warm_start=False),\n",
       "             iid='warn', n_jobs=-1,\n",
       "             param_grid={'C': array([1.00000000e-05, 8.48342898e-05, 7.19685673e-04, 6.10540230e-03,\n",
       "       5.17947468e-02, 4.39397056e-01, 3.72759372e+00, 3.16227766e+01,\n",
       "       2.68269580e+02, 2.27584593e+03, 1.93069773e+04, 1.63789371e+05,\n",
       "       1.38949549e+06, 1.17876863e+07, 1.00000000e+08])},\n",
       "             pre_dispatch='2*n_jobs', refit=True, return_train_score=False,\n",
       "             scoring='accuracy', verbose=0)"
      ]
     },
     "execution_count": 91,
     "metadata": {},
     "output_type": "execute_result"
    }
   ],
   "source": [
    "grid.fit(X_train, y_train)"
   ]
  },
  {
   "cell_type": "code",
   "execution_count": 92,
   "metadata": {},
   "outputs": [
    {
     "data": {
      "text/plain": [
       "{'C': 0.4393970560760795}"
      ]
     },
     "execution_count": 92,
     "metadata": {},
     "output_type": "execute_result"
    }
   ],
   "source": [
    "grid.best_params_ #best parameter"
   ]
  },
  {
   "cell_type": "code",
   "execution_count": 93,
   "metadata": {},
   "outputs": [
    {
     "data": {
      "text/plain": [
       "0.7571428571428571"
      ]
     },
     "execution_count": 93,
     "metadata": {},
     "output_type": "execute_result"
    }
   ],
   "source": [
    "grid.best_score_ #Accuracy score for the best model \n",
    "#make the prediction on test data"
   ]
  },
  {
   "cell_type": "code",
   "execution_count": 94,
   "metadata": {},
   "outputs": [],
   "source": [
    "ypred = grid.predict(X_test)"
   ]
  },
  {
   "cell_type": "code",
   "execution_count": 95,
   "metadata": {},
   "outputs": [
    {
     "data": {
      "text/plain": [
       "0.67"
      ]
     },
     "execution_count": 95,
     "metadata": {},
     "output_type": "execute_result"
    }
   ],
   "source": [
    "from sklearn.metrics import f1_score, accuracy_score\n",
    "accuracy_score(y_test, ypred)"
   ]
  },
  {
   "cell_type": "code",
   "execution_count": 96,
   "metadata": {},
   "outputs": [
    {
     "name": "stderr",
     "output_type": "stream",
     "text": [
      "C:\\Users\\Vaibhav\\Anaconda3\\lib\\site-packages\\sklearn\\model_selection\\_search.py:813: DeprecationWarning: The default of the `iid` parameter will change from True to False in version 0.22 and will be removed in 0.24. This will change numeric results when test-set sizes are unequal.\n",
      "  DeprecationWarning)\n",
      "C:\\Users\\Vaibhav\\Anaconda3\\lib\\site-packages\\sklearn\\model_selection\\_search.py:813: DeprecationWarning: The default of the `iid` parameter will change from True to False in version 0.22 and will be removed in 0.24. This will change numeric results when test-set sizes are unequal.\n",
      "  DeprecationWarning)\n"
     ]
    },
    {
     "name": "stdout",
     "output_type": "stream",
     "text": [
      "[0.69503546 0.78571429 0.79285714 0.72142857 0.76258993]\n",
      "Accuracy of LoRe is:  0.7515250778100924\n"
     ]
    }
   ],
   "source": [
    "from sklearn.model_selection import cross_val_score\n",
    "accuracy = cross_val_score(grid,X_train.values,train.Default.values, scoring='accuracy', cv = 5)\n",
    "print(accuracy)\n",
    "print(\"Accuracy of LoRe is: \" , accuracy.mean())"
   ]
  },
  {
   "cell_type": "code",
   "execution_count": null,
   "metadata": {},
   "outputs": [],
   "source": []
  },
  {
   "cell_type": "code",
   "execution_count": null,
   "metadata": {},
   "outputs": [],
   "source": []
  },
  {
   "cell_type": "code",
   "execution_count": null,
   "metadata": {},
   "outputs": [],
   "source": []
  },
  {
   "cell_type": "code",
   "execution_count": null,
   "metadata": {},
   "outputs": [],
   "source": []
  },
  {
   "cell_type": "code",
   "execution_count": null,
   "metadata": {},
   "outputs": [],
   "source": []
  },
  {
   "cell_type": "code",
   "execution_count": null,
   "metadata": {},
   "outputs": [],
   "source": []
  },
  {
   "cell_type": "code",
   "execution_count": null,
   "metadata": {},
   "outputs": [],
   "source": []
  },
  {
   "cell_type": "code",
   "execution_count": null,
   "metadata": {},
   "outputs": [],
   "source": []
  },
  {
   "cell_type": "code",
   "execution_count": null,
   "metadata": {},
   "outputs": [],
   "source": []
  }
 ],
 "metadata": {
  "kernelspec": {
   "display_name": "Python 3",
   "language": "python",
   "name": "python3"
  },
  "language_info": {
   "codemirror_mode": {
    "name": "ipython",
    "version": 3
   },
   "file_extension": ".py",
   "mimetype": "text/x-python",
   "name": "python",
   "nbconvert_exporter": "python",
   "pygments_lexer": "ipython3",
   "version": "3.6.8"
  }
 },
 "nbformat": 4,
 "nbformat_minor": 2
}
