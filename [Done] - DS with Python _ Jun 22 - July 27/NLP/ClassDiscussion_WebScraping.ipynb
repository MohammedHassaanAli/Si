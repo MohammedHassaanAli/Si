{
 "cells": [
  {
   "cell_type": "code",
   "execution_count": 1,
   "metadata": {},
   "outputs": [],
   "source": [
    "html=['<html><heading style=\"font-size:20px\"><i>This is the title<br><br></i></heading>',\n",
    "     '<body><b>This is the body</b><p id=\"para1\">This is para1<a href=\"www.google.com\">Google</a></p>',\n",
    "     '<p id=\"para2\">This is para 2</p></body></html>']"
   ]
  },
  {
   "cell_type": "code",
   "execution_count": 2,
   "metadata": {},
   "outputs": [
    {
     "data": {
      "text/plain": [
       "'<html><heading style=\"font-size:20px\"><i>This is the title<br><br></i></heading><body><b>This is the body</b><p id=\"para1\">This is para1<a href=\"www.google.com\">Google</a></p><p id=\"para2\">This is para 2</p></body></html>'"
      ]
     },
     "execution_count": 2,
     "metadata": {},
     "output_type": "execute_result"
    }
   ],
   "source": [
    "html = ''.join(html)\n",
    "html"
   ]
  },
  {
   "cell_type": "code",
   "execution_count": 3,
   "metadata": {},
   "outputs": [],
   "source": [
    "from bs4 import BeautifulSoup"
   ]
  },
  {
   "cell_type": "code",
   "execution_count": 4,
   "metadata": {
    "scrolled": true
   },
   "outputs": [
    {
     "name": "stdout",
     "output_type": "stream",
     "text": [
      "<html>\n",
      " <body>\n",
      "  <heading style=\"font-size:20px\">\n",
      "   <i>\n",
      "    This is the title\n",
      "    <br/>\n",
      "    <br/>\n",
      "   </i>\n",
      "  </heading>\n",
      "  <b>\n",
      "   This is the body\n",
      "  </b>\n",
      "  <p id=\"para1\">\n",
      "   This is para1\n",
      "   <a href=\"www.google.com\">\n",
      "    Google\n",
      "   </a>\n",
      "  </p>\n",
      "  <p id=\"para2\">\n",
      "   This is para 2\n",
      "  </p>\n",
      " </body>\n",
      "</html>\n"
     ]
    }
   ],
   "source": [
    "soup = BeautifulSoup(html)\n",
    "print(soup.prettify())"
   ]
  },
  {
   "cell_type": "code",
   "execution_count": 5,
   "metadata": {
    "scrolled": true
   },
   "outputs": [
    {
     "data": {
      "text/plain": [
       "<html><body><heading style=\"font-size:20px\"><i>This is the title<br/><br/></i></heading><b>This is the body</b><p id=\"para1\">This is para1<a href=\"www.google.com\">Google</a></p><p id=\"para2\">This is para 2</p></body></html>"
      ]
     },
     "execution_count": 5,
     "metadata": {},
     "output_type": "execute_result"
    }
   ],
   "source": [
    "soup.html"
   ]
  },
  {
   "cell_type": "code",
   "execution_count": 6,
   "metadata": {
    "scrolled": true
   },
   "outputs": [
    {
     "data": {
      "text/plain": [
       "<body><heading style=\"font-size:20px\"><i>This is the title<br/><br/></i></heading><b>This is the body</b><p id=\"para1\">This is para1<a href=\"www.google.com\">Google</a></p><p id=\"para2\">This is para 2</p></body>"
      ]
     },
     "execution_count": 6,
     "metadata": {},
     "output_type": "execute_result"
    }
   ],
   "source": [
    "soup.body"
   ]
  },
  {
   "cell_type": "code",
   "execution_count": 7,
   "metadata": {
    "scrolled": false
   },
   "outputs": [
    {
     "data": {
      "text/plain": [
       "<p id=\"para1\">This is para1<a href=\"www.google.com\">Google</a></p>"
      ]
     },
     "execution_count": 7,
     "metadata": {},
     "output_type": "execute_result"
    }
   ],
   "source": [
    "soup.p"
   ]
  },
  {
   "cell_type": "code",
   "execution_count": 8,
   "metadata": {},
   "outputs": [
    {
     "data": {
      "text/plain": [
       "'body'"
      ]
     },
     "execution_count": 8,
     "metadata": {},
     "output_type": "execute_result"
    }
   ],
   "source": [
    "soup.body.name"
   ]
  },
  {
   "cell_type": "code",
   "execution_count": 9,
   "metadata": {},
   "outputs": [
    {
     "data": {
      "text/plain": [
       "'This is para1Google'"
      ]
     },
     "execution_count": 9,
     "metadata": {},
     "output_type": "execute_result"
    }
   ],
   "source": [
    "soup.p.text #only retrieves the text of first p tag"
   ]
  },
  {
   "cell_type": "code",
   "execution_count": 10,
   "metadata": {},
   "outputs": [
    {
     "data": {
      "text/plain": [
       "['This is para1', <a href=\"www.google.com\">Google</a>]"
      ]
     },
     "execution_count": 10,
     "metadata": {},
     "output_type": "execute_result"
    }
   ],
   "source": [
    "soup.p.contents"
   ]
  },
  {
   "cell_type": "code",
   "execution_count": 11,
   "metadata": {},
   "outputs": [
    {
     "data": {
      "text/plain": [
       "'This is the titleThis is the bodyThis is para1GoogleThis is para 2'"
      ]
     },
     "execution_count": 11,
     "metadata": {},
     "output_type": "execute_result"
    }
   ],
   "source": [
    "soup.p.parent.text"
   ]
  },
  {
   "cell_type": "code",
   "execution_count": 12,
   "metadata": {},
   "outputs": [
    {
     "data": {
      "text/plain": [
       "<p id=\"para2\">This is para 2</p>"
      ]
     },
     "execution_count": 12,
     "metadata": {},
     "output_type": "execute_result"
    }
   ],
   "source": [
    "soup.p.nextSibling"
   ]
  },
  {
   "cell_type": "code",
   "execution_count": 13,
   "metadata": {},
   "outputs": [
    {
     "data": {
      "text/plain": [
       "<b>This is the body</b>"
      ]
     },
     "execution_count": 13,
     "metadata": {},
     "output_type": "execute_result"
    }
   ],
   "source": [
    "soup.p.previousSibling"
   ]
  },
  {
   "cell_type": "code",
   "execution_count": 14,
   "metadata": {},
   "outputs": [
    {
     "data": {
      "text/plain": [
       "<a href=\"www.google.com\">Google</a>"
      ]
     },
     "execution_count": 14,
     "metadata": {},
     "output_type": "execute_result"
    }
   ],
   "source": [
    "a = soup.find('p')#finds the first p tage\n",
    "x = a.find('a')\n",
    "x"
   ]
  },
  {
   "cell_type": "code",
   "execution_count": 15,
   "metadata": {},
   "outputs": [
    {
     "data": {
      "text/plain": [
       "'www.google.com'"
      ]
     },
     "execution_count": 15,
     "metadata": {},
     "output_type": "execute_result"
    }
   ],
   "source": [
    "x[\"href\"]"
   ]
  },
  {
   "cell_type": "code",
   "execution_count": 16,
   "metadata": {},
   "outputs": [
    {
     "data": {
      "text/plain": [
       "'www.google.com'"
      ]
     },
     "execution_count": 16,
     "metadata": {},
     "output_type": "execute_result"
    }
   ],
   "source": [
    "x.get(\"href\")"
   ]
  },
  {
   "cell_type": "code",
   "execution_count": 17,
   "metadata": {},
   "outputs": [
    {
     "data": {
      "text/plain": [
       "'Google'"
      ]
     },
     "execution_count": 17,
     "metadata": {},
     "output_type": "execute_result"
    }
   ],
   "source": [
    "x.text"
   ]
  },
  {
   "cell_type": "code",
   "execution_count": 18,
   "metadata": {
    "scrolled": true
   },
   "outputs": [
    {
     "data": {
      "text/plain": [
       "[<p id=\"para1\">This is para1<a href=\"www.google.com\">Google</a></p>,\n",
       " <p id=\"para2\">This is para 2</p>]"
      ]
     },
     "execution_count": 18,
     "metadata": {},
     "output_type": "execute_result"
    }
   ],
   "source": [
    "soup.findAll('p')"
   ]
  },
  {
   "cell_type": "code",
   "execution_count": 19,
   "metadata": {},
   "outputs": [],
   "source": [
    "url = \"https://en.wikipedia.org/wiki/United_States\""
   ]
  },
  {
   "cell_type": "code",
   "execution_count": 20,
   "metadata": {},
   "outputs": [],
   "source": [
    "import requests"
   ]
  },
  {
   "cell_type": "code",
   "execution_count": 21,
   "metadata": {},
   "outputs": [],
   "source": [
    "r = requests.get(url)"
   ]
  },
  {
   "cell_type": "code",
   "execution_count": 22,
   "metadata": {},
   "outputs": [],
   "source": [
    "#r.text"
   ]
  },
  {
   "cell_type": "code",
   "execution_count": 23,
   "metadata": {},
   "outputs": [],
   "source": [
    "soup = BeautifulSoup(r.text)"
   ]
  },
  {
   "cell_type": "code",
   "execution_count": 24,
   "metadata": {},
   "outputs": [
    {
     "data": {
      "text/plain": [
       "<title>United States - Wikipedia</title>"
      ]
     },
     "execution_count": 24,
     "metadata": {},
     "output_type": "execute_result"
    }
   ],
   "source": [
    "soup.title"
   ]
  },
  {
   "cell_type": "code",
   "execution_count": 25,
   "metadata": {},
   "outputs": [],
   "source": [
    "#print(soup.prettify())"
   ]
  },
  {
   "cell_type": "code",
   "execution_count": 26,
   "metadata": {
    "scrolled": false
   },
   "outputs": [
    {
     "data": {
      "text/plain": [
       "<a id=\"top\"></a>"
      ]
     },
     "execution_count": 26,
     "metadata": {},
     "output_type": "execute_result"
    }
   ],
   "source": [
    "soup.find(\"a\") #only first instance returned"
   ]
  },
  {
   "cell_type": "code",
   "execution_count": 27,
   "metadata": {},
   "outputs": [
    {
     "data": {
      "text/plain": [
       "<a href=\"/wiki/Wikipedia:Good_articles\" title=\"This is a good article. Follow the link for more information.\"><img alt=\"This is a good article. Follow the link for more information.\" data-file-height=\"185\" data-file-width=\"180\" decoding=\"async\" height=\"20\" src=\"//upload.wikimedia.org/wikipedia/en/thumb/9/94/Symbol_support_vote.svg/19px-Symbol_support_vote.svg.png\" srcset=\"//upload.wikimedia.org/wikipedia/en/thumb/9/94/Symbol_support_vote.svg/29px-Symbol_support_vote.svg.png 1.5x, //upload.wikimedia.org/wikipedia/en/thumb/9/94/Symbol_support_vote.svg/39px-Symbol_support_vote.svg.png 2x\" width=\"19\"/></a>"
      ]
     },
     "execution_count": 27,
     "metadata": {},
     "output_type": "execute_result"
    }
   ],
   "source": [
    "x = soup.find_all(\"a\")[1]\n",
    "x"
   ]
  },
  {
   "cell_type": "code",
   "execution_count": 28,
   "metadata": {},
   "outputs": [
    {
     "data": {
      "text/plain": [
       "{'href': '/wiki/Wikipedia:Good_articles',\n",
       " 'title': 'This is a good article. Follow the link for more information.'}"
      ]
     },
     "execution_count": 28,
     "metadata": {},
     "output_type": "execute_result"
    }
   ],
   "source": [
    "x.attrs"
   ]
  },
  {
   "cell_type": "code",
   "execution_count": 29,
   "metadata": {},
   "outputs": [
    {
     "data": {
      "text/plain": [
       "'/wiki/Wikipedia:Good_articles'"
      ]
     },
     "execution_count": 29,
     "metadata": {},
     "output_type": "execute_result"
    }
   ],
   "source": [
    "x[\"href\"]"
   ]
  },
  {
   "cell_type": "code",
   "execution_count": 30,
   "metadata": {},
   "outputs": [
    {
     "data": {
      "text/plain": [
       "'This is a good article. Follow the link for more information.'"
      ]
     },
     "execution_count": 30,
     "metadata": {},
     "output_type": "execute_result"
    }
   ],
   "source": [
    "x[\"title\"]"
   ]
  },
  {
   "cell_type": "code",
   "execution_count": 31,
   "metadata": {},
   "outputs": [
    {
     "name": "stdout",
     "output_type": "stream",
     "text": [
      "None\n",
      "/wiki/Wikipedia:Good_articles\n",
      "/wiki/Wikipedia:Protection_policy#semi\n",
      "#mw-head\n",
      "#p-search\n",
      "/wiki/Americas\n",
      "/wiki/America_(disambiguation)\n",
      "/wiki/US_(disambiguation)\n",
      "/wiki/USA_(disambiguation)\n",
      "/wiki/United_States_(disambiguation)\n"
     ]
    }
   ],
   "source": [
    "i = 1\n",
    "for link in soup.find_all('a')[:10]:\n",
    "    #print(link.['href'])\n",
    "    print(link.get('href'))\n",
    "    #to obtain the attribute of a tag"
   ]
  },
  {
   "cell_type": "code",
   "execution_count": 77,
   "metadata": {},
   "outputs": [],
   "source": [
    "url = \"https://www.amazon.in/Amazon-Echo-Smart-speaker-Powered/product-reviews/B0725W7Q38/ref=cm_cr_arp_d_viewpnt_lft?ie=UTF8&reviewerType=all_reviews&filterByStar=positive&pageNumber=1\""
   ]
  },
  {
   "cell_type": "code",
   "execution_count": 78,
   "metadata": {},
   "outputs": [],
   "source": [
    "r = requests.get(url)"
   ]
  },
  {
   "cell_type": "code",
   "execution_count": 79,
   "metadata": {},
   "outputs": [],
   "source": [
    "soup = BeautifulSoup(r.text)"
   ]
  },
  {
   "cell_type": "code",
   "execution_count": 80,
   "metadata": {},
   "outputs": [],
   "source": [
    "#print(soup.prettify())"
   ]
  },
  {
   "cell_type": "code",
   "execution_count": 81,
   "metadata": {},
   "outputs": [],
   "source": [
    "l = soup.find_all(\"span\", {\"class\": \"a-icon-alt\"})"
   ]
  },
  {
   "cell_type": "code",
   "execution_count": 82,
   "metadata": {},
   "outputs": [
    {
     "name": "stdout",
     "output_type": "stream",
     "text": [
      "4.2 out of 5 stars\n",
      "4.0 out of 5 stars\n",
      "2.0 out of 5 stars\n",
      "4.0 out of 5 stars\n",
      "4.0 out of 5 stars\n",
      "5.0 out of 5 stars\n",
      "5.0 out of 5 stars\n",
      "4.0 out of 5 stars\n",
      "4.0 out of 5 stars\n",
      "5.0 out of 5 stars\n",
      "5.0 out of 5 stars\n",
      "4.0 out of 5 stars\n",
      "4.0 out of 5 stars\n",
      "4.3 out of 5 stars\n",
      "4.3 out of 5 stars\n",
      "4.0 out of 5 stars\n",
      "3.8 out of 5 stars\n"
     ]
    }
   ],
   "source": [
    "stars = []\n",
    "for txt in l:\n",
    "    print(txt.text)\n",
    "    stars.append(float(txt.text.split()[0]))"
   ]
  },
  {
   "cell_type": "code",
   "execution_count": 83,
   "metadata": {},
   "outputs": [
    {
     "data": {
      "text/plain": [
       "[4.2,\n",
       " 4.0,\n",
       " 2.0,\n",
       " 4.0,\n",
       " 4.0,\n",
       " 5.0,\n",
       " 5.0,\n",
       " 4.0,\n",
       " 4.0,\n",
       " 5.0,\n",
       " 5.0,\n",
       " 4.0,\n",
       " 4.0,\n",
       " 4.3,\n",
       " 4.3,\n",
       " 4.0,\n",
       " 3.8]"
      ]
     },
     "execution_count": 83,
     "metadata": {},
     "output_type": "execute_result"
    }
   ],
   "source": [
    "stars"
   ]
  },
  {
   "cell_type": "code",
   "execution_count": 84,
   "metadata": {},
   "outputs": [],
   "source": [
    "a = soup.find(\"div\", {\"id\": \"cm_cr-review_list\", \"class\": \"a-section a-spacing-none review-views celwidget\"})"
   ]
  },
  {
   "cell_type": "code",
   "execution_count": 85,
   "metadata": {},
   "outputs": [
    {
     "data": {
      "text/plain": [
       "[<span class=\"a-icon-alt\">4.0 out of 5 stars</span>,\n",
       " <span class=\"a-icon-alt\">4.0 out of 5 stars</span>,\n",
       " <span class=\"a-icon-alt\">5.0 out of 5 stars</span>,\n",
       " <span class=\"a-icon-alt\">5.0 out of 5 stars</span>,\n",
       " <span class=\"a-icon-alt\">4.0 out of 5 stars</span>,\n",
       " <span class=\"a-icon-alt\">4.0 out of 5 stars</span>,\n",
       " <span class=\"a-icon-alt\">5.0 out of 5 stars</span>,\n",
       " <span class=\"a-icon-alt\">5.0 out of 5 stars</span>,\n",
       " <span class=\"a-icon-alt\">4.0 out of 5 stars</span>,\n",
       " <span class=\"a-icon-alt\">4.0 out of 5 stars</span>]"
      ]
     },
     "execution_count": 85,
     "metadata": {},
     "output_type": "execute_result"
    }
   ],
   "source": [
    "a.find_all(\"span\", {\"class\": \"a-icon-alt\"})"
   ]
  },
  {
   "cell_type": "code",
   "execution_count": 86,
   "metadata": {},
   "outputs": [
    {
     "name": "stdout",
     "output_type": "stream",
     "text": [
      "Nice device. Like the sound quality. Like the way it understand our language. However sometimes, don't like the responses it gives when asked to play some songs. When there are multiple songs with similar lyrics it does play the one I want. It does not give options which one I actually intended to listen, just plays the search output it found. When I say 'Alexa Play Tera ghat by gajendra Verma' it plays someother songs from gajendra Verma playlist  but not the song I wanted. Sometimes it plays a different song with lyric Tera ghata( old Hindi songs). Aurracry in song results is not that great (most of the times it gets it right). I really want Alexa to integrate with gaana, however it has only tie ups with saavan and Amazon music.Like the religious skills integration. You can ask it to play from Bible, bhagwat geetha, Quran for as long as u want.Like the news integrations with flash briefings options.Booking cabs with ola Uber finding latest movies being played around u etc are also great. quiet often i use Alexa to tell me word meanings. Also like to play medication and healing music  at times. Nice welcome addition to family for sure .\n",
      " \n",
      "\n",
      "This product is amazing, no wonder on that. You have an AI that can make your day convenient. The audio output is quite good and the overall functionality of this device is brilliant.I have deducted one star just because it cannot run on battery and you have to keep it plugged in all the time but if you can compromise on that you have an excellent product\n",
      " \n",
      "\n",
      "It's amazing. Go for it. And yes it is better than google home. I've used both of them.Sound quality is at par with jbl flip 3 and jbl charge. Will make your life easy.\n",
      " \n",
      "\n",
      "In your lonely life if you want a magical touch of a girl, buy it ;) kiddingOverall it is a well voice commanding device to ask any genral knowledge, play song, tell a story, read a kindle book, traffic, weather, place a order on amazon, order food on zomato and whats not!!!\n",
      " \n",
      "\n",
      "Very nice product. Voice quality is good. Sometimes it doesn't understand may be due to Indian accent. Doesn't work it wifii is not thr. Otherwise you can enjoy its company. I really liked the product.\n",
      " \n",
      "\n",
      "I found dot to be more responsive at a distance than echo in noisy environments,Music search needs to improve a lot, I have an echo in my hall and DOT in my bedroom,I love the multi-room music option, mostly use it for music, time check, reminder, shopping list and wake up alarmsThe options are endless but difficult to remember commands, takes time to get used to especially when I have to use Alexa or echo as start Names\n",
      " \n",
      "\n",
      "This device is Awesome... If a person is tech savvy then Alexa is everything. Keep adding skills and it works fantastic.Simple to operate. Sound quality is Amazing\n",
      " \n",
      "\n",
      "Xcellent prod i love this, well packed. Xcellent sound clarity but only plays music from Amazon Music rest g8t.Amazon: you guys need to update with huge film library and add few filters so that we can select local language\n",
      " \n",
      "\n",
      "Alexa has been another family member for my dad. He wakes up to Alexa asking her to play bhajans, provide weather updates and news buzz followed by his fav old Hindi songs of Shamshad Begum, Kushore Kumar and Mukesh...and at times his frown is funny when it errs in understanding lyrics on which music got played just yesterday :)\n",
      " \n",
      "\n",
      "This is simply awesome. Microphones are really working amazing. I can say \"Alexa\" from next room and she catches it. However, the music library is limited. The skill usage is tedious. Amazon could think of improving on these aspects.\n",
      " \n",
      "\n"
     ]
    }
   ],
   "source": [
    "for review in a.find_all(\"div\", {\"class\": \"a-row a-spacing-small review-data\"}):\n",
    "    print(review.text,\"\\n\")"
   ]
  },
  {
   "cell_type": "code",
   "execution_count": 108,
   "metadata": {},
   "outputs": [],
   "source": [
    "url = \"https://www.amazon.in/All-new-Echo-Dot-3rd-Gen/dp/B0792KTHKK/ref=sr_1_7?keywords=google+home&qid=1563364972&s=electronics&sr=1-7#customerReviews\""
   ]
  },
  {
   "cell_type": "code",
   "execution_count": 109,
   "metadata": {},
   "outputs": [],
   "source": [
    "r = requests.get(url)"
   ]
  },
  {
   "cell_type": "code",
   "execution_count": 110,
   "metadata": {},
   "outputs": [],
   "source": [
    "soup = BeautifulSoup(r.text)"
   ]
  },
  {
   "cell_type": "code",
   "execution_count": 80,
   "metadata": {},
   "outputs": [],
   "source": [
    "#print(soup.prettify())"
   ]
  },
  {
   "cell_type": "code",
   "execution_count": 111,
   "metadata": {},
   "outputs": [],
   "source": [
    "l = soup.find(\"div\", {\"id\":\"tech-specs-desktop\"})"
   ]
  },
  {
   "cell_type": "code",
   "execution_count": 115,
   "metadata": {},
   "outputs": [
    {
     "data": {
      "text/plain": [
       "[<td class=\"a-text-bold\"><p>Size</p>\n",
       " </td>, <td class=\"a-text-bold\"><p>Weight</p>\n",
       " </td>, <td class=\"a-text-bold\"><p>Wi-Fi Connectivity</p>\n",
       " </td>, <td class=\"a-text-bold\"><p>Bluetooth Connectivity</p>\n",
       " </td>, <td class=\"a-text-bold\"><p>Audio</p>\n",
       " </td>, <td class=\"a-text-bold\"><p>System Requirements</p>\n",
       " </td>, <td class=\"a-text-bold\"><p>Warranty and Service</p>\n",
       " </td>, <td class=\"a-text-bold\"><p>Included in the Box</p>\n",
       " </td>]"
      ]
     },
     "execution_count": 115,
     "metadata": {},
     "output_type": "execute_result"
    }
   ],
   "source": [
    "y = l.find_all(\"td\", {\"class\": \"a-text-bold\"})\n",
    "y"
   ]
  },
  {
   "cell_type": "code",
   "execution_count": 120,
   "metadata": {},
   "outputs": [
    {
     "data": {
      "text/plain": [
       "['Size',\n",
       " 'Weight',\n",
       " 'Wi-Fi Connectivity',\n",
       " 'Bluetooth Connectivity',\n",
       " 'Audio',\n",
       " 'System Requirements',\n",
       " 'Warranty and Service',\n",
       " 'Included in the Box']"
      ]
     },
     "execution_count": 120,
     "metadata": {},
     "output_type": "execute_result"
    }
   ],
   "source": [
    "cols = []\n",
    "for i in y:\n",
    "    s = i.text\n",
    "    s = s[:-1] #\\n considered as 1 character\n",
    "    cols.append(s)\n",
    "cols"
   ]
  },
  {
   "cell_type": "code",
   "execution_count": 122,
   "metadata": {},
   "outputs": [],
   "source": [
    "s = l.findAll(\"td\")"
   ]
  },
  {
   "cell_type": "code",
   "execution_count": 125,
   "metadata": {},
   "outputs": [
    {
     "name": "stdout",
     "output_type": "stream",
     "text": [
      "['99x 99 x 43 mm', '300 g\\nActual size and weight may vary by configuration and manufacturing process', 'Dual-band Wi-Fi supports 802.11 a/b/g/n (2.4 and 5 GHz) networks. Does not support connecting to ad-hoc (or peer-to-peer) Wi-Fi networks.', 'Advanced Audio Distribution Profile (A2DP) support for audio streaming from your mobile device to Echo Dot or from Echo Dot to your Bluetooth speaker. Audio/Video Remote Control Profile (AVRCP) for voice control of connected mobile devices. Hands-free voice control is not supported for Mac OS X devices. Bluetooth speakers requiring PIN codes are not supported.', 'Built-in speaker for voice feedback when not connected to external speakers. 3.5 mm stereo audio output for use with external speakers (audio cable not included).', 'Echo Dot comes ready to connect to your Wi-Fi. The Alexa App is compatible with Fire OS, Android, and iOS devices and also accessible via your web browser. Certain skills and services may require subscription or other fees.', 'All-new Echo dot is sold with a limited warranty of one year. Use of All-new Echo dot  is subject to the terms found here.', 'All-new Echo Dot, power adaptor (15W), and Quick Start Guide.']\n"
     ]
    }
   ],
   "source": [
    "desc = []\n",
    "for i in s:\n",
    "    try:\n",
    "        i[\"class\"]\n",
    "    except:\n",
    "        desc.append(i.text[:-1])\n",
    "        \n",
    "print(desc)"
   ]
  },
  {
   "cell_type": "code",
   "execution_count": 127,
   "metadata": {},
   "outputs": [],
   "source": [
    "import pandas as pd\n",
    "df = pd.DataFrame({\"Value\": desc}, index = cols)"
   ]
  },
  {
   "cell_type": "code",
   "execution_count": 128,
   "metadata": {},
   "outputs": [
    {
     "data": {
      "text/html": [
       "<div>\n",
       "<style scoped>\n",
       "    .dataframe tbody tr th:only-of-type {\n",
       "        vertical-align: middle;\n",
       "    }\n",
       "\n",
       "    .dataframe tbody tr th {\n",
       "        vertical-align: top;\n",
       "    }\n",
       "\n",
       "    .dataframe thead th {\n",
       "        text-align: right;\n",
       "    }\n",
       "</style>\n",
       "<table border=\"1\" class=\"dataframe\">\n",
       "  <thead>\n",
       "    <tr style=\"text-align: right;\">\n",
       "      <th></th>\n",
       "      <th>Value</th>\n",
       "    </tr>\n",
       "  </thead>\n",
       "  <tbody>\n",
       "    <tr>\n",
       "      <th>Size</th>\n",
       "      <td>99x 99 x 43 mm</td>\n",
       "    </tr>\n",
       "    <tr>\n",
       "      <th>Weight</th>\n",
       "      <td>300 g\\nActual size and weight may vary by conf...</td>\n",
       "    </tr>\n",
       "    <tr>\n",
       "      <th>Wi-Fi Connectivity</th>\n",
       "      <td>Dual-band Wi-Fi supports 802.11 a/b/g/n (2.4 a...</td>\n",
       "    </tr>\n",
       "    <tr>\n",
       "      <th>Bluetooth Connectivity</th>\n",
       "      <td>Advanced Audio Distribution Profile (A2DP) sup...</td>\n",
       "    </tr>\n",
       "    <tr>\n",
       "      <th>Audio</th>\n",
       "      <td>Built-in speaker for voice feedback when not c...</td>\n",
       "    </tr>\n",
       "    <tr>\n",
       "      <th>System Requirements</th>\n",
       "      <td>Echo Dot comes ready to connect to your Wi-Fi....</td>\n",
       "    </tr>\n",
       "    <tr>\n",
       "      <th>Warranty and Service</th>\n",
       "      <td>All-new Echo dot is sold with a limited warran...</td>\n",
       "    </tr>\n",
       "    <tr>\n",
       "      <th>Included in the Box</th>\n",
       "      <td>All-new Echo Dot, power adaptor (15W), and Qui...</td>\n",
       "    </tr>\n",
       "  </tbody>\n",
       "</table>\n",
       "</div>"
      ],
      "text/plain": [
       "                                                                    Value\n",
       "Size                                                       99x 99 x 43 mm\n",
       "Weight                  300 g\\nActual size and weight may vary by conf...\n",
       "Wi-Fi Connectivity      Dual-band Wi-Fi supports 802.11 a/b/g/n (2.4 a...\n",
       "Bluetooth Connectivity  Advanced Audio Distribution Profile (A2DP) sup...\n",
       "Audio                   Built-in speaker for voice feedback when not c...\n",
       "System Requirements     Echo Dot comes ready to connect to your Wi-Fi....\n",
       "Warranty and Service    All-new Echo dot is sold with a limited warran...\n",
       "Included in the Box     All-new Echo Dot, power adaptor (15W), and Qui..."
      ]
     },
     "execution_count": 128,
     "metadata": {},
     "output_type": "execute_result"
    }
   ],
   "source": [
    "df"
   ]
  },
  {
   "cell_type": "code",
   "execution_count": null,
   "metadata": {},
   "outputs": [],
   "source": []
  },
  {
   "cell_type": "code",
   "execution_count": null,
   "metadata": {},
   "outputs": [],
   "source": []
  },
  {
   "cell_type": "code",
   "execution_count": null,
   "metadata": {},
   "outputs": [],
   "source": []
  }
 ],
 "metadata": {
  "kernelspec": {
   "display_name": "Python 3",
   "language": "python",
   "name": "python3"
  },
  "language_info": {
   "codemirror_mode": {
    "name": "ipython",
    "version": 3
   },
   "file_extension": ".py",
   "mimetype": "text/x-python",
   "name": "python",
   "nbconvert_exporter": "python",
   "pygments_lexer": "ipython3",
   "version": "3.6.8"
  }
 },
 "nbformat": 4,
 "nbformat_minor": 2
}
