{
 "cells": [
  {
   "cell_type": "code",
   "execution_count": 1,
   "metadata": {},
   "outputs": [
    {
     "name": "stdout",
     "output_type": "stream",
     "text": [
      "Requirement already satisfied: nltk in c:\\users\\vaibhav\\anaconda3\\lib\\site-packages (3.4)\n",
      "Requirement already satisfied: six in c:\\users\\vaibhav\\anaconda3\\lib\\site-packages (from nltk) (1.12.0)\n",
      "Requirement already satisfied: singledispatch in c:\\users\\vaibhav\\anaconda3\\lib\\site-packages (from nltk) (3.4.0.3)\n"
     ]
    }
   ],
   "source": [
    "#!pip install nltk"
   ]
  },
  {
   "cell_type": "code",
   "execution_count": 2,
   "metadata": {},
   "outputs": [],
   "source": [
    "import nltk"
   ]
  },
  {
   "cell_type": "code",
   "execution_count": 4,
   "metadata": {},
   "outputs": [],
   "source": [
    "#nltk.download()"
   ]
  },
  {
   "cell_type": "code",
   "execution_count": 5,
   "metadata": {},
   "outputs": [],
   "source": [
    "sentence = \"Wonderful! How are you doing?\""
   ]
  },
  {
   "cell_type": "code",
   "execution_count": 6,
   "metadata": {},
   "outputs": [],
   "source": [
    "from nltk import word_tokenize"
   ]
  },
  {
   "cell_type": "code",
   "execution_count": 14,
   "metadata": {},
   "outputs": [],
   "source": [
    "tokens = word_tokenize(sentence)\n",
    "#what is the difference between the string split fn and tokenize fn"
   ]
  },
  {
   "cell_type": "code",
   "execution_count": 8,
   "metadata": {},
   "outputs": [
    {
     "data": {
      "text/plain": [
       "['Wonderful!', 'How', 'are', 'you', 'doing?']"
      ]
     },
     "execution_count": 8,
     "metadata": {},
     "output_type": "execute_result"
    }
   ],
   "source": [
    "sentence.split()"
   ]
  },
  {
   "cell_type": "code",
   "execution_count": 9,
   "metadata": {},
   "outputs": [],
   "source": [
    "from nltk import sent_tokenize"
   ]
  },
  {
   "cell_type": "code",
   "execution_count": 10,
   "metadata": {},
   "outputs": [],
   "source": [
    "para = \"Neil Armstrong (1930–2012) was an astronaut and aeronautical engineer who was the first person to walk on the Moon. He was a United States Naval Aviator who served in the Korean War and later worked as a civilian test pilot for experimental aircraft. Armstrong joined the NASA Astronaut Corps in the second group, selected in 1962; he made his first spaceflight as command pilot of Gemini 8 in March 1966, becoming NASA's first civilian astronaut to fly in space. During this mission with pilot David Scott, he completed the first docking of two spacecraft. In July 1969, Armstrong and Apollo 11 Lunar Module pilot Buzz Aldrin performed the first crewed Moon landing, while Michael Collins remained in lunar orbit in the command module.\""
   ]
  },
  {
   "cell_type": "code",
   "execution_count": 12,
   "metadata": {},
   "outputs": [
    {
     "data": {
      "text/plain": [
       "['Neil Armstrong (1930–2012) was an astronaut and aeronautical engineer who was the first person to walk on the Moon.',\n",
       " 'He was a United States Naval Aviator who served in the Korean War and later worked as a civilian test pilot for experimental aircraft.',\n",
       " \"Armstrong joined the NASA Astronaut Corps in the second group, selected in 1962; he made his first spaceflight as command pilot of Gemini 8 in March 1966, becoming NASA's first civilian astronaut to fly in space.\",\n",
       " 'During this mission with pilot David Scott, he completed the first docking of two spacecraft.',\n",
       " 'In July 1969, Armstrong and Apollo 11 Lunar Module pilot Buzz Aldrin performed the first crewed Moon landing, while Michael Collins remained in lunar orbit in the command module.']"
      ]
     },
     "execution_count": 12,
     "metadata": {},
     "output_type": "execute_result"
    }
   ],
   "source": [
    "texts = sent_tokenize(para)\n",
    "texts"
   ]
  },
  {
   "cell_type": "code",
   "execution_count": 13,
   "metadata": {},
   "outputs": [
    {
     "data": {
      "text/plain": [
       "5"
      ]
     },
     "execution_count": 13,
     "metadata": {},
     "output_type": "execute_result"
    }
   ],
   "source": [
    "len(texts)"
   ]
  },
  {
   "cell_type": "code",
   "execution_count": 15,
   "metadata": {},
   "outputs": [
    {
     "data": {
      "text/plain": [
       "['Wonderful', '!', 'How', 'are', 'you', 'doing', '?']"
      ]
     },
     "execution_count": 15,
     "metadata": {},
     "output_type": "execute_result"
    }
   ],
   "source": [
    "tokens"
   ]
  },
  {
   "cell_type": "code",
   "execution_count": 16,
   "metadata": {},
   "outputs": [
    {
     "data": {
      "text/plain": [
       "'!\"#$%&\\'()*+,-./:;<=>?@[\\\\]^_`{|}~'"
      ]
     },
     "execution_count": 16,
     "metadata": {},
     "output_type": "execute_result"
    }
   ],
   "source": [
    "import string\n",
    "string.punctuation"
   ]
  },
  {
   "cell_type": "code",
   "execution_count": 17,
   "metadata": {},
   "outputs": [
    {
     "data": {
      "text/plain": [
       "['Wonderful', 'How', 'are', 'you', 'doing']"
      ]
     },
     "execution_count": 17,
     "metadata": {},
     "output_type": "execute_result"
    }
   ],
   "source": [
    "[token for token in tokens if token not in string.punctuation]"
   ]
  },
  {
   "cell_type": "code",
   "execution_count": 18,
   "metadata": {},
   "outputs": [],
   "source": [
    "from nltk.corpus import stopwords"
   ]
  },
  {
   "cell_type": "code",
   "execution_count": 19,
   "metadata": {},
   "outputs": [
    {
     "data": {
      "text/plain": [
       "['arabic',\n",
       " 'azerbaijani',\n",
       " 'danish',\n",
       " 'dutch',\n",
       " 'english',\n",
       " 'finnish',\n",
       " 'french',\n",
       " 'german',\n",
       " 'greek',\n",
       " 'hungarian',\n",
       " 'indonesian',\n",
       " 'italian',\n",
       " 'kazakh',\n",
       " 'nepali',\n",
       " 'norwegian',\n",
       " 'portuguese',\n",
       " 'romanian',\n",
       " 'russian',\n",
       " 'spanish',\n",
       " 'swedish',\n",
       " 'turkish']"
      ]
     },
     "execution_count": 19,
     "metadata": {},
     "output_type": "execute_result"
    }
   ],
   "source": [
    "stopwords.fileids()"
   ]
  },
  {
   "cell_type": "code",
   "execution_count": 20,
   "metadata": {},
   "outputs": [
    {
     "data": {
      "text/plain": [
       "['i',\n",
       " 'me',\n",
       " 'my',\n",
       " 'myself',\n",
       " 'we',\n",
       " 'our',\n",
       " 'ours',\n",
       " 'ourselves',\n",
       " 'you',\n",
       " \"you're\",\n",
       " \"you've\",\n",
       " \"you'll\",\n",
       " \"you'd\",\n",
       " 'your',\n",
       " 'yours',\n",
       " 'yourself',\n",
       " 'yourselves',\n",
       " 'he',\n",
       " 'him',\n",
       " 'his',\n",
       " 'himself',\n",
       " 'she',\n",
       " \"she's\",\n",
       " 'her',\n",
       " 'hers',\n",
       " 'herself',\n",
       " 'it',\n",
       " \"it's\",\n",
       " 'its',\n",
       " 'itself',\n",
       " 'they',\n",
       " 'them',\n",
       " 'their',\n",
       " 'theirs',\n",
       " 'themselves',\n",
       " 'what',\n",
       " 'which',\n",
       " 'who',\n",
       " 'whom',\n",
       " 'this',\n",
       " 'that',\n",
       " \"that'll\",\n",
       " 'these',\n",
       " 'those',\n",
       " 'am',\n",
       " 'is',\n",
       " 'are',\n",
       " 'was',\n",
       " 'were',\n",
       " 'be',\n",
       " 'been',\n",
       " 'being',\n",
       " 'have',\n",
       " 'has',\n",
       " 'had',\n",
       " 'having',\n",
       " 'do',\n",
       " 'does',\n",
       " 'did',\n",
       " 'doing',\n",
       " 'a',\n",
       " 'an',\n",
       " 'the',\n",
       " 'and',\n",
       " 'but',\n",
       " 'if',\n",
       " 'or',\n",
       " 'because',\n",
       " 'as',\n",
       " 'until',\n",
       " 'while',\n",
       " 'of',\n",
       " 'at',\n",
       " 'by',\n",
       " 'for',\n",
       " 'with',\n",
       " 'about',\n",
       " 'against',\n",
       " 'between',\n",
       " 'into',\n",
       " 'through',\n",
       " 'during',\n",
       " 'before',\n",
       " 'after',\n",
       " 'above',\n",
       " 'below',\n",
       " 'to',\n",
       " 'from',\n",
       " 'up',\n",
       " 'down',\n",
       " 'in',\n",
       " 'out',\n",
       " 'on',\n",
       " 'off',\n",
       " 'over',\n",
       " 'under',\n",
       " 'again',\n",
       " 'further',\n",
       " 'then',\n",
       " 'once',\n",
       " 'here',\n",
       " 'there',\n",
       " 'when',\n",
       " 'where',\n",
       " 'why',\n",
       " 'how',\n",
       " 'all',\n",
       " 'any',\n",
       " 'both',\n",
       " 'each',\n",
       " 'few',\n",
       " 'more',\n",
       " 'most',\n",
       " 'other',\n",
       " 'some',\n",
       " 'such',\n",
       " 'no',\n",
       " 'nor',\n",
       " 'not',\n",
       " 'only',\n",
       " 'own',\n",
       " 'same',\n",
       " 'so',\n",
       " 'than',\n",
       " 'too',\n",
       " 'very',\n",
       " 's',\n",
       " 't',\n",
       " 'can',\n",
       " 'will',\n",
       " 'just',\n",
       " 'don',\n",
       " \"don't\",\n",
       " 'should',\n",
       " \"should've\",\n",
       " 'now',\n",
       " 'd',\n",
       " 'll',\n",
       " 'm',\n",
       " 'o',\n",
       " 're',\n",
       " 've',\n",
       " 'y',\n",
       " 'ain',\n",
       " 'aren',\n",
       " \"aren't\",\n",
       " 'couldn',\n",
       " \"couldn't\",\n",
       " 'didn',\n",
       " \"didn't\",\n",
       " 'doesn',\n",
       " \"doesn't\",\n",
       " 'hadn',\n",
       " \"hadn't\",\n",
       " 'hasn',\n",
       " \"hasn't\",\n",
       " 'haven',\n",
       " \"haven't\",\n",
       " 'isn',\n",
       " \"isn't\",\n",
       " 'ma',\n",
       " 'mightn',\n",
       " \"mightn't\",\n",
       " 'mustn',\n",
       " \"mustn't\",\n",
       " 'needn',\n",
       " \"needn't\",\n",
       " 'shan',\n",
       " \"shan't\",\n",
       " 'shouldn',\n",
       " \"shouldn't\",\n",
       " 'wasn',\n",
       " \"wasn't\",\n",
       " 'weren',\n",
       " \"weren't\",\n",
       " 'won',\n",
       " \"won't\",\n",
       " 'wouldn',\n",
       " \"wouldn't\"]"
      ]
     },
     "execution_count": 20,
     "metadata": {},
     "output_type": "execute_result"
    }
   ],
   "source": [
    "stopwords.words(\"english\")"
   ]
  },
  {
   "cell_type": "code",
   "execution_count": 21,
   "metadata": {},
   "outputs": [],
   "source": [
    "p = [token for token in tokens if token not in string.punctuation]"
   ]
  },
  {
   "cell_type": "code",
   "execution_count": 22,
   "metadata": {},
   "outputs": [
    {
     "data": {
      "text/plain": [
       "['Wonderful', 'How']"
      ]
     },
     "execution_count": 22,
     "metadata": {},
     "output_type": "execute_result"
    }
   ],
   "source": [
    "q = [token for token in p if token not in stopwords.words(\"english\")]\n",
    "q"
   ]
  },
  {
   "cell_type": "code",
   "execution_count": null,
   "metadata": {},
   "outputs": [],
   "source": [
    "#Lexicon normalization\n",
    "#Stemming and Lemmatization"
   ]
  },
  {
   "cell_type": "code",
   "execution_count": 23,
   "metadata": {},
   "outputs": [],
   "source": [
    "from nltk.stem.porter import PorterStemmer"
   ]
  },
  {
   "cell_type": "code",
   "execution_count": 24,
   "metadata": {},
   "outputs": [],
   "source": [
    "stem = PorterStemmer()"
   ]
  },
  {
   "cell_type": "code",
   "execution_count": 25,
   "metadata": {},
   "outputs": [
    {
     "data": {
      "text/plain": [
       "'multipli'"
      ]
     },
     "execution_count": 25,
     "metadata": {},
     "output_type": "execute_result"
    }
   ],
   "source": [
    "stem.stem(\"multiplying\")"
   ]
  },
  {
   "cell_type": "code",
   "execution_count": 26,
   "metadata": {},
   "outputs": [
    {
     "data": {
      "text/plain": [
       "'multipli'"
      ]
     },
     "execution_count": 26,
     "metadata": {},
     "output_type": "execute_result"
    }
   ],
   "source": [
    "stem.stem(\"multiplied\")"
   ]
  },
  {
   "cell_type": "code",
   "execution_count": 27,
   "metadata": {},
   "outputs": [
    {
     "data": {
      "text/plain": [
       "'multipl'"
      ]
     },
     "execution_count": 27,
     "metadata": {},
     "output_type": "execute_result"
    }
   ],
   "source": [
    "stem.stem(\"multiple\")"
   ]
  },
  {
   "cell_type": "code",
   "execution_count": 30,
   "metadata": {},
   "outputs": [
    {
     "data": {
      "text/plain": [
       "['wonder', 'how']"
      ]
     },
     "execution_count": 30,
     "metadata": {},
     "output_type": "execute_result"
    }
   ],
   "source": [
    "[stem.stem(tok) for tok in q]"
   ]
  },
  {
   "cell_type": "code",
   "execution_count": 31,
   "metadata": {},
   "outputs": [],
   "source": [
    "from nltk.stem.wordnet import WordNetLemmatizer"
   ]
  },
  {
   "cell_type": "code",
   "execution_count": 32,
   "metadata": {},
   "outputs": [],
   "source": [
    "lm = WordNetLemmatizer()"
   ]
  },
  {
   "cell_type": "code",
   "execution_count": 34,
   "metadata": {},
   "outputs": [
    {
     "data": {
      "text/plain": [
       "'multiply'"
      ]
     },
     "execution_count": 34,
     "metadata": {},
     "output_type": "execute_result"
    }
   ],
   "source": [
    "lm.lemmatize(\"multiplying\", \"v\")"
   ]
  },
  {
   "cell_type": "code",
   "execution_count": 36,
   "metadata": {},
   "outputs": [
    {
     "data": {
      "text/plain": [
       "'multiply'"
      ]
     },
     "execution_count": 36,
     "metadata": {},
     "output_type": "execute_result"
    }
   ],
   "source": [
    "lm.lemmatize(\"multiplied\", \"v\")"
   ]
  },
  {
   "cell_type": "markdown",
   "metadata": {},
   "source": [
    "#### POS Tagging"
   ]
  },
  {
   "cell_type": "code",
   "execution_count": 37,
   "metadata": {},
   "outputs": [],
   "source": [
    "from nltk import pos_tag"
   ]
  },
  {
   "cell_type": "code",
   "execution_count": 38,
   "metadata": {},
   "outputs": [
    {
     "data": {
      "text/plain": [
       "['Wonderful', 'How']"
      ]
     },
     "execution_count": 38,
     "metadata": {},
     "output_type": "execute_result"
    }
   ],
   "source": [
    "q"
   ]
  },
  {
   "cell_type": "code",
   "execution_count": 40,
   "metadata": {},
   "outputs": [
    {
     "data": {
      "text/plain": [
       "[('Wonderful', 'JJ'), ('How', 'WRB')]"
      ]
     },
     "execution_count": 40,
     "metadata": {},
     "output_type": "execute_result"
    }
   ],
   "source": [
    "r = pos_tag(q)\n",
    "r"
   ]
  },
  {
   "cell_type": "code",
   "execution_count": null,
   "metadata": {},
   "outputs": [],
   "source": [
    "\"\"\"\n",
    "    CC coordinating conjunction\n",
    "    CD cardinal digit\n",
    "    DT determiner\n",
    "    EX existential there (like: “there is” … think of it like “there exists”)\n",
    "    FW foreign word\n",
    "    IN preposition/subordinating conjunction\n",
    "    JJ adjective ‘big’\n",
    "    JJR adjective, comparative ‘bigger’\n",
    "    JJS adjective, superlative ‘biggest’\n",
    "    LS list marker 1)\n",
    "    MD modal could, will\n",
    "    NN noun, singular ‘desk’\n",
    "    NNS noun plural ‘desks’\n",
    "    NNP proper noun, singular ‘Harrison’\n",
    "    NNPS proper noun, plural ‘Americans’\n",
    "    PDT predeterminer ‘all the kids’\n",
    "    POS possessive ending parent’s\n",
    "    PRP personal pronoun I, he, she\n",
    "    PRP$ possessive pronoun my, his, hers\n",
    "    RB adverb very, silently,\n",
    "    RBR adverb, comparative better\n",
    "    RBS adverb, superlative best\n",
    "    RP particle give up\n",
    "    TO, to go ‘to’ the store.\n",
    "    UH interjection, errrrrrrrm\n",
    "    VB verb, base form take\n",
    "    VBD verb, past tense took\n",
    "    VBG verb, gerund/present participle taking\n",
    "    VBN verb, past participle taken\n",
    "    VBP verb, sing. present, non-3d take\n",
    "    VBZ verb, 3rd person sing. present takes\n",
    "    WDT wh-determiner which\n",
    "    WP wh-pronoun who, what\n",
    "    WP$ possessive wh-pronoun whose\n",
    "    WRB wh-abverb where, when\n",
    "\"\"\""
   ]
  },
  {
   "cell_type": "markdown",
   "metadata": {},
   "source": [
    "### SPAM AND HAM CLASSIFICATION OF EMAILS"
   ]
  },
  {
   "cell_type": "code",
   "execution_count": 47,
   "metadata": {},
   "outputs": [],
   "source": [
    "import pandas as pd\n",
    "spamCollection = pd.read_csv(r\"C:\\Users\\Vaibhav\\Desktop\\BA\\Datasets\\MessageSpamCollection_dataset\\SpamCollection\\SpamCollection\", sep = \"\\t\", header= None, names=[\"response\", \"message\"])"
   ]
  },
  {
   "cell_type": "code",
   "execution_count": 49,
   "metadata": {},
   "outputs": [
    {
     "data": {
      "text/html": [
       "<div>\n",
       "<style scoped>\n",
       "    .dataframe tbody tr th:only-of-type {\n",
       "        vertical-align: middle;\n",
       "    }\n",
       "\n",
       "    .dataframe tbody tr th {\n",
       "        vertical-align: top;\n",
       "    }\n",
       "\n",
       "    .dataframe thead th {\n",
       "        text-align: right;\n",
       "    }\n",
       "</style>\n",
       "<table border=\"1\" class=\"dataframe\">\n",
       "  <thead>\n",
       "    <tr style=\"text-align: right;\">\n",
       "      <th></th>\n",
       "      <th>response</th>\n",
       "      <th>message</th>\n",
       "    </tr>\n",
       "  </thead>\n",
       "  <tbody>\n",
       "    <tr>\n",
       "      <th>0</th>\n",
       "      <td>ham</td>\n",
       "      <td>Go until jurong point, crazy.. Available only ...</td>\n",
       "    </tr>\n",
       "    <tr>\n",
       "      <th>1</th>\n",
       "      <td>ham</td>\n",
       "      <td>Ok lar... Joking wif u oni...</td>\n",
       "    </tr>\n",
       "    <tr>\n",
       "      <th>2</th>\n",
       "      <td>spam</td>\n",
       "      <td>Free entry in 2 a wkly comp to win FA Cup fina...</td>\n",
       "    </tr>\n",
       "  </tbody>\n",
       "</table>\n",
       "</div>"
      ],
      "text/plain": [
       "  response                                            message\n",
       "0      ham  Go until jurong point, crazy.. Available only ...\n",
       "1      ham                      Ok lar... Joking wif u oni...\n",
       "2     spam  Free entry in 2 a wkly comp to win FA Cup fina..."
      ]
     },
     "execution_count": 49,
     "metadata": {},
     "output_type": "execute_result"
    }
   ],
   "source": [
    "spamCollection.head(3)"
   ]
  },
  {
   "cell_type": "code",
   "execution_count": 50,
   "metadata": {},
   "outputs": [],
   "source": [
    "X = spamCollection[[\"message\"]]\n",
    "y = spamCollection.response"
   ]
  },
  {
   "cell_type": "code",
   "execution_count": 52,
   "metadata": {},
   "outputs": [],
   "source": [
    "from sklearn.model_selection import train_test_split\n",
    "X_train, X_test, y_train, y_test = train_test_split(X,y, test_size = .25, random_state = 1)"
   ]
  },
  {
   "cell_type": "code",
   "execution_count": 55,
   "metadata": {},
   "outputs": [
    {
     "data": {
      "text/plain": [
       "'4mths half price Orange line rental & latest camera phones 4 FREE. Had your phone 11mths+? Call MobilesDirect free on 08000938767 to update now! or2stoptxt T&Cs'"
      ]
     },
     "execution_count": 55,
     "metadata": {},
     "output_type": "execute_result"
    }
   ],
   "source": [
    "sentence = X_train.iloc[0,0]\n",
    "sentence"
   ]
  },
  {
   "cell_type": "code",
   "execution_count": 62,
   "metadata": {},
   "outputs": [
    {
     "data": {
      "text/plain": [
       "['4',\n",
       " 'm',\n",
       " 't',\n",
       " 'h',\n",
       " 's',\n",
       " ' ',\n",
       " 'h',\n",
       " 'a',\n",
       " 'l',\n",
       " 'f',\n",
       " ' ',\n",
       " 'p',\n",
       " 'r',\n",
       " 'i',\n",
       " 'c',\n",
       " 'e',\n",
       " ' ',\n",
       " 'O',\n",
       " 'r',\n",
       " 'a',\n",
       " 'n',\n",
       " 'g',\n",
       " 'e',\n",
       " ' ',\n",
       " 'l',\n",
       " 'i',\n",
       " 'n',\n",
       " 'e',\n",
       " ' ',\n",
       " 'r',\n",
       " 'e',\n",
       " 'n',\n",
       " 't',\n",
       " 'a',\n",
       " 'l',\n",
       " ' ',\n",
       " ' ',\n",
       " 'l',\n",
       " 'a',\n",
       " 't',\n",
       " 'e',\n",
       " 's',\n",
       " 't',\n",
       " ' ',\n",
       " 'c',\n",
       " 'a',\n",
       " 'm',\n",
       " 'e',\n",
       " 'r',\n",
       " 'a',\n",
       " ' ',\n",
       " 'p',\n",
       " 'h',\n",
       " 'o',\n",
       " 'n',\n",
       " 'e',\n",
       " 's',\n",
       " ' ',\n",
       " '4',\n",
       " ' ',\n",
       " 'F',\n",
       " 'R',\n",
       " 'E',\n",
       " 'E',\n",
       " ' ',\n",
       " 'H',\n",
       " 'a',\n",
       " 'd',\n",
       " ' ',\n",
       " 'y',\n",
       " 'o',\n",
       " 'u',\n",
       " 'r',\n",
       " ' ',\n",
       " 'p',\n",
       " 'h',\n",
       " 'o',\n",
       " 'n',\n",
       " 'e',\n",
       " ' ',\n",
       " '1',\n",
       " '1',\n",
       " 'm',\n",
       " 't',\n",
       " 'h',\n",
       " 's',\n",
       " ' ',\n",
       " 'C',\n",
       " 'a',\n",
       " 'l',\n",
       " 'l',\n",
       " ' ',\n",
       " 'M',\n",
       " 'o',\n",
       " 'b',\n",
       " 'i',\n",
       " 'l',\n",
       " 'e',\n",
       " 's',\n",
       " 'D',\n",
       " 'i',\n",
       " 'r',\n",
       " 'e',\n",
       " 'c',\n",
       " 't',\n",
       " ' ',\n",
       " 'f',\n",
       " 'r',\n",
       " 'e',\n",
       " 'e',\n",
       " ' ',\n",
       " 'o',\n",
       " 'n',\n",
       " ' ',\n",
       " '0',\n",
       " '8',\n",
       " '0',\n",
       " '0',\n",
       " '0',\n",
       " '9',\n",
       " '3',\n",
       " '8',\n",
       " '7',\n",
       " '6',\n",
       " '7',\n",
       " ' ',\n",
       " 't',\n",
       " 'o',\n",
       " ' ',\n",
       " 'u',\n",
       " 'p',\n",
       " 'd',\n",
       " 'a',\n",
       " 't',\n",
       " 'e',\n",
       " ' ',\n",
       " 'n',\n",
       " 'o',\n",
       " 'w',\n",
       " ' ',\n",
       " 'o',\n",
       " 'r',\n",
       " '2',\n",
       " 's',\n",
       " 't',\n",
       " 'o',\n",
       " 'p',\n",
       " 't',\n",
       " 'x',\n",
       " 't',\n",
       " ' ',\n",
       " 'T',\n",
       " 'C',\n",
       " 's']"
      ]
     },
     "execution_count": 62,
     "metadata": {},
     "output_type": "execute_result"
    }
   ],
   "source": [
    "p = [char for char in sentence if char not in string.punctuation]\n",
    "p"
   ]
  },
  {
   "cell_type": "code",
   "execution_count": 65,
   "metadata": {},
   "outputs": [
    {
     "data": {
      "text/plain": [
       "['4mths',\n",
       " 'half',\n",
       " 'price',\n",
       " 'Orange',\n",
       " 'line',\n",
       " 'rental',\n",
       " 'latest',\n",
       " 'camera',\n",
       " 'phones',\n",
       " '4',\n",
       " 'FREE',\n",
       " 'Had',\n",
       " 'your',\n",
       " 'phone',\n",
       " '11mths',\n",
       " 'Call',\n",
       " 'MobilesDirect',\n",
       " 'free',\n",
       " 'on',\n",
       " '08000938767',\n",
       " 'to',\n",
       " 'update',\n",
       " 'now',\n",
       " 'or2stoptxt',\n",
       " 'TCs']"
      ]
     },
     "execution_count": 65,
     "metadata": {},
     "output_type": "execute_result"
    }
   ],
   "source": [
    "sent = \"\".join(p)\n",
    "sent\n",
    "tokens = word_tokenize(sent)\n",
    "tokens"
   ]
  },
  {
   "cell_type": "code",
   "execution_count": 57,
   "metadata": {},
   "outputs": [
    {
     "data": {
      "text/plain": [
       "['4mths',\n",
       " 'half',\n",
       " 'price',\n",
       " 'Orange',\n",
       " 'line',\n",
       " 'rental',\n",
       " 'latest',\n",
       " 'camera',\n",
       " 'phones',\n",
       " '4',\n",
       " 'FREE',\n",
       " 'Had',\n",
       " 'your',\n",
       " 'phone',\n",
       " '11mths+',\n",
       " 'Call',\n",
       " 'MobilesDirect',\n",
       " 'free',\n",
       " 'on',\n",
       " '08000938767',\n",
       " 'to',\n",
       " 'update',\n",
       " 'now',\n",
       " 'or2stoptxt',\n",
       " 'T',\n",
       " 'Cs']"
      ]
     },
     "execution_count": 57,
     "metadata": {},
     "output_type": "execute_result"
    }
   ],
   "source": [
    "p = [token for token in tokens if token not in string.punctuation]\n",
    "p"
   ]
  },
  {
   "cell_type": "code",
   "execution_count": 60,
   "metadata": {},
   "outputs": [
    {
     "data": {
      "text/plain": [
       "['4mths',\n",
       " 'half',\n",
       " 'price',\n",
       " 'orange',\n",
       " 'line',\n",
       " 'rental',\n",
       " 'latest',\n",
       " 'camera',\n",
       " 'phones',\n",
       " '4',\n",
       " 'free',\n",
       " 'phone',\n",
       " '11mths+',\n",
       " 'call',\n",
       " 'mobilesdirect',\n",
       " 'free',\n",
       " '08000938767',\n",
       " 'update',\n",
       " 'or2stoptxt',\n",
       " 'cs']"
      ]
     },
     "execution_count": 60,
     "metadata": {},
     "output_type": "execute_result"
    }
   ],
   "source": [
    "q = [token.lower() for token in p if token.lower() not in stopwords.words(\"english\")]\n",
    "q"
   ]
  },
  {
   "cell_type": "code",
   "execution_count": 61,
   "metadata": {},
   "outputs": [
    {
     "data": {
      "text/plain": [
       "'!\"#$%&\\'()*+,-./:;<=>?@[\\\\]^_`{|}~'"
      ]
     },
     "execution_count": 61,
     "metadata": {},
     "output_type": "execute_result"
    }
   ],
   "source": [
    "string.punctuation"
   ]
  },
  {
   "cell_type": "code",
   "execution_count": 66,
   "metadata": {},
   "outputs": [],
   "source": [
    "def clean_text(sentence):\n",
    "    p = [char for char in sentence if char not in string.punctuation]\n",
    "    sent = \"\".join(p)\n",
    "    tokens = word_tokenize(sent)\n",
    "    p = [token for token in tokens if token not in string.punctuation]\n",
    "    q = [token.lower() for token in p if token.lower() not in stopwords.words(\"english\")]\n",
    "    return q"
   ]
  },
  {
   "cell_type": "code",
   "execution_count": 67,
   "metadata": {},
   "outputs": [
    {
     "data": {
      "text/plain": [
       "['4mths',\n",
       " 'half',\n",
       " 'price',\n",
       " 'orange',\n",
       " 'line',\n",
       " 'rental',\n",
       " 'latest',\n",
       " 'camera',\n",
       " 'phones',\n",
       " '4',\n",
       " 'free',\n",
       " 'phone',\n",
       " '11mths',\n",
       " 'call',\n",
       " 'mobilesdirect',\n",
       " 'free',\n",
       " '08000938767',\n",
       " 'update',\n",
       " 'or2stoptxt',\n",
       " 'tcs']"
      ]
     },
     "execution_count": 67,
     "metadata": {},
     "output_type": "execute_result"
    }
   ],
   "source": [
    "clean_text(sentence)"
   ]
  },
  {
   "cell_type": "code",
   "execution_count": 71,
   "metadata": {},
   "outputs": [
    {
     "data": {
      "text/plain": [
       "710     [4mths, half, price, orange, line, rental, lat...\n",
       "3740                                    [stitch, trouser]\n",
       "2711    [hope, enjoyed, new, content, text, stop, 6161...\n",
       "3155    [heard, u4, call, 4, rude, chat, private, line...\n",
       "3748         [ü, neva, tell, noe, im, home, da, aft, wat]\n",
       "2389    [wiskey, brandy, rum, gin, beer, vodka, scotch...\n",
       "3464               [seeking, lady, street, freak, sheets]\n",
       "772     [lol, u, drunkard, hair, moment, yeah, still, ...\n",
       "3667    [im, turning, phone, moms, telling, everyone, ...\n",
       "4955    [u, coming, back, 4, dinner, rite, dad, ask, c...\n",
       "Name: message, dtype: object"
      ]
     },
     "execution_count": 71,
     "metadata": {},
     "output_type": "execute_result"
    }
   ],
   "source": [
    "X_train[:10].message.apply(clean_text)"
   ]
  },
  {
   "cell_type": "code",
   "execution_count": 72,
   "metadata": {},
   "outputs": [],
   "source": [
    "from sklearn.feature_extraction.text import CountVectorizer"
   ]
  },
  {
   "cell_type": "code",
   "execution_count": 73,
   "metadata": {},
   "outputs": [],
   "source": [
    "bow = CountVectorizer(analyzer=clean_text)"
   ]
  },
  {
   "cell_type": "code",
   "execution_count": 74,
   "metadata": {},
   "outputs": [
    {
     "data": {
      "text/plain": [
       "CountVectorizer(analyzer=<function clean_text at 0x000002B09415C2F0>,\n",
       "                binary=False, decode_error='strict',\n",
       "                dtype=<class 'numpy.int64'>, encoding='utf-8', input='content',\n",
       "                lowercase=True, max_df=1.0, max_features=None, min_df=1,\n",
       "                ngram_range=(1, 1), preprocessor=None, stop_words=None,\n",
       "                strip_accents=None, token_pattern='(?u)\\\\b\\\\w\\\\w+\\\\b',\n",
       "                tokenizer=None, vocabulary=None)"
      ]
     },
     "execution_count": 74,
     "metadata": {},
     "output_type": "execute_result"
    }
   ],
   "source": [
    "bow.fit(X_train[\"message\"])"
   ]
  },
  {
   "cell_type": "code",
   "execution_count": 75,
   "metadata": {},
   "outputs": [],
   "source": [
    "msg_bows = bow.transform(X_train.message)"
   ]
  },
  {
   "cell_type": "code",
   "execution_count": 76,
   "metadata": {},
   "outputs": [
    {
     "data": {
      "text/plain": [
       "<4179x8039 sparse matrix of type '<class 'numpy.int64'>'\n",
       "\twith 37410 stored elements in Compressed Sparse Row format>"
      ]
     },
     "execution_count": 76,
     "metadata": {},
     "output_type": "execute_result"
    }
   ],
   "source": [
    "msg_bows"
   ]
  },
  {
   "cell_type": "code",
   "execution_count": 77,
   "metadata": {},
   "outputs": [
    {
     "data": {
      "text/plain": [
       "array([[0, 0, 0, ..., 0, 0, 0],\n",
       "       [0, 0, 0, ..., 0, 0, 0],\n",
       "       [0, 0, 0, ..., 0, 0, 0],\n",
       "       ...,\n",
       "       [0, 0, 0, ..., 0, 0, 0],\n",
       "       [0, 0, 0, ..., 0, 0, 0],\n",
       "       [0, 0, 0, ..., 0, 0, 0]], dtype=int64)"
      ]
     },
     "execution_count": 77,
     "metadata": {},
     "output_type": "execute_result"
    }
   ],
   "source": [
    "msg_bows.toarray()"
   ]
  },
  {
   "cell_type": "code",
   "execution_count": 78,
   "metadata": {},
   "outputs": [
    {
     "data": {
      "text/plain": [
       "[1, 1, 1, 1, 2, 1, 1, 1, 1, 1, 1, 1, 1, 1, 1, 1, 1, 1, 1, 1, 1, 1, 1]"
      ]
     },
     "execution_count": 78,
     "metadata": {},
     "output_type": "execute_result"
    }
   ],
   "source": [
    "#to retrieve the non-zero elements in the 3rd row\n",
    "[msg_bows[3,i] for i in range(msg_bows.shape[1]) if msg_bows[3,i]!=0]"
   ]
  },
  {
   "cell_type": "code",
   "execution_count": 82,
   "metadata": {},
   "outputs": [
    {
     "name": "stdout",
     "output_type": "stream",
     "text": [
      "['£s', 'é', 'ü', 'üll', '–', '‘', '’', '“', '…', '…thanks']\n"
     ]
    }
   ],
   "source": [
    "print(bow.get_feature_names()[-10:])"
   ]
  },
  {
   "cell_type": "code",
   "execution_count": 84,
   "metadata": {},
   "outputs": [
    {
     "name": "stdout",
     "output_type": "stream",
     "text": [
      "{'4mths': 527, 'half': 3355, 'price': 5543, 'orange': 5122, 'line': 4234, 'rental': 5842, 'latest': 4138, 'camera': 1647, 'phones': 5331, '4': 481, 'free': 3009, 'phone': 5327, '11mths': 265, 'call': 1614, 'mobilesdirect': 4668, '08000938767': 46, 'update': 7338, 'or2stoptxt': 5120, 'tcs': 6881, 'stitch': 6629, 'trouser': 7203, 'hope': 3556, 'enjoyed': 2637, 'new': 4876, 'content': 2012, 'text': 6940, 'stop': 6639, '61610': 583, 'unsubscribe': 7331, 'help08712400602450p': 3453, 'provided': 5611, 'tones2youcouk': 7122, 'heard': 3424, 'u4': 7272, 'rude': 5986, 'chat': 1773, 'private': 5557, '01223585334': 4, 'cum': 2138, 'wan': 7537, '2c': 388, 'pics': 5345, 'gettin': 3158, 'shagged': 6189, 'pix': 5367, '8552': 688, '2end': 393, 'send': 6145, 'sam': 6032, 'xxx': 7880, 'ü': 8031, 'neva': 4871, 'tell': 6907, 'noe': 4930, 'im': 3689, 'home': 3537, 'da': 2165, 'aft': 866, 'wat': 7559, 'wiskey': 7715, 'brandy': 1487, 'rum': 5993, 'gin': 3172, 'beer': 1295, 'vodka': 7480, 'scotch': 6086, 'shampain': 6199, 'wine': 7696, 'kudiyarasu': 4082, 'dhina': 2337, 'vaazhthukkal': 7399, 'seeking': 6125, 'lady': 4103, 'street': 6659, 'freak': 3005, 'sheets': 6211, 'lol': 4293, 'u': 7270, 'drunkard': 2516, 'hair': 3351, 'moment': 4685, 'yeah': 7904, 'still': 6626, 'tonight': 7125, 'wats': 7571, 'plan': 5377, 'turning': 7239, 'moms': 4687, 'telling': 6908, 'everyone': 2700, 'cancer': 1656, 'sister': 6316, 'wont': 7753, 'calling': 1633, 'hurts': 3638, 'talk': 6846, 'cant': 1660, 'put': 5645, 'see': 6121, 'get': 3151, 'love': 4339, 'coming': 1942, 'back': 1205, 'dinner': 2374, 'rite': 5934, 'dad': 2168, 'ask': 1107, 'confirm': 1987, 'wif': 7678, 'ah': 887, 'poor': 5445, 'babyhope': 1201, 'urfeeling': 7358, 'bettersn': 1334, 'luv': 4384, 'probthat': 5573, 'overdose': 5165, 'work': 7766, 'hey': 3478, 'go': 3196, 'careful': 1677, 'spk': 6526, '2': 342, 'sn': 6399, 'lots': 4327, 'lovejen': 4341, 'gam': 3096, 'gone': 3221, 'outstanding': 5162, 'innings': 3756, 'nicenicehow': 4891, 'working': 7770, 'haha': 3347, 'kidding': 4022, 'papa': 5203, 'needs': 4851, 'drugs': 2514, 'chief': 1810, 'give': 3180, 'bell': 1312, 'need': 4846, 'royal': 5973, 'visit': 7470, '1st': 332, 'june': 3959, 'ugh': 7275, 'long': 4300, 'day': 2215, 'exhausted': 2733, 'want': 7541, 'cuddle': 2133, 'take': 6838, 'nap': 4817, 'awesome': 1180, 'time': 7054, 'like': 4222, 'ltgt': 4367, 'ill': 3685, 'details': 2322, 'wee': 7600, 'bit': 1368, 'ok': 5062, 'lor': 4315, 'anyway': 1016, 'thk': 7008, 'tickets': 7044, 'cos': 2048, 'quite': 5673, 'late': 4133, 'already': 944, 'look': 4304, 'ur': 7356, 'frens': 3026, 'darren': 2198, 'dont': 2452, 'know': 4060, 'bring': 1513, 'food': 2956, 'reason': 5753, 'weve': 7644, 'spoken': 6537, 'year': 7906, 'anyways': 1017, 'great': 3278, 'week': 7602, 'best': 1326, 'exam': 2720, 'make': 4437, '3': 429, 'fucks': 3063, 'sake': 6020, 'x': 7864, 'yes': 7916, 'place': 5371, 'town': 7160, 'meet': 4532, 'exciting': 2725, 'adult': 846, 'singles': 6308, 'uk': 7280, 'txt': 7254, '86688': 693, '150pmsg': 291, 'man': 4447, 'print': 5552, 'outs': 5158, 'room': 5958, 'think': 7000, 'one': 5085, 'saying': 6067, 'clearly': 1873, 'leave': 4168, 'come': 1933, 'st': 6566, 'andre': 977, 'virgils': 7464, 'cream': 2098, 'yoyyooo': 7959, 'change': 1752, 'permissions': 5295, 'drive': 2502, 'mac': 4405, 'usb': 7371, 'flash': 2917, 'sunshine': 6754, 'quiz': 5675, 'wkly': 7729, 'q': 5652, 'win': 7690, 'top': 7139, 'sony': 6450, 'dvd': 2540, 'player': 5386, 'country': 2065, 'algarve': 925, 'ansr': 993, '82277': 662, '£150': 7995, 'sptyrone': 6556, 'dear': 2237, 'th': 6953, 'birthday': 1366, 'loving': 4350, 'gopalettan': 3243, 'planning': 5382, 'small': 6373, 'gift': 3166, 'participate': 5227, 'welcome': 7619, 'please': 5393, 'contact': 2008, 'admin': 832, 'team': 6891, 'class': 1863, 'hours': 3578, 'sorry': 6463, 'okay': 5063, 'wait': 7516, 'rushing': 6002, 'school': 6078, 'rush': 6001, 'hungry': 3625, 'usually': 7389, 'stops': 6645, 'find': 2884, 'hella': 3445, 'weed': 7601, 'smoke': 6388, 'awarded': 1178, 'city': 1855, 'break': 1494, 'could': 2059, '£200': 8006, 'summer': 6745, 'shopping': 6246, 'spree': 6550, 'every': 2696, 'wk': 7725, 'store': 6648, '88039skilgmetscs087147403231winawkage16£150perwksub': 704, 'shall': 6197, 'pickle': 5344, 'isnt': 3827, 'frnd': 3045, 'necesity': 4841, 'life': 4209, 'imagine': 3692, 'urself': 7369, 'witout': 7722, 'hwd': 3644, 'feel': 2835, 'colleg': 1925, 'watll': 7569, 'wth': 7819, 'cell': 1734, 'abt': 776, 'functions': 3071, 'thnk': 7010, 'events': 2694, 'espell': 2674, 'cared': 1675, 'missed': 4634, 'amp': 967, 'irritated': 3815, '4wrd': 539, 'dearloving': 2241, 'frnds': 3046, 'wthout': 7820, 'live': 4262, 'jst': 3947, 'takecare': 6839, 'goodmorning': 3233, 'brum': 1536, 'thanks': 6958, 'putting': 5648, 'us': 7370, 'keeping': 3998, 'happy': 3386, 'soon': 6453, 'tellmiss': 6909, 'way': 7573, 'bloomberg': 1403, 'message': 4575, 'center': 1736, '447797706009': 499, 'apply': 1039, 'future': 3080, 'httpcareers': 3599, 'bloombergcom': 1404, 'enjoy': 2636, 'r': 5681, 'plural': 5406, 'noun': 4977, 'research': 5864, 'sure': 6773, 'checking': 1787, 'happening': 3380, 'around': 1082, 'area': 1063, 'aight': 899, 'sleepingand': 6350, 'surfing': 6776, 'cool': 2033, 'breeze': 1504, 'bright': 1508, 'sun': 6748, 'fresh': 3028, 'flower': 2936, 'twittering': 7251, 'birds': 1361, 'waiting': 7520, 'wish': 7709, 'nice': 4890, 'ringtone': 5924, 'order': 5126, 'reference': 5794, 'number': 5000, 'x49': 7867, 'mobile': 4666, 'charged': 1762, '450': 506, 'tone': 7119, 'arrive': 1090, 'customer': 2152, 'services': 6167, '09065989182': 208, 'colourredtextcolourtxtstar': 1929, 'uncle': 7292, 'timi': 7060, 'help': 3450, 'clearing': 1872, 'cars': 1694, 'getting': 3159, 'really': 5748, 'bad': 1208, 'totally': 7153, 'rejected': 5813, 'kinda': 4032, 'thing': 6998, 'sent': 6154, 'prices': 5544, 'mean': 4515, 'g': 3084, 'hi': 3484, 'darlin': 2195, 'london': 4297, 'smashed': 6378, 'another': 991, 'driver': 2503, 'big': 1347, 'dent': 2296, 'missing': 4636, 'took': 7131, 'tablets': 6826, 'reaction': 5733, 'morning': 4713, 'keep': 3997, 'going': 3212, 'never': 4872, 'intention': 3777, 'run': 5996, 'choose': 1840, 'rather': 5716, 'clean': 1867, 'say': 6065, 'visitors': 7472, 'maybe': 4510, 'thats': 6971, 'choice': 1838, 'wanted': 7543, 'embarassed': 2613, 'youd': 7944, 'friend': 3035, 'wants': 7545, 'drop': 2508, 'buy': 1584, 'happened': 3379, 'ive': 3854, 'tried': 7195, 'everything': 2703, 'else': 2608, 'picking': 5343, 'various': 7415, 'points': 5428, 'yeovil': 7913, 'motor': 4724, 'project': 5586, '12': 266, '530': 553, 'max': 4503, 'easy': 2560, 'test': 6935, 'rd': 5727, 'fret': 3029, 'ovulation': 5171, 'strips': 6670, 'til': 7052, 'march': 4468, 'postal': 5467, 'addressull': 829, 'alrightokay': 947, 'loyalty': 4358, 'offerthe': 5041, 'nokia6650': 4941, '£10': 7986, 'txtauction': 7256, 'word': 7761, 'start': 6588, '81151': 658, '4tctxt': 532, 'tc': 6878, '150pmtmsg': 294, 'remember': 5827, 'alex': 922, 'pizza': 5369, 'av': 1159, 'wil': 7685, 'use': 7374, 'oneta': 5087, 'urgent': 7359, 'trying': 7216, 'todays': 7097, 'draw': 2486, 'shows': 6267, '£800': 8027, 'prize': 5560, 'guaranteed': 3310, '09050001808': 151, 'land': 4112, 'claim': 1858, 'm95': 4401, 'valid12hrs': 7407, 'babe': 1196, 'lost': 4324, 'painful': 5189, 'personal': 5300, 'thought': 7018, 'always': 953, 'try': 7214, 'everybody': 2697, 'nobody': 4927, 'recognises': 5782, 'alone': 941, 'subscribed': 6712, 'service': 6166, '£3': 8010, 'per': 5282, '10': 239, 'days': 2218, '82324': 664, 'helpline': 3457, '08706091795': 76, 'baskets': 1244, 'full': 3066, 'might': 4596, 'mum': 4769, 'many': 4462, 'messages': 4580, 'since': 6302, 'got': 3247, 'actually': 818, 'rest': 5884, 'january': 3879, 'male': 4444, 'sale': 6024, 'hot': 3572, 'gay': 3114, 'cheaper': 1780, '08709222922': 81, 'national': 4825, 'rate': 5713, '15pmin': 305, 'cheap': 1779, '78pmin': 630, 'peak': 5268, 'texts': 6950, '08712460324': 100, '10pmin': 254, 'honesty': 3544, 'road': 5937, 'bank': 1226, 'tomorrow': 7116, 'tough': 7157, 'decisions': 2258, 'people': 5280, 'womdarfull': 7745, 'actor': 816, 'congrats': 1992, '1': 238, 'special': 6497, 'cinema': 1853, 'pass': 5234, '09061209465': 173, 'c': 1600, 'suprman': 6771, 'v': 7398, 'matrix3': 4497, 'starwars3': 6593, 'etc': 2679, 'bx420ip45we': 1595, '150pm': 288, 'miss': 4632, 'movie': 4731, 'juz': 3966, 'last': 4130, 'minute': 4621, 'decision': 2257, 'mah': 4426, 'watch': 7560, 'lar': 4123, 'tot': 7151, 'interested': 3779, 'lateso': 4137, 'morningtake': 4714, 'care': 1673, 'sweet': 6799, 'dreamsu': 2494, 'meummifyingbye': 4588, 'gud': 3312, 'ni8': 4888, 'dearslp': 2246, 'welltake': 7624, 'careswt': 1682, 'dreamsmuah': 2492, 'youdoing': 7946, 'later': 4136, 'sar': 6041, 'money': 4691, '09050000460': 146, 'j89': 3862, 'po': 5411, 'box245c2150pm': 1462, 'issue': 3828, 'weigh': 7609, 'breathe': 1501, 'easier': 2555, 'regret': 5810, 'gr8': 3258, 'leaving': 4170, 'plans': 5383, 'havent': 3407, 'sir': 6311, 'group': 3294, 'mail': 4428, 'check': 1784, 'hit': 3503, 'cash': 1699, 'girl': 3173, '2004': 347, 'account': 795, 'statement': 6594, '07742676969': 26, '786': 628, 'unredeemed': 7325, 'bonus': 1426, '08719180248': 138, 'identifier': 3670, 'code': 1908, '45239': 509, 'expires': 2749, 'ki': 4015, 'didt': 2353, 'youkwhere': 7949, 'mins': 4618, 'busy': 1580, 'finish': 2892, 'looking': 4307, 'forward': 2988, 'finally': 2881, 'meeting': 4535, 'hmv': 3522, '500': 543, 'pounds': 5480, 'genuine': 3145, 'vouchers': 7490, 'answer': 994, 'questions': 5667, 'play': 5384, 'infowww100percentrealcom': 3747, 'accidentally': 788, 'left': 4173, 'silent': 6294, 'night': 4898, 'didnt': 2350, 'ya': 7888, 'tht': 7035, 'incident': 3714, 'goodno': 3237, 'problembut': 5567, 'little': 4261, 'experience': 2744, 'understand': 7299, 'american': 958, 'voice': 7481, 'used': 7375, 'agents': 879, 'booked': 1430, 'things': 6999, 'whole': 7667, 'boston': 1445, 'nyc': 5013, 'experiment': 2745, 'online': 5091, 'transaction': 7173, 'came': 1646, 'hostel': 3570, 'sleep': 6347, 'plz': 5409, 'hrishi': 3595, 'fuuuuck': 3081, 'sleepin': 6348, 'sup': 6756, 'dude': 2526, 'makin': 4440, 'weirdy': 7617, 'brownies': 1532, 'made': 4418, 'cookies': 2031, 'secret': 6111, 'admirer': 834, 'ufind': 7274, 'rreveal': 5978, 'thinks': 7004, 'specialcall': 6498, '09058094599': 168, 'oh': 5057, 'sfrom': 6185, 'training': 7170, 'manual': 4461, 'show': 6260, 'tech': 6896, 'processits': 5575, 'password': 5241, 'reset': 5870, 'troubleshooting': 7202, 'well': 7621, 'computerless': 1974, 'oreo': 5129, 'truffles': 7208, 'watching': 7563, 'tv': 7242, 'job': 3918, 'hoping': 3560, 'game': 3097, 'yesterday': 7930, 'touch': 7155, 'pls': 5401, 'fondly': 2951, 'bein': 1309, 'thot': 7015, 'abiola': 767, 'nite': 4913, 'pocay': 5421, 'wocay': 7741, 'n': 4796, 'e': 2544, '4eva': 520, 'promise': 5590, 'ring': 5922, '2morrowxxxx': 407, 'yup': 7968, 'thanx': 6963, 'ku': 4080, 'also': 950, 'msg': 4744, 'reply': 5853, 'whenwhere': 7654, 'pick': 5341, 'heart': 3427, 'empty': 2621, 'without': 7719, 'mind': 4609, 'wisdom': 7707, 'eyes': 2766, 'dreams': 2491, 'alwys': 954, 'good': 3225, 'itmail': 3842, 'panren': 5198, 'paru': 5232, 'wife': 7679, 'shell': 6213, 'relax': 5818, 'wkend': 7726, 'much': 4761, 'fun': 3069, 'truly': 7209, 'forget': 2972, 'gbpsms': 3123, 'may': 4508, 'b': 1189, 'approve': 1046, 'panalambut': 5193, 'posts': 5474, 'paid': 5187, 'commercial': 1947, 'hasbroin': 3395, 'august': 1150, 'jump': 3957, 'hoops': 3554, 'shut': 6276, 'omg': 5081, 'dream': 2489, 'kids': 4023, 'boys': 1479, 'pissed': 5365, 'even': 2690, 'told': 7105, 'mark': 4471, 'changing': 1755, 'diapers': 2345, 'cause': 1716, 'owed': 5174, 'face': 2772, 'ey': 2764, 'calm': 1643, 'downon': 2477, 'theacusations': 6973, 'itxt': 3850, 'iwana': 3855, 'wotu': 7791, 'doin': 2439, 'thewend': 6993, 'haventcn': 3408, 'agesring': 881, 'up4': 7334, 'nething': 4866, 'satlove': 6052, 'j': 3861, 'theyre': 6994, 'dramatic': 2484, 'schools': 6079, 'closed': 1881, 'apparently': 1032, 'inch': 3712, 'snow': 6408, 'supposed': 6769, 'woke': 7742, 'blur': 1413, 'went': 7630, 'liao': 4198, 'oso': 5140, 'helloooo': 3448, 'wake': 7522, 'welcomes': 7620, 'joy': 3942, 'mrng': 4740, 'k': 3967, 'jason': 3883, 'says': 6068, 'hes': 3473, 'gon': 3219, 'na': 4798, 'mallika': 4446, 'sherawat': 6215, 'lturlgt': 4370, 'wa': 7505, 'openin': 5103, 'sentence': 6156, 'formal': 2978, 'fine': 2886, 'tt': 7224, 'eatin': 2563, 'puttin': 5647, 'weighthaha': 7612, 'anythin': 1011, 'alright': 946, 'tylers': 7265, 'minor': 4617, 'crisis': 2112, 'sooner': 6455, 'asap': 1098, 'min': 4606, 'erm': 2659, '…': 8037, '645pm': 588, 'thatll': 6969, 'enough': 2641, 'park': 5221, 'treat': 7187, 'pendingi': 5277, 'dayswill': 2221, 'thrurespect': 7033, 'mother': 4718, 'homecheck': 3538, 'mails': 4432, 'alrite': 948, 'hunnywot': 3631, '2nite': 413, 'end': 2623, 'goin': 3211, 'jus': 3963, 'pub': 5622, 'instead': 3772, 'chillin': 1827, 'mo': 4662, 'bedroomlove': 1292, 'jen': 3897, 'aiyo': 908, 'meh': 4540, 'princess': 5551, 'times': 7058, 'problem': 5565, 'ew': 2716, 'friendship': 3039, 'poem': 5425, 'near': 4839, 'hear': 3423, 'fear': 2828, 'cheer': 1791, 'tear': 6892, 'added': 824, 'list': 4251, 'wwwfullonsmscom': 7836, 'sms': 6394, 'fullonsmscom': 3067, 'ignoring': 3679, 'datingi': 2207, 'two': 7252, 'started': 6589, 'sport': 6543, 'radio': 5686, 'connection': 1996, 'coincidence': 1913, 'hook': 3553, 'means': 4519, 'right': 5918, 'anything': 1012, 'valuable': 7408, 'situations': 6323, 'first': 2902, 'second': 6108, 'loosing': 4313, 'sicomo': 6283, 'nolistened2the': 4944, 'plaid': 5376, 'albumquite': 916, 'gdthe': 3128, 'air1': 902, 'hilariousalso': 3492, 'bought\\x94braindance\\x94a': 1451, 'compofstuff': 1969, 'aphex\\x92s': 1024, 'abelu': 763, 'hav2hear': 3405, 'itc': 3833, 'xxxx': 7883, 'wana': 7539, 'praps': 5504, 'meant': 4520, 'goodo': 3239, 'stay': 6598, 'done': 2449, 'england': 2634, 'official': 5048, 'poly': 5432, 'colour': 1928, 'flag': 2913, 'yer': 7915, '84199': 681, 'optout': 5119, 'eng': 2631, 'box39822': 1467, 'w111wx': 7498, 'honeybee': 3546, 'said': 6018, 'sweetest': 6800, 'world': 7773, 'god': 3203, 'laughed': 4142, 'waitu': 7521, 'havnt': 3411, 'met': 4587, 'person': 5299, 'reading': 5736, 'moral': 4709, 'crack': 2086, 'jokes': 3930, 'gmgngegn': 3191, 'study': 6688, 'tap': 6859, 'spile': 6519, 'seven': 6174, 'gas': 3108, 'broad': 1521, 'canal': 1651, 'wan2': 7538, 'meetgreet': 4533, 'westlife': 7640, 'm8': 4399, 'currently': 2146, 'tour': 7158, '1unbreakable': 337, '2untamed': 421, '3unkempt': 475, '83049': 667, 'cost': 2050, '50p': 545, 'std': 6603, 'drunk': 2515, 'motherfucker': 4719, 'textbuddy': 6943, 'horny': 3562, 'guys': 3331, '25p': 374, 'receive': 5768, 'search': 6103, 'postcode': 5469, 'gaytextbuddycom': 3118, 'name': 4807, '89693': 721, '08715500022': 115, 'rpl': 5975, 'cnl': 1897, 'hiya': 3508, 'weekend': 7604, 'usual': 7387, 'ard': 1061, 'smth': 6398, 'doc': 2422, 'gave': 3113, 'pain': 5188, 'meds': 4530, 'mahal': 4427, 'bus': 1574, 'ltdecimalgt': 4365, 'cooking': 2032, 'oops': 5099, 'tomo': 7113, 'eight': 2594, 'station': 6595, 'would': 7794, 'dhoni': 2338, 'luck': 4372, 'titleso': 7075, 'waking': 7523, 'afternoon': 868, 'church': 1850, 'holla': 3533, 'let': 4192, 'salad': 6021, 'desert': 2311, 'something': 6433, 'beers': 1297, 'news': 4881, 'freefone': 3013, '08006344447': 52, '£1000': 7988, '£2000': 8007, 'speak': 6495, 'operator': 5107, '8hr': 726, 'trip': 7196, 'audition': 1146, 'next': 4885, 'wednesday': 7598, 'kkhow': 4046, 'whats': 7647, 'sleeping': 6349, 'printed': 5553, 'upstairs': 7353, 'wasnt': 7555, 'phoned': 5330, 'someone': 6427, 'voda': 7478, 'numbers': 5002, 'ending': 2625, '1225': 270, 'selected': 6134, '£50award': 8021, 'match': 4490, '08712300220': 88, 'quoting': 5680, '3100': 439, 'standard': 6579, 'rates': 5714, 'app': 1031, 'today': 7093, 'accept': 783, 'dayu': 2224, 'brother': 1528, 'lover': 4344, 'dear1': 2238, 'best1': 1327, 'clos1': 1879, 'lvblefrnd': 4388, 'jstfrnd': 3948, 'cutefrnd': 2157, 'lifpartnr': 4215, 'belovd': 1317, 'swtheart': 6812, 'bstfrnd': 1541, 'rply': 5976, 'enemy': 2629, 'bloo': 1398, 'bowl': 1456, 'urgnt': 7363, 'least': 4165, 'wating': 7568, 'difficult': 2362, 'girls': 3177, 'companion': 1953, 'chef': 1797, 'listener': 4254, 'organizer': 5131, 'boyfriend': 1478, 'sympathetic': 6815, 'athletic': 1127, 'warm': 7548, 'courageous': 2070, 'determined': 2325, 'true': 7206, 'dependable': 2302, 'intelligent': 3775, 'psychologist': 5619, 'pest': 5307, 'exterminator': 2760, 'psychiatrist': 5617, 'healer': 3421, 'stylist': 6702, 'aaniye': 756, 'pudunga': 5627, 'venaam': 7427, 'request': 5858, 'maangalyam': 4403, 'alaipayuthe': 914, 'set': 6169, 'callertune': 1630, 'callers': 1629, 'press': 5533, '9': 734, 'copy': 2039, 'friends': 3037, 'knowthis': 4066, 'tirunelvai': 7068, 'lick': 4204, 'pussy': 5644, 'inside': 3766, 'officestill': 5044, 'filling': 2872, 'formsdon': 2984, 'textin': 6946, 'bout': 1453, 'worries': 7781, 'photo': 5333, 'shoot': 6243, 'spiffing': 6518, 'workage': 7767, 'xclusiveclubsaisai': 7872, '2morow': 404, '285': 381, 'soiree': 6418, 'speciale': 6499, 'zouk': 7980, 'nichols': 4892, 'parisfree': 5219, 'roses': 5964, 'ladies': 4101, 'info': 3741, '0794674629107880867867': 37, 'entry': 2651, 'textpod': 6949, 'chance': 1751, '40gb': 488, 'ipod': 3808, '£250': 8008, 'pod': 5424, '84128': 679, 'tscs': 7218, 'wwwtextpodnet': 7859, 'custcare': 2149, '08712405020': 98, 'meanwhile': 4521, 'shit': 6232, 'suite': 6739, 'xavier': 7870, 'decided': 2254, 'seconds': 6110, 'warning': 7552, 'samantha': 6033, 'playing': 5390, 'jays': 3888, 'guitar': 3325, 'impress': 3706, 'doug': 2473, 'realizes': 5747, 'anymore': 1006, '£100': 7987, 'music': 4785, 'starting': 6591, '87066': 696, 'wwwldewcom': 7840, 'skillgame1winaweek': 6335, 'age16150ppermesssubscription': 875, 'expert': 2746, 'safe': 6016, 'selfish': 6138, 'pa': 5180, 'thank': 6957, 'yet': 7931, 'elsewhere': 2609, 'eat': 2561, 'spook': 6540, 'mob': 4664, 'halloween': 3360, 'collection': 1924, 'logo': 4288, 'pic': 5340, 'plus': 5407, 'eerie': 2579, 'card': 1669, '8007': 645, 'zed': 7974, '08701417012150p': 68, 'logopic': 4290, 'born': 1441, 'idiot': 3671, 'competition': 1957, 'knew': 4057, 'become': 1284, 'freinds': 3023, 'forever': 2969, 'belive': 1311, 'godnot': 3205, 'jesus': 3906, 'geeeee': 3132, 'barely': 1231, 'stand': 6578, 'weekly': 7606, '80086': 647, '18': 311, 'wwwtxttowincouk': 7862, 'slide': 6358, 'diet': 2356, 'everyday': 2699, 'cheat': 1781, 'fatty': 2818, 'voicemail': 7482, '08719181513': 140, 'checked': 1786, 'hows': 3587, 'paper': 5204, 'note': 4964, 'shes': 6216, 'exposed': 2755, 'anyone': 1007, 'vomiting': 7486, 'dog': 2431, 'cat': 1710, 'house': 3579, 'iouri': 3802, 'story': 6652, 'ten': 6919, 'credits': 2104, 'topped': 7142, 'httpwwwbubbletextcom': 3604, 'renewal': 5839, 'pin': 5360, 'tgxxrz': 6952, 'dorothykiefercom': 2463, 'granite': 3268, 'issues': 3829, 'strongbuy': 6673, 'explosive': 2754, 'members': 4550, '300': 431, 'nasdaq': 4819, 'symbol': 6814, 'cdgt': 1725, 'callon': 1635, 'friday': 3031, 'assume': 1119, 'knowwait': 4067, 'ahhhhjust': 891, 'woken': 7743, 'uphad': 7343, 'thoso': 7014, 'comedy': 1934, 'guess': 3317, 'din': 2370, 'stripes': 6669, 'skirt': 6340, 'studying': 6689, 'lazy': 4153, 'mode': 4675, 'taka': 6837, 'football': 2960, 'basketball': 1243, 'outdoors': 5151, 'announcement': 987, 'recently': 5773, 'delivery': 2287, 'unable': 7290, '07090298926': 21, 'reschedule': 5863, 'ref9307622': 5793, 'uve': 7395, 'invited': 3797, 'xchat': 7871, 'final': 2879, 'attempt': 1135, '150pmsgrcvdhgsuite3422landsroww1j6hl': 292, 'ldn': 4155, 'yrs': 7961, 'worry': 7782, 'truth': 7213, 'coz': 2078, 'lead': 4158, 'it\\x92s': 3853, 'unique': 7312, 'deserve': 2312, 'tight': 7047, 'escape': 2670, 'theatre': 6975, 'kavalan': 3990, 'minutes': 4622, 'explicit': 2752, 'sex': 6176, '30': 430, 'secs': 6115, '02073162414': 11, 'costs': 2053, '20pmin': 355, 'gsex': 3304, 'pobox': 5413, '2667': 376, 'wc1n': 7576, '3xx': 479, 'valentines': 7405, 'partner': 5229, 'lifetime': 4213, '83600': 674, 'rcvd': 5726, 'custcare08718720201': 2150, 'noi': 4933, 'rumour': 5995, 'apartment': 1021, 'chennai': 1798, 'billy': 1355, 'mates': 4493, 'jogging': 3921, 'concert': 1978, 'sunny': 6752, 'california': 1613, 'weathers': 7587, 'abeg': 762, 'profit': 5583, 'using': 7383, 'sponsors': 6538, 'event': 2693, 'fyi': 3083, 'taking': 6844, 'quick': 5669, 'shower': 6262, 'epsilon': 2655, 'lotr': 4326, 'w': 7497, 'sis': 6315, 'dis': 2385, 'chosen': 1845, '£350': 8013, 'award': 1177, '09066364311': 214, 'collect': 1921, 'valued': 7410, 'continued': 2017, 'support': 6764, 'question': 5665, 'enter': 2642, 'in2': 3710, 'president': 5530, 'ans': 992, '80082': 646, 'doctor': 2426, 'india': 3729, 'drink': 2498, 'appy': 1051, 'fizz': 2912, 'contains': 2011, 'causing': 1717, 'age': 873, 'saw': 6064, 'parked': 5223, 'car': 1668, 'sunroof': 6753, 'popped': 5450, 'sux': 6784, 'bath': 1248, 'goodfine': 3229, 'monthly': 4702, 'amount': 966, 'terrible': 6929, 'pay': 5256, 'till': 7053, '6months': 608, 'finishing': 2895, 'vikky': 7453, 'olave': 5075, 'mandara': 4455, 'kano': 3982, 'trishul': 7199, 'wit': 7716, 'listed': 4252, 'thasa': 6966, 'messed': 4584, 'upyeh': 7355, 'shudvetold': 6273, 'urgran': 7365, 'knowneway': 4064, 'illspeak': 3687, 'u2moro': 7271, 'wen': 7627, 'asleep': 1113, 'lay': 4151, 'bimbo': 1357, 'ugos': 7276, 'appreciate': 1044, 'hello': 3446, 'boytoy': 1480, 'geeee': 3131, 'tm': 7080, 'remind': 5832, 'thinking': 7003, 'loved': 4340, 'kiss': 4039, 'photos': 5334, 'useful': 7376, 'wud': 7821, 'hurt': 3636, 'ryan': 6004, 'konw': 4071, 'waht': 7515, 'rael': 5688, 'gving': 3333, 'yuo': 7966, 'exmpel': 2736, 'jsut': 3949, 'ese': 2671, 'tihs': 7050, 'evrey': 2713, 'splleing': 6532, 'wrnog': 7810, 'bt': 1542, 'sitll': 6320, 'raed': 5687, 'wihtuot': 7684, 'ayn': 1187, 'mitsake': 4647, 'goodnight': 3235, 'sleepsweet': 6353, '09050001295': 150, 'a21': 753, 'valid': 7406, '12hrs': 274, 'lovely': 4342, 'wisheds': 7710, 'rock': 5943, 'early': 2550, 'hundreds': 3623, 'handsomes': 3370, 'beauties': 1278, 'aunties': 1152, 'uncles': 7293, 'remains': 5826, 'bro': 1520, 'amongst': 964, 'bros': 1525, 'wot': 7790, 'thout': 7022, 'bak': 1216, 'post': 5466, 'l8r': 4089, 'vodafone': 7479, '4882': 514, 'matches': 4491, '09064019014': 199, 'filthy': 2877, 'stories': 6650, 'however': 3585, 'suggest': 6736, 'stays': 6602, 'able': 769, 'ors': 5136, 'stool': 6638, 'greatest': 3281, 'courage': 2069, 'earth': 2553, 'bear': 1275, 'defeat': 2269, 'losing': 4322, 'heartgn': 3429, 'white': 7665, 'fudge': 3064, 'oreos': 5130, 'stores': 6649, 'asked': 1109, '3mobile': 467, '0870': 64, 'chatlines': 1776, 'inclu': 3715, 'cust': 2148, 'servs': 6168, 'sed': 6120, 'l8er': 4088, 'mega': 4539, 'bill': 1351, 'giv': 3179, 'bailiff': 1215, 'due': 2529, 'sec': 6107, 'works': 7772, 'gets': 3155, '5': 541, 'afterwards': 869, 'mate': 4492, 'spoke': 6536, 'mag': 4421, '‘': 8034, 'deliver': 2284, 'month': 4701, '24th': 369, 'sept': 6160, 'derek': 2307, 'discount': 2394, 'rp176781': 5974, 'wwwregalportfoliocouk': 7846, '08717205546': 118, 'finished': 2893, 'formatting': 2981, 'surly': 6777, 'review': 5906, 'tyler': 7264, '8th': 732, 'hour': 3576, 'nokia': 4939, '3510i': 448, 'deliveredtomorrow': 2286, '100': 240, 'camcorder': 1645, '08000930705': 45, 'pretty': 5539, 'refused': 5802, 'loan': 4275, 'secured': 6119, 'unsecured': 7326, 'credit': 2102, '0800': 41, '195': 319, '6669': 589, 'immediately': 3697, 'lesson': 4190, 'santha': 6038, 'num': 4999, 'corrct': 2042, 'dane': 2185, 'clarification': 1860, 'years': 7907, 'heading': 3416, 'towards': 7159, 'prediction': 5512, 'lem': 4181, 'swing': 6807, 'basically': 1242, 'semester': 6143, 'oktake': 5071, 'careumma': 1683, 'id': 3663, 'deepest': 2266, 'darkest': 2193, 'fantasies': 2802, '09094646631': 227, '60pmin': 581, 'nat': 4822, 'lmao': 4270, 'wheres': 7657, 'fish': 2903, 'memory': 4555, 'yahoo': 7891, 'perf': 5284, 'legal': 4174, 'comin': 1941, 'bristol': 1517, 'april': 1052, 'les': 4187, 'rudi': 5987, 'eve': 2687, 'snoringthey': 6407, 'college': 1926, 'sends': 6149, 'ink': 3752, 'wamma': 7536, 'laidwant': 4107, 'real': 5739, 'doggin': 2434, 'locations': 4279, 'direct': 2379, 'join': 3924, 'uks': 7282, 'largest': 4127, 'dogging': 2435, 'network': 4868, 'dogs': 2437, '69696': 594, 'nownyt': 4985, 'ec2a': 2566, '3lp': 464, '£150msg': 7998, 'dolls': 2445, 'patrick': 5250, 'swayze': 6796, 'baby': 1199, 'stretch': 6663, 'open': 5100, 'kkim': 4047, 'tirunelvali': 7069, 'spend': 6512, 'dress': 2496, 'moneyi': 4692, 'feb': 2831, 'porn': 5452, '69855': 596, '24hrs': 367, 'stopbcm': 6642, 'sf': 6182, 'wc1n3xx': 7577, 'jay': 3885, 'snickering': 6405, 'tells': 6910, 'fucking': 3062, 'chords': 1843, 'stupidits': 6697, 'possible': 5465, 'thru': 7032, 'different': 2361, 'feelingwavering': 2838, 'coping': 2037, 'individualtime': 3734, 'heal': 3420, 'believe': 1310, 'youve': 7955, 'brainy': 1485, 'recharge': 5776, 'tau': 6868, 'piah': 5339, 'hold': 3528, 'probably': 5564, 'earlier': 2548, 'stations': 6596, 'hypertension': 3646, 'truekdo': 7207, 'knw': 4069, 'langport': 4118, 'bed': 1287, '9pm': 749, 'sucks': 6726, 'xmas': 7874, 'go2sri': 3198, 'lanka': 4120, 'caller': 1628, '10803': 249, '2nd': 412, '08714719523': 109, 'box95qu': 1473, 'thangamits': 6956, 'mistake': 4642, 'wow': 7798, 'common': 1949, 'unless': 7318, 'chop': 1842, 'ones': 5086, 'model': 4676, 'doesnt': 2429, 'youi': 7948, 'hell': 3444, 'blowing': 1406, 'wet': 7642, 'gender': 3136, 'begin': 1303, 'eg': 2584, '24m': 368, 'aah': 755, 'lush': 4382, 'tea': 6885, 'soup': 6479, 'kind': 4031, 'fumbling': 3068, 'romcapspam': 5955, 'responding': 5879, 'presence': 5527, 'outgoing': 5154, 'bringing': 1514, 'breath': 1500, 'yeshere': 7925, 'available': 1161, 'bread': 1492, 'milk': 4600, 'others': 5142, 'jap': 3881, 'lect': 4171, 'daily': 2176, '–': 8033, 'favour': 2825, 'joking': 3933, 'oni': 5088, 'fri': 3030, 'okie': 5067, 'lorgoin': 4317, 'drivin': 2504, 'den': 2292, 'shoppin': 6245, 'bw': 1592, 'chachi': 1743, 'reach': 5729, 'pl': 5370, 'cal': 1608, 'tiz': 7077, 'kanagu': 3979, 'responsibilities': 5881, 'successful': 6722, 'current': 2145, 'loads': 4274, 'ready': 5737, 'ho': 3524, 'belly': 1315, 'laugh': 4141, 'dun': 2533, 'aint': 900, 'answerin': 996, 'reasonable': 5754, 'sleepy': 6355, 'ate': 1126, 'applebees': 1036, 'sending': 6148, 'greetings': 3285, 'happiness': 3385, 'evening': 2691, 'ends': 2627, 'dunno': 2535, 'lei': 4179, 'awww': 1183, 'dat': 2201, 'lonely': 4299, 'important': 3702, 'information': 3743, 'user': 7378, '0796xxxxxx': 38, 'lucky': 4375, 'day2': 2216, 'log': 4284, 'onto': 5094, 'httpwwwurawinnercom': 3607, 'theres': 6990, 'fantastic': 2803, 'prizeawaiting': 5561, 'campus': 1649, 'atm': 1132, '09065171142stopsms08': 203, 'medical': 4527, '7pm': 636, 'height': 3441, 'confidence': 1985, 'aeronautics': 854, 'professors': 5580, 'wer': 7632, 'calld': 1626, 'askd': 1108, 'sit': 6318, 'aeroplane': 855, 'aftr': 870, 'sat': 6048, 'plane': 5378, 'ws': 7815, 'students': 6684, 'dey': 2334, 'hurried': 3634, 'move': 4728, 'saidif': 6019, 'studentsthis': 6685, 'datz': 2210, 'longer': 4301, 'syria': 6817, 'canada': 1650, 'eh': 2593, 'must': 4787, 'extra': 2761, 'grins': 3287, 'desperate': 2318, 'armand': 1077, 'wrong': 7811, 'cud': 2132, '730pm': 621, 'attending': 1137, 'talks': 6851, 'waaaat': 7507, 'lololo': 4295, 'ithis': 3837, 'created': 2099, 'web': 7588, 'page': 5184, 'wwwasjesuscom': 7830, 'read': 5734, 'wrote': 7814, 'opinions': 5109, '11': 257, 'lunch': 4380, 'rdy': 5728, 'ship': 6227, 'comp': 1951, 'nvm': 5010, 'wear': 7582, 'shoes': 6241, 'leh': 4177, 'wylie': 7863, 'tampa': 6856, 'sarasota': 6042, 'bought': 1450, 'lets': 4193, 'exact': 2718, 'ovulatewhen': 5170, '2u': 420, '3wks': 478, 'worried': 7779, 'past': 5243, 'history': 3502, 'mu': 4760, 'bored': 1438, 'speed': 6506, 'dating': 2206, 'speedchat': 6507, '80155': 649, 'em': 2611, 'swap': 6791, 'chatter': 1777, 'chat80155': 1774, 'pobox36504w45wq': 5417, 'rcd': 5723, '16': 306, 'merry': 4570, 'christmas': 1848, 'kisses': 4040, 'double': 2467, 'txts': 7262, 'bluetooth': 1410, 'motorola': 4725, 'mobileupd8': 4670, '08000839402': 44, 'call2optoutn9dx': 1622, 'directly': 2380, 'behind': 1308, 'rows': 5970, 'waqt': 7547, 'se': 6101, 'pehle': 5272, 'naseeb': 4820, 'zyada': 7981, 'kisi': 4038, 'ko': 4070, 'kuch': 4081, 'nahi': 4804, 'miltazindgi': 4605, 'wo': 7739, 'jo': 3916, 'hum': 3620, 'sochte': 6412, 'hai': 3349, 'zindgi': 7977, 'ham': 3361, 'jeetey': 3895, 'board': 1416, 'overheating': 5167, 'reslove': 5873, 'software': 6416, 'inst': 3768, 'pending': 5276, '8o': 730, 'clock': 1877, 'specialisation': 6500, 'slave': 6346, 'labor': 4096, 'sha': 6187, 'shakara': 6193, 'beggar': 1301, 'sch': 6076, 'rem': 5824, 'correctly': 2046, 'grinder': 3286, 'nope': 4953, 'market': 4472, 'cocksuckers': 1906, 'makes': 4438, 'better': 1333, 'ipads': 3806, 'worthless': 7789, 'garbage': 3104, 'novelty': 4978, 'items': 3835, 'wanting': 7544, 'running': 5997, 'managed': 4450, 'needed': 4848, 'oxygen': 5176, 'resort': 5875, 'roller': 5953, 'option': 5118, 'floppy': 2934, 'snappy': 6401, 'upload': 7344, '08718730666': 135, '08712402578': 93, 'detailed': 2321, 'rooms': 5962, 'visa': 7468, 'buying': 1587, 'gucci': 3311, 'bags': 1213, 'john': 3922, 'bills': 1354, 'difficulties': 2363, 'mine': 4612, 'main': 4433, 'sources': 6481, 'unhappiness': 7306, 'comes': 1937, 'words': 7764, 'silence': 6293, 'include': 3716, 'slept': 6356, 'driving': 2505, 'teasing': 6895, 'yo': 7936, 'stock': 6630, 'tomorrowtoday': 7118, 'dubsack': 2523, 'happen': 3377, 'behave': 1307, 'fighting': 2863, 'either': 2598, 'lose': 4319, 'fightng': 2864, 'some1': 6425, 'close': 1880, 'dificult': 2364, 'hmmbad': 3514, 'newshype': 4884, 'plaza': 5392, '700': 615, 'studio': 6687, 'takenonly': 6841, 'bedrm900': 1290, 'gym': 3335, 'sell': 6139, 'fast': 2810, 'yesim': 7926, 'office': 5042, 'mesages': 4571, 'performance': 5287, 'calculated': 1609, 'monthnot': 4704, 'period': 5291, 'guy': 3330, 'bitching': 1370, 'acted': 808, 'looked': 4305, 'addie': 826, 'goes': 3209, 'monday': 4689, 'ever': 2695, 'figure': 2866, 'bedroom': 1291, 'sexy': 6179, 'mood': 4706, 'minuts': 4623, 'latr': 4140, 'wid': 7676, 'caken': 1607, 'funk': 3075, 'fone': 2952, 'tones2u': 7121, 'wwwringtonescouk': 7847, 'original': 5134, 'tones': 7120, '3gbp': 461, 'prospects': 5607, 'bleak': 1385, 'hmmm': 3515, 'filled': 2871, 'robinson': 5942, 'pleased': 5394, 'advise': 851, 'following': 2949, 'recent': 5772, '£1500': 7996, '09066364589': 216, 'whenever': 7651, 'party': 5231, 'si': 6278, 'shadow': 6188, 'spring': 6551, 'yay': 7901, 'attracts': 1141, 'brothas': 1527, 'dependents': 2303, 'dearshall': 2245, 'tonitebusy': 7128, 'streetshall': 6660, 'tonitethings': 7129, 'okvarunnathu': 5073, 'edukkukayee': 2576, 'raksha': 5700, 'ollubut': 5077, 'sense': 6151, 'informed': 3744, 'handsome': 3369, 'finding': 2885, 'net': 4863, 'mummy': 4772, 'ta': 6822, 'sd': 6099, 'la': 4091, 'butt': 1581, 'sore': 6460, 'write': 7805, 'pookie': 5442, 'pie': 5350, 'ammaelife': 961, 'takes': 6842, 'lot': 4325, 'turns': 7240, 'steering': 6610, 'wishing': 7713, 'moji': 4680, 'offer': 5037, 'speechless': 6505, 'easily': 2556, 'lengths': 4183, 'behalf': 1306, 'stunning': 6695, 'befor': 1298, 'activities': 815, 'letter': 4194, 'theory': 6984, 'argument': 1071, 'wins': 7702, 'situation': 6322, 'loses': 4321, 'argue': 1069, 'kick': 4017, 'correct': 2043, 'tmrw': 7085, '1000': 241, '2000': 345, 'call09050000327': 1615, 'rstm': 5982, 'sw7': 6787, '3ss': 473, '150ppm': 297, 'hostbased': 3569, 'idps': 3673, 'linux': 4243, 'systems': 6820, 'truro': 7210, 'hospital': 3567, 'ext': 2759, 'side': 6284, 'received': 5770, 'understood': 7301, 'upon': 7348, 'activate': 813, 'replying': 5854, 'terms': 6927, 'conditions': 1981, 'www07781482378com': 7826, 'thankyou': 6962, '28th': 383, '06': 17, 'removal': 5836, '87239': 701, '08708034412': 80, 'youre': 7953, 'together': 7101, 'ideas': 3668, 'invention': 3792, 'flyim': 2941, 'cleared': 1870, 'round': 5966, 'birla': 1362, 'soft': 6415, 'girlie': 3176, 'joys': 3943, 'father': 2815, 'ths': 7034, 'hav': 3404, 'iq': 3809, 'tis': 7071, 'ias': 3649, 'juan': 3950, 'course': 2071, 'expect': 2740, 'presents': 5529, 'nicky': 4894, 'loosu': 4314, 'de': 2227, 'careless': 1680, 'meets': 4538, 'smile': 6383, 'pleasure': 5396, 'trouble': 7201, 'pours': 5482, 'rain': 5691, 'sum1': 6743, 'becoz': 1285, 'loves': 4348, 'smiling': 6386, 'whos': 7669, 'general': 3137, 'oz': 5178, 'ifwhenhow': 3675, 'nauseous': 4832, 'sweets': 6803, 'pig': 5354, 'dieting': 2357, '08707509020': 78, '20p': 354, 'ntt': 4996, 'ltd': 4364, 'box': 1458, '1327': 278, 'croydon': 2118, 'cr9': 2084, '5wb': 572, '0870k': 83, 'scream': 6093, 'weighed': 7610, 'weight': 7611, 'woohoo': 7757, 'ou': 5146, 'mp3': 4736, '£500': 8019, '83355': 673, 'ibhltd': 3651, 'ldnw15h': 4156, '150pmtmsgrcvd18': 295, 'intro': 3789, 'pilates': 5355, 'kickboxing': 4018, 'changed': 1753, '25': 370, 'club4mobilescom': 1891, 'club': 1889, '87070': 697, '150pwk': 301, 'club4': 1890, 'box1146': 1459, 'mk45': 4653, '2wt': 425, 'dialogue': 2343, 'cute': 2156, 'reltnship': 5823, 'die': 2354, 'body': 1420, 'bcoz': 1268, 'hands': 3367, 'wipe': 7704, 'tears': 6893, 'timegud': 7056, '1000s': 243, 'wiv': 7723, 'caroline': 1691, 'favourite': 2826, 'bless': 1386, 'boy': 1475, 'ass': 1114, 'anyplaces': 1009, 'mapquest': 4464, 'usf': 7380, 'dogwood': 2438, 'tiny': 7063, 'parking': 5225, 'cartoon': 1697, 'listening': 4255, 'temple': 6918, 'whatever': 7646, 'download': 2474, 'clear': 1869, 'movies': 4732, 'copies': 2036, 'felt': 2844, 'sonot': 6449, 'conveying': 2025, '86888': 694, 'reward': 5908, 'subscribe6gbpmnth': 6711, 'inc': 3711, '3hrs': 462, 'stoptxtstop': 6647, 'wwwgambtv': 7837, 'nutter': 5008, 'cutter': 2159, 'ctter': 2130, 'cttergg': 2131, 'cttargg': 2129, 'ctargg': 2128, 'ctagg': 2127, 'ie': 3674, 'poop': 5444, 'looks': 4308, 'prob': 5563, 'laptop': 4122, 'fixed': 2909, 'cuz': 2161, 'gpu': 3257, 'cutest': 2158, 'agree': 885, 'thinkin': 7002, 'ipad': 3804, 'macho': 4409, 'moves': 4730, '6hrs': 605, 'business': 1578, 'alfie': 924, 'moons': 4708, 'children': 1823, 'song': 6447, 'm8s': 4400, 'charity': 1765, 'nokias': 4942, 'polys': 5437, '08701417012': 67, 'wipro': 7705, 'interview': 3784, 'ned': 4845, 'toa': 7088, 'payoh': 5263, 'return': 5899, 'hicts': 3485, 'employee': 2619, 'oic': 5059, 'found': 2992, 'carlos': 1688, 'hang': 3371, 'parents': 5216, 'kidz': 4024, 'colleagues': 1920, 'screaming': 6095, 'surprise': 6779, 'sofa': 6414, 'naked': 4806, '09066612661': 220, 'landline': 4113, 'complementary': 1961, 'tenerife': 6922, 'holiday': 3531, '£10000': 7989, 'await': 1174, 'sae': 6014, 'wa14': 7506, '2px': 416, 'sender': 6146, 'hol': 3527, 'aiyar': 907, 'hard': 3387, 'type': 7266, 'scold': 6081, 'asking': 1111, 'habit': 3342, 'nan': 4814, 'bari': 1232, 'hudgi': 3612, 'yorge': 7941, 'pataistha': 5244, 'ertini': 2664, 'confirmed': 1990, 'staying': 6601, 'garage': 3103, 'centre': 1737, 'part': 5226, 'exhaust': 2732, 'replacing': 5850, 'ordered': 5127, 'mentor': 4562, 'percent': 5283, 'action': 811, '80608': 654, 'wwwmovietriviatv': 7843, '08712405022': 99, '1x150pwk': 340, 'wnt': 7738, 'bmw': 1415, 'urgentlyits': 7361, 'vry': 7493, 'urgentbut': 7360, 'hv': 3641, 'shortage': 6250, 'lacsthere': 4099, 'source': 6480, 'arng': 1081, 'amt': 971, 'lacsthats': 4098, '07808726822': 33, '020903': 13, '08718729758': 133, 'nowcan': 4983, 'missin': 4635, 'guilty': 3324, 'squatting': 6559, 'walking': 7528, 'arent': 1064, 'imma': 3695, 'flip': 2927, 'peace': 5265, 'miracle': 4624, 'blessed': 1387, 'ahead': 889, 'sliding': 6359, 'midnight': 4594, 'invite': 3796, 'mums': 4774, 'somerset': 6431, 'far': 2805, 'fills': 2873, 'complete': 1962, 'reassurance': 5756, 'knackered': 4055, 'lark': 4128, 'huh': 3617, 'parkin': 5224, 'kent': 4004, 'vale': 7403, 'seriously': 6164, 'mayb': 4509, 'forgot': 2976, 'hotel': 3573, 'excellent': 2722, 'misundrstud': 4645, 'hate': 3399, 'ull': 7283, 'gn': 3194, 'throws': 7031, 'gal': 3091, 'falls': 2792, 'brothers': 1529, 'head': 3413, 'gayd': 3115, 'ac': 778, 'sptv': 6555, 'jersey': 3904, 'devils': 2332, 'detroit': 2326, 'red': 5789, 'wings': 7698, 'ice': 3659, 'hockey': 3525, 'incorrect': 3723, 'inclusive': 3719, 'goto': 3249, 'wwwcomuknet': 7834, 'login': 4287, '3qxj9': 470, 'charge': 1761, '08702840625comuk': 74, '220cm2': 363, '9ae': 744, 'germany': 3150, 'pence': 5274, 'via': 7436, 'access': 784, '0844': 57, '861': 690, '85': 683, 'prepayment': 5522, 'wwwtelediscountcouk': 7857, 'film': 2874, 'lift': 4216, 'outside': 5159, 'deus': 2327, 'ex': 2717, 'yr': 7960, 'discuss': 2396, 'xuhui': 7877, 'tired': 7066, 'arguing': 1070, 'woodland': 7755, 'avenue': 1169, 'somewhere': 6440, 'parish': 5220, 'magazine': 4423, 'telephone': 6905, 'nelson': 4859, 'bbs': 1261, 'expecting': 2741, 'apologize': 1029, 'admit': 836, 'fixes': 2911, 'spelling': 6511, 'sometimes': 6437, 'completely': 1964, 'diff': 2358, 'surya': 6782, '6': 577, 'pm': 5410, 'vijay': 7451, 'pokkiri': 5430, 'mmm': 4655, 'fuck': 3059, 'battery': 1252, 'died': 2355, 'nasty': 4821, 'filthyguys': 2878, 'fancy': 2800, 'bitch': 1369, 'slo': 6364, 'slo4msgs': 6365, '08712402972': 96, 'forgets': 2973, 'costa': 2051, 'del': 2277, 'sol': 6419, '£5000': 8020, '09050090044': 154, 'toclaim': 7092, 'pobox334': 5416, 'stockport': 6632, 'sk38xh': 6330, 'cost£150pm': 2055, 'max10mins': 4504, 'though': 7017, 'bahamas': 1214, 'callfreefone': 1631, '08081560665': 55, 'cruise': 2120, 'of£2000': 5054, '18only': 316, 'opt': 5114, '07786200117': 28, 'rose': 5963, 'redred': 5790, 'bloodblood': 1400, 'heartheart': 3430, 'including': 3718, '1u': 336, 'relation': 5815, '3u': 474, '4some1': 531, 'luvs': 4385, 'praying': 5509, 'marry': 4479, 'tirupur': 7070, 'realize': 5745, 'premier': 5517, 'freephone': 3018, '542': 556, '0578': 16, 'handle': 3366, 'victoria': 7440, 'island': 3824, 'traffic': 7167, 'whens': 7653, 'album': 915, 'infernal': 3739, 'affairs': 857, 'xy': 7886, 'impossible': 3705, 'treats': 7189, 'sub': 6703, 'released': 5820, 'necessary': 4842, 'nah': 4803, 'dub': 2522, 'je': 3892, 'buff': 1555, 'randomlly': 5706, 'within': 7718, '5min': 566, 'opening': 5104, 'bot': 1446, 'notes': 4966, 'oredi': 5128, 'save': 6060, 'stress': 6661, 'dorm': 2461, 'dudette': 2528, 'scraped': 6090, 'barrel': 1236, 'social': 6413, 'misfits': 4629, 'video': 7443, 'handset': 3368, '750': 623, 'unlimited': 7320, 'reache': 5730, 'propose': 5603, 'seing': 6132, 'bloody': 1402, 'funky': 3076, 'faceasssssholeeee': 2773, 'sooooo': 6458, 'short': 6249, 'prove': 5609, 'hopeing': 3559, 'sisters': 6317, 'arrested': 1088, 'haf': 3346, 'stupid': 6696, 'cam': 1644, 'intrude': 3790, 'tuition': 7231, 'meim': 4542, 'budget': 1553, 'bb': 1254, 'bold': 1422, 'dollars': 2444, 'representative': 5857, '169': 308, '6031': 579, '10am9pm': 251, 'luckily': 4374, 'starring': 6585, 'role': 5950, 'sea': 6102, 'lays': 4152, 'envelope': 2653, 'technical': 6897, 'processnetworking': 5576, 'field': 2856, 'gentle': 3142, 'lousy': 4336, 'dead': 2228, 'hee': 3438, 'mys': 4793, 'morn': 4711, 'vewy': 7435, 'lubly': 4371, 'nofew': 4931, 'beforewent': 1299, 'cut': 2155, 'reality': 5744, 'fantasy': 2804, 'kilos': 4029, 'response': 5880, 'rays': 5722, 'cloud': 1887, 'river': 5936, 'evng': 2709, 'aiya': 905, '69669': 593, 'polyphonic': 5436, 'ringtones': 5928, 'normal': 4958, 'gprs': 3256, 'charges': 1764, 'drugdealer': 2513, 'moan': 4663, 'ecstasy': 2570, 'address': 828, 'ger': 3149, 'toking': 7104, 'syd': 6813, 'lehhaha': 4178, 'stressful': 6662, 'grab': 3260, 'nottel': 4974, 'ave': 1167, 'ams': 970, 'xx': 7878, 'unlike': 7319, 'docs': 2425, 'patients': 5249, 'turkeys': 7236, 'swimsuit': 6806, 'allowed': 937, 'kkare': 4043, 'sos': 6473, 'freemsg': 3015, 'moby': 4674, 'chatim': 1775, 'w8in': 7504, '4utxt': 537, '82242': 661, 'hlp': 3510, '08712317606': 90, 'msg150p': 4745, '2rcv': 417, '1s': 331, 'aids': 897, 'patent': 5245, 'tho': 7013, 'library': 4203, 'point': 5427, '08712402902': 95, 'co': 1899, 'asks': 1112, 'disconnect': 2392, 'callcoz': 1625, 'iz': 3857, 'terrorist': 6931, 'sim': 6297, 'itz': 3852, 'confirmd': 1988, 'verified': 7429, 'cnn': 1898, 'ibn': 3654, 'black': 1374, 'shirt': 6230, 'blue': 1409, 'jeans': 3894, 'nothing': 4968, 'romantic': 5954, 'scenery': 6075, 'sort': 6466, 'acc': 780, 'natwest': 4830, 'hint': 3497, 'forum': 2986, 'ron': 5956, 'shuhui': 6274, 'surprised': 6780, 'spent': 6514, 'french': 3025, 'fooled': 2958, 'congratulations': 1993, '08718726978': 129, '10p': 253, 'btnationalrate': 1546, 'weeks': 7607, 'accommodation': 789, 'global': 3188, 'wwwphb1com': 7845, 'ph08700435505150p': 5317, 'askin': 1110, 'shoul': 6256, 'torture': 7147, 'linerental': 4237, 'mobiles': 4667, 'offers': 5040, 'call2optoutlf56': 1621, 'ahsen': 894, 'loverboy': 4346, 'sweetie': 6802, 'across': 805, 'gang': 3100, 'grand': 3265, 'nature': 4829, 'adventure': 849, 'presnts': 5532, 'bcz': 1272, 'mis': 4626, 'jeevithathile': 3896, 'irulinae': 3819, 'neekunna': 4853, 'prakasamanu': 5502, 'sneham': 6404, 'prakasam': 5501, 'ennal': 2640, 'prabha': 5493, 'mns': 4660, 'islove': 3826, '85233': 687, 'freeringtonereply': 3020, 'slowly': 6371, 'godi': 3204, 'youclean': 7943, 'bloodsend': 1401, 'itplspls': 3845, 'captain': 1666, 'jaya': 3886, 'smoothly': 6393, 'hoped': 3557, 'bother': 1447, 'settle': 6172, 'challenging': 1747, 'pound': 5479, '08712101358': 85, 'knowhe': 4061, 'computer': 1973, 'swollen': 6809, 'glands': 3185, 'throat': 7027, 'mall': 4445, 'kaila': 3973, '08718726970': 127, 'feeling': 2837, 'sick': 6281, 'blank': 1381, 'miles': 4599, 'messageno': 4578, 'responcewhat': 5877, 'happend': 3378, 'dropped': 2509, 'stairs': 6573, 'seems': 6128, 'phews': 5322, 'omw': 5082, 'x2': 7865, '7634': 624, '7684': 625, 'workin': 7769, 'overtime': 5168, 'nigpun': 4905, 'boring': 1440, 'eldest': 2603, '08714712412': 108, '10am7pm': 250, 'bye': 1597, 'smiles': 6384, 'stillmaybe': 6627, 'sameso': 6035, 'itor': 3844, 'admiti': 837, 'madthen': 4420, 'correctionor': 2045, 'lifeand': 4210, 'worldmay': 7775, 'runninglets': 5998, 'nowonion': 4986, 'roast': 5940, 'shrek': 6269, '3db': 459, 'aunt': 1151, 'nike': 4906, 'atlanta': 1129, '730ish': 620, 'cd': 1724, 'tncs': 7087, 'wwwldewcom1win150ppmx3age16': 7841, 'zoe': 7978, 'shitin': 6233, 'il': 3684, 'defo': 2274, 'hardest': 3390, 'millions': 4604, 'lekdog': 4180, 'alert': 919, 'called': 1627, '07008009200': 19, 'lifting': 4217, '87077': 698, 'season': 6105, '2wks': 424, 'goals': 3201, 'villa': 7457, 'apo': 1026, 'mokka': 4682, 'players': 5387, 'making': 4441, 'everybodys': 2698, 'jess': 3905, 'damn': 2179, 'payback': 5258, 'amazing': 956, 'picsfree1': 5346, 'vid': 7442, '2day': 390, 'keyword': 4012, 'idc': 3664, 'weaseling': 7584, 'twice': 7247, 'row': 5969, 'barring': 1237, 'sudden': 6727, 'influx': 3740, 'panic': 5196, 'surrender': 6781, 'initiate': 3751, 'shore': 6247, 'takin': 6843, 'mad': 4413, 'bucks': 1549, 'present': 5528, 'guessing': 3320, 'guessed': 3318, '4u': 535, 'title': 7073, 'dracula': 2481, 'titles': 7074, 'ghost': 3163, 'addamsfa': 823, 'munsters': 4778, 'exorcist': 2738, 'twilight': 7249, 'wwwgetzedcouk': 7838, '150p': 287, 'length': 4182, 'shorter': 6252, 'fringe': 3042, 'distract': 2403, 'restocked': 5887, 'pattern': 5251, 'emerging': 2617, 'fiendmake': 2858, 'muchimpede': 4764, 'hesitant': 3474, 'settled': 6173, 'wishin': 7712, 'remet': 5831, 'middle': 4593, 'dealing': 2234, 'block': 1392, 'breaker': 1495, 'deluxe': 2289, 'format': 2980, 'features': 2830, 'graphics': 3269, 'tmobile': 7082, '£5': 8017, 'bbdeluxe': 1256, 'challenge': 1746, 'youll': 7950, 'rcv': 5725, 'msgs': 4748, 'svc': 6786, 'hardcore': 3388, '69988': 602, 'verify': 7430, 'excuse': 2726, 'jog': 3920, 'mini': 4614, 'dai': 2175, 'downloaded': 2475, 'exe': 2729, 'file': 2869, 'installing': 3769, '08714712394': 107, 'fights': 2865, 'worth': 7788, 'shop': 6244, '85023': 684, 'savamob': 6059, 'cs': 2124, 'pobox84': 5420, 'm263uz': 4397, '£300': 8011, 'cold': 1915, 'sad': 6013, 'bhaskar': 1342, 'deep': 2264, 'texted': 6945, 'ago': 884, 'showered': 6263, 'erything': 2668, 'shocking': 6240, 'scary': 6074, 'def': 2268, 'crash': 2090, 'taxi': 6871, 'fb': 2827, 'couple': 2068, 'rent': 5841, 'expensive': 2743, 'b4u': 1193, 'voucher': 7489, 'wc': 7575, '2703': 378, 'marsms': 4480, 'wwwb4utelecom': 7831, '08717168528': 117, 'doors': 2460, 'dick': 2347, 'facebook': 2774, 'beautiful': 1279, 'gravity': 3274, 'carefully': 1678, 'feels': 2839, 'light': 4218, 'heavy': 3436, 'leaves': 4169, 'almost': 940, 'boss': 1444, 'kept': 4005, 'regretted': 5811, 'theoretically': 6983, 'somebody': 6426, 'ngage': 4886, 'deck': 2259, 'wwwcnupdatescomnewsletter': 7833, 'alerts': 921, 'jetton': 3908, 'tbspersolvo': 6877, 'chasing': 1771, 'for£38': 2991, 'definitely': 2272, 'paying': 5261, 'ignore': 3678, 'kath': 3989, 'manchester': 4452, 'pshewmissing': 5616, 'deleted': 2281, 'suppose': 6768, 'archive': 1060, 'haiz': 3354, 'reserves': 5869, 'balance': 1218, 'mid': 4592, 'ela': 2599, 'kanoil': 3984, 'proof': 5598, 'glad': 3184, 'rupaul': 6000, 'tool': 7133, 'iphone': 3807, '600': 578, 'anytime': 1015, '400': 483, 'calls': 1636, 'downloads': 2476, 'deltomorrow': 2288, '08002888812': 48, 'coimbatore': 1911, 'shame': 6198, 'cld': 1866, 'hrs': 3596, 'seen': 6129, 'al': 913, 'salam': 6022, 'wahleykkumsharing': 7514, 'newsby': 4882, 'grace': 3261, 'tayseertissco': 6875, 'joinedhope': 3926, 'fineinshah': 2888, 'allahmeet': 933, 'sometimerakheshvisitor': 6436, 'painting': 5191, 'appointments': 1043, 'shoving': 6259, 'stuff': 6691, 'couldnt': 2061, 'jacket': 3864, 'walked': 7527, 'doesn\\x92t': 2430, 'serious': 6163, 'process': 5574, 'somethings': 6434, 'ne': 4838, 'interesting': 3780, 'wrking': 7808, 'nxt': 5012, 'uni': 7307, 'thurs': 7038, 'cancelled': 1655, 'sounds': 6477, 'kate': 3987, 'hunt': 3632, 'waste': 7556, 'wonderful': 7750, 'yesfrom': 7922, 'vote': 7487, 'caring': 1685, 'losers': 4320, 'brand': 1486, 'agent': 878, 'goodies': 3231, 'mat': 4489, '87021': 695, 'child': 1820, 'afraid': 863, 'dark': 2191, 'teenager': 6900, 'guai': 3308, 'shd': 6209, 'naughty': 4831, 'hillsborough': 3494, 'turned': 7238, 'green': 3282, 'living': 4267, 'perfect': 5285, 'community': 1950, '100psms': 244, 'outsider': 5160, '2morro': 405, 'wondarfull': 7748, 'freezing': 3022, 'craving': 2094, 'fml': 2943, 'mm': 4654, 'o2': 5020, 'awaiting': 1175, 'ha': 3340, 'pictures': 5348, 'picture': 5347, 'violated': 7460, 'ic': 3657, 'sometime': 6435, 'upgrade': 7340, '0207': 8, '153': 304, '9996': 743, '14thmarch': 285, 'availa': 1160, 'b4': 1190, 'claire': 1859, 'havin': 3410, 'borin': 1439, '09099725823': 230, 'calls£1minmoremobsemspobox45po139wa': 1641, 'quizwin': 5677, 'high': 3490, 'duchess': 2524, 'cornwall': 2040, '82277unsub': 663, '008704050406': 1, 'sp': 6485, 'icic': 3660, 'realy': 5750, 'sorryi': 6464, 'recognise': 5781, 'confused': 1991, 'accident': 787, 'a30': 754, 'divert': 2408, 'wadebridgei': 7509, 'brilliant': 1509, 'dentists': 2299, 'convincing': 2028, '08718729755': 132, 'score': 6083, 'motivating': 4722, 'sharing': 6205, 'hooch': 3551, 'walk': 7525, 'toaday': 7089, 'fell': 2842, 'splat': 6530, 'grazed': 3276, 'knees': 4056, 'stayed': 6599, 'prepare': 5520, 'water': 7565, 'poet': 5426, 'imaginationmy': 3691, 'frndship': 3047, 'nok': 4938, 'txtin': 7258, '150ptone': 300, 'hl': 3509, '4info': 525, 'cry': 2123, 'happens': 3381, 'pushes': 5643, 'edge': 2571, 'underdtand': 7298, 'often': 5053, 'book': 1429, '0825': 56, 'er': 2657, 'yep': 7914, 'props': 5604, 'smaller': 6374, 'capacity': 1662, 'drinkin': 2499, 'dancin': 2183, 'old': 5076, 'yuou': 7967, 'pc': 5264, 'spot': 6546, 'company': 1954, 'elama': 2601, 'mudyadhu': 4766, 'mumhas': 4771, 'beendropping': 1294, 'theplace': 6985, 'adress': 841, 'accenture': 782, 'melle': 4546, 'oru': 5138, 'minnaminunginte': 4616, 'nurungu': 5004, 'vettam': 7434, 'teach': 6886, 'package': 5181, 'programs': 5584, 'hassling': 3397, 'andres': 978, 'haughaighgtujhyguj': 3401, 'sign': 6289, 'roommates': 5961, 'chk': 1835, 'ms': 4743, 'dict': 2348, 'firesare': 2901, 'ps': 5614, 'grown': 3297, 'pple700': 5489, '900': 735, 'nightsexcellent': 4902, 'location': 4278, 'breakfast': 1496, 'hamper': 3362, 'kitty': 4042, 'shaved': 6207, 'natural': 4828, 'ranjith': 5711, 'drpd': 2511, 'deeraj': 2267, 'deepak': 2265, 'mornin': 4712, 'thanku': 6961, 'runs': 5999, 'blame': 1380, 'goal': 3200, 'arsenal': 1092, 'henry': 3462, '7': 614, 'liverpool': 4265, 'scores': 6084, 'simple': 6299, 'shot': 6255, 'yards': 7897, 'bergkamp': 1325, 'margin': 4470, '78': 627, 'velusamy': 7426, 'sirs': 6314, 'date': 2203, 'birth': 1364, 'facilities': 2775, 'returns': 5902, 'zahers': 7971, 'ym': 7934, 'yar': 7896, 'salon': 6030, 'bday': 1273, 'entered': 2643, 'cabin': 1603, 'okok': 5069, 'okthenwhats': 5072, 'sipix': 6309, 'digital': 2366, '09061221061': 175, '28days': 382, 'box177': 1461, 'm221bp': 4394, '2yr': 427, 'warranty': 7553, 'p': 5179, 'p£399': 5651, 'tom': 7109, 'mentionned': 4561, 'chinese': 1831, 'babes': 1197, 'brolly': 1524, 'english': 2635, '2mrw': 409, 'franxx': 3002, '02070836089': 9, 'clarify': 1861, 'ticket': 7043, 'preponed': 5523, 'kerala': 4006, 'random': 5705, 'profile': 5581, 'bpo': 1482, 'hmm': 3513, 'email': 2612, 'flew': 2922, 'window': 7693, 'ukp2000': 7281, '09061790125': 188, '3030': 435, 'coffee': 1910, 'fren': 3024, 'drove': 2510, 'alls': 939, 'haven\\x92t': 3409, '4ui': 536, 'didn\\x92t': 2352, 'intend': 3776, 'iwasmarinethat\\x92s': 3856, 'itried2tell': 3846, 'urmomi': 7367, 'careabout': 1674, 'lives': 4266, 'kadeem': 3971, 'denying': 2300, 'weak': 7578, 'bottle': 1448, 'amused': 972, 'piece': 5351, 'eek': 2578, 'especially': 2673, '8': 641, 'singing': 6306, 'garden': 3105, 'selection': 6135, 'bulbs': 1561, 'seeds': 6122, '£3350': 8012, 'scotsman': 6088, 'saturday': 6055, 'go2': 3197, 'notxtcouk': 4976, 'mom': 4684, 'calicut': 1612, 'puppy': 5634, 'noise': 4935, 'zac': 7970, 'james': 3872, 'farting': 2808, 'airport': 903, '630': 585, 'pple': 5488, 'bugis': 1558, 'shipped': 6228, 'thinked': 7001, 'approx': 1048, 'heehee': 3439, 'funny': 3077, 'dom': 2446, 'roger': 5949, 'peteynoi\\x92m': 5312, 'avent': 1168, 'timehope': 7057, 'alritehave': 949, 'nit': 4912, 'js': 3945, 'amx': 973, 'wtc': 7817, 'weiyi': 7618, 'wonders': 7752, '7th': 639, '6th': 611, 'style': 6698, '5th': 571, '4th': 533, 'personality': 5301, '3rd': 471, 'months': 4705, 'entitled': 2648, '08002986030': 49, 'woman': 7744, 'likes': 4225, 'dislikes': 2399, 'pete': 5308, '2geva': 396, 'thnx': 7012, 'mummys': 4773, 'positive': 5460, 'negative': 4855, 'hmmmm': 3519, 'ure': 7357, 'hand': 3364, 'uh': 7277, 'heads': 3417, 'result': 5894, 'httptms': 3602, 'widelivecomindex': 7677, 'wmlid820554ad0a1705572711firsttrue¡c': 7735, 'ringtone¡': 5929, 'gei': 3134, 'tron': 7200, 'dl': 2414, '3d': 457, 'aathiwhere': 759, 'pandy': 5195, 'joined': 3925, '4w': 538, 'technologies': 6898, 'todayhe': 7096, 'disturb': 2404, 'ups': 7349, '3days': 458, 'shipping': 6229, 'usps': 7386, 'lag': 4104, 'bribe': 1506, 'nipost': 4911, 'en': 2622, 'chikku': 1812, 'nange': 4815, 'bakra': 1217, 'kalstiyathen': 3977, 'teacoffee': 6890, 'sry': 6562, 'axis': 1185, 'horrible': 3564, 'macs': 4412, 'toot': 7137, 'prepared': 5521, 'gain': 3089, 'rights': 5921, 'wifedont': 7680, 'demand': 2291, 'iti': 3838, 'husband': 3639, 'toolets': 7134, 'browsin': 1534, 'compulsory': 1972, 'therere': 6989, 'table': 6823, 'lambda': 4109, 'caught': 1715, 'broken': 1523, 'university': 7316, 'southern': 6483, 'law': 4149, 'é': 8030, '140': 280, 'ardé': 1062, '180': 312, 'leastwhich': 4167, 'bedrm': 1289, 'chicken': 1809, 'broth': 1526, 'ramen': 5703, 'low': 4353, 'hols': 3535, 'med': 4526, 'stamped': 6576, 'self': 6136, 'drinks': 2501, '113': 259, 'bray': 1489, 'wicklow': 7675, 'eire': 2597, 'starts': 6592, 'unsub': 7330, 'unsold': 7327, 'base': 1240, 'nitros': 4915, 'hurry': 3635, 'opinion': 5108, 'jada': 3868, 'kusruthi': 4083, 'lovable': 4338, 'spl': 6527, 'character': 1759, 'matured': 4501, 'stylish': 6701, 'lord': 4316, 'ringsreturn': 5923, 'king': 4034, 'nowreply': 4987, 'soundtrack': 6478, 'cds': 1726, 'stdtxtrate': 6604, 'wwwapplausestorecom': 7829, 'monthlysubscription50pmsg': 4703, 'max6month': 4505, 'tcsc': 6883, 'age16': 874, '2stop': 418, 'arpraveesh': 1084, 'delicious': 2283, 'cover': 2075, 'sticky': 6623, 'giving': 3182, 'woul': 7793, 'curfew': 2143, 'gibe': 3165, 'getsleep': 3156, 'studdying': 6681, 'ear': 2547, 'single': 6307, 'meaning': 4516, 'nyt': 5015, 'senthilhsbc': 6158, 'perhaps': 5289, 'identification': 3669, 'pocked': 5422, 'roommate': 5960, 'finishes': 2894, 'ignorant': 3677, 'february': 2833, 'ge': 3129, 'tmr': 7084, 'problems': 5570, 'suggestion': 6737, 'lands': 4117, 'helps': 3458, 'forgt': 2977, 'previous': 5541, 'machan': 4407, 'curious': 2144, 'joanna': 3917, 'freaking': 3006, 'myspace': 4794, 'logged': 4285, 'gumbys': 3326, 'cheese': 1795, '07801543489': 30, 'latests': 4139, 'wordcollect': 7762, 'no83355': 4925, 'tcllc': 6879, 'nyusa': 5018, '150pmt': 293, 'msgrcvd18': 4747, 'sophas': 6459, 'secondary': 6109, 'application': 1038, 'applying': 1041, 'joke': 3928, 'ogunrinde': 5056, 'less': 4188, 'flavour': 2920, 'bud': 1550, 'comprehensive': 1970, 'cmon': 1895, 'turn': 7237, 'replies': 5852, 'cancel': 1653, 'vday': 7422, 'shirts': 6231, 'bottom': 1449, 'underwear': 7302, 'playin': 5389, 'space': 6486, 'poker': 5429, '89545': 719, 'todayfrom': 7095, '£1': 7985, 'www4tcbiz': 7827, '2optout': 414, '08718726270150gbpmtmsg18': 126, 'mathews': 4496, 'tait': 6835, 'edwards': 2577, 'anderson': 976, 'kyou': 4085, 'reception': 5774, 'tuesday': 7229, 'kkwhen': 4050, 'lab': 4095, 'goggles': 3210, 'mila': 4598, 'age23': 876, 'blonde': 1397, 'mtalk': 4756, '6986618': 597, '30pptxt': 437, '5free': 559, 'increments': 3726, 'help08718728876': 3454, 'fact': 2776, 'teaches': 6888, 'volcanoes': 7483, 'erupt': 2666, 'tsunamis': 7223, 'arise': 1074, 'hurricanes': 3633, 'sway': 6795, 'aroundn': 1083, 'hw': 3643, 'disasters': 2390, 'fifteen': 2860, 'liked': 4223, 'tat': 6865, 'honey': 3545, 'lately': 4135, 'spatula': 6494, 'track': 7164, 'wallet': 7530, 'gifts': 3168, 'throw': 7028, 'cliff': 1876, 'otherwise': 5143, 'gt': 3306, 'iam': 3648, 'addicted': 825, 'msging': 4746, 'bslvyl': 1538, 'mths': 4758, 'cross': 2115, 'ntwk': 4997, '08001950382': 47, 'call2optout674': 1617, 'north': 4960, 'carolina': 1690, 'texas': 6939, 'gre': 3277, 'site': 6319, 'results': 5895, 'gurl': 3328, 'appropriate': 1045, 'stage': 6571, 'listen': 4253, 'aha': 888, 'member': 4549, '08717898035': 120, 'yijue': 7933, 'gek1510': 3135, 'professional': 5579, 'tiger': 7046, 'woods': 7756, 'noice': 4934, 'armands': 1078, 'draws': 2487, '09058094565': 164, 'calculation': 1610, 'units': 7314, 'practicing': 5498, 'accent': 781, '4years': 540, 'dental': 2297, 'nmde': 4918, 'september': 6161, '1hr': 326, '8lb': 727, '7oz': 635, 'brilliantly': 1511, 'gloucesterroad': 3190, 'uup': 7394, 'fair': 2784, 'cousin': 2074, 'tiime': 7051, 'hug': 3613, 'sing': 6305, 'along': 942, 'stars': 6586, 'karaoke': 3985, 'link': 4241, 'freemsgfav': 3016, 'tonesreply': 7123, '930': 740, 'wherever': 7658, 'africa': 864, 'avin': 1170, 'silver': 6296, 'hasnt': 3396, 'gently': 3144, 'wrkin': 7807, 'closer': 1883, 'wwwidewcom': 7839, 'skillgame': 6334, '1winaweek': 338, '150ppermesssubscription': 296, 'housemaid': 3580, 'murderer': 4782, 'murdered': 4781, 'public': 5624, 'govtinstituitions': 3253, 'closedincluding': 1882, 'officeunderstand': 5046, 'returned': 5900, 'aiyah': 906, 'mystery': 4795, 'solved': 6424, 'opened': 5101, 'batch': 1246, 'appt': 1050, 'lttimegt': 4368, 'fault': 2819, '09066649731from': 221, 'complimentary': 1967, 'ibiza': 3652, '434': 496, 'sk3': 6329, '8wp': 733, 'pride': 5545, 'shouldnt': 6257, 'kid': 4021, 'deal': 2230, 'grownup': 3298, 'stuffwhy': 6694, 'shld': 6238, 'gee': 3130, 'kaiez': 3972, 'jazz': 3889, 'scared': 6073, 'hiphop': 3499, 'catch': 1711, 'gonnamissu': 3224, 'muchi': 4763, 'postcard': 5468, 'buttheres': 1582, 'aboutas': 771, 'merememberin': 4568, 'asthere': 1121, 'ofsi': 5052, 'breakin': 1497, 'contract': 2018, 'yaxx': 7899, 'durban': 2537, 'di': 2340, 'possibility': 5464, 'sorryin': 6465, 'sighs': 6287, 'subscription': 6715, '£5month': 8023, 'management': 4451, 'puzzeles': 5649, 'auto': 1157, 'mon': 4688, 'gd': 3125, 'depends': 2304, 'whether': 7661, 'western': 7639, 'prefer': 5514, 'gent': 3141, 'weekends': 7605, '09064012160': 195, 'k52': 3968, 'themob': 6978, 'newest': 4878, 'games': 3098, 'gossip': 3245, 'fit': 2905, 'wap': 7546, '82468': 665, 'signal': 6290, 'neither': 4858, 'unusual': 7333, 'case': 1698, 'hugs': 3616, 'snogs': 6406, 'keepintouch': 3999, 'gdeve': 3126, '09058094454': 161, 'invitation': 3795, 'apologise': 1028, 'cali': 1611, 'blokes': 1396, 'weddin': 7595, 'internet': 3783, 'slow': 6369, 'image': 3690, 'learn': 4164, 'danger': 2187, 'peeps': 5271, 'comment': 1946, 'dedicated': 2262, 'dedicate': 2261, 'macha': 4406, 'upseti': 7351, 'mindsetbelieve': 4611, 'uslet': 7384, 'againcall': 872, 'gautham': 3112, 'gap': 3101, 'fingers': 2891, 'gaps': 3102, 'holding': 3530, 'tel': 6904, '6pm': 609, 'setting': 6170, 'lasagna': 4129, 'concentrate': 1976, 'educational': 2575, 'career': 1676, 'dock': 2423, 'boat': 1417, 'rolled': 5952, 'newscaster': 4883, 'dabbles': 2167, 'flute': 2939, 'wheel': 7649, 'isaiahd': 3820, 'regular': 5812, 'burger': 1567, 'killing': 4027, 'daddy': 2169, 'mnths': 4661, 'tariffs': 6861, 'callback': 1623, 'remove': 5837, 'records': 5786, 'alivebetter': 931, 'okors': 5070, 'cherish': 1801, 'mojibiola': 4681, 'donno': 2451, 'scorable': 6082, 'air': 901, 'talent': 6845, 'malaria': 4442, 'bani': 1225, 'lib': 4201, 'creepy': 2106, 'crazy': 2096, 'izzit': 3858, 'otside': 5145, 'leu': 4196, '2morrow': 406, 'maga': 4422, '08718730555': 134, 'hop': 3555, 'muz': 4789, 'inform': 3742, 'attend': 1136, 'rounds': 5968, 'todaybut': 7094, 'fan': 2797, 'accordingly': 793, 'repeat': 5847, 'melody': 4547, 'dnt': 2418, 'worryuse': 7785, 'pieces': 5352, 'cloth': 1885, 'packalso': 5182, 'willing': 7688, 'local': 4277, 'strt': 6675, 'netcollex': 4864, 'ltdhelpdesk': 4366, '02085076972': 12, 'dartboard': 2199, 'condition': 1979, 'doubles': 2470, 'trebles': 7190, 'slippers': 6362, 'returning': 5901, 'eighth': 2595, 'relieved': 5822, 'westonzoyland': 7641, 'treated': 7188, '09064012103': 194, 'box334sk38ch': 1465, 'reckon': 5780, 'eightish': 2596, 'carpark': 1692, 'headache': 3414, 'stranger': 6656, 'stands': 6581, 'nitz': 4916, 'costumes': 2054, 'yowifes': 7958, 'ride': 5917, 'vpod': 7492, '81303': 659, 'register': 5807, 'nightswe': 4903, 'nt': 4993, 'port': 5454, 'step': 6611, 'liaotoo': 4200, 'raping': 5712, 'dudes': 2527, 'reaching': 5732, 'celebrate': 1731, 'b\\x92day': 1599, 'blind': 1391, 'rodds1': 5946, '21m': 360, 'aberdeen': 764, 'united': 7313, 'kingdom': 4035, 'httpimg': 3601, 'acwicmb3cktz8r74': 819, 'dates': 2205, 'hide': 3487, 'txtjourney': 7260, 'gdnow': 3127, '50': 542, '08714712388': 106, 'themobhit': 6979, 'premium': 5518, 'pink': 5361, 'panther': 5200, 'sugababes': 6733, 'zebra': 7973, 'animation': 982, 'badass': 1209, 'hoody': 3552, 'wallpaperall': 7532, 'worse': 7786, 'dial': 2341, 'browser': 1533, 'surf': 6775, 'convincingjust': 2029, 'neglect': 4856, 'itjust': 3839, 'mobsicom': 4673, '391784': 454, '2stoptxt': 419, 'engagement': 2633, 'fixd': 2908, 'bthmm': 1544, 'njan': 4917, 'vilikkamt': 7455, 'sudn': 6729, 'quit': 5672, 'mids': 4595, 'winner': 7699, 'specially': 6502, '087123002209am7pm': 89, 'finewhen': 2890, 'wildlife': 7687, 'want2come': 7542, 'that2worzels': 6967, 'wizzle': 7724, '125gift': 272, 'tightly': 7048, 'doublefaggot': 2468, '09095350301': 228, 'erotic': 2660, 'ecstacy': 2569, '07734396839': 25, 'ibh': 3650, 'nokia6600': 4940, 'txtauctiontxt': 7257, 'wordstart': 7765, 'no81151': 4924, 'now4t': 4980, 'loxahatchee': 4356, 'tree': 7191, 'burning': 1570, 'decide': 2253, 'leona': 4185, 'ben': 1320, 'planned': 5381, 'debating': 2250, 'aww': 1182, 'nearly': 4840, 'deadwell': 2229, 'jez': 3910, 'iscoming': 3822, 'todo': 7099, 'workand': 7768, 'whilltake': 7663, 'prin': 5547, 'roomate': 5959, 'graduated': 3262, 'restrict': 5888, 'eating': 2564, 'tessypls': 6934, 'favor': 2823, 'convey': 2024, 'wishes': 7711, 'nimyapls': 4910, 'shijas': 6221, 'probs': 5572, 'hon': 3541, 'doinat': 2440, 'closes': 1884, 'somewhat': 6439, 'laden': 4100, 'fill': 2870, 'wrecked': 7801, 'six': 6326, 'fireplace': 2900, 'icon': 3662, 'sitting': 6321, 'himthen': 3496, '0906346330': 192, 'abta': 777, 'spanish': 6489, '47': 511, 'po19': 5412, '2ez': 394, 'juliana': 3954, 'annoying': 989, '09061221066': 176, 'fromm': 3052, '28': 379, 'wlcome': 7732, 'wonder': 7749, 'eaten': 2562, 'lion': 4244, 'promises': 5592, 'gotten': 3250, 'santa': 6037, '09058094583': 165, 'frm': 3043, 'matter': 4498, 'muhommad': 4767, 'penny': 5279, 'thangam': 6955, 'held': 3442, 'prasad': 5505, 'wendy': 7628, '3650': 449, '09066382422': 219, '3mins': 466, 'vary': 7417, '300603': 433, 'bcm4284': 1266, 'euro2004': 2683, 'kickoff': 4019, 'euro': 2682, '83222': 670, 'talking': 6850, 'nottingham': 4975, '63miles': 586, '40mph': 489, 'wun': 7825, 'videos': 7447, 'smsshsexnetun': 6397, 'fgkslpopw': 2854, 'fgkslpo': 2853, 'anthony': 1001, 'fees': 2840, 'mistakes': 4643, 'prolly': 5587, 'brin': 1512, 'properly': 5601, 'sheet': 6210, '10k': 252, '150': 286, '09064018838': 198, 'cro1327': 2114, 'steve': 6617, 'select': 6133, 'benefits': 1323, 'trained': 7169, 'advisors': 853, 'dialling': 2342, '402': 485, 'foreign': 2968, 'stamps': 6577, 'astrology': 1123, 'doinghow': 2441, 'solihull': 6422, 'skype': 6342, 'bsn': 1539, 'advising': 852, 'beta': 1331, 'yan': 7895, 'jiu': 3914, 'supports': 6766, 'srt': 6561, 'ps3': 5615, 'maneesha': 4456, 'wed': 7594, 'satisfied': 6050, 'toll': 7108, 'yavnt': 7898, 'played': 5385, 'buzy': 1589, 'dont4get2text': 2453, 'lyricalladie21f': 4392, 'inviting': 3798, 'yes910': 7921, 'no910': 4926, 'wwwsmsacuhmmross': 7853, '62468': 584, 'ummmmmaah': 7288, 'get4an18th': 3152, 'wrongly': 7812, 'christ': 1846, 'star': 6583, '09066364349': 215, 'box434sk38wp150ppm18': 1471, 'vague': 7400, 'accounting': 796, 'delayed': 2279, 'housing': 3582, 'agency': 877, 'renting': 5843, 'places': 5375, 'usc': 7372, 'itlet': 3841, 'crave': 2093, 'arabian': 1058, 'steed': 6609, 'mmmmmm': 4658, 'yummy': 7963, 'welli': 7623, 'mus': 4783, 'skateboarding': 6332, 'despite': 2319, 'thrown': 7030, 'winds': 7695, 'bandages': 1224, 'arms': 1080, 'five': 2906, 'fat': 2814, 'burgundy': 1568, 'captaining': 1667, '5k': 565, 'travel': 7182, '09064011000': 193, 'cr01327bt': 2083, 'fixedline': 2910, 'cafe': 1605, 'recharged': 5777, 'dats': 2209, 'door': 2459, 'meat': 4524, 'lovers': 4347, 'supreme': 6770, 'jos': 3940, 'walls': 7533, 'heartsnot': 3432, 'cares': 1681, 'goodnoon': 3238, 'delete': 2280, 'tag': 6831, 'messy': 4586, 'laundry': 4145, 'bras': 1488, 'strewn': 6664, 'pillows': 5357, 'floor': 2933, 'comfort': 1940, 'luxury': 4386, 'sold': 6421, 'onionrs': 5089, 'petrolrs': 5314, 'beerrs': 1296, 'shesil': 6217, 'doubt': 2472, 'pongal': 5438, 'force': 2965, 'iraq': 3810, 'afghanistan': 862, 'stable': 6567, 'honest': 3542, 'traveling': 7183, 'unintentionally': 7311, 'timing': 7061, 'trains': 7171, 'antibiotic': 1003, 'chest': 1804, 'abdomen': 761, 'gynae': 3337, 'infections': 3738, 'bone': 1425, 'ssindia': 6564, 'series': 6162, 'south': 6482, 'african': 865, 'soil': 6417, 'apes': 1022, 'fight': 2862, 'death': 2249, 'ttyl': 7226, 'networks': 4870, 'drastic': 2485, 'dare': 2190, '09094100151': 226, 'cast': 1706, 'aom': 1019, 'gbp5month': 3122, 'box61m60': 1472, '1er': 324, 'ages': 880, 'dawhats': 2213, 'website': 7592, 'purpose': 5639, '£75000': 8026, 'homeowners': 3539, 'tenants': 6920, 'previously': 5542, '1956669': 320, 'family': 2795, 'mas': 4483, 'advance': 848, 'wn': 7736, 'prsn': 5613, 'dem': 2290, 'somtimes': 6444, 'saves': 6062, 'quiet': 5671, 'nothin': 4967, 'eveb': 2688, 'websitenow': 7593, 'blogging': 1394, 'magicalsongsblogspotcom': 4425, 'fall': 2789, 'worlds': 7776, 'discreet': 2395, 'vip': 7463, '83110': 668, 'natuition': 4827, 'tee': 6899, 'lecture': 4172, 'cheery': 1794, 'total': 7152, 'quarter': 5660, 'hourish': 3577, 'cbe': 1720, 'waiti': 7518, '40': 482, 'thousands': 7021, 'tattoos': 6867, 'west': 7638, 'palm': 5192, 'persons': 5304, 'receiving': 5771, 'triple': 7197, 'echo': 2567, 'shortly': 6253, 'flowing': 2937, 'nevering': 4873, 'bathe': 1249, 'pure': 5637, 'hearted': 3428, 'hisher': 3501, 'enemies': 2628, 'smiley': 6385, 'sunday': 6750, 'gudnitetcpractice': 3315, 'valentine': 7404, 'answers': 998, 'ques': 5664, 'suits': 6741, 'digi': 2365, 'fab': 2770, 'coupla': 2067, 'wks': 7731, 'hurting': 3637, 'meaningful': 4517, 'lines': 4238, 'compromised': 1971, 'away': 1179, 'trek': 7192, 'logging': 4286, 'geoenvironmental': 3147, 'implications': 3701, 'ft': 3058, 'combination': 1932, 'fifth': 2861, 'woozles': 7759, 'weasels': 7585, 'exeter': 2731, 'i\\x92m': 3860, 'vtired': 7496, 'inspection': 3767, 'nursery': 5003, 'registered': 5808, 'sinco': 6303, 'payee': 5260, 'icicibankcom': 3661, 'urn': 7368, 'beware': 1337, 'frauds': 3004, 'share': 6203, 'disclose': 2391, 'no1': 4919, 'txting': 7259, '36504': 450, 'w45wq': 7503, 'norm150ptone': 4957, '3g': 460, 'videophones': 7445, '09061744553': 185, 'videochat': 7444, 'java': 3884, 'dload': 2417, 'polyh': 5434, 'noline': 4943, 'rentl': 5844, 'bx420': 1594, 'ip4': 3803, '5we': 573, 'loud': 4334, 'spontaneously': 6539, 'goodevening': 3228, 'requests': 5859, 'coins': 1914, 'factory': 2777, '88066': 705, '£12': 7991, 'ebay': 2565, 'pierre': 5353, 'cardin': 1671, '20': 343, 'reached': 5731, 'sky': 6341, 'raining': 5692, 'lennon': 4184, 'receipt': 5765, 'sound': 6475, '2003': 346, '800': 642, '08715203685': 113, 'code4xx26': 1909, '131004': 277, 'searching': 6104, 'dayshe': 2219, 'potential': 5476, '2mro': 408, 'studyn': 6690, 'steyn': 6620, 'surely': 6774, 'wicket': 7674, 'lessons': 4191, 'avo': 1171, 'flatter': 2919, 'pints': 5362, 'carlin': 1687, 'hgsuite3422landsroww1j6hl': 3482, 'cried': 2111, 'nonenowhere': 4947, 'ikno': 3682, 'doesdiscountshitinnit': 2428, 'mrt': 4741, 'furniture': 3078, 'spending': 6513, 'quality': 5659, 'vl': 7476, 'givits': 3183, 'kanoanyway': 3983, 'salary': 6023, 'replied': 5851, 'alsoor': 951, 'playerwhy': 5388, 'dice': 2346, 'art': 1093, 'idea': 3666, 'slap': 6345, 'receivea': 5769, '£900': 8028, '09061701461': 178, 'kl341': 4054, 'telly': 6911, 'brdget': 1491, 'jones': 3936, 'toopray': 7136, 'meremove': 4569, 'teeth': 6901, 'maintaining': 4435, 'noon': 4950, '09066358152': 210, 'prompts': 5596, 'brah': 1483, 'adding': 827, 'zeros': 7975, 'savings': 6063, 'thts': 7036, 'wright': 7804, 'fly': 2940, 'evn': 2708, 'married': 4478, 'evr': 2712, 'dearme': 2243, 'cherthalain': 1802, 'cochin': 1904, 'bfore': 1341, 'starti': 6590, 'accordinglyor': 794, 'comingtmorow': 1944, 'engaged': 2632, 'student': 6682, 'books': 1433, 'smart': 6375, 'fo': 2944, 'senor': 6150, '£6': 8024, 'sigh': 6286, 'mention': 4559, 'served': 6165, 'vomit': 7484, 'exactly': 2719, 'chechi': 1783, '09077818151': 224, 'calls150ppm': 1637, '30s': 438, 'wwwsantacallingcom': 7849, 'awake': 1176, 'jolly': 3934, '730': 619, 'literally': 4259, 'wind': 7692, 'reminder': 5834, 'appeal': 1033, 'fr': 2998, 'thriller': 7026, 'director': 2381, '830': 666, 'kthen': 4079, '08718723815': 123, 'harri': 3393, 'loo': 4303, 'helloed': 3447, 'textand': 6942, '08002988890': 51, 'strong': 6672, 'yah': 7890, 'contacted': 2009, '09111032124': 235, 'pobox12n146tf150p': 5415, 'das': 2200, 'iknow': 3683, 'wellda': 7622, 'peril': 5290, 'studentfinancial': 6683, 'crisisspk': 2113, 'atleast': 1131, 'shakespeare': 6195, 'buz': 1588, 'wedlunch': 7597, 'outsomewhere': 5161, 'adrink': 843, 'towncud': 7161, '2watershd': 422, 'ppl': 5487, 'fromwrk': 3053, 'bthere': 1543, 'petexxx': 5310, 'resizing': 5872, 'wifi': 7683, 'blanked': 1382, 'dajst': 2177, 'nw': 5011, 'breaking': 1498, 'cstore': 2126, 'flyng': 2942, 'horo': 3563, 'followed': 2947, 'aries': 1073, 'bits': 1372, 'edison': 2573, 'rightly': 5920, 'fool': 2957, 'wise': 7708, 'viva': 7474, 'gmgngegnt': 3192, 'flies': 2923, 'tog': 7100, 'mth': 4757, 'brought': 1530, 'shiny': 6226, 'warming': 7549, 'constant': 2006, 'cough': 2058, 'dry': 2519, 'housewives': 3581, '08717507711': 119, 'btnational': 1545, 'landlines': 4115, 'tkts': 7078, 'cup': 2141, '09058099801': 170, 'b4190604': 1191, '7876150ppm': 629, 'lodge': 4282, 'bears': 1276, 'nick': 4893, 'types': 7268, 'strongly': 6674, 'sacrifice': 6012, 'beg': 1300, 'creativity': 2100, 'stifled': 6624, 'equally': 2656, 'uneventful': 7305, 'pesky': 5306, 'cyclists': 2163, 'dearly': 2242, 'that\\x92s': 6972, 'gail': 3087, 'wrongtake': 7813, 'don\\x92t': 2457, 'worryc': 7783, 'l8tr': 4090, 'hunlove': 3627, 'yaxxx': 7900, 'posted': 5470, 'sppok': 6548, 'jackson': 3866, 'rec': 5762, '7ish': 634, 'miserable': 4628, 'simpsons': 6301, 'july': 3956, '2007': 350, 'band': 1223, 'agreen': 886, 'bblue': 1259, 'cred': 2101, 'whenevr': 7652, 'gray': 3275, 'remembr': 5829, 'listn': 4257, 'watevr': 7567, 'whileamp': 7662, 'significance': 6291, 'staff': 6569, 'earn': 2551, 'gastroenteritis': 3109, 'replace': 5848, 'loss': 4323, 'temp': 6916, 'reduce': 5791, 'limiting': 4231, 'illness': 3686, '7250i': 618, 'auction': 1144, '86021': 689, 'hgsuite3422lands': 3481, 'roww1jhl': 5972, '08719181503': 139, 'castor': 1708, 'language': 4119, 'foot': 2959, 'penis': 5278, 'arun': 1097, 'transfr': 7177, 'ga': 3086, 'godtaken': 3207, 'teethis': 6903, 'paining': 5190, 'pull': 5628, 'taylors': 6874, 'dahow': 2174, 'restrictions': 5889, 'buddys': 1552, 'placement': 5373, 'amrita': 969, 'lips': 4250, 'buns': 1566, 'rajini': 5696, 'placed': 5372, 'massive': 4486, 'involved': 3801, '80878': 656, 'wwwtxt2shopcom': 7860, '08715705022': 116, '…thanks': 8038, 'practical': 5497, 'woot': 7758, 'stuffing': 6693, 'werethe': 7635, 'monkeespeople': 4693, 'monkeyaround': 4695, 'howdy': 3584, 'gorgeous': 3244, 'howu': 3588, 'foundurself': 2993, 'jobyet': 3919, 'sausagelove': 6058, 'paris': 5218, 'flight': 2924, '69101': 592, 'wwwrtfsphostingcom': 7848, 'alive': 930, 'licks': 4205, 'tootsie': 7138, 'pop': 5447, 'huiming': 3619, 'erutupalam': 2667, 'thandiyachu': 6954, 'sane': 6036, 'constantly': 2007, 'helping': 3456, 'smokes': 6390, 'begging': 1302, '08700621170150p': 65, 'lambu': 4110, 'ji': 3911, 'cometil': 1938, 'batchlor': 1247, 'uploaded': 7345, 'fridge': 3033, 'meal': 4514, 'chikkuil': 1817, 'coast': 1901, 'üll': 8032, '£400': 8015, 'randomly': 5707, 'picked': 5342, 'loyal': 4357, 'customers': 2153, '09066380611': 218, 'supply': 6763, 'wwwldewcomsubs161win150ppmx3': 7842, 'exwife': 2763, 'rules': 5992, 'showing': 6265, 'responsibility': 5882, 'bend': 1321, 'rule': 5991, 'thia': 6996, 'inlude': 3753, 'previews': 5540, 'farm': 2806, 'flood': 2932, 'tomarrow': 7110, 'hearing': 3426, 'entertain': 2644, 'google': 3242, 'maps': 4465, 'train': 7168, 'worc': 7760, 'foregate': 2967, 'shrub': 6271, 'hill': 3493, 'formclark': 2982, 'utter': 7391, 'relatives': 5817, 'risks': 5933, 'mostly': 4717, 'sports': 6544, 'typelyk': 7267, 'footblcrckt': 2961, 'superb': 6758, 'grateful': 3271, 'opportunity': 5111, 'happier': 3382, 'teluguthts': 6914, 'gudk': 3313, 'remain': 5825, 'unconvinced': 7297, 'elaborate': 2600, 'willpower': 7689, 'spunout': 6557, 'wrld': 7809, 'nytho': 5017, 'tx': 7253, 'fonin': 2955, '2mwen': 410, 'bk': 1373, 'frmcloud': 3044, 'lou': 4333, 'lancaster': 4111, 'neway': 4877, 'couldn\\x92t': 2062, 'hun': 3622, 'evenings': 2692, 'aathilove': 758, 'treasure': 7186, 'wined': 7697, 'dined': 2372, 'videopic': 7446, 'fones': 2954, 'wild': 7686, '150prcvd': 298, 'stop2stop': 6641, 'cake': 1606, 'aunty': 1154, 'urgh': 7362, 'coach': 1900, 'smells': 6381, 'chip': 1833, 'duvet': 2539, 'predictive': 5513, 'holder': 3529, 'httpwwwetlpcoukexpressoffer': 3605, 'apply2': 1040, '80062': 644, 'weather': 7586, 'brings': 1515, 'friendships': 3040, 'grow': 3295, '09066361921': 212, 'sif': 6285, 'partnership': 5230, 'purity': 5638, 'forwarded': 2989, 'messageits': 4577, 'seeing': 6123, 'maturity': 4502, 'understanding': 7300, 'quickly': 5670, 'hex': 3477, 'explain': 2751, '08718726971': 128, 'keeps': 4000, 'queen': 5662, 'ache': 799, 'desparately': 2317, 'vai': 7402, '0789xxxxxxx': 36, 'day2find': 2217, 'downstem': 2478, 'dahe': 2173, 'daalways': 2166, 'thisdon': 7007, 'messagepandy': 4579, 'mental': 4558, 'yesmum': 7927, 'lookin': 4306, 'minstand': 4619, 'desires': 2314, 'liver': 4264, 'sickness': 6282, 'qatar': 5653, 'tonite': 7127, 'opportunityall': 5112, 'fastpls': 2813, 'add': 822, 'prayers': 5508, 'dearrakhesh': 2244, 'leads': 4161, 'passionate': 5239, 'gsoh': 3305, 'spam': 6488, 'ladiesu': 4102, 'gigolo': 3169, 'fastest': 2812, 'growing': 3296, 'mens': 4557, 'oncall': 5084, 'mjzgroup': 4651, '087143423992stop': 104, 'msg£150rcvd': 4754, '09050000878': 148, 'pobox45w2tg150p': 5419, 'super': 6757, 'virgin': 7465, '09061104283': 172, 'wwwsmsconet': 7856, '£150pm': 8001, 'catching': 1713, 'bffs': 1340, 'carly': 1689, 'applespairsall': 1037, 'malarky': 4443, 'howz': 3590, 'alreadysabarish': 945, 'crowd': 2117, 'advice': 850, 'cardiff': 1670, 'someonone': 6429, '09064015307': 196, 'blakes': 1379, 'answering': 997, '2marrow': 402, 'converter': 2023, 'gods': 3206, 'occasion': 5028, 'celebrated': 1732, 'reflection': 5798, 'values': 7411, 'affectionsamp': 859, 'traditions': 7166, 'ideal': 3667, '09061701939': 179, 's89': 6007, 'worrying': 7784, 'quizzes': 5678, 'popcorn': 5448, 'wondering': 7751, 'tming': 7081, 'laughs': 4144, 'passable': 5235, 'phd': 5321, '5years': 576, 'crab': 2085, 'shorethe': 6248, 'waves': 7572, 'footprints': 2963, 'fox': 2997, 'frndsship': 3048, 'dwn': 2542, 'jordan': 3938, '88600': 709, 'celeb': 1729, 'pocketbabecouk': 5423, '£3wk': 8014, '087016248': 70, 'unni': 7323, 'rechargerakhesh': 5778, 'gamestar': 3099, 'active': 814, '£250k': 8009, 'scoring': 6085, 'nowsky': 4988, '88088': 706, 'cramps': 2088, 'operate': 5106, 'priya': 5559, 'umma': 7286, 'vava': 7421, 'railway': 5690, 'lipo': 4249, 'pages': 5185, 'figures': 2867, 'jaykwon': 3887, 'thuglyfe': 7037, 'falconerf': 2788, 'cock': 1905, 'hubbys': 3611, 'satisfy': 6051, '89938': 722, 'strings': 6667, '£150ea': 7997, 'otbox': 5141, '731': 622, 'la1': 4092, '7ws': 640, 'unconscious': 7296, 'adults': 847, 'abnormally': 770, 'olowoyey': 5079, 'uscedu': 7373, 'argentina': 1067, 'secretary': 6112, 'blessing': 1389, 'lightly': 4220, 'custom': 2151, 'checkboxes': 1785, 'kkwhy': 4052, 'lasting': 4132, 'cashbalance': 1700, 'maximize': 4506, 'cashin': 1703, 'cc': 1721, '08718720201': 122, '11414': 261, 'tcrw1': 6880, '078': 29, 'jolt': 3935, 'screamed': 6094, 'ahmad': 892, 'hallaq': 3359, 'owned': 5175, 'possessive': 5462, 'ding': 2373, 'fassyole': 2809, 'blacko': 1377, 'londn': 4296, 'investigate': 3794, 'anywhere': 1018, 'motivate': 4721, 'darkness': 2194, 'shining': 6225, 'trust': 7211, 'ryder': 6005, 'unsoldnow': 7329, 'gibbs': 3164, '123': 271, '£1450': 7994, '09050002311': 152, 'b4280703': 1192, 'tcsstop': 6884, '08718727868': 130, 'sarcasm': 6043, 'scarcasim': 6072, '44': 497, '7732584351': 626, 'sian': 6279, 'consensus': 1999, 'phone750': 5328, '08000776320': 43, 'blackberry': 1376, 'torch': 7145, 'nigeria': 4896, 'buyer': 1585, 'melike': 4545, '4a': 517, 'italian': 3831, 'stone': 6636, 'wifehow': 7681, 'murder': 4780, 'yeshe': 7924, 'crickiting': 2110, 'okies': 5068, 'skip': 6339, 'cine': 1852, 'blah': 1378, 'possession': 5461, 'wouldnt': 7796, 'jerk': 3902, 'collapsed': 1919, '0808': 53, '145': 283, '4742': 513, '9am11pm': 746, 'screwd': 6097, 'pray': 5507, 'snowboarding': 6409, 'goa': 3199, 'greet': 3283, 'affair': 856, 'cheers': 1793, 'massages': 4484, 'oil': 5060, 'fave': 2822, 'position': 5458, 'ringtoneget': 5926, 'freesend': 3021, 'subpoly': 6708, '816183': 660, 'weekstop': 7608, 'sms08718727870': 6395, 'bag': 1212, 'priscillas': 5555, 'flights': 2925, '0871277810810': 102, 'inperialmusic': 3760, 'listening2the': 4256, 'weirdest': 7615, 'by\\x94leafcutter': 1598, 'john\\x94sounds': 3923, 'insects': 3763, 'molestedsomeone': 4683, 'plumbingremixed': 5405, 'evil': 2707, 'men': 4556, 'acid': 801, 'playng': 5391, 'racing': 5684, 'preferably': 5515, 'kegger': 4001, 'hmph': 3521, 'baller': 1220, '09061213237': 174, 'canary': 1652, 'islands': 3825, '177': 310, 'm227xy': 4395, 'yest': 7929, 'sumthinxx': 6747, 'cuddling': 2135, 'sleeps': 6352, 'tp': 7163, 'ouch': 5147, 'tues': 7228, 'galcan': 3092, 'boyy': 1481, 'galno': 3094, 'heaven': 3434, 'princegn': 5549, 'audreys': 1148, 'status': 6597, 'usualiam': 7388, 'mca': 4512, 'error': 2662, 'thanx4': 6964, 'cer': 1738, 'soonc': 6454, 'stuck': 6680, 'casualty': 1709, 'stuff42moro': 6692, 'includes': 3717, 'switch': 6808, 'dammit': 2178, 'chart': 1768, 'heroes': 3469, 'tips': 7065, 'fundamentals': 3073, 'carewhoever': 1684, 'grumble': 3301, 'meetin': 4534, 'ar': 1056, 'guoyang': 3327, 'hadya': 3345, 'sapna': 6040, 'manege': 4457, 'yday': 7903, 'hogidhechinnu': 3526, 'swalpa': 6789, 'agidhane': 882, 'mmmm': 4656, 'bec': 1281, 'cl': 1857, 'key': 4009, 'hectic': 3437, 'swoop': 6810, 'gals': 3095, 'patty': 5252, 'donewant': 2450, 'haul': 3402, 's8': 6006, 'heater': 3433, 'degrees': 2275, 'stalking': 6575, 'galileo': 3093, '215': 358, 'apart': 1020, 'appointment': 1042, '07973788240': 39, '08715203649': 111, '40533': 487, '311004': 441, 'frequently': 3027, 'todaysundaysunday': 7098, 'holidayso': 3532, 'wesley': 7636, 'howve': 3589, 'infront': 3749, 'dance': 2182, 'permission': 5294, 'eastenders': 2558, 'dot': 2466, 'compare': 1955, 'violet': 7462, 'tulip': 7233, 'f': 2768, 'lily': 4228, '84025': 677, 'wkent150p16': 7727, 'radiator': 5685, 'allday': 935, 'piss': 5364, 'limit': 4229, 'measure': 4523, 'power': 5484, 'boundaries': 1452, 'endless': 2626, 'blessings': 1390, 'mushy': 4784, 'embarrassed': 2615, 'jan': 3876, 'whn': 7666, 'ofice': 5050, 'cn': 1896, 'oficegot': 5051, 'duffer': 2530, 'knowing': 4062, 'dirty': 2384, 'fellow': 2843, 'stoners': 6637, 'shijutta': 6222, 'xam': 7869, '532': 554, '924': 738, '863': 691, '725': 616, 'brilliant1thingi': 1510, 'answr': 999, 'linear': 4235, 'algebra': 926, 'youdearwith': 7945, 'loverakhesh': 4345, 'nri': 4992, 'masters': 4488, 'bf': 1339, 'arm': 1076, 'impression': 3707, 'wwworangecoukow': 7844, 'upgrdcentre': 7342, '9153': 737, '26th': 377, 'apps': 1049, '08715203652': 112, '42810': 494, '29100': 385, '09061790121': 187, 'coco': 1907, 'twins': 7250, 'lighters': 4219, 'senthil': 6157, 'apnt': 1025, '5pm': 569, 'perform': 5286, 'shola': 6242, 'medicine': 4528, 'academic': 779, 'department': 2301, 'transfer': 7175, 'sagamu': 6017, 'lautech': 4147, 'vital': 7473, 'completes': 1965, 'education': 2574, 'citizen': 1854, 'zealand': 7972, 'mobs': 4672, 'breathe1': 1502, 'crazyin': 2097, 'sleepingwith': 6351, 'finest': 2889, 'ymca': 7935, 'getzedcouk': 3160, 'pobox365o4w45wq': 5418, '300p': 434, 'capital': 1663, 'babyjontet': 1202, 'sweetheart': 6801, 'darling': 2196, 'sugar': 6735, 'plum': 5403, 'smacks': 6372, '2waxsto': 423, 'insurance': 3774, 'basic': 1241, 'major': 4436, 'guide': 3322, 'argh': 1068, 'spotty': 6547, 'province': 5612, 'sterling': 6615, 'problemfree': 5568, 'gona': 3220, 'l8': 4087, 'buses': 1576, 'waitin': 7519, 'walsall': 7535, 'tue': 7227, 'terry': 6932, 'sorts': 6470, 'texting': 6947, 'ish': 3823, 'divorce': 2410, 'barbie': 1229, 'kens': 4003, 'cps': 2081, 'outages': 5149, 'conserve': 2001, 'energy': 2630, 'freaky': 3007, 'strange': 6655, 'url': 7366, 'mmmmm': 4657, 'dawns': 2214, 'refreshed': 5799, 'steak': 6605, 'gnarls': 3195, 'barkleys': 1233, 'financial': 2883, 'problemi': 5569, 'wither': 7717, 'eg23f': 2585, 'eg23g': 2586, 'inshah': 3765, 'allah': 932, 'dobbys': 2421, 'danalla': 2181, 'payment': 5262, 'portal': 5455, 'abroad': 772, 'xxsp': 7879, 'visionsmscom': 7469, 'stopcost': 6643, '08712400603': 91, '09064017295': 197, 'honestly': 3543, 'promptly': 5595, 'keys': 4011, 'burnt': 1572, 'rayman': 5721, 'golf': 3218, 'arcade': 1059, 'settings': 6171, 'activ8': 812, '0': 0, 'termsapply': 6928, 'kbut': 3994, 'hitteranyway': 3507, 'chez': 1806, 'jules': 3953, 'normally': 4959, 'com': 1931, 'bar': 1228, 'satsgettin': 6053, '447per': 501, 'lie': 4207, 'saeed': 6015, 'sonyericsson': 6451, 'call2optouthf8': 1618, 'madam': 4416, 'cleaning': 1868, 'snap': 6400, 'quizclub': 5676, '80122300pwk': 648, 'sprwm': 6554, 'ph08704050406': 5318, 'slaaaaave': 6344, 'summon': 6746, '09050003091': 153, 'c52': 1601, 'expression': 2758, 'depression': 2306, 'arranging': 1087, 'fetch': 2847, 'ywhere': 7969, 'dogbreath': 2432, 'sounding': 6476, 'reasons': 5755, 'bbdthts': 1258, 'dvg': 2541, 'coldheard': 1916, 'vinobanagar': 7459, 'violence': 7461, 'conditionand': 1980, 'ru': 5984, 'complaining': 1959, 'amanda': 955, 'regard': 5804, 'renewing': 5840, 'upgrading': 7341, '0845': 59, '021': 14, '3680': 451, 'subject': 6704, 'ts': 7217, 'subscriber': 6713, 'elvis': 2610, 'presleys': 5531, 'olympics': 5080, 'birthdate': 1365, 'certificate': 1741, 'publish': 5625, 'rebooting': 5760, 'indicate': 3732, '3750': 453, 'china': 1828, 'noisy': 4936, 'natalja': 4824, '25f': 373, 'yes440': 7919, 'no440': 4922, 'wwwsmsacunat27081980': 7854, 'lined': 4236, 'exams': 2721, 'sfine': 6183, 'improve': 3708, 'essential': 2676, 'ba': 1194, 'gua': 3307, 'mt': 4755, 'faber': 2771, 'chitchat': 1834, 'logon': 4289, '8883': 711, 'cm': 1893, '4217': 493, 'w1a': 7500, '6zf': 613, '118pmsg': 264, 'flow': 2935, 'developed': 2329, 'ovarian': 5164, 'cysts': 2164, 'bc': 1262, 'shrink': 6270, 'honeymoon': 3548, 'outfit': 5152, 'olol': 5078, 'replacement': 5849, 'hopefully': 3558, 'scotland': 6087, 'smoking': 6392, 'forgiven': 2974, 'woulda': 7795, 'realized': 5746, 'obviously': 5027, 'eggspert': 2591, 'potato': 5475, 'head…': 3419, 'sac': 6008, 'carry': 1693, 'occurs': 5032, 'bluray': 1414, 'ducking': 2525, 'chinchillas': 1830, 'funeral': 3074, 'audrey': 1147, 'ditto': 2407, 'bike': 1350, 'esplanade': 2675, 'totes': 7154, 'hmv1': 3523, 'anybody': 1004, 'cultures': 2137, 'module': 4677, 'unsubscribed': 7332, 'tons': 7130, 'hunks': 3626, 'straight': 6654, 'httpgotbabescouk': 3600, 'subscriptions': 6716, 'mmmmmmm': 4659, 'snuggles': 6410, 'contented': 2013, 'whispers': 7664, 'cab': 1602, 'availablethey': 1163, 'steps': 6612, 'absolutely': 774, 'cosign': 2049, 'hme': 3512, 'dogg': 2433, 'spare': 6490, 'supplies': 6762, 'yalrigu': 7892, 'heltiniiyo': 3459, 'kothi': 4076, 'shared': 6204, 'meso': 4573, 'uttered': 7392, 'trusting': 7212, 'meok': 4564, 'chikkub': 1814, 'jamster': 3873, 'videosound': 7448, 'gold': 3214, 'videosounds2': 7449, 'logosmusicnews': 4292, 'jamstercouk': 3874, '16only': 309, '09701213186': 236, 'speaking': 6496, '1childish': 322, '2naughty': 411, '3sentiment': 472, '4rowdy': 530, '5ful': 560, 'attitude': 1139, '6romantic': 610, '7shy': 638, '8attractive': 724, '9funny': 748, 'irritating': 3817, 'alexs': 923, 'guides': 3323, 'hanger': 3372, 'inches': 3713, 'hesitate': 3475, 'weakness': 7579, 'notebook': 4965, 'dearer': 2239, 'useless': 7377, 'refilled': 5797, 'successfully': 6723, 'inr': 3762, 'keralacircle': 4007, 'prepaid': 5519, 'rs': 5979, 'kr': 4077, 'booking': 1431, 'broke': 1522, 'nobodys': 4928, 'sarcastic': 6044, 'faggy': 2780, 'hm': 3511, 'slob': 6366, 'invaders': 3791, 'orig': 5133, 'console': 2005, 'o2coukgames': 5021, 'purchase': 5635, 'tadaaaaa': 6830, 'eachother': 2546, 'regards': 5806, 'buffet': 1556, 'fever': 2849, 'vomitin': 7485, 'jontin': 3937, 'grocers': 3289, 'toldshe': 7106, 'harishs': 3392, 'transfred': 7178, 'acnt': 803, '330': 446, '1120': 258, '1205': 268, 'suzy': 6785, 'relaxing': 5819, '7am': 631, '5ish': 563, 'gmw': 3193, 'connected': 1995, 'poyyarikaturkolathupalayamunjalur': 5486, 'posterode': 5471, 'rs5': 5980, 'transfered': 7176, 'wewa': 7645, '130': 276, 'iriver': 3812, '255': 372, '128': 273, 'mb': 4511, 'tmorrowpls': 7083, 'accomodate': 790, 'timings': 7062, '8am': 723, 'greatbhaji': 3279, 'kallis': 3976, 'cricketer': 2109, 'sachin': 6009, 'worldvery': 7777, 'dresser': 2497, 'bat': 1245, 'feelin': 2836, 'wuld': 7823, 'nuther': 5007, 'stalk': 6574, 'profiles': 5582, 'fetching': 2848, 'difference': 2359, 'versus': 7433, 'rofl': 5948, 'betta': 1332, 'invest': 3793, 'anti': 1002, 'aging': 883, 'products': 5578, 'tape': 6860, 'bbdpooja': 1257, 'pimpleseven': 5359, 'blackand': 1375, 'wearing': 7583, 'sweatter': 6798, 'haiyoh': 3353, 'hamster': 3363, 'jealous': 3893, 'million': 4603, 'somethin': 6432, 'flaky': 2915, 'parent': 5214, 'itsnot': 3847, 'childs': 1824, 'parentnot': 5215, 'unintentional': 7310, 'nonetheless': 4948, 'smoked': 6389, 'rgent': 5911, 'uu': 7393, '£1250': 7993, '09071512433': 223, '050703': 15, 'tcsbcm4235wc1n3xx': 6882, 'callcost': 1624, 'mobilesvary': 4669, 'max£7': 4507, 'dine': 2371, 'receipts—well': 5767, 'reveal': 5903, '09065174042': 205, 'recd': 5763, '07821230901': 35, 'ringtonefrom': 5925, 'wmlid1b6a5ecef91ff937819firsttrue180430jul05': 7734, 'peach': 5267, 'tasts': 6864, 'sum': 6742, 'lucyxx': 4379, 'frying': 3057, 'egg': 2588, 'hmmmbut': 3516, 'dippeditinadew': 2377, 'lovingly': 4351, 'touched': 7156, 'itwhichturnedinto': 3849, 'gifted': 3167, 'tomeandsaidthis': 7112, 'snatch': 6402, 'purse': 5640, 'missionary': 4637, 'doggy': 2436, 'standing': 6580, 'vegas': 7423, '120': 267, 'gained': 3090, 'kg': 4013, 'blood': 1399, 'tests': 6937, 'pressure': 5535, 'limits': 4232, 'yelling': 7910, 'scrappy': 6091, 'forwarding': 2990, 'rr': 5977, 'detailsi': 2323, 'youmy': 7951, 'monkey': 4694, 'asshole': 1116, 'chikkudb': 1815, 'changes': 1754, 'report': 5855, 'poo': 5441, 'chad': 1744, 'gymnastics': 3336, 'christians': 1847, 'sao': 6039, 'gary': 3107, 'haunt': 3403, 'sorted': 6468, 'promoting': 5594, '09065171142stopsms08718727870150ppm': 204, 'noooooooo': 4952, 'gram': 3264, 'entirely': 2647, 'uncomfortable': 7294, 'complain': 1958, 'onlybettr': 5092, 'bsnl': 1540, 'offc': 5036, 'nd': 4837, 'supose': 6760, 'babysit': 1203, 'therexx': 6991, 'needing': 4849, 'falling': 2791, 'smeone': 6382, 'matthew': 4500, '09063440451': 190, '4lux': 526, 'ppm150': 5491, 'box334': 1464, 'thanks2': 6959, 'compass': 1956, 'map': 4463, 'soul': 6474, 'loose': 4312, 'worldgnun': 7774, 'way2smscom': 7574, 'hangin': 3373, 'mr': 4738, 'nights': 4901, 'enuff': 2652, 'gate': 3110, 'charles': 1766, 'juicy': 3952, 'booty': 1436, 'dizzamn': 2412, 'suitemates': 6740, 'anybodys': 1005, 'tactful': 6829, 'rewarding': 5909, 'nigh': 4897, 'welp': 7626, 'sts': 6677, 'ended': 2624, 'bay': 1253, 'youphone': 7952, 'athome': 1128, 'youwanna': 7956, 'hu': 3609, 'female': 2845, 'navigate': 4834, 'choosing': 1841, 'require': 5860, 'guidance': 3321, 'vikkyim': 7454, '88800': 710, '89034': 715, '08718711108': 121, 'marriage': 4476, 'function': 3070, 'sexiest': 6177, 'dirtiest': 2383, '89070': 716, 'cruisin': 2121, 'jenny': 3898, 'convince': 2026, 'witot': 7721, 'punish': 5631, 'honeydid': 3547, 'gimmi': 3171, 'gossx': 3246, '2006': 349, 'fifa': 2859, 'youcarlos': 7942, 'isare': 3821, 'vibrate': 7437, 'acting': 810, 'describe': 2309, 'nojst': 4937, 'dao': 2188, 'marandratha': 4467, '1526': 303, 'pubcafe': 5623, 'stagwood': 6572, 'winterstone': 7703, 'victors': 7441, 'specific': 6503, 'rons': 5957, 'swatch': 6794, 'swhrt': 6804, 'deyhope': 2335, '2daylove': 391, 'misstake': 4638, 'grinule': 3288, 'gim': 3170, 'completed': 1963, 'bestrply': 1329, 'grooved': 3290, 'reg': 5803, 'ciao': 1851, 'dual': 2521, '87131': 700, '2814032': 380, '3x£150pw': 480, 'e£nd': 2767, 'tensed': 6923, 'indeed': 3727, 'freeringtone': 3019, 'real1': 5740, 'pushbutton': 5642, 'dontcha': 2454, 'babygoodbye': 1200, 'golddigger': 3215, 'webeburnin': 7591, 'lt': 4362, 'warwick': 7554, 'tmw': 7086, 'canceled': 1654, 'tacos': 6828, 'rajas': 5695, 'burrito': 1573, 'panasonic': 5194, 'bluetoothhdset': 1411, 'doublemins': 2469, 'doubletxt': 2471, 'sterm': 6616, 'resolved': 5874, 'cupboard': 2142, 'headin': 3415, 'busetop': 1577, '4d': 519, '1405': 281, '1680': 307, '1843': 314, 'journey': 3941, 'receipts': 5766, 'pendent': 5275, 'vijaykanth': 7452, 'tvhe': 7243, 'drunken': 2517, 'angry': 980, 'misbehaved': 4627, 'thursday': 7039, 'submitting': 6707, 'msgwe': 4753, 'billed': 1352, 'shortcode': 6251, '83332please': 671, '08081263000': 54, 'refundedthis': 5801, 'huge': 3614, 'marking': 4474, 'epi': 2654, 'barred': 1235, 'lifethis': 4212, 'twat': 7245, 'dungerees': 2534, 'decking': 2260, 'punch': 5630, 'clever': 1874, 'pears': 5269, 'tension': 6924, 'ahwhat': 896, 'machiany': 4408, 'fuckin': 3061, 'pre': 5511, 'sacked': 6011, 'remembered': 5828, 'cooked': 2030, 'salmon': 6029, 'infact': 3737, 'owe': 5173, '21870000hi': 359, 'mailbox': 4429, 'messaging': 4583, '09056242159': 157, 'retrieve': 5898, 'cc100pmin': 1722, 'hadnt': 3344, 'clocks': 1878, 'shouted': 6258, 'realised': 5742, 'wahay': 7511, 'hr': 3594, 'lip': 4248, 'synced': 6816, 'shangela': 6200, 'pleassssssseeeeee': 5395, 'sportsx': 6545, 'data': 2202, 'analysis': 974, 'thesis': 6992, 'topic': 7140, 'wesleys': 7637, 'bet': 1330, 'ummmawill': 7287, 'inour': 3759, 'uniform': 7309, 'str': 6653, 'ijust': 3680, 'talked': 6848, 'dang': 2186, 'yck': 7902, 'thin': 6997, 'faultal': 2820, 'arguments': 1072, 'faultfed': 2821, 'himso': 3495, '2go': 397, 'thanxxx': 6965, 'prabhaim': 5494, 'sorydarealyfrm': 6472, 'sory': 6471, 'hmmmstill': 3520, 'opener': 5102, 'memorable': 4553, 'musthu': 4788, '09066350750': 209, '10000': 242, 'ppm': 5490, 'jeremiah': 3900, 'testing': 6936, 'sayy': 6069, 'jd': 3891, 'accounts': 797, 'executive': 2730, 'youwhen': 7957, 'weird': 7614, 'shitstorm': 6236, 'attributed': 1142, 'rajipls': 5697, 'nimya': 4909, 'outta': 5163, 'skint': 6338, 'fancied': 2798, 'bevieswaz': 1336, 'othrs': 5144, 'spoon': 6541, 'bin': 1358, 'watchng': 7564, 'planet': 5379, 'earthsofa': 2554, 'comfey': 1939, 'innocent': 3757, 'yunny': 7965, 'citylink': 1856, 'faster': 2811, 'collected': 1922, 'simply': 6300, 'mix': 4650, '85069': 685, 'usher': 7382, 'britney': 1519, '5249': 550, 'mk17': 4652, '92h': 739, '450ppw': 508, 'keng': 4002, 'rocking': 5944, 'ashes': 1101, 'disturbing': 2406, 'juswoke': 3965, 'boatin': 1418, 'docks': 2424, 'spinout': 6521, 'spiritual': 6524, 'jokin': 3932, 'lanre': 4121, 'fakeyes': 2786, 'eckankar': 2568, 'excuses': 2728, 'restaurant': 5885, 'coccooning': 1903, 'delay': 2278, 'anand': 975, 'aunts': 1153, 'anniversary': 985, 'tarpon': 6862, 'springs': 6552, 'needy': 4852, 'pouts': 5483, 'stomps': 6635, 'feet': 2841, 'watever': 7566, 'spoons': 6542, 'fffff': 2850, '3000': 432, '08712402050': 92, '10ppm': 255, 'ag': 871, 'promo': 5593, 'forced': 2966, 'slice': 6357, 'knows': 4065, 'papers': 5205, 'generally': 3138, 'smokin': 6391, 'lucy': 4378, 'hubby': 3610, 'meetins': 4536, 'cumin': 2139, '09099726395': 231, 'calls£1minmobsmorelkpobox177hp51fl': 1640, 'roles': 5951, 'outreach': 5157, 'mel': 4544, 'cards': 1672, 'laid': 4106, 'airtel': 904, '116': 263, 'shaking': 6196, 'ritten': 5935, 'fold': 2945, 'nobut': 4929, 'sez': 6181, 'arab': 1057, 'evry1': 2714, 'eshxxxxxxxxxxx': 2672, 'mary': 4482, 'jane': 3877, 'lions': 4247, 'lionm': 4245, 'mono': 4697, 'lionp': 4246, 'orchard': 5125, 'laready': 4125, 'moon': 4707, 'color': 1927, 'musical': 4786, 'peaceful': 5266, 'drizzling': 2506, 'strike': 6666, 'bird': 1360, 'antelope': 1000, 'toplay': 7141, 'fieldof': 2857, 'selfindependence': 6137, 'contention': 2014, 'growrandom': 3299, '22': 362, 'removed': 5838, 'ericsson': 2658, 'salesman': 6026, 'considering': 2003, '945': 741, 'pool': 5443, 'bunch': 1564, 'lotto': 4330, 'resent': 5866, 'failed': 2782, 'queries': 5663, 'customersqueriesnetvisionukcom': 2154, 'saucy': 6057, 'daytime': 2223, 'busty': 1579, '09099726429': 232, 'janinexx': 3878, 'kim': 4030, '515': 547, 'chikkuwat': 1819, 'updatenow': 7339, '12mths': 275, '400minscall': 484, 'call2optoutj5q': 1620, 'thx': 7040, 'virtual': 7467, 'decades': 2251, 'petrol': 5313, 'goverment': 3252, 'expects': 2742, 'sathya': 6049, 'dint': 2376, 'disagreeable': 2386, 'classmates': 1864, 'buzzzz': 1591, 'buzz': 1590, 'vibrator': 7438, 'shake': 6194, 'wordnot': 7763, 'merely': 4567, 'relationshipits': 5816, 'wherevr': 7659, 'forevr': 2970, 'gudnyt': 3316, 'tescos': 6933, 'zhong': 7976, 'qing': 5657, 'act': 807, 'onlydon': 5093, 'donate': 2448, 'unicefs': 7308, 'asian': 1106, 'tsunami': 7222, 'disaster': 2389, 'fund': 3072, '864233': 692, 'notice': 4970, 'slower': 6370, 'maniac': 4459, 'jjc': 3915, 'tendencies': 6921, 'lov': 4337, 'nevr': 4875, 'unrecognized': 7324, 'somone': 6443, 'valuing': 7412, 'definitly': 2273, 'undrstnd': 7303, '08718738001': 136, '49557': 516, '261104': 375, 'gentleman': 3143, 'dignity': 2367, 'respect': 5876, 'unmits': 7321, 'tonights': 7126, 'yetunde': 7932, 'sura': 6772, 'hont': 3549, 'sheffield': 6212, 'categories': 1714, 'ethnicity': 2680, 'census': 1735, 'transcribing': 7174, 'wknd': 7730, 'quote': 5679, 'wah': 7510, 't91': 6821, 'gbp': 3120, '09057039994': 158, '420': 492, 'bathroom': 1251, 'orh': 5132, 'reserve': 5868, 'thirunelvali': 7006, 'evei': 2689, 'netno': 4867, 'availablei': 1162, 'tackle': 6827, 'kall': 3975, 'bestcongrats': 1328, 'dictionary': 2349, '3cover': 456, 'screen': 6096, '4press': 529, '5gently': 562, 'httpwwwwtlpcouktext': 3608, 'resubbing': 5892, 'neshanthtel': 4862, 'ssi': 6563, 'thinl': 7005, 'sachinjust': 6010, 'tomorro': 7115, 'term': 6925, 'passion': 5238, '09099726481': 233, 'dena': 2293, '£1minmobsmorelkpobox177hp51fl': 8005, '250': 371, 'british': 1518, 'hotels': 3574, '02072069400': 10, 'bx': 1593, '526': 551, 'sw73ss': 6788, 'alcohol': 917, 'varaya': 7413, 'elaya': 2602, 'panties': 5201, 'hack': 3343, 'backdoor': 1206, '121': 269, 'fraction': 2999, 'neo69': 4860, '09050280520': 155, 'subscribe': 6710, 'dps': 2479, 'bcm': 1265, '8027': 651, 'lara': 4124, '5226': 549, '350': 447, 'hava': 3406, '1131': 260, '447801259231': 500, '09058094597': 167, 'lovin': 4349, 'spjanuary': 6525, '09050000928': 149, 'pouch': 5478, 'reboot': 5759, '515pm': 548, 'taunton': 6870, 'path': 5246, 'appear': 1034, 'front': 3054, 'paths': 5248, 'payed': 5259, 'suganya': 6734, 'plm': 5399, 'supervisor': 6759, 'msgsometext': 4751, 'sthis': 6621, 'increase': 3724, 'winning': 7701, 'jack': 3863, 'sayask': 6066, 'helpful': 3455, 'pretend': 5536, 'hypotheticalhuagauahahuagahyuhagga': 3647, 'tallahassee': 6853, 'names': 4812, 'name1': 4808, 'name2': 4809, 'mobno': 4671, 'adam': 821, '07123456789': 23, 'txtno': 7261, 'ads': 844, 'dumb': 2532, 'drinking': 2500, 'bluff': 1412, 'soz': 6484, 'imat': 3693, '2moro': 403, 'vivek': 7475, 'ay': 1186, 'satü': 6056, 'wkg': 7728, 'subs': 6709, 'expired': 2747, 'resub': 5891, 'monoc': 4698, 'monos': 4699, 'polyc': 5433, 'stream': 6658, '0871212025016': 87, 'gravel': 3273, '69888': 598, '31pmsg150p': 442, 'disappeared': 2387, 'inner': 3755, 'tigress': 7049, 'showers': 6264, 'possessiveness': 5463, 'poured': 5481, 'lies': 4208, 'golden': 3216, 'btw': 1547, '08712103738': 86, 'rounderso': 5967, 'required': 5861, 'ability': 766, '09063458130': 191, 'polyph': 5435, 'suffering': 6731, 'dysentry': 2543, 'smith': 6387, 'gayle': 3116, 'range': 5710, 'interfued': 3781, 'styles': 6699, 'nationwide': 4826, 'newport': 4879, '101mega': 247, 'pixels': 5368, '3optical': 468, '5digital': 558, 'dooms': 2458, 'millers': 4602, 'pongaldo': 5439, 'hvae': 3642, '09061701444': 177, '24': 365, 'acl03530150pm': 802, 'regarding': 5805, 'commit': 1948, 'tip': 7064, 'boo': 1427, 'enjoyin': 2638, 'yourjob': 7954, 'seemed': 6127, 'hunnyhope': 3629, 'i\\x92llspeak': 3859, 'soonlots': 6456, 'loveme': 4343, 'woah': 7740, 'realising': 5743, 'tick': 7042, 'genus': 3146, 'begun': 1305, 'registration': 5809, 'permanent': 5293, 'residency': 5871, 'ccna': 1723, 'strict': 6665, 'teacher': 6887, 'conducts': 1982, 'pract': 5496, 'flung': 2938, 'deam': 2236, 'dads': 2171, 'humanities': 3621, 'sem': 6142, 'modules': 4678, 'ffffffffff': 2851, '449050000301': 503, '09050000301': 144, 'dose': 2464, 'tablet': 6825, 'proper': 5600, 'tongued': 7124, 'ploughing': 5400, 'pile': 5356, 'ironing': 3814, 'chinky': 1832, 'err': 2661, '8pm': 731, 'bare': 1230, 'dentist': 2298, 'stereo': 6613, 'mi': 4590, 'unknown': 7317, 'kkfrom': 4044, 'onwards': 5095, 'hmmmkbut': 3518, 'system': 6819, 'administrator': 833, 'goodnite': 3236, 'gailxx': 3088, 'kb': 3993, 'earliest': 2549, 'recorder': 5785, 'canname': 1658, 'australia': 1156, 'mquiz': 4737, 'bcaz': 1263, 'cannt': 1659, 'badrith': 1211, 'chennaii': 1800, 'usno': 7385, 'ow': 5172, 'deyi': 2336, '60400thousadi': 580, 'fix': 2907, 'ceiling': 1728, 'intrepid': 3788, 'duo': 2536, 'rightio': 5919, '1148': 262, 'breathing': 1503, 'neck': 4844, 'messaged': 4576, '09058091854': 159, 'revealed': 5904, 'box385': 1466, 'm6': 4398, '6wu': 612, 'jerry': 3903, 'irritates': 3816, 'fails': 2783, 'express': 2757, 'callin': 1632, 'babesozi': 1198, 'culdnt': 2136, 'talkbut': 6847, 'wannatell': 7540, 'wenwecan': 7631, 'corporation': 2041, 'compliments': 1968, 'tunde': 7234, 'coveragd': 2076, 'vasai': 7418, '4o': 528, '21': 356, 'whore': 7668, 'unbelievable': 7291, 'feathery': 2829, 'bowa': 1455, 'realise': 5741, '32000': 443, 'legitimat': 4175, 'efreefone': 2583, 'police': 5431, 'toilet': 7102, 'stolen': 6633, 'cops': 2038, 'pt2': 5620, '87575': 702, 'wenever': 7629, 'lik': 4221, 'goodmate': 3232, 'sary': 6046, 'asusual1': 1125, 'cheered': 1792, 'franyxxxxx': 3003, '1pm': 330, 'toshiba': 7149, 'portege': 5456, 'm100': 4393, 'chase': 1770, 'crossing': 2116, 'deary': 2248, 'physics': 5338, 'yagoing': 7889, 'webadres': 7590, 'geting': 3154, 'slip': 6361, 'watchin': 7562, 'lido': 4206, 'gobi': 3202, 'arts': 1094, 'someonethat': 6428, 'seperated鈥┾〨ud': 6159, 'pity': 5366, 'soany': 6411, 'suggestions': 6738, 'sen': 6144, 'finance': 2882, 'anna': 983, 'nagar': 4802, 'scratching': 6092, 'sbut': 6070, 'luck2': 4373, 'catches': 1712, 'missy': 4640, 'leading': 4160, 'bid': 1345, '151': 302, 'pause': 5255, '08718726270': 125, 'vat': 7419, 'headset': 3418, 'adp': 840, 'aldrine': 918, 'rakhesh': 5699, 'rtm': 5983, 'herepls': 3464, 'callurgent': 1642, 'checkmate': 1788, 'chess': 1803, 'persian': 5298, 'phrase': 5337, 'shah': 6190, 'maat': 4404, 'resend': 5865, '1month': 329, 'smartcall': 6376, '68866': 591, 'subscriptn3gbpwk': 6717, '08448714184': 58, 'stoptxt': 6646, 'landlineonly': 4114, 'idk': 3672, 'moved': 4729, 'butting': 1583, 'freedom': 3011, 'vs': 7494, 'friendofafriend': 3036, 'actual': 817, 'ffffuuuuuuu': 2852, 'hahahause': 3348, 'brain': 1484, 'starshine': 6587, 'sips': 6310, 'cappuccino': 1664, 'bishan': 1367, 'oooh': 5098, 'ridden': 5916, 'selling': 6140, 'paranoid': 5211, 'disconnected': 2393, 'sized': 6328, 'yoga': 7937, 'adjustable': 831, 'cooperative': 2035, 'allows': 938, 'workout': 7771, 'fats': 2817, 'blu': 1408, 'november': 4979, '09061104276': 171, 'cost£375max': 2056, 'unnecessarily': 7322, 'hostile': 3571, 'spice': 6515, 'audrie': 1149, 'autocorrect': 1158, 'hearin': 3425, 'gist': 3178, 'gotto': 3251, '08702840625': 73, 'comuk220cm2': 1975, 'neighbors': 4857, '087104711148': 84, 'nowadayslot': 4982, 'showroomscity': 6266, 'shaping': 6202, 'ultimately': 7285, 'tor': 7144, 'motive': 4723, 'tui': 7230, 'achieve': 800, 'korli': 4073, 'messagestext': 4582, 'nowuse': 4991, 'web2mobile': 7589, 'txt250com': 7255, 'box139': 1460, 'la32wu': 4094, 'txtx': 7263, 'rob': 5941, 'mack': 4410, 'gf': 3161, 'theater': 6974, 'meare': 4522, 'notified': 4972, 'marketing': 4473, '84122': 678, '08450542832': 60, 'tok': 7103, 'chikkusimple': 1818, 'habbahw': 3341, 'lifeis': 4211, 'daywith': 2225, 'thoughts': 7019, 'somewheresomeone': 6441, 'tosend': 7148, 'greeting': 3284, 'balloon': 1221, 'nighters': 4899, 'persevered': 5297, 'warned': 7550, 'sprint': 6553, 'kit': 4041, 'strip': 6668, '1013': 246, 'ig11': 3676, 'oja': 5061, 'outhave': 5155, 'smell': 6380, 'tobacco': 7090, 'loooooool': 4310, 'couch': 2057, 'celebration': 1733, 'rents': 5845, 'bigger': 1348, 'nohe': 4932, 'tops': 7143, 'studies': 6686, 'anyones': 1008, 'ashley': 1102, 'flaked': 2914, 'shits': 6235, 'hui': 3618, 'xin': 7873, '09050000332': 145, 'sun0819': 6749, 'helloyou': 3449, 'seem': 6126, 'ello': 2607, 'rub': 5985, 'avatar': 1165, 'subtoitles': 6720, 'accordin': 792, 'discussed': 2397, 'except': 2723, '69698': 595, 'improved': 3709, 'msgs150p': 4749, 'fwiw': 3082, 'afford': 861, 'indians': 3731, 'moyep': 4735, 'sall': 6028, 'hehe': 3440, 'shexy': 6218, 'record': 5783, 'refund': 5800, 'ref': 5792, 'r836': 5682, '£450': 8016, '09065069154': 202, 'kills': 4028, 'qet': 5655, 'jsco': 3946, '2channel': 389, 'leadership': 4159, 'skills': 6336, 'psychic': 5618, 'wquestion': 7799, 'annie': 984, 'didntgive': 2351, 'bellearlier': 1313, 'hunnyjust': 3630, 'bedbut': 1288, 'mite': 4646, 'thepub': 6986, 'uwana': 7396, 'uploads': 7346, 'jenxxx': 3899, 'math': 4494, 'gower': 3255, 'wales': 7524, '\\x91morrow': 7982, '\\x96': 7984, 'nowadays': 4981, 'notixiquating': 4973, 'laxinorficated': 4150, 'bambling': 1222, 'entropication': 2650, 'oblisingately': 5025, 'opted': 5115, 'masteriastering': 4487, 'amplikater': 968, 'fidalfication': 2855, 'champlaxigating': 1749, 'atrocious': 1133, 'wotz': 7792, 'junna': 3961, 'daplease': 2189, 'printer': 5554, 'groovy': 3291, 'groovying': 3292, 'level': 4197, 'crucify': 2119, 'kkits': 4048, 'goodwhen': 3241, 'tallent': 6854, 'wasting': 7558, 'smarter': 6377, '09061790126': 189, 'tagged': 6832, 'count': 2063, 'infra': 3748, 'yogasana': 7938, 'steam': 6607, 'suntec': 6755, 'steamboat': 6608, 'champ': 1748, 'glasgow': 3186, 'comei': 1936, 'punto': 5633, 'dinnermsg': 2375, 'therell': 6988, 'shindig': 6224, 'avoid': 1172, 'missunderstding': 4639, 'beloved': 1318, 'signing': 6292, 'science': 6080, 'chocolate': 1837, 'melt': 4548, 'sunlight': 6751, 'bcozi': 1269, 'nothis': 4969, 'groundamla': 3293, 'pansy': 5199, 'jungle': 3960, 'version': 7432, 'stil': 6625, 'fucked': 3060, 'tobed': 7091, '430': 495, 'accomodations': 791, 'cave': 1718, 'offered': 5038, 'embarassing': 2614, 'accessible': 785, '08709501522': 82, '139': 279, 'la3': 4093, '2wu': 426, '£150week': 8002, 'vldo': 7477, 'adsense': 845, 'approved': 1047, 'worms': 7778, 'specify': 6504, 'domain': 2447, 'nusstu': 5006, 'miiiiiiissssssssss': 4597, 'nimbomsons': 4908, 'rebtel': 5761, 'firefox': 2899, 'lower': 4355, 'display': 2401, 'rearrange': 5752, 'letters': 4195, 'gives': 3181, 'dormitory': 2462, 'astronomer': 1124, 'starer': 6584, 'election': 2604, 'recount': 5787, 'motherinlaw': 4720, 'hitler': 3505, 'eleven': 2606, 'twelve': 7246, 'perpetual': 5296, 'dd': 2226, 'callingforgot': 1634, 'onam': 5083, 'sirjii': 6313, 'personmeet': 5303, 'insha': 3764, 'allahrakhesh': 934, 'tata': 6866, 'aig': 898, 'tisscotayseer': 7072, '5p': 568, 'recieve': 5779, 'channel': 1756, 'teletext': 6906, 'pg': 5315, 'kay': 3991, 'yesgauti': 7923, 'sehwag': 6131, 'odi': 5034, 'lodging': 4283, 'uworld': 7397, 'qbank': 5654, 'assessment': 1115, 'likely': 4224, 'mittelschmertz': 4648, 'paracetamol': 5207, 'ikea': 3681, 'spelled': 6510, 'caps': 1665, 'among': 963, 'mess': 4574, 'bullshit': 1563, 'hanks': 3375, 'lotsly': 4328, 'shy': 6277, '09058091870': 160, 'm26': 4396, '3uz': 476, 'weirdo': 7616, 'woo': 7754, 'hoo': 3550, 'teethif': 6902, 'asapok': 1099, 'hppnss': 3593, 'sorrow': 6461, 'goodfriend': 3230, 'stubborn': 6679, 'sucker': 6724, 'hospitals': 3568, 'suckers': 6725, 'fans': 2801, '0870141701216': 69, 'norm': 4956, '4txt120p': 534, 'bbq': 1260, '6ish': 606, '09058094455': 162, 'jurong': 3962, 'amore': 965, '09096102316': 229, '88039': 703, 'skilgme': 6333, 'tscs087147403231winawkage16': 7220, '£150perwksub': 8000, 'seat': 6106, 'kdo': 3995, 'daurgent': 2211, 'impatient': 3700, 'belligerent': 1314, 'splash': 6528, 'dessert': 2320, 'warner': 7551, 'village': 7458, '83118': 669, 'colin': 1917, 'farrell': 2807, 'swat': 6793, 'popcornjust': 5449, 'msgticketkioskvalid': 4752, '4712': 512, 'kiosk': 4037, 'mre': 4739, 'numberpls': 5001, 'idconvey': 3665, 'achanammarakheshqatar': 798, 'taught': 6869, 'becaus': 1282, 'verifying': 7431, 'prabu': 5495, 'connect': 1994, 'waheed': 7512, 'fathima': 2816, '150pmeg': 289, 'roww1j6hl': 5971, 'reverse': 5905, 'cheating': 1782, 'mathematics': 4495, 'solve': 6423, '1his': 325, '2police': 415, 'questioned': 5666, '3wife': 477, 'siri': 6312, '4cook': 518, '5gardener': 561, 'vegetables': 7424, '6housemaid': 604, '7children': 633, '8neighbour': 729, 'sections': 6117, 'clearer': 1871, '£1million': 8004, 'ppt150x3normal': 5492, 'box403': 1468, 'w1t1jy': 7501, '0870737910216yrs': 77, '£150wk': 8003, 'tiring': 7067, 'concentrating': 1977, 'howre': 3586, 'throwing': 7029, 'deciding': 2255, 'cashto': 1704, '08000407165': 42, 'getstop': 3157, '88222': 707, 'php': 5336, 'wedding': 7596, 'kkwhere': 4051, 'youhow': 7947, 'performed': 5288, 'plumbers': 5404, 'wrench': 7802, 'borrow': 1443, 'arestaurant': 1065, 'squid': 6560, '1030': 248, 'dosomething': 2465, 'wall': 7529, '08712402779': 94, 'fujitsu': 3065, 'ibm': 3653, 'hp': 3591, 'kicks': 4020, 'yalru': 7893, 'lyfu': 4390, 'astne': 1122, 'innu': 3758, 'mundhe': 4777, 'lyf': 4389, 'ali': 927, 'halla': 3358, 'ke': 3996, 'bilo': 1356, 'marriageprogram': 4477, 'edhae': 2572, 'ovr': 5169, 'chikkuali': 1813, 'vargu': 7414, 'meow': 4565, 'meowd': 4566, 'velachery': 7425, 'natalie': 4823, '20f': 352, 'yes165': 7917, 'no165': 4920, 'wwwsmsacunatalie2k9': 7855, 'chikkugoing': 1816, 'nordstrom': 4955, 'qi': 5656, 'suddenly': 6728, 'holy': 3536, 'werent': 7634, 'heygreat': 3479, 'dealfarm': 2233, '9am': 745, '95pax': 742, 'deposit': 2305, 'sq825': 6558, 'arrival': 1089, 'interest': 3778, 'figuring': 2868, 'favorite': 2824, 'oyster': 5177, 'sashimi': 6047, 'stomach': 6634, 'rumbling': 5994, 'outbid': 5150, 'simonwatson5120': 6298, 'shinco': 6223, 'plyr': 5408, 'acsmsrewards': 806, 'notifications': 4971, 'needle': 4850, 'meetitz': 4537, '4few': 521, 'conected': 1983, '9t': 750, 'checkup': 1789, 'aka': 911, 'pap': 5202, 'smear': 6379, 'attention': 1138, 'spreadsheet': 6549, 'whose': 7670, 'determine': 2324, 'entire': 2646, 'mirror': 4625, 'apeshit': 1023, 'swimming': 6805, 'jacuzzi': 3867, 'dismissial': 2400, 'joining': 3927, 'formallypls': 2979, 'prayingwill': 5510, 'delivered': 2285, 'sufficient': 6732, 'accidant': 786, 'tookplace': 7132, 'ghodbandar': 3162, 'slovely': 6368, 'thatnow': 6970, '80488biz': 653, '07xxxxxxxxx': 40, '020603': 7, '09066362231': 213, 'box97n7qp': 1474, 'excited': 2724, '7cfca1a': 632, '07090201529': 20, 'helens': 3443, 'princes': 5550, 'tb': 6876, 'garments': 3106, 'elections': 2605, 'restock': 5886, 'thanksgiving': 6960, 'scrounge': 6098, 'rhythm': 5912, 'establish': 2677, 'attractioni': 1140, 'meshe': 4572, 'thoughtsi': 7020, 'hershe': 3471, 'dreamlove': 2490, 'namemy': 4811, 'hermy': 3468, 'named': 4810, 'heri': 3466, 'herwill': 3472, 'sorrowsi': 6462, 'craziest': 2095, 'herlove': 3467, 'proove': 5599, 'planeti': 5380, 'praises': 5500, 'curry': 2147, 'makiing': 4439, 'sambarlife': 6034, 'thenwill': 6982, 'mei': 4541, 'lotwill': 4331, '07815296484': 34, '41782': 491, '181104': 313, 'lingo': 4240, 'women': 7746, 'instantly': 3771, '69969': 601, 'bcmsfwc1n3xx': 1267, 'lmaonice': 4271, 'free2day': 3010, 'georges': 3148, 'jordantxt': 3939, '89080': 717, 'celeb4': 1730, '0870241182716': 72, 'sometme': 6438, 'andrewsboy': 979, 'costing': 2052, 'offering': 5039, '09066368470': 217, 'shb': 6208, '7250': 617, 'chapel': 1757, 'frontierville': 3055, 'progress': 5585, 'continue': 2016, 'non': 4945, 'cantdo': 1661, 'anythingtomorrow': 1014, 'myparents': 4792, 'aretaking': 1066, 'outfor': 5153, 'katexxx': 3988, 'help08700469649': 3451, 'box420': 1469, 'virgins': 7466, '4fil': 522, 'sexual': 6178, '69911£150p': 600, 'peteis': 5309, 'leannewhat': 4163, 'several': 6175, 'cutting': 2160, 'ooh': 5097, '4got': 524, 'dancing': 2184, 'moseley': 4716, 'weds': 7599, 'bruv': 1537, '09053750005': 156, '310303': 440, '08718725756': 124, '140ppm': 282, 'billion': 1353, 'dan': 2180, 'reminded': 5833, 'tease': 6894, 'grave': 3272, 'saved': 6061, 'cme': 1894, 'hos': 3566, 'tables': 6824, 'occupied': 5029, 'armenia': 1079, 'swann': 6790, 'howard': 3583, 'abbey': 760, '09066660100': 222, '2309': 364, '“': 8036, 'harry': 3394, 'potter': 5477, 'phoenix': 5326, 'readers': 5735, 'inconsiderate': 3721, 'nag': 4801, 'recession': 5775, 'hence': 3461, 'genes': 3139, 'prakesh': 5503, 'beauty': 1280, 'hides': 3488, 'secrets': 6114, 'n8': 4797, 'clothes': 1886, 'jewelry': 3909, 'trips': 7198, 'related': 5814, 'trade': 7165, 'arul': 1096, 'adore': 838, 'bx526': 1596, 'wherres': 7660, 'needa': 4847, 'mcat': 4513, 'cameravideo': 1648, '£s': 8029, 'textsweekend': 6951, 'orno': 5135, 'handed': 3365, 'asda': 1100, 'counts': 2066, 'diwali': 2411, 'genius': 3140, 'consent': 2000, 'forms': 2983, 'forfeit': 2971, 'prescribed': 5524, 'morphine': 4715, 'spoiled': 6534, 'dave': 2212, '5000': 544, '09061743806': 182, 'box326': 1463, 'cw25wx': 2162, 'aptitude': 1054, 'comingdown': 1943, 'rang': 5709, 'l': 4086, 'guessin': 3319, 'membership': 4551, '£100000': 7990, 'jackpot': 3865, '81010': 657, 'wwwdbuknet': 7835, 'lccltd': 4154, '4403ldnw1a7rw18': 498, 'revision': 5907, 'fran': 3000, 'boyf': 1477, 'interviw': 3786, 'worriedx': 7780, 'value': 7409, 'absence': 773, 'connections': 1997, '46': 510, 'bull': 1562, 'floating': 2931, 'none': 4946, 'flat': 2918, '50s': 546, 'alot': 943, 'success': 6721, 'raise': 5693, '5terror': 570, '6cruel': 603, '7romantic': 637, '8lovable': 728, '9decent': 747, 'joker': 3929, 'prometazine': 5588, 'syrup': 6818, '5mls': 567, 'feed': 2834, 'yessura': 7928, 'tvlol': 7244, 'jaklin': 3870, 'buffy': 1557, 'randy': 5708, 'qlynnbv': 5658, 'help08700621170150p': 3452, 'posting': 5472, 'chennaibecause': 1799, 'themp': 6981, 'maaaan': 4402, '69888nyt': 599, 'drug': 2512, 'dealers': 2232, 'mandan': 4454, 'dereks': 2308, 'lt3': 4363, 'errors': 2663, 'correction': 2044, 'subscribers': 6714, 'gb': 3119, 'half8th': 3356, 'taj': 6836, 'lesser': 4189, 'known': 4063, 'facts': 2778, 'mumtaz': 4775, 'shahjahans': 6192, 'wifes': 7682, 'shahjahan': 6191, 'killed': 4026, 'mumtazs': 4776, 'arises': 1075, 'hari': 3391, 'ax': 1184, 'chinatown': 1829, 'porridge': 5453, 'claypot': 1865, 'rice': 5913, 'yam': 7894, 'fishhead': 2904, 'beehoon': 1293, 'nydc': 5014, 'resuming': 5897, 'minimum': 4615, 'reapply': 5751, 'prix': 5558, 'fineabsolutly': 2887, 'ahhh': 890, 'vaguely': 7401, 'stayin': 6600, 'rugby': 5988, 'colours': 1930, '241': 366, '3lions': 463, 'click': 1875, 'hep': 3463, 'immunisation': 3698, 'goldviking': 3217, '29m': 386, 'yes762': 7920, 'no762': 4923, 'wwwsmsacugoldviking': 7852, '07808': 31, 'xxxxxx': 7885, '08719899217': 141, '41685': 490, '071104': 22, 'nhs': 4887, 'mistakeu': 4644, 'bornplease': 1442, 'yor': 7940, '2b': 387, 'terminatedwe': 6926, 'inconvenience': 3722, 'conference': 1984, 'mw': 4790, 'tuth': 7241, 'ola': 5074, 'bids': 1346, 'arrange': 1086, 'restuwud': 5890, 'reliant': 5821, 'okcome': 5064, 'yeesh': 7908, 'ashwini': 1104, 'blanket': 1383, 'officewhats': 5047, 'mattermsg': 4499, 'nowi': 4984, 'hidden': 3486, 'pimples': 5358, 'appendix': 1035, 'chill': 1826, 'knickers': 4058, '01223585236': 3, 'nikiyu4net': 4907, '1appledayno': 321, '1tulsi': 335, 'leafdayno': 4162, '1lemondayno': 328, '1cup': 323, 'milkdayno': 4601, 'problms': 5571, 'litres': 4260, 'watrdayno': 7570, 'diseases': 2398, 'snd': 6403, 'paragon': 5209, 'fa': 2769, '21st': 361, '2005': 348, '87121': 699, 'questionstd': 5668, 'ratetcs': 5715, '08452810075over18s': 63, 'ksry': 4078, 'sivatats': 6325, 'schedule': 6077, 'flirting': 2930, 'bloke': 1395, 'chatting': 1778, 'fried': 3034, 'spares': 6491, 'looovvve': 4311, 'storming': 6651, 'phne': 5325, 'wt': 7816, 'margaret': 4469, 'girlfrnd': 3175, 'grahmbell': 3263, 'invnted': 3799, 'telphone': 6912, 'moralone': 4710, '4get': 523, 'h': 3339, 'powerful': 5485, 'weapon': 7581, 'occupy': 5030, 'nightswt': 4904, 'dreamstake': 2493, 'thread': 7023, 'wishlist': 7714, 'section': 6116, 'forums': 2987, 'nitro': 4914, 'bookshelf': 1434, 'fring': 3041, '09090204448': 225, 'minded': 4610, 'a£150': 1188, 'minapn': 4608, 'ls278bb': 4360, 'desparate': 2316, 'recorded': 5784, 'wwwtextcompcom': 7858, 'jumpers': 3958, 'hat': 3398, 'belt': 1319, 'cribbs': 2108, 'lounge': 4335, 'passes': 5237, '08704439680': 75, 'abstract': 775, 'allow': 936, 'grandmas': 3267, 'hungover': 3624, 'limited': 4230, 'uses': 7379, 'hyde': 3645, 'opps': 5113, 'tts': 7225, 'sdryb8i': 6100, 'dollar': 2443, 'oga': 5055, 'greatbye': 3280, 'ashleys': 1103, 'okey': 5066, 'dokey': 2442, 'swashbuckling': 6792, 'jb': 3890, 'upto': 7354, '9061100010': 736, 'wire3net': 7706, '1st4terms': 333, 'mobcudb': 4665, 'hottest': 3575, '89555': 720, 'textoperator': 6948, 'g696ga': 3085, 'kanji': 3981, 'attached': 1134, 'horse': 3565, 'ph': 5316, 'convenience': 2020, 'aaooooright': 757, 'famamus': 2794, '\\x93harry': 7983, 'maggi': 4424, 'mee': 4531, 'yun': 7964, 'ahthe': 895, 'ubi': 7273, 'tomorrowcall': 7117, '67441233': 590, 'ireneere': 3811, 'bus822656166382': 1575, 'cresubi': 2107, 'park6ph': 5222, '5wkg': 574, 'daysèn': 2222, 'rahul': 5689, 'dengra': 2294, 'avalarr': 1164, 'hollalater': 3534, 'shhhhh': 6219, 'distance': 2402, 'que': 5661, 'pases': 5233, 'un': 7289, 'buen': 1554, 'tiempo': 7045, 'hitechnical': 3504, 'supportproviding': 6765, 'assistance': 1117, 'wtf': 7818, 'wondar': 7747, 'flim': 2926, 'delhi': 2282, 'teaching': 6889, '2hrs': 399, 'khelate': 4014, 'kintu': 4036, 'opponenter': 5110, 'dhorte': 2339, 'lage': 4105, 'justify': 3964, 'ruining': 5990, 'darker': 2192, 'styling': 6700, 'protect': 5608, 'ethreats': 2681, 'sib': 6280, 'sensitive': 6153, 'passwordsatmsms': 5242, 'jokethet': 3931, 'skinny': 6337, 'lineyou': 4239, 'casting': 1707, 'dealer': 2231, 'lunsford': 4381, 'knocking': 4059, 'arty': 1095, 'collages': 1918, 'tryin': 7215, 'bruce': 1535, 'fowler': 2996, 'asia': 1105, 'temales': 6915, '09061743810': 183, '326': 444, 'hall': 3357, 'manage': 4448, 'hesitation': 3476, 'silently': 6295, 'intha': 3787, 'ponnungale': 5440, 'ipaditan': 3805, 'deartake': 2247, 'openings': 5105, 'upcharge': 7335, 'stink': 6628, 'purchases': 5636, 'w4': 7502, '5wq': 575, '89105': 718, 'films': 2875, 'misplaced': 4631, 'rayan': 5720, 'macleran': 4411, 'themobyo': 6980, 'yohere': 7939, 'kindly': 4033, 'documents': 2427, 'submitted': 6706, 'stapati': 6582, 'nooooooo': 4951, 'cable': 1604, 'outage': 5148, 'built': 1560, 'atlast': 1130, 'lonlines': 4302, 'lotz': 4332, 'memories': 4554, 'wnevr': 7737, 'fal': 2787, 'vth': 7495, 'fals': 2793, 'yen': 7912, 'madodu': 4419, 'nav': 4833, 'pretsorginta': 5537, 'nammanna': 4813, 'pretsovru': 5538, 'alwa': 952, 'phony': 5332, 'pai': 5186, 'seh': 6130, 'oi': 5058, 'ami': 959, 'parchi': 5212, 'kicchu': 4016, 'kaaj': 3970, 'korte': 4074, 'iccha': 3658, 'korche': 4072, 'tul': 7232, 'lovly': 4352, 'hip': 3498, 'zoom': 7979, 'obey': 5024, 'cashbincouk': 1701, 'wwwcashbincouk': 7832, 'biggest': 1349, 'tomocant': 7114, 'collecting': 1923, 'configure': 1986, 'pee': 5270, 'burns': 1571, 'propsd': 5605, 'gv': 3332, 'lv': 4387, 'lttrs': 4369, 'threw': 7025, 'thm': 7009, 'aproach': 1053, 'dt': 2520, 'truck': 7205, 'speeding': 6508, 'girld': 3174, 'ran': 5704, 'boost': 1435, 'thy': 7041, 'lived': 4263, 'happily': 3384, '2gthr': 398, 'evrydy': 2715, 'msgsd': 4750, 'photoshop': 5335, 'itnow': 3843, 'backwards': 1207, 'soo': 6452, 'weaknesses': 7580, 'exposes': 2756, 'pulls': 5629, 'wicked': 7673, 'callsmessagesmissed': 1638, 'breadstick': 1493, 'transport': 7179, 'priest': 5546, 'jiayin': 3913, 'quitting': 5674, 'least5times': 4166, 'wudnt': 7822, 'lotta': 4329, 'corvettes': 2047, 'burial': 1569, 'tex': 6938, 'mecause': 4525, 'werebored': 7633, 'okden': 5065, 'hunny': 3628, 'uin': 7279, 'satsound\\x92s': 6054, 'likeyour': 4226, 'gr8fun': 3259, 'updat': 7337, 'countinlots': 2064, 'xxxxx': 7884, '80182': 650, '08452810073': 62, 'cha': 1742, 'lil': 4227, 'beverage': 1335, 'vpist': 7491, 'beyond': 1338, 'bold2': 1423, 'tshirt': 7221, 'taste': 6863, 'drama': 2482, 'plsi': 5402, 'struggling': 6676, 'placeno': 5374, 'ego': 2592, 'necessity': 4843, 'gowait': 3254, 'reppurcussions': 5856, 'gokila': 3213, 'everywhere': 2705, 'tram': 7172, 'vic': 7439, '0871277810910pmin': 103, 'oral': 5121, 'prescription': 5526, 'importantly': 3703, 'parachute': 5208, 'trash': 7180, 'cumming': 2140, 'requirements': 5862, 'gs': 3303, 'ammo': 962, 'ak': 910, 'alertfrom': 920, 'jeri': 3901, 'stewartsize': 6619, '2kbsubject': 401, 'lowcost': 4354, 'prescripiton': 5525, 'drvgsto': 2518, '08714712379': 105, 'effects': 2581, 'control': 2019, 'gut': 3329, 'wrenching': 7803, 'confirmdeny': 1989, 'salespee': 6027, 'converted': 2022, 'tscs08714740323': 7219, '1winawk': 339, '£150perweeksub': 7999, 'smsing': 6396, 'animal': 981, 'reminding': 5835, 'adoring': 839, 'easter': 2559, 'choices': 1839, 'toss': 7150, 'coin': 1912, 'gudni8': 3314, 'auctionpunj': 1145, 'tiwary': 7076, 'lavender': 4148, 'knowyetunde': 4068, 'involve': 3800, 'imposed': 3704, 'eurodisinc': 2684, 'trav': 7181, 'acoentry41': 804, '186£150morefrmmob': 315, 'shracomorsglsuplt10': 6268, 'ls1': 4359, '3aj': 455, 'bootydelious': 1437, '32f': 445, 'yes434': 7918, 'no434': 4921, 'wwwsmsacubootydelious': 7851, 'foward': 2995, 'ruin': 5989, 'hmmmhow': 3517, 'gota': 3248, 'mising': 4630, 'bowls': 1457, 'crap': 2089, 'loans': 4276, 'coulda': 2060, 'hdd': 3412, 'casing': 1705, 'alibi': 929, 'cheetos': 1796, 'itxx': 3851, 'mondaynxt': 4690, 'completing': 1966, 'chik': 1811, '100s': 245, 'filth': 2876, 'saristar': 6045, 'e14': 2545, '9yt': 752, '08701752560': 71, '450p': 507, 'stop2': 6640, 'hanging': 3374, 'somewhr': 6442, 'crushes': 2122, 'karnan': 3986, 'effect': 2580, 'irritation': 3818, 'lock': 4281, 'keypad': 4010, 'peoples': 5281, 'happiest': 3383, 'characters': 1760, 'differences': 2360, 'spell': 6509, 'pubs': 5626, 'frankie': 3001, 'bennys': 1324, '08452810071': 61, 'miwa': 4649, 'consistently': 2004, 'practicum': 5499, 'links': 4242, 'ears': 2552, 'explicitly': 2753, 'nora': 4954, '5903': 557, '09064019788': 200, 'box42wr29c': 1470, 'itboth': 3832, 'upnot': 7347, 'muchxxlove': 4765, 'locaxx': 4280, 'wrc': 7800, 'rally': 5701, 'lucozade': 4376, 'le': 4157, '61200': 582, 'packs': 5183, 'lucozadecoukwrc': 4377, 'itcould': 3834, 'credited': 2103, '80488': 652, 'www80488biz': 7828, 'tamilnaduthen': 6855, 'adewale': 830, 'egbon': 2587, 'rich': 5914, 'postponed': 5473, 'stocked': 6631, 'apologetic': 1027, 'fallen': 2790, 'actin': 809, 'spoilt': 6535, 'badly': 1210, 'netflix': 4865, 'optin': 5117, 'bbc': 1255, 'charts': 1769, 'ajith': 909, 'bcum': 1270, 'property': 5602, 'childish': 1821, 'dusk': 2538, 'puzzles': 5650, 'exorcism': 2737, 'emily': 2618, 'incredible': 3725, 'blow': 1405, 'o2fwd': 5022, '18ptxt': 317, 'sight': 6288, 'maintain': 4434, 'cr': 2082, 'grr': 3300, 'pharmacy': 5319, 'lolnice': 4294, 'multiply': 4768, 'independently': 3728, 'decimal': 2256, 'division': 2409, 'push': 5641, 'showed': 6261, 'petey': 5311, 'whereare': 7655, 'friendsare': 3038, 'thekingshead': 6977, 'canlove': 1657, 'nic': 4889, 'manageable': 4449, 'wrk': 7806, 'lst': 4361, 'foned': 2953, 'chuck': 1849, 'laughing': 4143, 'tooo': 7135, 'seekers': 6124, 'yellow': 7911, 'misscall': 4633, 'frndz': 3049, '6missed': 607, 'marvel': 4481, 'ultimate': 7284, 'spiderman': 6517, 'spider': 6516, '83338': 672, '8ball': 725, 'wallpaper': 7531, 'brison': 1516, 'freemessage': 3014, 'jamsterget': 3875, 'frog': 3050, 'mad1': 4414, 'mad2': 4415, '88888': 714, 'gbpweek': 3124, 'sonathaya': 6445, 'soladha': 6420, 'nannys': 4816, 'madamregret': 4417, 'disturbancemight': 2405, 'dlf': 2416, 'premaricakindly': 5516, 'informedrgdsrakheshkerala': 3745, 'treadmill': 7185, 'ad': 820, 'craigslist': 2087, '£600': 8025, 'landmark': 4116, 'bob': 1419, 'barry': 1238, '83738': 675, 'meaningless': 4518, 'moments': 4686, 'repairs': 5846, 'followin': 2948, 'xafter': 7868, 'cst': 2125, 'chg': 1807, 'shorts': 6254, 'geelater': 3133, 'aust': 1155, '0776xxxxxxx': 27, '18yrs': 318, 'deduct': 2263, '54': 555, 'resubmit': 5893, 'expiry': 2750, 'alian': 928, 'secretly': 6113, 'fancies': 2799, '09065394514': 206, 'datebox1282essexcm61xn': 2204, '150pmin': 290, 'iron': 3813, 'splashmobile': 6529, 'subscrition': 6718, 'daysso': 2220, 'finalise': 2880, 'visitneed': 7471, 'december': 2252, '08002986906': 50, 'judgementali': 3951, 'fridays': 3032, 'inpersonation': 3761, 'flea': 2921, 'positions': 5459, 'kama': 3978, 'sutra': 6783, '07808247860': 32, '08719899229': 142, '40411': 486, '061104': 18, 'nachos': 4800, 'eta': 2678, 'tlk': 7079, 'eggpotato': 2589, 'ratio': 5717, 'tortilla': 7146, 'popping': 5451, 'ibuprofens': 3656, 'parentsi': 5217, 'luton': 4383, '0125698789': 5, 'dips': 2378, 'respond': 5878, 'btwn': 1548, 'legs': 4176, 'loneliness': 4298, 'chloe': 1836, '150ptext': 299, 'court': 2072, 'sonetimes': 6446, 'rough': 5965, 'ofcourse': 5035, 'songs': 6448, 'passthey': 5240, 'ntswt': 4995, 'drms': 2507, 'medont': 4529, 'lm': 4269, 'reassuring': 5757, 'everyso': 2702, 'panicks': 5197, 'kvb': 4084, 'hii': 3491, 'text82228': 6941, 'logos': 4291, 'wwwtxt82228com': 7861, 'infotxt82228couk': 3746, 'menu': 4563, 'hen': 3460, 'manky': 4460, 'scouse': 6089, 'stevelike': 6618, 'travelling': 7184, 'homewot': 3540, 'inmind': 3754, 'recreation': 5788, '09061743386': 181, 'shun': 6275, 'bian': 1344, 'glass': 3187, 'exhibition': 2734, 'taxt': 6872, 'massagetiepos': 4485, 'lool': 4309, 'denis': 2295, 'mina': 4607, 'weekdays': 7603, 'nails': 4805, 'lorwe': 4318, 'comedycant': 1935, 'oranges': 5123, 'upd8': 7336, 'pen': 5273, 'biro': 1363, 'sorting': 6469, 'narcotics': 4818, 'incomm': 3720, 'shant': 6201, 'jia': 3912, 'abi': 765, 'grasp': 3270, 'prominent': 5589, 'bite': 1371, 'cheek': 1790, 'chastity': 1772, 'device': 2331, 'beatings': 1277, '08701213186': 66, 'affidavit': 860, 'twiggs': 7248, 'courtroom': 2073, 'afternon': 867, 'interviews': 3785, 'ibored': 3655, 'crashing': 2092, '3pound': 469, 'staffsciencenusedusgphyhcmkteachingpc1323': 6570, 'wi': 7672, 'nz': 5019, 'arrow': 1091, 'x29': 7866, '09065989180': 207, 'horniest': 3561, 'follow': 2946, 'instructions': 3773, 'nytec2a3lpmsg150p': 5016, 'ball': 1219, 'moving': 4734, 'spin': 6520, 'httpwwwetlpcoukreward': 3606, 'building': 1559, 'slightly': 6360, 'ingredients': 3750, '02': 6, 'roads': 5938, 'slippery': 6363, '09066358361': 211, 'y87': 7887, 'watched': 7561, 'exp': 2739, '30apr': 436, 'fire': 2897, 'spark': 6492, 'flame': 2916, 'rawring': 5719, 'xoxo': 7875, 'tunji': 7235, 'call2optout4qf2': 1616, 'optimistic': 5116, 'taken': 6840, 'wetherspoons': 7643, '3miles': 465, 'amk': 960, 'fink': 2896, '09099726553': 234, 'promised': 5591, 'carlie': 1686, 'calls£1minmobsmore': 1639, 'lkpobox177hp51fl': 4268, 'chile': 1825, 'subletting': 6705, 'febapril': 2832, 'sexychat': 6180, 'surname': 6778, 'clue': 1892, 'begins': 1304, '09061749602': 186, '528': 552, 'hp20': 3592, '1yf': 341, 'pathaya': 5247, 'enketa': 2639, 'maraikara': 4466, 'evaporated': 2686, 'privacy': 5556, 'stealing': 6606, 'employers': 2620, 'paperwork': 5206, 'tall': 6852, 'gwr': 3334, '3680offer': 452, '28thfebtcs': 384, 'eggs': 2590, 'jam': 3871, 'hannaford': 3376, 'wheat': 7648, 'chex': 1805, 'anythings': 1013, 'forgiveness': 2975, 'fruit': 3056, 'lindsay': 4233, 'bars': 1239, 'ptbo': 5621, 'heron': 3470, 'cashed': 1702, 'announced': 986, 'blog': 1393, 'footy': 2964, 'stadium': 6568, 'large': 4126, 'cocacola': 1902, 'pisces': 5363, 'aquarius': 1055, 'healthy': 3422, 'bathing': 1250, 'networking': 4869, 'associate': 1118, 'flippin': 2928, 'yeh': 7909, 'kane': 3980, 'shud': 6272, '£125': 7992, 'freeentry': 3012, 'xt': 7876, 'julianaland': 3955, 'oblivious': 5026, 'upsetits': 7352, 'upset': 7350, 'win150ppmx3age16': 7691, 'taylor': 6873, 'walmart': 7534, 'mouse': 4726, 'desk': 2315, 'entertaining': 2645, 'hugh': 3615, 'laurie': 4146, 'stick': 6622, 'phasing': 5320, 'fourth': 2994, 'dimension': 2369, 'buyers': 1586, 'unsoldmike': 7328, 'hussey': 3640, 'typical': 7269, '85222': 686, 'nowtcs': 4990, 'winnersclub': 7700, '84': 676, 'gbp150week': 3121, 'philosophy': 5324, 'nte': 4994, '07732584351': 24, 'rodger': 5947, 'europe': 2685, '10th': 256, '09050000555': 147, 'ba128nnfwfly150ppm': 1195, 'onwords': 5096, 'mtnl': 4759, 'mumbai': 4770, 'bomb': 1424, 'wasted': 7557, 'chick': 1808, 'boobs': 1428, 'sorta': 6467, 'blown': 1407, 'individual': 3733, 'gong': 3223, 'kaypoh': 3992, 'blessget': 1388, 'deari': 2240, 'lastest': 4131, 'stereophonics': 6614, 'marley': 4475, 'dizzee': 2413, 'racal': 5683, 'libertines': 4202, 'strokes': 6671, 'nookii': 4949, 'flirt': 2929, 'bookmark': 1432, 'weightloss': 7613, '’': 8035, '£50': 8018, 'instant': 3770, '08715203028': 110, '9th': 751, '£50£500': 8022, '08718727870': 131, 'sweater': 6797, 'mango': 4458, 'size': 6327, 'problematic': 5566, 'definite': 2271, 'nos': 4962, 'dobby': 2420, 'defer': 2270, 'admission': 835, '0anetworks': 237, 'companies': 1952, 'responsible': 5883, 'suppliers': 6761, 'guarantee': 3309, 'command': 1945, 'univ': 7315, 'onit': 5090, 'payasam': 5257, 'rinu': 5930, 'threats': 7024, 'sales': 6025, 'shifad': 6220, 'raised': 5694, 'complaint': 1960, 'risk': 5932, '8830': 708, 'wld': 7733, 'nosh': 4963, 'splwat': 6533, 'whr': 7671, 'strangersaw': 6657, 'he\\x92s': 3480, 'nowstill': 4989, 'mrur': 4742, '2getha': 395, 'dr': 2480, 'apology': 1030, '08719899230': 143, 'haircut': 3352, 'breezy': 1505, 'japanese': 3882, 'proverb': 5610, 'itu': 3848, 'indian': 3730, 'itleave': 3840, 'ahnow': 893, 'wherebtw': 7656, 'nus': 5005, 'sc': 6071, 'specialise': 6501, 'wad': 7508, 'pressies': 5534, 'someplace': 6430, 'kkthis': 4049, 'kotees': 4075, 'hhahhaahahah': 3483, 'nig': 4895, 'leonardo': 4186, 'goodenvironment': 3227, 'terrific': 6930, 'view': 7450, 'gays': 3117, 'remembrs': 5830, 'everytime': 2704, 'maili': 4431, 'mailed': 4430, 'varma': 7416, 'membershiptake': 4552, 'careinsha': 1679, 'kkgoodstudy': 4045, 'lit': 4258, 'prince': 5548, 'charming': 1767, '8077': 655, 'fortune': 2985, 'secure': 6118, 'fakemy': 2785, 'reffering': 5796, 'uif': 7278, 'getiing': 3153, 'rsi': 5981, 'ortxt': 5137, 'prone': 5597, 'hidid': 3489, 'waheeda': 7513, 'toledo': 7107, 'datoday': 2208, 'tahan': 6833, 'anot': 990, 'lo': 4273, 'neft': 4854, 'beneficiary': 1322, 'inever': 3736, 'naal': 4799, 'eruku': 2665, 'tantrums': 6858, 'messagesome': 4581, 'sendername': 6147, 'sentdate': 6155, 'abj': 768, 'becausethey': 1283, '09058098002': 169, 'pobox1': 5414, 'w14rg': 7499, 'skallis': 6331, 'blastin': 1384, 'occur': 5031, 'rajnikant': 5698, 'stopped': 6644, 'oceand': 5033, 'resume': 5896, 'carso': 1695, 'spaces': 6487, 'embassy': 2616, 'dled': 2415, 'imp': 3699, 'footie': 2962, 'phil': 5323, 'neville': 4874, 'biola': 1359, 'siva': 6324, '0871277810710pmin': 101, 'efficient': 2582, 'sindu': 6304, 'walkabout': 7526, 'officially': 5049, 'sumfing': 6744, 'beads': 1274, 'swt': 6811, 'nver': 5009, 'cozsomtimes': 2079, 'hearts': 3431, '09058094594': 166, 'dull': 2531, 'textcomp': 6944, 'follows': 2950, 'subsequent': 6719, 'charged150pmsg2': 1763, '84128custcare': 680, 'imin': 3694, 'towndontmatter': 7162, 'urgoin': 7364, 'outl8rjust': 5156, 'reallyneed': 5749, '2docdplease': 392, 'dontplease': 2456, 'dontignore': 2455, 'mycallsu': 4791, 'thecd': 6976, 'isvimportant': 3830, 'tome': 7111, 'childporn': 1822, 'slots': 6367, 'shock': 6239, 'minus': 4620, 'paragraphs': 5210, '448712404000please': 502, '08712404000': 97, 'sells': 6141, 'rct': 5724, 'thnq': 7011, 'adrian': 842, 'rgds': 5910, 'vatian': 7420, '20m12aq': 353, 'darlings': 2197, '146tf150p': 284, 'dileepthank': 2368, 'muchand': 4762, 'supportvery': 6767, 'contacts': 2010, 'hereremember': 3465, 'venugopal': 7428, 'mentionedtomorrow': 4560, 'latei': 4134, 'theregoodnight': 6987, 'nervous': 4861, 'fired': 2898, 'poorly': 5446, 'punishment': 5632, 'worst': 7787, 'brb': 1490, 'kill': 4025, 'shitload': 6234, 'diamonds': 2344, 'hsbc': 3597, 'atyour': 1143, '200': 344, '8000930705': 643, 'goodmorningmy': 3234, 'grandfather': 3266, 'expiredso': 2748, 'consider': 2002, 'excused': 2727, 'waited': 7517, 'develop': 2328, 'cozy': 2080, 'nightnobody': 4900, 'wheellock': 7650, '1stchoicecouk': 334, '08707808226': 79, 'sleepwellamptake': 6354, '2yrs': 428, 'messenger': 4585, 'rv': 6003, 'roadsrvx': 5939, '08718738002': 137, '48922': 515, '211104': 357, 'hire': 3500, 'hitman': 3506, 'grumpy': 3302, 'lying': 4391, 'stu': 6678, '2im': 400, 'truble': 7204, 'evone': 2711, 'hates': 3400, 'bck': 1264, 'spirit': 6523, 'lakhs': 4108, 'salt': 6031, 'wounds': 7797, 'witin': 7720, 'anythiing': 1010, 'prashanthettans': 5506, 'passed': 5236, 'certainly': 1740, 'puts': 5646, 'perspective': 5305, 'continent': 2015, 'coolmob': 2034, 'frogaxel': 3051, 'akonlonely': 912, 'eyeddont': 2765, 'answered': 995, 'crashed': 2091, 'cuddled': 2134, '88877free': 713, '88877': 712, 'posh': 5457, 'chaps': 1758, 'trial': 7194, 'prods': 5577, 'champneys': 1750, 'dob': 2419, '09061702893': 180, 'entrepreneurs': 2649, 'rip': 5931, 'uterus': 7390, 'ssnervous': 6565, '449month': 504, 'bundle': 1565, 'deals': 2235, 'avble': 1166, 'call2optoutj': 1619, 'mf': 4589, 'clover': 1888, 'everyones': 2701, 'babysitting': 1204, 'gyno': 3338, 'belong': 1316, 'obedient': 5023, 'ringtoneking': 5927, '84484': 682, 'cartons': 1696, 'shelves': 6214, 'k718': 3969, '09065069120': 201, 'raviyog': 5718, 'peripherals': 5292, 'bhayandar': 1343, 'east': 2557, 'prizeto': 5562, 'gooddhanush': 3226, 'rocks': 5945, 'dado': 2170, 'referin': 5795, 'meis': 4543, 'liaoso': 4199, 'monster': 4700, 'sparkling': 6493, 'breaks': 1499, '45': 505, '0121': 2, '2025050': 351, 'wwwshortbreaksorguk': 7850, 'boye': 1476, 'faded': 2779, 'glory': 3189, 'ralphs': 5702, 'yeahand': 7905, 'newquaysend': 4880, 'goneu': 3222, '1im': 327, 'talkin': 6849, 'boutxx': 1454, 'faglord': 2781, 'evo': 2710, 'telugu': 6913, 'moviewat': 4733, 'httpalto18coukwavewaveaspo44345': 3598, '09058094507': 163, 'kalainar': 3974, 'officethenampet': 5045, 'awkward': 1181, 'thgt': 6995, 'clash': 1862, 'esaplanade': 2669, 'disappointment': 2388, 'sh': 6186, 'readyall': 5738, 'fredericksburg': 3008, 'heavily': 3435, 'creep': 2105, 'ilol': 3688, 'personally': 5302, 'wuldnt': 7824, 'shjas': 6237, 'shattered': 6206, '08715203694': 114, 'tai': 6834, 'feng': 2846, 'reservations': 5867, 'wellyou': 7625, 'lifeyou': 4214, 'convinced': 2027, 'thati': 6968, 'conversations': 2021, 'usget': 7381, 'timeyour': 7059, 'sensesrespect': 6152, 'overemphasiseor': 5166, 'dirt': 2382, 'windows': 7694, 'mouth': 4727, 'chores': 1844, 'exist': 2735, 'hail': 3350, 'mist': 4641, 'janx': 3880, 'tank': 6857, 'freemsgfeelin': 3017, 'lnly': 4272, 'pictxt': 5349, 'designation': 2313, 'developer': 2330, 'monkeys': 4696, 'mineall': 4613, 'annoyin': 988, 'yummmm': 7962, 'xxxmobilemovieclub': 7881, 'httpwap': 3603, 'xxxmobilemovieclubcomnqjkgighjjgcbl': 7882, 'devouring': 2333, 'jade': 3869, 'paul': 5254, 'barmed': 1234, 'becz': 1286, 'undrstndng': 7304, 'avoids': 1173, 'chain': 1745, 'suffer': 6730, 'dagood': 2172, 'murali': 4779, 'jp': 3944, 'mofo': 4679, '645': 587, 'ambitious': 957, 'plenty': 5398, 'famous': 2796, 'unconditionally': 7295, 'temper': 6917, 'indyarockscom': 3735, 'phonebook': 5329, 'harder': 3389, 'nbme': 4836, '5i\\x92m': 564, 'dreading': 2488, 'thou': 7016, 'internal': 3782, 'extract': 2762, 'goods': 3240, 'gauge': 3111, 'pattys': 5253, 'voted': 7488, 'cedar': 1727, 'godyou': 3208, 'immed': 3696, 'sfirst': 6184, 'timedhoni': 7055, '09061743811': 184, 'sooo': 6457, 'caveboy': 1719, 'lacking': 4097, 'particular': 5228, 'dramastorms': 2483, 'brownie': 1531, 'pleasured': 5397, 'banneduk': 1227, 'bcums': 1271, 'affection': 858, 'kettoda': 4008, 'manda': 4453, 'bognor': 1421, 'splendid': 6531, 'covers': 2077, 'trends': 7193, 'pros': 5606, 'cons': 1998, 'brief': 1507, 'description': 2310, 'nuclear': 4998, 'fusion': 3079, 'iter': 3836, 'jet': 3907, 'dehydrated': 2276, 'officer': 5043, 'vill': 7456, 'parco': 5213, 'nb': 4835, 'orc': 5124, 'eviction': 2706, 'spiral': 6522, 'michael': 4591, 'riddance': 5915, 'northampton': 4961, 'skyving': 6343, 'kkyesterday': 4053, 'arr': 1085, 'oscar': 5139, 'assumed': 1120, 'ceri': 1739, 'rebel': 5758, 'dreamz': 2495, 'buddy': 1551, 'recdthirtyeight': 5764}\n"
     ]
    }
   ],
   "source": [
    "print(bow.vocabulary_)"
   ]
  },
  {
   "cell_type": "code",
   "execution_count": 85,
   "metadata": {},
   "outputs": [],
   "source": [
    "from sklearn.feature_extraction.text import TfidfTransformer\n",
    "#TF - term frequency i.e frequency of the word in 1 document. document with 100 words \n",
    "#and the word cuddle is occurring 2 times in this document, then the tf for cuddle will be 2/100\n",
    "#if a word is high tf in a document, then it's an important term for the document\n",
    "\n",
    "#IDF - inverse document frequency\n",
    "#importance of a word is inversely proportional to the document frequency of the word\n",
    "#we have 10 mn documents and the word cuddle is occurring in 1000 of these \n",
    "#IDF = log(10000000/1000)= log(10^4) = 4. TF-IDF value for cuddle will be .02*4 = .08\n",
    "#A word that is having high document frequency is less important word for this document"
   ]
  },
  {
   "cell_type": "code",
   "execution_count": 86,
   "metadata": {},
   "outputs": [],
   "source": [
    "tfidf_transformer = TfidfTransformer()"
   ]
  },
  {
   "cell_type": "code",
   "execution_count": 87,
   "metadata": {},
   "outputs": [
    {
     "data": {
      "text/plain": [
       "TfidfTransformer(norm='l2', smooth_idf=True, sublinear_tf=False, use_idf=True)"
      ]
     },
     "execution_count": 87,
     "metadata": {},
     "output_type": "execute_result"
    }
   ],
   "source": [
    "tfidf_transformer.fit(msg_bows)"
   ]
  },
  {
   "cell_type": "code",
   "execution_count": 88,
   "metadata": {},
   "outputs": [],
   "source": [
    "msg_tfidf = tfidf_transformer.transform(msg_bows)"
   ]
  },
  {
   "cell_type": "code",
   "execution_count": 89,
   "metadata": {},
   "outputs": [
    {
     "data": {
      "text/plain": [
       "<4179x8039 sparse matrix of type '<class 'numpy.float64'>'\n",
       "\twith 37410 stored elements in Compressed Sparse Row format>"
      ]
     },
     "execution_count": 89,
     "metadata": {},
     "output_type": "execute_result"
    }
   ],
   "source": [
    "msg_tfidf"
   ]
  },
  {
   "cell_type": "code",
   "execution_count": 90,
   "metadata": {},
   "outputs": [
    {
     "data": {
      "text/plain": [
       "array([[0., 0., 0., ..., 0., 0., 0.],\n",
       "       [0., 0., 0., ..., 0., 0., 0.],\n",
       "       [0., 0., 0., ..., 0., 0., 0.],\n",
       "       ...,\n",
       "       [0., 0., 0., ..., 0., 0., 0.],\n",
       "       [0., 0., 0., ..., 0., 0., 0.],\n",
       "       [0., 0., 0., ..., 0., 0., 0.]])"
      ]
     },
     "execution_count": 90,
     "metadata": {},
     "output_type": "execute_result"
    }
   ],
   "source": [
    "msg_tfidf.toarray()"
   ]
  },
  {
   "cell_type": "code",
   "execution_count": 91,
   "metadata": {},
   "outputs": [
    {
     "data": {
      "text/plain": [
       "[0.23502419172042344,\n",
       " 0.23502419172042344,\n",
       " 0.23502419172042344,\n",
       " 0.11424951049814934,\n",
       " 0.4700483834408469,\n",
       " 0.09553068668333459,\n",
       " 0.16260188501278572,\n",
       " 0.19108416362740754,\n",
       " 0.20704678013728234,\n",
       " 0.19548119501906472,\n",
       " 0.16414411155016775,\n",
       " 0.18911619422196188,\n",
       " 0.21085566197808692,\n",
       " 0.18727528178660297,\n",
       " 0.22045327769085887,\n",
       " 0.22045327769085887,\n",
       " 0.1266541044144313,\n",
       " 0.23502419172042344,\n",
       " 0.13471845783961892,\n",
       " 0.12773880707248136,\n",
       " 0.22681827848796168,\n",
       " 0.14773228508524425,\n",
       " 0.1693446958712825]"
      ]
     },
     "execution_count": 91,
     "metadata": {},
     "output_type": "execute_result"
    }
   ],
   "source": [
    "[msg_tfidf[3,i] for i in range(msg_tfidf.shape[1]) if msg_tfidf[3,i]!=0]"
   ]
  },
  {
   "cell_type": "code",
   "execution_count": 92,
   "metadata": {},
   "outputs": [],
   "source": [
    "from sklearn.naive_bayes import MultinomialNB"
   ]
  },
  {
   "cell_type": "code",
   "execution_count": 94,
   "metadata": {},
   "outputs": [],
   "source": [
    "X_train = msg_tfidf\n",
    "nb = MultinomialNB()"
   ]
  },
  {
   "cell_type": "code",
   "execution_count": 95,
   "metadata": {},
   "outputs": [
    {
     "data": {
      "text/plain": [
       "MultinomialNB(alpha=1.0, class_prior=None, fit_prior=True)"
      ]
     },
     "execution_count": 95,
     "metadata": {},
     "output_type": "execute_result"
    }
   ],
   "source": [
    "nb.fit(X_train, y_train)"
   ]
  },
  {
   "cell_type": "code",
   "execution_count": 96,
   "metadata": {},
   "outputs": [
    {
     "data": {
      "text/plain": [
       "0.9767887054319215"
      ]
     },
     "execution_count": 96,
     "metadata": {},
     "output_type": "execute_result"
    }
   ],
   "source": [
    "nb.score(X_train,y_train)"
   ]
  },
  {
   "cell_type": "code",
   "execution_count": 97,
   "metadata": {},
   "outputs": [
    {
     "data": {
      "text/html": [
       "<div>\n",
       "<style scoped>\n",
       "    .dataframe tbody tr th:only-of-type {\n",
       "        vertical-align: middle;\n",
       "    }\n",
       "\n",
       "    .dataframe tbody tr th {\n",
       "        vertical-align: top;\n",
       "    }\n",
       "\n",
       "    .dataframe thead th {\n",
       "        text-align: right;\n",
       "    }\n",
       "</style>\n",
       "<table border=\"1\" class=\"dataframe\">\n",
       "  <thead>\n",
       "    <tr style=\"text-align: right;\">\n",
       "      <th></th>\n",
       "      <th>message</th>\n",
       "    </tr>\n",
       "  </thead>\n",
       "  <tbody>\n",
       "    <tr>\n",
       "      <th>1078</th>\n",
       "      <td>Yep, by the pretty sculpture</td>\n",
       "    </tr>\n",
       "    <tr>\n",
       "      <th>4028</th>\n",
       "      <td>Yes, princess. Are you going to make me moan?</td>\n",
       "    </tr>\n",
       "    <tr>\n",
       "      <th>958</th>\n",
       "      <td>Welp apparently he retired</td>\n",
       "    </tr>\n",
       "  </tbody>\n",
       "</table>\n",
       "</div>"
      ],
      "text/plain": [
       "                                            message\n",
       "1078                   Yep, by the pretty sculpture\n",
       "4028  Yes, princess. Are you going to make me moan?\n",
       "958                      Welp apparently he retired"
      ]
     },
     "execution_count": 97,
     "metadata": {},
     "output_type": "execute_result"
    }
   ],
   "source": [
    "X_test.head(3)"
   ]
  },
  {
   "cell_type": "code",
   "execution_count": 99,
   "metadata": {},
   "outputs": [
    {
     "data": {
      "text/plain": [
       "<1393x8039 sparse matrix of type '<class 'numpy.int64'>'\n",
       "\twith 11215 stored elements in Compressed Sparse Row format>"
      ]
     },
     "execution_count": 99,
     "metadata": {},
     "output_type": "execute_result"
    }
   ],
   "source": [
    "msg_bows_test = bow.transform(X_test.message)\n"
   ]
  },
  {
   "cell_type": "code",
   "execution_count": 100,
   "metadata": {},
   "outputs": [
    {
     "data": {
      "text/plain": [
       "[1]"
      ]
     },
     "execution_count": 100,
     "metadata": {},
     "output_type": "execute_result"
    }
   ],
   "source": [
    "[msg_bows_test[3,i] for i in range(msg_bows_test.shape[1]) if msg_bows_test[3,i]!=0]"
   ]
  },
  {
   "cell_type": "code",
   "execution_count": 102,
   "metadata": {},
   "outputs": [],
   "source": [
    "msg_tfidf_test = tfidf_transformer.transform(msg_bows_test)"
   ]
  },
  {
   "cell_type": "code",
   "execution_count": 104,
   "metadata": {},
   "outputs": [
    {
     "data": {
      "text/plain": [
       "[0.6769848905648173, 0.7359969143596613]"
      ]
     },
     "execution_count": 104,
     "metadata": {},
     "output_type": "execute_result"
    }
   ],
   "source": [
    "[msg_tfidf_test[2,i] for i in range(msg_tfidf_test.shape[1]) if msg_tfidf_test[2,i]!=0]"
   ]
  },
  {
   "cell_type": "code",
   "execution_count": 106,
   "metadata": {},
   "outputs": [
    {
     "data": {
      "text/plain": [
       "array(['ham', 'ham', 'ham', ..., 'ham', 'ham', 'ham'], dtype='<U4')"
      ]
     },
     "execution_count": 106,
     "metadata": {},
     "output_type": "execute_result"
    }
   ],
   "source": [
    "y_pred_class = nb.predict(msg_tfidf_test)\n",
    "y_pred_class"
   ]
  },
  {
   "cell_type": "code",
   "execution_count": 107,
   "metadata": {},
   "outputs": [],
   "source": [
    "X_test = msg_bows_test"
   ]
  },
  {
   "cell_type": "code",
   "execution_count": 108,
   "metadata": {},
   "outputs": [
    {
     "data": {
      "text/plain": [
       "0.9619526202440776"
      ]
     },
     "execution_count": 108,
     "metadata": {},
     "output_type": "execute_result"
    }
   ],
   "source": [
    "from sklearn.metrics import accuracy_score\n",
    "accuracy_score(y_test, y_pred_class)"
   ]
  },
  {
   "cell_type": "code",
   "execution_count": null,
   "metadata": {},
   "outputs": [],
   "source": []
  },
  {
   "cell_type": "code",
   "execution_count": null,
   "metadata": {},
   "outputs": [],
   "source": []
  }
 ],
 "metadata": {
  "kernelspec": {
   "display_name": "Python 3",
   "language": "python",
   "name": "python3"
  },
  "language_info": {
   "codemirror_mode": {
    "name": "ipython",
    "version": 3
   },
   "file_extension": ".py",
   "mimetype": "text/x-python",
   "name": "python",
   "nbconvert_exporter": "python",
   "pygments_lexer": "ipython3",
   "version": "3.6.8"
  }
 },
 "nbformat": 4,
 "nbformat_minor": 2
}
