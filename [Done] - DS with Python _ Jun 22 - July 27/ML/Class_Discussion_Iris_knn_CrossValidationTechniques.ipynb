{
 "cells": [
  {
   "cell_type": "code",
   "execution_count": 40,
   "metadata": {},
   "outputs": [],
   "source": [
    "import pandas as pd\n",
    "import numpy as np\n",
    "import warnings\n",
    "warnings.filterwarnings(action = \"ignore\")"
   ]
  },
  {
   "cell_type": "code",
   "execution_count": 41,
   "metadata": {},
   "outputs": [],
   "source": [
    "location = r\"C:\\Users\\Vaibhav\\Desktop\\BA\\Datasets\\iris.csv\""
   ]
  },
  {
   "cell_type": "code",
   "execution_count": 42,
   "metadata": {
    "scrolled": true
   },
   "outputs": [
    {
     "data": {
      "text/html": [
       "<div>\n",
       "<style scoped>\n",
       "    .dataframe tbody tr th:only-of-type {\n",
       "        vertical-align: middle;\n",
       "    }\n",
       "\n",
       "    .dataframe tbody tr th {\n",
       "        vertical-align: top;\n",
       "    }\n",
       "\n",
       "    .dataframe thead th {\n",
       "        text-align: right;\n",
       "    }\n",
       "</style>\n",
       "<table border=\"1\" class=\"dataframe\">\n",
       "  <thead>\n",
       "    <tr style=\"text-align: right;\">\n",
       "      <th></th>\n",
       "      <th>Unnamed: 0</th>\n",
       "      <th>Species</th>\n",
       "      <th>sepal length (cm)</th>\n",
       "      <th>sepal width (cm)</th>\n",
       "      <th>petal length (cm)</th>\n",
       "      <th>petal width (cm)</th>\n",
       "    </tr>\n",
       "  </thead>\n",
       "  <tbody>\n",
       "    <tr>\n",
       "      <th>0</th>\n",
       "      <td>0</td>\n",
       "      <td>0.0</td>\n",
       "      <td>5.1</td>\n",
       "      <td>3.5</td>\n",
       "      <td>1.4</td>\n",
       "      <td>0.2</td>\n",
       "    </tr>\n",
       "    <tr>\n",
       "      <th>1</th>\n",
       "      <td>1</td>\n",
       "      <td>0.0</td>\n",
       "      <td>4.9</td>\n",
       "      <td>3.0</td>\n",
       "      <td>1.4</td>\n",
       "      <td>0.2</td>\n",
       "    </tr>\n",
       "    <tr>\n",
       "      <th>2</th>\n",
       "      <td>2</td>\n",
       "      <td>0.0</td>\n",
       "      <td>4.7</td>\n",
       "      <td>3.2</td>\n",
       "      <td>1.3</td>\n",
       "      <td>0.2</td>\n",
       "    </tr>\n",
       "  </tbody>\n",
       "</table>\n",
       "</div>"
      ],
      "text/plain": [
       "   Unnamed: 0  Species  sepal length (cm)  sepal width (cm)  \\\n",
       "0           0      0.0                5.1               3.5   \n",
       "1           1      0.0                4.9               3.0   \n",
       "2           2      0.0                4.7               3.2   \n",
       "\n",
       "   petal length (cm)  petal width (cm)  \n",
       "0                1.4               0.2  \n",
       "1                1.4               0.2  \n",
       "2                1.3               0.2  "
      ]
     },
     "execution_count": 42,
     "metadata": {},
     "output_type": "execute_result"
    }
   ],
   "source": [
    "iris = pd.read_csv(location)\n",
    "iris.head(3)"
   ]
  },
  {
   "cell_type": "code",
   "execution_count": 4,
   "metadata": {},
   "outputs": [],
   "source": [
    "iris = iris.drop(\"Unnamed: 0\", 1)"
   ]
  },
  {
   "cell_type": "code",
   "execution_count": 5,
   "metadata": {
    "scrolled": false
   },
   "outputs": [
    {
     "data": {
      "text/plain": [
       "0    5.1\n",
       "1    4.9\n",
       "2    4.7\n",
       "Name: sepal length (cm), dtype: float64"
      ]
     },
     "execution_count": 5,
     "metadata": {},
     "output_type": "execute_result"
    }
   ],
   "source": [
    "iris[\"sepal length (cm)\"][:3]"
   ]
  },
  {
   "cell_type": "code",
   "execution_count": 6,
   "metadata": {},
   "outputs": [],
   "source": [
    "iris.columns = [\"Species\", \"sepal_length\", \"sepal_width\", \"petal_length\", \"petal_width\"]"
   ]
  },
  {
   "cell_type": "code",
   "execution_count": 7,
   "metadata": {},
   "outputs": [
    {
     "data": {
      "text/html": [
       "<div>\n",
       "<style scoped>\n",
       "    .dataframe tbody tr th:only-of-type {\n",
       "        vertical-align: middle;\n",
       "    }\n",
       "\n",
       "    .dataframe tbody tr th {\n",
       "        vertical-align: top;\n",
       "    }\n",
       "\n",
       "    .dataframe thead th {\n",
       "        text-align: right;\n",
       "    }\n",
       "</style>\n",
       "<table border=\"1\" class=\"dataframe\">\n",
       "  <thead>\n",
       "    <tr style=\"text-align: right;\">\n",
       "      <th></th>\n",
       "      <th>Species</th>\n",
       "      <th>sepal_length</th>\n",
       "      <th>sepal_width</th>\n",
       "      <th>petal_length</th>\n",
       "      <th>petal_width</th>\n",
       "    </tr>\n",
       "  </thead>\n",
       "  <tbody>\n",
       "    <tr>\n",
       "      <th>0</th>\n",
       "      <td>0.0</td>\n",
       "      <td>5.1</td>\n",
       "      <td>3.5</td>\n",
       "      <td>1.4</td>\n",
       "      <td>0.2</td>\n",
       "    </tr>\n",
       "    <tr>\n",
       "      <th>1</th>\n",
       "      <td>0.0</td>\n",
       "      <td>4.9</td>\n",
       "      <td>3.0</td>\n",
       "      <td>1.4</td>\n",
       "      <td>0.2</td>\n",
       "    </tr>\n",
       "  </tbody>\n",
       "</table>\n",
       "</div>"
      ],
      "text/plain": [
       "   Species  sepal_length  sepal_width  petal_length  petal_width\n",
       "0      0.0           5.1          3.5           1.4          0.2\n",
       "1      0.0           4.9          3.0           1.4          0.2"
      ]
     },
     "execution_count": 7,
     "metadata": {},
     "output_type": "execute_result"
    }
   ],
   "source": [
    "iris.head(2)"
   ]
  },
  {
   "cell_type": "code",
   "execution_count": 8,
   "metadata": {},
   "outputs": [],
   "source": [
    "X = iris.iloc[:,1:]\n",
    "y = iris.Species"
   ]
  },
  {
   "cell_type": "code",
   "execution_count": 9,
   "metadata": {},
   "outputs": [],
   "source": [
    "from sklearn.model_selection import train_test_split\n",
    "X_train, X_test, y_train,y_test = train_test_split(X,y, test_size = .3, random_state = 2)"
   ]
  },
  {
   "cell_type": "code",
   "execution_count": 10,
   "metadata": {},
   "outputs": [],
   "source": [
    "from sklearn.neighbors import KNeighborsClassifier\n",
    "from sklearn.preprocessing import StandardScaler"
   ]
  },
  {
   "cell_type": "code",
   "execution_count": 11,
   "metadata": {},
   "outputs": [],
   "source": [
    "s = StandardScaler()\n",
    "s.fit(X_train, y_train)\n",
    "X_train = s.transform(X_train)\n",
    "X_test = s.transform(X_test)"
   ]
  },
  {
   "cell_type": "code",
   "execution_count": 12,
   "metadata": {},
   "outputs": [
    {
     "data": {
      "text/plain": [
       "KNeighborsClassifier(algorithm='auto', leaf_size=30, metric='minkowski',\n",
       "                     metric_params=None, n_jobs=-1, n_neighbors=3, p=2,\n",
       "                     weights='uniform')"
      ]
     },
     "execution_count": 12,
     "metadata": {},
     "output_type": "execute_result"
    }
   ],
   "source": [
    "knn = KNeighborsClassifier(n_jobs=-1, n_neighbors=3)\n",
    "knn.fit(X_train,y_train)"
   ]
  },
  {
   "cell_type": "code",
   "execution_count": 13,
   "metadata": {},
   "outputs": [
    {
     "data": {
      "text/plain": [
       "{'algorithm': 'auto',\n",
       " 'leaf_size': 30,\n",
       " 'metric': 'minkowski',\n",
       " 'metric_params': None,\n",
       " 'n_jobs': -1,\n",
       " 'n_neighbors': 3,\n",
       " 'p': 2,\n",
       " 'weights': 'uniform'}"
      ]
     },
     "execution_count": 13,
     "metadata": {},
     "output_type": "execute_result"
    }
   ],
   "source": [
    "knn.get_params()"
   ]
  },
  {
   "cell_type": "code",
   "execution_count": 14,
   "metadata": {},
   "outputs": [
    {
     "data": {
      "text/plain": [
       "array([0., 0., 2., 0., 0., 2., 0., 2., 2., 0., 0., 0., 0., 0., 1., 1., 0.,\n",
       "       1., 2., 1., 1., 1., 2., 1., 1., 0., 0., 2., 0., 2., 2., 0., 1., 2.,\n",
       "       1., 0., 2., 1., 1., 2., 1., 1., 2., 1., 0.])"
      ]
     },
     "execution_count": 14,
     "metadata": {},
     "output_type": "execute_result"
    }
   ],
   "source": [
    "ypred = knn.predict(X_test)\n",
    "ypred"
   ]
  },
  {
   "cell_type": "code",
   "execution_count": 15,
   "metadata": {},
   "outputs": [
    {
     "data": {
      "text/plain": [
       "1.0"
      ]
     },
     "execution_count": 15,
     "metadata": {},
     "output_type": "execute_result"
    }
   ],
   "source": [
    "knn.score(X_test, y_test) #accuracy score"
   ]
  },
  {
   "cell_type": "markdown",
   "metadata": {},
   "source": [
    "### K-folds\n",
    "Data divided into k splits of train and test"
   ]
  },
  {
   "cell_type": "code",
   "execution_count": 16,
   "metadata": {},
   "outputs": [],
   "source": [
    "from sklearn.model_selection import KFold"
   ]
  },
  {
   "cell_type": "code",
   "execution_count": 17,
   "metadata": {},
   "outputs": [],
   "source": [
    "kf = KFold(n_splits=5, shuffle=True, random_state=2)"
   ]
  },
  {
   "cell_type": "code",
   "execution_count": 18,
   "metadata": {},
   "outputs": [
    {
     "data": {
      "text/plain": [
       "<generator object _BaseKFold.split at 0x0000029F61EF7308>"
      ]
     },
     "execution_count": 18,
     "metadata": {},
     "output_type": "execute_result"
    }
   ],
   "source": [
    "kf.split(iris)"
   ]
  },
  {
   "cell_type": "code",
   "execution_count": 19,
   "metadata": {},
   "outputs": [
    {
     "name": "stdout",
     "output_type": "stream",
     "text": [
      "[  0   1   4   7   8   9  10  11  13  14  15  16  17  18  19  20  21  22\n",
      "  23  26  27  28  30  31  32  33  34  36  37  38  39  40  43  46  47  49\n",
      "  50  51  52  53  55  56  57  58  59  60  61  62  63  64  65  66  67  68\n",
      "  69  70  71  72  73  75  76  78  79  80  81  82  83  84  86  88  90  91\n",
      "  92  93  95  97  98  99 100 101 102 103 104 105 106 107 109 110 111 112\n",
      " 114 116 117 118 119 120 121 122 123 124 126 130 131 132 133 134 135 136\n",
      " 137 138 139 140 141 142 143 145 146 147 148 149]\n",
      "[  2   3   5   6  12  24  25  29  35  41  42  44  45  48  54  74  77  85\n",
      "  87  89  94  96 108 113 115 125 127 128 129 144]\n",
      "\n",
      "\n",
      "[  1   2   3   4   5   6   7   8   9  10  12  15  16  17  18  19  21  22\n",
      "  24  25  26  29  30  31  32  33  34  35  37  38  39  40  41  42  43  44\n",
      "  45  46  47  48  49  50  51  52  54  55  56  57  58  59  60  61  62  63\n",
      "  66  67  68  69  70  71  72  73  74  75  76  77  79  80  81  82  83  85\n",
      "  86  87  88  89  90  92  94  95  96  98  99 100 101 102 103 104 107 108\n",
      " 109 110 111 112 113 114 115 116 118 120 121 122 123 124 125 127 128 129\n",
      " 130 133 135 137 138 139 142 144 145 146 147 149]\n",
      "[  0  11  13  14  20  23  27  28  36  53  64  65  78  84  91  93  97 105\n",
      " 106 117 119 126 131 132 134 136 140 141 143 148]\n",
      "\n",
      "\n",
      "[  0   2   3   4   5   6   7   8  11  12  13  14  15  17  20  22  23  24\n",
      "  25  26  27  28  29  31  32  33  35  36  37  38  39  41  42  43  44  45\n",
      "  46  47  48  49  50  51  52  53  54  57  58  62  63  64  65  66  67  68\n",
      "  69  70  72  73  74  75  76  77  78  79  80  83  84  85  87  88  89  90\n",
      "  91  93  94  95  96  97 102 103 104 105 106 107 108 109 110 111 113 115\n",
      " 116 117 118 119 121 124 125 126 127 128 129 130 131 132 133 134 136 137\n",
      " 138 139 140 141 142 143 144 145 146 147 148 149]\n",
      "[  1   9  10  16  18  19  21  30  34  40  55  56  59  60  61  71  81  82\n",
      "  86  92  98  99 100 101 112 114 120 122 123 135]\n",
      "\n",
      "\n",
      "[  0   1   2   3   4   5   6   7   9  10  11  12  13  14  15  16  18  19\n",
      "  20  21  22  23  24  25  27  28  29  30  31  33  34  35  36  37  38  40\n",
      "  41  42  43  44  45  46  47  48  51  53  54  55  56  58  59  60  61  63\n",
      "  64  65  67  68  69  70  71  72  74  75  77  78  81  82  84  85  86  87\n",
      "  88  89  91  92  93  94  95  96  97  98  99 100 101 102 103 104 105 106\n",
      " 107 108 112 113 114 115 116 117 119 120 122 123 124 125 126 127 128 129\n",
      " 131 132 134 135 136 137 140 141 143 144 145 148]\n",
      "[  8  17  26  32  39  49  50  52  57  62  66  73  76  79  80  83  90 109\n",
      " 110 111 118 121 130 133 138 139 142 146 147 149]\n",
      "\n",
      "\n",
      "[  0   1   2   3   5   6   8   9  10  11  12  13  14  16  17  18  19  20\n",
      "  21  23  24  25  26  27  28  29  30  32  34  35  36  39  40  41  42  44\n",
      "  45  48  49  50  52  53  54  55  56  57  59  60  61  62  64  65  66  71\n",
      "  73  74  76  77  78  79  80  81  82  83  84  85  86  87  89  90  91  92\n",
      "  93  94  96  97  98  99 100 101 105 106 108 109 110 111 112 113 114 115\n",
      " 117 118 119 120 121 122 123 125 126 127 128 129 130 131 132 133 134 135\n",
      " 136 138 139 140 141 142 143 144 146 147 148 149]\n",
      "[  4   7  15  22  31  33  37  38  43  46  47  51  58  63  67  68  69  70\n",
      "  72  75  88  95 102 103 104 107 116 124 137 145]\n",
      "\n",
      "\n"
     ]
    }
   ],
   "source": [
    "for train_id, test_id in kf.split(iris):\n",
    "    print(train_id)#train_id will have the row indices of train data in each fold\n",
    "    print(test_id)\n",
    "    print(\"\\n\")"
   ]
  },
  {
   "cell_type": "markdown",
   "metadata": {},
   "source": [
    "# Repeated K-Fold\n",
    "\n",
    "RepeatedKFold repeats K-Fold n times. It can be used when one requires to run KFold n times, producing different splits in each repetition."
   ]
  },
  {
   "cell_type": "code",
   "execution_count": 20,
   "metadata": {},
   "outputs": [
    {
     "name": "stdout",
     "output_type": "stream",
     "text": [
      "[  0   2   3   4   5   7   8  10  13  14  17  18  19  22  23  24  27  30\n",
      "  33  34  35  36  38  39  42  43  44  47  48  49  50  52  53  54  55  56\n",
      "  57  58  59  60  61  63  64  65  66  67  68  70  71  72  74  76  78  79\n",
      "  80  82  83  84  85  86  87  88  91  93  94  95  96  98 100 101 103 104\n",
      " 105 106 107 108 110 111 113 117 121 124 126 127 129 130 131 132 133 134\n",
      " 137 138 139 140 141 142 143 144 147 148]\n",
      "[  1   6   9  11  12  15  16  20  21  25  26  28  29  31  32  37  40  41\n",
      "  45  46  51  62  69  73  75  77  81  89  90  92  97  99 102 109 112 114\n",
      " 115 116 118 119 120 122 123 125 128 135 136 145 146 149]\n",
      "\n",
      "\n",
      "[  1   2   4   6   7   8   9  11  12  14  15  16  19  20  21  24  25  26\n",
      "  27  28  29  30  31  32  34  37  38  39  40  41  44  45  46  47  48  49\n",
      "  51  53  55  56  58  59  60  61  62  63  65  66  67  69  71  73  75  77\n",
      "  79  80  81  86  87  89  90  91  92  93  94  97  98  99 100 102 103 105\n",
      " 107 108 109 112 114 115 116 118 119 120 121 122 123 125 128 130 135 136\n",
      " 138 140 141 142 143 145 146 147 148 149]\n",
      "[  0   3   5  10  13  17  18  22  23  33  35  36  42  43  50  52  54  57\n",
      "  64  68  70  72  74  76  78  82  83  84  85  88  95  96 101 104 106 110\n",
      " 111 113 117 124 126 127 129 131 132 133 134 137 139 144]\n",
      "\n",
      "\n",
      "[  0   1   3   5   6   9  10  11  12  13  15  16  17  18  20  21  22  23\n",
      "  25  26  28  29  31  32  33  35  36  37  40  41  42  43  45  46  50  51\n",
      "  52  54  57  62  64  68  69  70  72  73  74  75  76  77  78  81  82  83\n",
      "  84  85  88  89  90  92  95  96  97  99 101 102 104 106 109 110 111 112\n",
      " 113 114 115 116 117 118 119 120 122 123 124 125 126 127 128 129 131 132\n",
      " 133 134 135 136 137 139 144 145 146 149]\n",
      "[  2   4   7   8  14  19  24  27  30  34  38  39  44  47  48  49  53  55\n",
      "  56  58  59  60  61  63  65  66  67  71  79  80  86  87  91  93  94  98\n",
      " 100 103 105 107 108 121 130 138 140 141 142 143 147 148]\n",
      "\n",
      "\n",
      "[  0   1   2   3   4   9  11  12  13  14  16  17  19  22  23  25  26  28\n",
      "  29  30  31  32  34  36  37  38  40  41  42  44  47  48  49  51  52  53\n",
      "  54  55  57  59  61  62  63  64  65  66  67  68  70  71  73  74  78  80\n",
      "  81  82  83  86  87  92  93  95  96  98  99 100 101 102 104 105 107 108\n",
      " 109 112 113 114 115 116 117 118 119 121 122 124 125 128 130 131 133 134\n",
      " 135 137 138 139 140 141 143 144 147 148]\n",
      "[  5   6   7   8  10  15  18  20  21  24  27  33  35  39  43  45  46  50\n",
      "  56  58  60  69  72  75  76  77  79  84  85  88  89  90  91  94  97 103\n",
      " 106 110 111 120 123 126 127 129 132 136 142 145 146 149]\n",
      "\n",
      "\n",
      "[  2   5   6   7   8  10  11  15  16  17  18  20  21  22  24  25  27  28\n",
      "  30  33  35  37  38  39  42  43  44  45  46  48  50  51  53  54  55  56\n",
      "  57  58  60  61  62  63  65  67  69  72  74  75  76  77  79  80  81  82\n",
      "  83  84  85  87  88  89  90  91  93  94  97  99 100 101 103 105 106 108\n",
      " 110 111 113 114 115 116 117 118 120 122 123 125 126 127 128 129 130 132\n",
      " 134 135 136 138 139 142 145 146 147 149]\n",
      "[  0   1   3   4   9  12  13  14  19  23  26  29  31  32  34  36  40  41\n",
      "  47  49  52  59  64  66  68  70  71  73  78  86  92  95  96  98 102 104\n",
      " 107 109 112 119 121 124 131 133 137 140 141 143 144 148]\n",
      "\n",
      "\n",
      "[  0   1   3   4   5   6   7   8   9  10  12  13  14  15  18  19  20  21\n",
      "  23  24  26  27  29  31  32  33  34  35  36  39  40  41  43  45  46  47\n",
      "  49  50  52  56  58  59  60  64  66  68  69  70  71  72  73  75  76  77\n",
      "  78  79  84  85  86  88  89  90  91  92  94  95  96  97  98 102 103 104\n",
      " 106 107 109 110 111 112 119 120 121 123 124 126 127 129 131 132 133 136\n",
      " 137 140 141 142 143 144 145 146 148 149]\n",
      "[  2  11  16  17  22  25  28  30  37  38  42  44  48  51  53  54  55  57\n",
      "  61  62  63  65  67  74  80  81  82  83  87  93  99 100 101 105 108 113\n",
      " 114 115 116 117 118 122 125 128 130 134 135 138 139 147]\n",
      "\n",
      "\n"
     ]
    }
   ],
   "source": [
    "from sklearn.model_selection import RepeatedKFold\n",
    "random_state = 100\n",
    "rkf = RepeatedKFold(n_splits=3, n_repeats=2, random_state=random_state)\n",
    "\n",
    "for train_idx, test_idx in rkf.split(iris):\n",
    "    print(train_idx)\n",
    "    print(test_idx)\n",
    "    print('\\n')\n",
    "#this will generate n_splits X n_repeats splits"
   ]
  },
  {
   "cell_type": "markdown",
   "metadata": {},
   "source": [
    "# Leave One Out (LOO)\n",
    "\n",
    "- LeaveOneOut (or LOO) is a simple cross-validation. \n",
    "- Each learning set is created by taking all the samples except one, the test set being the sample left out. \n",
    "- Thus, for n samples, we have n different training sets and n different tests set. \n",
    "\n",
    "- This cross-validation procedure does not waste much data as only one sample is removed from the training set:"
   ]
  },
  {
   "cell_type": "code",
   "execution_count": 21,
   "metadata": {},
   "outputs": [
    {
     "name": "stdout",
     "output_type": "stream",
     "text": [
      "[  1   2   3   4   5   6   7   8   9  10  11  12  13  14  15  16  17  18\n",
      "  19  20  21  22  23  24  25  26  27  28  29  30  31  32  33  34  35  36\n",
      "  37  38  39  40  41  42  43  44  45  46  47  48  49  50  51  52  53  54\n",
      "  55  56  57  58  59  60  61  62  63  64  65  66  67  68  69  70  71  72\n",
      "  73  74  75  76  77  78  79  80  81  82  83  84  85  86  87  88  89  90\n",
      "  91  92  93  94  95  96  97  98  99 100 101 102 103 104 105 106 107 108\n",
      " 109 110 111 112 113 114 115 116 117 118 119 120 121 122 123 124 125 126\n",
      " 127 128 129 130 131 132 133 134 135 136 137 138 139 140 141 142 143 144\n",
      " 145 146 147 148 149]\n",
      "[0]\n",
      "\n",
      "\n",
      "[  0   2   3   4   5   6   7   8   9  10  11  12  13  14  15  16  17  18\n",
      "  19  20  21  22  23  24  25  26  27  28  29  30  31  32  33  34  35  36\n",
      "  37  38  39  40  41  42  43  44  45  46  47  48  49  50  51  52  53  54\n",
      "  55  56  57  58  59  60  61  62  63  64  65  66  67  68  69  70  71  72\n",
      "  73  74  75  76  77  78  79  80  81  82  83  84  85  86  87  88  89  90\n",
      "  91  92  93  94  95  96  97  98  99 100 101 102 103 104 105 106 107 108\n",
      " 109 110 111 112 113 114 115 116 117 118 119 120 121 122 123 124 125 126\n",
      " 127 128 129 130 131 132 133 134 135 136 137 138 139 140 141 142 143 144\n",
      " 145 146 147 148 149]\n",
      "[1]\n",
      "\n",
      "\n",
      "[  0   1   3   4   5   6   7   8   9  10  11  12  13  14  15  16  17  18\n",
      "  19  20  21  22  23  24  25  26  27  28  29  30  31  32  33  34  35  36\n",
      "  37  38  39  40  41  42  43  44  45  46  47  48  49  50  51  52  53  54\n",
      "  55  56  57  58  59  60  61  62  63  64  65  66  67  68  69  70  71  72\n",
      "  73  74  75  76  77  78  79  80  81  82  83  84  85  86  87  88  89  90\n",
      "  91  92  93  94  95  96  97  98  99 100 101 102 103 104 105 106 107 108\n",
      " 109 110 111 112 113 114 115 116 117 118 119 120 121 122 123 124 125 126\n",
      " 127 128 129 130 131 132 133 134 135 136 137 138 139 140 141 142 143 144\n",
      " 145 146 147 148 149]\n",
      "[2]\n",
      "\n",
      "\n",
      "[  0   1   2   4   5   6   7   8   9  10  11  12  13  14  15  16  17  18\n",
      "  19  20  21  22  23  24  25  26  27  28  29  30  31  32  33  34  35  36\n",
      "  37  38  39  40  41  42  43  44  45  46  47  48  49  50  51  52  53  54\n",
      "  55  56  57  58  59  60  61  62  63  64  65  66  67  68  69  70  71  72\n",
      "  73  74  75  76  77  78  79  80  81  82  83  84  85  86  87  88  89  90\n",
      "  91  92  93  94  95  96  97  98  99 100 101 102 103 104 105 106 107 108\n",
      " 109 110 111 112 113 114 115 116 117 118 119 120 121 122 123 124 125 126\n",
      " 127 128 129 130 131 132 133 134 135 136 137 138 139 140 141 142 143 144\n",
      " 145 146 147 148 149]\n",
      "[3]\n"
     ]
    }
   ],
   "source": [
    "from sklearn.model_selection import LeaveOneOut\n",
    "random_state = 100\n",
    "loocv = LeaveOneOut()\n",
    "i = 1\n",
    "\n",
    "for train_idx, test_idx in loocv.split(iris):\n",
    "    print(train_idx)\n",
    "    print(test_idx)\n",
    "    i+=1\n",
    "    if i==5:\n",
    "        break\n",
    "    print('\\n')\n",
    "#this will create 1to n-1 as training and nth sample as test sample\n",
    "#this way n splits are generated\n",
    "#displaying only 5 splits"
   ]
  },
  {
   "cell_type": "markdown",
   "metadata": {},
   "source": [
    "# Leave P Out (LPO)\n",
    "\n",
    "LeavePOut is very similar to LeaveOneOut as it creates all the possible training/test sets by removing p  samples from the complete set. \n",
    "\n",
    "For n samples, this produces $n \\choose p$ train-test pairs. Unlike LeaveOneOut and KFold, the test sets will overlap for  p > 1"
   ]
  },
  {
   "cell_type": "code",
   "execution_count": 22,
   "metadata": {},
   "outputs": [],
   "source": [
    "from sklearn.model_selection import LeavePOut\n",
    "lpo = LeavePOut(p=40)\n",
    "\n",
    "#for train_idx, test_idx in lpo.split(iris):\n",
    "#    print(train_idx)\n",
    "#    print(test_idx)"
   ]
  },
  {
   "cell_type": "markdown",
   "metadata": {},
   "source": [
    "# Stratified K-Folds cross-validator\n",
    " Provides train/test indices to split data in train/test sets.\n",
    "\n",
    " Parameters:\n",
    " n_splits : int, default=3\n",
    "            Number of folds. Must be at least 2.\n",
    "\n",
    " shuffle  : boolean, optional\n",
    "            Whether to shuffle each stratification of the data before \n",
    "            splitting into batches.\n",
    "\n",
    " random_state : int, RandomState instance or None, optional, default=None\n",
    "\n",
    "                If int, random_state is the seed used by the random number \n",
    "                generator; \n",
    "                If RandomState instance, random_state is the random number \n",
    "                generator; \n",
    "                if None, the random number generator is the RandomState \n",
    "                instance used by np.random. Used when shuffle == True."
   ]
  },
  {
   "cell_type": "code",
   "execution_count": 23,
   "metadata": {},
   "outputs": [
    {
     "name": "stdout",
     "output_type": "stream",
     "text": [
      "[ 10  11  12  13  14  15  16  17  18  19  20  21  22  23  24  25  26  27\n",
      "  28  29  30  31  32  33  34  35  36  37  38  39  40  41  42  43  44  45\n",
      "  46  47  48  49  60  61  62  63  64  65  66  67  68  69  70  71  72  73\n",
      "  74  75  76  77  78  79  80  81  82  83  84  85  86  87  88  89  90  91\n",
      "  92  93  94  95  96  97  98  99 110 111 112 113 114 115 116 117 118 119\n",
      " 120 121 122 123 124 125 126 127 128 129 130 131 132 133 134 135 136 137\n",
      " 138 139 140 141 142 143 144 145 146 147 148 149]\n",
      "[  0   1   2   3   4   5   6   7   8   9  50  51  52  53  54  55  56  57\n",
      "  58  59 100 101 102 103 104 105 106 107 108 109]\n",
      "\n",
      "\n",
      "[  0   1   2   3   4   5   6   7   8   9  20  21  22  23  24  25  26  27\n",
      "  28  29  30  31  32  33  34  35  36  37  38  39  40  41  42  43  44  45\n",
      "  46  47  48  49  50  51  52  53  54  55  56  57  58  59  70  71  72  73\n",
      "  74  75  76  77  78  79  80  81  82  83  84  85  86  87  88  89  90  91\n",
      "  92  93  94  95  96  97  98  99 100 101 102 103 104 105 106 107 108 109\n",
      " 120 121 122 123 124 125 126 127 128 129 130 131 132 133 134 135 136 137\n",
      " 138 139 140 141 142 143 144 145 146 147 148 149]\n",
      "[ 10  11  12  13  14  15  16  17  18  19  60  61  62  63  64  65  66  67\n",
      "  68  69 110 111 112 113 114 115 116 117 118 119]\n",
      "\n",
      "\n",
      "[  0   1   2   3   4   5   6   7   8   9  10  11  12  13  14  15  16  17\n",
      "  18  19  30  31  32  33  34  35  36  37  38  39  40  41  42  43  44  45\n",
      "  46  47  48  49  50  51  52  53  54  55  56  57  58  59  60  61  62  63\n",
      "  64  65  66  67  68  69  80  81  82  83  84  85  86  87  88  89  90  91\n",
      "  92  93  94  95  96  97  98  99 100 101 102 103 104 105 106 107 108 109\n",
      " 110 111 112 113 114 115 116 117 118 119 130 131 132 133 134 135 136 137\n",
      " 138 139 140 141 142 143 144 145 146 147 148 149]\n",
      "[ 20  21  22  23  24  25  26  27  28  29  70  71  72  73  74  75  76  77\n",
      "  78  79 120 121 122 123 124 125 126 127 128 129]\n",
      "\n",
      "\n",
      "[  0   1   2   3   4   5   6   7   8   9  10  11  12  13  14  15  16  17\n",
      "  18  19  20  21  22  23  24  25  26  27  28  29  40  41  42  43  44  45\n",
      "  46  47  48  49  50  51  52  53  54  55  56  57  58  59  60  61  62  63\n",
      "  64  65  66  67  68  69  70  71  72  73  74  75  76  77  78  79  90  91\n",
      "  92  93  94  95  96  97  98  99 100 101 102 103 104 105 106 107 108 109\n",
      " 110 111 112 113 114 115 116 117 118 119 120 121 122 123 124 125 126 127\n",
      " 128 129 140 141 142 143 144 145 146 147 148 149]\n",
      "[ 30  31  32  33  34  35  36  37  38  39  80  81  82  83  84  85  86  87\n",
      "  88  89 130 131 132 133 134 135 136 137 138 139]\n",
      "\n",
      "\n",
      "[  0   1   2   3   4   5   6   7   8   9  10  11  12  13  14  15  16  17\n",
      "  18  19  20  21  22  23  24  25  26  27  28  29  30  31  32  33  34  35\n",
      "  36  37  38  39  50  51  52  53  54  55  56  57  58  59  60  61  62  63\n",
      "  64  65  66  67  68  69  70  71  72  73  74  75  76  77  78  79  80  81\n",
      "  82  83  84  85  86  87  88  89 100 101 102 103 104 105 106 107 108 109\n",
      " 110 111 112 113 114 115 116 117 118 119 120 121 122 123 124 125 126 127\n",
      " 128 129 130 131 132 133 134 135 136 137 138 139]\n",
      "[ 40  41  42  43  44  45  46  47  48  49  90  91  92  93  94  95  96  97\n",
      "  98  99 140 141 142 143 144 145 146 147 148 149]\n",
      "\n",
      "\n"
     ]
    }
   ],
   "source": [
    "from sklearn.model_selection import StratifiedKFold\n",
    "skf = StratifiedKFold(n_splits=5, random_state=5)\n",
    "for train_idx, test_idx in skf.split(iris.iloc[:,1:], iris.Species):\n",
    "    print(train_idx)\n",
    "    print(test_idx) #20% rows in test\n",
    "    print('\\n')"
   ]
  },
  {
   "cell_type": "markdown",
   "metadata": {},
   "source": [
    "# sklearn.model_selection.ShuffleSplit\n",
    "\n",
    "Parameters:\t\n",
    "n_splits : int, default 10\n",
    "Number of re-shuffling & splitting iterations.\n",
    "\n",
    "test_size : float, int, None, default=0.1\n",
    "If float, should be between 0.0 and 1.0 and represent the proportion of the dataset to include in the test split. If int, represents the absolute number of test samples. If None, the value is set to the complement of the train size. By default (the parameter is unspecified), the value is set to 0.1. The default will change in version 0.21. It will remain 0.1 only if train_size is unspecified, otherwise it will complement the specified train_size.\n",
    "\n",
    "train_size : float, int, or None, default=None\n",
    "If float, should be between 0.0 and 1.0 and represent the proportion of the dataset to include in the train split. If int, represents the absolute number of train samples. If None, the value is automatically set to the complement of the test size.\n",
    "\n",
    "random_state : int, RandomState instance or None, optional (default=None)\n",
    "If int, random_state is the seed used by the random number generator; If RandomState instance, random_state is the random number generator; If None, the random number generator is the RandomState instance used by np.random."
   ]
  },
  {
   "cell_type": "code",
   "execution_count": 24,
   "metadata": {},
   "outputs": [],
   "source": [
    "XX = np.array([[1, 2], [3, 4], [5, 6], [7, 8], [3, 4], [5, 6]])\n",
    "yy = np.array([1, 2, 1, 2, 1, 2])\n"
   ]
  },
  {
   "cell_type": "code",
   "execution_count": 25,
   "metadata": {},
   "outputs": [
    {
     "name": "stdout",
     "output_type": "stream",
     "text": [
      "TRAIN: [1 3 0 4] TEST: [5 2]\n",
      "TRAIN: [4 0 2 5] TEST: [1 3]\n",
      "TRAIN: [1 2 4 0] TEST: [3 5]\n",
      "TRAIN: [3 4 1 0] TEST: [5 2]\n",
      "TRAIN: [3 5 1 0] TEST: [2 4]\n"
     ]
    }
   ],
   "source": [
    "from sklearn.model_selection import ShuffleSplit\n",
    "rs = ShuffleSplit(n_splits=5, test_size=.25, random_state=0) \n",
    "#nrows = 6 and test size = .25, so test size will be 1.5 i.e 2 and train size:4\n",
    "\n",
    "#rs.get_n_splits(X)\n",
    "for train_index, test_index in rs.split(XX):\n",
    "    print(\"TRAIN:\", train_index, \"TEST:\", test_index)\n",
    "    \n",
    "#note the split is random after shuffling"
   ]
  },
  {
   "cell_type": "code",
   "execution_count": 26,
   "metadata": {},
   "outputs": [
    {
     "name": "stdout",
     "output_type": "stream",
     "text": [
      "TRAIN: [1 3 0] TEST: [5 2]\n",
      "TRAIN: [4 0 2] TEST: [1 3]\n",
      "TRAIN: [1 2 4] TEST: [3 5]\n",
      "TRAIN: [3 4 1] TEST: [5 2]\n",
      "TRAIN: [3 5 1] TEST: [2 4]\n"
     ]
    }
   ],
   "source": [
    "rs = ShuffleSplit(n_splits=5, train_size=0.5, test_size=.2, random_state=0)\n",
    "#trainsize : .5*6 = 3\n",
    "#test size: .2*6=1.2\n",
    "for train_index, test_index in rs.split(XX):\n",
    "    print(\"TRAIN:\", train_index, \"TEST:\", test_index)"
   ]
  },
  {
   "cell_type": "markdown",
   "metadata": {},
   "source": [
    "---"
   ]
  },
  {
   "cell_type": "code",
   "execution_count": 27,
   "metadata": {},
   "outputs": [],
   "source": [
    "#Grid SearchCV"
   ]
  },
  {
   "cell_type": "code",
   "execution_count": 28,
   "metadata": {},
   "outputs": [
    {
     "data": {
      "text/plain": [
       "{'algorithm': 'auto',\n",
       " 'leaf_size': 30,\n",
       " 'metric': 'minkowski',\n",
       " 'metric_params': None,\n",
       " 'n_jobs': -1,\n",
       " 'n_neighbors': 3,\n",
       " 'p': 2,\n",
       " 'weights': 'uniform'}"
      ]
     },
     "execution_count": 28,
     "metadata": {},
     "output_type": "execute_result"
    }
   ],
   "source": [
    "knn.get_params()"
   ]
  },
  {
   "cell_type": "code",
   "execution_count": 29,
   "metadata": {},
   "outputs": [],
   "source": [
    "k = np.arange(1, 50, 2)"
   ]
  },
  {
   "cell_type": "code",
   "execution_count": 30,
   "metadata": {},
   "outputs": [],
   "source": [
    "from sklearn.model_selection import GridSearchCV\n",
    "param_grid = {'n_neighbors': k}\n",
    "grid = GridSearchCV(knn, param_grid=param_grid, cv = 5, scoring = 'accuracy', n_jobs = -1, verbose = 0)\n",
    "#Most common scoring techniques on accuracy, precision, recall, f1, roc_auc"
   ]
  },
  {
   "cell_type": "code",
   "execution_count": 31,
   "metadata": {},
   "outputs": [
    {
     "name": "stderr",
     "output_type": "stream",
     "text": [
      "C:\\Users\\Vaibhav\\Anaconda3\\lib\\site-packages\\sklearn\\model_selection\\_search.py:813: DeprecationWarning: The default of the `iid` parameter will change from True to False in version 0.22 and will be removed in 0.24. This will change numeric results when test-set sizes are unequal.\n",
      "  DeprecationWarning)\n"
     ]
    },
    {
     "data": {
      "text/plain": [
       "GridSearchCV(cv=5, error_score='raise-deprecating',\n",
       "             estimator=KNeighborsClassifier(algorithm='auto', leaf_size=30,\n",
       "                                            metric='minkowski',\n",
       "                                            metric_params=None, n_jobs=-1,\n",
       "                                            n_neighbors=3, p=2,\n",
       "                                            weights='uniform'),\n",
       "             iid='warn', n_jobs=-1,\n",
       "             param_grid={'n_neighbors': array([ 1,  3,  5,  7,  9, 11, 13, 15, 17, 19, 21, 23, 25, 27, 29, 31, 33,\n",
       "       35, 37, 39, 41, 43, 45, 47, 49])},\n",
       "             pre_dispatch='2*n_jobs', refit=True, return_train_score=False,\n",
       "             scoring='accuracy', verbose=0)"
      ]
     },
     "execution_count": 31,
     "metadata": {},
     "output_type": "execute_result"
    }
   ],
   "source": [
    "grid.fit(X_train, y_train)"
   ]
  },
  {
   "cell_type": "code",
   "execution_count": 32,
   "metadata": {},
   "outputs": [
    {
     "data": {
      "text/plain": [
       "{'n_neighbors': 9}"
      ]
     },
     "execution_count": 32,
     "metadata": {},
     "output_type": "execute_result"
    }
   ],
   "source": [
    "grid.best_params_ #best parameter"
   ]
  },
  {
   "cell_type": "code",
   "execution_count": 33,
   "metadata": {},
   "outputs": [
    {
     "data": {
      "text/plain": [
       "0.9523809523809523"
      ]
     },
     "execution_count": 33,
     "metadata": {},
     "output_type": "execute_result"
    }
   ],
   "source": [
    "grid.best_score_ #Accuracy score for the best model \n",
    "#make the prediction on test data"
   ]
  },
  {
   "cell_type": "code",
   "execution_count": 34,
   "metadata": {},
   "outputs": [
    {
     "data": {
      "text/plain": [
       "array([0., 0., 2., 0., 0., 2., 0., 2., 2., 0., 0., 0., 0., 0., 1., 1., 0.,\n",
       "       1., 2., 1., 1., 1., 2., 1., 1., 0., 0., 2., 0., 2., 2., 0., 1., 2.,\n",
       "       1., 0., 2., 1., 1., 2., 1., 1., 2., 1., 0.])"
      ]
     },
     "execution_count": 34,
     "metadata": {},
     "output_type": "execute_result"
    }
   ],
   "source": [
    "ypred = grid.predict(X_test)\n",
    "ypred"
   ]
  },
  {
   "cell_type": "markdown",
   "metadata": {},
   "source": [
    "---"
   ]
  },
  {
   "cell_type": "markdown",
   "metadata": {},
   "source": [
    "### Cross Validation using cross_val_score"
   ]
  },
  {
   "cell_type": "code",
   "execution_count": 35,
   "metadata": {},
   "outputs": [],
   "source": [
    "from sklearn.model_selection import cross_val_score"
   ]
  },
  {
   "cell_type": "code",
   "execution_count": 36,
   "metadata": {},
   "outputs": [
    {
     "data": {
      "text/html": [
       "<div>\n",
       "<style scoped>\n",
       "    .dataframe tbody tr th:only-of-type {\n",
       "        vertical-align: middle;\n",
       "    }\n",
       "\n",
       "    .dataframe tbody tr th {\n",
       "        vertical-align: top;\n",
       "    }\n",
       "\n",
       "    .dataframe thead th {\n",
       "        text-align: right;\n",
       "    }\n",
       "</style>\n",
       "<table border=\"1\" class=\"dataframe\">\n",
       "  <thead>\n",
       "    <tr style=\"text-align: right;\">\n",
       "      <th></th>\n",
       "      <th>sepal_length</th>\n",
       "      <th>sepal_width</th>\n",
       "      <th>petal_length</th>\n",
       "      <th>petal_width</th>\n",
       "    </tr>\n",
       "  </thead>\n",
       "  <tbody>\n",
       "    <tr>\n",
       "      <th>0</th>\n",
       "      <td>5.1</td>\n",
       "      <td>3.5</td>\n",
       "      <td>1.4</td>\n",
       "      <td>0.2</td>\n",
       "    </tr>\n",
       "    <tr>\n",
       "      <th>1</th>\n",
       "      <td>4.9</td>\n",
       "      <td>3.0</td>\n",
       "      <td>1.4</td>\n",
       "      <td>0.2</td>\n",
       "    </tr>\n",
       "    <tr>\n",
       "      <th>2</th>\n",
       "      <td>4.7</td>\n",
       "      <td>3.2</td>\n",
       "      <td>1.3</td>\n",
       "      <td>0.2</td>\n",
       "    </tr>\n",
       "  </tbody>\n",
       "</table>\n",
       "</div>"
      ],
      "text/plain": [
       "   sepal_length  sepal_width  petal_length  petal_width\n",
       "0           5.1          3.5           1.4          0.2\n",
       "1           4.9          3.0           1.4          0.2\n",
       "2           4.7          3.2           1.3          0.2"
      ]
     },
     "execution_count": 36,
     "metadata": {},
     "output_type": "execute_result"
    }
   ],
   "source": [
    "X.head(3)"
   ]
  },
  {
   "cell_type": "code",
   "execution_count": 37,
   "metadata": {},
   "outputs": [
    {
     "data": {
      "text/plain": [
       "0    0.0\n",
       "1    0.0\n",
       "2    0.0\n",
       "3    0.0\n",
       "Name: Species, dtype: float64"
      ]
     },
     "execution_count": 37,
     "metadata": {},
     "output_type": "execute_result"
    }
   ],
   "source": [
    "y[:4]"
   ]
  },
  {
   "cell_type": "code",
   "execution_count": 38,
   "metadata": {},
   "outputs": [
    {
     "data": {
      "text/plain": [
       "array([0.93333333, 1.        , 0.93333333, 0.96666667, 1.        ])"
      ]
     },
     "execution_count": 38,
     "metadata": {},
     "output_type": "execute_result"
    }
   ],
   "source": [
    "cross_val_score(estimator = grid, X=X, y = y, cv= 5, scoring= \"accuracy\" )\n",
    "#use grid or knn"
   ]
  },
  {
   "cell_type": "code",
   "execution_count": 43,
   "metadata": {},
   "outputs": [
    {
     "data": {
      "text/plain": [
       "array([1.        , 0.93333333, 1.        , 0.96666667, 0.93333333])"
      ]
     },
     "execution_count": 43,
     "metadata": {},
     "output_type": "execute_result"
    }
   ],
   "source": [
    "cross_val_score(estimator = grid, X=X, y = y, cv= kf, scoring= \"accuracy\" )"
   ]
  },
  {
   "cell_type": "code",
   "execution_count": 49,
   "metadata": {},
   "outputs": [],
   "source": [
    "# instantiate the classifier\n",
    "skf_results =  cross_val_score(estimator=knn, X=X, y=y, cv=skf, scoring='accuracy')"
   ]
  },
  {
   "cell_type": "markdown",
   "metadata": {},
   "source": [
    "---"
   ]
  },
  {
   "cell_type": "markdown",
   "metadata": {},
   "source": [
    "### Cross Validation using Cross Validate\n",
    "used incase we want to evaluate multiple scoring techniques"
   ]
  },
  {
   "cell_type": "code",
   "execution_count": 50,
   "metadata": {},
   "outputs": [],
   "source": [
    "from sklearn.model_selection import cross_validate\n",
    "#incase we want to evaluate multiple scoring techniques"
   ]
  },
  {
   "cell_type": "code",
   "execution_count": 51,
   "metadata": {},
   "outputs": [],
   "source": [
    "scoring = { \"acc\": \"accuracy\", \n",
    "           \"prec\": \"precision_macro\",\n",
    "           \"f1\": \"f1_micro\" #formula same as accuracy, hence the values are exactly same\n",
    "          }\n",
    "#we need to use averaging techniques: macro / micro / weighted for multi-classification - for unbalanced dataset use micro or weighted average\n",
    "#for binary problems use binary averaging techniques: f1, precision, recall,roc_auc\n",
    "#for regression problems: use 'neg_mean_absolute_error', 'neg_mean_squared_error', \n",
    "#'neg_median_absolute_error', r2\n",
    "\n",
    "\n",
    "\n",
    "#Various possible scoring techniques:\n",
    "#['accuracy', 'adjusted_mutual_info_score', 'adjusted_rand_score', 'average_precision', \n",
    "#'completeness_score', 'explained_variance', 'f1', 'f1_macro', 'f1_micro', 'f1_samples', \n",
    "#'f1_weighted', 'fowlkes_mallows_score', 'homogeneity_score', 'mutual_info_score', \n",
    "#'neg_log_loss', 'neg_mean_absolute_error', 'neg_mean_squared_error', 'neg_mean_squared_log_error',\n",
    "#'neg_median_absolute_error', 'normalized_mutual_info_score', 'precision', 'precision_macro', \n",
    "#'precision_micro', 'precision_samples', 'precision_weighted', 'r2', 'recall', 'recall_macro', \n",
    "#'recall_micro', 'recall_samples', 'recall_weighted', 'roc_auc', 'v_measure_score']"
   ]
  },
  {
   "cell_type": "code",
   "execution_count": 52,
   "metadata": {},
   "outputs": [
    {
     "data": {
      "text/plain": [
       "{'fit_time': array([0.00499582, 0.00699377, 0.00599575, 0.00599551, 0.00799441]),\n",
       " 'score_time': array([0.10693431, 0.06695795, 0.06995821, 0.06795835, 0.07195425]),\n",
       " 'test_acc': array([1.        , 0.93333333, 1.        , 0.96666667, 0.93333333]),\n",
       " 'train_acc': array([0.95      , 0.96666667, 0.95      , 0.975     , 0.98333333]),\n",
       " 'test_prec': array([1.        , 0.93333333, 1.        , 0.97619048, 0.93333333]),\n",
       " 'train_prec': array([0.95238095, 0.96602564, 0.94987469, 0.97407407, 0.98351648]),\n",
       " 'test_f1': array([1.        , 0.93333333, 1.        , 0.96666667, 0.93333333]),\n",
       " 'train_f1': array([0.95      , 0.96666667, 0.95      , 0.975     , 0.98333333])}"
      ]
     },
     "execution_count": 52,
     "metadata": {},
     "output_type": "execute_result"
    }
   ],
   "source": [
    "scores = cross_validate(estimator = knn, X=X, y=y, cv= kf, scoring=scoring, return_train_score=True)\n",
    "scores #return_train_score will also return train accuracies"
   ]
  },
  {
   "cell_type": "code",
   "execution_count": 53,
   "metadata": {},
   "outputs": [
    {
     "data": {
      "text/plain": [
       "{'fit_time': array([0.0059967 , 0.00399661, 0.00299716, 0.00299811, 0.00399637]),\n",
       " 'score_time': array([0.07395267, 0.07995367, 0.05796337, 0.0599618 , 0.05296922]),\n",
       " 'test_acc': array([0.96666667, 0.96666667, 0.93333333, 0.96666667, 1.        ]),\n",
       " 'train_acc': array([0.95833333, 0.95833333, 0.96666667, 0.96666667, 0.95      ]),\n",
       " 'test_prec': array([0.96969697, 0.96969697, 0.94444444, 0.96969697, 1.        ]),\n",
       " 'train_prec': array([0.95851574, 0.95851574, 0.96741855, 0.96666667, 0.95      ]),\n",
       " 'test_f1': array([0.96666667, 0.96666667, 0.93333333, 0.96666667, 1.        ]),\n",
       " 'train_f1': array([0.95833333, 0.95833333, 0.96666667, 0.96666667, 0.95      ])}"
      ]
     },
     "execution_count": 53,
     "metadata": {},
     "output_type": "execute_result"
    }
   ],
   "source": [
    "scores = cross_validate(estimator = knn, X=X, y=y, cv= 5, scoring=scoring, return_train_score=True)\n",
    "scores"
   ]
  },
  {
   "cell_type": "code",
   "execution_count": 54,
   "metadata": {},
   "outputs": [
    {
     "data": {
      "text/plain": [
       "{'fit_time': array([0.00599432, 0.00299811, 0.00600004, 0.00299716, 0.00399756]),\n",
       " 'score_time': array([0.06196189, 0.05596519, 0.05396318, 0.05596471, 0.05496597]),\n",
       " 'test_acc': array([0.96666667, 0.96666667, 0.93333333, 0.96666667, 1.        ]),\n",
       " 'train_acc': array([0.95833333, 0.95833333, 0.96666667, 0.96666667, 0.95      ]),\n",
       " 'test_prec': array([0.96969697, 0.96969697, 0.94444444, 0.96969697, 1.        ]),\n",
       " 'train_prec': array([0.95851574, 0.95851574, 0.96741855, 0.96666667, 0.95      ]),\n",
       " 'test_f1': array([0.96666667, 0.96666667, 0.93333333, 0.96666667, 1.        ]),\n",
       " 'train_f1': array([0.95833333, 0.95833333, 0.96666667, 0.96666667, 0.95      ])}"
      ]
     },
     "execution_count": 54,
     "metadata": {},
     "output_type": "execute_result"
    }
   ],
   "source": [
    "scores = cross_validate(estimator = knn, X=X, y=y, cv= skf, scoring=scoring, return_train_score=True)\n",
    "scores"
   ]
  },
  {
   "cell_type": "markdown",
   "metadata": {},
   "source": [
    "---"
   ]
  }
 ],
 "metadata": {
  "kernelspec": {
   "display_name": "Python 3",
   "language": "python",
   "name": "python3"
  },
  "language_info": {
   "codemirror_mode": {
    "name": "ipython",
    "version": 3
   },
   "file_extension": ".py",
   "mimetype": "text/x-python",
   "name": "python",
   "nbconvert_exporter": "python",
   "pygments_lexer": "ipython3",
   "version": "3.6.8"
  }
 },
 "nbformat": 4,
 "nbformat_minor": 2
}
