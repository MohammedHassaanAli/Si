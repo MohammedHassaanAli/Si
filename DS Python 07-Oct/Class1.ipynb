{
 "cells": [
  {
   "cell_type": "markdown",
   "metadata": {},
   "source": [
    "# INTRODUCTION\n",
    "- Press ctrl + m to enter the command mode\n",
    "- Press enter key to enter the edit mode\n",
    "- Using the command mode I can execute any of the shortcut keys - ctrl + m or esc to enter the command mode\n",
    "\n",
    "\n",
    "#### Shortcut Keys (can be executed in the command mode)\n",
    "- Ctrl + enter / Shift + enter to execute a cell\n",
    "- Ctrl + enter to execute multiple cells together\n",
    "- F - Find an replace\n",
    "- ctrl + ] - to indent my code\n",
    "- ctrl + [ - to dedent my code\n",
    "- press M to make a cell markdown\n",
    "\n",
    "#### Why Python / R / SAS over C / C++ / Java\n",
    "Beacause these languages are called as statistical programming languages. They've got libraries and packages for statistical modeling. C / C++ / Java are the development programming languages\n",
    "\n",
    "#### Features of Python\n",
    "- Object Oriented language - encapsulation / polymorphism / inheritance\n",
    "- It's free (open source language)\n",
    "- Downloading and installing python is free and easy\n",
    "- Source Code is easily accessible\n",
    "- Python has a huge community support\n",
    "- As long as you have a compatible Python interpreter installed, Python programs will run exactly in the same way irrespective of platform.\n",
    "- Python can be linked to components of other languages quite easily. Python / C integration is quite common.\n",
    "- It's easy to use\n",
    "- No intermediate compile and link steps in Python like in C and C+. Pythong programs are compiled automatically to an intermediate form called bytecode, which interpreter can interpret. This gives Pythong the development speed of an interpreter without the performance loss i.e inherent in pure interpreted languages. \n",
    "- It's easy to learn\n",
    "- Case sensitive\n",
    "- Python is an indentation controlled language\n",
    "\n",
    "\n",
    "#### Object Orientedness\n",
    "- Encapsulation: everything is an object of some class (i.e encapsulated). Each class will have some attributes + methods\n",
    "- Inheritance - child class / parent class concept.\n",
    "- Abstraction \n",
    "- Polymorphism"
   ]
  },
  {
   "cell_type": "code",
   "execution_count": 11,
   "metadata": {},
   "outputs": [
    {
     "data": {
      "text/plain": [
       "15"
      ]
     },
     "execution_count": 11,
     "metadata": {},
     "output_type": "execute_result"
    }
   ],
   "source": [
    "x+10"
   ]
  },
  {
   "cell_type": "code",
   "execution_count": null,
   "metadata": {},
   "outputs": [],
   "source": [
    "for i in range(10):\n",
    "    print(i)\n",
    "    print(i**2)"
   ]
  },
  {
   "cell_type": "code",
   "execution_count": 8,
   "metadata": {},
   "outputs": [
    {
     "data": {
      "text/plain": [
       "'Samridhi Dutta'"
      ]
     },
     "execution_count": 8,
     "metadata": {},
     "output_type": "execute_result"
    }
   ],
   "source": [
    "\"Samridhi\" +\" \" +\"Dutta\""
   ]
  },
  {
   "cell_type": "code",
   "execution_count": 9,
   "metadata": {},
   "outputs": [],
   "source": [
    "class Person: #each class will have attributes + methods\n",
    "    def __init__(self, first, last): #first and last are arguments\n",
    "        self.firstname = first #firstname is the attribute of Person class\n",
    "        self.lastname = last #lastname is the attribute of Person class\n",
    "    def Name(self): #method \n",
    "        return self.firstname + \" \" + self.lastname"
   ]
  },
  {
   "cell_type": "code",
   "execution_count": 13,
   "metadata": {},
   "outputs": [],
   "source": [
    "x = Person(\"Samridhi\", \"Dutta\") #by default whenever I am instantiating a class, the init method is called at initialization and first-name and last-name is assigned the value. "
   ]
  },
  {
   "cell_type": "code",
   "execution_count": 11,
   "metadata": {},
   "outputs": [
    {
     "data": {
      "text/plain": [
       "'Samridhi'"
      ]
     },
     "execution_count": 11,
     "metadata": {},
     "output_type": "execute_result"
    }
   ],
   "source": [
    "x.firstname"
   ]
  },
  {
   "cell_type": "code",
   "execution_count": 6,
   "metadata": {},
   "outputs": [
    {
     "data": {
      "text/plain": [
       "'Dutta'"
      ]
     },
     "execution_count": 6,
     "metadata": {},
     "output_type": "execute_result"
    }
   ],
   "source": [
    "x.lastname"
   ]
  },
  {
   "cell_type": "code",
   "execution_count": 12,
   "metadata": {},
   "outputs": [
    {
     "data": {
      "text/plain": [
       "'Samridhi Dutta'"
      ]
     },
     "execution_count": 12,
     "metadata": {},
     "output_type": "execute_result"
    }
   ],
   "source": [
    "x.Name()"
   ]
  },
  {
   "cell_type": "code",
   "execution_count": 14,
   "metadata": {},
   "outputs": [
    {
     "data": {
      "text/plain": [
       "__main__.Person"
      ]
     },
     "execution_count": 14,
     "metadata": {},
     "output_type": "execute_result"
    }
   ],
   "source": [
    "type(x)"
   ]
  },
  {
   "cell_type": "code",
   "execution_count": 1,
   "metadata": {},
   "outputs": [
    {
     "data": {
      "text/plain": [
       "'C:\\\\Users\\\\Vaibhav\\\\Desktop\\\\7th_Oct'"
      ]
     },
     "execution_count": 1,
     "metadata": {},
     "output_type": "execute_result"
    }
   ],
   "source": [
    "pwd()"
   ]
  },
  {
   "cell_type": "markdown",
   "metadata": {},
   "source": [
    "#### Working directory or workspace is the folder from where by default a file will be read or be written to."
   ]
  }
 ],
 "metadata": {
  "kernelspec": {
   "display_name": "Python 3",
   "language": "python",
   "name": "python3"
  },
  "language_info": {
   "codemirror_mode": {
    "name": "ipython",
    "version": 3
   },
   "file_extension": ".py",
   "mimetype": "text/x-python",
   "name": "python",
   "nbconvert_exporter": "python",
   "pygments_lexer": "ipython3",
   "version": "3.6.8"
  }
 },
 "nbformat": 4,
 "nbformat_minor": 2
}
