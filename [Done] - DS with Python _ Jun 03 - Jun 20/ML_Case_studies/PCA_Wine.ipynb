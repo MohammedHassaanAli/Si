{
 "cells": [
  {
   "cell_type": "markdown",
   "metadata": {},
   "source": [
    "## PCA on Wine Data"
   ]
  },
  {
   "cell_type": "markdown",
   "metadata": {},
   "source": [
    "### We will apply pca on wine dataset"
   ]
  },
  {
   "cell_type": "code",
   "execution_count": 3,
   "metadata": {},
   "outputs": [],
   "source": [
    "import pandas as pd\n",
    "import numpy as np\n",
    "import matplotlib.pyplot as plt\n",
    "from sklearn.preprocessing import scale\n",
    "from sklearn.decomposition import PCA\n",
    "from sklearn.preprocessing import StandardScaler"
   ]
  },
  {
   "cell_type": "code",
   "execution_count": 4,
   "metadata": {},
   "outputs": [
    {
     "name": "stdout",
     "output_type": "stream",
     "text": [
      "<class 'pandas.core.frame.DataFrame'>\n",
      "Int64Index: 25 entries, 1952 to 1978\n",
      "Data columns (total 6 columns):\n",
      "Price          25 non-null float64\n",
      "WinterRain     25 non-null int64\n",
      "AGST           25 non-null float64\n",
      "HarvestRain    25 non-null int64\n",
      "Age            25 non-null int64\n",
      "FrancePop      25 non-null float64\n",
      "dtypes: float64(3), int64(3)\n",
      "memory usage: 1.4 KB\n"
     ]
    }
   ],
   "source": [
    "wine = pd.read_csv('C:\\\\Users\\\\Vaibhav\\\\Desktop\\\\BA\\\\Datasets\\\\wine.csv', index_col=0)\n",
    "wine.info()"
   ]
  },
  {
   "cell_type": "code",
   "execution_count": 19,
   "metadata": {},
   "outputs": [
    {
     "data": {
      "text/html": [
       "<div>\n",
       "<style scoped>\n",
       "    .dataframe tbody tr th:only-of-type {\n",
       "        vertical-align: middle;\n",
       "    }\n",
       "\n",
       "    .dataframe tbody tr th {\n",
       "        vertical-align: top;\n",
       "    }\n",
       "\n",
       "    .dataframe thead th {\n",
       "        text-align: right;\n",
       "    }\n",
       "</style>\n",
       "<table border=\"1\" class=\"dataframe\">\n",
       "  <thead>\n",
       "    <tr style=\"text-align: right;\">\n",
       "      <th></th>\n",
       "      <th>Price</th>\n",
       "      <th>WinterRain</th>\n",
       "      <th>AGST</th>\n",
       "      <th>HarvestRain</th>\n",
       "      <th>Age</th>\n",
       "      <th>FrancePop</th>\n",
       "    </tr>\n",
       "    <tr>\n",
       "      <th>Year</th>\n",
       "      <th></th>\n",
       "      <th></th>\n",
       "      <th></th>\n",
       "      <th></th>\n",
       "      <th></th>\n",
       "      <th></th>\n",
       "    </tr>\n",
       "  </thead>\n",
       "  <tbody>\n",
       "    <tr>\n",
       "      <th>1952</th>\n",
       "      <td>7.4950</td>\n",
       "      <td>600</td>\n",
       "      <td>17.1167</td>\n",
       "      <td>160</td>\n",
       "      <td>31</td>\n",
       "      <td>43183.569</td>\n",
       "    </tr>\n",
       "    <tr>\n",
       "      <th>1953</th>\n",
       "      <td>8.0393</td>\n",
       "      <td>690</td>\n",
       "      <td>16.7333</td>\n",
       "      <td>80</td>\n",
       "      <td>30</td>\n",
       "      <td>43495.030</td>\n",
       "    </tr>\n",
       "    <tr>\n",
       "      <th>1955</th>\n",
       "      <td>7.6858</td>\n",
       "      <td>502</td>\n",
       "      <td>17.1500</td>\n",
       "      <td>130</td>\n",
       "      <td>28</td>\n",
       "      <td>44217.857</td>\n",
       "    </tr>\n",
       "  </tbody>\n",
       "</table>\n",
       "</div>"
      ],
      "text/plain": [
       "       Price  WinterRain     AGST  HarvestRain  Age  FrancePop\n",
       "Year                                                          \n",
       "1952  7.4950         600  17.1167          160   31  43183.569\n",
       "1953  8.0393         690  16.7333           80   30  43495.030\n",
       "1955  7.6858         502  17.1500          130   28  44217.857"
      ]
     },
     "execution_count": 19,
     "metadata": {},
     "output_type": "execute_result"
    }
   ],
   "source": [
    "wine.head(3)"
   ]
  },
  {
   "cell_type": "code",
   "execution_count": 21,
   "metadata": {},
   "outputs": [
    {
     "data": {
      "text/plain": [
       "Index(['WinterRain', 'AGST', 'HarvestRain', 'Age', 'FrancePop'], dtype='object')"
      ]
     },
     "execution_count": 21,
     "metadata": {},
     "output_type": "execute_result"
    }
   ],
   "source": [
    "wine.columns[1:7]"
   ]
  },
  {
   "cell_type": "markdown",
   "metadata": {},
   "source": [
    "### Applying PCA on relevant predictors"
   ]
  },
  {
   "cell_type": "code",
   "execution_count": 22,
   "metadata": {},
   "outputs": [
    {
     "data": {
      "text/html": [
       "<div>\n",
       "<style scoped>\n",
       "    .dataframe tbody tr th:only-of-type {\n",
       "        vertical-align: middle;\n",
       "    }\n",
       "\n",
       "    .dataframe tbody tr th {\n",
       "        vertical-align: top;\n",
       "    }\n",
       "\n",
       "    .dataframe thead th {\n",
       "        text-align: right;\n",
       "    }\n",
       "</style>\n",
       "<table border=\"1\" class=\"dataframe\">\n",
       "  <thead>\n",
       "    <tr style=\"text-align: right;\">\n",
       "      <th></th>\n",
       "      <th>WinterRain</th>\n",
       "      <th>AGST</th>\n",
       "      <th>HarvestRain</th>\n",
       "      <th>Age</th>\n",
       "      <th>FrancePop</th>\n",
       "    </tr>\n",
       "    <tr>\n",
       "      <th>Year</th>\n",
       "      <th></th>\n",
       "      <th></th>\n",
       "      <th></th>\n",
       "      <th></th>\n",
       "      <th></th>\n",
       "    </tr>\n",
       "  </thead>\n",
       "  <tbody>\n",
       "    <tr>\n",
       "      <th>1952</th>\n",
       "      <td>600</td>\n",
       "      <td>17.1167</td>\n",
       "      <td>160</td>\n",
       "      <td>31</td>\n",
       "      <td>43183.569</td>\n",
       "    </tr>\n",
       "    <tr>\n",
       "      <th>1953</th>\n",
       "      <td>690</td>\n",
       "      <td>16.7333</td>\n",
       "      <td>80</td>\n",
       "      <td>30</td>\n",
       "      <td>43495.030</td>\n",
       "    </tr>\n",
       "    <tr>\n",
       "      <th>1955</th>\n",
       "      <td>502</td>\n",
       "      <td>17.1500</td>\n",
       "      <td>130</td>\n",
       "      <td>28</td>\n",
       "      <td>44217.857</td>\n",
       "    </tr>\n",
       "  </tbody>\n",
       "</table>\n",
       "</div>"
      ],
      "text/plain": [
       "      WinterRain     AGST  HarvestRain  Age  FrancePop\n",
       "Year                                                  \n",
       "1952         600  17.1167          160   31  43183.569\n",
       "1953         690  16.7333           80   30  43495.030\n",
       "1955         502  17.1500          130   28  44217.857"
      ]
     },
     "execution_count": 22,
     "metadata": {},
     "output_type": "execute_result"
    }
   ],
   "source": [
    "wine.iloc[:3,1:7]"
   ]
  },
  {
   "cell_type": "code",
   "execution_count": 9,
   "metadata": {},
   "outputs": [],
   "source": [
    "scalar = StandardScaler()"
   ]
  },
  {
   "cell_type": "code",
   "execution_count": 23,
   "metadata": {},
   "outputs": [
    {
     "data": {
      "text/plain": [
       "StandardScaler(copy=True, with_mean=True, with_std=True)"
      ]
     },
     "execution_count": 23,
     "metadata": {},
     "output_type": "execute_result"
    }
   ],
   "source": [
    "scalar.fit(wine.iloc[:,1:7])"
   ]
  },
  {
   "cell_type": "code",
   "execution_count": 24,
   "metadata": {},
   "outputs": [
    {
     "data": {
      "text/plain": [
       "array([[-0.04073904,  0.91781344,  0.15689311,  1.83106988, -1.81299772],\n",
       "       [ 0.65367643,  0.33844148, -0.9402615 ,  1.69838366, -1.72626917],\n",
       "       [-0.79688033,  0.96813448, -0.25453987,  1.43301121, -1.52499282],\n",
       "       [-1.42956998, -0.56824391, -0.52882852,  1.16763876, -1.26480385],\n",
       "       [-0.17962214, -0.13998618,  0.52718279,  1.03495254, -1.12514283],\n",
       "       [-0.9280477 ,  1.47179821,  0.52718279,  0.90226632, -0.99292218],\n",
       "       [ 1.21692453, -0.13998618,  1.93976934,  0.76958009, -0.86612477],\n",
       "       [ 1.73387827,  1.24512687, -1.51626767,  0.63689387, -0.71464129],\n",
       "       [ 0.70768652, -0.31633649, -1.32426561,  0.50420765, -0.44713641],\n",
       "       [ 0.02098678, -1.1977858 ,  0.08832095,  0.37152142, -0.24934356],\n",
       "       [-1.56845308,  1.14448479, -0.72083058,  0.2388352 , -0.09397755],\n",
       "       [-0.02530759, -1.72668561,  1.6243374 ,  0.10614898,  0.02990191],\n",
       "       [ 1.64900527,  0.03621301, -0.8579749 , -0.02653724,  0.15608338],\n",
       "       [ 0.83885389, -0.41712968, -0.41911306, -0.15922347,  0.26619648],\n",
       "       [ 0.03641823, -0.46745072,  1.96719821, -0.29190969,  0.37312597],\n",
       "       [-0.23363223,  0.06144909,  1.30890545, -0.42459591,  0.49449514],\n",
       "       [ 0.12900696,  0.2377994 , -0.8168316 , -0.55728214,  0.61927541],\n",
       "       [-0.41880969,  0.38891363, -0.50139966, -0.68996836,  0.76219578],\n",
       "       [-0.5345456 , -2.30605757,  0.12946424, -0.82265458,  0.89099224],\n",
       "       [-1.76906199,  0.84225633, -0.3505409 , -0.95534081,  1.01312967],\n",
       "       [-0.24134795, -0.31633649,  0.48603949, -1.08802703,  1.11248458],\n",
       "       [-0.25677941,  0.66590602,  0.30775187, -1.22071325,  1.18639602],\n",
       "       [-1.44500144,  1.72370564,  1.35004874, -1.35339948,  1.24320323],\n",
       "       [ 1.66443673, -1.39937219, -0.84426047, -1.4860857 ,  1.3042725 ],\n",
       "       [ 1.21692453, -1.04667157, -1.33798004, -1.61877192,  1.36659984]])"
      ]
     },
     "execution_count": 24,
     "metadata": {},
     "output_type": "execute_result"
    }
   ],
   "source": [
    "scalar.transform(wine.iloc[:,1:7])"
   ]
  },
  {
   "cell_type": "code",
   "execution_count": 25,
   "metadata": {},
   "outputs": [
    {
     "data": {
      "text/html": [
       "<div>\n",
       "<style scoped>\n",
       "    .dataframe tbody tr th:only-of-type {\n",
       "        vertical-align: middle;\n",
       "    }\n",
       "\n",
       "    .dataframe tbody tr th {\n",
       "        vertical-align: top;\n",
       "    }\n",
       "\n",
       "    .dataframe thead th {\n",
       "        text-align: right;\n",
       "    }\n",
       "</style>\n",
       "<table border=\"1\" class=\"dataframe\">\n",
       "  <thead>\n",
       "    <tr style=\"text-align: right;\">\n",
       "      <th></th>\n",
       "      <th>WinterRain</th>\n",
       "      <th>AGST</th>\n",
       "      <th>HarvestRain</th>\n",
       "      <th>Age</th>\n",
       "      <th>FrancePop</th>\n",
       "    </tr>\n",
       "  </thead>\n",
       "  <tbody>\n",
       "    <tr>\n",
       "      <th>0</th>\n",
       "      <td>-0.040739</td>\n",
       "      <td>0.917813</td>\n",
       "      <td>0.156893</td>\n",
       "      <td>1.831070</td>\n",
       "      <td>-1.812998</td>\n",
       "    </tr>\n",
       "    <tr>\n",
       "      <th>1</th>\n",
       "      <td>0.653676</td>\n",
       "      <td>0.338441</td>\n",
       "      <td>-0.940261</td>\n",
       "      <td>1.698384</td>\n",
       "      <td>-1.726269</td>\n",
       "    </tr>\n",
       "    <tr>\n",
       "      <th>2</th>\n",
       "      <td>-0.796880</td>\n",
       "      <td>0.968134</td>\n",
       "      <td>-0.254540</td>\n",
       "      <td>1.433011</td>\n",
       "      <td>-1.524993</td>\n",
       "    </tr>\n",
       "  </tbody>\n",
       "</table>\n",
       "</div>"
      ],
      "text/plain": [
       "   WinterRain      AGST  HarvestRain       Age  FrancePop\n",
       "0   -0.040739  0.917813     0.156893  1.831070  -1.812998\n",
       "1    0.653676  0.338441    -0.940261  1.698384  -1.726269\n",
       "2   -0.796880  0.968134    -0.254540  1.433011  -1.524993"
      ]
     },
     "execution_count": 25,
     "metadata": {},
     "output_type": "execute_result"
    }
   ],
   "source": [
    "X = pd.DataFrame(scalar.transform(wine.iloc[:,1:7]),columns=wine.columns[1:7])\n",
    "X.head(3)"
   ]
  },
  {
   "cell_type": "code",
   "execution_count": 26,
   "metadata": {},
   "outputs": [
    {
     "data": {
      "text/plain": [
       "(WinterRain     1.865175e-16\n",
       " AGST          -1.962874e-15\n",
       " HarvestRain   -1.776357e-17\n",
       " Age            1.865175e-16\n",
       " FrancePop      8.437695e-16\n",
       " dtype: float64, WinterRain     1.020621\n",
       " AGST           1.020621\n",
       " HarvestRain    1.020621\n",
       " Age            1.020621\n",
       " FrancePop      1.020621\n",
       " dtype: float64)"
      ]
     },
     "execution_count": 26,
     "metadata": {},
     "output_type": "execute_result"
    }
   ],
   "source": [
    "X.mean(),X.std()"
   ]
  },
  {
   "cell_type": "code",
   "execution_count": 7,
   "metadata": {},
   "outputs": [],
   "source": [
    "pca_wine = PCA()"
   ]
  },
  {
   "cell_type": "code",
   "execution_count": 27,
   "metadata": {},
   "outputs": [
    {
     "data": {
      "text/plain": [
       "PCA(copy=True, iterated_power='auto', n_components=None, random_state=None,\n",
       "  svd_solver='auto', tol=0.0, whiten=False)"
      ]
     },
     "execution_count": 27,
     "metadata": {},
     "output_type": "execute_result"
    }
   ],
   "source": [
    "pca_wine.fit(X)"
   ]
  },
  {
   "cell_type": "code",
   "execution_count": 28,
   "metadata": {},
   "outputs": [
    {
     "data": {
      "text/plain": [
       "array([[-0.09395915,  0.32836427, -0.0367977 ,  0.66342357, -0.66472828],\n",
       "       [-0.73840464,  0.38065779,  0.52444119, -0.12589423,  0.13773276],\n",
       "       [ 0.12564301, -0.62649747,  0.72388065,  0.19142246, -0.17626401],\n",
       "       [-0.65563602, -0.59544647, -0.44675373,  0.10156506, -0.07536942],\n",
       "       [-0.01689675, -0.01486508,  0.00390888, -0.70502609, -0.70881341]])"
      ]
     },
     "execution_count": 28,
     "metadata": {},
     "output_type": "execute_result"
    }
   ],
   "source": [
    "pca_wine.components_"
   ]
  },
  {
   "cell_type": "code",
   "execution_count": 29,
   "metadata": {},
   "outputs": [
    {
     "data": {
      "text/plain": [
       "(5, 5)"
      ]
     },
     "execution_count": 29,
     "metadata": {},
     "output_type": "execute_result"
    }
   ],
   "source": [
    "pca_wine.components_.shape"
   ]
  },
  {
   "cell_type": "code",
   "execution_count": 30,
   "metadata": {},
   "outputs": [
    {
     "data": {
      "text/html": [
       "<div>\n",
       "<style scoped>\n",
       "    .dataframe tbody tr th:only-of-type {\n",
       "        vertical-align: middle;\n",
       "    }\n",
       "\n",
       "    .dataframe tbody tr th {\n",
       "        vertical-align: top;\n",
       "    }\n",
       "\n",
       "    .dataframe thead th {\n",
       "        text-align: right;\n",
       "    }\n",
       "</style>\n",
       "<table border=\"1\" class=\"dataframe\">\n",
       "  <thead>\n",
       "    <tr style=\"text-align: right;\">\n",
       "      <th></th>\n",
       "      <th>PC1</th>\n",
       "      <th>PC2</th>\n",
       "      <th>PC3</th>\n",
       "      <th>PC4</th>\n",
       "      <th>PC5</th>\n",
       "    </tr>\n",
       "  </thead>\n",
       "  <tbody>\n",
       "    <tr>\n",
       "      <th>WinterRain</th>\n",
       "      <td>-0.093959</td>\n",
       "      <td>-0.738405</td>\n",
       "      <td>0.125643</td>\n",
       "      <td>-0.655636</td>\n",
       "      <td>-0.016897</td>\n",
       "    </tr>\n",
       "    <tr>\n",
       "      <th>AGST</th>\n",
       "      <td>0.328364</td>\n",
       "      <td>0.380658</td>\n",
       "      <td>-0.626497</td>\n",
       "      <td>-0.595446</td>\n",
       "      <td>-0.014865</td>\n",
       "    </tr>\n",
       "    <tr>\n",
       "      <th>HarvestRain</th>\n",
       "      <td>-0.036798</td>\n",
       "      <td>0.524441</td>\n",
       "      <td>0.723881</td>\n",
       "      <td>-0.446754</td>\n",
       "      <td>0.003909</td>\n",
       "    </tr>\n",
       "    <tr>\n",
       "      <th>Age</th>\n",
       "      <td>0.663424</td>\n",
       "      <td>-0.125894</td>\n",
       "      <td>0.191422</td>\n",
       "      <td>0.101565</td>\n",
       "      <td>-0.705026</td>\n",
       "    </tr>\n",
       "    <tr>\n",
       "      <th>FrancePop</th>\n",
       "      <td>-0.664728</td>\n",
       "      <td>0.137733</td>\n",
       "      <td>-0.176264</td>\n",
       "      <td>-0.075369</td>\n",
       "      <td>-0.708813</td>\n",
       "    </tr>\n",
       "  </tbody>\n",
       "</table>\n",
       "</div>"
      ],
      "text/plain": [
       "                  PC1       PC2       PC3       PC4       PC5\n",
       "WinterRain  -0.093959 -0.738405  0.125643 -0.655636 -0.016897\n",
       "AGST         0.328364  0.380658 -0.626497 -0.595446 -0.014865\n",
       "HarvestRain -0.036798  0.524441  0.723881 -0.446754  0.003909\n",
       "Age          0.663424 -0.125894  0.191422  0.101565 -0.705026\n",
       "FrancePop   -0.664728  0.137733 -0.176264 -0.075369 -0.708813"
      ]
     },
     "execution_count": 30,
     "metadata": {},
     "output_type": "execute_result"
    }
   ],
   "source": [
    "pca_loadings = pd.DataFrame(pca_wine.components_,index = ['PC1','PC2','PC3','PC4', 'PC5'],columns=wine.columns[1:7])\n",
    "pca_loadings\n",
    "pca_loadings.T\n",
    "#PC1 = -.09 * WinterRain + .328 * AGST -.03 * HarvestRain + .663 * Age -.6647*FrancePop"
   ]
  },
  {
   "cell_type": "code",
   "execution_count": 35,
   "metadata": {},
   "outputs": [
    {
     "data": {
      "text/plain": [
       "array([2.21105199, 1.41517051, 1.03183011, 0.54493978, 0.00534095])"
      ]
     },
     "execution_count": 35,
     "metadata": {},
     "output_type": "execute_result"
    }
   ],
   "source": [
    "pca_wine.explained_variance_"
   ]
  },
  {
   "cell_type": "code",
   "execution_count": 32,
   "metadata": {},
   "outputs": [
    {
     "data": {
      "text/plain": [
       "array([0.42452198, 0.27171274, 0.19811138, 0.10462844, 0.00102546])"
      ]
     },
     "execution_count": 32,
     "metadata": {},
     "output_type": "execute_result"
    }
   ],
   "source": [
    "pca_wine.explained_variance_ratio_"
   ]
  },
  {
   "cell_type": "code",
   "execution_count": 37,
   "metadata": {},
   "outputs": [
    {
     "data": {
      "text/html": [
       "<div>\n",
       "<style scoped>\n",
       "    .dataframe tbody tr th:only-of-type {\n",
       "        vertical-align: middle;\n",
       "    }\n",
       "\n",
       "    .dataframe tbody tr th {\n",
       "        vertical-align: top;\n",
       "    }\n",
       "\n",
       "    .dataframe thead th {\n",
       "        text-align: right;\n",
       "    }\n",
       "</style>\n",
       "<table border=\"1\" class=\"dataframe\">\n",
       "  <thead>\n",
       "    <tr style=\"text-align: right;\">\n",
       "      <th></th>\n",
       "      <th>PC1</th>\n",
       "      <th>PC2</th>\n",
       "      <th>PC3</th>\n",
       "      <th>PC4</th>\n",
       "      <th>PC5</th>\n",
       "    </tr>\n",
       "  </thead>\n",
       "  <tbody>\n",
       "    <tr>\n",
       "      <th>0</th>\n",
       "      <td>2.719357</td>\n",
       "      <td>-0.018494</td>\n",
       "      <td>0.203520</td>\n",
       "      <td>-0.267274</td>\n",
       "      <td>-0.018217</td>\n",
       "    </tr>\n",
       "    <tr>\n",
       "      <th>1</th>\n",
       "      <td>2.358560</td>\n",
       "      <td>-1.298540</td>\n",
       "      <td>-0.181152</td>\n",
       "      <td>0.092572</td>\n",
       "      <td>0.006447</td>\n",
       "    </tr>\n",
       "    <tr>\n",
       "      <th>2</th>\n",
       "      <td>2.366541</td>\n",
       "      <td>0.433008</td>\n",
       "      <td>-0.347801</td>\n",
       "      <td>0.320190</td>\n",
       "      <td>0.068703</td>\n",
       "    </tr>\n",
       "    <tr>\n",
       "      <th>3</th>\n",
       "      <td>1.582580</td>\n",
       "      <td>0.240751</td>\n",
       "      <td>0.240031</td>\n",
       "      <td>1.725811</td>\n",
       "      <td>0.103829</td>\n",
       "    </tr>\n",
       "    <tr>\n",
       "      <th>4</th>\n",
       "      <td>1.386038</td>\n",
       "      <td>0.070560</td>\n",
       "      <td>0.843185</td>\n",
       "      <td>0.155517</td>\n",
       "      <td>0.075024</td>\n",
       "    </tr>\n",
       "    <tr>\n",
       "      <th>5</th>\n",
       "      <td>1.809694</td>\n",
       "      <td>1.271655</td>\n",
       "      <td>-0.309333</td>\n",
       "      <td>-0.336962</td>\n",
       "      <td>0.063539</td>\n",
       "    </tr>\n",
       "    <tr>\n",
       "      <th>6</th>\n",
       "      <td>0.854608</td>\n",
       "      <td>-0.150754</td>\n",
       "      <td>1.944742</td>\n",
       "      <td>-1.437663</td>\n",
       "      <td>0.060448</td>\n",
       "    </tr>\n",
       "  </tbody>\n",
       "</table>\n",
       "</div>"
      ],
      "text/plain": [
       "        PC1       PC2       PC3       PC4       PC5\n",
       "0  2.719357 -0.018494  0.203520 -0.267274 -0.018217\n",
       "1  2.358560 -1.298540 -0.181152  0.092572  0.006447\n",
       "2  2.366541  0.433008 -0.347801  0.320190  0.068703\n",
       "3  1.582580  0.240751  0.240031  1.725811  0.103829\n",
       "4  1.386038  0.070560  0.843185  0.155517  0.075024\n",
       "5  1.809694  1.271655 -0.309333 -0.336962  0.063539\n",
       "6  0.854608 -0.150754  1.944742 -1.437663  0.060448"
      ]
     },
     "execution_count": 37,
     "metadata": {},
     "output_type": "execute_result"
    }
   ],
   "source": [
    "PCscore = pd.DataFrame(pca_wine.fit_transform(X),columns=pca_loadings.T.columns)\n",
    "PCscore[:7]"
   ]
  },
  {
   "cell_type": "markdown",
   "metadata": {},
   "source": [
    "### Create Bi-plot"
   ]
  },
  {
   "cell_type": "code",
   "execution_count": 45,
   "metadata": {},
   "outputs": [
    {
     "name": "stdout",
     "output_type": "stream",
     "text": [
      "                  PC1       PC2       PC3       PC4       PC5\n",
      "WinterRain  -0.093959 -0.738405  0.125643 -0.655636 -0.016897\n",
      "AGST         0.328364  0.380658 -0.626497 -0.595446 -0.014865\n",
      "HarvestRain -0.036798  0.524441  0.723881 -0.446754  0.003909\n",
      "Age          0.663424 -0.125894  0.191422  0.101565 -0.705026\n",
      "FrancePop   -0.664728  0.137733 -0.176264 -0.075369 -0.708813\n"
     ]
    },
    {
     "data": {
      "text/plain": [
       "<matplotlib.patches.FancyArrow at 0x1392ed5ca58>"
      ]
     },
     "execution_count": 45,
     "metadata": {},
     "output_type": "execute_result"
    },
    {
     "data": {
      "image/png": "[encoded data removed]",
      "text/plain": [
       "<Figure size 1080x864 with 3 Axes>"
      ]
     },
     "metadata": {},
     "output_type": "display_data"
    }
   ],
   "source": [
    "fig,ax1 =plt.subplots(figsize=(15,12))\n",
    "ax1.set_xlim(-3.5,3.5)\n",
    "ax1.set_ylim(-3.5,3.5)\n",
    "# Plot Principal Components 1 and 2\n",
    "for i in PCscore.index:\n",
    "    ax1.annotate(i, (PCscore.PC1.loc[i], PCscore.PC2.loc[i]), ha='center')\n",
    "# Plot reference lines\n",
    "ax1.hlines(0,-3.5,3.5, linestyles='dotted', colors='grey')\n",
    "ax1.vlines(0,-3.5,3.5, linestyles='dotted', colors='grey')\n",
    "\n",
    "ax1.set_xlabel('First Principal Component')\n",
    "ax1.set_ylabel('Second Principal Component')\n",
    "\n",
    "# Plot Principal Component loading vectors, using a second y-axis.\n",
    "ax2 = ax1.twinx().twiny() \n",
    "ax2.set_ylim(-1,1)\n",
    "ax2.set_xlim(-1,1)\n",
    "ax2.tick_params(axis='y', colors='orange')\n",
    "ax2.set_xlabel('Principal Component loading vectors', color='orange')\n",
    "\n",
    "# Plot labels for vectors. Variable 'a' is a small offset parameter to separate arrow tip and text.\n",
    "print(pca_loadings.T)\n",
    "for i in pca_loadings.T[['PC1', 'PC2']].index:\n",
    "    ax2.annotate(i, (pca_loadings.T.PC1.loc[i], pca_loadings.T.PC2.loc[i]), color='orange')\n",
    "    \n",
    "# Plot vectors\n",
    "ax2.arrow(0,0,pca_loadings.T.PC1[0], pca_loadings.T.PC2[0])\n",
    "ax2.arrow(0,0,pca_loadings.T.PC1[1], pca_loadings.T.PC2[1])\n",
    "ax2.arrow(0,0,pca_loadings.T.PC1[2], pca_loadings.T.PC2[2])\n",
    "ax2.arrow(0,0,pca_loadings.T.PC1[3], pca_loadings.T.PC2[3])\n",
    "ax2.arrow(0,0,pca_loadings.T.PC1[4], pca_loadings.T.PC2[4])"
   ]
  },
  {
   "cell_type": "markdown",
   "metadata": {},
   "source": [
    "### Creating Scree and Cumulative Plots"
   ]
  },
  {
   "cell_type": "code",
   "execution_count": 46,
   "metadata": {},
   "outputs": [
    {
     "data": {
      "image/png": "[encoded data removed]",
      "text/plain": [
       "<Figure size 504x360 with 1 Axes>"
      ]
     },
     "metadata": {
      "needs_background": "light"
     },
     "output_type": "display_data"
    }
   ],
   "source": [
    "plt.figure(figsize=(7,5))\n",
    "plt.plot([1,2,3,4,5],pca_wine.explained_variance_ratio_, '-o', label='Individual component')\n",
    "plt.ylabel('Proportion of Variance Explained')\n",
    "plt.xlabel('Principal Component')\n",
    "plt.xlim(0.75,4.25)\n",
    "plt.ylim(-0.02,0.6)\n",
    "plt.xticks([1,2,3,4,5,6])\n",
    "plt.legend(loc=2);"
   ]
  },
  {
   "cell_type": "code",
   "execution_count": 47,
   "metadata": {},
   "outputs": [
    {
     "data": {
      "image/png": "[encoded data removed]",
      "text/plain": [
       "<Figure size 432x288 with 1 Axes>"
      ]
     },
     "metadata": {
      "needs_background": "light"
     },
     "output_type": "display_data"
    }
   ],
   "source": [
    "plt.plot([1,2,3,4,5], np.cumsum(pca_wine.explained_variance_ratio_), '-s', label='Cumulative')\n",
    "plt.ylabel('Proportion of Variance Explained')\n",
    "plt.xlabel('Principal Component')\n",
    "#plt.xlim(0.75,4.25)\n",
    "#plt.ylim(0.3,1.05)\n",
    "plt.xticks([1,2,3,4,5])\n",
    "plt.legend(loc=2);"
   ]
  },
  {
   "cell_type": "code",
   "execution_count": null,
   "metadata": {},
   "outputs": [],
   "source": [
    "#Select upto PC4"
   ]
  },
  {
   "cell_type": "markdown",
   "metadata": {},
   "source": [
    "### Building linear regression model using Principle components"
   ]
  },
  {
   "cell_type": "code",
   "execution_count": 48,
   "metadata": {},
   "outputs": [],
   "source": [
    "from sklearn.linear_model import LinearRegression"
   ]
  },
  {
   "cell_type": "code",
   "execution_count": 49,
   "metadata": {},
   "outputs": [],
   "source": [
    "lm=LinearRegression()"
   ]
  },
  {
   "cell_type": "code",
   "execution_count": 50,
   "metadata": {},
   "outputs": [
    {
     "data": {
      "text/plain": [
       "LinearRegression(copy_X=True, fit_intercept=True, n_jobs=1, normalize=False)"
      ]
     },
     "execution_count": 50,
     "metadata": {},
     "output_type": "execute_result"
    }
   ],
   "source": [
    "lm.fit(PCscore.iloc[:,:4],wine.Price)"
   ]
  },
  {
   "cell_type": "code",
   "execution_count": 51,
   "metadata": {},
   "outputs": [
    {
     "data": {
      "text/plain": [
       "array([ 0.24972259, -0.12473195, -0.40900723, -0.18269989])"
      ]
     },
     "execution_count": 51,
     "metadata": {},
     "output_type": "execute_result"
    }
   ],
   "source": [
    "lm.coef_"
   ]
  },
  {
   "cell_type": "code",
   "execution_count": 52,
   "metadata": {},
   "outputs": [
    {
     "data": {
      "text/plain": [
       "0.8291961446571084"
      ]
     },
     "execution_count": 52,
     "metadata": {},
     "output_type": "execute_result"
    }
   ],
   "source": [
    "#Accuracy on training data\n",
    "lm.score(PCscore.iloc[:,:4],wine.Price)"
   ]
  },
  {
   "cell_type": "markdown",
   "metadata": {},
   "source": [
    "### Making Predictions"
   ]
  },
  {
   "cell_type": "markdown",
   "metadata": {},
   "source": [
    "We cannot convert test data into principal components, by applying pca. Instead we have to apply same transformations on test data as we did for train data"
   ]
  },
  {
   "cell_type": "code",
   "execution_count": 53,
   "metadata": {},
   "outputs": [
    {
     "data": {
      "text/html": [
       "<div>\n",
       "<style scoped>\n",
       "    .dataframe tbody tr th:only-of-type {\n",
       "        vertical-align: middle;\n",
       "    }\n",
       "\n",
       "    .dataframe tbody tr th {\n",
       "        vertical-align: top;\n",
       "    }\n",
       "\n",
       "    .dataframe thead th {\n",
       "        text-align: right;\n",
       "    }\n",
       "</style>\n",
       "<table border=\"1\" class=\"dataframe\">\n",
       "  <thead>\n",
       "    <tr style=\"text-align: right;\">\n",
       "      <th></th>\n",
       "      <th>Year</th>\n",
       "      <th>Price</th>\n",
       "      <th>WinterRain</th>\n",
       "      <th>AGST</th>\n",
       "      <th>HarvestRain</th>\n",
       "      <th>Age</th>\n",
       "      <th>FrancePop</th>\n",
       "    </tr>\n",
       "  </thead>\n",
       "  <tbody>\n",
       "    <tr>\n",
       "      <th>0</th>\n",
       "      <td>1979</td>\n",
       "      <td>6.9541</td>\n",
       "      <td>717</td>\n",
       "      <td>16.1667</td>\n",
       "      <td>122</td>\n",
       "      <td>4</td>\n",
       "      <td>54835.832</td>\n",
       "    </tr>\n",
       "    <tr>\n",
       "      <th>1</th>\n",
       "      <td>1980</td>\n",
       "      <td>6.4979</td>\n",
       "      <td>578</td>\n",
       "      <td>16.0000</td>\n",
       "      <td>74</td>\n",
       "      <td>3</td>\n",
       "      <td>55110.236</td>\n",
       "    </tr>\n",
       "  </tbody>\n",
       "</table>\n",
       "</div>"
      ],
      "text/plain": [
       "   Year   Price  WinterRain     AGST  HarvestRain  Age  FrancePop\n",
       "0  1979  6.9541         717  16.1667          122    4  54835.832\n",
       "1  1980  6.4979         578  16.0000           74    3  55110.236"
      ]
     },
     "execution_count": 53,
     "metadata": {},
     "output_type": "execute_result"
    }
   ],
   "source": [
    "wineTest = pd.read_csv('C:\\\\Users\\\\Vaibhav\\\\Desktop\\\\BA\\\\Datasets\\\\wine_test.csv')\n",
    "wineTest"
   ]
  },
  {
   "cell_type": "code",
   "execution_count": 54,
   "metadata": {},
   "outputs": [
    {
     "data": {
      "text/plain": [
       "array([[ 0.86200107, -0.51777176, -0.36425533, -1.75145815,  1.43165829],\n",
       "       [-0.21048505, -0.76967918, -1.02254809, -1.88414437,  1.50806805]])"
      ]
     },
     "execution_count": 54,
     "metadata": {},
     "output_type": "execute_result"
    }
   ],
   "source": [
    "test_scaled = scalar.transform(wineTest.iloc[:,2:7])\n",
    "test_scaled"
   ]
  },
  {
   "cell_type": "code",
   "execution_count": 55,
   "metadata": {},
   "outputs": [
    {
     "data": {
      "text/plain": [
       "array([[-2.35122924, -0.60694522, -0.41860853, -0.37991137,  0.21175297],\n",
       "       [-2.44777199, -0.2289143 , -0.91093235,  0.74810605,  0.27043292]])"
      ]
     },
     "execution_count": 55,
     "metadata": {},
     "output_type": "execute_result"
    }
   ],
   "source": [
    "pca_test = pca_wine.transform(test_scaled)\n",
    "pca_test"
   ]
  },
  {
   "cell_type": "code",
   "execution_count": 56,
   "metadata": {},
   "outputs": [
    {
     "data": {
      "text/plain": [
       "(2, 5)"
      ]
     },
     "execution_count": 56,
     "metadata": {},
     "output_type": "execute_result"
    }
   ],
   "source": [
    "pca_test.shape"
   ]
  },
  {
   "cell_type": "code",
   "execution_count": 57,
   "metadata": {},
   "outputs": [
    {
     "data": {
      "text/plain": [
       "array([6.79639808, 6.72041199])"
      ]
     },
     "execution_count": 57,
     "metadata": {},
     "output_type": "execute_result"
    }
   ],
   "source": [
    "y_pred = lm.predict(pca_test[:,0:4])\n",
    "y_pred"
   ]
  },
  {
   "cell_type": "code",
   "execution_count": 58,
   "metadata": {},
   "outputs": [
    {
     "data": {
      "text/plain": [
       "0    6.9541\n",
       "1    6.4979\n",
       "Name: Price, dtype: float64"
      ]
     },
     "execution_count": 58,
     "metadata": {},
     "output_type": "execute_result"
    }
   ],
   "source": [
    "wineTest.Price"
   ]
  },
  {
   "cell_type": "code",
   "execution_count": 59,
   "metadata": {},
   "outputs": [],
   "source": [
    "from sklearn.metrics import r2_score, mean_squared_error"
   ]
  },
  {
   "cell_type": "code",
   "execution_count": 60,
   "metadata": {},
   "outputs": [
    {
     "data": {
      "text/plain": [
       "0.037190741030925754"
      ]
     },
     "execution_count": 60,
     "metadata": {},
     "output_type": "execute_result"
    }
   ],
   "source": [
    "MSE = mean_squared_error(wineTest.Price,y_pred)\n",
    "MSE"
   ]
  },
  {
   "cell_type": "code",
   "execution_count": 61,
   "metadata": {},
   "outputs": [
    {
     "data": {
      "text/plain": [
       "0.07438148206185151"
      ]
     },
     "execution_count": 61,
     "metadata": {},
     "output_type": "execute_result"
    }
   ],
   "source": [
    "SSE = MSE*wineTest.shape[0]\n",
    "SSE"
   ]
  },
  {
   "cell_type": "code",
   "execution_count": 62,
   "metadata": {},
   "outputs": [
    {
     "data": {
      "text/plain": [
       "0.3369268563519997"
      ]
     },
     "execution_count": 62,
     "metadata": {},
     "output_type": "execute_result"
    }
   ],
   "source": [
    "SST = np.sum((wineTest.Price-np.mean(wine.Price))**2)\n",
    "SST"
   ]
  },
  {
   "cell_type": "code",
   "execution_count": 63,
   "metadata": {},
   "outputs": [
    {
     "data": {
      "text/plain": [
       "0.7792355205304784"
      ]
     },
     "execution_count": 63,
     "metadata": {},
     "output_type": "execute_result"
    }
   ],
   "source": [
    "1-SSE/SST"
   ]
  }
 ],
 "metadata": {
  "kernelspec": {
   "display_name": "Python 3",
   "language": "python",
   "name": "python3"
  },
  "language_info": {
   "codemirror_mode": {
    "name": "ipython",
    "version": 3
   },
   "file_extension": ".py",
   "mimetype": "text/x-python",
   "name": "python",
   "nbconvert_exporter": "python",
   "pygments_lexer": "ipython3",
   "version": "3.6.8"
  }
 },
 "nbformat": 4,
 "nbformat_minor": 2
}
