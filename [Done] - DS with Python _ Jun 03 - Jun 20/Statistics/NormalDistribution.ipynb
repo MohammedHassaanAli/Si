{
 "cells": [
  {
   "cell_type": "markdown",
   "metadata": {},
   "source": [
    "# STATISTICS - NORMAL DISTRIBUTION"
   ]
  },
  {
   "cell_type": "code",
   "execution_count": 2,
   "metadata": {},
   "outputs": [],
   "source": [
    "import scipy.stats as stats"
   ]
  },
  {
   "cell_type": "code",
   "execution_count": 2,
   "metadata": {},
   "outputs": [
    {
     "data": {
      "text/plain": [
       "0.8413447460685429"
      ]
     },
     "execution_count": 2,
     "metadata": {},
     "output_type": "execute_result"
    }
   ],
   "source": [
    "#normdist\n",
    "stats.norm.cdf(110,loc = 100, scale = 10)"
   ]
  },
  {
   "cell_type": "code",
   "execution_count": 4,
   "metadata": {},
   "outputs": [
    {
     "name": "stdout",
     "output_type": "stream",
     "text": [
      "0.025920939357843\n",
      "0.025920939357843\n"
     ]
    }
   ],
   "source": [
    "print(stats.norm.cdf(120, loc = 190, scale = 36))\n",
    "z = (120-190)/36\n",
    "print(stats.norm.cdf(z))\n"
   ]
  },
  {
   "cell_type": "code",
   "execution_count": 9,
   "metadata": {},
   "outputs": [
    {
     "data": {
      "text/plain": [
       "(0.84, 1.0)"
      ]
     },
     "execution_count": 9,
     "metadata": {},
     "output_type": "execute_result"
    }
   ],
   "source": [
    "z= (110-100)/10\n",
    "p = stats.norm.cdf(z)\n",
    "round(p,2),z"
   ]
  },
  {
   "cell_type": "code",
   "execution_count": 11,
   "metadata": {},
   "outputs": [
    {
     "data": {
      "text/plain": [
       "(1.0, 110.0)"
      ]
     },
     "execution_count": 11,
     "metadata": {},
     "output_type": "execute_result"
    }
   ],
   "source": [
    "#normsinv\n",
    "z = stats.norm.ppf(p) #key in left tail p\n",
    "#z = (x - mu)/SE\n",
    "#x = mean + z*sigma\n",
    "x = z*10+100\n",
    "z,x"
   ]
  },
  {
   "cell_type": "code",
   "execution_count": 12,
   "metadata": {},
   "outputs": [
    {
     "data": {
      "text/plain": [
       "110.0"
      ]
     },
     "execution_count": 12,
     "metadata": {},
     "output_type": "execute_result"
    }
   ],
   "source": [
    "#norminv\n",
    "stats.norm.ppf(p, loc = 100, scale = 10)"
   ]
  },
  {
   "cell_type": "code",
   "execution_count": 19,
   "metadata": {},
   "outputs": [
    {
     "name": "stdout",
     "output_type": "stream",
     "text": [
      "-1.6448536269514729\n"
     ]
    },
    {
     "data": {
      "text/plain": [
       "(126.44853626951473, 93.55146373048527)"
      ]
     },
     "execution_count": 19,
     "metadata": {},
     "output_type": "execute_result"
    }
   ],
   "source": [
    "#90% confidence interval for the new mean xbar:\n",
    "\n",
    "zcritical = stats.norm.ppf(.05)\n",
    "print(zcritical)\n",
    "#mu1 = xbar - z*SE, mu2 = xbar+ z*SE\n",
    "110 - (zcritical*10), 110 + zcritical*10"
   ]
  },
  {
   "cell_type": "code",
   "execution_count": 20,
   "metadata": {},
   "outputs": [
    {
     "name": "stdout",
     "output_type": "stream",
     "text": [
      "(-1.6448536269514729, 1.6448536269514722)\n",
      "(93.55146373048527, 126.44853626951472)\n"
     ]
    }
   ],
   "source": [
    "#confidence interval for the new mean xbar\n",
    "print(stats.norm.interval(.9))\n",
    "print(stats.norm.interval(.9, loc = 110, scale = 10))"
   ]
  }
 ],
 "metadata": {
  "kernelspec": {
   "display_name": "Python 3",
   "language": "python",
   "name": "python3"
  },
  "language_info": {
   "codemirror_mode": {
    "name": "ipython",
    "version": 3
   },
   "file_extension": ".py",
   "mimetype": "text/x-python",
   "name": "python",
   "nbconvert_exporter": "python",
   "pygments_lexer": "ipython3",
   "version": "3.6.8"
  }
 },
 "nbformat": 4,
 "nbformat_minor": 2
}
