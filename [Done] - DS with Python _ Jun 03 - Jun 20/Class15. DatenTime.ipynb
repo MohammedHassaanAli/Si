{
 "cells": [
  {
   "cell_type": "markdown",
   "metadata": {},
   "source": [
    "## Date and Time\n",
    "\n",
    "epoch: start of time in seconds (starting from Jan 1st, 1970)\n",
    "using ctime() from the time() module\n",
    "using datetime classes from datetime() module\n",
    "\n",
    "- current date and time\n",
    "- combine date and time\n",
    "- compare dates and time\n",
    "- sleep() - sys into sleep\n",
    "- perf_counter()- to understand the performance of python programme\n"
   ]
  },
  {
   "cell_type": "code",
   "execution_count": 1,
   "metadata": {},
   "outputs": [
    {
     "name": "stdout",
     "output_type": "stream",
     "text": [
      "1560698201.9257953\n",
      "Sun Jun 16 20:46:41 2019\n"
     ]
    }
   ],
   "source": [
    "import time #importing time module\n",
    "epochseconds = time.time()\n",
    "print(epochseconds) #this is the number of seconds from the start of time i.e jan 1, 1970\n",
    "\n",
    "t= time.ctime(epochseconds) #this gives the current time as per the sytem\n",
    "print(t)"
   ]
  },
  {
   "cell_type": "code",
   "execution_count": 2,
   "metadata": {},
   "outputs": [
    {
     "name": "stdout",
     "output_type": "stream",
     "text": [
      "2019-06-16 20:46:52.706815\n",
      "16 6 2019\n",
      "20 46 52\n",
      "Current Date: 16/6/2019\n",
      "Current Time:20:0001-01-01 00:00:00:52\n"
     ]
    }
   ],
   "source": [
    "#from datetime import *\n",
    "import datetime\n",
    "dt = datetime.datetime.today()\n",
    "print(dt) #gives date time and mili-seconds\n",
    "print(dt.day, dt.month, dt.year)\n",
    "print(dt.hour, dt.minute, dt.second)\n",
    "\n",
    "#To nicely format the date\n",
    "print('Current Date: {}/{}/{}'.format(dt.day, dt.month, dt.year))\n",
    "print('Current Time:{}:{}:{}'.format(dt.hour, dt.min, dt.second))"
   ]
  },
  {
   "cell_type": "code",
   "execution_count": 46,
   "metadata": {},
   "outputs": [
    {
     "name": "stdout",
     "output_type": "stream",
     "text": [
      "2018-07-21\n",
      "12:45:00\n",
      "2018-07-21 12:45:00\n"
     ]
    }
   ],
   "source": [
    "#if we want to combine date and time\n",
    "#import datetime\n",
    "from datetime import * # to import all the functions in datetime module\n",
    "d = date(2018,7,21)\n",
    "print(d)\n",
    "t = time(12, 45)\n",
    "print(t)\n",
    "\n",
    "dt = datetime.combine(d,t)\n",
    "print(dt)"
   ]
  },
  {
   "cell_type": "code",
   "execution_count": 48,
   "metadata": {},
   "outputs": [
    {
     "name": "stdout",
     "output_type": "stream",
     "text": [
      "2016-07-12\n",
      "2016-08-12\n",
      "2018-08-12\n"
     ]
    }
   ],
   "source": [
    "#Sorting dates\n",
    "\n",
    "from datetime import * #here we don't need to import all functions, we can only import date\n",
    "#from datetime import date #works as well\n",
    "\n",
    "ldates = [] #empty list\n",
    "\n",
    "d1=date(2016,8,12)\n",
    "d2=date(2016,7,12)\n",
    "d3=date(2018,8,12)\n",
    "\n",
    "ldates.append(d1)\n",
    "ldates.append(d2)\n",
    "ldates.append(d3)\n",
    "\n",
    "ldates.sort()\n",
    "\n",
    "for d in ldates:\n",
    "    print(d)"
   ]
  },
  {
   "cell_type": "code",
   "execution_count": 55,
   "metadata": {},
   "outputs": [
    {
     "name": "stdout",
     "output_type": "stream",
     "text": [
      "Now we'll make the sys to sleep for 10s\n",
      "2016-07-12\n",
      "2016-08-12\n",
      "2018-08-12\n"
     ]
    }
   ],
   "source": [
    "#sleep() - how to send your program to temp sleep - sleep fn in time module\n",
    "\n",
    "\n",
    "#from time import sleep #importing sleep method from time module\n",
    "# or \n",
    "from datetime import * #here we don't need to import all functions, we can only import date\n",
    "\n",
    "#from datetime import date #works as well\n",
    "\n",
    "import time #then we'll do time.sleep \n",
    "#if we put import.time on the top, it gives error ----------------------Y?\n",
    "\n",
    "ldates = [] #empty list\n",
    "or ldates = list()\n",
    "\n",
    "d1=date(2016,8,12)\n",
    "d2=date(2016,7,12)\n",
    "d3=date(2018,8,12)\n",
    "\n",
    "ldates.append(d1)\n",
    "ldates.append(d2)\n",
    "ldates.append(d3)\n",
    "\n",
    "ldates.sort()\n",
    "print(\"Now we'll make the sys to sleep for 10s\")\n",
    "#sleep(10) #so it will sleep for 10 seconds before displaying the dates\n",
    "time.sleep(10)\n",
    "for d in ldates:\n",
    "    print(d)\n",
    "    \n"
   ]
  },
  {
   "cell_type": "code",
   "execution_count": 3,
   "metadata": {},
   "outputs": [
    {
     "name": "stdout",
     "output_type": "stream",
     "text": [
      "Now we'll make the sys to sleep for 5s\n",
      "2016-07-12\n",
      "2016-08-12\n",
      "2018-08-12\n",
      "Execution Time =  5.002892427767789\n"
     ]
    }
   ],
   "source": [
    "#to find the performance of the program, we'll use a method from time module called: perf_counter()\n",
    "\n",
    "#from time import sleep #importing sleep method from time module\n",
    "# or \n",
    "from datetime import * #here we don't need to import all functions, we can only import date\n",
    "\n",
    "#from datetime import date #works as well\n",
    "\n",
    "import time #then we'll do time.sleep \n",
    "\n",
    "START_TIME = time.perf_counter()\n",
    "\n",
    "ldates = [] #empty list\n",
    "\n",
    "d1=date(2016,8,12)\n",
    "d2=date(2016,7,12)\n",
    "d3=date(2018,8,12)\n",
    "\n",
    "ldates.append(d1)\n",
    "ldates.append(d2)\n",
    "ldates.append(d3)\n",
    "\n",
    "ldates.sort()\n",
    "print(\"Now we'll make the sys to sleep for 5s\")\n",
    "#sleep(5) #so it will sleep for 5 seconds before displaying the dates\n",
    "time.sleep(5)\n",
    "for d in ldates:\n",
    "    print(d)\n",
    "    \n",
    "END_TIME = time.perf_counter()\n",
    "print(\"Execution Time = \", END_TIME - START_TIME)"
   ]
  }
 ],
 "metadata": {
  "kernelspec": {
   "display_name": "Python 3",
   "language": "python",
   "name": "python3"
  },
  "language_info": {
   "codemirror_mode": {
    "name": "ipython",
    "version": 3
   },
   "file_extension": ".py",
   "mimetype": "text/x-python",
   "name": "python",
   "nbconvert_exporter": "python",
   "pygments_lexer": "ipython3",
   "version": "3.6.8"
  }
 },
 "nbformat": 4,
 "nbformat_minor": 2
}
